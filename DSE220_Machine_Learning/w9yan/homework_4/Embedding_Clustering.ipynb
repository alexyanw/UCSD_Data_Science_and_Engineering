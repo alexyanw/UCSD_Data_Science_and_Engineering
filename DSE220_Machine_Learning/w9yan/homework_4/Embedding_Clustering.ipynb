{
 "cells": [
  {
   "cell_type": "markdown",
   "metadata": {},
   "source": [
    "## Homework 4 - DSE 220: Machine Learning\n",
    "English words embedding and clustering\n",
    "* data preprocessing\n",
    "* embedding\n",
    "* nearest neighbor\n",
    "* Clustering"
   ]
  },
  {
   "cell_type": "markdown",
   "metadata": {},
   "source": [
    "### data preprocessing ###\n",
    "\n",
    "**1**. First, download the Brown corpus (using nltk.corpus). This is a collection of text samples from a wide range of sources, with a total of over a million words. Calling brown.words() returns this text in one long list, which is useful."
   ]
  },
  {
   "cell_type": "code",
   "execution_count": 1,
   "metadata": {},
   "outputs": [],
   "source": [
    "from nltk.corpus import brown\n",
    "import nltk\n",
    "nltk.data.path.append(\"c:/wenyan/dse/w9yan/nltk_data\")\n",
    "#nltk.download()\n",
    "brown_words = brown.words()"
   ]
  },
  {
   "cell_type": "markdown",
   "metadata": {},
   "source": [
    "**2**. Remove stopwords and punctuation, make everything lowercase, and count how often each word occurs. Use this to come up with two lists:\n",
    "* A vocabulary V , consisting of a few thousand (e.g., 5000) of the most commonly-occurring words.\n",
    "* A shorter list C of at most 1000 of the most commonly-occurring words, which we shall call context words."
   ]
  },
  {
   "cell_type": "code",
   "execution_count": 2,
   "metadata": {},
   "outputs": [],
   "source": [
    "import re\n",
    "stopwords = nltk.corpus.stopwords.words('english')\n",
    "valid_words = [w.lower() for w in brown_words if w.lower() not in stopwords and re.search('^[a-z]+$', w.lower()) ]"
   ]
  },
  {
   "cell_type": "code",
   "execution_count": 3,
   "metadata": {},
   "outputs": [],
   "source": [
    "from collections import Counter\n",
    "word_cnt = Counter(valid_words)\n",
    "vocabulary_count = word_cnt.most_common(5000)\n",
    "context_count = word_cnt.most_common(1000)\n",
    "vocabulary = [word[0] for word in vocabulary_count]\n",
    "context = [word[0] for word in context_count]"
   ]
  },
  {
   "cell_type": "markdown",
   "metadata": {},
   "source": [
    "**3**. For each word w in V , and each occurrence of it in the text stream, look at the surrounding window of four words (two before, two after): w1 w2 w w3 w4.\n",
    "\n",
    "Keep count of how often context words from C appear in these positions around word w. That is, for w in V , c in C, define n(w,c) = # of times c occurs in a window around w.\n",
    "\n",
    "Using these counts, construct the probability distribution Pr(c|w) of context words around w (for each w in V ), as well as the overall distribution Pr(c) of context words. These are distributions over C.\n"
   ]
  },
  {
   "cell_type": "code",
   "execution_count": 4,
   "metadata": {},
   "outputs": [],
   "source": [
    "count_c_around_w = {(w,c):0 for w in vocabulary for c in context}\n",
    "context_dict = {c:True for c in context}\n",
    "vocabulary_dict = {w:True for w in vocabulary}\n",
    "for i in range(2, len(valid_words)-2):\n",
    "    c = [0 for i in range(4)]\n",
    "    c[0],c[1],w,c[2],c[3] = valid_words[i-2:i+3]\n",
    "    if w not in vocabulary_dict: continue\n",
    "    for i in range(4):\n",
    "        if c[i] in context_dict:\n",
    "            count_c_around_w[(w,c[i])] += 1\n",
    "            \n",
    "# deal with 1st two and last two\n",
    "l = len(valid_words)\n",
    "for j in [0,1,l-2,l-1]:\n",
    "    w = valid_words[j]\n",
    "    if w not in vocabulary_dict: continue\n",
    "    for i in range(j+1,j+3):\n",
    "        if i >= l: break\n",
    "        c = valid_words[i]\n",
    "        if c in context_dict:\n",
    "            count_c_around_w[(w,c)] += 1\n",
    "    for i in range(j-2,j):\n",
    "        if i < 0: break\n",
    "        c = valid_words[i]\n",
    "        if c in context_dict:\n",
    "            count_c_around_w[(w,c)] += 1\n"
   ]
  },
  {
   "cell_type": "code",
   "execution_count": 5,
   "metadata": {
    "collapsed": true
   },
   "outputs": [],
   "source": [
    "# P(c)=∑wn(w,c)/∑c′∑wn(w,c′)\n",
    "# P(c|w)=n(w,c)/∑c′n(w,c′)\n",
    "total_per_vocabulary = {w:0 for w in vocabulary}\n",
    "for (w,c) in count_c_around_w:\n",
    "    total_per_vocabulary[w] += count_c_around_w[(w,c)]\n",
    "# plus 1 smoothing for Pr(c|w)\n",
    "prob_c_under_w = {(w,c): count_c_around_w[(w,c)]+1 / total_per_vocabulary[w]+1000 for w in vocabulary for c in context}\n",
    "\n",
    "total_per_context = {c:0 for c in context}\n",
    "for (w,c) in count_c_around_w:\n",
    "    total_per_context[c] += count_c_around_w[(w,c)]\n",
    "total_occurance = sum(total_per_vocabulary.values())\n",
    "prob_context = {c: total_per_context[c]/total_occurance for c in context}"
   ]
  },
  {
   "cell_type": "markdown",
   "metadata": {},
   "source": [
    "**4**. Represent each vocabulary item w by a |C|-dimensional vector psi(w), whose c'th coordinate is: \n",
    "\n",
    "psi(w) = max(0, log(Pr(c|w)/Pr(c)))\n",
    "\n",
    "This is known as the (positive) pointwise mutual information, and has been quite successful in work on word embedding."
   ]
  },
  {
   "cell_type": "code",
   "execution_count": 6,
   "metadata": {},
   "outputs": [],
   "source": [
    "from math import log\n",
    "import pandas as pd\n",
    "\n",
    "def make_vector(w):\n",
    "    return [max(0, log(prob_c_under_w[(w,c)]/prob_context[c])) for c in context]\n",
    "\n",
    "vector_vocabulary = [[w]+make_vector(w) for w in vocabulary]\n",
    "\n",
    "X = pd.DataFrame(vector_vocabulary)\n",
    "X.columns = ['w']+context"
   ]
  },
  {
   "cell_type": "code",
   "execution_count": 7,
   "metadata": {},
   "outputs": [
    {
     "data": {
      "text/html": [
       "<div>\n",
       "<table border=\"1\" class=\"dataframe\">\n",
       "  <thead>\n",
       "    <tr style=\"text-align: right;\">\n",
       "      <th></th>\n",
       "      <th>one</th>\n",
       "      <th>would</th>\n",
       "      <th>said</th>\n",
       "      <th>new</th>\n",
       "      <th>could</th>\n",
       "      <th>time</th>\n",
       "      <th>two</th>\n",
       "      <th>may</th>\n",
       "      <th>first</th>\n",
       "      <th>like</th>\n",
       "      <th>...</th>\n",
       "      <th>lord</th>\n",
       "      <th>success</th>\n",
       "      <th>remain</th>\n",
       "      <th>principal</th>\n",
       "      <th>leadership</th>\n",
       "      <th>jack</th>\n",
       "      <th>obvious</th>\n",
       "      <th>fell</th>\n",
       "      <th>thin</th>\n",
       "      <th>pieces</th>\n",
       "    </tr>\n",
       "  </thead>\n",
       "  <tbody>\n",
       "    <tr>\n",
       "      <th>0</th>\n",
       "      <td>11.253008</td>\n",
       "      <td>11.429298</td>\n",
       "      <td>11.771546</td>\n",
       "      <td>11.879305</td>\n",
       "      <td>11.917345</td>\n",
       "      <td>11.923118</td>\n",
       "      <td>12.109214</td>\n",
       "      <td>12.062338</td>\n",
       "      <td>12.061258</td>\n",
       "      <td>12.208432</td>\n",
       "      <td>...</td>\n",
       "      <td>14.787721</td>\n",
       "      <td>14.713512</td>\n",
       "      <td>14.732785</td>\n",
       "      <td>14.729970</td>\n",
       "      <td>14.731785</td>\n",
       "      <td>14.808154</td>\n",
       "      <td>14.684853</td>\n",
       "      <td>14.796544</td>\n",
       "      <td>14.848437</td>\n",
       "      <td>14.767510</td>\n",
       "    </tr>\n",
       "    <tr>\n",
       "      <th>1</th>\n",
       "      <td>11.244686</td>\n",
       "      <td>11.422777</td>\n",
       "      <td>11.780935</td>\n",
       "      <td>11.871485</td>\n",
       "      <td>11.889525</td>\n",
       "      <td>11.892639</td>\n",
       "      <td>12.046635</td>\n",
       "      <td>12.016544</td>\n",
       "      <td>12.047679</td>\n",
       "      <td>12.250911</td>\n",
       "      <td>...</td>\n",
       "      <td>14.783741</td>\n",
       "      <td>14.712514</td>\n",
       "      <td>14.739753</td>\n",
       "      <td>14.724982</td>\n",
       "      <td>14.731785</td>\n",
       "      <td>14.810148</td>\n",
       "      <td>14.681858</td>\n",
       "      <td>14.791557</td>\n",
       "      <td>14.847437</td>\n",
       "      <td>14.766511</td>\n",
       "    </tr>\n",
       "    <tr>\n",
       "      <th>2</th>\n",
       "      <td>11.228775</td>\n",
       "      <td>11.422777</td>\n",
       "      <td>11.752497</td>\n",
       "      <td>11.860632</td>\n",
       "      <td>11.895345</td>\n",
       "      <td>11.879007</td>\n",
       "      <td>12.037790</td>\n",
       "      <td>12.031388</td>\n",
       "      <td>12.034902</td>\n",
       "      <td>12.196793</td>\n",
       "      <td>...</td>\n",
       "      <td>14.786728</td>\n",
       "      <td>14.711514</td>\n",
       "      <td>14.731785</td>\n",
       "      <td>14.725982</td>\n",
       "      <td>14.732785</td>\n",
       "      <td>14.814124</td>\n",
       "      <td>14.684854</td>\n",
       "      <td>14.792556</td>\n",
       "      <td>14.850433</td>\n",
       "      <td>14.766511</td>\n",
       "    </tr>\n",
       "    <tr>\n",
       "      <th>3</th>\n",
       "      <td>11.197148</td>\n",
       "      <td>11.373940</td>\n",
       "      <td>11.721245</td>\n",
       "      <td>11.910932</td>\n",
       "      <td>11.868886</td>\n",
       "      <td>11.875078</td>\n",
       "      <td>12.035813</td>\n",
       "      <td>12.019530</td>\n",
       "      <td>12.045724</td>\n",
       "      <td>12.179076</td>\n",
       "      <td>...</td>\n",
       "      <td>14.780746</td>\n",
       "      <td>14.712514</td>\n",
       "      <td>14.731785</td>\n",
       "      <td>14.725982</td>\n",
       "      <td>14.732785</td>\n",
       "      <td>14.807155</td>\n",
       "      <td>14.681858</td>\n",
       "      <td>14.791557</td>\n",
       "      <td>14.848437</td>\n",
       "      <td>14.766511</td>\n",
       "    </tr>\n",
       "    <tr>\n",
       "      <th>4</th>\n",
       "      <td>11.225941</td>\n",
       "      <td>11.382733</td>\n",
       "      <td>11.746712</td>\n",
       "      <td>11.859639</td>\n",
       "      <td>11.879750</td>\n",
       "      <td>11.883897</td>\n",
       "      <td>12.035813</td>\n",
       "      <td>12.017540</td>\n",
       "      <td>12.033913</td>\n",
       "      <td>12.186003</td>\n",
       "      <td>...</td>\n",
       "      <td>14.782744</td>\n",
       "      <td>14.714510</td>\n",
       "      <td>14.731785</td>\n",
       "      <td>14.724982</td>\n",
       "      <td>14.732785</td>\n",
       "      <td>14.810148</td>\n",
       "      <td>14.682858</td>\n",
       "      <td>14.791557</td>\n",
       "      <td>14.848437</td>\n",
       "      <td>14.767510</td>\n",
       "    </tr>\n",
       "    <tr>\n",
       "      <th>5</th>\n",
       "      <td>11.234420</td>\n",
       "      <td>11.388553</td>\n",
       "      <td>11.733079</td>\n",
       "      <td>11.868537</td>\n",
       "      <td>11.886603</td>\n",
       "      <td>11.959954</td>\n",
       "      <td>12.036802</td>\n",
       "      <td>12.032370</td>\n",
       "      <td>12.103698</td>\n",
       "      <td>12.189940</td>\n",
       "      <td>...</td>\n",
       "      <td>14.781746</td>\n",
       "      <td>14.711514</td>\n",
       "      <td>14.733783</td>\n",
       "      <td>14.725982</td>\n",
       "      <td>14.732785</td>\n",
       "      <td>14.806156</td>\n",
       "      <td>14.682858</td>\n",
       "      <td>14.791557</td>\n",
       "      <td>14.847437</td>\n",
       "      <td>14.766511</td>\n",
       "    </tr>\n",
       "    <tr>\n",
       "      <th>6</th>\n",
       "      <td>11.254848</td>\n",
       "      <td>11.376880</td>\n",
       "      <td>11.726193</td>\n",
       "      <td>11.863603</td>\n",
       "      <td>11.872850</td>\n",
       "      <td>11.871133</td>\n",
       "      <td>12.040747</td>\n",
       "      <td>12.023499</td>\n",
       "      <td>12.074656</td>\n",
       "      <td>12.182051</td>\n",
       "      <td>...</td>\n",
       "      <td>14.780746</td>\n",
       "      <td>14.711514</td>\n",
       "      <td>14.734781</td>\n",
       "      <td>14.729970</td>\n",
       "      <td>14.731785</td>\n",
       "      <td>14.806156</td>\n",
       "      <td>14.683856</td>\n",
       "      <td>14.791557</td>\n",
       "      <td>14.849435</td>\n",
       "      <td>14.776461</td>\n",
       "    </tr>\n",
       "    <tr>\n",
       "      <th>7</th>\n",
       "      <td>11.219297</td>\n",
       "      <td>11.358114</td>\n",
       "      <td>11.731117</td>\n",
       "      <td>11.858646</td>\n",
       "      <td>11.865902</td>\n",
       "      <td>11.878026</td>\n",
       "      <td>12.034824</td>\n",
       "      <td>12.052769</td>\n",
       "      <td>12.032922</td>\n",
       "      <td>12.174098</td>\n",
       "      <td>...</td>\n",
       "      <td>14.781746</td>\n",
       "      <td>14.716502</td>\n",
       "      <td>14.732785</td>\n",
       "      <td>14.725982</td>\n",
       "      <td>14.732785</td>\n",
       "      <td>14.806156</td>\n",
       "      <td>14.683856</td>\n",
       "      <td>14.792557</td>\n",
       "      <td>14.847437</td>\n",
       "      <td>14.769507</td>\n",
       "    </tr>\n",
       "    <tr>\n",
       "      <th>8</th>\n",
       "      <td>11.207802</td>\n",
       "      <td>11.378835</td>\n",
       "      <td>11.724217</td>\n",
       "      <td>11.874425</td>\n",
       "      <td>11.871861</td>\n",
       "      <td>11.938939</td>\n",
       "      <td>12.075566</td>\n",
       "      <td>12.022508</td>\n",
       "      <td>12.039836</td>\n",
       "      <td>12.177088</td>\n",
       "      <td>...</td>\n",
       "      <td>14.783742</td>\n",
       "      <td>14.712514</td>\n",
       "      <td>14.731785</td>\n",
       "      <td>14.725982</td>\n",
       "      <td>14.732785</td>\n",
       "      <td>14.807155</td>\n",
       "      <td>14.685850</td>\n",
       "      <td>14.792557</td>\n",
       "      <td>14.847437</td>\n",
       "      <td>14.767510</td>\n",
       "    </tr>\n",
       "    <tr>\n",
       "      <th>9</th>\n",
       "      <td>11.206838</td>\n",
       "      <td>11.433930</td>\n",
       "      <td>11.737969</td>\n",
       "      <td>11.859639</td>\n",
       "      <td>11.875813</td>\n",
       "      <td>11.877044</td>\n",
       "      <td>12.034824</td>\n",
       "      <td>12.015546</td>\n",
       "      <td>12.028950</td>\n",
       "      <td>12.178083</td>\n",
       "      <td>...</td>\n",
       "      <td>14.782744</td>\n",
       "      <td>14.712514</td>\n",
       "      <td>14.731785</td>\n",
       "      <td>14.724983</td>\n",
       "      <td>14.731785</td>\n",
       "      <td>14.809151</td>\n",
       "      <td>14.682858</td>\n",
       "      <td>14.792557</td>\n",
       "      <td>14.851430</td>\n",
       "      <td>14.766511</td>\n",
       "    </tr>\n",
       "    <tr>\n",
       "      <th>10</th>\n",
       "      <td>11.230660</td>\n",
       "      <td>11.382734</td>\n",
       "      <td>11.749609</td>\n",
       "      <td>11.861623</td>\n",
       "      <td>11.899206</td>\n",
       "      <td>11.871133</td>\n",
       "      <td>12.033833</td>\n",
       "      <td>12.023499</td>\n",
       "      <td>12.033913</td>\n",
       "      <td>12.201659</td>\n",
       "      <td>...</td>\n",
       "      <td>14.781746</td>\n",
       "      <td>14.711514</td>\n",
       "      <td>14.731785</td>\n",
       "      <td>14.724983</td>\n",
       "      <td>14.732785</td>\n",
       "      <td>14.806156</td>\n",
       "      <td>14.682858</td>\n",
       "      <td>14.791557</td>\n",
       "      <td>14.854413</td>\n",
       "      <td>14.766511</td>\n",
       "    </tr>\n",
       "  </tbody>\n",
       "</table>\n",
       "<p>11 rows × 1000 columns</p>\n",
       "</div>"
      ],
      "text/plain": [
       "          one      would       said        new      could       time  \\\n",
       "0   11.253008  11.429298  11.771546  11.879305  11.917345  11.923118   \n",
       "1   11.244686  11.422777  11.780935  11.871485  11.889525  11.892639   \n",
       "2   11.228775  11.422777  11.752497  11.860632  11.895345  11.879007   \n",
       "3   11.197148  11.373940  11.721245  11.910932  11.868886  11.875078   \n",
       "4   11.225941  11.382733  11.746712  11.859639  11.879750  11.883897   \n",
       "5   11.234420  11.388553  11.733079  11.868537  11.886603  11.959954   \n",
       "6   11.254848  11.376880  11.726193  11.863603  11.872850  11.871133   \n",
       "7   11.219297  11.358114  11.731117  11.858646  11.865902  11.878026   \n",
       "8   11.207802  11.378835  11.724217  11.874425  11.871861  11.938939   \n",
       "9   11.206838  11.433930  11.737969  11.859639  11.875813  11.877044   \n",
       "10  11.230660  11.382734  11.749609  11.861623  11.899206  11.871133   \n",
       "\n",
       "          two        may      first       like    ...           lord  \\\n",
       "0   12.109214  12.062338  12.061258  12.208432    ...      14.787721   \n",
       "1   12.046635  12.016544  12.047679  12.250911    ...      14.783741   \n",
       "2   12.037790  12.031388  12.034902  12.196793    ...      14.786728   \n",
       "3   12.035813  12.019530  12.045724  12.179076    ...      14.780746   \n",
       "4   12.035813  12.017540  12.033913  12.186003    ...      14.782744   \n",
       "5   12.036802  12.032370  12.103698  12.189940    ...      14.781746   \n",
       "6   12.040747  12.023499  12.074656  12.182051    ...      14.780746   \n",
       "7   12.034824  12.052769  12.032922  12.174098    ...      14.781746   \n",
       "8   12.075566  12.022508  12.039836  12.177088    ...      14.783742   \n",
       "9   12.034824  12.015546  12.028950  12.178083    ...      14.782744   \n",
       "10  12.033833  12.023499  12.033913  12.201659    ...      14.781746   \n",
       "\n",
       "      success     remain  principal  leadership       jack    obvious  \\\n",
       "0   14.713512  14.732785  14.729970   14.731785  14.808154  14.684853   \n",
       "1   14.712514  14.739753  14.724982   14.731785  14.810148  14.681858   \n",
       "2   14.711514  14.731785  14.725982   14.732785  14.814124  14.684854   \n",
       "3   14.712514  14.731785  14.725982   14.732785  14.807155  14.681858   \n",
       "4   14.714510  14.731785  14.724982   14.732785  14.810148  14.682858   \n",
       "5   14.711514  14.733783  14.725982   14.732785  14.806156  14.682858   \n",
       "6   14.711514  14.734781  14.729970   14.731785  14.806156  14.683856   \n",
       "7   14.716502  14.732785  14.725982   14.732785  14.806156  14.683856   \n",
       "8   14.712514  14.731785  14.725982   14.732785  14.807155  14.685850   \n",
       "9   14.712514  14.731785  14.724983   14.731785  14.809151  14.682858   \n",
       "10  14.711514  14.731785  14.724983   14.732785  14.806156  14.682858   \n",
       "\n",
       "         fell       thin     pieces  \n",
       "0   14.796544  14.848437  14.767510  \n",
       "1   14.791557  14.847437  14.766511  \n",
       "2   14.792556  14.850433  14.766511  \n",
       "3   14.791557  14.848437  14.766511  \n",
       "4   14.791557  14.848437  14.767510  \n",
       "5   14.791557  14.847437  14.766511  \n",
       "6   14.791557  14.849435  14.776461  \n",
       "7   14.792557  14.847437  14.769507  \n",
       "8   14.792557  14.847437  14.767510  \n",
       "9   14.792557  14.851430  14.766511  \n",
       "10  14.791557  14.854413  14.766511  \n",
       "\n",
       "[11 rows x 1000 columns]"
      ]
     },
     "execution_count": 7,
     "metadata": {},
     "output_type": "execute_result"
    }
   ],
   "source": [
    "X.ix[:10,1:]"
   ]
  },
  {
   "cell_type": "markdown",
   "metadata": {},
   "source": [
    "### Embedding ###\n",
    "- Suppose we want a 100-dimensional representation. How would you achieve this?\n",
    "\n",
    "Tried both SVD and PCA although SVD is my choice."
   ]
  },
  {
   "cell_type": "code",
   "execution_count": 8,
   "metadata": {
    "collapsed": true
   },
   "outputs": [],
   "source": [
    "#SVD\n",
    "from sklearn.decomposition import TruncatedSVD\n",
    "svd = TruncatedSVD(n_components=100, random_state=42)\n",
    "X_svd = svd.fit_transform(X.ix[:,1:]) \n",
    "\n",
    "# PCA\n",
    "from sklearn.decomposition import PCA\n",
    "pca = PCA(n_components=100)\n",
    "X_pca = pca.fit_transform(X.ix[:,1:])"
   ]
  },
  {
   "cell_type": "markdown",
   "metadata": {},
   "source": [
    "**6**. Investigate the resulting embedding in two ways:\n",
    "* Try finding the nearest neighbor of selected words. Do the answers make sense?\n",
    "* Cluster the vocabulary into 100 clusters. Look them over; do they seem completely random, or is there some sense to them?"
   ]
  },
  {
   "cell_type": "markdown",
   "metadata": {},
   "source": [
    "### Nearest neighbor results ###\n",
    "\n",
    "Pick a collection of 25 words w from V. For each w, return its nearest neighbor w0 != w in V. A popular distance measure to use for this is cosine distance:\n",
    "\n",
    "1 -\tpsi(w).psi(w0) / (||psi(w)|| * ||psi(w0)||)\n",
    "\n",
    "Here are some suggestions for words you might choose:\n",
    "communism, autumn, cigarette, pulmonary, mankind, africa, chicago, rev-\n",
    "olution, september, chemical, detergent, dictionary, storm, worship\n",
    "\n",
    "Do the results make any sense? You can use other distance measures apart from cosine distance to improve the results. (20 marks)"
   ]
  },
  {
   "cell_type": "code",
   "execution_count": 9,
   "metadata": {
    "collapsed": true
   },
   "outputs": [],
   "source": [
    "import numpy as np\n",
    "check_words = ['communism', 'autumn', 'cigarette', 'pulmonary', 'mankind', 'africa', 'chicago', 'revolution', 'september', 'chemical', 'detergent', 'dictionary', 'storm', 'worship', 'war', 'problem', 'wall', 'department', 'society', 'company', 'college', 'public', 'money', 'wife', 'wanted']\n",
    "check_words_index = [vocabulary.index(w) for w in check_words]\n",
    "\n",
    "def compute_distance(v0, v1):\n",
    "    dist= 1 - np.dot(v0,v1) / (np.linalg.norm(v0) * np.linalg.norm(v1))\n",
    "    return dist\n",
    "\n",
    "def find_nearest_neighbor(X):\n",
    "    for j in check_words_index:\n",
    "        nearest_neighbor = -1\n",
    "        nearest_dist = 1000\n",
    "        v0 = X[j]\n",
    "        w0 = vocabulary[j]\n",
    "        for i in range(len(vocabulary)):\n",
    "            if i == j: continue\n",
    "            v1 = X[i]\n",
    "            dist = compute_distance(v0, v1)\n",
    "            if dist < nearest_dist:\n",
    "                nearest_dist = dist\n",
    "                nearest_neighbor = i\n",
    "        w1 = vocabulary[nearest_neighbor]\n",
    "        print(\"nearest neighbor of {} - {}\".format(w0, w1))"
   ]
  },
  {
   "cell_type": "code",
   "execution_count": 10,
   "metadata": {},
   "outputs": [
    {
     "name": "stdout",
     "output_type": "stream",
     "text": [
      "nearest neighbor of communism - losing\n",
      "nearest neighbor of autumn - tournament\n",
      "nearest neighbor of cigarette - pitch\n",
      "nearest neighbor of pulmonary - disk\n",
      "nearest neighbor of mankind - judgments\n",
      "nearest neighbor of africa - carolina\n",
      "nearest neighbor of chicago - university\n",
      "nearest neighbor of revolution - journey\n",
      "nearest neighbor of september - january\n",
      "nearest neighbor of chemical - symbolic\n",
      "nearest neighbor of detergent - fabrics\n",
      "nearest neighbor of dictionary - text\n",
      "nearest neighbor of storm - weekend\n",
      "nearest neighbor of worship - skywave\n",
      "nearest neighbor of war - free\n",
      "nearest neighbor of problem - fact\n",
      "nearest neighbor of wall - street\n",
      "nearest neighbor of department - welfare\n",
      "nearest neighbor of society - community\n",
      "nearest neighbor of company - power\n",
      "nearest neighbor of college - university\n",
      "nearest neighbor of public - education\n",
      "nearest neighbor of money - better\n",
      "nearest neighbor of wife - woman\n",
      "nearest neighbor of wanted - want\n"
     ]
    }
   ],
   "source": [
    "find_nearest_neighbor(X_pca)"
   ]
  },
  {
   "cell_type": "code",
   "execution_count": 11,
   "metadata": {},
   "outputs": [
    {
     "name": "stdout",
     "output_type": "stream",
     "text": [
      "nearest neighbor of communism - losing\n",
      "nearest neighbor of autumn - tournament\n",
      "nearest neighbor of cigarette - pitch\n",
      "nearest neighbor of pulmonary - disk\n",
      "nearest neighbor of mankind - defeat\n",
      "nearest neighbor of africa - carolina\n",
      "nearest neighbor of chicago - carleton\n",
      "nearest neighbor of revolution - resumed\n",
      "nearest neighbor of september - january\n",
      "nearest neighbor of chemical - description\n",
      "nearest neighbor of detergent - mustard\n",
      "nearest neighbor of dictionary - text\n",
      "nearest neighbor of storm - aristotle\n",
      "nearest neighbor of worship - produces\n",
      "nearest neighbor of war - free\n",
      "nearest neighbor of problem - subject\n",
      "nearest neighbor of wall - block\n",
      "nearest neighbor of department - secretary\n",
      "nearest neighbor of society - politics\n",
      "nearest neighbor of company - letters\n",
      "nearest neighbor of college - university\n",
      "nearest neighbor of public - education\n",
      "nearest neighbor of money - drink\n",
      "nearest neighbor of wife - husband\n",
      "nearest neighbor of wanted - maybe\n"
     ]
    }
   ],
   "source": [
    "find_nearest_neighbor(X_svd)"
   ]
  },
  {
   "cell_type": "markdown",
   "metadata": {},
   "source": [
    "### Clustering ###\n",
    "\n",
    "Using the vectorial representation \tpsi(), cluster the words in V into 100 groups. Clearly specify what algorithm and distance function you using for this, and the reasons for your choices.\n",
    "\n",
    "Look over the resulting 100 clusters. Do any of them seem even moderately coherent? Pick out a few of the best clusters and list the words in them. (30 marks)"
   ]
  },
  {
   "cell_type": "markdown",
   "metadata": {},
   "source": [
    "* Both Kmeans++ and EM(GaussianMixture) are tried here although EM is my choice.\n",
    "* For Kmeans++, also tried to find best value for param n_init based on inertia, both embedding of PCA and SVD are experimented with.\n",
    "* For GaussianMixture, tried all covariance type and decided to use 'full' for covariance."
   ]
  },
  {
   "cell_type": "code",
   "execution_count": 12,
   "metadata": {
    "collapsed": true
   },
   "outputs": [],
   "source": [
    "from sklearn.cluster import KMeans\n",
    "import matplotlib.pyplot as plt\n",
    "\n",
    "def check_kmeans_n_init(X):\n",
    "    inertia = []\n",
    "    n_init_list = np.arange(1,30,5)\n",
    "\n",
    "    for n in n_init_list: \n",
    "        k_means = KMeans(n_clusters=100, n_init=n, init='k-means++', random_state=5) \n",
    "        k_means.fit(X)\n",
    "        inertia.append(k_means.inertia_)\n",
    "    plt.plot(n_init_list, inertia)\n",
    "    plt.show()\n",
    "\n",
    "def group_with_kmeans(X, n):\n",
    "    inertia = []\n",
    "    k_means = KMeans(n_clusters=100, n_init=n, init='k-means++', random_state=5) \n",
    "    k_means.fit(X)\n",
    "    return k_means.labels_"
   ]
  },
  {
   "cell_type": "code",
   "execution_count": 13,
   "metadata": {},
   "outputs": [
    {
     "data": {
      "image/png": "[encoded data removed]",
      "text/plain": [
       "<matplotlib.figure.Figure at 0x132c7bad2b0>"
      ]
     },
     "metadata": {},
     "output_type": "display_data"
    }
   ],
   "source": [
    "check_kmeans_n_init(X_svd)"
   ]
  },
  {
   "cell_type": "code",
   "execution_count": 15,
   "metadata": {},
   "outputs": [
    {
     "name": "stdout",
     "output_type": "stream",
     "text": [
      "['never', 'know', 'say', 'think']\n",
      "['government', 'president', 'america', 'nations']\n",
      "['later', 'several', 'four', 'five', 'past', 'six', 'ten']\n",
      "['small', 'general', 'less', 'enough', 'far', 'end', 'order', 'possible', 'early', 'case', 'need', 'become', 'perhaps', 'seem']\n",
      "['system', 'social', 'political', 'economic']\n",
      "['around', 'went', 'got', 'going']\n",
      "['american', 'part', 'number', 'fact', 'hand', 'point', 'side', 'large', 'best', 'least', 'example']\n",
      "['age', 'following', 'century', 'million', 'recent', 'miles', 'earlier', 'nearly', 'throughout', 'month', 'couple', 'fiscal', 'lived', 'seven', 'married', 'spent', 'eight', 'june', 'dollars', 'thousand', 'older', 'nine', 'twenty', 'fifty', 'thirty', 'fifteen', 'forty']\n",
      "['program', 'business', 'national', 'development', 'interest', 'service', 'law', 'local', 'college', 'federal', 'board', 'community', 'court', 'department', 'policy', 'education', 'university', 'washington', 'schools', 'secretary', 'administration']\n",
      "['home', 'thought', 'left', 'course', 'away', 'put', 'better', 'told', 'knew', 'give', 'things', 'want', 'done', 'tell', 'sure']\n",
      "['form', 'thus', 'lines', 'values', 'space', 'range', 'points', 'temperature', 'c', 'function', 'cells', 'address', 'p', 'cell', 'operator', 'bond', 'q', 'curve', 'polynomial']\n",
      "['water', 'head', 'eyes', 'toward', 'room', 'face', 'along', 'light', 'turned', 'open', 'began', 'hands', 'feet', 'across', 'car', 'behind', 'office', 'street', 'front', 'stood', 'road', 'women', 'dark', 'moved', 'walked', 'opened']\n",
      "['city', 'members', 'central', 'england', 'birth', 'orleans', 'jersey']\n",
      "['used', 'use', 'without', 'place', 'however', 'found', 'find']\n",
      "['days', 'times', 'minutes', 'months', 'hours', 'weeks']\n",
      "['always', 'almost', 'took', 'yet', 'asked', 'john', 'big', 'felt', 'saw', 'seemed', 'mind', 'god', 'name', 'seen', 'word', 'heard', 'moment', 'boy', 'love', 'woman', 'girl']\n",
      "\n",
      "max group: 2453\n"
     ]
    }
   ],
   "source": [
    "# check svd grouping\n",
    "X['label'] = group_with_kmeans(X_svd, 6)\n",
    "\n",
    "# print groups out of 100 which has more than 5 words\n",
    "max_group = []\n",
    "for i in range(100):\n",
    "    group = X[X['label']==i]['w'].tolist()\n",
    "    length = len(group)\n",
    "    if length > len(max_group): max_group = group\n",
    "    if length < 30 and length >3:\n",
    "        print(group)\n",
    "print(\"\\nmax group:\",len(max_group))"
   ]
  },
  {
   "cell_type": "code",
   "execution_count": 16,
   "metadata": {},
   "outputs": [
    {
     "data": {
      "image/png": "[encoded data removed]",
      "text/plain": [
       "<matplotlib.figure.Figure at 0x132ca58ca90>"
      ]
     },
     "metadata": {},
     "output_type": "display_data"
    }
   ],
   "source": [
    "check_kmeans_n_init(X_pca)"
   ]
  },
  {
   "cell_type": "code",
   "execution_count": 17,
   "metadata": {
    "collapsed": true
   },
   "outputs": [],
   "source": [
    "# check pca grouping\n",
    "X['label'] = group_with_kmeans(X_pca, 6)"
   ]
  },
  {
   "cell_type": "code",
   "execution_count": 18,
   "metadata": {},
   "outputs": [
    {
     "name": "stdout",
     "output_type": "stream",
     "text": [
      "['little', 'right', 'thought', 'say', 'something', 'think']\n",
      "['give', 'become', 'help', 'probably', 'turn', 'cost', 'seem', 'provide', 'run', 'leave', 'believe', 'soon', 'longer', 'call', 'expected', 'hope', 'bring', 'expect']\n",
      "['however', 'part', 'fact', 'less', 'point', 'present', 'important', 'early', 'need', 'perhaps']\n",
      "['since', 'place', 'every', 'end', 'next', 'days', 'second', 'half']\n",
      "['great', 'used', 'use', 'found', 'almost', 'possible', 'things', 'children', 'best', 'others', 'times', 'seen']\n",
      "['left', 'hand', 'side', 'thing']\n",
      "['might', 'without', 'around', 'course', 'always', 'away', 'enough', 'far', 'better', 'told', 'nothing', 'find', 'going', 'asked', 'knew', 'felt', 'want', 'done', 'anything', 'really', 'tell', 'sure']\n",
      "['later', 'several', 'five', 'past', 'ten']\n",
      "['city', 'development', 'members', 'central', 'england', 'birth', 'orleans', 'jersey']\n",
      "['came', 'home', 'went', 'got', 'put', 'head', 'turned']\n",
      "['order', 'form', 'thus', 'line', 'lines', 'values', 'space', 'range', 'points', 'temperature', 'c', 'function', 'address', 'p', 'cell', 'operator', 'bond', 'q', 'curve', 'polynomial']\n",
      "['took', 'eyes', 'toward', 'room', 'face', 'big', 'along', 'saw', 'open', 'door', 'feet', 'across', 'car', 'behind', 'street', 'front', 'stood', 'walked', 'opened']\n",
      "['program', 'national', 'service', 'law', 'local', 'college', 'board', 'policy', 'education', 'university', 'students', 'schools', 'research', 'defense', 'medical', 'training', 'programs', 'vocational']\n",
      "['age', 'six', 'million', 'minutes', 'months', 'recent', 'hours', 'miles', 'earlier', 'weeks', 'month', 'couple', 'seven', 'eight', 'dollars', 'thousand', 'nine', 'twenty', 'fifty', 'thirty', 'fifteen', 'forty']\n",
      "['american', 'general', 'upon', 'number', 'system', 'group', 'social', 'large', 'within', 'interest', 'area', 'whole', 'human', 'history', 'political', 'economic', 'community']\n"
     ]
    }
   ],
   "source": [
    "# print groups out of 100 which has more than 5 words\n",
    "for i in range(100):\n",
    "    group = X[X['label']==i]['w'].tolist()\n",
    "    if len(group) > 3 and len(group) < 30:\n",
    "        print(group)"
   ]
  },
  {
   "cell_type": "markdown",
   "metadata": {},
   "source": [
    "#### EM(GaussianMixture) ####"
   ]
  },
  {
   "cell_type": "code",
   "execution_count": 19,
   "metadata": {},
   "outputs": [
    {
     "name": "stdout",
     "output_type": "stream",
     "text": [
      "cov_type:spherical, log likelihood:557.1509100504013\n",
      "cov_type:diag, log likelihood:559.6455782429762\n",
      "cov_type:tied, log likelihood:548.8795062419473\n",
      "cov_type:full, log likelihood:572.0598569310584\n"
     ]
    }
   ],
   "source": [
    "# EM clustering\n",
    "from sklearn.mixture import GaussianMixture\n",
    "\n",
    "for cov_type in ['spherical', 'diag', 'tied', 'full']:\n",
    "#for iter in [5, 10, 20, 40]:\n",
    "    gmm = GaussianMixture(n_components=100, covariance_type=cov_type, random_state=0)\n",
    "    gmm.fit(X_svd)\n",
    "    print(\"cov_type:{}, log likelihood:{}\".format(cov_type,gmm.lower_bound_))"
   ]
  },
  {
   "cell_type": "code",
   "execution_count": 20,
   "metadata": {},
   "outputs": [
    {
     "name": "stdout",
     "output_type": "stream",
     "text": [
      "['john', 'god', 'name', 'death', 'word', 'words', 'miss', 'heard', 'boy', 'love', 'wife', 'voice', 'woman', 'girl', 'mother', 'mean', 'alone', 'gone', 'father', 'dead', 'son', 'police', 'hear', 'yes', 'remember', 'oh']\n",
      "['also', 'used', 'use', 'find']\n",
      "['since', 'american', 'however', 'part', 'number', 'less', 'given', 'order', 'form', 'thus']\n",
      "['say', 'told', 'nothing', 'knew', 'give', 'want', 'anything', 'really', 'tell', 'sure']\n",
      "['second', 'early', 'half', 'period', 'close', 'short', 'million', 'third', 'spent']\n",
      "['good', 'still', 'come', 'thought', 'think']\n",
      "['great', 'something', 'look', 'things', 'thing']\n",
      "['later', 'several', 'four', 'five', 'past', 'six', 'recent', 'hundred', 'ten']\n",
      "['put', 'head', 'eyes', 'toward', 'room', 'turned', 'open', 'feet', 'across', 'car', 'behind', 'street', 'front', 'stood', 'moved', 'walked', 'opened']\n",
      "['law', 'federal', 'department', 'secretary']\n",
      "['general', 'public', 'system', 'program', 'business', 'group', 'national', 'within', 'development', 'interest', 'area', 'service', 'political', 'economic', 'community']\n",
      "['without', 'left', 'course', 'away', 'hand', 'far', 'side', 'big', 'best', 'ever', 'least']\n",
      "['days', 'minutes', 'months', 'hours', 'weeks']\n",
      "['city', 'members', 'england', 'orleans']\n",
      "['become', 'help', 'whether', 'act', 'probably', 'result', 'turn', 'cost', 'seem', 'provide', 'run', 'plan', 'leave', 'believe', 'soon', 'increase', 'longer', 'call', 'expected', 'return', 'hope', 'pay', 'bring', 'certainly', 'decided', 'appear', 'expect']\n",
      "['found', 'always', 'almost', 'enough', 'took', 'yet', 'end', 'asked', 'looked', 'felt', 'saw', 'seemed', 'seen']\n",
      "['came', 'right', 'around', 'went', 'got', 'going']\n",
      "['small', 'water', 'set', 'called', 'president', 'face', 'large', 'children', 'church', 'light', 'family', 'mind', 'country', 'taken', 'body', 'already', 'moment', 'clear', 'morning']\n"
     ]
    }
   ],
   "source": [
    "gmm = GaussianMixture(n_components=100, covariance_type='full', random_state=0)\n",
    "gmm.fit(X_svd)\n",
    "X['label'] = gmm.predict(X_svd)\n",
    "# print groups out of 100 which has more than 5 words\n",
    "for i in range(100):\n",
    "    group = X[X['label']==i]['w'].tolist()\n",
    "    if len(group) > 3 and len(group) < 30:\n",
    "        print(group)"
   ]
  }
 ],
 "metadata": {
  "kernelspec": {
   "display_name": "Python 3",
   "language": "python",
   "name": "python3"
  },
  "language_info": {
   "codemirror_mode": {
    "name": "ipython",
    "version": 3
   },
   "file_extension": ".py",
   "mimetype": "text/x-python",
   "name": "python",
   "nbconvert_exporter": "python",
   "pygments_lexer": "ipython3",
   "version": "3.5.0"
  }
 },
 "nbformat": 4,
 "nbformat_minor": 2
}
