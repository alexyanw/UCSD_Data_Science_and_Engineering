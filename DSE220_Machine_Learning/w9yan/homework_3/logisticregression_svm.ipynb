{
 "cells": [
  {
   "cell_type": "markdown",
   "metadata": {},
   "source": [
    "## Homework 3 - DSE 220: Machine Learning\n",
    "* logistic regression\n",
    "* Perceptron\n",
    "* SVM"
   ]
  },
  {
   "cell_type": "markdown",
   "metadata": {},
   "source": [
    "### Discriminative Learning\n",
    "For the questions in this section, load the wine dataset (wine original.csv). \n",
    "\n",
    "**Question 1**: Perform a 80-20 split using train test split on the data to obtain the train and the test data (random state=3). Use Logistic Regression to classify the wines according to their cultivators. Tune parameters 'penalty' and 'C' using GridSearchCV implementation. Report the accuracy on test data. (10 marks)"
   ]
  },
  {
   "cell_type": "code",
   "execution_count": 1,
   "metadata": {
    "collapsed": false
   },
   "outputs": [
    {
     "name": "stdout",
     "output_type": "stream",
     "text": [
      "Fitting 3 folds for each of 36 candidates, totalling 108 fits\n",
      "Selected Parameters {'C': 500, 'penalty': 'l1'}\n",
      "Training Accuracy = 1.0\n",
      "Test Accuracy = 0.861111111111\n"
     ]
    },
    {
     "name": "stderr",
     "output_type": "stream",
     "text": [
      "[Parallel(n_jobs=-1)]: Done 108 out of 108 | elapsed:    3.8s finished\n"
     ]
    }
   ],
   "source": [
    "from sklearn import datasets\n",
    "from sklearn.model_selection import train_test_split\n",
    "import numpy as np\n",
    "import pandas as pd\n",
    "\n",
    "# Load the wine dataset\n",
    "data = pd.read_csv('wine_original.csv')\n",
    "labels = data['class']\n",
    "labels -= 1\n",
    "del data['class']\n",
    "\n",
    "# Create training and test sets\n",
    "X_train, X_test, y_train, y_test = train_test_split(data, labels, test_size=0.2, random_state=3)\n",
    "\n",
    "# Logistic Regression\n",
    "from sklearn.linear_model import LogisticRegression\n",
    "from sklearn.model_selection import GridSearchCV\n",
    "from sklearn.metrics import accuracy_score\n",
    "\n",
    "parameters = { 'penalty': ['l1','l2'], \n",
    "              'C':[0.1, 0.5, 1, 2, 3, 4, 5, 10, 100, 200, 300, 400, 500, 600, 700, 800,900,1000]}\n",
    "logreg = LogisticRegression()\n",
    "clf = GridSearchCV(logreg, parameters, verbose=True, n_jobs=-1)\n",
    "clf.fit(X_train, y_train)\n",
    "y_pred = clf.predict(X_test)\n",
    "\n",
    "accuracy = accuracy_score(y_pred, y_test)\n",
    "train_acc = accuracy_score(clf.predict(X_train), y_train)\n",
    "print ('Selected Parameters', clf.best_params_)\n",
    "print ('Training Accuracy = ' + str(train_acc))\n",
    "print ('Test Accuracy = ' + str(accuracy))"
   ]
  },
  {
   "cell_type": "markdown",
   "metadata": {},
   "source": [
    "### Perceptron and Support Vector Machines\n",
    "In this section, we will work on the text data. Download the newsgroups data (train and test) using fetch 20newsgroups for categories: 'alt.atheism', 'comp.graphics', 'sci.space' and 'talk.politics.mideast' after removing 'headers', 'footers' and 'quotes' from the data. Convert all the words in the text to lower case. A common practice is to remove the stopwords like a, and, the etc. from the text. Use nltk to get the stopwords list (nltk.corpus.stopwords) and remove the stopwords from the text. Use TfidfVectorizer to obtain the tfidf vectors(after smoothing\\*) for the train and test data and select only top 2000 features(words). You can also perform the above stated actions (lowercase and stop-words) using the TfidfVectorizer. Note: You'll fit the tf-idf vectors on the train data and use the same to transform the test data. (10 marks)\n",
    "\n",
    "\\*: Smoothing the text data is same as computing the idf values after adding a document with all words in the vocabulary."
   ]
  },
  {
   "cell_type": "code",
   "execution_count": 2,
   "metadata": {
    "collapsed": false
   },
   "outputs": [],
   "source": [
    "from sklearn.datasets import fetch_20newsgroups\n",
    "cats = ['alt.atheism', 'comp.graphics', 'sci.space', 'talk.politics.mideast']\n",
    "newsgroups_train = fetch_20newsgroups(subset='train', categories=cats, remove=('headers', 'footers', 'quotes'))\n",
    "newsgroups_test = fetch_20newsgroups(subset='test', categories=cats, remove=('headers', 'footers', 'quotes'))\n",
    "y_train = newsgroups_train.target\n",
    "y_test = newsgroups_test.target\n",
    "\n",
    "from sklearn.feature_extraction.text import TfidfVectorizer\n",
    "vectorizer = TfidfVectorizer(analyzer=u'word',lowercase=True,stop_words='english',smooth_idf=True,max_features=2000)\n",
    "# fit and transform on train data\n",
    "X_train = vectorizer.fit_transform(newsgroups_train.data)\n",
    "# just transform test data with previous fitting\n",
    "X_test = vectorizer.transform(newsgroups_test.data)"
   ]
  },
  {
   "cell_type": "markdown",
   "metadata": {},
   "source": [
    "**Question 2**: After obtaining the tf-idf vectors for train and test data, use the perceptron model (no penalty) to train on the training vectors and compute the accuracy on the test vectors. (5 marks)"
   ]
  },
  {
   "cell_type": "code",
   "execution_count": 3,
   "metadata": {
    "collapsed": false
   },
   "outputs": [
    {
     "name": "stdout",
     "output_type": "stream",
     "text": [
      "Perceptron test accuracy = 0.776048714479\n"
     ]
    }
   ],
   "source": [
    "from sklearn.linear_model import Perceptron\n",
    "from sklearn.metrics import accuracy_score\n",
    "\n",
    "clf = Perceptron(penalty=None)\n",
    "clf.fit(X_train, y_train)\n",
    "pred = clf.predict(X_test)\n",
    "print ('Perceptron test accuracy = ' + str(accuracy_score(y_test, pred)))"
   ]
  },
  {
   "cell_type": "markdown",
   "metadata": {},
   "source": [
    "**Question 3**: Keeping all the above data processing steps same observe how the test accuracy changes by varying the number of top features selected for 100, 200, 500, 1000, 1500, 2000, 3000 for a perceptron model. Report and plot the results.(10 mark)"
   ]
  },
  {
   "cell_type": "code",
   "execution_count": 8,
   "metadata": {
    "collapsed": false
   },
   "outputs": [
    {
     "name": "stdout",
     "output_type": "stream",
     "text": [
      "Perceptron test accuracy with top 100 features: 0.6089\n",
      "Perceptron test accuracy with top 200 features: 0.6766\n",
      "Perceptron test accuracy with top 500 features: 0.7314\n",
      "Perceptron test accuracy with top 1000 features: 0.7368\n",
      "Perceptron test accuracy with top 1500 features: 0.7395\n",
      "Perceptron test accuracy with top 2000 features: 0.7760\n",
      "Perceptron test accuracy with top 3000 features: 0.7862\n"
     ]
    },
    {
     "data": {
      "image/png": "[encoded data removed]",
      "text/plain": [
       "<matplotlib.figure.Figure at 0x1fd90f6c0b8>"
      ]
     },
     "metadata": {},
     "output_type": "display_data"
    }
   ],
   "source": [
    "import matplotlib.pyplot as plt\n",
    "accuracies = []\n",
    "top_features = [100, 200, 500, 1000, 1500, 2000, 3000]\n",
    "for nfeatures in top_features:\n",
    "    vectorizer = TfidfVectorizer(analyzer=u'word',lowercase=True,stop_words='english',smooth_idf=True,max_features=nfeatures)\n",
    "    X_train = vectorizer.fit_transform(newsgroups_train.data)\n",
    "    X_test = vectorizer.transform(newsgroups_test.data)\n",
    "    \n",
    "    clf = Perceptron(penalty=None)\n",
    "    clf.fit(X_train, y_train)\n",
    "    pred = clf.predict(X_test)\n",
    "    accu = accuracy_score(y_test, pred)\n",
    "    accuracies.append(accu)\n",
    "    print('Perceptron test accuracy with top %d features: %.4f' % (nfeatures, accu))\n",
    "\n",
    "plt.plot(top_features, accuracies)\n",
    "plt.title('accuracies vs top_features')\n",
    "plt.show()"
   ]
  },
  {
   "cell_type": "markdown",
   "metadata": {},
   "source": [
    "**Question 4**: After obtaining the tf-idf vectors for train and test data, use the SVM model to train on the training vectors and compute the accuracy on the test vectors. Use linear kernel and default parameters. (5 mark)"
   ]
  },
  {
   "cell_type": "code",
   "execution_count": 9,
   "metadata": {
    "collapsed": false
   },
   "outputs": [
    {
     "name": "stdout",
     "output_type": "stream",
     "text": [
      "SVM test accuracy = 0.794316644114\n"
     ]
    }
   ],
   "source": [
    "from sklearn.svm import SVC\n",
    "from sklearn.feature_extraction.text import TfidfVectorizer\n",
    "from sklearn.metrics import accuracy_score\n",
    "\n",
    "vectorizer = TfidfVectorizer(analyzer=u'word',lowercase=True,stop_words='english',smooth_idf=True,max_features=2000)\n",
    "X_train = vectorizer.fit_transform(newsgroups_train.data)\n",
    "X_test = vectorizer.transform(newsgroups_test.data)\n",
    "y_train = newsgroups_train.target\n",
    "y_test = newsgroups_test.target\n",
    "clf = SVC(kernel='linear')\n",
    "clf.fit(X_train, y_train)\n",
    "pred = clf.predict(X_test)\n",
    "print ('SVM test accuracy = ' + str(accuracy_score(y_test, pred)))"
   ]
  },
  {
   "cell_type": "markdown",
   "metadata": {},
   "source": [
    "**Question 5**: Keeping all the above data processing steps same observe how the test accuracy changes by varying the number of top features selected for 100, 200, 500, 1000, 1500, 2000, 3000 for a linear SVM model. Report and plot the results.(10 mark)"
   ]
  },
  {
   "cell_type": "code",
   "execution_count": 11,
   "metadata": {
    "collapsed": false
   },
   "outputs": [
    {
     "name": "stdout",
     "output_type": "stream",
     "text": [
      "SVM test accuracy with top 100 features: 0.6556\n",
      "SVM test accuracy with top 200 features: 0.7138\n",
      "SVM test accuracy with top 500 features: 0.7456\n",
      "SVM test accuracy with top 1000 features: 0.7679\n",
      "SVM test accuracy with top 1500 features: 0.7774\n",
      "SVM test accuracy with top 2000 features: 0.7943\n",
      "SVM test accuracy with top 3000 features: 0.8146\n"
     ]
    },
    {
     "data": {
      "image/png": "[encoded data removed]",
      "text/plain": [
       "<matplotlib.figure.Figure at 0x1fd91167470>"
      ]
     },
     "metadata": {},
     "output_type": "display_data"
    }
   ],
   "source": [
    "import matplotlib.pyplot as plt\n",
    "accuracies = []\n",
    "top_features = [100, 200, 500, 1000, 1500, 2000, 3000]\n",
    "for nfeatures in top_features:\n",
    "    vectorizer = TfidfVectorizer(analyzer=u'word',lowercase=True,stop_words='english',smooth_idf=True,max_features=nfeatures)\n",
    "    X_train = vectorizer.fit_transform(newsgroups_train.data)\n",
    "    X_test = vectorizer.transform(newsgroups_test.data)\n",
    "    \n",
    "    clf = SVC(kernel='linear')\n",
    "    clf.fit(X_train, y_train)\n",
    "    pred = clf.predict(X_test)\n",
    "    accu = accuracy_score(y_test, pred)\n",
    "    accuracies.append(accu)\n",
    "    print('SVM test accuracy with top %d features: %.4f' % (nfeatures, accu))\n",
    "\n",
    "plt.plot(top_features, accuracies)\n",
    "plt.title('accuracies vs top_features')\n",
    "plt.show()"
   ]
  },
  {
   "cell_type": "markdown",
   "metadata": {},
   "source": [
    "**Question 6**: Perform 80-20 split of the training data to obtain validation data using train test split (random state=10). Use this validation data to tune the cost parameter 'C' for values 0.01,0.1,1,10,100. Select the best value compute\n",
    "the accuracy for the test data. Report the validation and test accuracies. Note: Use full data of 2000 vectors here. (10 marks)"
   ]
  },
  {
   "cell_type": "code",
   "execution_count": 17,
   "metadata": {
    "collapsed": false
   },
   "outputs": [
    {
     "name": "stdout",
     "output_type": "stream",
     "text": [
      "SVM with C:0.01 validation accuracy: 0.2449438202247191\n",
      "SVM with C:0.1 validation accuracy: 0.7752808988764045\n",
      "SVM with C:1 validation accuracy: 0.8359550561797753\n",
      "SVM with C:10 validation accuracy: 0.8247191011235955\n",
      "SVM with C:100 validation accuracy: 0.8089887640449438\n",
      "SVM with best C:1 test accuracy: 0.7943166441136671\n"
     ]
    }
   ],
   "source": [
    "from scipy.sparse import vstack,hstack\n",
    "from sklearn.model_selection import train_test_split\n",
    "import numpy as np\n",
    "\n",
    "vectorizer = TfidfVectorizer(analyzer=u'word',lowercase=True,stop_words='english',smooth_idf=True,max_features=2000)\n",
    "X_train = vectorizer.fit_transform(newsgroups_train.data)\n",
    "X_test = vectorizer.transform(newsgroups_test.data)\n",
    "y_train = newsgroups_train.target\n",
    "y_test = newsgroups_test.target\n",
    "\n",
    "X_train, X_val, y_train, y_val = train_test_split(X_train, y_train, test_size=0.2, random_state=10)\n",
    "X_train_val = vstack([X_train, X_val])\n",
    "y_train_val = np.concatenate([y_train, y_val])\n",
    "\n",
    "best_C = 0\n",
    "best_accu = 0\n",
    "for C in [0.01,0.1,1,10,100]:\n",
    "    clf = SVC(kernel='linear', C=C)\n",
    "    clf.fit(X_train, y_train)\n",
    "    pred_val = clf.predict(X_val)\n",
    "    accu = accuracy_score(y_val, pred_val)\n",
    "    print(\"SVM with C:{} validation accuracy: {}\".format(C, accu))\n",
    "    if best_accu < accu:\n",
    "        best_C = C\n",
    "        best_accu = accu\n",
    "clf = SVC(kernel='linear', C=best_C)\n",
    "clf.fit(X_train_val, y_train_val)\n",
    "pred = clf.predict(X_test)\n",
    "accu = accuracy_score(y_test, pred)\n",
    "print(\"SVM with best C:{} test accuracy: {}\".format(best_C, accu))"
   ]
  },
  {
   "cell_type": "markdown",
   "metadata": {},
   "source": [
    "**Question 7**: Train a kernelized SVM (with 'C'=10000) with kernel values - 'poly' with degree 1, 2, 3, 'rbf ' and 'sigmoid', and report the one with best accuracy on validation data. Also report the test accuracy for the selected kernel. (10 marks)"
   ]
  },
  {
   "cell_type": "code",
   "execution_count": 23,
   "metadata": {
    "collapsed": false
   },
   "outputs": [
    {
     "name": "stdout",
     "output_type": "stream",
     "text": [
      "SVM with kernel:poly degree:1 validation accuracy: 0.8292134831460675\n",
      "SVM with kernel:poly degree:2 validation accuracy: 0.2449438202247191\n",
      "SVM with kernel:poly degree:3 validation accuracy: 0.2449438202247191\n",
      "SVM with kernel:rbf validation accuracy: 0.8247191011235955\n",
      "SVM with kernel:sigmoid validation accuracy: 0.8292134831460675\n",
      "SVM with best kernel:poly test accuracy: 0.2665764546684709\n"
     ]
    }
   ],
   "source": [
    "best_kernel = ''\n",
    "best_degree = 0\n",
    "best_accu = 0\n",
    "for deg in [1,2,3]:\n",
    "    clf = SVC(C=10000, kernel='poly', degree = deg)\n",
    "    clf.fit(X_train, y_train)\n",
    "    pred_val = clf.predict(X_val)\n",
    "    accu = accuracy_score(y_val, pred_val)\n",
    "    print(\"SVM with kernel:poly degree:{} validation accuracy: {}\".format(deg, accu))\n",
    "    if best_accu < accu:\n",
    "        best_kernel = 'poly'\n",
    "        best_degree = deg\n",
    "        best_accu = accu\n",
    "\n",
    "for k in ['rbf', 'sigmoid']:\n",
    "    clf = SVC(C=10000, kernel=k)\n",
    "    clf.fit(X_train, y_train)\n",
    "    pred_val = clf.predict(X_val)\n",
    "    accu = accuracy_score(y_val, pred_val)\n",
    "    print(\"SVM with kernel:{} validation accuracy: {}\".format(k, accu))\n",
    "    if best_accu < accu:\n",
    "        best_kernel = k\n",
    "        best_accu = accu\n",
    "\n",
    "clf = SVC(kernel=best_kernel, degree=best_degree) # degree is ignored for other kernels than 'poly'\n",
    "clf.fit(X_train_val, y_train_val)\n",
    "pred = clf.predict(X_test)\n",
    "accu = accuracy_score(y_test, pred)\n",
    "print(\"SVM with best kernel:{} test accuracy: {}\".format(best_kernel, accu))\n",
    "     "
   ]
  },
  {
   "cell_type": "markdown",
   "metadata": {},
   "source": [
    "### Custom Kernels\n",
    "Now we introduce the concept of custom kernels in Support Vector Machines. There are good chances that we need some other form of similarity measure for our data, for which we need to pass our own function as kernel to SVM.\n",
    "\n",
    "**Question 8**: Use Cosine Similarity and Laplacian Kernel (exp-||x-y||1 ) measures, and report the test accuracies using these kernels with SVM. (15 marks)"
   ]
  },
  {
   "cell_type": "code",
   "execution_count": 24,
   "metadata": {
    "collapsed": false
   },
   "outputs": [
    {
     "name": "stdout",
     "output_type": "stream",
     "text": [
      "SVM test accuracy with kernel <function cosine_similarity at 0x000001FD8EC1DB70> is 0.7943166441136671\n",
      "SVM test accuracy with kernel <function laplacian_kernel at 0x000001FD8EC1DAE8> is 0.2665764546684709\n"
     ]
    }
   ],
   "source": [
    "from sklearn.svm import SVC\n",
    "from sklearn.metrics.pairwise import cosine_similarity,laplacian_kernel\n",
    "\n",
    "for k in [cosine_similarity,laplacian_kernel]:\n",
    "    clf = SVC(kernel=k)\n",
    "    clf.fit(X_train_val, y_train_val)\n",
    "    pred = clf.predict(X_test)\n",
    "    print ('SVM test accuracy with kernel {} is {}'.format(k, accuracy_score(y_test, pred)))"
   ]
  },
  {
   "cell_type": "markdown",
   "metadata": {
    "collapsed": true
   },
   "source": [
    "**Question 9**: Another way to construct a kernel is use a linear combination of 2 kernels. Let K be a kernel represented as:\n",
    "K(x,y) = aK1(x,y) + (1 - a)K2(x,y) (0 <= a <= 1). Why is K a valid kernel? Does your reasoning hold true for other values of a as well? Let K1 be the 'cosine similarity' and K2 be 'Laplacian Kernel'. Using K as kernel, train a SVM model to tune the value of a (upto one decimal) and report the accuracy on the test data using the selected parameter. (15 marks)\n"
   ]
  },
  {
   "cell_type": "code",
   "execution_count": 25,
   "metadata": {
    "collapsed": false
   },
   "outputs": [
    {
     "name": "stdout",
     "output_type": "stream",
     "text": [
      "SVM with coefficient a:0.0 validation accuracy 0.2449438202247191\n",
      "SVM with coefficient a:0.1 validation accuracy 0.7820224719101123\n",
      "SVM with coefficient a:0.2 validation accuracy 0.8179775280898877\n",
      "SVM with coefficient a:0.3 validation accuracy 0.8382022471910112\n",
      "SVM with coefficient a:0.4 validation accuracy 0.8404494382022472\n",
      "SVM with coefficient a:0.5 validation accuracy 0.8359550561797753\n",
      "SVM with coefficient a:0.6 validation accuracy 0.8426966292134831\n",
      "SVM with coefficient a:0.7 validation accuracy 0.8471910112359551\n",
      "SVM with coefficient a:0.8 validation accuracy 0.8471910112359551\n",
      "SVM with coefficient a:0.9 validation accuracy 0.8404494382022472\n",
      "SVM with coefficient a:1.0 validation accuracy 0.8359550561797753\n",
      "SVM with best combination a:0.7 test accuracy: 0.8010825439783491\n"
     ]
    }
   ],
   "source": [
    "def combined_kernel(X, Y, **keywords):\n",
    "    \"\"\"\n",
    "    combined_kernel = aK1 + (1-a)K2\n",
    "    k1: cosine_similarity  k2: laplacian_kernel\n",
    "    \"\"\"\n",
    "    a = keywords['a']\n",
    "    return a*cosine_similarity(X,Y) + (1-a)*laplacian_kernel(X, Y)\n",
    "\n",
    "best_a = 0\n",
    "best_accu = 0\n",
    "\n",
    "from functools import partial\n",
    "for i in range(11):\n",
    "    a = i/10.0\n",
    "    clf = SVC(kernel=partial(combined_kernel, a=a))\n",
    "    #clf = SVC(kernel=combined_kernel)\n",
    "    clf.fit(X_train, y_train)\n",
    "    pred_val = clf.predict(X_val)\n",
    "    accu = accuracy_score(y_val, pred_val)\n",
    "    print(\"SVM with coefficient a:{} validation accuracy {}\".format(a, accu))\n",
    "    if best_accu < accu:\n",
    "        best_a = a\n",
    "        best_accu = accu\n",
    "clf = SVC(kernel=partial(combined_kernel, a=best_a))\n",
    "clf.fit(X_train_val, y_train_val)\n",
    "pred = clf.predict(X_test)\n",
    "accu = accuracy_score(y_test, pred)\n",
    "print(\"SVM with best combination a:{} test accuracy: {}\".format(best_a, accu))\n",
    "     "
   ]
  },
  {
   "cell_type": "markdown",
   "metadata": {
    "collapsed": true
   },
   "source": [
    "The combination will be a valid kernel. K1(x,y) and K2(x,y) are valid kernels. According to Mercer's condition, for any finite subset, the similarity matrix is PSD, so the combination K(x,y)=a*K1(x,y) + (1-a)*K2(x,y) will also produce a PSD similarity matrix for any finite subset, because a and 1-a are greater or equal to 0.\n",
    "This won't hold true for other values of a, because that coulds result in a negative coefficient for kernel K1 or K2."
   ]
  },
  {
   "cell_type": "code",
   "execution_count": null,
   "metadata": {
    "collapsed": true
   },
   "outputs": [],
   "source": []
  }
 ],
 "metadata": {
  "kernelspec": {
   "display_name": "Python 3",
   "language": "python",
   "name": "python3"
  },
  "language_info": {
   "codemirror_mode": {
    "name": "ipython",
    "version": 3
   },
   "file_extension": ".py",
   "mimetype": "text/x-python",
   "name": "python",
   "nbconvert_exporter": "python",
   "pygments_lexer": "ipython3",
   "version": "3.6.0"
  }
 },
 "nbformat": 4,
 "nbformat_minor": 2
}
