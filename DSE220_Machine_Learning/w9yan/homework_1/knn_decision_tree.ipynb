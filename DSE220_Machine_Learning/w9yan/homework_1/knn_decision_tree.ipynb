{
 "cells": [
  {
   "cell_type": "markdown",
   "metadata": {},
   "source": [
    "## This notebook resolves homework1 for KNN and desision tree problem"
   ]
  },
  {
   "cell_type": "markdown",
   "metadata": {},
   "source": [
    "### Data Preprocessing"
   ]
  },
  {
   "cell_type": "code",
   "execution_count": 28,
   "metadata": {
    "collapsed": false
   },
   "outputs": [
    {
     "name": "stdout",
     "output_type": "stream",
     "text": [
      "(178, 14)\n",
      "<class 'pandas.core.frame.DataFrame'>\n",
      "RangeIndex: 178 entries, 0 to 177\n",
      "Data columns (total 14 columns):\n",
      "class                   168 non-null float64\n",
      "Alcohol                 178 non-null float64\n",
      "Malic acid              166 non-null float64\n",
      "Ash                     66 non-null float64\n",
      "Alcalinity of ash       166 non-null float64\n",
      "Magnesium               156 non-null float64\n",
      "Total phenols           178 non-null float64\n",
      "Flavanoids              130 non-null float64\n",
      "Nonflavanoid phenols    164 non-null float64\n",
      "Proanthocyanins         166 non-null float64\n",
      "Color intensity         166 non-null float64\n",
      "Hue                     164 non-null float64\n",
      "OD280/OD315             167 non-null float64\n",
      "Proline                 164 non-null float64\n",
      "dtypes: float64(14)\n",
      "memory usage: 19.5 KB\n"
     ]
    }
   ],
   "source": [
    "from matplotlib.colors import ListedColormap\n",
    "import numpy as np\n",
    "import matplotlib.pyplot as plt\n",
    "from sklearn.model_selection import train_test_split\n",
    "import pandas as pd\n",
    "\n",
    "df = pd.read_csv('wine_modified.csv')\n",
    "print(df.shape)\n",
    "df.info()"
   ]
  },
  {
   "cell_type": "markdown",
   "metadata": {},
   "source": [
    "**Question 1**: Remove the rows with missing labels ('class') and rows with more than 7 missing features. Report the remaining number of rows."
   ]
  },
  {
   "cell_type": "code",
   "execution_count": 29,
   "metadata": {
    "collapsed": false
   },
   "outputs": [
    {
     "name": "stdout",
     "output_type": "stream",
     "text": [
      "Data has remaining number of rows: 154\n"
     ]
    }
   ],
   "source": [
    "#data = df[np.isfinite(df['class'])]\n",
    "data = df[df['class'].isnull() == False]\n",
    "data = data.dropna(thresh=7)\n",
    "print(\"Data has remaining number of rows: {}\".format(len(data)))"
   ]
  },
  {
   "cell_type": "markdown",
   "metadata": {},
   "source": [
    "**Question 2**: Remove features with > 50% of missing values. For other features with missing values fill them with the mean of the corresponding features. Report the removed features (if any) and standard deviation of features with missing values after filling."
   ]
  },
  {
   "cell_type": "code",
   "execution_count": 35,
   "metadata": {
    "collapsed": false
   },
   "outputs": [
    {
     "name": "stdout",
     "output_type": "stream",
     "text": [
      "removed features: Ash\n",
      "column Magnesium std: 14.440377368166187\n",
      "column Flavanoids std: 0.8735732194355235\n"
     ]
    }
   ],
   "source": [
    "processed_data = data.dropna(axis=1, thresh=len(data)/2).copy()\n",
    "if processed_data.shape != data.shape:\n",
    "    removed_columns = set(data.columns) - set(processed_data.columns)\n",
    "    print(\"removed features: {}\".format(' '.join(removed_columns)))\n",
    "\n",
    "incomplete_columns = processed_data.columns[processed_data.isnull().any()]\n",
    "for col in incomplete_columns:\n",
    "    mean = processed_data[col].mean()\n",
    "    processed_data[col].fillna(mean, inplace=True)\n",
    "    print(\"column {} std: {}\".format(col, processed_data[col].std()))"
   ]
  },
  {
   "cell_type": "markdown",
   "metadata": {},
   "source": [
    "**Question 3**: Detect and remove rows with any outliers/incorrect values in features 'alcohol' and 'proline' (if any). Clearly state the basis of your removal."
   ]
  },
  {
   "cell_type": "code",
   "execution_count": 4,
   "metadata": {
    "collapsed": false
   },
   "outputs": [
    {
     "data": {
      "text/plain": [
       "<matplotlib.collections.PathCollection at 0x220d2bc4438>"
      ]
     },
     "execution_count": 4,
     "metadata": {},
     "output_type": "execute_result"
    },
    {
     "data": {
      "image/png": "[encoded data removed]",
      "text/plain": [
       "<matplotlib.figure.Figure at 0x220d6f173c8>"
      ]
     },
     "metadata": {},
     "output_type": "display_data"
    }
   ],
   "source": [
    "%matplotlib inline\n",
    "plt.figure(figsize=(15,8))\n",
    "plt.xlabel('Alcohol', fontsize=15)\n",
    "plt.ylabel('Proline', fontsize=15)\n",
    "plt.scatter(processed_data['Alcohol'], processed_data['Proline'])"
   ]
  },
  {
   "cell_type": "code",
   "execution_count": 5,
   "metadata": {
    "collapsed": false
   },
   "outputs": [
    {
     "name": "stdout",
     "output_type": "stream",
     "text": [
      "22    -8.226\n",
      "42    -8.328\n",
      "61    -7.584\n",
      "118   -7.662\n",
      "163   -7.776\n",
      "Name: Alcohol, dtype: float64\n"
     ]
    }
   ],
   "source": [
    "#Removing outliers prability distribution\n",
    "#mask = processed_data['Alcohol']>-5\n",
    "#processed_data = processed_data[mask]\n",
    "\n",
    "mean = processed_data['Alcohol'].mean()\n",
    "std = processed_data['Alcohol'].std()\n",
    "print(processed_data[~processed_data['Alcohol'].between(mean-4*std,mean+4*std)]['Alcohol'])\n",
    "processed_data = processed_data[processed_data['Alcohol'].between(mean-4*std,mean+4*std)]"
   ]
  },
  {
   "cell_type": "markdown",
   "metadata": {},
   "source": [
    "### Decision Trees\n",
    "Note: When predicting for the test data, you should train the model again using train + validation data.\n",
    "\n",
    "**Question 4**: Train Decision Tree model on train data for criterions = {'gini', 'entropy'} and report the accuracies on the validation data. Select the best criterion and report the accuracy on the test data."
   ]
  },
  {
   "cell_type": "code",
   "execution_count": 70,
   "metadata": {
    "collapsed": false,
    "scrolled": true
   },
   "outputs": [
    {
     "name": "stdout",
     "output_type": "stream",
     "text": [
      "Validation accuracy for criterion:gini min_samples_leaf:2 - 0.8974\n",
      "Validation accuracy for criterion:gini min_samples_leaf:5 - 0.9231\n",
      "Validation accuracy for criterion:gini min_samples_leaf:10 - 0.8974\n",
      "Validation accuracy for criterion:gini min_samples_leaf:20 - 0.8974\n",
      "Validation accuracy for criterion:entropy min_samples_leaf:2 - 0.8974\n",
      "Validation accuracy for criterion:entropy min_samples_leaf:5 - 0.9487\n",
      "Validation accuracy for criterion:entropy min_samples_leaf:10 - 0.8974\n",
      "Validation accuracy for criterion:entropy min_samples_leaf:20 - 0.8974\n",
      "Will choose to use criterion: entropy, leaf_size: 5\n"
     ]
    }
   ],
   "source": [
    "from sklearn.tree import DecisionTreeClassifier\n",
    "X_train = pd.read_csv('wine_train_data.csv')\n",
    "y_train = pd.read_csv('wine_train_labels.csv')\n",
    "X_valid = pd.read_csv('wine_val_data.csv')\n",
    "y_valid = pd.read_csv('wine_val_labels.csv')\n",
    "X_test = pd.read_csv('wine_test_data.csv')\n",
    "y_test = pd.read_csv('wine_test_labels.csv')\n",
    "\n",
    "best_criterion = ''\n",
    "best_leaf_size = 0\n",
    "accuracy = 0\n",
    "for criterion in ['gini', 'entropy']:\n",
    "    for leaf_size in [2,5,10,20]:\n",
    "        clf = DecisionTreeClassifier(criterion=criterion, min_samples_leaf=leaf_size)\n",
    "        clf.fit(X_train, y_train)\n",
    "        y_pred = clf.predict(X_valid)\n",
    "        accu = np.sum(y_pred == y_valid['class'])*1.0/len(y_valid)\n",
    "        print('Validation accuracy for criterion:{} min_samples_leaf:{} - {:.4f}'.format(criterion, leaf_size, accu))\n",
    "        if accu > accuracy:\n",
    "            best_criterion, best_leaf_size, accuracy = criterion, leaf_size, accu\n",
    "print(\"Will choose to use criterion: {}, leaf_size: {}\".format(best_criterion, best_leaf_size))"
   ]
  },
  {
   "cell_type": "code",
   "execution_count": 71,
   "metadata": {
    "collapsed": false
   },
   "outputs": [
    {
     "name": "stdout",
     "output_type": "stream",
     "text": [
      "test accuracy is: 0.7949\n"
     ]
    }
   ],
   "source": [
    "clf = DecisionTreeClassifier(criterion=best_criterion, min_samples_leaf=best_leaf_size)\n",
    "X_train_valid = pd.concat([X_train, X_valid])\n",
    "y_train_valid = pd.concat([y_train, y_valid])\n",
    "clf.fit(X_train_valid, y_train_valid)\n",
    "y_pred = clf.predict(X_test)\n",
    "test_accuracy = np.sum(y_pred == y_test['class'])*1.0/len(y_valid)\n",
    "print(\"test accuracy is: {:.4f}\".format(test_accuracy))\n"
   ]
  },
  {
   "cell_type": "markdown",
   "metadata": {},
   "source": [
    "**Question 5**: Use the criterion selected above to train Decision Tree model on train data for min samples split={2,5,10,20} and report the accuracies on the validation data. Select the best parameter and report the accuracy on the test\n",
    "data."
   ]
  },
  {
   "cell_type": "code",
   "execution_count": 72,
   "metadata": {
    "collapsed": false
   },
   "outputs": [
    {
     "name": "stdout",
     "output_type": "stream",
     "text": [
      "Validation accuracy for min_samples_split:2 - 0.9231\n",
      "Validation accuracy for min_samples_split:5 - 0.9231\n",
      "Validation accuracy for min_samples_split:10 - 0.9231\n",
      "Validation accuracy for min_samples_split:20 - 0.9487\n",
      "Will choose to use min_sample_split: 20\n",
      "test accuracy is: 0.7949\n"
     ]
    }
   ],
   "source": [
    "best_split_size = 0\n",
    "accuracy = 0\n",
    "\n",
    "for split_size in [2,5,10,20]:\n",
    "    clf = DecisionTreeClassifier(criterion=best_criterion, min_samples_leaf=best_leaf_size, min_samples_split=split_size)\n",
    "    clf.fit(X_train, y_train)\n",
    "    y_pred = clf.predict(X_valid)\n",
    "    accu = np.sum(y_pred == y_valid['class'])*1.0/len(y_valid)\n",
    "    print('Validation accuracy for min_samples_split:{} - {:.4f}'.format(split_size, accu))\n",
    "    if accu > accuracy:\n",
    "        best_split_size, accuracy = split_size, accu\n",
    "print(\"Will choose to use min_sample_split: {}\".format(best_split_size))\n",
    "clf = DecisionTreeClassifier(criterion=best_criterion, min_samples_leaf=best_leaf_size, min_samples_split=best_split_size)\n",
    "clf.fit(X_train_valid, y_train_valid)\n",
    "y_pred = clf.predict(X_test)\n",
    "test_accuracy = np.sum(y_pred == y_test['class'])*1.0/len(y_valid)\n",
    "print(\"test accuracy is: {:.4f}\".format(test_accuracy))"
   ]
  },
  {
   "cell_type": "markdown",
   "metadata": {},
   "source": [
    "**Question 6**: Use the parameters selected above (Q4 and Q5) to train Decision Tree model using the first 20, 40, 60, 80 and 100 samples from train data.\n",
    "Keep the validation set unchanged during this analysis. Report and plot the accuracies on the validation data."
   ]
  },
  {
   "cell_type": "code",
   "execution_count": 73,
   "metadata": {
    "collapsed": false
   },
   "outputs": [
    {
     "name": "stdout",
     "output_type": "stream",
     "text": [
      "Validation accuracy with first 20 samples - 0.4615\n",
      "Validation accuracy with first 40 samples - 0.8462\n",
      "Validation accuracy with first 60 samples - 0.8462\n",
      "Validation accuracy with first 80 samples - 0.8974\n",
      "Validation accuracy with first 100 samples - 0.9487\n"
     ]
    },
    {
     "data": {
      "text/plain": [
       "[<matplotlib.lines.Line2D at 0x220da8d3a20>]"
      ]
     },
     "execution_count": 73,
     "metadata": {},
     "output_type": "execute_result"
    },
    {
     "data": {
      "image/png": "[encoded data removed]",
      "text/plain": [
       "<matplotlib.figure.Figure at 0x220da23cef0>"
      ]
     },
     "metadata": {},
     "output_type": "display_data"
    }
   ],
   "source": [
    "accuracy = []\n",
    "sample_size = [20, 40, 60, 80, 100]\n",
    "for n in sample_size:\n",
    "    clf = DecisionTreeClassifier(criterion=best_criterion, min_samples_leaf=best_leaf_size, min_samples_split=best_split_size)\n",
    "    clf.fit(X_train[:n], y_train[:n])\n",
    "    y_pred = clf.predict(X_valid)\n",
    "    accu = np.sum(y_pred == y_valid['class'])*1.0/len(y_valid)\n",
    "    print('Validation accuracy with first {} samples - {:.4f}'.format(n, accu))\n",
    "    accuracy.append(accu)\n",
    "    \n",
    "plt.title(\"accuracy vs different sample size\")\n",
    "plt.xlabel('sample size', fontsize=15)\n",
    "plt.ylabel('accuracy', fontsize=15)\n",
    "plt.plot(sample_size, accuracy)"
   ]
  },
  {
   "cell_type": "markdown",
   "metadata": {},
   "source": [
    "### Nearest Neighbor\n",
    "Normalize Data: Normalize features such that for each feature the mean is 0\n",
    "and the standard deviation is 1 in the train+validation data. Use the normal-\n",
    "izing factors calculated on train+validation data to modify the values in train,\n",
    "validation and test data."
   ]
  },
  {
   "cell_type": "code",
   "execution_count": 11,
   "metadata": {
    "collapsed": false
   },
   "outputs": [],
   "source": [
    "mean = X_train_valid.mean()\n",
    "std = X_train_valid.std()\n",
    "normalized_X_train = (X_train - mean) / std\n",
    "normalized_X_valid = (X_valid - mean) / std\n",
    "normalized_X_test = (X_test - mean) / std"
   ]
  },
  {
   "cell_type": "markdown",
   "metadata": {},
   "source": [
    "**Question 7**: Train k-nn model on train + validation data and report accuracy on test data. Use Euclidean distance and k=3. (1 mark)"
   ]
  },
  {
   "cell_type": "code",
   "execution_count": 57,
   "metadata": {
    "collapsed": false
   },
   "outputs": [
    {
     "name": "stdout",
     "output_type": "stream",
     "text": [
      "accuracy with Euclidean distance and k=3 is: 0.8718\n"
     ]
    }
   ],
   "source": [
    "# Import the classifier\n",
    "from sklearn.neighbors import KNeighborsClassifier\n",
    "normalized_X_train_valid = pd.concat([normalized_X_train, normalized_X_valid])\n",
    "\n",
    "clf = KNeighborsClassifier(n_neighbors=3, metric='euclidean')\n",
    "clf.fit(normalized_X_train_valid, y_train_valid['class']);\n",
    "y_pred = clf.predict(normalized_X_test)\n",
    "accuracy = np.sum(y_pred == y_test['class'])*1.0/len(y_test)\n",
    "print(\"accuracy with Euclidean distance and k=3 is: {:.4f}\".format(accuracy))"
   ]
  },
  {
   "cell_type": "markdown",
   "metadata": {},
   "source": [
    "**Question 8**: Train the model on train data for distance metrics defined by l1, linf, l2. Report the accuracies on the validation data. Select the best metric and report the accuracy on the test data for the selected metric. Use k=3."
   ]
  },
  {
   "cell_type": "code",
   "execution_count": 58,
   "metadata": {
    "collapsed": false
   },
   "outputs": [
    {
     "name": "stdout",
     "output_type": "stream",
     "text": [
      "Validation accuracy for metric manhattan is 0.9487\n",
      "Validation accuracy for metric euclidean is 0.9231\n",
      "Validation accuracy for metric chebyshev is 0.9231\n",
      "Select best metric: manhattan\n",
      "Test accuracy with metrics=manhattan and k=3 is 0.9744\n"
     ]
    }
   ],
   "source": [
    "best_metric = ''\n",
    "accuracy = 0\n",
    "for m in ['manhattan', 'euclidean', 'chebyshev']:\n",
    "    clf = KNeighborsClassifier(n_neighbors=3, metric=m)\n",
    "    clf.fit(normalized_X_train, y_train['class']);\n",
    "    y_pred = clf.predict(normalized_X_valid)\n",
    "    accu = np.sum(y_pred == y_valid['class'])*1.0/len(y_valid)\n",
    "    if accuracy < accu:\n",
    "        best_metric, accuracy = m, accu\n",
    "    print(\"Validation accuracy for metric {} is {:.4f}\".format(m, accu))\n",
    "    \n",
    "print(\"Select best metric: {}\".format(best_metric))\n",
    "clf = KNeighborsClassifier(n_neighbors=3, metric=best_metric)\n",
    "clf.fit(normalized_X_train_valid, y_train_valid['class']);\n",
    "y_pred = clf.predict(normalized_X_test)\n",
    "accuracy = np.sum(y_pred == y_test['class'])*1.0/len(y_test)\n",
    "print(\"Test accuracy with metrics={} and k=3 is {:.4f}\".format(best_metric, accuracy))"
   ]
  },
  {
   "cell_type": "markdown",
   "metadata": {},
   "source": [
    "**Question 9**: Train the k-nn model on train data for k=1,3,5,7,9. Report and plot the accuracies on the validation data. Select the best 'k' value and report the accuracy on the test data for the selected 'k'. Use Euclidean distance."
   ]
  },
  {
   "cell_type": "code",
   "execution_count": 59,
   "metadata": {
    "collapsed": false
   },
   "outputs": [
    {
     "name": "stdout",
     "output_type": "stream",
     "text": [
      "Validation accuracy for k 1 is 0.9487\n",
      "Validation accuracy for k 3 is 0.9231\n",
      "Validation accuracy for k 5 is 0.9487\n",
      "Validation accuracy for k 7 is 0.9744\n",
      "Validation accuracy for k 9 is 0.9487\n",
      "Select best k: 7\n"
     ]
    },
    {
     "data": {
      "image/png": "[encoded data removed]",
      "text/plain": [
       "<matplotlib.figure.Figure at 0x220da3e18d0>"
      ]
     },
     "metadata": {},
     "output_type": "display_data"
    },
    {
     "name": "stdout",
     "output_type": "stream",
     "text": [
      "Test accuracy with Euclidean distance and k=7 is 0.9231\n"
     ]
    }
   ],
   "source": [
    "k_size = [1,3,5,7,9]\n",
    "accuracy = []\n",
    "for k in k_size:\n",
    "    clf = KNeighborsClassifier(n_neighbors=k, metric='euclidean')\n",
    "    clf.fit(normalized_X_train, y_train['class']);\n",
    "    y_pred = clf.predict(normalized_X_valid)\n",
    "    accu = np.sum(y_pred == y_valid['class'])*1.0/len(y_valid)\n",
    "    accuracy.append(accu)\n",
    "    print(\"Validation accuracy for k {} is {:.4f}\".format(k, accu))\n",
    "\n",
    "best_k = k_size[np.argmax(accuracy)]\n",
    "print(\"Select best k: {}\".format(best_k))\n",
    "#plt.figure(figsize=(15,8))\n",
    "plt.xlabel('k size', fontsize=15)\n",
    "plt.ylabel('accuracy', fontsize=15)\n",
    "plt.title('accuracy vs k')\n",
    "plt.plot(k_size, accuracy)\n",
    "plt.show()\n",
    "clf = KNeighborsClassifier(n_neighbors=best_k, metric='euclidean')\n",
    "clf.fit(normalized_X_train_valid, y_train_valid['class']);\n",
    "y_pred = clf.predict(normalized_X_test)\n",
    "accuracy = np.sum(y_pred == y_test['class'])*1.0/len(y_test)\n",
    "print(\"Test accuracy with Euclidean distance and k={} is {:.4f}\".format(best_k, accuracy))"
   ]
  },
  {
   "cell_type": "markdown",
   "metadata": {},
   "source": [
    "**Question 10**: Instead of using full train data, train the model using the ﬁrst 20, 40, 60, 80 and 100 data samples from train data. Keep the validation set unchanged during this analysis. Report and plot the accuracies on the validation data. Use Euclidean distance and k=3. Note: Don’t shuﬄe the data and use only the ’ﬁrst n samples’, otherwise your answers may diﬀer. "
   ]
  },
  {
   "cell_type": "code",
   "execution_count": 68,
   "metadata": {
    "collapsed": false
   },
   "outputs": [
    {
     "name": "stdout",
     "output_type": "stream",
     "text": [
      "Validation accuracy with first 20 samples - 0.9487\n",
      "Validation accuracy with first 40 samples - 1.0000\n",
      "Validation accuracy with first 60 samples - 1.0000\n",
      "Validation accuracy with first 80 samples - 1.0000\n",
      "Validation accuracy with first 100 samples - 0.9231\n"
     ]
    },
    {
     "data": {
      "text/plain": [
       "[<matplotlib.lines.Line2D at 0x220da452e80>]"
      ]
     },
     "execution_count": 68,
     "metadata": {},
     "output_type": "execute_result"
    },
    {
     "data": {
      "image/png": "[encoded data removed]",
      "text/plain": [
       "<matplotlib.figure.Figure at 0x220da7c0198>"
      ]
     },
     "metadata": {},
     "output_type": "display_data"
    }
   ],
   "source": [
    "accuracy = []\n",
    "sample_size = [20, 40, 60, 80, 100]\n",
    "for n in sample_size:\n",
    "    clf = KNeighborsClassifier(n_neighbors=3, metric='euclidean')\n",
    "    clf.fit(normalized_X_train[:n], y_train[:n]['class'])\n",
    "    y_pred = clf.predict(normalized_X_valid)\n",
    "    accu = np.sum(y_pred == y_valid['class'])*1.0/len(y_valid)\n",
    "    print('Validation accuracy with first {} samples - {:.4f}'.format(n, accu))\n",
    "    accuracy.append(accu)\n",
    "    \n",
    "plt.title(\"accuracy vs different sample size\")\n",
    "plt.xlabel('sample size', fontsize=15)\n",
    "plt.ylabel('accuracy', fontsize=15)\n",
    "plt.plot(sample_size, accuracy)"
   ]
  },
  {
   "cell_type": "code",
   "execution_count": null,
   "metadata": {
    "collapsed": true
   },
   "outputs": [],
   "source": []
  }
 ],
 "metadata": {
  "kernelspec": {
   "display_name": "Python 3",
   "language": "python",
   "name": "python3"
  },
  "language_info": {
   "codemirror_mode": {
    "name": "ipython",
    "version": 3
   },
   "file_extension": ".py",
   "mimetype": "text/x-python",
   "name": "python",
   "nbconvert_exporter": "python",
   "pygments_lexer": "ipython3",
   "version": "3.6.0"
  }
 },
 "nbformat": 4,
 "nbformat_minor": 2
}
