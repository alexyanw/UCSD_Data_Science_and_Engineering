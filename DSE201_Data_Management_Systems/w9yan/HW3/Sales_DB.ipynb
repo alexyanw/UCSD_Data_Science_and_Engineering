{
 "cells": [
  {
   "cell_type": "code",
   "execution_count": 20,
   "metadata": {
    "collapsed": false
   },
   "outputs": [],
   "source": [
    "import psycopg2\n",
    "import math\n",
    "from random import randint\n"
   ]
  },
  {
   "cell_type": "code",
   "execution_count": 21,
   "metadata": {
    "collapsed": false
   },
   "outputs": [],
   "source": [
    "with open(\"USA_states.txt\") as f:\n",
    "    states = f.readlines()\n",
    "states = [x.strip() for x in states]\n",
    "\n",
    "with open(\"state_codes.txt\") as f:\n",
    "    state_codes = f.readlines()\n",
    "state_codes = [x.strip() for x in state_codes]\n",
    "\n",
    "# create sate table\n",
    "state_table = []\n",
    "for state in states:\n",
    "    state_info = {\"state_name\": state}\n",
    "    state_table.append(state_info) \n",
    "    \n",
    "state_table_t = tuple(state_table)\n",
    "#state_table_t"
   ]
  },
  {
   "cell_type": "code",
   "execution_count": 22,
   "metadata": {
    "collapsed": false
   },
   "outputs": [],
   "source": [
    "#Create entries for customer table customer name = State_code+number(0:10000)\n",
    "customer_list = []\n",
    "customer_table = []\n",
    "#CUST_SIZE = 10\n",
    "CUST_SIZE = 10000\n",
    "padding = int(math.log10(CUST_SIZE))\n",
    "for i in range (CUST_SIZE):\n",
    "    for state_code in state_codes:\n",
    "        customer_list.append(state_code+str(i).zfill(padding))\n",
    "        cust_info = {\n",
    "            \"customer_name\" : state_code+str(i).zfill(padding),\n",
    "            \"state_id\"      : randint(2,len(state_codes))\n",
    "        }\n",
    "        customer_table.append(cust_info)\n",
    "\n",
    "customer_table_t = tuple(customer_table)"
   ]
  },
  {
   "cell_type": "code",
   "execution_count": 23,
   "metadata": {
    "collapsed": false
   },
   "outputs": [],
   "source": [
    "#create entries for sales category table\n",
    "category_table = []\n",
    "category_list = []\n",
    "#CAT_SIZE = 10\n",
    "CAT_SIZE = 30\n",
    "padding = int(math.log10(CAT_SIZE))\n",
    "for i in range (CAT_SIZE):\n",
    "    category_list.append(\"CAT\"+str(i).zfill(padding))\n",
    "    cat_info = {\n",
    "        \"category_name\" : \"CAT\"+str(i).zfill(padding),\n",
    "        \"category_desc\" : \"Product Category \"+str(i).zfill(padding)\n",
    "    }\n",
    "    category_table.append(cat_info)\n",
    "\n",
    "category_table_t = tuple(category_table)"
   ]
  },
  {
   "cell_type": "code",
   "execution_count": 24,
   "metadata": {
    "collapsed": false
   },
   "outputs": [
    {
     "data": {
      "text/plain": [
       "30"
      ]
     },
     "execution_count": 24,
     "metadata": {},
     "output_type": "execute_result"
    }
   ],
   "source": [
    "len(category_table_t)"
   ]
  },
  {
   "cell_type": "code",
   "execution_count": 25,
   "metadata": {
    "collapsed": false
   },
   "outputs": [],
   "source": [
    "#create sales table. 1000 products in each category\n",
    "product_table = []\n",
    "product_list = []\n",
    "#PROD_SIZE = 10\n",
    "PROD_SIZE = 20\n",
    "padding = int(math.log10(PROD_SIZE))\n",
    "for cat in category_list:\n",
    "    for i in range (PROD_SIZE):\n",
    "        product_list.append(\"Prod\"+str(i).zfill(padding)+cat)\n",
    "        prod_info = {\n",
    "            \"product_name\" : \"Prod\"+str(i).zfill(padding)+cat,\n",
    "            \"category_id\" : category_list.index(cat)+1,\n",
    "            \"list_price\"   : float(category_list.index(cat)+10)\n",
    "        }\n",
    "        product_table.append(prod_info)\n",
    "\n",
    "product_table_t = tuple(product_table)"
   ]
  },
  {
   "cell_type": "code",
   "execution_count": 26,
   "metadata": {
    "collapsed": false
   },
   "outputs": [
    {
     "data": {
      "text/plain": [
       "600"
      ]
     },
     "execution_count": 26,
     "metadata": {},
     "output_type": "execute_result"
    }
   ],
   "source": [
    "len(product_list)"
   ]
  },
  {
   "cell_type": "code",
   "execution_count": 27,
   "metadata": {
    "collapsed": false
   },
   "outputs": [],
   "source": [
    "#create sale database\n",
    "sale_table = []\n",
    "sale_list = []\n",
    "\n",
    "for i in range(100000):\n",
    "    sale_info = {\n",
    "        \"customer_id\" : randint(2, CUST_SIZE),\n",
    "        \"product_id\"  :  randint(2, PROD_SIZE),\n",
    "        \"quantity\"    : randint(1,9),\n",
    "        \"price\"       : float(randint(1,50)+10)\n",
    "    }\n",
    "    sale_table.append(sale_info)\n",
    "\n",
    "sale_table_t = tuple(sale_table)"
   ]
  },
  {
   "cell_type": "code",
   "execution_count": 28,
   "metadata": {
    "collapsed": false
   },
   "outputs": [
    {
     "data": {
      "text/plain": [
       "100000"
      ]
     },
     "execution_count": 28,
     "metadata": {},
     "output_type": "execute_result"
    }
   ],
   "source": [
    "len(sale_table_t)"
   ]
  },
  {
   "cell_type": "code",
   "execution_count": 29,
   "metadata": {
    "collapsed": false
   },
   "outputs": [
    {
     "data": {
      "text/plain": [
       "{'customer_id': 1919, 'price': 54.0, 'product_id': 15, 'quantity': 9}"
      ]
     },
     "execution_count": 29,
     "metadata": {},
     "output_type": "execute_result"
    }
   ],
   "source": [
    "sale_table_t[10]"
   ]
  },
  {
   "cell_type": "code",
   "execution_count": 30,
   "metadata": {
    "collapsed": false
   },
   "outputs": [],
   "source": [
    "# create a connection to database. make sure that the db name and password are correct\n",
    "try:\n",
    "    conn = psycopg2.connect(\"dbname='dse201' user='postgres' host='localhost' password='postgres'\")\n",
    "except:\n",
    "    print \"unable to connect to the database\"\n",
    "    \n",
    "    \n",
    "conn.set_session(autocommit = True)\n",
    "cur = conn.cursor()"
   ]
  },
  {
   "cell_type": "code",
   "execution_count": 31,
   "metadata": {
    "collapsed": false
   },
   "outputs": [],
   "source": [
    "cur.executemany(\"\"\"INSERT INTO sales.state(state_name) VALUES (%(state_name)s)\"\"\", state_table_t)"
   ]
  },
  {
   "cell_type": "code",
   "execution_count": 32,
   "metadata": {
    "collapsed": false
   },
   "outputs": [],
   "source": [
    "cur.executemany(\"\"\"INSERT INTO sales.customer(customer_name,state_id) VALUES (%(customer_name)s, %(state_id)s)\"\"\",\n",
    "                customer_table_t)\n"
   ]
  },
  {
   "cell_type": "code",
   "execution_count": 33,
   "metadata": {
    "collapsed": true
   },
   "outputs": [],
   "source": [
    "cur.executemany(\"\"\"INSERT INTO sales.category(category_name,category_desc) VALUES (%(category_name)s, %(category_desc)s)\"\"\",\n",
    "                category_table_t)"
   ]
  },
  {
   "cell_type": "code",
   "execution_count": 34,
   "metadata": {
    "collapsed": true
   },
   "outputs": [],
   "source": [
    "cur.executemany(\"\"\"INSERT INTO sales.product(product_name,category_id,list_price) VALUES (%(product_name)s, %(category_id)s, %(list_price)s)\"\"\",\n",
    "                product_table_t)"
   ]
  },
  {
   "cell_type": "code",
   "execution_count": 35,
   "metadata": {
    "collapsed": false
   },
   "outputs": [],
   "source": [
    "cur.executemany(\"\"\"INSERT INTO sales.sale(customer_id,product_id,quantity,price) VALUES (%(customer_id)s, %(product_id)s, %(quantity)s, %(price)s)\"\"\",\n",
    "                sale_table_t)"
   ]
  },
  {
   "cell_type": "code",
   "execution_count": 36,
   "metadata": {
    "collapsed": false
   },
   "outputs": [
    {
     "name": "stdout",
     "output_type": "stream",
     "text": [
      "    (1, 1138, 15, 6, Decimal('60.0'))\n",
      "    (2, 7415, 8, 3, Decimal('34.0'))\n",
      "    (3, 5856, 2, 2, Decimal('50.0'))\n",
      "    (4, 9119, 12, 6, Decimal('57.0'))\n",
      "    (5, 3163, 9, 9, Decimal('59.0'))\n",
      "    (6, 1067, 5, 2, Decimal('32.0'))\n",
      "    (7, 219, 13, 9, Decimal('42.0'))\n",
      "    (8, 7427, 18, 3, Decimal('42.0'))\n",
      "    (9, 6018, 6, 1, Decimal('15.0'))\n",
      "    (10, 5279, 7, 3, Decimal('22.0'))\n"
     ]
    }
   ],
   "source": [
    "try:\n",
    "    cur.execute(\"\"\"SELECT * from sales.sale limit 10\"\"\")\n",
    "except:\n",
    "    print \"Failed SELECT from sales.sale\"\n",
    "\n",
    "rows = cur.fetchall()\n",
    "for row in rows:\n",
    "    print \"   \", row"
   ]
  },
  {
   "cell_type": "code",
   "execution_count": 37,
   "metadata": {
    "collapsed": false
   },
   "outputs": [
    {
     "name": "stdout",
     "output_type": "stream",
     "text": [
      "    (1, 'AL0000', 11)\n",
      "    (2, 'AK0000', 33)\n",
      "    (3, 'AZ0000', 36)\n",
      "    (4, 'AR0000', 43)\n",
      "    (5, 'CA0000', 17)\n"
     ]
    }
   ],
   "source": [
    "\n",
    "try:\n",
    "    cur.execute(\"\"\"SELECT * from sales.customer limit 5\"\"\")\n",
    "except:\n",
    "    print \"Failed SELECT from sales.customer\"\n",
    "\n",
    "rows = cur.fetchall()\n",
    "for row in rows:\n",
    "    print \"   \", row"
   ]
  },
  {
   "cell_type": "code",
   "execution_count": 38,
   "metadata": {
    "collapsed": false
   },
   "outputs": [],
   "source": [
    "#close the connection to db\n",
    "conn.close()"
   ]
  },
  {
   "cell_type": "code",
   "execution_count": null,
   "metadata": {
    "collapsed": true
   },
   "outputs": [],
   "source": []
  }
 ],
 "metadata": {
  "kernelspec": {
   "display_name": "Python [default]",
   "language": "python",
   "name": "python2"
  },
  "language_info": {
   "codemirror_mode": {
    "name": "ipython",
    "version": 2
   },
   "file_extension": ".py",
   "mimetype": "text/x-python",
   "name": "python",
   "nbconvert_exporter": "python",
   "pygments_lexer": "ipython2",
   "version": "2.7.13"
  }
 },
 "nbformat": 4,
 "nbformat_minor": 1
}
