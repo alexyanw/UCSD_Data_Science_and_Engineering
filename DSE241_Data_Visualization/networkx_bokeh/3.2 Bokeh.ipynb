{
 "cells": [
  {
   "cell_type": "code",
   "execution_count": 1,
   "metadata": {},
   "outputs": [],
   "source": [
    "from bokeh.io import output_notebook, show\n",
    "from bokeh.plotting import figure"
   ]
  },
  {
   "cell_type": "code",
   "execution_count": 2,
   "metadata": {},
   "outputs": [
    {
     "data": {
      "text/html": [
       "\n",
       "    <div class=\"bk-root\">\n",
       "        <a href=\"https://bokeh.pydata.org\" target=\"_blank\" class=\"bk-logo bk-logo-small bk-logo-notebook\"></a>\n",
       "        <span id=\"380fdafb-b0ba-4c8b-8409-9502e8f83a87\">Loading BokehJS ...</span>\n",
       "    </div>"
      ]
     },
     "metadata": {},
     "output_type": "display_data"
    },
    {
     "data": {
      "application/javascript": [
       "\n",
       "(function(root) {\n",
       "  function now() {\n",
       "    return new Date();\n",
       "  }\n",
       "\n",
       "  var force = true;\n",
       "\n",
       "  if (typeof (root._bokeh_onload_callbacks) === \"undefined\" || force === true) {\n",
       "    root._bokeh_onload_callbacks = [];\n",
       "    root._bokeh_is_loading = undefined;\n",
       "  }\n",
       "\n",
       "  var JS_MIME_TYPE = 'application/javascript';\n",
       "  var HTML_MIME_TYPE = 'text/html';\n",
       "  var EXEC_MIME_TYPE = 'application/vnd.bokehjs_exec.v0+json';\n",
       "  var CLASS_NAME = 'output_bokeh rendered_html';\n",
       "\n",
       "  /**\n",
       "   * Render data to the DOM node\n",
       "   */\n",
       "  function render(props, node) {\n",
       "    var script = document.createElement(\"script\");\n",
       "    node.appendChild(script);\n",
       "  }\n",
       "\n",
       "  /**\n",
       "   * Handle when an output is cleared or removed\n",
       "   */\n",
       "  function handleClearOutput(event, handle) {\n",
       "    var cell = handle.cell;\n",
       "\n",
       "    var id = cell.output_area._bokeh_element_id;\n",
       "    var server_id = cell.output_area._bokeh_server_id;\n",
       "    // Clean up Bokeh references\n",
       "    if (id !== undefined) {\n",
       "      Bokeh.index[id].model.document.clear();\n",
       "      delete Bokeh.index[id];\n",
       "    }\n",
       "\n",
       "    if (server_id !== undefined) {\n",
       "      // Clean up Bokeh references\n",
       "      var cmd = \"from bokeh.io.state import curstate; print(curstate().uuid_to_server['\" + server_id + \"'].get_sessions()[0].document.roots[0]._id)\";\n",
       "      cell.notebook.kernel.execute(cmd, {\n",
       "        iopub: {\n",
       "          output: function(msg) {\n",
       "            var element_id = msg.content.text.trim();\n",
       "            Bokeh.index[element_id].model.document.clear();\n",
       "            delete Bokeh.index[element_id];\n",
       "          }\n",
       "        }\n",
       "      });\n",
       "      // Destroy server and session\n",
       "      var cmd = \"import bokeh.io.notebook as ion; ion.destroy_server('\" + server_id + \"')\";\n",
       "      cell.notebook.kernel.execute(cmd);\n",
       "    }\n",
       "  }\n",
       "\n",
       "  /**\n",
       "   * Handle when a new output is added\n",
       "   */\n",
       "  function handleAddOutput(event, handle) {\n",
       "    var output_area = handle.output_area;\n",
       "    var output = handle.output;\n",
       "\n",
       "    // limit handleAddOutput to display_data with EXEC_MIME_TYPE content only\n",
       "    if ((output.output_type != \"display_data\") || (!output.data.hasOwnProperty(EXEC_MIME_TYPE))) {\n",
       "      return\n",
       "    }\n",
       "\n",
       "    var toinsert = output_area.element.find(\".\" + CLASS_NAME.split(' ')[0]);\n",
       "\n",
       "    if (output.metadata[EXEC_MIME_TYPE][\"id\"] !== undefined) {\n",
       "      toinsert[0].firstChild.textContent = output.data[JS_MIME_TYPE];\n",
       "      // store reference to embed id on output_area\n",
       "      output_area._bokeh_element_id = output.metadata[EXEC_MIME_TYPE][\"id\"];\n",
       "    }\n",
       "    if (output.metadata[EXEC_MIME_TYPE][\"server_id\"] !== undefined) {\n",
       "      var bk_div = document.createElement(\"div\");\n",
       "      bk_div.innerHTML = output.data[HTML_MIME_TYPE];\n",
       "      var script_attrs = bk_div.children[0].attributes;\n",
       "      for (var i = 0; i < script_attrs.length; i++) {\n",
       "        toinsert[0].firstChild.setAttribute(script_attrs[i].name, script_attrs[i].value);\n",
       "      }\n",
       "      // store reference to server id on output_area\n",
       "      output_area._bokeh_server_id = output.metadata[EXEC_MIME_TYPE][\"server_id\"];\n",
       "    }\n",
       "  }\n",
       "\n",
       "  function register_renderer(events, OutputArea) {\n",
       "\n",
       "    function append_mime(data, metadata, element) {\n",
       "      // create a DOM node to render to\n",
       "      var toinsert = this.create_output_subarea(\n",
       "        metadata,\n",
       "        CLASS_NAME,\n",
       "        EXEC_MIME_TYPE\n",
       "      );\n",
       "      this.keyboard_manager.register_events(toinsert);\n",
       "      // Render to node\n",
       "      var props = {data: data, metadata: metadata[EXEC_MIME_TYPE]};\n",
       "      render(props, toinsert[0]);\n",
       "      element.append(toinsert);\n",
       "      return toinsert\n",
       "    }\n",
       "\n",
       "    /* Handle when an output is cleared or removed */\n",
       "    events.on('clear_output.CodeCell', handleClearOutput);\n",
       "    events.on('delete.Cell', handleClearOutput);\n",
       "\n",
       "    /* Handle when a new output is added */\n",
       "    events.on('output_added.OutputArea', handleAddOutput);\n",
       "\n",
       "    /**\n",
       "     * Register the mime type and append_mime function with output_area\n",
       "     */\n",
       "    OutputArea.prototype.register_mime_type(EXEC_MIME_TYPE, append_mime, {\n",
       "      /* Is output safe? */\n",
       "      safe: true,\n",
       "      /* Index of renderer in `output_area.display_order` */\n",
       "      index: 0\n",
       "    });\n",
       "  }\n",
       "\n",
       "  // register the mime type if in Jupyter Notebook environment and previously unregistered\n",
       "  if (root.Jupyter !== undefined) {\n",
       "    var events = require('base/js/events');\n",
       "    var OutputArea = require('notebook/js/outputarea').OutputArea;\n",
       "\n",
       "    if (OutputArea.prototype.mime_types().indexOf(EXEC_MIME_TYPE) == -1) {\n",
       "      register_renderer(events, OutputArea);\n",
       "    }\n",
       "  }\n",
       "\n",
       "  \n",
       "  if (typeof (root._bokeh_timeout) === \"undefined\" || force === true) {\n",
       "    root._bokeh_timeout = Date.now() + 5000;\n",
       "    root._bokeh_failed_load = false;\n",
       "  }\n",
       "\n",
       "  var NB_LOAD_WARNING = {'data': {'text/html':\n",
       "     \"<div style='background-color: #fdd'>\\n\"+\n",
       "     \"<p>\\n\"+\n",
       "     \"BokehJS does not appear to have successfully loaded. If loading BokehJS from CDN, this \\n\"+\n",
       "     \"may be due to a slow or bad network connection. Possible fixes:\\n\"+\n",
       "     \"</p>\\n\"+\n",
       "     \"<ul>\\n\"+\n",
       "     \"<li>re-rerun `output_notebook()` to attempt to load from CDN again, or</li>\\n\"+\n",
       "     \"<li>use INLINE resources instead, as so:</li>\\n\"+\n",
       "     \"</ul>\\n\"+\n",
       "     \"<code>\\n\"+\n",
       "     \"from bokeh.resources import INLINE\\n\"+\n",
       "     \"output_notebook(resources=INLINE)\\n\"+\n",
       "     \"</code>\\n\"+\n",
       "     \"</div>\"}};\n",
       "\n",
       "  function display_loaded() {\n",
       "    var el = document.getElementById(\"380fdafb-b0ba-4c8b-8409-9502e8f83a87\");\n",
       "    if (el != null) {\n",
       "      el.textContent = \"BokehJS is loading...\";\n",
       "    }\n",
       "    if (root.Bokeh !== undefined) {\n",
       "      if (el != null) {\n",
       "        el.textContent = \"BokehJS \" + root.Bokeh.version + \" successfully loaded.\";\n",
       "      }\n",
       "    } else if (Date.now() < root._bokeh_timeout) {\n",
       "      setTimeout(display_loaded, 100)\n",
       "    }\n",
       "  }\n",
       "\n",
       "\n",
       "  function run_callbacks() {\n",
       "    try {\n",
       "      root._bokeh_onload_callbacks.forEach(function(callback) { callback() });\n",
       "    }\n",
       "    finally {\n",
       "      delete root._bokeh_onload_callbacks\n",
       "    }\n",
       "    console.info(\"Bokeh: all callbacks have finished\");\n",
       "  }\n",
       "\n",
       "  function load_libs(js_urls, callback) {\n",
       "    root._bokeh_onload_callbacks.push(callback);\n",
       "    if (root._bokeh_is_loading > 0) {\n",
       "      console.log(\"Bokeh: BokehJS is being loaded, scheduling callback at\", now());\n",
       "      return null;\n",
       "    }\n",
       "    if (js_urls == null || js_urls.length === 0) {\n",
       "      run_callbacks();\n",
       "      return null;\n",
       "    }\n",
       "    console.log(\"Bokeh: BokehJS not loaded, scheduling load and callback at\", now());\n",
       "    root._bokeh_is_loading = js_urls.length;\n",
       "    for (var i = 0; i < js_urls.length; i++) {\n",
       "      var url = js_urls[i];\n",
       "      var s = document.createElement('script');\n",
       "      s.src = url;\n",
       "      s.async = false;\n",
       "      s.onreadystatechange = s.onload = function() {\n",
       "        root._bokeh_is_loading--;\n",
       "        if (root._bokeh_is_loading === 0) {\n",
       "          console.log(\"Bokeh: all BokehJS libraries loaded\");\n",
       "          run_callbacks()\n",
       "        }\n",
       "      };\n",
       "      s.onerror = function() {\n",
       "        console.warn(\"failed to load library \" + url);\n",
       "      };\n",
       "      console.log(\"Bokeh: injecting script tag for BokehJS library: \", url);\n",
       "      document.getElementsByTagName(\"head\")[0].appendChild(s);\n",
       "    }\n",
       "  };var element = document.getElementById(\"380fdafb-b0ba-4c8b-8409-9502e8f83a87\");\n",
       "  if (element == null) {\n",
       "    console.log(\"Bokeh: ERROR: autoload.js configured with elementid '380fdafb-b0ba-4c8b-8409-9502e8f83a87' but no matching script tag was found. \")\n",
       "    return false;\n",
       "  }\n",
       "\n",
       "  var js_urls = [\"https://cdn.pydata.org/bokeh/release/bokeh-0.12.13.min.js\", \"https://cdn.pydata.org/bokeh/release/bokeh-widgets-0.12.13.min.js\", \"https://cdn.pydata.org/bokeh/release/bokeh-tables-0.12.13.min.js\", \"https://cdn.pydata.org/bokeh/release/bokeh-gl-0.12.13.min.js\"];\n",
       "\n",
       "  var inline_js = [\n",
       "    function(Bokeh) {\n",
       "      Bokeh.set_log_level(\"info\");\n",
       "    },\n",
       "    \n",
       "    function(Bokeh) {\n",
       "      \n",
       "    },\n",
       "    function(Bokeh) {\n",
       "      console.log(\"Bokeh: injecting CSS: https://cdn.pydata.org/bokeh/release/bokeh-0.12.13.min.css\");\n",
       "      Bokeh.embed.inject_css(\"https://cdn.pydata.org/bokeh/release/bokeh-0.12.13.min.css\");\n",
       "      console.log(\"Bokeh: injecting CSS: https://cdn.pydata.org/bokeh/release/bokeh-widgets-0.12.13.min.css\");\n",
       "      Bokeh.embed.inject_css(\"https://cdn.pydata.org/bokeh/release/bokeh-widgets-0.12.13.min.css\");\n",
       "      console.log(\"Bokeh: injecting CSS: https://cdn.pydata.org/bokeh/release/bokeh-tables-0.12.13.min.css\");\n",
       "      Bokeh.embed.inject_css(\"https://cdn.pydata.org/bokeh/release/bokeh-tables-0.12.13.min.css\");\n",
       "    }\n",
       "  ];\n",
       "\n",
       "  function run_inline_js() {\n",
       "    \n",
       "    if ((root.Bokeh !== undefined) || (force === true)) {\n",
       "      for (var i = 0; i < inline_js.length; i++) {\n",
       "        inline_js[i].call(root, root.Bokeh);\n",
       "      }if (force === true) {\n",
       "        display_loaded();\n",
       "      }} else if (Date.now() < root._bokeh_timeout) {\n",
       "      setTimeout(run_inline_js, 100);\n",
       "    } else if (!root._bokeh_failed_load) {\n",
       "      console.log(\"Bokeh: BokehJS failed to load within specified timeout.\");\n",
       "      root._bokeh_failed_load = true;\n",
       "    } else if (force !== true) {\n",
       "      var cell = $(document.getElementById(\"380fdafb-b0ba-4c8b-8409-9502e8f83a87\")).parents('.cell').data().cell;\n",
       "      cell.output_area.append_execute_result(NB_LOAD_WARNING)\n",
       "    }\n",
       "\n",
       "  }\n",
       "\n",
       "  if (root._bokeh_is_loading === 0) {\n",
       "    console.log(\"Bokeh: BokehJS loaded, going straight to plotting\");\n",
       "    run_inline_js();\n",
       "  } else {\n",
       "    load_libs(js_urls, function() {\n",
       "      console.log(\"Bokeh: BokehJS plotting callback run at\", now());\n",
       "      run_inline_js();\n",
       "    });\n",
       "  }\n",
       "}(window));"
      ],
      "application/vnd.bokehjs_load.v0+json": "\n(function(root) {\n  function now() {\n    return new Date();\n  }\n\n  var force = true;\n\n  if (typeof (root._bokeh_onload_callbacks) === \"undefined\" || force === true) {\n    root._bokeh_onload_callbacks = [];\n    root._bokeh_is_loading = undefined;\n  }\n\n  \n\n  \n  if (typeof (root._bokeh_timeout) === \"undefined\" || force === true) {\n    root._bokeh_timeout = Date.now() + 5000;\n    root._bokeh_failed_load = false;\n  }\n\n  var NB_LOAD_WARNING = {'data': {'text/html':\n     \"<div style='background-color: #fdd'>\\n\"+\n     \"<p>\\n\"+\n     \"BokehJS does not appear to have successfully loaded. If loading BokehJS from CDN, this \\n\"+\n     \"may be due to a slow or bad network connection. Possible fixes:\\n\"+\n     \"</p>\\n\"+\n     \"<ul>\\n\"+\n     \"<li>re-rerun `output_notebook()` to attempt to load from CDN again, or</li>\\n\"+\n     \"<li>use INLINE resources instead, as so:</li>\\n\"+\n     \"</ul>\\n\"+\n     \"<code>\\n\"+\n     \"from bokeh.resources import INLINE\\n\"+\n     \"output_notebook(resources=INLINE)\\n\"+\n     \"</code>\\n\"+\n     \"</div>\"}};\n\n  function display_loaded() {\n    var el = document.getElementById(\"380fdafb-b0ba-4c8b-8409-9502e8f83a87\");\n    if (el != null) {\n      el.textContent = \"BokehJS is loading...\";\n    }\n    if (root.Bokeh !== undefined) {\n      if (el != null) {\n        el.textContent = \"BokehJS \" + root.Bokeh.version + \" successfully loaded.\";\n      }\n    } else if (Date.now() < root._bokeh_timeout) {\n      setTimeout(display_loaded, 100)\n    }\n  }\n\n\n  function run_callbacks() {\n    try {\n      root._bokeh_onload_callbacks.forEach(function(callback) { callback() });\n    }\n    finally {\n      delete root._bokeh_onload_callbacks\n    }\n    console.info(\"Bokeh: all callbacks have finished\");\n  }\n\n  function load_libs(js_urls, callback) {\n    root._bokeh_onload_callbacks.push(callback);\n    if (root._bokeh_is_loading > 0) {\n      console.log(\"Bokeh: BokehJS is being loaded, scheduling callback at\", now());\n      return null;\n    }\n    if (js_urls == null || js_urls.length === 0) {\n      run_callbacks();\n      return null;\n    }\n    console.log(\"Bokeh: BokehJS not loaded, scheduling load and callback at\", now());\n    root._bokeh_is_loading = js_urls.length;\n    for (var i = 0; i < js_urls.length; i++) {\n      var url = js_urls[i];\n      var s = document.createElement('script');\n      s.src = url;\n      s.async = false;\n      s.onreadystatechange = s.onload = function() {\n        root._bokeh_is_loading--;\n        if (root._bokeh_is_loading === 0) {\n          console.log(\"Bokeh: all BokehJS libraries loaded\");\n          run_callbacks()\n        }\n      };\n      s.onerror = function() {\n        console.warn(\"failed to load library \" + url);\n      };\n      console.log(\"Bokeh: injecting script tag for BokehJS library: \", url);\n      document.getElementsByTagName(\"head\")[0].appendChild(s);\n    }\n  };var element = document.getElementById(\"380fdafb-b0ba-4c8b-8409-9502e8f83a87\");\n  if (element == null) {\n    console.log(\"Bokeh: ERROR: autoload.js configured with elementid '380fdafb-b0ba-4c8b-8409-9502e8f83a87' but no matching script tag was found. \")\n    return false;\n  }\n\n  var js_urls = [\"https://cdn.pydata.org/bokeh/release/bokeh-0.12.13.min.js\", \"https://cdn.pydata.org/bokeh/release/bokeh-widgets-0.12.13.min.js\", \"https://cdn.pydata.org/bokeh/release/bokeh-tables-0.12.13.min.js\", \"https://cdn.pydata.org/bokeh/release/bokeh-gl-0.12.13.min.js\"];\n\n  var inline_js = [\n    function(Bokeh) {\n      Bokeh.set_log_level(\"info\");\n    },\n    \n    function(Bokeh) {\n      \n    },\n    function(Bokeh) {\n      console.log(\"Bokeh: injecting CSS: https://cdn.pydata.org/bokeh/release/bokeh-0.12.13.min.css\");\n      Bokeh.embed.inject_css(\"https://cdn.pydata.org/bokeh/release/bokeh-0.12.13.min.css\");\n      console.log(\"Bokeh: injecting CSS: https://cdn.pydata.org/bokeh/release/bokeh-widgets-0.12.13.min.css\");\n      Bokeh.embed.inject_css(\"https://cdn.pydata.org/bokeh/release/bokeh-widgets-0.12.13.min.css\");\n      console.log(\"Bokeh: injecting CSS: https://cdn.pydata.org/bokeh/release/bokeh-tables-0.12.13.min.css\");\n      Bokeh.embed.inject_css(\"https://cdn.pydata.org/bokeh/release/bokeh-tables-0.12.13.min.css\");\n    }\n  ];\n\n  function run_inline_js() {\n    \n    if ((root.Bokeh !== undefined) || (force === true)) {\n      for (var i = 0; i < inline_js.length; i++) {\n        inline_js[i].call(root, root.Bokeh);\n      }if (force === true) {\n        display_loaded();\n      }} else if (Date.now() < root._bokeh_timeout) {\n      setTimeout(run_inline_js, 100);\n    } else if (!root._bokeh_failed_load) {\n      console.log(\"Bokeh: BokehJS failed to load within specified timeout.\");\n      root._bokeh_failed_load = true;\n    } else if (force !== true) {\n      var cell = $(document.getElementById(\"380fdafb-b0ba-4c8b-8409-9502e8f83a87\")).parents('.cell').data().cell;\n      cell.output_area.append_execute_result(NB_LOAD_WARNING)\n    }\n\n  }\n\n  if (root._bokeh_is_loading === 0) {\n    console.log(\"Bokeh: BokehJS loaded, going straight to plotting\");\n    run_inline_js();\n  } else {\n    load_libs(js_urls, function() {\n      console.log(\"Bokeh: BokehJS plotting callback run at\", now());\n      run_inline_js();\n    });\n  }\n}(window));"
     },
     "metadata": {},
     "output_type": "display_data"
    }
   ],
   "source": [
    "output_notebook()"
   ]
  },
  {
   "cell_type": "markdown",
   "metadata": {},
   "source": [
    "# Colors and Properties"
   ]
  },
  {
   "cell_type": "markdown",
   "metadata": {},
   "source": [
    "## Colors\n",
    "\n",
    "There are many places where you may need to specify colors. Bokeh can accept colors in a variety of different ways:\n",
    "\n",
    "* any of the [147 named CSS colors](http://www.w3schools.com/cssref/css_colornames.asp), e.g ``'green'``, ``'indigo'``\n",
    "* an RGB(A) hex value, e.g., ``'#FF0000'``, ``'#44444444'``\n",
    "* a 3-tuple of integers *(r,g,b)* between 0 and 255\n",
    "*  a 4-tuple of *(r,g,b,a)* where *r*, *g*, *b* are integers between 0 and 255 and *a* is a floating point value between 0 and 1\n",
    "\n"
   ]
  },
  {
   "cell_type": "markdown",
   "metadata": {
    "collapsed": true
   },
   "source": [
    "## Properties\n",
    "\n",
    "Regardless of what API (``models``, ``plotting``, or ``charts``) is used to create a Bokeh plot, styling the visual aspects of the plot can always be accomplished by setting attributes on the Bokeh model objects that comprise the resulting plot. Visual properties come in three kinds: line, fill, and text properties. For full information with code and examples see the [Styling Visual Properties](http://bokeh.pydata.org/en/latest/docs/user_guide/styling.html) section of the user guide. \n",
    "\n",
    "----\n",
    "\n",
    "### Line Properties\n",
    "\n",
    "Set the visual appearance of lines. The most common are ``line_color``, ``line_alpha``, ``line_width`` and ``line_dash``.\n",
    "\n",
    "### Fill Properties\n",
    "\n",
    "Set the visual appearance of filled areas: ``fill_color`` and ``fill_alpha``.\n",
    "\n",
    "### Text Properties\n",
    "\n",
    "Set the visual appearance of lines of text. The most common are ``text_font``, ``text_font_size``, ``text_color``, and ``text_alpha``.\n",
    "\n",
    "----\n",
    "\n",
    "Sometimes a prefix is used with property names, e.g. to distinguish between different line properties on the same object, or to give a more meaningful name. For example, to set the line width of the plot outline, you would say ``myplot.outline_line_width = 2``. "
   ]
  },
  {
   "cell_type": "markdown",
   "metadata": {},
   "source": [
    "# Plots\n",
    "\n",
    "Many top-level attributes of plots (outline, border, etc.) can be configured. See the [Plots](http://bokeh.pydata.org/en/latest/docs/user_guide/styling.html#plots) section of the styling guide for full information. \n",
    "\n",
    "Here is an example that tweaks the plot outline:"
   ]
  },
  {
   "cell_type": "code",
   "execution_count": 3,
   "metadata": {
    "scrolled": false
   },
   "outputs": [
    {
     "data": {
      "text/html": [
       "\n",
       "<div class=\"bk-root\">\n",
       "    <div class=\"bk-plotdiv\" id=\"a1334df6-c8c5-43c5-84c4-229168ba7b78\"></div>\n",
       "</div>"
      ]
     },
     "metadata": {},
     "output_type": "display_data"
    },
    {
     "data": {
      "application/javascript": [
       "(function(root) {\n",
       "  function embed_document(root) {\n",
       "    \n",
       "  var docs_json = {\"7badccf0-47b2-4c63-9ccf-63e78d89cffe\":{\"roots\":{\"references\":[{\"attributes\":{\"overlay\":{\"id\":\"d166f83c-b415-4b4e-865b-d97b5dbb7a02\",\"type\":\"BoxAnnotation\"}},\"id\":\"c1240a47-9b47-4eaa-a93b-92676d211b1a\",\"type\":\"BoxZoomTool\"},{\"attributes\":{\"bottom_units\":\"screen\",\"fill_alpha\":{\"value\":0.5},\"fill_color\":{\"value\":\"lightgrey\"},\"left_units\":\"screen\",\"level\":\"overlay\",\"line_alpha\":{\"value\":1.0},\"line_color\":{\"value\":\"black\"},\"line_dash\":[4,4],\"line_width\":{\"value\":2},\"plot\":null,\"render_mode\":\"css\",\"right_units\":\"screen\",\"top_units\":\"screen\"},\"id\":\"d166f83c-b415-4b4e-865b-d97b5dbb7a02\",\"type\":\"BoxAnnotation\"},{\"attributes\":{\"callback\":null},\"id\":\"e136987d-ad60-4411-b83d-d21d4178478b\",\"type\":\"DataRange1d\"},{\"attributes\":{\"plot\":null,\"text\":\"\"},\"id\":\"06604c80-af65-49b9-bf6c-babc11cd1535\",\"type\":\"Title\"},{\"attributes\":{},\"id\":\"b9c0e528-078f-4a4e-8cb8-73ff03f841cc\",\"type\":\"HelpTool\"},{\"attributes\":{},\"id\":\"87493007-413b-4e7c-935b-36aedf0f75ef\",\"type\":\"LinearScale\"},{\"attributes\":{},\"id\":\"512c4c97-1b59-405f-8f9f-937b63ab073c\",\"type\":\"BasicTickFormatter\"},{\"attributes\":{},\"id\":\"a1e6005d-a3fa-4452-a918-481c57ed9cf6\",\"type\":\"LinearScale\"},{\"attributes\":{\"source\":{\"id\":\"de399553-2677-4d6b-9254-eeb4d1a627fc\",\"type\":\"ColumnDataSource\"}},\"id\":\"2ed044e6-4c55-4479-a7e7-c9750a0371e3\",\"type\":\"CDSView\"},{\"attributes\":{},\"id\":\"c5447fce-38eb-4dd2-9b36-2c88c8c4cb31\",\"type\":\"BasicTickFormatter\"},{\"attributes\":{\"formatter\":{\"id\":\"c5447fce-38eb-4dd2-9b36-2c88c8c4cb31\",\"type\":\"BasicTickFormatter\"},\"plot\":{\"id\":\"86f1a17c-8546-49dd-a3c1-9da8ff39e941\",\"subtype\":\"Figure\",\"type\":\"Plot\"},\"ticker\":{\"id\":\"123e8ee2-9b82-4c6b-b616-6cc8c1ba3bb6\",\"type\":\"BasicTicker\"}},\"id\":\"9aefddd2-4189-4a64-92b3-ecc198eb4908\",\"type\":\"LinearAxis\"},{\"attributes\":{},\"id\":\"123e8ee2-9b82-4c6b-b616-6cc8c1ba3bb6\",\"type\":\"BasicTicker\"},{\"attributes\":{\"plot\":{\"id\":\"86f1a17c-8546-49dd-a3c1-9da8ff39e941\",\"subtype\":\"Figure\",\"type\":\"Plot\"},\"ticker\":{\"id\":\"123e8ee2-9b82-4c6b-b616-6cc8c1ba3bb6\",\"type\":\"BasicTicker\"}},\"id\":\"46c80227-92ef-4037-8e4a-088cd1ea2fc4\",\"type\":\"Grid\"},{\"attributes\":{\"formatter\":{\"id\":\"512c4c97-1b59-405f-8f9f-937b63ab073c\",\"type\":\"BasicTickFormatter\"},\"plot\":{\"id\":\"86f1a17c-8546-49dd-a3c1-9da8ff39e941\",\"subtype\":\"Figure\",\"type\":\"Plot\"},\"ticker\":{\"id\":\"16b82cd6-175d-46bb-a267-7d1d7c57f6b1\",\"type\":\"BasicTicker\"}},\"id\":\"b5b5bdb4-c792-43b8-8a74-315bf22da355\",\"type\":\"LinearAxis\"},{\"attributes\":{},\"id\":\"16b82cd6-175d-46bb-a267-7d1d7c57f6b1\",\"type\":\"BasicTicker\"},{\"attributes\":{\"dimension\":1,\"plot\":{\"id\":\"86f1a17c-8546-49dd-a3c1-9da8ff39e941\",\"subtype\":\"Figure\",\"type\":\"Plot\"},\"ticker\":{\"id\":\"16b82cd6-175d-46bb-a267-7d1d7c57f6b1\",\"type\":\"BasicTicker\"}},\"id\":\"cd14efd7-4ada-415c-991e-e4992f190861\",\"type\":\"Grid\"},{\"attributes\":{\"data_source\":{\"id\":\"de399553-2677-4d6b-9254-eeb4d1a627fc\",\"type\":\"ColumnDataSource\"},\"glyph\":{\"id\":\"b94d99ce-682d-40c0-854e-b0aa848f3bc1\",\"type\":\"Circle\"},\"hover_glyph\":null,\"muted_glyph\":null,\"nonselection_glyph\":{\"id\":\"a7200426-d038-44fe-900f-e06dbc910326\",\"type\":\"Circle\"},\"selection_glyph\":null,\"view\":{\"id\":\"2ed044e6-4c55-4479-a7e7-c9750a0371e3\",\"type\":\"CDSView\"}},\"id\":\"459d4cbb-f7f3-4d59-8f68-ef904fd3cd4e\",\"type\":\"GlyphRenderer\"},{\"attributes\":{},\"id\":\"9854c3db-7991-4386-b64a-4d6ce5d93497\",\"type\":\"WheelZoomTool\"},{\"attributes\":{\"fill_color\":{\"value\":\"#1f77b4\"},\"line_color\":{\"value\":\"#1f77b4\"},\"size\":{\"units\":\"screen\",\"value\":10},\"x\":{\"field\":\"x\"},\"y\":{\"field\":\"y\"}},\"id\":\"b94d99ce-682d-40c0-854e-b0aa848f3bc1\",\"type\":\"Circle\"},{\"attributes\":{\"below\":[{\"id\":\"9aefddd2-4189-4a64-92b3-ecc198eb4908\",\"type\":\"LinearAxis\"}],\"left\":[{\"id\":\"b5b5bdb4-c792-43b8-8a74-315bf22da355\",\"type\":\"LinearAxis\"}],\"outline_line_alpha\":{\"value\":0.3},\"outline_line_color\":{\"value\":\"navy\"},\"outline_line_width\":{\"value\":7},\"plot_height\":400,\"plot_width\":400,\"renderers\":[{\"id\":\"9aefddd2-4189-4a64-92b3-ecc198eb4908\",\"type\":\"LinearAxis\"},{\"id\":\"46c80227-92ef-4037-8e4a-088cd1ea2fc4\",\"type\":\"Grid\"},{\"id\":\"b5b5bdb4-c792-43b8-8a74-315bf22da355\",\"type\":\"LinearAxis\"},{\"id\":\"cd14efd7-4ada-415c-991e-e4992f190861\",\"type\":\"Grid\"},{\"id\":\"d166f83c-b415-4b4e-865b-d97b5dbb7a02\",\"type\":\"BoxAnnotation\"},{\"id\":\"459d4cbb-f7f3-4d59-8f68-ef904fd3cd4e\",\"type\":\"GlyphRenderer\"}],\"title\":{\"id\":\"06604c80-af65-49b9-bf6c-babc11cd1535\",\"type\":\"Title\"},\"toolbar\":{\"id\":\"0b478bef-b5da-413f-844d-2ac763a25968\",\"type\":\"Toolbar\"},\"x_range\":{\"id\":\"6289b811-2820-4e92-b615-6c1253262ce7\",\"type\":\"DataRange1d\"},\"x_scale\":{\"id\":\"87493007-413b-4e7c-935b-36aedf0f75ef\",\"type\":\"LinearScale\"},\"y_range\":{\"id\":\"e136987d-ad60-4411-b83d-d21d4178478b\",\"type\":\"DataRange1d\"},\"y_scale\":{\"id\":\"a1e6005d-a3fa-4452-a918-481c57ed9cf6\",\"type\":\"LinearScale\"}},\"id\":\"86f1a17c-8546-49dd-a3c1-9da8ff39e941\",\"subtype\":\"Figure\",\"type\":\"Plot\"},{\"attributes\":{\"fill_alpha\":{\"value\":0.1},\"fill_color\":{\"value\":\"#1f77b4\"},\"line_alpha\":{\"value\":0.1},\"line_color\":{\"value\":\"#1f77b4\"},\"size\":{\"units\":\"screen\",\"value\":10},\"x\":{\"field\":\"x\"},\"y\":{\"field\":\"y\"}},\"id\":\"a7200426-d038-44fe-900f-e06dbc910326\",\"type\":\"Circle\"},{\"attributes\":{\"callback\":null,\"column_names\":[\"x\",\"y\"],\"data\":{\"x\":[1,2,3,4,5],\"y\":[2,5,8,2,7]}},\"id\":\"de399553-2677-4d6b-9254-eeb4d1a627fc\",\"type\":\"ColumnDataSource\"},{\"attributes\":{},\"id\":\"748b5289-f97f-4c37-a361-06f02bd95f1b\",\"type\":\"PanTool\"},{\"attributes\":{},\"id\":\"81811cb1-60ea-4f96-b70d-a914e8cf7a32\",\"type\":\"ResetTool\"},{\"attributes\":{\"active_drag\":\"auto\",\"active_inspect\":\"auto\",\"active_scroll\":\"auto\",\"active_tap\":\"auto\",\"tools\":[{\"id\":\"748b5289-f97f-4c37-a361-06f02bd95f1b\",\"type\":\"PanTool\"},{\"id\":\"9854c3db-7991-4386-b64a-4d6ce5d93497\",\"type\":\"WheelZoomTool\"},{\"id\":\"c1240a47-9b47-4eaa-a93b-92676d211b1a\",\"type\":\"BoxZoomTool\"},{\"id\":\"ecb6864a-1ee0-4533-ba0d-42c299a7dfdc\",\"type\":\"SaveTool\"},{\"id\":\"81811cb1-60ea-4f96-b70d-a914e8cf7a32\",\"type\":\"ResetTool\"},{\"id\":\"b9c0e528-078f-4a4e-8cb8-73ff03f841cc\",\"type\":\"HelpTool\"}]},\"id\":\"0b478bef-b5da-413f-844d-2ac763a25968\",\"type\":\"Toolbar\"},{\"attributes\":{},\"id\":\"ecb6864a-1ee0-4533-ba0d-42c299a7dfdc\",\"type\":\"SaveTool\"},{\"attributes\":{\"callback\":null},\"id\":\"6289b811-2820-4e92-b615-6c1253262ce7\",\"type\":\"DataRange1d\"}],\"root_ids\":[\"86f1a17c-8546-49dd-a3c1-9da8ff39e941\"]},\"title\":\"Bokeh Application\",\"version\":\"0.12.13\"}};\n",
       "  var render_items = [{\"docid\":\"7badccf0-47b2-4c63-9ccf-63e78d89cffe\",\"elementid\":\"a1334df6-c8c5-43c5-84c4-229168ba7b78\",\"modelid\":\"86f1a17c-8546-49dd-a3c1-9da8ff39e941\"}];\n",
       "  root.Bokeh.embed.embed_items_notebook(docs_json, render_items);\n",
       "\n",
       "  }\n",
       "  if (root.Bokeh !== undefined) {\n",
       "    embed_document(root);\n",
       "  } else {\n",
       "    var attempts = 0;\n",
       "    var timer = setInterval(function(root) {\n",
       "      if (root.Bokeh !== undefined) {\n",
       "        embed_document(root);\n",
       "        clearInterval(timer);\n",
       "      }\n",
       "      attempts++;\n",
       "      if (attempts > 100) {\n",
       "        console.log(\"Bokeh: ERROR: Unable to run BokehJS code because BokehJS library is missing\")\n",
       "        clearInterval(timer);\n",
       "      }\n",
       "    }, 10, root)\n",
       "  }\n",
       "})(window);"
      ],
      "application/vnd.bokehjs_exec.v0+json": ""
     },
     "metadata": {
      "application/vnd.bokehjs_exec.v0+json": {
       "id": "86f1a17c-8546-49dd-a3c1-9da8ff39e941"
      }
     },
     "output_type": "display_data"
    }
   ],
   "source": [
    "# create a new plot with a title\n",
    "p = figure(plot_width=400, plot_height=400)\n",
    "p.outline_line_width = 7\n",
    "p.outline_line_alpha = 0.3\n",
    "p.outline_line_color = \"navy\"\n",
    "\n",
    "p.circle([1,2,3,4,5], [2,5,8,2,7], size=10)\n",
    "\n",
    "show(p)"
   ]
  },
  {
   "cell_type": "code",
   "execution_count": 4,
   "metadata": {},
   "outputs": [],
   "source": [
    "# EXERCISE Create a plot of your own and customize several plot-level properties\n"
   ]
  },
  {
   "cell_type": "markdown",
   "metadata": {},
   "source": [
    "# Glyphs\n",
    "\n",
    "It's also possible to style the visual properties of glyphs. When using `bokeh.plotting` this is often done when calling the glyph methods:\n",
    "```python\n",
    "p.circle(line_color=\"red\", fill_alpha=0.2, ...)\n",
    "```\n",
    "But it is also possible to set these properties directly on glyph objects. Glyph objects are found on `GlyphRenderer` objects, which are returned by the `Plot.add_glyph` and `bokeh.plotting` glyph methods like `circle`, `rect`, etc. Let's look at an example:"
   ]
  },
  {
   "cell_type": "code",
   "execution_count": 5,
   "metadata": {},
   "outputs": [
    {
     "data": {
      "text/html": [
       "\n",
       "<div class=\"bk-root\">\n",
       "    <div class=\"bk-plotdiv\" id=\"1ac6e065-ce8a-499f-b3e4-7684e4ff0655\"></div>\n",
       "</div>"
      ]
     },
     "metadata": {},
     "output_type": "display_data"
    },
    {
     "data": {
      "application/javascript": [
       "(function(root) {\n",
       "  function embed_document(root) {\n",
       "    \n",
       "  var docs_json = {\"ad07dd26-43d0-47d7-93d8-c19d81ed266d\":{\"roots\":{\"references\":[{\"attributes\":{\"data_source\":{\"id\":\"475af841-9337-4ce3-a2ef-4fd0fbae8ec5\",\"type\":\"ColumnDataSource\"},\"glyph\":{\"id\":\"93ff7b4e-f118-4ac5-a86d-b2017d912242\",\"type\":\"Circle\"},\"hover_glyph\":null,\"muted_glyph\":null,\"nonselection_glyph\":{\"id\":\"8957e205-dd7d-48a2-aeba-e82e2ac059cf\",\"type\":\"Circle\"},\"selection_glyph\":null,\"view\":{\"id\":\"0bcabbc6-a597-4ebf-874c-4919f343157f\",\"type\":\"CDSView\"}},\"id\":\"ecc1636a-dd10-405d-a4dd-f0a0edf127de\",\"type\":\"GlyphRenderer\"},{\"attributes\":{\"callback\":null},\"id\":\"cd2155e5-26fc-40ec-85b1-b286da08d858\",\"type\":\"DataRange1d\"},{\"attributes\":{},\"id\":\"53f80ba2-9c13-40d4-9842-09f86996b34f\",\"type\":\"WheelZoomTool\"},{\"attributes\":{\"callback\":null},\"id\":\"7dafb6d2-1974-4d53-8c1b-250c26802c78\",\"type\":\"DataRange1d\"},{\"attributes\":{},\"id\":\"0c846a3d-1326-42ed-a43d-82f0016adc89\",\"type\":\"PanTool\"},{\"attributes\":{\"active_drag\":\"auto\",\"active_inspect\":\"auto\",\"active_scroll\":\"auto\",\"active_tap\":\"auto\",\"tools\":[{\"id\":\"0c846a3d-1326-42ed-a43d-82f0016adc89\",\"type\":\"PanTool\"},{\"id\":\"53f80ba2-9c13-40d4-9842-09f86996b34f\",\"type\":\"WheelZoomTool\"},{\"id\":\"8c960495-029c-495c-8028-61d5d608ff9f\",\"type\":\"BoxZoomTool\"},{\"id\":\"1595fd4c-a420-40dd-b23a-e9e014f33f21\",\"type\":\"SaveTool\"},{\"id\":\"fc58e20a-e3a2-4e37-8cfb-4d10fb0dad2c\",\"type\":\"ResetTool\"},{\"id\":\"2e7e50e9-8057-4603-84dc-ce21e5e287b7\",\"type\":\"HelpTool\"}]},\"id\":\"11b10037-f141-4b9b-8da0-e5fbcbc3f01f\",\"type\":\"Toolbar\"},{\"attributes\":{\"bottom_units\":\"screen\",\"fill_alpha\":{\"value\":0.5},\"fill_color\":{\"value\":\"lightgrey\"},\"left_units\":\"screen\",\"level\":\"overlay\",\"line_alpha\":{\"value\":1.0},\"line_color\":{\"value\":\"black\"},\"line_dash\":[4,4],\"line_width\":{\"value\":2},\"plot\":null,\"render_mode\":\"css\",\"right_units\":\"screen\",\"top_units\":\"screen\"},\"id\":\"3a0c0867-f2b4-4b41-93bc-65e3f9116579\",\"type\":\"BoxAnnotation\"},{\"attributes\":{\"fill_alpha\":{\"value\":0.1},\"fill_color\":{\"value\":\"#1f77b4\"},\"line_alpha\":{\"value\":0.1},\"line_color\":{\"value\":\"#1f77b4\"},\"x\":{\"field\":\"x\"},\"y\":{\"field\":\"y\"}},\"id\":\"8957e205-dd7d-48a2-aeba-e82e2ac059cf\",\"type\":\"Circle\"},{\"attributes\":{\"dimension\":1,\"plot\":{\"id\":\"b9fe0707-3368-4eb7-8793-0402d1f97ebd\",\"subtype\":\"Figure\",\"type\":\"Plot\"},\"ticker\":{\"id\":\"9434f73e-cadd-4ebd-9777-a388ecfd4617\",\"type\":\"BasicTicker\"}},\"id\":\"91dd9dab-84b3-491e-b11a-6417391b10e9\",\"type\":\"Grid\"},{\"attributes\":{\"formatter\":{\"id\":\"2267c881-d7e2-47b0-ab34-6583c927a608\",\"type\":\"BasicTickFormatter\"},\"plot\":{\"id\":\"b9fe0707-3368-4eb7-8793-0402d1f97ebd\",\"subtype\":\"Figure\",\"type\":\"Plot\"},\"ticker\":{\"id\":\"9434f73e-cadd-4ebd-9777-a388ecfd4617\",\"type\":\"BasicTicker\"}},\"id\":\"c9b57b78-f3da-436a-9dc6-1ce1f1935819\",\"type\":\"LinearAxis\"},{\"attributes\":{},\"id\":\"9434f73e-cadd-4ebd-9777-a388ecfd4617\",\"type\":\"BasicTicker\"},{\"attributes\":{},\"id\":\"472277d9-f0f2-4f4b-9ca7-6848c6001466\",\"type\":\"BasicTicker\"},{\"attributes\":{},\"id\":\"dd53b6fa-da64-4400-baf2-a0595f0a015e\",\"type\":\"LinearScale\"},{\"attributes\":{\"formatter\":{\"id\":\"c04f10db-d4b3-451c-955e-b802d6cc013d\",\"type\":\"BasicTickFormatter\"},\"plot\":{\"id\":\"b9fe0707-3368-4eb7-8793-0402d1f97ebd\",\"subtype\":\"Figure\",\"type\":\"Plot\"},\"ticker\":{\"id\":\"472277d9-f0f2-4f4b-9ca7-6848c6001466\",\"type\":\"BasicTicker\"}},\"id\":\"3a77b62e-aac7-42e3-8dc6-bf26dce17eb5\",\"type\":\"LinearAxis\"},{\"attributes\":{\"plot\":{\"id\":\"b9fe0707-3368-4eb7-8793-0402d1f97ebd\",\"subtype\":\"Figure\",\"type\":\"Plot\"},\"ticker\":{\"id\":\"472277d9-f0f2-4f4b-9ca7-6848c6001466\",\"type\":\"BasicTicker\"}},\"id\":\"ac97424c-6807-4c13-b43d-a8a53d250354\",\"type\":\"Grid\"},{\"attributes\":{},\"id\":\"2e7e50e9-8057-4603-84dc-ce21e5e287b7\",\"type\":\"HelpTool\"},{\"attributes\":{\"callback\":null,\"column_names\":[\"x\",\"y\"],\"data\":{\"x\":[1,2,3,4,5],\"y\":[2,5,8,2,7]}},\"id\":\"475af841-9337-4ce3-a2ef-4fd0fbae8ec5\",\"type\":\"ColumnDataSource\"},{\"attributes\":{\"plot\":null,\"text\":\"\"},\"id\":\"1a7b65e2-cefa-4cd4-8004-df421924d837\",\"type\":\"Title\"},{\"attributes\":{},\"id\":\"fc58e20a-e3a2-4e37-8cfb-4d10fb0dad2c\",\"type\":\"ResetTool\"},{\"attributes\":{},\"id\":\"c04f10db-d4b3-451c-955e-b802d6cc013d\",\"type\":\"BasicTickFormatter\"},{\"attributes\":{\"fill_alpha\":{\"value\":0.2},\"fill_color\":{\"value\":\"#1f77b4\"},\"line_color\":{\"value\":\"firebrick\"},\"line_dash\":[5,1],\"line_width\":{\"value\":2},\"size\":{\"units\":\"screen\",\"value\":50},\"x\":{\"field\":\"x\"},\"y\":{\"field\":\"y\"}},\"id\":\"93ff7b4e-f118-4ac5-a86d-b2017d912242\",\"type\":\"Circle\"},{\"attributes\":{},\"id\":\"2267c881-d7e2-47b0-ab34-6583c927a608\",\"type\":\"BasicTickFormatter\"},{\"attributes\":{\"source\":{\"id\":\"475af841-9337-4ce3-a2ef-4fd0fbae8ec5\",\"type\":\"ColumnDataSource\"}},\"id\":\"0bcabbc6-a597-4ebf-874c-4919f343157f\",\"type\":\"CDSView\"},{\"attributes\":{\"overlay\":{\"id\":\"3a0c0867-f2b4-4b41-93bc-65e3f9116579\",\"type\":\"BoxAnnotation\"}},\"id\":\"8c960495-029c-495c-8028-61d5d608ff9f\",\"type\":\"BoxZoomTool\"},{\"attributes\":{\"below\":[{\"id\":\"3a77b62e-aac7-42e3-8dc6-bf26dce17eb5\",\"type\":\"LinearAxis\"}],\"left\":[{\"id\":\"c9b57b78-f3da-436a-9dc6-1ce1f1935819\",\"type\":\"LinearAxis\"}],\"plot_height\":400,\"plot_width\":400,\"renderers\":[{\"id\":\"3a77b62e-aac7-42e3-8dc6-bf26dce17eb5\",\"type\":\"LinearAxis\"},{\"id\":\"ac97424c-6807-4c13-b43d-a8a53d250354\",\"type\":\"Grid\"},{\"id\":\"c9b57b78-f3da-436a-9dc6-1ce1f1935819\",\"type\":\"LinearAxis\"},{\"id\":\"91dd9dab-84b3-491e-b11a-6417391b10e9\",\"type\":\"Grid\"},{\"id\":\"3a0c0867-f2b4-4b41-93bc-65e3f9116579\",\"type\":\"BoxAnnotation\"},{\"id\":\"ecc1636a-dd10-405d-a4dd-f0a0edf127de\",\"type\":\"GlyphRenderer\"}],\"title\":{\"id\":\"1a7b65e2-cefa-4cd4-8004-df421924d837\",\"type\":\"Title\"},\"toolbar\":{\"id\":\"11b10037-f141-4b9b-8da0-e5fbcbc3f01f\",\"type\":\"Toolbar\"},\"x_range\":{\"id\":\"7dafb6d2-1974-4d53-8c1b-250c26802c78\",\"type\":\"DataRange1d\"},\"x_scale\":{\"id\":\"cc71876c-aded-4891-aa8c-22735eebc517\",\"type\":\"LinearScale\"},\"y_range\":{\"id\":\"cd2155e5-26fc-40ec-85b1-b286da08d858\",\"type\":\"DataRange1d\"},\"y_scale\":{\"id\":\"dd53b6fa-da64-4400-baf2-a0595f0a015e\",\"type\":\"LinearScale\"}},\"id\":\"b9fe0707-3368-4eb7-8793-0402d1f97ebd\",\"subtype\":\"Figure\",\"type\":\"Plot\"},{\"attributes\":{},\"id\":\"1595fd4c-a420-40dd-b23a-e9e014f33f21\",\"type\":\"SaveTool\"},{\"attributes\":{},\"id\":\"cc71876c-aded-4891-aa8c-22735eebc517\",\"type\":\"LinearScale\"}],\"root_ids\":[\"b9fe0707-3368-4eb7-8793-0402d1f97ebd\"]},\"title\":\"Bokeh Application\",\"version\":\"0.12.13\"}};\n",
       "  var render_items = [{\"docid\":\"ad07dd26-43d0-47d7-93d8-c19d81ed266d\",\"elementid\":\"1ac6e065-ce8a-499f-b3e4-7684e4ff0655\",\"modelid\":\"b9fe0707-3368-4eb7-8793-0402d1f97ebd\"}];\n",
       "  root.Bokeh.embed.embed_items_notebook(docs_json, render_items);\n",
       "\n",
       "  }\n",
       "  if (root.Bokeh !== undefined) {\n",
       "    embed_document(root);\n",
       "  } else {\n",
       "    var attempts = 0;\n",
       "    var timer = setInterval(function(root) {\n",
       "      if (root.Bokeh !== undefined) {\n",
       "        embed_document(root);\n",
       "        clearInterval(timer);\n",
       "      }\n",
       "      attempts++;\n",
       "      if (attempts > 100) {\n",
       "        console.log(\"Bokeh: ERROR: Unable to run BokehJS code because BokehJS library is missing\")\n",
       "        clearInterval(timer);\n",
       "      }\n",
       "    }, 10, root)\n",
       "  }\n",
       "})(window);"
      ],
      "application/vnd.bokehjs_exec.v0+json": ""
     },
     "metadata": {
      "application/vnd.bokehjs_exec.v0+json": {
       "id": "b9fe0707-3368-4eb7-8793-0402d1f97ebd"
      }
     },
     "output_type": "display_data"
    }
   ],
   "source": [
    "p = figure(plot_width=400, plot_height=400)\n",
    "\n",
    "# keep a reference to the returned GlyphRenderer\n",
    "r = p.circle([1,2,3,4,5], [2,5,8,2,7])\n",
    "\n",
    "r.glyph.size = 50\n",
    "r.glyph.fill_alpha = 0.2\n",
    "r.glyph.line_color = \"firebrick\"\n",
    "r.glyph.line_dash = [5, 1]\n",
    "r.glyph.line_width = 2\n",
    "\n",
    "show(p)"
   ]
  },
  {
   "cell_type": "markdown",
   "metadata": {},
   "source": [
    "### Selection and non-selection visuals\n",
    "\n",
    "You can also control how glyphs look when there are selections involved. The set of \"selected\" points is displayed according to the optional `.selection_glyph` property of a `GlyphRenderer`:\n",
    "```python\n",
    "r.selection_glyph = Circle(fill_alpha=1, fill_color=\"firebrick\", line_color=None) \n",
    "```\n",
    "When there is a non-empty selection, the set of \"unselected: points is displayed according to the optional  `.nonselection_glyph` property of a `GlyphRenderer`:\n",
    "```python\n",
    "r.nonselection_glyph = Circle(fill_alpha=0.2, fill_color=\"grey\", line_color=None) \n",
    "```\n",
    "\n",
    "When using the `bokeh.plotting` interface, it is easier to pass these visual properties to the glyph methods as shown below. The glyph method will create the selection or nonselection glyphs and attach them to the renderer for you. "
   ]
  },
  {
   "cell_type": "code",
   "execution_count": 6,
   "metadata": {},
   "outputs": [
    {
     "data": {
      "text/html": [
       "\n",
       "<div class=\"bk-root\">\n",
       "    <div class=\"bk-plotdiv\" id=\"9bc80ff0-9946-4540-934a-0188a7ad1b55\"></div>\n",
       "</div>"
      ]
     },
     "metadata": {},
     "output_type": "display_data"
    },
    {
     "data": {
      "application/javascript": [
       "(function(root) {\n",
       "  function embed_document(root) {\n",
       "    \n",
       "  var docs_json = {\"1d486552-a771-4111-913e-5ff6c4c8c336\":{\"roots\":{\"references\":[{\"attributes\":{},\"id\":\"94900530-36fe-4fd3-b95c-33c07202c2b8\",\"type\":\"LinearScale\"},{\"attributes\":{\"source\":{\"id\":\"96d88bb0-df12-4b63-9a50-668479a2c925\",\"type\":\"ColumnDataSource\"}},\"id\":\"976f7c0d-8715-409c-8130-a7a45abecb2a\",\"type\":\"CDSView\"},{\"attributes\":{\"plot\":null,\"text\":\"Select a circle\"},\"id\":\"122948b8-e7c8-4aa8-ade2-31d9620c351e\",\"type\":\"Title\"},{\"attributes\":{\"callback\":null},\"id\":\"6e189782-509e-435e-8a52-3c751cf96f2d\",\"type\":\"DataRange1d\"},{\"attributes\":{\"formatter\":{\"id\":\"c7241221-63c7-4969-8ba4-0c413c20f42f\",\"type\":\"BasicTickFormatter\"},\"plot\":{\"id\":\"cd2abc73-7cf0-4091-9ddc-cbfe3b960e85\",\"subtype\":\"Figure\",\"type\":\"Plot\"},\"ticker\":{\"id\":\"49037287-92c8-4f20-b0cb-3acdad972a36\",\"type\":\"BasicTicker\"}},\"id\":\"6ca43e5d-fcc8-4199-9dac-70d5ce138f82\",\"type\":\"LinearAxis\"},{\"attributes\":{\"callback\":null},\"id\":\"301e5fa5-b824-4e67-a89e-0f6335ddffc1\",\"type\":\"TapTool\"},{\"attributes\":{},\"id\":\"f79d5fcd-0060-4fa2-9b39-b04dc0b0825e\",\"type\":\"BasicTicker\"},{\"attributes\":{\"plot\":{\"id\":\"cd2abc73-7cf0-4091-9ddc-cbfe3b960e85\",\"subtype\":\"Figure\",\"type\":\"Plot\"},\"ticker\":{\"id\":\"49037287-92c8-4f20-b0cb-3acdad972a36\",\"type\":\"BasicTicker\"}},\"id\":\"7f86b0e8-a789-4264-ac5c-11802c70a0b3\",\"type\":\"Grid\"},{\"attributes\":{\"dimension\":1,\"plot\":{\"id\":\"cd2abc73-7cf0-4091-9ddc-cbfe3b960e85\",\"subtype\":\"Figure\",\"type\":\"Plot\"},\"ticker\":{\"id\":\"f79d5fcd-0060-4fa2-9b39-b04dc0b0825e\",\"type\":\"BasicTicker\"}},\"id\":\"b36480b2-79f2-4a99-902b-1ce3a5cb6939\",\"type\":\"Grid\"},{\"attributes\":{\"formatter\":{\"id\":\"6198505e-f9a4-484f-a880-f76ccc25e9f4\",\"type\":\"BasicTickFormatter\"},\"plot\":{\"id\":\"cd2abc73-7cf0-4091-9ddc-cbfe3b960e85\",\"subtype\":\"Figure\",\"type\":\"Plot\"},\"ticker\":{\"id\":\"f79d5fcd-0060-4fa2-9b39-b04dc0b0825e\",\"type\":\"BasicTicker\"}},\"id\":\"c3ae0506-5a13-4504-92fb-9d678c25551b\",\"type\":\"LinearAxis\"},{\"attributes\":{},\"id\":\"49037287-92c8-4f20-b0cb-3acdad972a36\",\"type\":\"BasicTicker\"},{\"attributes\":{},\"id\":\"6198505e-f9a4-484f-a880-f76ccc25e9f4\",\"type\":\"BasicTickFormatter\"},{\"attributes\":{\"fill_color\":{\"value\":\"firebrick\"},\"line_color\":{\"value\":\"firebrick\"},\"size\":{\"units\":\"screen\",\"value\":50},\"x\":{\"field\":\"x\"},\"y\":{\"field\":\"y\"}},\"id\":\"5b4f91fb-e7eb-48f9-8c84-cbd2b0b8bc12\",\"type\":\"Circle\"},{\"attributes\":{\"callback\":null,\"column_names\":[\"x\",\"y\"],\"data\":{\"x\":[1,2,3,4,5],\"y\":[2,5,8,2,7]}},\"id\":\"96d88bb0-df12-4b63-9a50-668479a2c925\",\"type\":\"ColumnDataSource\"},{\"attributes\":{\"fill_color\":{\"value\":\"#1f77b4\"},\"line_color\":{\"value\":\"#1f77b4\"},\"size\":{\"units\":\"screen\",\"value\":50},\"x\":{\"field\":\"x\"},\"y\":{\"field\":\"y\"}},\"id\":\"76d881d7-8831-4333-b947-d1d4ea7350f1\",\"type\":\"Circle\"},{\"attributes\":{\"fill_alpha\":{\"value\":0.2},\"fill_color\":{\"value\":\"grey\"},\"line_color\":{\"value\":\"firebrick\"},\"size\":{\"units\":\"screen\",\"value\":50},\"x\":{\"field\":\"x\"},\"y\":{\"field\":\"y\"}},\"id\":\"330c4487-5a01-4a89-ab53-635193eaeea1\",\"type\":\"Circle\"},{\"attributes\":{},\"id\":\"c7241221-63c7-4969-8ba4-0c413c20f42f\",\"type\":\"BasicTickFormatter\"},{\"attributes\":{\"below\":[{\"id\":\"6ca43e5d-fcc8-4199-9dac-70d5ce138f82\",\"type\":\"LinearAxis\"}],\"left\":[{\"id\":\"c3ae0506-5a13-4504-92fb-9d678c25551b\",\"type\":\"LinearAxis\"}],\"plot_height\":400,\"plot_width\":400,\"renderers\":[{\"id\":\"6ca43e5d-fcc8-4199-9dac-70d5ce138f82\",\"type\":\"LinearAxis\"},{\"id\":\"7f86b0e8-a789-4264-ac5c-11802c70a0b3\",\"type\":\"Grid\"},{\"id\":\"c3ae0506-5a13-4504-92fb-9d678c25551b\",\"type\":\"LinearAxis\"},{\"id\":\"b36480b2-79f2-4a99-902b-1ce3a5cb6939\",\"type\":\"Grid\"},{\"id\":\"5855e390-6e29-412c-8e47-cf12738e4372\",\"type\":\"GlyphRenderer\"}],\"title\":{\"id\":\"122948b8-e7c8-4aa8-ade2-31d9620c351e\",\"type\":\"Title\"},\"toolbar\":{\"id\":\"da75db9a-2af2-4f42-a1a2-374b2c830820\",\"type\":\"Toolbar\"},\"x_range\":{\"id\":\"6e189782-509e-435e-8a52-3c751cf96f2d\",\"type\":\"DataRange1d\"},\"x_scale\":{\"id\":\"94900530-36fe-4fd3-b95c-33c07202c2b8\",\"type\":\"LinearScale\"},\"y_range\":{\"id\":\"18257d90-b0f5-42a8-885a-7553a66babd3\",\"type\":\"DataRange1d\"},\"y_scale\":{\"id\":\"a3e63dca-ad08-43cc-aae4-e3fd65161f95\",\"type\":\"LinearScale\"}},\"id\":\"cd2abc73-7cf0-4091-9ddc-cbfe3b960e85\",\"subtype\":\"Figure\",\"type\":\"Plot\"},{\"attributes\":{\"active_drag\":\"auto\",\"active_inspect\":\"auto\",\"active_scroll\":\"auto\",\"active_tap\":\"auto\",\"tools\":[{\"id\":\"301e5fa5-b824-4e67-a89e-0f6335ddffc1\",\"type\":\"TapTool\"}]},\"id\":\"da75db9a-2af2-4f42-a1a2-374b2c830820\",\"type\":\"Toolbar\"},{\"attributes\":{\"data_source\":{\"id\":\"96d88bb0-df12-4b63-9a50-668479a2c925\",\"type\":\"ColumnDataSource\"},\"glyph\":{\"id\":\"76d881d7-8831-4333-b947-d1d4ea7350f1\",\"type\":\"Circle\"},\"hover_glyph\":null,\"muted_glyph\":null,\"nonselection_glyph\":{\"id\":\"330c4487-5a01-4a89-ab53-635193eaeea1\",\"type\":\"Circle\"},\"selection_glyph\":{\"id\":\"5b4f91fb-e7eb-48f9-8c84-cbd2b0b8bc12\",\"type\":\"Circle\"},\"view\":{\"id\":\"976f7c0d-8715-409c-8130-a7a45abecb2a\",\"type\":\"CDSView\"}},\"id\":\"5855e390-6e29-412c-8e47-cf12738e4372\",\"type\":\"GlyphRenderer\"},{\"attributes\":{},\"id\":\"a3e63dca-ad08-43cc-aae4-e3fd65161f95\",\"type\":\"LinearScale\"},{\"attributes\":{\"callback\":null},\"id\":\"18257d90-b0f5-42a8-885a-7553a66babd3\",\"type\":\"DataRange1d\"}],\"root_ids\":[\"cd2abc73-7cf0-4091-9ddc-cbfe3b960e85\"]},\"title\":\"Bokeh Application\",\"version\":\"0.12.13\"}};\n",
       "  var render_items = [{\"docid\":\"1d486552-a771-4111-913e-5ff6c4c8c336\",\"elementid\":\"9bc80ff0-9946-4540-934a-0188a7ad1b55\",\"modelid\":\"cd2abc73-7cf0-4091-9ddc-cbfe3b960e85\"}];\n",
       "  root.Bokeh.embed.embed_items_notebook(docs_json, render_items);\n",
       "\n",
       "  }\n",
       "  if (root.Bokeh !== undefined) {\n",
       "    embed_document(root);\n",
       "  } else {\n",
       "    var attempts = 0;\n",
       "    var timer = setInterval(function(root) {\n",
       "      if (root.Bokeh !== undefined) {\n",
       "        embed_document(root);\n",
       "        clearInterval(timer);\n",
       "      }\n",
       "      attempts++;\n",
       "      if (attempts > 100) {\n",
       "        console.log(\"Bokeh: ERROR: Unable to run BokehJS code because BokehJS library is missing\")\n",
       "        clearInterval(timer);\n",
       "      }\n",
       "    }, 10, root)\n",
       "  }\n",
       "})(window);"
      ],
      "application/vnd.bokehjs_exec.v0+json": ""
     },
     "metadata": {
      "application/vnd.bokehjs_exec.v0+json": {
       "id": "cd2abc73-7cf0-4091-9ddc-cbfe3b960e85"
      }
     },
     "output_type": "display_data"
    }
   ],
   "source": [
    "p = figure(plot_width=400, plot_height=400, tools=\"tap\", title=\"Select a circle\")\n",
    "renderer = p.circle([1, 2, 3, 4, 5], [2, 5, 8, 2, 7], size=50,\n",
    "\n",
    "                    # set visual properties for selected glyphs\n",
    "                    selection_color=\"firebrick\",\n",
    "\n",
    "                    # set visual properties for non-selected glyphs\n",
    "                    nonselection_fill_alpha=0.2,\n",
    "                    nonselection_fill_color=\"grey\",\n",
    "                    nonselection_line_color=\"firebrick\",\n",
    "                    nonselection_line_alpha=1.0)\n",
    "\n",
    "show(p)"
   ]
  },
  {
   "cell_type": "markdown",
   "metadata": {},
   "source": [
    "It is also possible to specify the visual appearance of glyphs when they are \"inspected\", e.g. by a hover tool. This is accomplished by setting an optional `hover_glyph` on the glyph renderer:\n",
    "```python\n",
    "r.hover_glyph = Circle(fill_alpha=1, fill_color=\"firebrick\", line_color=None) \n",
    "```\n",
    "Or if using `bokeh.plotting` glyph methods, by passing `hover_fill_alpha`, etc. to the glyph method. Lets look at an example that works together with a `HoverTool` configured for \"hline\" hit-testing."
   ]
  },
  {
   "cell_type": "code",
   "execution_count": 7,
   "metadata": {},
   "outputs": [
    {
     "ename": "RuntimeError",
     "evalue": "bokeh sample data directory does not exist, please execute bokeh.sampledata.download()",
     "output_type": "error",
     "traceback": [
      "\u001b[1;31m---------------------------------------------------------------------------\u001b[0m",
      "\u001b[1;31mRuntimeError\u001b[0m                              Traceback (most recent call last)",
      "\u001b[1;32m<ipython-input-7-a80c0fb34106>\u001b[0m in \u001b[0;36m<module>\u001b[1;34m()\u001b[0m\n\u001b[0;32m      2\u001b[0m \u001b[1;31m#bokeh.sampledata.download()\u001b[0m\u001b[1;33m\u001b[0m\u001b[1;33m\u001b[0m\u001b[0m\n\u001b[0;32m      3\u001b[0m \u001b[1;32mfrom\u001b[0m \u001b[0mbokeh\u001b[0m\u001b[1;33m.\u001b[0m\u001b[0mmodels\u001b[0m\u001b[1;33m.\u001b[0m\u001b[0mtools\u001b[0m \u001b[1;32mimport\u001b[0m \u001b[0mHoverTool\u001b[0m\u001b[1;33m\u001b[0m\u001b[0m\n\u001b[1;32m----> 4\u001b[1;33m \u001b[1;32mfrom\u001b[0m \u001b[0mbokeh\u001b[0m\u001b[1;33m.\u001b[0m\u001b[0msampledata\u001b[0m\u001b[1;33m.\u001b[0m\u001b[0mglucose\u001b[0m \u001b[1;32mimport\u001b[0m \u001b[0mdata\u001b[0m\u001b[1;33m\u001b[0m\u001b[0m\n\u001b[0m\u001b[0;32m      5\u001b[0m \u001b[1;33m\u001b[0m\u001b[0m\n\u001b[0;32m      6\u001b[0m \u001b[1;33m\u001b[0m\u001b[0m\n",
      "\u001b[1;32mc:\\users\\wenyan\\anaconda3\\envs\\dse241\\lib\\site-packages\\bokeh\\sampledata\\glucose.py\u001b[0m in \u001b[0;36m<module>\u001b[1;34m()\u001b[0m\n\u001b[0;32m     55\u001b[0m \u001b[1;31m#-----------------------------------------------------------------------------\u001b[0m\u001b[1;33m\u001b[0m\u001b[1;33m\u001b[0m\u001b[0m\n\u001b[0;32m     56\u001b[0m \u001b[1;33m\u001b[0m\u001b[0m\n\u001b[1;32m---> 57\u001b[1;33m \u001b[0mdata\u001b[0m \u001b[1;33m=\u001b[0m \u001b[0mexternal_csv\u001b[0m\u001b[1;33m(\u001b[0m\u001b[1;34m'glucose'\u001b[0m\u001b[1;33m,\u001b[0m \u001b[1;34m'CGM.csv'\u001b[0m\u001b[1;33m,\u001b[0m \u001b[0msep\u001b[0m\u001b[1;33m=\u001b[0m\u001b[1;34m','\u001b[0m\u001b[1;33m,\u001b[0m \u001b[0mparse_dates\u001b[0m\u001b[1;33m=\u001b[0m\u001b[1;33m[\u001b[0m\u001b[1;36m1\u001b[0m\u001b[1;33m]\u001b[0m\u001b[1;33m,\u001b[0m \u001b[0mindex_col\u001b[0m\u001b[1;33m=\u001b[0m\u001b[1;36m1\u001b[0m\u001b[1;33m)\u001b[0m\u001b[1;33m\u001b[0m\u001b[0m\n\u001b[0m",
      "\u001b[1;32mc:\\users\\wenyan\\anaconda3\\envs\\dse241\\lib\\site-packages\\bokeh\\util\\api.py\u001b[0m in \u001b[0;36mwrapper\u001b[1;34m(*args, **kw)\u001b[0m\n\u001b[0;32m    188\u001b[0m         \u001b[1;33m@\u001b[0m\u001b[0mwraps\u001b[0m\u001b[1;33m(\u001b[0m\u001b[0mobj\u001b[0m\u001b[1;33m)\u001b[0m\u001b[1;33m\u001b[0m\u001b[0m\n\u001b[0;32m    189\u001b[0m         \u001b[1;32mdef\u001b[0m \u001b[0mwrapper\u001b[0m\u001b[1;33m(\u001b[0m\u001b[1;33m*\u001b[0m\u001b[0margs\u001b[0m\u001b[1;33m,\u001b[0m \u001b[1;33m**\u001b[0m\u001b[0mkw\u001b[0m\u001b[1;33m)\u001b[0m\u001b[1;33m:\u001b[0m\u001b[1;33m\u001b[0m\u001b[0m\n\u001b[1;32m--> 190\u001b[1;33m             \u001b[1;32mreturn\u001b[0m \u001b[0mobj\u001b[0m\u001b[1;33m(\u001b[0m\u001b[1;33m*\u001b[0m\u001b[0margs\u001b[0m\u001b[1;33m,\u001b[0m \u001b[1;33m**\u001b[0m\u001b[0mkw\u001b[0m\u001b[1;33m)\u001b[0m\u001b[1;33m\u001b[0m\u001b[0m\n\u001b[0m\u001b[0;32m    191\u001b[0m \u001b[1;33m\u001b[0m\u001b[0m\n\u001b[0;32m    192\u001b[0m         \u001b[0mwrapper\u001b[0m\u001b[1;33m.\u001b[0m\u001b[0m__bkversion__\u001b[0m \u001b[1;33m=\u001b[0m \u001b[0mversion\u001b[0m\u001b[1;33m\u001b[0m\u001b[0m\n",
      "\u001b[1;32mc:\\users\\wenyan\\anaconda3\\envs\\dse241\\lib\\site-packages\\bokeh\\util\\sampledata.py\u001b[0m in \u001b[0;36mexternal_csv\u001b[1;34m(module, name, **kw)\u001b[0m\n\u001b[0;32m     93\u001b[0m     '''\n\u001b[0;32m     94\u001b[0m     \u001b[0mpd\u001b[0m \u001b[1;33m=\u001b[0m \u001b[0mimport_required\u001b[0m\u001b[1;33m(\u001b[0m\u001b[1;34m'pandas'\u001b[0m\u001b[1;33m,\u001b[0m \u001b[1;34m'%s sample data requires Pandas (http://pandas.pydata.org) to be installed'\u001b[0m \u001b[1;33m%\u001b[0m \u001b[0mmodule\u001b[0m\u001b[1;33m)\u001b[0m\u001b[1;33m\u001b[0m\u001b[0m\n\u001b[1;32m---> 95\u001b[1;33m     \u001b[1;32mreturn\u001b[0m \u001b[0mpd\u001b[0m\u001b[1;33m.\u001b[0m\u001b[0mread_csv\u001b[0m\u001b[1;33m(\u001b[0m\u001b[0mexternal_path\u001b[0m\u001b[1;33m(\u001b[0m\u001b[0mname\u001b[0m\u001b[1;33m)\u001b[0m\u001b[1;33m,\u001b[0m \u001b[1;33m**\u001b[0m\u001b[0mkw\u001b[0m\u001b[1;33m)\u001b[0m\u001b[1;33m\u001b[0m\u001b[0m\n\u001b[0m\u001b[0;32m     96\u001b[0m \u001b[1;33m\u001b[0m\u001b[0m\n\u001b[0;32m     97\u001b[0m \u001b[1;33m@\u001b[0m\u001b[0minternal\u001b[0m\u001b[1;33m(\u001b[0m\u001b[1;33m(\u001b[0m\u001b[1;36m1\u001b[0m\u001b[1;33m,\u001b[0m\u001b[1;36m0\u001b[0m\u001b[1;33m,\u001b[0m\u001b[1;36m0\u001b[0m\u001b[1;33m)\u001b[0m\u001b[1;33m)\u001b[0m\u001b[1;33m\u001b[0m\u001b[0m\n",
      "\u001b[1;32mc:\\users\\wenyan\\anaconda3\\envs\\dse241\\lib\\site-packages\\bokeh\\util\\api.py\u001b[0m in \u001b[0;36mwrapper\u001b[1;34m(*args, **kw)\u001b[0m\n\u001b[0;32m    188\u001b[0m         \u001b[1;33m@\u001b[0m\u001b[0mwraps\u001b[0m\u001b[1;33m(\u001b[0m\u001b[0mobj\u001b[0m\u001b[1;33m)\u001b[0m\u001b[1;33m\u001b[0m\u001b[0m\n\u001b[0;32m    189\u001b[0m         \u001b[1;32mdef\u001b[0m \u001b[0mwrapper\u001b[0m\u001b[1;33m(\u001b[0m\u001b[1;33m*\u001b[0m\u001b[0margs\u001b[0m\u001b[1;33m,\u001b[0m \u001b[1;33m**\u001b[0m\u001b[0mkw\u001b[0m\u001b[1;33m)\u001b[0m\u001b[1;33m:\u001b[0m\u001b[1;33m\u001b[0m\u001b[0m\n\u001b[1;32m--> 190\u001b[1;33m             \u001b[1;32mreturn\u001b[0m \u001b[0mobj\u001b[0m\u001b[1;33m(\u001b[0m\u001b[1;33m*\u001b[0m\u001b[0margs\u001b[0m\u001b[1;33m,\u001b[0m \u001b[1;33m**\u001b[0m\u001b[0mkw\u001b[0m\u001b[1;33m)\u001b[0m\u001b[1;33m\u001b[0m\u001b[0m\n\u001b[0m\u001b[0;32m    191\u001b[0m \u001b[1;33m\u001b[0m\u001b[0m\n\u001b[0;32m    192\u001b[0m         \u001b[0mwrapper\u001b[0m\u001b[1;33m.\u001b[0m\u001b[0m__bkversion__\u001b[0m \u001b[1;33m=\u001b[0m \u001b[0mversion\u001b[0m\u001b[1;33m\u001b[0m\u001b[0m\n",
      "\u001b[1;32mc:\\users\\wenyan\\anaconda3\\envs\\dse241\\lib\\site-packages\\bokeh\\util\\sampledata.py\u001b[0m in \u001b[0;36mexternal_path\u001b[1;34m(filename)\u001b[0m\n\u001b[0;32m    130\u001b[0m \u001b[1;33m@\u001b[0m\u001b[0minternal\u001b[0m\u001b[1;33m(\u001b[0m\u001b[1;33m(\u001b[0m\u001b[1;36m1\u001b[0m\u001b[1;33m,\u001b[0m\u001b[1;36m0\u001b[0m\u001b[1;33m,\u001b[0m\u001b[1;36m0\u001b[0m\u001b[1;33m)\u001b[0m\u001b[1;33m)\u001b[0m\u001b[1;33m\u001b[0m\u001b[0m\n\u001b[0;32m    131\u001b[0m \u001b[1;32mdef\u001b[0m \u001b[0mexternal_path\u001b[0m\u001b[1;33m(\u001b[0m\u001b[0mfilename\u001b[0m\u001b[1;33m)\u001b[0m\u001b[1;33m:\u001b[0m\u001b[1;33m\u001b[0m\u001b[0m\n\u001b[1;32m--> 132\u001b[1;33m     \u001b[0mdata_dir\u001b[0m \u001b[1;33m=\u001b[0m \u001b[0mexternal_data_dir\u001b[0m\u001b[1;33m(\u001b[0m\u001b[1;33m)\u001b[0m\u001b[1;33m\u001b[0m\u001b[0m\n\u001b[0m\u001b[0;32m    133\u001b[0m     \u001b[0mfn\u001b[0m \u001b[1;33m=\u001b[0m \u001b[0mjoin\u001b[0m\u001b[1;33m(\u001b[0m\u001b[0mdata_dir\u001b[0m\u001b[1;33m,\u001b[0m \u001b[0mfilename\u001b[0m\u001b[1;33m)\u001b[0m\u001b[1;33m\u001b[0m\u001b[0m\n\u001b[0;32m    134\u001b[0m     \u001b[1;32mif\u001b[0m \u001b[1;32mnot\u001b[0m \u001b[0mexists\u001b[0m\u001b[1;33m(\u001b[0m\u001b[0mfn\u001b[0m\u001b[1;33m)\u001b[0m \u001b[1;32mand\u001b[0m \u001b[0misfile\u001b[0m\u001b[1;33m(\u001b[0m\u001b[0mfn\u001b[0m\u001b[1;33m)\u001b[0m\u001b[1;33m:\u001b[0m\u001b[1;33m\u001b[0m\u001b[0m\n",
      "\u001b[1;32mc:\\users\\wenyan\\anaconda3\\envs\\dse241\\lib\\site-packages\\bokeh\\util\\api.py\u001b[0m in \u001b[0;36mwrapper\u001b[1;34m(*args, **kw)\u001b[0m\n\u001b[0;32m    188\u001b[0m         \u001b[1;33m@\u001b[0m\u001b[0mwraps\u001b[0m\u001b[1;33m(\u001b[0m\u001b[0mobj\u001b[0m\u001b[1;33m)\u001b[0m\u001b[1;33m\u001b[0m\u001b[0m\n\u001b[0;32m    189\u001b[0m         \u001b[1;32mdef\u001b[0m \u001b[0mwrapper\u001b[0m\u001b[1;33m(\u001b[0m\u001b[1;33m*\u001b[0m\u001b[0margs\u001b[0m\u001b[1;33m,\u001b[0m \u001b[1;33m**\u001b[0m\u001b[0mkw\u001b[0m\u001b[1;33m)\u001b[0m\u001b[1;33m:\u001b[0m\u001b[1;33m\u001b[0m\u001b[0m\n\u001b[1;32m--> 190\u001b[1;33m             \u001b[1;32mreturn\u001b[0m \u001b[0mobj\u001b[0m\u001b[1;33m(\u001b[0m\u001b[1;33m*\u001b[0m\u001b[0margs\u001b[0m\u001b[1;33m,\u001b[0m \u001b[1;33m**\u001b[0m\u001b[0mkw\u001b[0m\u001b[1;33m)\u001b[0m\u001b[1;33m\u001b[0m\u001b[0m\n\u001b[0m\u001b[0;32m    191\u001b[0m \u001b[1;33m\u001b[0m\u001b[0m\n\u001b[0;32m    192\u001b[0m         \u001b[0mwrapper\u001b[0m\u001b[1;33m.\u001b[0m\u001b[0m__bkversion__\u001b[0m \u001b[1;33m=\u001b[0m \u001b[0mversion\u001b[0m\u001b[1;33m\u001b[0m\u001b[0m\n",
      "\u001b[1;32mc:\\users\\wenyan\\anaconda3\\envs\\dse241\\lib\\site-packages\\bokeh\\util\\sampledata.py\u001b[0m in \u001b[0;36mexternal_data_dir\u001b[1;34m(create)\u001b[0m\n\u001b[0;32m    116\u001b[0m     \u001b[1;32mif\u001b[0m \u001b[1;32mnot\u001b[0m \u001b[0mexists\u001b[0m\u001b[1;33m(\u001b[0m\u001b[0mdata_dir\u001b[0m\u001b[1;33m)\u001b[0m\u001b[1;33m:\u001b[0m\u001b[1;33m\u001b[0m\u001b[0m\n\u001b[0;32m    117\u001b[0m         \u001b[1;32mif\u001b[0m \u001b[1;32mnot\u001b[0m \u001b[0mcreate\u001b[0m\u001b[1;33m:\u001b[0m\u001b[1;33m\u001b[0m\u001b[0m\n\u001b[1;32m--> 118\u001b[1;33m             \u001b[1;32mraise\u001b[0m \u001b[0mRuntimeError\u001b[0m\u001b[1;33m(\u001b[0m\u001b[1;34m'bokeh sample data directory does not exist, please execute bokeh.sampledata.download()'\u001b[0m\u001b[1;33m)\u001b[0m\u001b[1;33m\u001b[0m\u001b[0m\n\u001b[0m\u001b[0;32m    119\u001b[0m         \u001b[0mprint\u001b[0m\u001b[1;33m(\u001b[0m\u001b[1;34m\"Creating %s directory\"\u001b[0m \u001b[1;33m%\u001b[0m \u001b[0mdata_dir\u001b[0m\u001b[1;33m)\u001b[0m\u001b[1;33m\u001b[0m\u001b[0m\n\u001b[0;32m    120\u001b[0m         \u001b[1;32mtry\u001b[0m\u001b[1;33m:\u001b[0m\u001b[1;33m\u001b[0m\u001b[0m\n",
      "\u001b[1;31mRuntimeError\u001b[0m: bokeh sample data directory does not exist, please execute bokeh.sampledata.download()"
     ]
    }
   ],
   "source": [
    "import bokeh\n",
    "#bokeh.sampledata.download()\n",
    "from bokeh.models.tools import HoverTool\n",
    "from bokeh.sampledata.glucose import data\n",
    "\n",
    "\n",
    "subset = data.loc['2010-10-06']\n",
    "\n",
    "x, y = subset.index.to_series(), subset['glucose']\n",
    "\n",
    "# Basic plot setup\n",
    "p = figure(width=600, height=300, x_axis_type=\"datetime\", title='Hover over points')\n",
    "\n",
    "p.line(x, y, line_dash=\"4 4\", line_width=1, color='gray')\n",
    "\n",
    "cr = p.circle(x, y, size=20,\n",
    "              fill_color=\"grey\", hover_fill_color=\"firebrick\",\n",
    "              fill_alpha=0.05, hover_alpha=0.3,\n",
    "              line_color=None, hover_line_color=\"white\")\n",
    "\n",
    "p.add_tools(HoverTool(tooltips=None, renderers=[cr], mode='hline'))\n",
    "\n",
    "show(p)"
   ]
  },
  {
   "cell_type": "code",
   "execution_count": 8,
   "metadata": {},
   "outputs": [],
   "source": [
    "# EXERCISE: experiment with standard, selected, hover glyph visual properties\n"
   ]
  },
  {
   "cell_type": "markdown",
   "metadata": {},
   "source": [
    "# Axes\n",
    "\n",
    "[Axes](http://bokeh.pydata.org/en/latest/docs/user_guide/styling.html#axes)\n",
    "\n",
    "To style axes, you first must get ahold of `Axis` objects. The simplest way is to use some convenience methods on `Plot`: [axis](http://bokeh.pydata.org/en/latest/docs/reference/plotting.html#bokeh.plotting.Figure.axis), [xaxis](http://bokeh.pydata.org/en/latest/docs/reference/plotting.html#bokeh.plotting.Figure.xaxis), and [yaxis](http://bokeh.pydata.org/en/latest/docs/reference/plotting.html#bokeh.plotting.Figure.yaxis). These methods return lists of axis objects:\n",
    "\n",
    "```\n",
    ">>> p.xaxis\n",
    "[<bokeh.models.axes.LinearAxis at 0x106fa2390>]\n",
    "```\n",
    "However, you can set properties on all the elements of the list as if it was a single object:\n",
    "```\n",
    "p.xaxis.axis_label = \"Temperature\"\n",
    "p.axis.major_label_text_color = \"orange\"\n",
    "```\n",
    "These are referred to as \"splattable\" lists, and tab completion works on them as well. \n"
   ]
  },
  {
   "cell_type": "code",
   "execution_count": 9,
   "metadata": {},
   "outputs": [],
   "source": [
    "# EXERCISE Try out tab completion. Type p.xaxis.<press tab key> to see a list of attributes that can be set.\n",
    "\n"
   ]
  },
  {
   "cell_type": "markdown",
   "metadata": {},
   "source": [
    "* **axis** \n",
    " - [line properties](http://bokeh.pydata.org/en/latest/docs/user_guide/styling.html#line-properties)\n",
    "* **axis_label** \n",
    " - [text properties](http://bokeh.pydata.org/en/latest/docs/user_guide/styling.html#text-properties)\n",
    " - ``axis_label_standoff``\n",
    "* **major_label** \n",
    " - [text properties](http://bokeh.pydata.org/en/latest/docs/user_guide/styling.html#text-properties)\n",
    " - ``orientation``\n",
    "* **major_tick** \n",
    " - [line_properties](http://bokeh.pydata.org/en/latest/docs/user_guide/styling.html#line-properties)\n",
    " - ``major_tick_in`` \n",
    " - ``major_tick_out``\n",
    "* **minor_tick** \n",
    " - [line properties](http://bokeh.pydata.org/en/latest/docs/user_guide/styling.html#line-properties)\n",
    " - ``minor_tick_in``\n",
    " - ``minor_tick_out``\n",
    "\n",
    "As a simple first example, let's change the orientation of the major tick labels on both axes of a plot:"
   ]
  },
  {
   "cell_type": "code",
   "execution_count": 10,
   "metadata": {},
   "outputs": [
    {
     "data": {
      "text/html": [
       "\n",
       "<div class=\"bk-root\">\n",
       "    <div class=\"bk-plotdiv\" id=\"34ea58f0-26f2-49e4-8aa0-dfc30102cb44\"></div>\n",
       "</div>"
      ]
     },
     "metadata": {},
     "output_type": "display_data"
    },
    {
     "data": {
      "application/javascript": [
       "(function(root) {\n",
       "  function embed_document(root) {\n",
       "    \n",
       "  var docs_json = {\"e37224f8-db76-4658-b658-e3efd18e67ad\":{\"roots\":{\"references\":[{\"attributes\":{\"data_source\":{\"id\":\"4e96e42f-c6a7-4472-a0fd-7ae9813034a6\",\"type\":\"ColumnDataSource\"},\"glyph\":{\"id\":\"e326abef-a9ba-48b4-a5d6-1ca494462bbe\",\"type\":\"X\"},\"hover_glyph\":null,\"muted_glyph\":null,\"nonselection_glyph\":{\"id\":\"ee8d5445-024a-4378-88ed-1a1d4d5ff779\",\"type\":\"X\"},\"selection_glyph\":null,\"view\":{\"id\":\"2ea32484-c3a2-41f9-aa18-98a5d776cef7\",\"type\":\"CDSView\"}},\"id\":\"df72f9bb-79be-4a2d-9144-ebc7952a1767\",\"type\":\"GlyphRenderer\"},{\"attributes\":{\"source\":{\"id\":\"4e96e42f-c6a7-4472-a0fd-7ae9813034a6\",\"type\":\"ColumnDataSource\"}},\"id\":\"2ea32484-c3a2-41f9-aa18-98a5d776cef7\",\"type\":\"CDSView\"},{\"attributes\":{\"fill_color\":{\"value\":\"#1f77b4\"},\"line_color\":{\"value\":\"#1f77b4\"},\"line_width\":{\"value\":2},\"size\":{\"units\":\"screen\",\"value\":10},\"x\":{\"field\":\"x\"},\"y\":{\"field\":\"y\"}},\"id\":\"e326abef-a9ba-48b4-a5d6-1ca494462bbe\",\"type\":\"X\"},{\"attributes\":{\"below\":[{\"id\":\"d457ca49-3a17-490b-9ad4-1d2f80744082\",\"type\":\"LinearAxis\"}],\"left\":[{\"id\":\"f198b802-75e8-40ae-942e-faeccdabb5d4\",\"type\":\"LinearAxis\"}],\"plot_height\":400,\"plot_width\":400,\"renderers\":[{\"id\":\"d457ca49-3a17-490b-9ad4-1d2f80744082\",\"type\":\"LinearAxis\"},{\"id\":\"4b16b0cc-52f3-40fd-92c3-7b786466c78a\",\"type\":\"Grid\"},{\"id\":\"f198b802-75e8-40ae-942e-faeccdabb5d4\",\"type\":\"LinearAxis\"},{\"id\":\"2c787a28-7ee6-4025-837c-f83ae006c706\",\"type\":\"Grid\"},{\"id\":\"de8271d8-8448-472e-b07c-a1236c3569b3\",\"type\":\"BoxAnnotation\"},{\"id\":\"df72f9bb-79be-4a2d-9144-ebc7952a1767\",\"type\":\"GlyphRenderer\"}],\"title\":{\"id\":\"9b8d5786-b745-42ea-bd69-6974f6850cd7\",\"type\":\"Title\"},\"toolbar\":{\"id\":\"46c719c5-88d1-4fd7-8318-830b523e512a\",\"type\":\"Toolbar\"},\"x_range\":{\"id\":\"e46832e7-e547-4d04-8287-3518a2ed22ef\",\"type\":\"DataRange1d\"},\"x_scale\":{\"id\":\"a34dd145-ac45-4937-9703-7f2afbbd8088\",\"type\":\"LinearScale\"},\"y_range\":{\"id\":\"cecc8b24-acfb-48f8-aada-c176fbb21729\",\"type\":\"DataRange1d\"},\"y_scale\":{\"id\":\"91eee184-a724-4bba-aa95-2a2a0c73f93f\",\"type\":\"LinearScale\"}},\"id\":\"a6eb5b7e-398c-49bb-978a-47a5f0774cdf\",\"subtype\":\"Figure\",\"type\":\"Plot\"},{\"attributes\":{\"bottom_units\":\"screen\",\"fill_alpha\":{\"value\":0.5},\"fill_color\":{\"value\":\"lightgrey\"},\"left_units\":\"screen\",\"level\":\"overlay\",\"line_alpha\":{\"value\":1.0},\"line_color\":{\"value\":\"black\"},\"line_dash\":[4,4],\"line_width\":{\"value\":2},\"plot\":null,\"render_mode\":\"css\",\"right_units\":\"screen\",\"top_units\":\"screen\"},\"id\":\"de8271d8-8448-472e-b07c-a1236c3569b3\",\"type\":\"BoxAnnotation\"},{\"attributes\":{\"callback\":null,\"column_names\":[\"x\",\"y\"],\"data\":{\"x\":[1,2,3,4,5],\"y\":[2,5,8,2,7]}},\"id\":\"4e96e42f-c6a7-4472-a0fd-7ae9813034a6\",\"type\":\"ColumnDataSource\"},{\"attributes\":{},\"id\":\"3bdeff06-7b65-45f1-857b-16ab4b481241\",\"type\":\"PanTool\"},{\"attributes\":{\"active_drag\":\"auto\",\"active_inspect\":\"auto\",\"active_scroll\":\"auto\",\"active_tap\":\"auto\",\"tools\":[{\"id\":\"3bdeff06-7b65-45f1-857b-16ab4b481241\",\"type\":\"PanTool\"},{\"id\":\"02b52833-7d40-4e19-9864-0fde6d2f711d\",\"type\":\"WheelZoomTool\"},{\"id\":\"b53ae517-cdea-4cc2-82c0-d05546c4d736\",\"type\":\"BoxZoomTool\"},{\"id\":\"05afd979-564e-4fd7-84ba-5cec18b1ce37\",\"type\":\"SaveTool\"},{\"id\":\"ebe55fe4-21e1-4c5d-9944-7e57e579e2b8\",\"type\":\"ResetTool\"},{\"id\":\"b9d65e54-15c7-4226-a191-4348b97141ce\",\"type\":\"HelpTool\"}]},\"id\":\"46c719c5-88d1-4fd7-8318-830b523e512a\",\"type\":\"Toolbar\"},{\"attributes\":{\"callback\":null},\"id\":\"e46832e7-e547-4d04-8287-3518a2ed22ef\",\"type\":\"DataRange1d\"},{\"attributes\":{},\"id\":\"02b52833-7d40-4e19-9864-0fde6d2f711d\",\"type\":\"WheelZoomTool\"},{\"attributes\":{\"overlay\":{\"id\":\"de8271d8-8448-472e-b07c-a1236c3569b3\",\"type\":\"BoxAnnotation\"}},\"id\":\"b53ae517-cdea-4cc2-82c0-d05546c4d736\",\"type\":\"BoxZoomTool\"},{\"attributes\":{\"callback\":null},\"id\":\"cecc8b24-acfb-48f8-aada-c176fbb21729\",\"type\":\"DataRange1d\"},{\"attributes\":{},\"id\":\"05afd979-564e-4fd7-84ba-5cec18b1ce37\",\"type\":\"SaveTool\"},{\"attributes\":{},\"id\":\"a34dd145-ac45-4937-9703-7f2afbbd8088\",\"type\":\"LinearScale\"},{\"attributes\":{},\"id\":\"ebe55fe4-21e1-4c5d-9944-7e57e579e2b8\",\"type\":\"ResetTool\"},{\"attributes\":{},\"id\":\"b9d65e54-15c7-4226-a191-4348b97141ce\",\"type\":\"HelpTool\"},{\"attributes\":{\"fill_alpha\":{\"value\":0.1},\"fill_color\":{\"value\":\"#1f77b4\"},\"line_alpha\":{\"value\":0.1},\"line_color\":{\"value\":\"#1f77b4\"},\"line_width\":{\"value\":2},\"size\":{\"units\":\"screen\",\"value\":10},\"x\":{\"field\":\"x\"},\"y\":{\"field\":\"y\"}},\"id\":\"ee8d5445-024a-4378-88ed-1a1d4d5ff779\",\"type\":\"X\"},{\"attributes\":{},\"id\":\"91eee184-a724-4bba-aa95-2a2a0c73f93f\",\"type\":\"LinearScale\"},{\"attributes\":{\"plot\":null,\"text\":\"\"},\"id\":\"9b8d5786-b745-42ea-bd69-6974f6850cd7\",\"type\":\"Title\"},{\"attributes\":{\"plot\":{\"id\":\"a6eb5b7e-398c-49bb-978a-47a5f0774cdf\",\"subtype\":\"Figure\",\"type\":\"Plot\"},\"ticker\":{\"id\":\"da6c4f22-0d41-48bd-9979-ff551d4dc421\",\"type\":\"BasicTicker\"}},\"id\":\"4b16b0cc-52f3-40fd-92c3-7b786466c78a\",\"type\":\"Grid\"},{\"attributes\":{\"formatter\":{\"id\":\"c8b5680f-53d4-4309-8d70-76232f6b0ed1\",\"type\":\"BasicTickFormatter\"},\"major_label_orientation\":0.7853981633974483,\"plot\":{\"id\":\"a6eb5b7e-398c-49bb-978a-47a5f0774cdf\",\"subtype\":\"Figure\",\"type\":\"Plot\"},\"ticker\":{\"id\":\"da6c4f22-0d41-48bd-9979-ff551d4dc421\",\"type\":\"BasicTicker\"}},\"id\":\"d457ca49-3a17-490b-9ad4-1d2f80744082\",\"type\":\"LinearAxis\"},{\"attributes\":{},\"id\":\"8754b19d-7cc7-4652-82d7-e9cc7fe9a3cd\",\"type\":\"BasicTickFormatter\"},{\"attributes\":{},\"id\":\"da6c4f22-0d41-48bd-9979-ff551d4dc421\",\"type\":\"BasicTicker\"},{\"attributes\":{\"formatter\":{\"id\":\"8754b19d-7cc7-4652-82d7-e9cc7fe9a3cd\",\"type\":\"BasicTickFormatter\"},\"major_label_orientation\":\"vertical\",\"plot\":{\"id\":\"a6eb5b7e-398c-49bb-978a-47a5f0774cdf\",\"subtype\":\"Figure\",\"type\":\"Plot\"},\"ticker\":{\"id\":\"97c9eaba-8042-4795-b056-73c4c2e32ac0\",\"type\":\"BasicTicker\"}},\"id\":\"f198b802-75e8-40ae-942e-faeccdabb5d4\",\"type\":\"LinearAxis\"},{\"attributes\":{},\"id\":\"97c9eaba-8042-4795-b056-73c4c2e32ac0\",\"type\":\"BasicTicker\"},{\"attributes\":{},\"id\":\"c8b5680f-53d4-4309-8d70-76232f6b0ed1\",\"type\":\"BasicTickFormatter\"},{\"attributes\":{\"dimension\":1,\"plot\":{\"id\":\"a6eb5b7e-398c-49bb-978a-47a5f0774cdf\",\"subtype\":\"Figure\",\"type\":\"Plot\"},\"ticker\":{\"id\":\"97c9eaba-8042-4795-b056-73c4c2e32ac0\",\"type\":\"BasicTicker\"}},\"id\":\"2c787a28-7ee6-4025-837c-f83ae006c706\",\"type\":\"Grid\"}],\"root_ids\":[\"a6eb5b7e-398c-49bb-978a-47a5f0774cdf\"]},\"title\":\"Bokeh Application\",\"version\":\"0.12.13\"}};\n",
       "  var render_items = [{\"docid\":\"e37224f8-db76-4658-b658-e3efd18e67ad\",\"elementid\":\"34ea58f0-26f2-49e4-8aa0-dfc30102cb44\",\"modelid\":\"a6eb5b7e-398c-49bb-978a-47a5f0774cdf\"}];\n",
       "  root.Bokeh.embed.embed_items_notebook(docs_json, render_items);\n",
       "\n",
       "  }\n",
       "  if (root.Bokeh !== undefined) {\n",
       "    embed_document(root);\n",
       "  } else {\n",
       "    var attempts = 0;\n",
       "    var timer = setInterval(function(root) {\n",
       "      if (root.Bokeh !== undefined) {\n",
       "        embed_document(root);\n",
       "        clearInterval(timer);\n",
       "      }\n",
       "      attempts++;\n",
       "      if (attempts > 100) {\n",
       "        console.log(\"Bokeh: ERROR: Unable to run BokehJS code because BokehJS library is missing\")\n",
       "        clearInterval(timer);\n",
       "      }\n",
       "    }, 10, root)\n",
       "  }\n",
       "})(window);"
      ],
      "application/vnd.bokehjs_exec.v0+json": ""
     },
     "metadata": {
      "application/vnd.bokehjs_exec.v0+json": {
       "id": "a6eb5b7e-398c-49bb-978a-47a5f0774cdf"
      }
     },
     "output_type": "display_data"
    }
   ],
   "source": [
    "from math import pi\n",
    "\n",
    "p = figure(plot_width=400, plot_height=400)\n",
    "p.x([1,2,3,4,5], [2,5,8,2,7], size=10, line_width=2)\n",
    "\n",
    "p.xaxis.major_label_orientation = pi/4\n",
    "p.yaxis.major_label_orientation = \"vertical\"\n",
    "\n",
    "show(p)"
   ]
  },
  {
   "cell_type": "markdown",
   "metadata": {},
   "source": [
    "The next example shows customizations on several of the different Axis properties at once:"
   ]
  },
  {
   "cell_type": "code",
   "execution_count": 11,
   "metadata": {},
   "outputs": [
    {
     "data": {
      "text/html": [
       "\n",
       "<div class=\"bk-root\">\n",
       "    <div class=\"bk-plotdiv\" id=\"a87acae8-2469-4675-9ecb-e01ab7a0556f\"></div>\n",
       "</div>"
      ]
     },
     "metadata": {},
     "output_type": "display_data"
    },
    {
     "data": {
      "application/javascript": [
       "(function(root) {\n",
       "  function embed_document(root) {\n",
       "    \n",
       "  var docs_json = {\"6caf0676-4ad1-42f1-bda0-db1856858506\":{\"roots\":{\"references\":[{\"attributes\":{\"plot\":{\"id\":\"1694e2e5-b331-4bdc-a3af-f263c8f73e46\",\"subtype\":\"Figure\",\"type\":\"Plot\"},\"ticker\":{\"id\":\"4dba45d5-314a-4dc8-9344-491d22a71989\",\"type\":\"BasicTicker\"}},\"id\":\"20f27d52-830b-4ac6-8ce7-6eff553bbd74\",\"type\":\"Grid\"},{\"attributes\":{\"axis_label\":\"Temp\",\"axis_line_color\":{\"value\":\"red\"},\"axis_line_width\":{\"value\":3},\"formatter\":{\"id\":\"41cc62f3-7fb8-456c-9fc4-5516dc8ac989\",\"type\":\"BasicTickFormatter\"},\"minor_tick_in\":-3,\"minor_tick_out\":6,\"plot\":{\"id\":\"1694e2e5-b331-4bdc-a3af-f263c8f73e46\",\"subtype\":\"Figure\",\"type\":\"Plot\"},\"ticker\":{\"id\":\"4dba45d5-314a-4dc8-9344-491d22a71989\",\"type\":\"BasicTicker\"}},\"id\":\"42c3cd56-3284-4c65-b70b-ec7b3e3bb721\",\"type\":\"LinearAxis\"},{\"attributes\":{\"plot\":null,\"text\":\"\"},\"id\":\"74926481-316d-4b60-98f2-d5f2e4f2d14f\",\"type\":\"Title\"},{\"attributes\":{},\"id\":\"4dba45d5-314a-4dc8-9344-491d22a71989\",\"type\":\"BasicTicker\"},{\"attributes\":{\"axis_label\":\"Pressure\",\"formatter\":{\"id\":\"7382859e-2761-4122-9aa5-3441349370bf\",\"type\":\"BasicTickFormatter\"},\"major_label_orientation\":\"vertical\",\"major_label_text_color\":{\"value\":\"orange\"},\"minor_tick_in\":-3,\"minor_tick_out\":6,\"plot\":{\"id\":\"1694e2e5-b331-4bdc-a3af-f263c8f73e46\",\"subtype\":\"Figure\",\"type\":\"Plot\"},\"ticker\":{\"id\":\"cf5a2b5f-cf1a-49eb-b0e9-9321f06713b5\",\"type\":\"BasicTicker\"}},\"id\":\"9f0fda79-c563-49e4-89ce-3b3f2d7ecc6b\",\"type\":\"LinearAxis\"},{\"attributes\":{},\"id\":\"cf5a2b5f-cf1a-49eb-b0e9-9321f06713b5\",\"type\":\"BasicTicker\"},{\"attributes\":{\"dimension\":1,\"plot\":{\"id\":\"1694e2e5-b331-4bdc-a3af-f263c8f73e46\",\"subtype\":\"Figure\",\"type\":\"Plot\"},\"ticker\":{\"id\":\"cf5a2b5f-cf1a-49eb-b0e9-9321f06713b5\",\"type\":\"BasicTicker\"}},\"id\":\"341f3c35-6b2a-44f9-bd52-579e106ddbf1\",\"type\":\"Grid\"},{\"attributes\":{\"data_source\":{\"id\":\"0a7caf03-c052-45d1-8857-8b5f1a16ea5a\",\"type\":\"ColumnDataSource\"},\"glyph\":{\"id\":\"016a7ba1-299e-4dad-8d19-ce14ce776831\",\"type\":\"Asterisk\"},\"hover_glyph\":null,\"muted_glyph\":null,\"nonselection_glyph\":{\"id\":\"18f12827-8952-4863-9378-9479223019c9\",\"type\":\"Asterisk\"},\"selection_glyph\":null,\"view\":{\"id\":\"7cd7fe98-4595-4c94-80d3-12b8d2059f44\",\"type\":\"CDSView\"}},\"id\":\"4e12a182-e73c-48d2-bf93-e77cf23cab6a\",\"type\":\"GlyphRenderer\"},{\"attributes\":{},\"id\":\"7382859e-2761-4122-9aa5-3441349370bf\",\"type\":\"BasicTickFormatter\"},{\"attributes\":{},\"id\":\"41cc62f3-7fb8-456c-9fc4-5516dc8ac989\",\"type\":\"BasicTickFormatter\"},{\"attributes\":{\"fill_color\":{\"value\":\"olive\"},\"line_color\":{\"value\":\"olive\"},\"size\":{\"units\":\"screen\",\"value\":12},\"x\":{\"field\":\"x\"},\"y\":{\"field\":\"y\"}},\"id\":\"016a7ba1-299e-4dad-8d19-ce14ce776831\",\"type\":\"Asterisk\"},{\"attributes\":{\"below\":[{\"id\":\"42c3cd56-3284-4c65-b70b-ec7b3e3bb721\",\"type\":\"LinearAxis\"}],\"left\":[{\"id\":\"9f0fda79-c563-49e4-89ce-3b3f2d7ecc6b\",\"type\":\"LinearAxis\"}],\"plot_height\":400,\"plot_width\":400,\"renderers\":[{\"id\":\"42c3cd56-3284-4c65-b70b-ec7b3e3bb721\",\"type\":\"LinearAxis\"},{\"id\":\"20f27d52-830b-4ac6-8ce7-6eff553bbd74\",\"type\":\"Grid\"},{\"id\":\"9f0fda79-c563-49e4-89ce-3b3f2d7ecc6b\",\"type\":\"LinearAxis\"},{\"id\":\"341f3c35-6b2a-44f9-bd52-579e106ddbf1\",\"type\":\"Grid\"},{\"id\":\"8fe36202-6e50-4790-b797-d0a34808ce77\",\"type\":\"BoxAnnotation\"},{\"id\":\"4e12a182-e73c-48d2-bf93-e77cf23cab6a\",\"type\":\"GlyphRenderer\"}],\"title\":{\"id\":\"74926481-316d-4b60-98f2-d5f2e4f2d14f\",\"type\":\"Title\"},\"toolbar\":{\"id\":\"b62f0e22-4b43-4279-945f-45cd9c0f6b14\",\"type\":\"Toolbar\"},\"x_range\":{\"id\":\"19e453d6-d062-4c5f-acf4-30e497ceac6d\",\"type\":\"DataRange1d\"},\"x_scale\":{\"id\":\"fcabec31-877f-4800-9812-3704778926d4\",\"type\":\"LinearScale\"},\"y_range\":{\"id\":\"4c56ace9-c805-43d9-9073-5224c461a997\",\"type\":\"DataRange1d\"},\"y_scale\":{\"id\":\"c4234051-b853-431f-a5ea-95a0dfddcb22\",\"type\":\"LinearScale\"}},\"id\":\"1694e2e5-b331-4bdc-a3af-f263c8f73e46\",\"subtype\":\"Figure\",\"type\":\"Plot\"},{\"attributes\":{\"callback\":null,\"column_names\":[\"x\",\"y\"],\"data\":{\"x\":[1,2,3,4,5],\"y\":[2,5,8,2,7]}},\"id\":\"0a7caf03-c052-45d1-8857-8b5f1a16ea5a\",\"type\":\"ColumnDataSource\"},{\"attributes\":{\"bottom_units\":\"screen\",\"fill_alpha\":{\"value\":0.5},\"fill_color\":{\"value\":\"lightgrey\"},\"left_units\":\"screen\",\"level\":\"overlay\",\"line_alpha\":{\"value\":1.0},\"line_color\":{\"value\":\"black\"},\"line_dash\":[4,4],\"line_width\":{\"value\":2},\"plot\":null,\"render_mode\":\"css\",\"right_units\":\"screen\",\"top_units\":\"screen\"},\"id\":\"8fe36202-6e50-4790-b797-d0a34808ce77\",\"type\":\"BoxAnnotation\"},{\"attributes\":{\"source\":{\"id\":\"0a7caf03-c052-45d1-8857-8b5f1a16ea5a\",\"type\":\"ColumnDataSource\"}},\"id\":\"7cd7fe98-4595-4c94-80d3-12b8d2059f44\",\"type\":\"CDSView\"},{\"attributes\":{},\"id\":\"57ae729b-7b1d-4d2c-94b7-4a036b783342\",\"type\":\"PanTool\"},{\"attributes\":{\"active_drag\":\"auto\",\"active_inspect\":\"auto\",\"active_scroll\":\"auto\",\"active_tap\":\"auto\",\"tools\":[{\"id\":\"57ae729b-7b1d-4d2c-94b7-4a036b783342\",\"type\":\"PanTool\"},{\"id\":\"4bd64642-aff1-409c-93cd-120596ceefc3\",\"type\":\"WheelZoomTool\"},{\"id\":\"20314472-eb5f-4476-bb85-645876b5d96f\",\"type\":\"BoxZoomTool\"},{\"id\":\"e8b8dcb9-9c50-4a17-8e6d-1c97239300fa\",\"type\":\"SaveTool\"},{\"id\":\"bde5134a-4e50-40b9-b972-e727155be4d4\",\"type\":\"ResetTool\"},{\"id\":\"ab7221d4-3656-45c7-9c2f-875b6ee1bd3c\",\"type\":\"HelpTool\"}]},\"id\":\"b62f0e22-4b43-4279-945f-45cd9c0f6b14\",\"type\":\"Toolbar\"},{\"attributes\":{\"callback\":null},\"id\":\"19e453d6-d062-4c5f-acf4-30e497ceac6d\",\"type\":\"DataRange1d\"},{\"attributes\":{},\"id\":\"4bd64642-aff1-409c-93cd-120596ceefc3\",\"type\":\"WheelZoomTool\"},{\"attributes\":{\"fill_alpha\":{\"value\":0.1},\"fill_color\":{\"value\":\"#1f77b4\"},\"line_alpha\":{\"value\":0.1},\"line_color\":{\"value\":\"#1f77b4\"},\"size\":{\"units\":\"screen\",\"value\":12},\"x\":{\"field\":\"x\"},\"y\":{\"field\":\"y\"}},\"id\":\"18f12827-8952-4863-9378-9479223019c9\",\"type\":\"Asterisk\"},{\"attributes\":{\"overlay\":{\"id\":\"8fe36202-6e50-4790-b797-d0a34808ce77\",\"type\":\"BoxAnnotation\"}},\"id\":\"20314472-eb5f-4476-bb85-645876b5d96f\",\"type\":\"BoxZoomTool\"},{\"attributes\":{\"callback\":null},\"id\":\"4c56ace9-c805-43d9-9073-5224c461a997\",\"type\":\"DataRange1d\"},{\"attributes\":{},\"id\":\"e8b8dcb9-9c50-4a17-8e6d-1c97239300fa\",\"type\":\"SaveTool\"},{\"attributes\":{},\"id\":\"fcabec31-877f-4800-9812-3704778926d4\",\"type\":\"LinearScale\"},{\"attributes\":{},\"id\":\"bde5134a-4e50-40b9-b972-e727155be4d4\",\"type\":\"ResetTool\"},{\"attributes\":{},\"id\":\"c4234051-b853-431f-a5ea-95a0dfddcb22\",\"type\":\"LinearScale\"},{\"attributes\":{},\"id\":\"ab7221d4-3656-45c7-9c2f-875b6ee1bd3c\",\"type\":\"HelpTool\"}],\"root_ids\":[\"1694e2e5-b331-4bdc-a3af-f263c8f73e46\"]},\"title\":\"Bokeh Application\",\"version\":\"0.12.13\"}};\n",
       "  var render_items = [{\"docid\":\"6caf0676-4ad1-42f1-bda0-db1856858506\",\"elementid\":\"a87acae8-2469-4675-9ecb-e01ab7a0556f\",\"modelid\":\"1694e2e5-b331-4bdc-a3af-f263c8f73e46\"}];\n",
       "  root.Bokeh.embed.embed_items_notebook(docs_json, render_items);\n",
       "\n",
       "  }\n",
       "  if (root.Bokeh !== undefined) {\n",
       "    embed_document(root);\n",
       "  } else {\n",
       "    var attempts = 0;\n",
       "    var timer = setInterval(function(root) {\n",
       "      if (root.Bokeh !== undefined) {\n",
       "        embed_document(root);\n",
       "        clearInterval(timer);\n",
       "      }\n",
       "      attempts++;\n",
       "      if (attempts > 100) {\n",
       "        console.log(\"Bokeh: ERROR: Unable to run BokehJS code because BokehJS library is missing\")\n",
       "        clearInterval(timer);\n",
       "      }\n",
       "    }, 10, root)\n",
       "  }\n",
       "})(window);"
      ],
      "application/vnd.bokehjs_exec.v0+json": ""
     },
     "metadata": {
      "application/vnd.bokehjs_exec.v0+json": {
       "id": "1694e2e5-b331-4bdc-a3af-f263c8f73e46"
      }
     },
     "output_type": "display_data"
    }
   ],
   "source": [
    "p = figure(plot_width=400, plot_height=400)\n",
    "p.asterisk([1,2,3,4,5], [2,5,8,2,7], size=12, color=\"olive\")\n",
    "\n",
    "# change just some things about the x-axes\n",
    "p.xaxis.axis_label = \"Temp\"\n",
    "p.xaxis.axis_line_width = 3\n",
    "p.xaxis.axis_line_color = \"red\"\n",
    "\n",
    "# change just some things about the y-axes\n",
    "p.yaxis.axis_label = \"Pressure\"\n",
    "p.yaxis.major_label_text_color = \"orange\"\n",
    "p.yaxis.major_label_orientation = \"vertical\"\n",
    "\n",
    "# change things on all axes\n",
    "p.axis.minor_tick_in = -3\n",
    "p.axis.minor_tick_out = 6\n",
    "\n",
    "show(p)"
   ]
  },
  {
   "cell_type": "code",
   "execution_count": 12,
   "metadata": {},
   "outputs": [],
   "source": [
    "# EXERCISE Create a plot of your own and customize several axis properties\n"
   ]
  },
  {
   "cell_type": "markdown",
   "metadata": {},
   "source": [
    "There are further customizations possible. See the [User Guide](http://bokeh.pydata.org/en/latest/docs/user_guide.html) for more information on topics such as [tick label formatting](http://bokeh.pydata.org/en/latest/docs/user_guide/styling.html#tick-label-formats) or [limiting axis bounds](http://bokeh.pydata.org/en/latest/docs/user_guide/styling.html#bounds)."
   ]
  },
  {
   "cell_type": "markdown",
   "metadata": {},
   "source": [
    "# Grids\n",
    "\n",
    "[Grids](http://bokeh.pydata.org/en/latest/docs/user_guide/styling.html#grids)\n",
    "\n",
    "* **grid** [line properties](http://bokeh.pydata.org/en/latest/docs/user_guide/styling.html#line-properties)\n",
    "* **band** [fill properties]()"
   ]
  },
  {
   "cell_type": "code",
   "execution_count": 12,
   "metadata": {},
   "outputs": [
    {
     "data": {
      "text/html": [
       "\n",
       "<div class=\"bk-root\">\n",
       "    <div class=\"bk-plotdiv\" id=\"ef5b7451-2d70-4bc8-8ddf-1ec128a7aa82\"></div>\n",
       "</div>"
      ]
     },
     "metadata": {},
     "output_type": "display_data"
    },
    {
     "data": {
      "application/javascript": [
       "(function(root) {\n",
       "  function embed_document(root) {\n",
       "    \n",
       "  var docs_json = {\"50cf0710-b107-41f2-8e0f-4b5f87b668ae\":{\"roots\":{\"references\":[{\"attributes\":{},\"id\":\"c4563dca-ebbc-4241-aca0-a3a918a313dd\",\"type\":\"PanTool\"},{\"attributes\":{\"bottom_units\":\"screen\",\"fill_alpha\":{\"value\":0.5},\"fill_color\":{\"value\":\"lightgrey\"},\"left_units\":\"screen\",\"level\":\"overlay\",\"line_alpha\":{\"value\":1.0},\"line_color\":{\"value\":\"black\"},\"line_dash\":[4,4],\"line_width\":{\"value\":2},\"plot\":null,\"render_mode\":\"css\",\"right_units\":\"screen\",\"top_units\":\"screen\"},\"id\":\"0991f383-57ea-47d1-8906-b5d283e0b630\",\"type\":\"BoxAnnotation\"},{\"attributes\":{\"callback\":null},\"id\":\"d1e137cf-995a-423d-9876-f52224ef4e6c\",\"type\":\"DataRange1d\"},{\"attributes\":{\"fill_color\":{\"value\":\"#1f77b4\"},\"line_color\":{\"value\":\"#1f77b4\"},\"size\":{\"units\":\"screen\",\"value\":10},\"x\":{\"field\":\"x\"},\"y\":{\"field\":\"y\"}},\"id\":\"acdf0a64-56da-4ba4-b645-024fc6573ac6\",\"type\":\"Circle\"},{\"attributes\":{\"source\":{\"id\":\"e4e53292-c291-4f32-888c-86ee412702c5\",\"type\":\"ColumnDataSource\"}},\"id\":\"0b6551e5-c330-41c9-b1e1-811c1651abc7\",\"type\":\"CDSView\"},{\"attributes\":{\"callback\":null,\"column_names\":[\"x\",\"y\"],\"data\":{\"x\":[1,2,3,4,5],\"y\":[2,5,8,2,7]}},\"id\":\"e4e53292-c291-4f32-888c-86ee412702c5\",\"type\":\"ColumnDataSource\"},{\"attributes\":{\"callback\":null},\"id\":\"ba0426ce-4316-423f-ae1e-6763df77102b\",\"type\":\"DataRange1d\"},{\"attributes\":{\"below\":[{\"id\":\"96e19442-a912-4f96-a9ee-99222655055b\",\"type\":\"LinearAxis\"}],\"left\":[{\"id\":\"08c20d32-4330-4d2b-aaa3-a2326e2301d5\",\"type\":\"LinearAxis\"}],\"plot_height\":400,\"plot_width\":400,\"renderers\":[{\"id\":\"96e19442-a912-4f96-a9ee-99222655055b\",\"type\":\"LinearAxis\"},{\"id\":\"56ad7d6b-fcbb-4568-81e5-b15102a7baec\",\"type\":\"Grid\"},{\"id\":\"08c20d32-4330-4d2b-aaa3-a2326e2301d5\",\"type\":\"LinearAxis\"},{\"id\":\"d9689e9a-60a2-4dbd-aafd-15cf53ae2f19\",\"type\":\"Grid\"},{\"id\":\"0991f383-57ea-47d1-8906-b5d283e0b630\",\"type\":\"BoxAnnotation\"},{\"id\":\"da03251d-a7c7-4207-81f0-4d3238ee22a8\",\"type\":\"GlyphRenderer\"}],\"title\":{\"id\":\"823d5630-053a-4f36-9fb2-e43ef8733564\",\"type\":\"Title\"},\"toolbar\":{\"id\":\"976defc2-21f6-41b6-8e78-a5b6e98f4493\",\"type\":\"Toolbar\"},\"x_range\":{\"id\":\"ba0426ce-4316-423f-ae1e-6763df77102b\",\"type\":\"DataRange1d\"},\"x_scale\":{\"id\":\"e2282870-5ac4-4068-adf6-3009ada15110\",\"type\":\"LinearScale\"},\"y_range\":{\"id\":\"d1e137cf-995a-423d-9876-f52224ef4e6c\",\"type\":\"DataRange1d\"},\"y_scale\":{\"id\":\"f7b92397-ef34-4c19-abfd-38f4c1f23a5a\",\"type\":\"LinearScale\"}},\"id\":\"a063f304-a7a2-4c3b-bec2-e0d1619d2b7d\",\"subtype\":\"Figure\",\"type\":\"Plot\"},{\"attributes\":{},\"id\":\"f7b92397-ef34-4c19-abfd-38f4c1f23a5a\",\"type\":\"LinearScale\"},{\"attributes\":{},\"id\":\"379821d6-adef-445c-a9bc-7a6c504a66c8\",\"type\":\"WheelZoomTool\"},{\"attributes\":{},\"id\":\"ab5cc068-015a-4113-9803-7cc464fd13ea\",\"type\":\"ResetTool\"},{\"attributes\":{},\"id\":\"3962e4cd-4cd1-4ad1-a1a9-91fb12235ec7\",\"type\":\"HelpTool\"},{\"attributes\":{\"overlay\":{\"id\":\"0991f383-57ea-47d1-8906-b5d283e0b630\",\"type\":\"BoxAnnotation\"}},\"id\":\"6f468c95-5403-48c4-a7d5-bec62769866c\",\"type\":\"BoxZoomTool\"},{\"attributes\":{},\"id\":\"e2282870-5ac4-4068-adf6-3009ada15110\",\"type\":\"LinearScale\"},{\"attributes\":{},\"id\":\"7efb20c9-dd5e-4938-a73a-f7c9c796260b\",\"type\":\"BasicTicker\"},{\"attributes\":{},\"id\":\"329276dc-c97f-4b1b-84bb-3f0a3cbd9494\",\"type\":\"BasicTickFormatter\"},{\"attributes\":{\"formatter\":{\"id\":\"329276dc-c97f-4b1b-84bb-3f0a3cbd9494\",\"type\":\"BasicTickFormatter\"},\"plot\":{\"id\":\"a063f304-a7a2-4c3b-bec2-e0d1619d2b7d\",\"subtype\":\"Figure\",\"type\":\"Plot\"},\"ticker\":{\"id\":\"7efb20c9-dd5e-4938-a73a-f7c9c796260b\",\"type\":\"BasicTicker\"}},\"id\":\"96e19442-a912-4f96-a9ee-99222655055b\",\"type\":\"LinearAxis\"},{\"attributes\":{\"plot\":null,\"text\":\"\"},\"id\":\"823d5630-053a-4f36-9fb2-e43ef8733564\",\"type\":\"Title\"},{\"attributes\":{\"fill_alpha\":{\"value\":0.1},\"fill_color\":{\"value\":\"#1f77b4\"},\"line_alpha\":{\"value\":0.1},\"line_color\":{\"value\":\"#1f77b4\"},\"size\":{\"units\":\"screen\",\"value\":10},\"x\":{\"field\":\"x\"},\"y\":{\"field\":\"y\"}},\"id\":\"1f68cfa8-43e8-45a6-9e8b-0c4e0e1dcb43\",\"type\":\"Circle\"},{\"attributes\":{\"grid_line_color\":{\"value\":null},\"plot\":{\"id\":\"a063f304-a7a2-4c3b-bec2-e0d1619d2b7d\",\"subtype\":\"Figure\",\"type\":\"Plot\"},\"ticker\":{\"id\":\"7efb20c9-dd5e-4938-a73a-f7c9c796260b\",\"type\":\"BasicTicker\"}},\"id\":\"56ad7d6b-fcbb-4568-81e5-b15102a7baec\",\"type\":\"Grid\"},{\"attributes\":{\"data_source\":{\"id\":\"e4e53292-c291-4f32-888c-86ee412702c5\",\"type\":\"ColumnDataSource\"},\"glyph\":{\"id\":\"acdf0a64-56da-4ba4-b645-024fc6573ac6\",\"type\":\"Circle\"},\"hover_glyph\":null,\"muted_glyph\":null,\"nonselection_glyph\":{\"id\":\"1f68cfa8-43e8-45a6-9e8b-0c4e0e1dcb43\",\"type\":\"Circle\"},\"selection_glyph\":null,\"view\":{\"id\":\"0b6551e5-c330-41c9-b1e1-811c1651abc7\",\"type\":\"CDSView\"}},\"id\":\"da03251d-a7c7-4207-81f0-4d3238ee22a8\",\"type\":\"GlyphRenderer\"},{\"attributes\":{\"dimension\":1,\"grid_line_alpha\":{\"value\":0.5},\"grid_line_dash\":[6,4],\"plot\":{\"id\":\"a063f304-a7a2-4c3b-bec2-e0d1619d2b7d\",\"subtype\":\"Figure\",\"type\":\"Plot\"},\"ticker\":{\"id\":\"417a243f-dec4-4abd-a84f-62d5a05a9b7e\",\"type\":\"BasicTicker\"}},\"id\":\"d9689e9a-60a2-4dbd-aafd-15cf53ae2f19\",\"type\":\"Grid\"},{\"attributes\":{},\"id\":\"417a243f-dec4-4abd-a84f-62d5a05a9b7e\",\"type\":\"BasicTicker\"},{\"attributes\":{\"formatter\":{\"id\":\"7708fd91-f664-4356-85ea-882bdd078b79\",\"type\":\"BasicTickFormatter\"},\"plot\":{\"id\":\"a063f304-a7a2-4c3b-bec2-e0d1619d2b7d\",\"subtype\":\"Figure\",\"type\":\"Plot\"},\"ticker\":{\"id\":\"417a243f-dec4-4abd-a84f-62d5a05a9b7e\",\"type\":\"BasicTicker\"}},\"id\":\"08c20d32-4330-4d2b-aaa3-a2326e2301d5\",\"type\":\"LinearAxis\"},{\"attributes\":{},\"id\":\"7708fd91-f664-4356-85ea-882bdd078b79\",\"type\":\"BasicTickFormatter\"},{\"attributes\":{},\"id\":\"c77ceb83-79d6-4369-9ddb-ba570a801fb2\",\"type\":\"SaveTool\"},{\"attributes\":{\"active_drag\":\"auto\",\"active_inspect\":\"auto\",\"active_scroll\":\"auto\",\"active_tap\":\"auto\",\"tools\":[{\"id\":\"c4563dca-ebbc-4241-aca0-a3a918a313dd\",\"type\":\"PanTool\"},{\"id\":\"379821d6-adef-445c-a9bc-7a6c504a66c8\",\"type\":\"WheelZoomTool\"},{\"id\":\"6f468c95-5403-48c4-a7d5-bec62769866c\",\"type\":\"BoxZoomTool\"},{\"id\":\"c77ceb83-79d6-4369-9ddb-ba570a801fb2\",\"type\":\"SaveTool\"},{\"id\":\"ab5cc068-015a-4113-9803-7cc464fd13ea\",\"type\":\"ResetTool\"},{\"id\":\"3962e4cd-4cd1-4ad1-a1a9-91fb12235ec7\",\"type\":\"HelpTool\"}]},\"id\":\"976defc2-21f6-41b6-8e78-a5b6e98f4493\",\"type\":\"Toolbar\"}],\"root_ids\":[\"a063f304-a7a2-4c3b-bec2-e0d1619d2b7d\"]},\"title\":\"Bokeh Application\",\"version\":\"0.12.13\"}};\n",
       "  var render_items = [{\"docid\":\"50cf0710-b107-41f2-8e0f-4b5f87b668ae\",\"elementid\":\"ef5b7451-2d70-4bc8-8ddf-1ec128a7aa82\",\"modelid\":\"a063f304-a7a2-4c3b-bec2-e0d1619d2b7d\"}];\n",
       "  root.Bokeh.embed.embed_items_notebook(docs_json, render_items);\n",
       "\n",
       "  }\n",
       "  if (root.Bokeh !== undefined) {\n",
       "    embed_document(root);\n",
       "  } else {\n",
       "    var attempts = 0;\n",
       "    var timer = setInterval(function(root) {\n",
       "      if (root.Bokeh !== undefined) {\n",
       "        embed_document(root);\n",
       "        clearInterval(timer);\n",
       "      }\n",
       "      attempts++;\n",
       "      if (attempts > 100) {\n",
       "        console.log(\"Bokeh: ERROR: Unable to run BokehJS code because BokehJS library is missing\")\n",
       "        clearInterval(timer);\n",
       "      }\n",
       "    }, 10, root)\n",
       "  }\n",
       "})(window);"
      ],
      "application/vnd.bokehjs_exec.v0+json": ""
     },
     "metadata": {
      "application/vnd.bokehjs_exec.v0+json": {
       "id": "a063f304-a7a2-4c3b-bec2-e0d1619d2b7d"
      }
     },
     "output_type": "display_data"
    }
   ],
   "source": [
    "p = figure(plot_width=400, plot_height=400)\n",
    "p.circle([1,2,3,4,5], [2,5,8,2,7], size=10)\n",
    "\n",
    "# change just some things about the x-grid\n",
    "p.xgrid.grid_line_color = None\n",
    "\n",
    "# change just some things about the y-grid\n",
    "p.ygrid.grid_line_alpha = 0.5\n",
    "p.ygrid.grid_line_dash = [6, 4]\n",
    "\n",
    "show(p)"
   ]
  },
  {
   "cell_type": "code",
   "execution_count": 13,
   "metadata": {},
   "outputs": [
    {
     "data": {
      "text/html": [
       "\n",
       "<div class=\"bk-root\">\n",
       "    <div class=\"bk-plotdiv\" id=\"6b0b0fa5-ab00-4735-b3f8-ab55fb00b481\"></div>\n",
       "</div>"
      ]
     },
     "metadata": {},
     "output_type": "display_data"
    },
    {
     "data": {
      "application/javascript": [
       "(function(root) {\n",
       "  function embed_document(root) {\n",
       "    \n",
       "  var docs_json = {\"54e003c0-7487-4913-908e-a834fdb98965\":{\"roots\":{\"references\":[{\"attributes\":{\"callback\":null},\"id\":\"0ae0ad6b-6a14-4484-8ae6-98b5a6c23fcf\",\"type\":\"DataRange1d\"},{\"attributes\":{\"band_fill_alpha\":{\"value\":0.1},\"band_fill_color\":{\"value\":\"navy\"},\"dimension\":1,\"plot\":{\"id\":\"9b3a7b74-9be6-4bc6-91bc-5d0452d84091\",\"subtype\":\"Figure\",\"type\":\"Plot\"},\"ticker\":{\"id\":\"a815a4dd-3914-48ae-9a0d-7e1a9fc7c2f1\",\"type\":\"BasicTicker\"}},\"id\":\"bd5c6b0b-5669-4f20-851c-89b7fd741264\",\"type\":\"Grid\"},{\"attributes\":{\"below\":[{\"id\":\"252a980e-76f9-4e11-b650-2271758ce487\",\"type\":\"LinearAxis\"}],\"left\":[{\"id\":\"5354a7dc-9fd9-4106-8f2d-661e2e3dbf73\",\"type\":\"LinearAxis\"}],\"plot_height\":400,\"plot_width\":400,\"renderers\":[{\"id\":\"252a980e-76f9-4e11-b650-2271758ce487\",\"type\":\"LinearAxis\"},{\"id\":\"b778723f-da8e-4af0-a235-4d5872b44223\",\"type\":\"Grid\"},{\"id\":\"5354a7dc-9fd9-4106-8f2d-661e2e3dbf73\",\"type\":\"LinearAxis\"},{\"id\":\"bd5c6b0b-5669-4f20-851c-89b7fd741264\",\"type\":\"Grid\"},{\"id\":\"dea20e30-2126-4980-ac14-ff192858508b\",\"type\":\"BoxAnnotation\"},{\"id\":\"e36a6dff-e5bc-4680-ad8b-5db226f051f2\",\"type\":\"GlyphRenderer\"}],\"title\":{\"id\":\"09548db5-b66f-438f-b286-b0d7416e4b68\",\"type\":\"Title\"},\"toolbar\":{\"id\":\"50515822-93c2-459d-92bf-7aef6c8cf917\",\"type\":\"Toolbar\"},\"x_range\":{\"id\":\"0ae0ad6b-6a14-4484-8ae6-98b5a6c23fcf\",\"type\":\"DataRange1d\"},\"x_scale\":{\"id\":\"72d1018b-445c-47fd-b3ad-b38849352d36\",\"type\":\"LinearScale\"},\"y_range\":{\"id\":\"dbbbcf62-7f0e-4c26-a125-6108b6f253c9\",\"type\":\"DataRange1d\"},\"y_scale\":{\"id\":\"3ef9fc0e-3149-4746-b24e-66fee74b1670\",\"type\":\"LinearScale\"}},\"id\":\"9b3a7b74-9be6-4bc6-91bc-5d0452d84091\",\"subtype\":\"Figure\",\"type\":\"Plot\"},{\"attributes\":{},\"id\":\"3ef9fc0e-3149-4746-b24e-66fee74b1670\",\"type\":\"LinearScale\"},{\"attributes\":{},\"id\":\"9894fa7e-cb8c-45c5-ba25-aeeca5de24cd\",\"type\":\"PanTool\"},{\"attributes\":{},\"id\":\"6a46474c-9343-421d-8464-ebf329b4cda8\",\"type\":\"HelpTool\"},{\"attributes\":{\"source\":{\"id\":\"771ab23a-fd17-4f49-93af-94b502afa387\",\"type\":\"ColumnDataSource\"}},\"id\":\"d6fb240f-7cfe-43e5-b702-8fb3fdd17410\",\"type\":\"CDSView\"},{\"attributes\":{\"fill_alpha\":{\"value\":0.1},\"fill_color\":{\"value\":\"#1f77b4\"},\"line_alpha\":{\"value\":0.1},\"line_color\":{\"value\":\"#1f77b4\"},\"size\":{\"units\":\"screen\",\"value\":10},\"x\":{\"field\":\"x\"},\"y\":{\"field\":\"y\"}},\"id\":\"b43ffc3f-7b4c-4b5a-9ebd-266f17a58a63\",\"type\":\"Circle\"},{\"attributes\":{},\"id\":\"72d1018b-445c-47fd-b3ad-b38849352d36\",\"type\":\"LinearScale\"},{\"attributes\":{\"callback\":null},\"id\":\"dbbbcf62-7f0e-4c26-a125-6108b6f253c9\",\"type\":\"DataRange1d\"},{\"attributes\":{},\"id\":\"ff2963a4-36cc-427c-bc7d-613651e00926\",\"type\":\"BasicTickFormatter\"},{\"attributes\":{\"fill_color\":{\"value\":\"#1f77b4\"},\"line_color\":{\"value\":\"#1f77b4\"},\"size\":{\"units\":\"screen\",\"value\":10},\"x\":{\"field\":\"x\"},\"y\":{\"field\":\"y\"}},\"id\":\"485c7406-3bac-42af-b34e-bdfb4babab98\",\"type\":\"Circle\"},{\"attributes\":{\"bottom_units\":\"screen\",\"fill_alpha\":{\"value\":0.5},\"fill_color\":{\"value\":\"lightgrey\"},\"left_units\":\"screen\",\"level\":\"overlay\",\"line_alpha\":{\"value\":1.0},\"line_color\":{\"value\":\"black\"},\"line_dash\":[4,4],\"line_width\":{\"value\":2},\"plot\":null,\"render_mode\":\"css\",\"right_units\":\"screen\",\"top_units\":\"screen\"},\"id\":\"dea20e30-2126-4980-ac14-ff192858508b\",\"type\":\"BoxAnnotation\"},{\"attributes\":{\"callback\":null,\"column_names\":[\"x\",\"y\"],\"data\":{\"x\":[1,2,3,4,5],\"y\":[2,5,8,2,7]}},\"id\":\"771ab23a-fd17-4f49-93af-94b502afa387\",\"type\":\"ColumnDataSource\"},{\"attributes\":{\"grid_line_color\":{\"value\":null},\"plot\":{\"id\":\"9b3a7b74-9be6-4bc6-91bc-5d0452d84091\",\"subtype\":\"Figure\",\"type\":\"Plot\"},\"ticker\":{\"id\":\"f1a13a1c-5860-480e-95bf-d44bdbe4a552\",\"type\":\"BasicTicker\"}},\"id\":\"b778723f-da8e-4af0-a235-4d5872b44223\",\"type\":\"Grid\"},{\"attributes\":{},\"id\":\"e585f15c-9cf2-477a-a2ab-87856c4fa1fa\",\"type\":\"WheelZoomTool\"},{\"attributes\":{\"formatter\":{\"id\":\"ff2963a4-36cc-427c-bc7d-613651e00926\",\"type\":\"BasicTickFormatter\"},\"plot\":{\"id\":\"9b3a7b74-9be6-4bc6-91bc-5d0452d84091\",\"subtype\":\"Figure\",\"type\":\"Plot\"},\"ticker\":{\"id\":\"f1a13a1c-5860-480e-95bf-d44bdbe4a552\",\"type\":\"BasicTicker\"}},\"id\":\"252a980e-76f9-4e11-b650-2271758ce487\",\"type\":\"LinearAxis\"},{\"attributes\":{},\"id\":\"eb8f27df-e6f1-43e7-b12e-00cfe93e6a1d\",\"type\":\"ResetTool\"},{\"attributes\":{},\"id\":\"d345ae3e-1179-4828-ad27-bab778f2d53c\",\"type\":\"SaveTool\"},{\"attributes\":{\"active_drag\":\"auto\",\"active_inspect\":\"auto\",\"active_scroll\":\"auto\",\"active_tap\":\"auto\",\"tools\":[{\"id\":\"9894fa7e-cb8c-45c5-ba25-aeeca5de24cd\",\"type\":\"PanTool\"},{\"id\":\"e585f15c-9cf2-477a-a2ab-87856c4fa1fa\",\"type\":\"WheelZoomTool\"},{\"id\":\"e8d5b5e0-eaaa-40b2-a0a7-4d25a21e58bb\",\"type\":\"BoxZoomTool\"},{\"id\":\"d345ae3e-1179-4828-ad27-bab778f2d53c\",\"type\":\"SaveTool\"},{\"id\":\"eb8f27df-e6f1-43e7-b12e-00cfe93e6a1d\",\"type\":\"ResetTool\"},{\"id\":\"6a46474c-9343-421d-8464-ebf329b4cda8\",\"type\":\"HelpTool\"}]},\"id\":\"50515822-93c2-459d-92bf-7aef6c8cf917\",\"type\":\"Toolbar\"},{\"attributes\":{\"overlay\":{\"id\":\"dea20e30-2126-4980-ac14-ff192858508b\",\"type\":\"BoxAnnotation\"}},\"id\":\"e8d5b5e0-eaaa-40b2-a0a7-4d25a21e58bb\",\"type\":\"BoxZoomTool\"},{\"attributes\":{\"formatter\":{\"id\":\"bb860399-2e1b-47ec-9cd2-404766d40219\",\"type\":\"BasicTickFormatter\"},\"plot\":{\"id\":\"9b3a7b74-9be6-4bc6-91bc-5d0452d84091\",\"subtype\":\"Figure\",\"type\":\"Plot\"},\"ticker\":{\"id\":\"a815a4dd-3914-48ae-9a0d-7e1a9fc7c2f1\",\"type\":\"BasicTicker\"}},\"id\":\"5354a7dc-9fd9-4106-8f2d-661e2e3dbf73\",\"type\":\"LinearAxis\"},{\"attributes\":{\"data_source\":{\"id\":\"771ab23a-fd17-4f49-93af-94b502afa387\",\"type\":\"ColumnDataSource\"},\"glyph\":{\"id\":\"485c7406-3bac-42af-b34e-bdfb4babab98\",\"type\":\"Circle\"},\"hover_glyph\":null,\"muted_glyph\":null,\"nonselection_glyph\":{\"id\":\"b43ffc3f-7b4c-4b5a-9ebd-266f17a58a63\",\"type\":\"Circle\"},\"selection_glyph\":null,\"view\":{\"id\":\"d6fb240f-7cfe-43e5-b702-8fb3fdd17410\",\"type\":\"CDSView\"}},\"id\":\"e36a6dff-e5bc-4680-ad8b-5db226f051f2\",\"type\":\"GlyphRenderer\"},{\"attributes\":{},\"id\":\"f1a13a1c-5860-480e-95bf-d44bdbe4a552\",\"type\":\"BasicTicker\"},{\"attributes\":{},\"id\":\"bb860399-2e1b-47ec-9cd2-404766d40219\",\"type\":\"BasicTickFormatter\"},{\"attributes\":{},\"id\":\"a815a4dd-3914-48ae-9a0d-7e1a9fc7c2f1\",\"type\":\"BasicTicker\"},{\"attributes\":{\"plot\":null,\"text\":\"\"},\"id\":\"09548db5-b66f-438f-b286-b0d7416e4b68\",\"type\":\"Title\"}],\"root_ids\":[\"9b3a7b74-9be6-4bc6-91bc-5d0452d84091\"]},\"title\":\"Bokeh Application\",\"version\":\"0.12.13\"}};\n",
       "  var render_items = [{\"docid\":\"54e003c0-7487-4913-908e-a834fdb98965\",\"elementid\":\"6b0b0fa5-ab00-4735-b3f8-ab55fb00b481\",\"modelid\":\"9b3a7b74-9be6-4bc6-91bc-5d0452d84091\"}];\n",
       "  root.Bokeh.embed.embed_items_notebook(docs_json, render_items);\n",
       "\n",
       "  }\n",
       "  if (root.Bokeh !== undefined) {\n",
       "    embed_document(root);\n",
       "  } else {\n",
       "    var attempts = 0;\n",
       "    var timer = setInterval(function(root) {\n",
       "      if (root.Bokeh !== undefined) {\n",
       "        embed_document(root);\n",
       "        clearInterval(timer);\n",
       "      }\n",
       "      attempts++;\n",
       "      if (attempts > 100) {\n",
       "        console.log(\"Bokeh: ERROR: Unable to run BokehJS code because BokehJS library is missing\")\n",
       "        clearInterval(timer);\n",
       "      }\n",
       "    }, 10, root)\n",
       "  }\n",
       "})(window);"
      ],
      "application/vnd.bokehjs_exec.v0+json": ""
     },
     "metadata": {
      "application/vnd.bokehjs_exec.v0+json": {
       "id": "9b3a7b74-9be6-4bc6-91bc-5d0452d84091"
      }
     },
     "output_type": "display_data"
    }
   ],
   "source": [
    "p = figure(plot_width=400, plot_height=400)\n",
    "p.circle([1,2,3,4,5], [2,5,8,2,7], size=10)\n",
    "\n",
    "# change just some things about the x-grid\n",
    "p.xgrid.grid_line_color = None\n",
    "\n",
    "# change just some things about the y-grid\n",
    "p.ygrid.band_fill_alpha = 0.1\n",
    "p.ygrid.band_fill_color = \"navy\"\n",
    "\n",
    "show(p)"
   ]
  },
  {
   "cell_type": "code",
   "execution_count": 15,
   "metadata": {},
   "outputs": [],
   "source": [
    "# EXERCISE Create a plot of your own and customize several grid properties\n"
   ]
  },
  {
   "cell_type": "code",
   "execution_count": null,
   "metadata": {},
   "outputs": [],
   "source": []
  }
 ],
 "metadata": {
  "kernelspec": {
   "display_name": "Python 3",
   "language": "python",
   "name": "python3"
  },
  "language_info": {
   "codemirror_mode": {
    "name": "ipython",
    "version": 3
   },
   "file_extension": ".py",
   "mimetype": "text/x-python",
   "name": "python",
   "nbconvert_exporter": "python",
   "pygments_lexer": "ipython3",
   "version": "3.6.4"
  }
 },
 "nbformat": 4,
 "nbformat_minor": 1
}
