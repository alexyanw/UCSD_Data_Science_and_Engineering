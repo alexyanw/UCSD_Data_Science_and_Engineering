{
 "cells": [
  {
   "cell_type": "code",
   "execution_count": 2,
   "metadata": {},
   "outputs": [
    {
     "data": {
      "text/html": [
       "\n",
       "    <div class=\"bk-root\">\n",
       "        <a href=\"https://bokeh.pydata.org\" target=\"_blank\" class=\"bk-logo bk-logo-small bk-logo-notebook\"></a>\n",
       "        <span id=\"21a4827b-d41f-4f11-9c2c-3c411d8c4037\">Loading BokehJS ...</span>\n",
       "    </div>"
      ]
     },
     "metadata": {},
     "output_type": "display_data"
    },
    {
     "data": {
      "application/javascript": [
       "\n",
       "(function(root) {\n",
       "  function now() {\n",
       "    return new Date();\n",
       "  }\n",
       "\n",
       "  var force = true;\n",
       "\n",
       "  if (typeof (root._bokeh_onload_callbacks) === \"undefined\" || force === true) {\n",
       "    root._bokeh_onload_callbacks = [];\n",
       "    root._bokeh_is_loading = undefined;\n",
       "  }\n",
       "\n",
       "  var JS_MIME_TYPE = 'application/javascript';\n",
       "  var HTML_MIME_TYPE = 'text/html';\n",
       "  var EXEC_MIME_TYPE = 'application/vnd.bokehjs_exec.v0+json';\n",
       "  var CLASS_NAME = 'output_bokeh rendered_html';\n",
       "\n",
       "  /**\n",
       "   * Render data to the DOM node\n",
       "   */\n",
       "  function render(props, node) {\n",
       "    var script = document.createElement(\"script\");\n",
       "    node.appendChild(script);\n",
       "  }\n",
       "\n",
       "  /**\n",
       "   * Handle when an output is cleared or removed\n",
       "   */\n",
       "  function handleClearOutput(event, handle) {\n",
       "    var cell = handle.cell;\n",
       "\n",
       "    var id = cell.output_area._bokeh_element_id;\n",
       "    var server_id = cell.output_area._bokeh_server_id;\n",
       "    // Clean up Bokeh references\n",
       "    if (id !== undefined) {\n",
       "      Bokeh.index[id].model.document.clear();\n",
       "      delete Bokeh.index[id];\n",
       "    }\n",
       "\n",
       "    if (server_id !== undefined) {\n",
       "      // Clean up Bokeh references\n",
       "      var cmd = \"from bokeh.io.state import curstate; print(curstate().uuid_to_server['\" + server_id + \"'].get_sessions()[0].document.roots[0]._id)\";\n",
       "      cell.notebook.kernel.execute(cmd, {\n",
       "        iopub: {\n",
       "          output: function(msg) {\n",
       "            var element_id = msg.content.text.trim();\n",
       "            Bokeh.index[element_id].model.document.clear();\n",
       "            delete Bokeh.index[element_id];\n",
       "          }\n",
       "        }\n",
       "      });\n",
       "      // Destroy server and session\n",
       "      var cmd = \"import bokeh.io.notebook as ion; ion.destroy_server('\" + server_id + \"')\";\n",
       "      cell.notebook.kernel.execute(cmd);\n",
       "    }\n",
       "  }\n",
       "\n",
       "  /**\n",
       "   * Handle when a new output is added\n",
       "   */\n",
       "  function handleAddOutput(event, handle) {\n",
       "    var output_area = handle.output_area;\n",
       "    var output = handle.output;\n",
       "\n",
       "    // limit handleAddOutput to display_data with EXEC_MIME_TYPE content only\n",
       "    if ((output.output_type != \"display_data\") || (!output.data.hasOwnProperty(EXEC_MIME_TYPE))) {\n",
       "      return\n",
       "    }\n",
       "\n",
       "    var toinsert = output_area.element.find(\".\" + CLASS_NAME.split(' ')[0]);\n",
       "\n",
       "    if (output.metadata[EXEC_MIME_TYPE][\"id\"] !== undefined) {\n",
       "      toinsert[0].firstChild.textContent = output.data[JS_MIME_TYPE];\n",
       "      // store reference to embed id on output_area\n",
       "      output_area._bokeh_element_id = output.metadata[EXEC_MIME_TYPE][\"id\"];\n",
       "    }\n",
       "    if (output.metadata[EXEC_MIME_TYPE][\"server_id\"] !== undefined) {\n",
       "      var bk_div = document.createElement(\"div\");\n",
       "      bk_div.innerHTML = output.data[HTML_MIME_TYPE];\n",
       "      var script_attrs = bk_div.children[0].attributes;\n",
       "      for (var i = 0; i < script_attrs.length; i++) {\n",
       "        toinsert[0].firstChild.setAttribute(script_attrs[i].name, script_attrs[i].value);\n",
       "      }\n",
       "      // store reference to server id on output_area\n",
       "      output_area._bokeh_server_id = output.metadata[EXEC_MIME_TYPE][\"server_id\"];\n",
       "    }\n",
       "  }\n",
       "\n",
       "  function register_renderer(events, OutputArea) {\n",
       "\n",
       "    function append_mime(data, metadata, element) {\n",
       "      // create a DOM node to render to\n",
       "      var toinsert = this.create_output_subarea(\n",
       "        metadata,\n",
       "        CLASS_NAME,\n",
       "        EXEC_MIME_TYPE\n",
       "      );\n",
       "      this.keyboard_manager.register_events(toinsert);\n",
       "      // Render to node\n",
       "      var props = {data: data, metadata: metadata[EXEC_MIME_TYPE]};\n",
       "      render(props, toinsert[0]);\n",
       "      element.append(toinsert);\n",
       "      return toinsert\n",
       "    }\n",
       "\n",
       "    /* Handle when an output is cleared or removed */\n",
       "    events.on('clear_output.CodeCell', handleClearOutput);\n",
       "    events.on('delete.Cell', handleClearOutput);\n",
       "\n",
       "    /* Handle when a new output is added */\n",
       "    events.on('output_added.OutputArea', handleAddOutput);\n",
       "\n",
       "    /**\n",
       "     * Register the mime type and append_mime function with output_area\n",
       "     */\n",
       "    OutputArea.prototype.register_mime_type(EXEC_MIME_TYPE, append_mime, {\n",
       "      /* Is output safe? */\n",
       "      safe: true,\n",
       "      /* Index of renderer in `output_area.display_order` */\n",
       "      index: 0\n",
       "    });\n",
       "  }\n",
       "\n",
       "  // register the mime type if in Jupyter Notebook environment and previously unregistered\n",
       "  if (root.Jupyter !== undefined) {\n",
       "    var events = require('base/js/events');\n",
       "    var OutputArea = require('notebook/js/outputarea').OutputArea;\n",
       "\n",
       "    if (OutputArea.prototype.mime_types().indexOf(EXEC_MIME_TYPE) == -1) {\n",
       "      register_renderer(events, OutputArea);\n",
       "    }\n",
       "  }\n",
       "\n",
       "  \n",
       "  if (typeof (root._bokeh_timeout) === \"undefined\" || force === true) {\n",
       "    root._bokeh_timeout = Date.now() + 5000;\n",
       "    root._bokeh_failed_load = false;\n",
       "  }\n",
       "\n",
       "  var NB_LOAD_WARNING = {'data': {'text/html':\n",
       "     \"<div style='background-color: #fdd'>\\n\"+\n",
       "     \"<p>\\n\"+\n",
       "     \"BokehJS does not appear to have successfully loaded. If loading BokehJS from CDN, this \\n\"+\n",
       "     \"may be due to a slow or bad network connection. Possible fixes:\\n\"+\n",
       "     \"</p>\\n\"+\n",
       "     \"<ul>\\n\"+\n",
       "     \"<li>re-rerun `output_notebook()` to attempt to load from CDN again, or</li>\\n\"+\n",
       "     \"<li>use INLINE resources instead, as so:</li>\\n\"+\n",
       "     \"</ul>\\n\"+\n",
       "     \"<code>\\n\"+\n",
       "     \"from bokeh.resources import INLINE\\n\"+\n",
       "     \"output_notebook(resources=INLINE)\\n\"+\n",
       "     \"</code>\\n\"+\n",
       "     \"</div>\"}};\n",
       "\n",
       "  function display_loaded() {\n",
       "    var el = document.getElementById(\"21a4827b-d41f-4f11-9c2c-3c411d8c4037\");\n",
       "    if (el != null) {\n",
       "      el.textContent = \"BokehJS is loading...\";\n",
       "    }\n",
       "    if (root.Bokeh !== undefined) {\n",
       "      if (el != null) {\n",
       "        el.textContent = \"BokehJS \" + root.Bokeh.version + \" successfully loaded.\";\n",
       "      }\n",
       "    } else if (Date.now() < root._bokeh_timeout) {\n",
       "      setTimeout(display_loaded, 100)\n",
       "    }\n",
       "  }\n",
       "\n",
       "\n",
       "  function run_callbacks() {\n",
       "    try {\n",
       "      root._bokeh_onload_callbacks.forEach(function(callback) { callback() });\n",
       "    }\n",
       "    finally {\n",
       "      delete root._bokeh_onload_callbacks\n",
       "    }\n",
       "    console.info(\"Bokeh: all callbacks have finished\");\n",
       "  }\n",
       "\n",
       "  function load_libs(js_urls, callback) {\n",
       "    root._bokeh_onload_callbacks.push(callback);\n",
       "    if (root._bokeh_is_loading > 0) {\n",
       "      console.log(\"Bokeh: BokehJS is being loaded, scheduling callback at\", now());\n",
       "      return null;\n",
       "    }\n",
       "    if (js_urls == null || js_urls.length === 0) {\n",
       "      run_callbacks();\n",
       "      return null;\n",
       "    }\n",
       "    console.log(\"Bokeh: BokehJS not loaded, scheduling load and callback at\", now());\n",
       "    root._bokeh_is_loading = js_urls.length;\n",
       "    for (var i = 0; i < js_urls.length; i++) {\n",
       "      var url = js_urls[i];\n",
       "      var s = document.createElement('script');\n",
       "      s.src = url;\n",
       "      s.async = false;\n",
       "      s.onreadystatechange = s.onload = function() {\n",
       "        root._bokeh_is_loading--;\n",
       "        if (root._bokeh_is_loading === 0) {\n",
       "          console.log(\"Bokeh: all BokehJS libraries loaded\");\n",
       "          run_callbacks()\n",
       "        }\n",
       "      };\n",
       "      s.onerror = function() {\n",
       "        console.warn(\"failed to load library \" + url);\n",
       "      };\n",
       "      console.log(\"Bokeh: injecting script tag for BokehJS library: \", url);\n",
       "      document.getElementsByTagName(\"head\")[0].appendChild(s);\n",
       "    }\n",
       "  };var element = document.getElementById(\"21a4827b-d41f-4f11-9c2c-3c411d8c4037\");\n",
       "  if (element == null) {\n",
       "    console.log(\"Bokeh: ERROR: autoload.js configured with elementid '21a4827b-d41f-4f11-9c2c-3c411d8c4037' but no matching script tag was found. \")\n",
       "    return false;\n",
       "  }\n",
       "\n",
       "  var js_urls = [\"https://cdn.pydata.org/bokeh/release/bokeh-0.12.13.min.js\", \"https://cdn.pydata.org/bokeh/release/bokeh-widgets-0.12.13.min.js\", \"https://cdn.pydata.org/bokeh/release/bokeh-tables-0.12.13.min.js\", \"https://cdn.pydata.org/bokeh/release/bokeh-gl-0.12.13.min.js\"];\n",
       "\n",
       "  var inline_js = [\n",
       "    function(Bokeh) {\n",
       "      Bokeh.set_log_level(\"info\");\n",
       "    },\n",
       "    \n",
       "    function(Bokeh) {\n",
       "      \n",
       "    },\n",
       "    function(Bokeh) {\n",
       "      console.log(\"Bokeh: injecting CSS: https://cdn.pydata.org/bokeh/release/bokeh-0.12.13.min.css\");\n",
       "      Bokeh.embed.inject_css(\"https://cdn.pydata.org/bokeh/release/bokeh-0.12.13.min.css\");\n",
       "      console.log(\"Bokeh: injecting CSS: https://cdn.pydata.org/bokeh/release/bokeh-widgets-0.12.13.min.css\");\n",
       "      Bokeh.embed.inject_css(\"https://cdn.pydata.org/bokeh/release/bokeh-widgets-0.12.13.min.css\");\n",
       "      console.log(\"Bokeh: injecting CSS: https://cdn.pydata.org/bokeh/release/bokeh-tables-0.12.13.min.css\");\n",
       "      Bokeh.embed.inject_css(\"https://cdn.pydata.org/bokeh/release/bokeh-tables-0.12.13.min.css\");\n",
       "    }\n",
       "  ];\n",
       "\n",
       "  function run_inline_js() {\n",
       "    \n",
       "    if ((root.Bokeh !== undefined) || (force === true)) {\n",
       "      for (var i = 0; i < inline_js.length; i++) {\n",
       "        inline_js[i].call(root, root.Bokeh);\n",
       "      }if (force === true) {\n",
       "        display_loaded();\n",
       "      }} else if (Date.now() < root._bokeh_timeout) {\n",
       "      setTimeout(run_inline_js, 100);\n",
       "    } else if (!root._bokeh_failed_load) {\n",
       "      console.log(\"Bokeh: BokehJS failed to load within specified timeout.\");\n",
       "      root._bokeh_failed_load = true;\n",
       "    } else if (force !== true) {\n",
       "      var cell = $(document.getElementById(\"21a4827b-d41f-4f11-9c2c-3c411d8c4037\")).parents('.cell').data().cell;\n",
       "      cell.output_area.append_execute_result(NB_LOAD_WARNING)\n",
       "    }\n",
       "\n",
       "  }\n",
       "\n",
       "  if (root._bokeh_is_loading === 0) {\n",
       "    console.log(\"Bokeh: BokehJS loaded, going straight to plotting\");\n",
       "    run_inline_js();\n",
       "  } else {\n",
       "    load_libs(js_urls, function() {\n",
       "      console.log(\"Bokeh: BokehJS plotting callback run at\", now());\n",
       "      run_inline_js();\n",
       "    });\n",
       "  }\n",
       "}(window));"
      ],
      "application/vnd.bokehjs_load.v0+json": "\n(function(root) {\n  function now() {\n    return new Date();\n  }\n\n  var force = true;\n\n  if (typeof (root._bokeh_onload_callbacks) === \"undefined\" || force === true) {\n    root._bokeh_onload_callbacks = [];\n    root._bokeh_is_loading = undefined;\n  }\n\n  \n\n  \n  if (typeof (root._bokeh_timeout) === \"undefined\" || force === true) {\n    root._bokeh_timeout = Date.now() + 5000;\n    root._bokeh_failed_load = false;\n  }\n\n  var NB_LOAD_WARNING = {'data': {'text/html':\n     \"<div style='background-color: #fdd'>\\n\"+\n     \"<p>\\n\"+\n     \"BokehJS does not appear to have successfully loaded. If loading BokehJS from CDN, this \\n\"+\n     \"may be due to a slow or bad network connection. Possible fixes:\\n\"+\n     \"</p>\\n\"+\n     \"<ul>\\n\"+\n     \"<li>re-rerun `output_notebook()` to attempt to load from CDN again, or</li>\\n\"+\n     \"<li>use INLINE resources instead, as so:</li>\\n\"+\n     \"</ul>\\n\"+\n     \"<code>\\n\"+\n     \"from bokeh.resources import INLINE\\n\"+\n     \"output_notebook(resources=INLINE)\\n\"+\n     \"</code>\\n\"+\n     \"</div>\"}};\n\n  function display_loaded() {\n    var el = document.getElementById(\"21a4827b-d41f-4f11-9c2c-3c411d8c4037\");\n    if (el != null) {\n      el.textContent = \"BokehJS is loading...\";\n    }\n    if (root.Bokeh !== undefined) {\n      if (el != null) {\n        el.textContent = \"BokehJS \" + root.Bokeh.version + \" successfully loaded.\";\n      }\n    } else if (Date.now() < root._bokeh_timeout) {\n      setTimeout(display_loaded, 100)\n    }\n  }\n\n\n  function run_callbacks() {\n    try {\n      root._bokeh_onload_callbacks.forEach(function(callback) { callback() });\n    }\n    finally {\n      delete root._bokeh_onload_callbacks\n    }\n    console.info(\"Bokeh: all callbacks have finished\");\n  }\n\n  function load_libs(js_urls, callback) {\n    root._bokeh_onload_callbacks.push(callback);\n    if (root._bokeh_is_loading > 0) {\n      console.log(\"Bokeh: BokehJS is being loaded, scheduling callback at\", now());\n      return null;\n    }\n    if (js_urls == null || js_urls.length === 0) {\n      run_callbacks();\n      return null;\n    }\n    console.log(\"Bokeh: BokehJS not loaded, scheduling load and callback at\", now());\n    root._bokeh_is_loading = js_urls.length;\n    for (var i = 0; i < js_urls.length; i++) {\n      var url = js_urls[i];\n      var s = document.createElement('script');\n      s.src = url;\n      s.async = false;\n      s.onreadystatechange = s.onload = function() {\n        root._bokeh_is_loading--;\n        if (root._bokeh_is_loading === 0) {\n          console.log(\"Bokeh: all BokehJS libraries loaded\");\n          run_callbacks()\n        }\n      };\n      s.onerror = function() {\n        console.warn(\"failed to load library \" + url);\n      };\n      console.log(\"Bokeh: injecting script tag for BokehJS library: \", url);\n      document.getElementsByTagName(\"head\")[0].appendChild(s);\n    }\n  };var element = document.getElementById(\"21a4827b-d41f-4f11-9c2c-3c411d8c4037\");\n  if (element == null) {\n    console.log(\"Bokeh: ERROR: autoload.js configured with elementid '21a4827b-d41f-4f11-9c2c-3c411d8c4037' but no matching script tag was found. \")\n    return false;\n  }\n\n  var js_urls = [\"https://cdn.pydata.org/bokeh/release/bokeh-0.12.13.min.js\", \"https://cdn.pydata.org/bokeh/release/bokeh-widgets-0.12.13.min.js\", \"https://cdn.pydata.org/bokeh/release/bokeh-tables-0.12.13.min.js\", \"https://cdn.pydata.org/bokeh/release/bokeh-gl-0.12.13.min.js\"];\n\n  var inline_js = [\n    function(Bokeh) {\n      Bokeh.set_log_level(\"info\");\n    },\n    \n    function(Bokeh) {\n      \n    },\n    function(Bokeh) {\n      console.log(\"Bokeh: injecting CSS: https://cdn.pydata.org/bokeh/release/bokeh-0.12.13.min.css\");\n      Bokeh.embed.inject_css(\"https://cdn.pydata.org/bokeh/release/bokeh-0.12.13.min.css\");\n      console.log(\"Bokeh: injecting CSS: https://cdn.pydata.org/bokeh/release/bokeh-widgets-0.12.13.min.css\");\n      Bokeh.embed.inject_css(\"https://cdn.pydata.org/bokeh/release/bokeh-widgets-0.12.13.min.css\");\n      console.log(\"Bokeh: injecting CSS: https://cdn.pydata.org/bokeh/release/bokeh-tables-0.12.13.min.css\");\n      Bokeh.embed.inject_css(\"https://cdn.pydata.org/bokeh/release/bokeh-tables-0.12.13.min.css\");\n    }\n  ];\n\n  function run_inline_js() {\n    \n    if ((root.Bokeh !== undefined) || (force === true)) {\n      for (var i = 0; i < inline_js.length; i++) {\n        inline_js[i].call(root, root.Bokeh);\n      }if (force === true) {\n        display_loaded();\n      }} else if (Date.now() < root._bokeh_timeout) {\n      setTimeout(run_inline_js, 100);\n    } else if (!root._bokeh_failed_load) {\n      console.log(\"Bokeh: BokehJS failed to load within specified timeout.\");\n      root._bokeh_failed_load = true;\n    } else if (force !== true) {\n      var cell = $(document.getElementById(\"21a4827b-d41f-4f11-9c2c-3c411d8c4037\")).parents('.cell').data().cell;\n      cell.output_area.append_execute_result(NB_LOAD_WARNING)\n    }\n\n  }\n\n  if (root._bokeh_is_loading === 0) {\n    console.log(\"Bokeh: BokehJS loaded, going straight to plotting\");\n    run_inline_js();\n  } else {\n    load_libs(js_urls, function() {\n      console.log(\"Bokeh: BokehJS plotting callback run at\", now());\n      run_inline_js();\n    });\n  }\n}(window));"
     },
     "metadata": {},
     "output_type": "display_data"
    }
   ],
   "source": [
    "from bokeh.io import output_notebook, show\n",
    "from bokeh.plotting import figure\n",
    "output_notebook()"
   ]
  },
  {
   "cell_type": "markdown",
   "metadata": {
    "collapsed": true
   },
   "source": [
    "# Linked Interactions\n",
    "\n",
    "It is possible to link various interactions between different Bokeh plots. For instance, the ranges of two (or more) plots can be linked, so that when one of the plots is panned (or zoomed, or otherwise has its range changed) the other plots will update in unison. It is also possible to link selections between two plots, so that when items are selected on one plot, the corresponding items on the second plot also become selected. "
   ]
  },
  {
   "cell_type": "markdown",
   "metadata": {},
   "source": [
    "## Linked panning\n",
    "\n",
    "Linked panning (when multiple plots have ranges that stay in sync) is simple to spell with Bokeh. You simply share the appropriate range objects between two (or more) plots. The example below shows how to accomplish this by linking the ranges of three plots in various ways:"
   ]
  },
  {
   "cell_type": "code",
   "execution_count": 3,
   "metadata": {},
   "outputs": [
    {
     "data": {
      "text/html": [
       "\n",
       "<div class=\"bk-root\">\n",
       "    <div class=\"bk-plotdiv\" id=\"b5921f4a-a057-40ad-9125-d2ecce3c45b8\"></div>\n",
       "</div>"
      ]
     },
     "metadata": {},
     "output_type": "display_data"
    },
    {
     "data": {
      "application/javascript": [
       "(function(root) {\n",
       "  function embed_document(root) {\n",
       "    \n",
       "  var docs_json = {\"e140e64f-b8fe-4aec-9ba3-d6a41fc17bba\":{\"roots\":{\"references\":[{\"attributes\":{},\"id\":\"9a751d6b-6229-422e-ac3a-0ac227dc5756\",\"type\":\"BasicTicker\"},{\"attributes\":{\"toolbar\":{\"id\":\"c62aac3a-78e2-4a03-81d6-8c1857d0ea4f\",\"type\":\"ProxyToolbar\"},\"toolbar_location\":\"above\"},\"id\":\"28b3bc6e-268a-4441-8158-0bc94d316336\",\"type\":\"ToolbarBox\"},{\"attributes\":{\"dimension\":1,\"plot\":{\"id\":\"4ed011a8-4e05-4137-acb0-6f0f6511e117\",\"subtype\":\"Figure\",\"type\":\"Plot\"},\"ticker\":{\"id\":\"9a751d6b-6229-422e-ac3a-0ac227dc5756\",\"type\":\"BasicTicker\"}},\"id\":\"7ae20cbd-9261-4e17-aa60-3fd81280f896\",\"type\":\"Grid\"},{\"attributes\":{\"children\":[{\"id\":\"4ed011a8-4e05-4137-acb0-6f0f6511e117\",\"subtype\":\"Figure\",\"type\":\"Plot\"},{\"id\":\"f219531e-4de9-47a5-aff0-3a3fc1696062\",\"subtype\":\"Figure\",\"type\":\"Plot\"},{\"id\":\"818a720c-2952-4da0-b78c-93ab2beafbcf\",\"subtype\":\"Figure\",\"type\":\"Plot\"}]},\"id\":\"596c3d3c-1096-46c2-8708-550ae23a8058\",\"type\":\"Row\"},{\"attributes\":{},\"id\":\"1f393f25-220a-4092-8bce-e864111c417c\",\"type\":\"WheelZoomTool\"},{\"attributes\":{},\"id\":\"380eed3a-2a04-410d-aecc-540e335837d5\",\"type\":\"BasicTickFormatter\"},{\"attributes\":{},\"id\":\"e3890f95-71dc-4e56-acfc-f83f352d963a\",\"type\":\"PanTool\"},{\"attributes\":{},\"id\":\"90f6a5b9-8903-41fa-9118-b09b1ab2cb46\",\"type\":\"BasicTickFormatter\"},{\"attributes\":{\"plot\":{\"id\":\"4ed011a8-4e05-4137-acb0-6f0f6511e117\",\"subtype\":\"Figure\",\"type\":\"Plot\"},\"ticker\":{\"id\":\"bd43bae5-83f9-41b0-9f69-34e0a383c3aa\",\"type\":\"BasicTicker\"}},\"id\":\"3fa90bea-3813-42c7-9d5b-8a177ec24dbc\",\"type\":\"Grid\"},{\"attributes\":{\"fill_alpha\":{\"value\":0.1},\"fill_color\":{\"value\":\"#1f77b4\"},\"line_alpha\":{\"value\":0.1},\"line_color\":{\"value\":\"#1f77b4\"},\"size\":{\"units\":\"screen\",\"value\":10},\"x\":{\"field\":\"x\"},\"y\":{\"field\":\"y\"}},\"id\":\"763fc932-b83c-4a68-adc6-730a2d4c0b11\",\"type\":\"Circle\"},{\"attributes\":{},\"id\":\"8fae3e3a-70fd-42aa-90c4-9a4f87d3542e\",\"type\":\"LinearScale\"},{\"attributes\":{},\"id\":\"d5eef36c-36c3-414b-8605-98322ffbab9c\",\"type\":\"LinearScale\"},{\"attributes\":{\"plot\":{\"id\":\"f219531e-4de9-47a5-aff0-3a3fc1696062\",\"subtype\":\"Figure\",\"type\":\"Plot\"},\"ticker\":{\"id\":\"bb5449b0-05b9-4c40-a003-732a8ca6bf27\",\"type\":\"BasicTicker\"}},\"id\":\"74b5e0ce-a265-4f62-aad2-a553ca3d2278\",\"type\":\"Grid\"},{\"attributes\":{\"active_drag\":\"auto\",\"active_inspect\":\"auto\",\"active_scroll\":\"auto\",\"active_tap\":\"auto\",\"tools\":[{\"id\":\"caa890c8-7843-483f-8115-d7e6b946208f\",\"type\":\"PanTool\"},{\"id\":\"0cff66eb-e275-4f8e-ae80-35ec1f03cf33\",\"type\":\"WheelZoomTool\"}]},\"id\":\"1d98fc56-8235-4f1d-8d93-8ef9e1433c78\",\"type\":\"Toolbar\"},{\"attributes\":{\"formatter\":{\"id\":\"90f6a5b9-8903-41fa-9118-b09b1ab2cb46\",\"type\":\"BasicTickFormatter\"},\"plot\":{\"id\":\"f219531e-4de9-47a5-aff0-3a3fc1696062\",\"subtype\":\"Figure\",\"type\":\"Plot\"},\"ticker\":{\"id\":\"bb5449b0-05b9-4c40-a003-732a8ca6bf27\",\"type\":\"BasicTicker\"}},\"id\":\"b2eaeb2c-264f-4f51-9995-4f6778cb9c95\",\"type\":\"LinearAxis\"},{\"attributes\":{\"callback\":null,\"column_names\":[\"x\",\"y\"],\"data\":{\"x\":[0,1,2,3,4,5,6,7,8,9,10],\"y\":[10,9,8,7,6,5,4,3,2,1,0]}},\"id\":\"b407bbae-2e2a-4175-87ff-9c34d55ca577\",\"type\":\"ColumnDataSource\"},{\"attributes\":{\"fill_color\":{\"value\":\"firebrick\"},\"line_color\":{\"value\":\"firebrick\"},\"size\":{\"units\":\"screen\",\"value\":10},\"x\":{\"field\":\"x\"},\"y\":{\"field\":\"y\"}},\"id\":\"0cf23bb9-6294-453e-8d72-fc143093fede\",\"type\":\"Triangle\"},{\"attributes\":{},\"id\":\"bb5449b0-05b9-4c40-a003-732a8ca6bf27\",\"type\":\"BasicTicker\"},{\"attributes\":{\"formatter\":{\"id\":\"cb6b198d-9a36-4190-8ca5-4f3d089c3b23\",\"type\":\"BasicTickFormatter\"},\"plot\":{\"id\":\"f219531e-4de9-47a5-aff0-3a3fc1696062\",\"subtype\":\"Figure\",\"type\":\"Plot\"},\"ticker\":{\"id\":\"61ecb8bd-afd3-407b-b185-b35b83dd848e\",\"type\":\"BasicTicker\"}},\"id\":\"b31c7a7a-dc29-4339-b01f-52f52563b680\",\"type\":\"LinearAxis\"},{\"attributes\":{},\"id\":\"61ecb8bd-afd3-407b-b185-b35b83dd848e\",\"type\":\"BasicTicker\"},{\"attributes\":{\"dimension\":1,\"plot\":{\"id\":\"f219531e-4de9-47a5-aff0-3a3fc1696062\",\"subtype\":\"Figure\",\"type\":\"Plot\"},\"ticker\":{\"id\":\"61ecb8bd-afd3-407b-b185-b35b83dd848e\",\"type\":\"BasicTicker\"}},\"id\":\"8f53df6e-de92-4672-856f-5d3ecfd7449d\",\"type\":\"Grid\"},{\"attributes\":{\"tools\":[{\"id\":\"e3890f95-71dc-4e56-acfc-f83f352d963a\",\"type\":\"PanTool\"},{\"id\":\"1f393f25-220a-4092-8bce-e864111c417c\",\"type\":\"WheelZoomTool\"},{\"id\":\"caa890c8-7843-483f-8115-d7e6b946208f\",\"type\":\"PanTool\"},{\"id\":\"0cff66eb-e275-4f8e-ae80-35ec1f03cf33\",\"type\":\"WheelZoomTool\"},{\"id\":\"0859e305-f003-4020-8fe7-4355bb75034f\",\"type\":\"PanTool\"},{\"id\":\"33b4db81-a19e-4cb3-9fa2-db3e4cd272b4\",\"type\":\"WheelZoomTool\"}]},\"id\":\"c62aac3a-78e2-4a03-81d6-8c1857d0ea4f\",\"type\":\"ProxyToolbar\"},{\"attributes\":{},\"id\":\"caa890c8-7843-483f-8115-d7e6b946208f\",\"type\":\"PanTool\"},{\"attributes\":{\"below\":[{\"id\":\"ca44d913-6ede-48b0-8851-85d9f7f2564c\",\"type\":\"LinearAxis\"}],\"left\":[{\"id\":\"7049c0a7-2ed4-4b3d-b263-9734825134fe\",\"type\":\"LinearAxis\"}],\"plot_height\":250,\"plot_width\":250,\"renderers\":[{\"id\":\"ca44d913-6ede-48b0-8851-85d9f7f2564c\",\"type\":\"LinearAxis\"},{\"id\":\"9580acab-7fa4-4d41-b386-7770ac3b5e47\",\"type\":\"Grid\"},{\"id\":\"7049c0a7-2ed4-4b3d-b263-9734825134fe\",\"type\":\"LinearAxis\"},{\"id\":\"0939f2cc-9c2c-4c59-93ae-05c9941bda08\",\"type\":\"Grid\"},{\"id\":\"21f1c40c-358c-4e51-939a-cf28cf48c676\",\"type\":\"GlyphRenderer\"}],\"title\":{\"id\":\"92d36f27-41ea-4997-b970-47a7e6a1b245\",\"type\":\"Title\"},\"toolbar\":{\"id\":\"bf0ad936-c3a3-44bb-95d7-49e165e513e4\",\"type\":\"Toolbar\"},\"toolbar_location\":null,\"x_range\":{\"id\":\"efa0e4d6-4ed6-438d-ac52-ccabf0e82848\",\"type\":\"DataRange1d\"},\"x_scale\":{\"id\":\"bdd77f46-41d4-44d4-a980-42853842d4d1\",\"type\":\"LinearScale\"},\"y_range\":{\"id\":\"9edf9c9e-4995-42d5-8445-87951390dd05\",\"type\":\"DataRange1d\"},\"y_scale\":{\"id\":\"45f97699-bbfd-45e8-a7af-c6d6a88e5562\",\"type\":\"LinearScale\"}},\"id\":\"818a720c-2952-4da0-b78c-93ab2beafbcf\",\"subtype\":\"Figure\",\"type\":\"Plot\"},{\"attributes\":{},\"id\":\"0cff66eb-e275-4f8e-ae80-35ec1f03cf33\",\"type\":\"WheelZoomTool\"},{\"attributes\":{\"source\":{\"id\":\"5061815d-4af2-429f-8110-95f9e694b9e5\",\"type\":\"ColumnDataSource\"}},\"id\":\"62f050a5-b674-40c2-990c-ffdc5b4a1665\",\"type\":\"CDSView\"},{\"attributes\":{\"fill_alpha\":{\"value\":0.1},\"fill_color\":{\"value\":\"#1f77b4\"},\"line_alpha\":{\"value\":0.1},\"line_color\":{\"value\":\"#1f77b4\"},\"size\":{\"units\":\"screen\",\"value\":10},\"x\":{\"field\":\"x\"},\"y\":{\"field\":\"y\"}},\"id\":\"8d8cd9fd-a050-4654-b6ce-d1c762fab28a\",\"type\":\"Triangle\"},{\"attributes\":{\"data_source\":{\"id\":\"b407bbae-2e2a-4175-87ff-9c34d55ca577\",\"type\":\"ColumnDataSource\"},\"glyph\":{\"id\":\"0cf23bb9-6294-453e-8d72-fc143093fede\",\"type\":\"Triangle\"},\"hover_glyph\":null,\"muted_glyph\":null,\"nonselection_glyph\":{\"id\":\"8d8cd9fd-a050-4654-b6ce-d1c762fab28a\",\"type\":\"Triangle\"},\"selection_glyph\":null,\"view\":{\"id\":\"d86ef26d-8413-482e-b2b7-7a4ee79fafb5\",\"type\":\"CDSView\"}},\"id\":\"af612087-4b4a-4d81-a90c-8daf5f346047\",\"type\":\"GlyphRenderer\"},{\"attributes\":{\"plot\":null,\"text\":\"\"},\"id\":\"893011f2-5534-4513-9959-5b2b073494b1\",\"type\":\"Title\"},{\"attributes\":{\"source\":{\"id\":\"b407bbae-2e2a-4175-87ff-9c34d55ca577\",\"type\":\"ColumnDataSource\"}},\"id\":\"d86ef26d-8413-482e-b2b7-7a4ee79fafb5\",\"type\":\"CDSView\"},{\"attributes\":{},\"id\":\"cb6b198d-9a36-4190-8ca5-4f3d089c3b23\",\"type\":\"BasicTickFormatter\"},{\"attributes\":{\"plot\":null,\"text\":\"\"},\"id\":\"ea1eee79-f912-4755-b270-32dced3bea2d\",\"type\":\"Title\"},{\"attributes\":{},\"id\":\"45f97699-bbfd-45e8-a7af-c6d6a88e5562\",\"type\":\"LinearScale\"},{\"attributes\":{},\"id\":\"bdd77f46-41d4-44d4-a980-42853842d4d1\",\"type\":\"LinearScale\"},{\"attributes\":{\"active_drag\":\"auto\",\"active_inspect\":\"auto\",\"active_scroll\":\"auto\",\"active_tap\":\"auto\",\"tools\":[{\"id\":\"0859e305-f003-4020-8fe7-4355bb75034f\",\"type\":\"PanTool\"},{\"id\":\"33b4db81-a19e-4cb3-9fa2-db3e4cd272b4\",\"type\":\"WheelZoomTool\"}]},\"id\":\"bf0ad936-c3a3-44bb-95d7-49e165e513e4\",\"type\":\"Toolbar\"},{\"attributes\":{\"callback\":null},\"id\":\"9edf9c9e-4995-42d5-8445-87951390dd05\",\"type\":\"DataRange1d\"},{\"attributes\":{},\"id\":\"5199df55-b529-487a-bd74-9990910b7382\",\"type\":\"BasicTickFormatter\"},{\"attributes\":{\"plot\":{\"id\":\"818a720c-2952-4da0-b78c-93ab2beafbcf\",\"subtype\":\"Figure\",\"type\":\"Plot\"},\"ticker\":{\"id\":\"543926ec-ac35-4b72-bfc2-0fae713b1418\",\"type\":\"BasicTicker\"}},\"id\":\"9580acab-7fa4-4d41-b386-7770ac3b5e47\",\"type\":\"Grid\"},{\"attributes\":{\"fill_color\":{\"value\":\"olive\"},\"line_color\":{\"value\":\"olive\"},\"size\":{\"units\":\"screen\",\"value\":10},\"x\":{\"field\":\"x\"},\"y\":{\"field\":\"y\"}},\"id\":\"42feae4e-fbd3-4aa6-8014-15d537c2f8ed\",\"type\":\"Square\"},{\"attributes\":{\"formatter\":{\"id\":\"5199df55-b529-487a-bd74-9990910b7382\",\"type\":\"BasicTickFormatter\"},\"plot\":{\"id\":\"818a720c-2952-4da0-b78c-93ab2beafbcf\",\"subtype\":\"Figure\",\"type\":\"Plot\"},\"ticker\":{\"id\":\"543926ec-ac35-4b72-bfc2-0fae713b1418\",\"type\":\"BasicTicker\"}},\"id\":\"ca44d913-6ede-48b0-8851-85d9f7f2564c\",\"type\":\"LinearAxis\"},{\"attributes\":{},\"id\":\"543926ec-ac35-4b72-bfc2-0fae713b1418\",\"type\":\"BasicTicker\"},{\"attributes\":{\"formatter\":{\"id\":\"cc93dbfd-c515-4400-8f35-e420b4a0decb\",\"type\":\"BasicTickFormatter\"},\"plot\":{\"id\":\"818a720c-2952-4da0-b78c-93ab2beafbcf\",\"subtype\":\"Figure\",\"type\":\"Plot\"},\"ticker\":{\"id\":\"d703a528-141a-461a-b12c-57b5dcd64660\",\"type\":\"BasicTicker\"}},\"id\":\"7049c0a7-2ed4-4b3d-b263-9734825134fe\",\"type\":\"LinearAxis\"},{\"attributes\":{},\"id\":\"d703a528-141a-461a-b12c-57b5dcd64660\",\"type\":\"BasicTicker\"},{\"attributes\":{\"dimension\":1,\"plot\":{\"id\":\"818a720c-2952-4da0-b78c-93ab2beafbcf\",\"subtype\":\"Figure\",\"type\":\"Plot\"},\"ticker\":{\"id\":\"d703a528-141a-461a-b12c-57b5dcd64660\",\"type\":\"BasicTicker\"}},\"id\":\"0939f2cc-9c2c-4c59-93ae-05c9941bda08\",\"type\":\"Grid\"},{\"attributes\":{},\"id\":\"0859e305-f003-4020-8fe7-4355bb75034f\",\"type\":\"PanTool\"},{\"attributes\":{},\"id\":\"33b4db81-a19e-4cb3-9fa2-db3e4cd272b4\",\"type\":\"WheelZoomTool\"},{\"attributes\":{\"fill_alpha\":{\"value\":0.1},\"fill_color\":{\"value\":\"#1f77b4\"},\"line_alpha\":{\"value\":0.1},\"line_color\":{\"value\":\"#1f77b4\"},\"size\":{\"units\":\"screen\",\"value\":10},\"x\":{\"field\":\"x\"},\"y\":{\"field\":\"y\"}},\"id\":\"5d830f01-a5fe-470b-8dc2-cd38c8a1e454\",\"type\":\"Square\"},{\"attributes\":{\"data_source\":{\"id\":\"3de4149b-edb6-4693-8c98-765911f638c8\",\"type\":\"ColumnDataSource\"},\"glyph\":{\"id\":\"42feae4e-fbd3-4aa6-8014-15d537c2f8ed\",\"type\":\"Square\"},\"hover_glyph\":null,\"muted_glyph\":null,\"nonselection_glyph\":{\"id\":\"5d830f01-a5fe-470b-8dc2-cd38c8a1e454\",\"type\":\"Square\"},\"selection_glyph\":null,\"view\":{\"id\":\"02ec7284-ff6e-4027-b495-75432751a634\",\"type\":\"CDSView\"}},\"id\":\"21f1c40c-358c-4e51-939a-cf28cf48c676\",\"type\":\"GlyphRenderer\"},{\"attributes\":{\"source\":{\"id\":\"3de4149b-edb6-4693-8c98-765911f638c8\",\"type\":\"ColumnDataSource\"}},\"id\":\"02ec7284-ff6e-4027-b495-75432751a634\",\"type\":\"CDSView\"},{\"attributes\":{},\"id\":\"cc93dbfd-c515-4400-8f35-e420b4a0decb\",\"type\":\"BasicTickFormatter\"},{\"attributes\":{\"plot\":null,\"text\":\"\"},\"id\":\"92d36f27-41ea-4997-b970-47a7e6a1b245\",\"type\":\"Title\"},{\"attributes\":{},\"id\":\"44528857-d861-44cb-a6e6-2c5a040421f7\",\"type\":\"BasicTickFormatter\"},{\"attributes\":{\"fill_color\":{\"value\":\"navy\"},\"line_color\":{\"value\":\"navy\"},\"size\":{\"units\":\"screen\",\"value\":10},\"x\":{\"field\":\"x\"},\"y\":{\"field\":\"y\"}},\"id\":\"18f6dbac-a9a5-4632-9667-3665f2abe625\",\"type\":\"Circle\"},{\"attributes\":{\"children\":[{\"id\":\"28b3bc6e-268a-4441-8158-0bc94d316336\",\"type\":\"ToolbarBox\"},{\"id\":\"672bf975-aac5-4ee0-9d62-b49a0ea92616\",\"type\":\"Column\"}]},\"id\":\"effc2690-df42-44a5-88c9-3281c1c1d272\",\"type\":\"Column\"},{\"attributes\":{\"below\":[{\"id\":\"79a1a69f-7206-4e94-915a-0b9ef90a9ebd\",\"type\":\"LinearAxis\"}],\"left\":[{\"id\":\"023c4e8f-3bfe-47b2-bf3c-74f4053a17ef\",\"type\":\"LinearAxis\"}],\"plot_height\":250,\"plot_width\":250,\"renderers\":[{\"id\":\"79a1a69f-7206-4e94-915a-0b9ef90a9ebd\",\"type\":\"LinearAxis\"},{\"id\":\"3fa90bea-3813-42c7-9d5b-8a177ec24dbc\",\"type\":\"Grid\"},{\"id\":\"023c4e8f-3bfe-47b2-bf3c-74f4053a17ef\",\"type\":\"LinearAxis\"},{\"id\":\"7ae20cbd-9261-4e17-aa60-3fd81280f896\",\"type\":\"Grid\"},{\"id\":\"82224fa8-a206-4bdc-bdb1-fcefdabdbeca\",\"type\":\"GlyphRenderer\"}],\"title\":{\"id\":\"893011f2-5534-4513-9959-5b2b073494b1\",\"type\":\"Title\"},\"toolbar\":{\"id\":\"9dd61deb-cc8d-4778-978c-5dba570c336e\",\"type\":\"Toolbar\"},\"toolbar_location\":null,\"x_range\":{\"id\":\"efa0e4d6-4ed6-438d-ac52-ccabf0e82848\",\"type\":\"DataRange1d\"},\"x_scale\":{\"id\":\"a76faf75-1d25-44bb-979c-ee301e37b16c\",\"type\":\"LinearScale\"},\"y_range\":{\"id\":\"82edd2f9-a9e0-4034-861d-0a5c77648cb5\",\"type\":\"DataRange1d\"},\"y_scale\":{\"id\":\"b0f9e74c-77c5-4119-95b1-5abe615db658\",\"type\":\"LinearScale\"}},\"id\":\"4ed011a8-4e05-4137-acb0-6f0f6511e117\",\"subtype\":\"Figure\",\"type\":\"Plot\"},{\"attributes\":{\"formatter\":{\"id\":\"380eed3a-2a04-410d-aecc-540e335837d5\",\"type\":\"BasicTickFormatter\"},\"plot\":{\"id\":\"4ed011a8-4e05-4137-acb0-6f0f6511e117\",\"subtype\":\"Figure\",\"type\":\"Plot\"},\"ticker\":{\"id\":\"9a751d6b-6229-422e-ac3a-0ac227dc5756\",\"type\":\"BasicTicker\"}},\"id\":\"023c4e8f-3bfe-47b2-bf3c-74f4053a17ef\",\"type\":\"LinearAxis\"},{\"attributes\":{\"data_source\":{\"id\":\"5061815d-4af2-429f-8110-95f9e694b9e5\",\"type\":\"ColumnDataSource\"},\"glyph\":{\"id\":\"18f6dbac-a9a5-4632-9667-3665f2abe625\",\"type\":\"Circle\"},\"hover_glyph\":null,\"muted_glyph\":null,\"nonselection_glyph\":{\"id\":\"763fc932-b83c-4a68-adc6-730a2d4c0b11\",\"type\":\"Circle\"},\"selection_glyph\":null,\"view\":{\"id\":\"62f050a5-b674-40c2-990c-ffdc5b4a1665\",\"type\":\"CDSView\"}},\"id\":\"82224fa8-a206-4bdc-bdb1-fcefdabdbeca\",\"type\":\"GlyphRenderer\"},{\"attributes\":{\"active_drag\":\"auto\",\"active_inspect\":\"auto\",\"active_scroll\":\"auto\",\"active_tap\":\"auto\",\"tools\":[{\"id\":\"e3890f95-71dc-4e56-acfc-f83f352d963a\",\"type\":\"PanTool\"},{\"id\":\"1f393f25-220a-4092-8bce-e864111c417c\",\"type\":\"WheelZoomTool\"}]},\"id\":\"9dd61deb-cc8d-4778-978c-5dba570c336e\",\"type\":\"Toolbar\"},{\"attributes\":{\"below\":[{\"id\":\"b2eaeb2c-264f-4f51-9995-4f6778cb9c95\",\"type\":\"LinearAxis\"}],\"left\":[{\"id\":\"b31c7a7a-dc29-4339-b01f-52f52563b680\",\"type\":\"LinearAxis\"}],\"plot_height\":250,\"plot_width\":250,\"renderers\":[{\"id\":\"b2eaeb2c-264f-4f51-9995-4f6778cb9c95\",\"type\":\"LinearAxis\"},{\"id\":\"74b5e0ce-a265-4f62-aad2-a553ca3d2278\",\"type\":\"Grid\"},{\"id\":\"b31c7a7a-dc29-4339-b01f-52f52563b680\",\"type\":\"LinearAxis\"},{\"id\":\"8f53df6e-de92-4672-856f-5d3ecfd7449d\",\"type\":\"Grid\"},{\"id\":\"af612087-4b4a-4d81-a90c-8daf5f346047\",\"type\":\"GlyphRenderer\"}],\"title\":{\"id\":\"ea1eee79-f912-4755-b270-32dced3bea2d\",\"type\":\"Title\"},\"toolbar\":{\"id\":\"1d98fc56-8235-4f1d-8d93-8ef9e1433c78\",\"type\":\"Toolbar\"},\"toolbar_location\":null,\"x_range\":{\"id\":\"efa0e4d6-4ed6-438d-ac52-ccabf0e82848\",\"type\":\"DataRange1d\"},\"x_scale\":{\"id\":\"d5eef36c-36c3-414b-8605-98322ffbab9c\",\"type\":\"LinearScale\"},\"y_range\":{\"id\":\"82edd2f9-a9e0-4034-861d-0a5c77648cb5\",\"type\":\"DataRange1d\"},\"y_scale\":{\"id\":\"8fae3e3a-70fd-42aa-90c4-9a4f87d3542e\",\"type\":\"LinearScale\"}},\"id\":\"f219531e-4de9-47a5-aff0-3a3fc1696062\",\"subtype\":\"Figure\",\"type\":\"Plot\"},{\"attributes\":{\"callback\":null},\"id\":\"efa0e4d6-4ed6-438d-ac52-ccabf0e82848\",\"type\":\"DataRange1d\"},{\"attributes\":{\"callback\":null},\"id\":\"82edd2f9-a9e0-4034-861d-0a5c77648cb5\",\"type\":\"DataRange1d\"},{\"attributes\":{\"callback\":null,\"column_names\":[\"x\",\"y\"],\"data\":{\"x\":[0,1,2,3,4,5,6,7,8,9,10],\"y\":[0,1,2,3,4,5,6,7,8,9,10]}},\"id\":\"5061815d-4af2-429f-8110-95f9e694b9e5\",\"type\":\"ColumnDataSource\"},{\"attributes\":{},\"id\":\"a76faf75-1d25-44bb-979c-ee301e37b16c\",\"type\":\"LinearScale\"},{\"attributes\":{},\"id\":\"b0f9e74c-77c5-4119-95b1-5abe615db658\",\"type\":\"LinearScale\"},{\"attributes\":{\"children\":[{\"id\":\"596c3d3c-1096-46c2-8708-550ae23a8058\",\"type\":\"Row\"}]},\"id\":\"672bf975-aac5-4ee0-9d62-b49a0ea92616\",\"type\":\"Column\"},{\"attributes\":{\"formatter\":{\"id\":\"44528857-d861-44cb-a6e6-2c5a040421f7\",\"type\":\"BasicTickFormatter\"},\"plot\":{\"id\":\"4ed011a8-4e05-4137-acb0-6f0f6511e117\",\"subtype\":\"Figure\",\"type\":\"Plot\"},\"ticker\":{\"id\":\"bd43bae5-83f9-41b0-9f69-34e0a383c3aa\",\"type\":\"BasicTicker\"}},\"id\":\"79a1a69f-7206-4e94-915a-0b9ef90a9ebd\",\"type\":\"LinearAxis\"},{\"attributes\":{},\"id\":\"bd43bae5-83f9-41b0-9f69-34e0a383c3aa\",\"type\":\"BasicTicker\"},{\"attributes\":{\"callback\":null,\"column_names\":[\"x\",\"y\"],\"data\":{\"x\":[0,1,2,3,4,5,6,7,8,9,10],\"y\":[5,4,3,2,1,0,1,2,3,4,5]}},\"id\":\"3de4149b-edb6-4693-8c98-765911f638c8\",\"type\":\"ColumnDataSource\"}],\"root_ids\":[\"effc2690-df42-44a5-88c9-3281c1c1d272\"]},\"title\":\"Bokeh Application\",\"version\":\"0.12.13\"}};\n",
       "  var render_items = [{\"docid\":\"e140e64f-b8fe-4aec-9ba3-d6a41fc17bba\",\"elementid\":\"b5921f4a-a057-40ad-9125-d2ecce3c45b8\",\"modelid\":\"effc2690-df42-44a5-88c9-3281c1c1d272\"}];\n",
       "  root.Bokeh.embed.embed_items_notebook(docs_json, render_items);\n",
       "\n",
       "  }\n",
       "  if (root.Bokeh !== undefined) {\n",
       "    embed_document(root);\n",
       "  } else {\n",
       "    var attempts = 0;\n",
       "    var timer = setInterval(function(root) {\n",
       "      if (root.Bokeh !== undefined) {\n",
       "        embed_document(root);\n",
       "        clearInterval(timer);\n",
       "      }\n",
       "      attempts++;\n",
       "      if (attempts > 100) {\n",
       "        console.log(\"Bokeh: ERROR: Unable to run BokehJS code because BokehJS library is missing\")\n",
       "        clearInterval(timer);\n",
       "      }\n",
       "    }, 10, root)\n",
       "  }\n",
       "})(window);"
      ],
      "application/vnd.bokehjs_exec.v0+json": ""
     },
     "metadata": {
      "application/vnd.bokehjs_exec.v0+json": {
       "id": "effc2690-df42-44a5-88c9-3281c1c1d272"
      }
     },
     "output_type": "display_data"
    }
   ],
   "source": [
    "from bokeh.layouts import gridplot\n",
    "\n",
    "x = list(range(11))\n",
    "y0, y1, y2 = x, [10-i for i in x], [abs(i-5) for i in x]\n",
    "\n",
    "plot_options = dict(width=250, plot_height=250, tools='pan,wheel_zoom')\n",
    "\n",
    "# create a new plot\n",
    "s1 = figure(**plot_options)\n",
    "s1.circle(x, y0, size=10, color=\"navy\")\n",
    "\n",
    "# create a new plot and share both ranges\n",
    "s2 = figure(x_range=s1.x_range, y_range=s1.y_range, **plot_options)\n",
    "s2.triangle(x, y1, size=10, color=\"firebrick\")\n",
    "\n",
    "# create a new plot and share only one range\n",
    "s3 = figure(x_range=s1.x_range, **plot_options)\n",
    "s3.square(x, y2, size=10, color=\"olive\")\n",
    "\n",
    "p = gridplot([[s1, s2, s3]])\n",
    "\n",
    "# show the results\n",
    "show(p)"
   ]
  },
  {
   "cell_type": "code",
   "execution_count": null,
   "metadata": {},
   "outputs": [],
   "source": [
    "# EXERCISE: create two plots in a gridplot, and link their ranges\n"
   ]
  },
  {
   "cell_type": "markdown",
   "metadata": {},
   "source": [
    "## Linked brushing\n",
    "\n",
    "Linking selections is accomplished in a similar way, by sharing data sources between plots. Note that normally with ``bokeh.plotting`` and ``bokeh.charts`` creating a default data source for simple plots is handled automatically. However to share a data source, we must create them by hand and pass them explicitly. This is illustrated in the example below:"
   ]
  },
  {
   "cell_type": "code",
   "execution_count": 3,
   "metadata": {},
   "outputs": [
    {
     "data": {
      "text/html": [
       "\n",
       "<div class=\"bk-root\">\n",
       "    <div class=\"bk-plotdiv\" id=\"63e40dde-bdea-4436-8533-19169d0fdfed\"></div>\n",
       "</div>"
      ]
     },
     "metadata": {},
     "output_type": "display_data"
    },
    {
     "data": {
      "application/javascript": [
       "(function(root) {\n",
       "  function embed_document(root) {\n",
       "    \n",
       "  var docs_json = {\"4ee638c2-4d73-40ae-832e-b49d70380a1f\":{\"roots\":{\"references\":[{\"attributes\":{\"bottom_units\":\"screen\",\"fill_alpha\":{\"value\":0.5},\"fill_color\":{\"value\":\"lightgrey\"},\"left_units\":\"screen\",\"level\":\"overlay\",\"line_alpha\":{\"value\":1.0},\"line_color\":{\"value\":\"black\"},\"line_dash\":[4,4],\"line_width\":{\"value\":2},\"plot\":null,\"render_mode\":\"css\",\"right_units\":\"screen\",\"top_units\":\"screen\"},\"id\":\"382d720f-0ded-4df8-ab67-744f84a6d5cc\",\"type\":\"BoxAnnotation\"},{\"attributes\":{},\"id\":\"720da388-547c-412a-95a8-9f89ce643d42\",\"type\":\"HelpTool\"},{\"attributes\":{},\"id\":\"a62b78f6-f6a7-4748-a1e9-1850dfe96b81\",\"type\":\"LinearScale\"},{\"attributes\":{\"callback\":null,\"overlay\":{\"id\":\"382d720f-0ded-4df8-ab67-744f84a6d5cc\",\"type\":\"BoxAnnotation\"},\"renderers\":[{\"id\":\"d1997e00-3376-47fd-8a03-130734e53188\",\"type\":\"GlyphRenderer\"}]},\"id\":\"6d95f4ef-1e79-4f5f-8dd3-9c78da25e1cf\",\"type\":\"BoxSelectTool\"},{\"attributes\":{},\"id\":\"d3ad6e50-fa1a-41a0-bd19-85b37e8f4bbb\",\"type\":\"BasicTickFormatter\"},{\"attributes\":{\"callback\":null,\"overlay\":{\"id\":\"3a2a6c39-e1c4-4bc7-9218-162cf19e7406\",\"type\":\"PolyAnnotation\"}},\"id\":\"2baf6de0-b883-449a-a2aa-65493bad1c68\",\"type\":\"LassoSelectTool\"},{\"attributes\":{\"source\":{\"id\":\"f4cc8168-b283-4f61-9280-66e6c32cb7e5\",\"type\":\"ColumnDataSource\"}},\"id\":\"b54ba3bc-1622-493e-b86f-cea5fe8507f0\",\"type\":\"CDSView\"},{\"attributes\":{\"callback\":null},\"id\":\"1df30c40-7a5f-437a-abd3-5f1b4c40e0f9\",\"type\":\"DataRange1d\"},{\"attributes\":{\"fill_alpha\":{\"value\":0.1},\"fill_color\":{\"value\":\"#1f77b4\"},\"line_alpha\":{\"value\":0.1},\"line_color\":{\"value\":\"#1f77b4\"},\"x\":{\"field\":\"x\"},\"y\":{\"field\":\"y1\"}},\"id\":\"7984a083-cc12-4700-a82e-086284cd1f2f\",\"type\":\"Circle\"},{\"attributes\":{\"tools\":[{\"id\":\"4c4eef18-ff5d-4798-904f-67d474a6bdc8\",\"type\":\"BoxSelectTool\"},{\"id\":\"8c4a1eec-a0b9-4a27-8deb-ca8acc648e74\",\"type\":\"LassoSelectTool\"},{\"id\":\"cf65cf0f-a696-43b0-aa5f-1c29966f1210\",\"type\":\"HelpTool\"},{\"id\":\"6d95f4ef-1e79-4f5f-8dd3-9c78da25e1cf\",\"type\":\"BoxSelectTool\"},{\"id\":\"2baf6de0-b883-449a-a2aa-65493bad1c68\",\"type\":\"LassoSelectTool\"},{\"id\":\"720da388-547c-412a-95a8-9f89ce643d42\",\"type\":\"HelpTool\"}]},\"id\":\"27317676-ed5b-4344-b51d-e68b6800db54\",\"type\":\"ProxyToolbar\"},{\"attributes\":{\"callback\":null,\"overlay\":{\"id\":\"106e9fe0-3396-4ca2-bb39-ea579d28b490\",\"type\":\"PolyAnnotation\"}},\"id\":\"8c4a1eec-a0b9-4a27-8deb-ca8acc648e74\",\"type\":\"LassoSelectTool\"},{\"attributes\":{\"formatter\":{\"id\":\"170a6b8a-029a-41df-a39a-a7a4708a0587\",\"type\":\"BasicTickFormatter\"},\"plot\":{\"id\":\"52087472-b2d8-4001-8f2e-e4f4a60e5b83\",\"subtype\":\"Figure\",\"type\":\"Plot\"},\"ticker\":{\"id\":\"fe1fea17-bf14-4230-9471-b077f13c19f8\",\"type\":\"BasicTicker\"}},\"id\":\"720049d6-885c-4cff-a775-8197a5165c63\",\"type\":\"LinearAxis\"},{\"attributes\":{\"fill_alpha\":{\"value\":0.5},\"fill_color\":{\"value\":\"lightgrey\"},\"level\":\"overlay\",\"line_alpha\":{\"value\":1.0},\"line_color\":{\"value\":\"black\"},\"line_dash\":[4,4],\"line_width\":{\"value\":2},\"plot\":null,\"xs_units\":\"screen\",\"ys_units\":\"screen\"},\"id\":\"3a2a6c39-e1c4-4bc7-9218-162cf19e7406\",\"type\":\"PolyAnnotation\"},{\"attributes\":{\"plot\":{\"id\":\"52087472-b2d8-4001-8f2e-e4f4a60e5b83\",\"subtype\":\"Figure\",\"type\":\"Plot\"},\"ticker\":{\"id\":\"fe1fea17-bf14-4230-9471-b077f13c19f8\",\"type\":\"BasicTicker\"}},\"id\":\"4f841ab6-5a97-4b7b-b575-38f2a0215709\",\"type\":\"Grid\"},{\"attributes\":{\"bottom_units\":\"screen\",\"fill_alpha\":{\"value\":0.5},\"fill_color\":{\"value\":\"lightgrey\"},\"left_units\":\"screen\",\"level\":\"overlay\",\"line_alpha\":{\"value\":1.0},\"line_color\":{\"value\":\"black\"},\"line_dash\":[4,4],\"line_width\":{\"value\":2},\"plot\":null,\"render_mode\":\"css\",\"right_units\":\"screen\",\"top_units\":\"screen\"},\"id\":\"be4856c5-853a-470e-9ddc-1e92404f97c9\",\"type\":\"BoxAnnotation\"},{\"attributes\":{},\"id\":\"170a6b8a-029a-41df-a39a-a7a4708a0587\",\"type\":\"BasicTickFormatter\"},{\"attributes\":{},\"id\":\"b0ce5202-896e-40be-952b-8b4b17983ad1\",\"type\":\"BasicTicker\"},{\"attributes\":{\"data_source\":{\"id\":\"f4cc8168-b283-4f61-9280-66e6c32cb7e5\",\"type\":\"ColumnDataSource\"},\"glyph\":{\"id\":\"ed3f81fa-1873-4a5a-9ad0-275e60407ec2\",\"type\":\"Circle\"},\"hover_glyph\":null,\"muted_glyph\":null,\"nonselection_glyph\":{\"id\":\"7984a083-cc12-4700-a82e-086284cd1f2f\",\"type\":\"Circle\"},\"selection_glyph\":null,\"view\":{\"id\":\"54e27153-5105-412b-8aaa-f5d9d8f9a86a\",\"type\":\"CDSView\"}},\"id\":\"d1997e00-3376-47fd-8a03-130734e53188\",\"type\":\"GlyphRenderer\"},{\"attributes\":{\"source\":{\"id\":\"f4cc8168-b283-4f61-9280-66e6c32cb7e5\",\"type\":\"ColumnDataSource\"}},\"id\":\"54e27153-5105-412b-8aaa-f5d9d8f9a86a\",\"type\":\"CDSView\"},{\"attributes\":{\"toolbar\":{\"id\":\"27317676-ed5b-4344-b51d-e68b6800db54\",\"type\":\"ProxyToolbar\"},\"toolbar_location\":\"above\"},\"id\":\"5f5bb347-8313-4612-bcd5-3e0b7d5aa2b0\",\"type\":\"ToolbarBox\"},{\"attributes\":{\"data_source\":{\"id\":\"f4cc8168-b283-4f61-9280-66e6c32cb7e5\",\"type\":\"ColumnDataSource\"},\"glyph\":{\"id\":\"80712d62-9062-49d3-b693-ce0c5b692236\",\"type\":\"Circle\"},\"hover_glyph\":null,\"muted_glyph\":null,\"nonselection_glyph\":{\"id\":\"ede2ff49-7103-4679-b514-cdd9b9e511de\",\"type\":\"Circle\"},\"selection_glyph\":null,\"view\":{\"id\":\"b54ba3bc-1622-493e-b86f-cea5fe8507f0\",\"type\":\"CDSView\"}},\"id\":\"e1f7c81f-9f8d-4f4b-bfd4-5c54c1cd2153\",\"type\":\"GlyphRenderer\"},{\"attributes\":{\"callback\":null},\"id\":\"43455ab1-bb11-42d3-9ccd-fa36721145e5\",\"type\":\"DataRange1d\"},{\"attributes\":{\"children\":[{\"id\":\"5f5bb347-8313-4612-bcd5-3e0b7d5aa2b0\",\"type\":\"ToolbarBox\"},{\"id\":\"c1350aa5-e5f8-4df4-abfe-910a80b66faf\",\"type\":\"Column\"}]},\"id\":\"0e7ba5d7-f32d-4386-892c-500634de5a12\",\"type\":\"Column\"},{\"attributes\":{\"fill_color\":{\"value\":\"#1f77b4\"},\"line_color\":{\"value\":\"#1f77b4\"},\"x\":{\"field\":\"x\"},\"y\":{\"field\":\"y0\"}},\"id\":\"80712d62-9062-49d3-b693-ce0c5b692236\",\"type\":\"Circle\"},{\"attributes\":{\"plot\":null,\"text\":\"\"},\"id\":\"e7d47ebe-8efc-46b5-b996-6edd127edc64\",\"type\":\"Title\"},{\"attributes\":{\"formatter\":{\"id\":\"c77bea4d-0352-42ea-af5b-92a8ac3f05e7\",\"type\":\"BasicTickFormatter\"},\"plot\":{\"id\":\"52087472-b2d8-4001-8f2e-e4f4a60e5b83\",\"subtype\":\"Figure\",\"type\":\"Plot\"},\"ticker\":{\"id\":\"b0ce5202-896e-40be-952b-8b4b17983ad1\",\"type\":\"BasicTicker\"}},\"id\":\"d4523aaa-3343-4414-9a84-a29cfb4150bc\",\"type\":\"LinearAxis\"},{\"attributes\":{\"fill_color\":{\"value\":\"#1f77b4\"},\"line_color\":{\"value\":\"#1f77b4\"},\"x\":{\"field\":\"x\"},\"y\":{\"field\":\"y1\"}},\"id\":\"ed3f81fa-1873-4a5a-9ad0-275e60407ec2\",\"type\":\"Circle\"},{\"attributes\":{\"fill_alpha\":{\"value\":0.1},\"fill_color\":{\"value\":\"#1f77b4\"},\"line_alpha\":{\"value\":0.1},\"line_color\":{\"value\":\"#1f77b4\"},\"x\":{\"field\":\"x\"},\"y\":{\"field\":\"y0\"}},\"id\":\"ede2ff49-7103-4679-b514-cdd9b9e511de\",\"type\":\"Circle\"},{\"attributes\":{},\"id\":\"ee4e2ac3-b3d6-480c-b478-206a787754f8\",\"type\":\"BasicTickFormatter\"},{\"attributes\":{\"below\":[{\"id\":\"e00cab7d-a36a-4869-8f51-ee042b0a9001\",\"type\":\"LinearAxis\"}],\"left\":[{\"id\":\"11913db6-97e7-4325-add7-a0a6ceeaa9f5\",\"type\":\"LinearAxis\"}],\"plot_height\":300,\"plot_width\":300,\"renderers\":[{\"id\":\"e00cab7d-a36a-4869-8f51-ee042b0a9001\",\"type\":\"LinearAxis\"},{\"id\":\"30fbca05-d273-40a0-b2fd-daa2981ec7a5\",\"type\":\"Grid\"},{\"id\":\"11913db6-97e7-4325-add7-a0a6ceeaa9f5\",\"type\":\"LinearAxis\"},{\"id\":\"3f72bdca-3d06-4039-aab3-5a1f953cff6e\",\"type\":\"Grid\"},{\"id\":\"be4856c5-853a-470e-9ddc-1e92404f97c9\",\"type\":\"BoxAnnotation\"},{\"id\":\"106e9fe0-3396-4ca2-bb39-ea579d28b490\",\"type\":\"PolyAnnotation\"},{\"id\":\"e1f7c81f-9f8d-4f4b-bfd4-5c54c1cd2153\",\"type\":\"GlyphRenderer\"}],\"title\":{\"id\":\"c7a75200-24bd-40e1-9e0a-f9d15c48cc72\",\"type\":\"Title\"},\"toolbar\":{\"id\":\"d4b98d33-30e6-4bc2-aaad-f2705c6e8d63\",\"type\":\"Toolbar\"},\"toolbar_location\":null,\"x_range\":{\"id\":\"7e35de3a-591e-4b63-84b1-c053f0e3e35d\",\"type\":\"DataRange1d\"},\"x_scale\":{\"id\":\"a6f36386-c27a-465c-919f-cd3e1060e91a\",\"type\":\"LinearScale\"},\"y_range\":{\"id\":\"d0aa6d4a-dc5f-4041-ab51-6a41c1919c79\",\"type\":\"DataRange1d\"},\"y_scale\":{\"id\":\"63163abd-9e27-427c-8acb-49f30cb6ae4e\",\"type\":\"LinearScale\"}},\"id\":\"df32f970-2389-4f38-8dab-9868182d1a84\",\"subtype\":\"Figure\",\"type\":\"Plot\"},{\"attributes\":{},\"id\":\"a6f36386-c27a-465c-919f-cd3e1060e91a\",\"type\":\"LinearScale\"},{\"attributes\":{\"children\":[{\"id\":\"df32f970-2389-4f38-8dab-9868182d1a84\",\"subtype\":\"Figure\",\"type\":\"Plot\"},{\"id\":\"52087472-b2d8-4001-8f2e-e4f4a60e5b83\",\"subtype\":\"Figure\",\"type\":\"Plot\"}]},\"id\":\"03b293c4-7686-481a-81d1-1cc5787e2d0c\",\"type\":\"Row\"},{\"attributes\":{},\"id\":\"c77bea4d-0352-42ea-af5b-92a8ac3f05e7\",\"type\":\"BasicTickFormatter\"},{\"attributes\":{\"callback\":null,\"column_names\":[\"x\",\"y0\",\"y1\"],\"data\":{\"x\":[-20,-19,-18,-17,-16,-15,-14,-13,-12,-11,-10,-9,-8,-7,-6,-5,-4,-3,-2,-1,0,1,2,3,4,5,6,7,8,9,10,11,12,13,14,15,16,17,18,19,20],\"y0\":[20,19,18,17,16,15,14,13,12,11,10,9,8,7,6,5,4,3,2,1,0,1,2,3,4,5,6,7,8,9,10,11,12,13,14,15,16,17,18,19,20],\"y1\":[400,361,324,289,256,225,196,169,144,121,100,81,64,49,36,25,16,9,4,1,0,1,4,9,16,25,36,49,64,81,100,121,144,169,196,225,256,289,324,361,400]}},\"id\":\"f4cc8168-b283-4f61-9280-66e6c32cb7e5\",\"type\":\"ColumnDataSource\"},{\"attributes\":{\"plot\":{\"id\":\"df32f970-2389-4f38-8dab-9868182d1a84\",\"subtype\":\"Figure\",\"type\":\"Plot\"},\"ticker\":{\"id\":\"aa383c3b-4042-4c8b-bab9-e92630a4c49d\",\"type\":\"BasicTicker\"}},\"id\":\"30fbca05-d273-40a0-b2fd-daa2981ec7a5\",\"type\":\"Grid\"},{\"attributes\":{},\"id\":\"fe1fea17-bf14-4230-9471-b077f13c19f8\",\"type\":\"BasicTicker\"},{\"attributes\":{\"active_drag\":\"auto\",\"active_inspect\":\"auto\",\"active_scroll\":\"auto\",\"active_tap\":\"auto\",\"tools\":[{\"id\":\"4c4eef18-ff5d-4798-904f-67d474a6bdc8\",\"type\":\"BoxSelectTool\"},{\"id\":\"8c4a1eec-a0b9-4a27-8deb-ca8acc648e74\",\"type\":\"LassoSelectTool\"},{\"id\":\"cf65cf0f-a696-43b0-aa5f-1c29966f1210\",\"type\":\"HelpTool\"}]},\"id\":\"d4b98d33-30e6-4bc2-aaad-f2705c6e8d63\",\"type\":\"Toolbar\"},{\"attributes\":{\"callback\":null},\"id\":\"d0aa6d4a-dc5f-4041-ab51-6a41c1919c79\",\"type\":\"DataRange1d\"},{\"attributes\":{\"active_drag\":\"auto\",\"active_inspect\":\"auto\",\"active_scroll\":\"auto\",\"active_tap\":\"auto\",\"tools\":[{\"id\":\"6d95f4ef-1e79-4f5f-8dd3-9c78da25e1cf\",\"type\":\"BoxSelectTool\"},{\"id\":\"2baf6de0-b883-449a-a2aa-65493bad1c68\",\"type\":\"LassoSelectTool\"},{\"id\":\"720da388-547c-412a-95a8-9f89ce643d42\",\"type\":\"HelpTool\"}]},\"id\":\"f69f4dde-3232-46bd-aaa0-381bfd100f82\",\"type\":\"Toolbar\"},{\"attributes\":{\"below\":[{\"id\":\"720049d6-885c-4cff-a775-8197a5165c63\",\"type\":\"LinearAxis\"}],\"left\":[{\"id\":\"d4523aaa-3343-4414-9a84-a29cfb4150bc\",\"type\":\"LinearAxis\"}],\"plot_height\":300,\"plot_width\":300,\"renderers\":[{\"id\":\"720049d6-885c-4cff-a775-8197a5165c63\",\"type\":\"LinearAxis\"},{\"id\":\"4f841ab6-5a97-4b7b-b575-38f2a0215709\",\"type\":\"Grid\"},{\"id\":\"d4523aaa-3343-4414-9a84-a29cfb4150bc\",\"type\":\"LinearAxis\"},{\"id\":\"97c850be-dc55-479d-81f3-1596c3c5a5d4\",\"type\":\"Grid\"},{\"id\":\"382d720f-0ded-4df8-ab67-744f84a6d5cc\",\"type\":\"BoxAnnotation\"},{\"id\":\"3a2a6c39-e1c4-4bc7-9218-162cf19e7406\",\"type\":\"PolyAnnotation\"},{\"id\":\"d1997e00-3376-47fd-8a03-130734e53188\",\"type\":\"GlyphRenderer\"}],\"title\":{\"id\":\"e7d47ebe-8efc-46b5-b996-6edd127edc64\",\"type\":\"Title\"},\"toolbar\":{\"id\":\"f69f4dde-3232-46bd-aaa0-381bfd100f82\",\"type\":\"Toolbar\"},\"toolbar_location\":null,\"x_range\":{\"id\":\"1df30c40-7a5f-437a-abd3-5f1b4c40e0f9\",\"type\":\"DataRange1d\"},\"x_scale\":{\"id\":\"a62b78f6-f6a7-4748-a1e9-1850dfe96b81\",\"type\":\"LinearScale\"},\"y_range\":{\"id\":\"43455ab1-bb11-42d3-9ccd-fa36721145e5\",\"type\":\"DataRange1d\"},\"y_scale\":{\"id\":\"65d7af1b-9ca1-43bd-9a46-ac443ca3070d\",\"type\":\"LinearScale\"}},\"id\":\"52087472-b2d8-4001-8f2e-e4f4a60e5b83\",\"subtype\":\"Figure\",\"type\":\"Plot\"},{\"attributes\":{\"callback\":null},\"id\":\"7e35de3a-591e-4b63-84b1-c053f0e3e35d\",\"type\":\"DataRange1d\"},{\"attributes\":{},\"id\":\"63163abd-9e27-427c-8acb-49f30cb6ae4e\",\"type\":\"LinearScale\"},{\"attributes\":{\"plot\":null,\"text\":\"\"},\"id\":\"c7a75200-24bd-40e1-9e0a-f9d15c48cc72\",\"type\":\"Title\"},{\"attributes\":{},\"id\":\"aa383c3b-4042-4c8b-bab9-e92630a4c49d\",\"type\":\"BasicTicker\"},{\"attributes\":{\"children\":[{\"id\":\"03b293c4-7686-481a-81d1-1cc5787e2d0c\",\"type\":\"Row\"}]},\"id\":\"c1350aa5-e5f8-4df4-abfe-910a80b66faf\",\"type\":\"Column\"},{\"attributes\":{},\"id\":\"cf65cf0f-a696-43b0-aa5f-1c29966f1210\",\"type\":\"HelpTool\"},{\"attributes\":{\"callback\":null,\"overlay\":{\"id\":\"be4856c5-853a-470e-9ddc-1e92404f97c9\",\"type\":\"BoxAnnotation\"},\"renderers\":[{\"id\":\"e1f7c81f-9f8d-4f4b-bfd4-5c54c1cd2153\",\"type\":\"GlyphRenderer\"}]},\"id\":\"4c4eef18-ff5d-4798-904f-67d474a6bdc8\",\"type\":\"BoxSelectTool\"},{\"attributes\":{\"dimension\":1,\"plot\":{\"id\":\"52087472-b2d8-4001-8f2e-e4f4a60e5b83\",\"subtype\":\"Figure\",\"type\":\"Plot\"},\"ticker\":{\"id\":\"b0ce5202-896e-40be-952b-8b4b17983ad1\",\"type\":\"BasicTicker\"}},\"id\":\"97c850be-dc55-479d-81f3-1596c3c5a5d4\",\"type\":\"Grid\"},{\"attributes\":{},\"id\":\"3153b750-f351-4abb-aed4-7d07031ec837\",\"type\":\"BasicTicker\"},{\"attributes\":{\"fill_alpha\":{\"value\":0.5},\"fill_color\":{\"value\":\"lightgrey\"},\"level\":\"overlay\",\"line_alpha\":{\"value\":1.0},\"line_color\":{\"value\":\"black\"},\"line_dash\":[4,4],\"line_width\":{\"value\":2},\"plot\":null,\"xs_units\":\"screen\",\"ys_units\":\"screen\"},\"id\":\"106e9fe0-3396-4ca2-bb39-ea579d28b490\",\"type\":\"PolyAnnotation\"},{\"attributes\":{\"formatter\":{\"id\":\"ee4e2ac3-b3d6-480c-b478-206a787754f8\",\"type\":\"BasicTickFormatter\"},\"plot\":{\"id\":\"df32f970-2389-4f38-8dab-9868182d1a84\",\"subtype\":\"Figure\",\"type\":\"Plot\"},\"ticker\":{\"id\":\"aa383c3b-4042-4c8b-bab9-e92630a4c49d\",\"type\":\"BasicTicker\"}},\"id\":\"e00cab7d-a36a-4869-8f51-ee042b0a9001\",\"type\":\"LinearAxis\"},{\"attributes\":{\"dimension\":1,\"plot\":{\"id\":\"df32f970-2389-4f38-8dab-9868182d1a84\",\"subtype\":\"Figure\",\"type\":\"Plot\"},\"ticker\":{\"id\":\"3153b750-f351-4abb-aed4-7d07031ec837\",\"type\":\"BasicTicker\"}},\"id\":\"3f72bdca-3d06-4039-aab3-5a1f953cff6e\",\"type\":\"Grid\"},{\"attributes\":{\"formatter\":{\"id\":\"d3ad6e50-fa1a-41a0-bd19-85b37e8f4bbb\",\"type\":\"BasicTickFormatter\"},\"plot\":{\"id\":\"df32f970-2389-4f38-8dab-9868182d1a84\",\"subtype\":\"Figure\",\"type\":\"Plot\"},\"ticker\":{\"id\":\"3153b750-f351-4abb-aed4-7d07031ec837\",\"type\":\"BasicTicker\"}},\"id\":\"11913db6-97e7-4325-add7-a0a6ceeaa9f5\",\"type\":\"LinearAxis\"},{\"attributes\":{},\"id\":\"65d7af1b-9ca1-43bd-9a46-ac443ca3070d\",\"type\":\"LinearScale\"}],\"root_ids\":[\"0e7ba5d7-f32d-4386-892c-500634de5a12\"]},\"title\":\"Bokeh Application\",\"version\":\"0.12.13\"}};\n",
       "  var render_items = [{\"docid\":\"4ee638c2-4d73-40ae-832e-b49d70380a1f\",\"elementid\":\"63e40dde-bdea-4436-8533-19169d0fdfed\",\"modelid\":\"0e7ba5d7-f32d-4386-892c-500634de5a12\"}];\n",
       "  root.Bokeh.embed.embed_items_notebook(docs_json, render_items);\n",
       "\n",
       "  }\n",
       "  if (root.Bokeh !== undefined) {\n",
       "    embed_document(root);\n",
       "  } else {\n",
       "    var attempts = 0;\n",
       "    var timer = setInterval(function(root) {\n",
       "      if (root.Bokeh !== undefined) {\n",
       "        embed_document(root);\n",
       "        clearInterval(timer);\n",
       "      }\n",
       "      attempts++;\n",
       "      if (attempts > 100) {\n",
       "        console.log(\"Bokeh: ERROR: Unable to run BokehJS code because BokehJS library is missing\")\n",
       "        clearInterval(timer);\n",
       "      }\n",
       "    }, 10, root)\n",
       "  }\n",
       "})(window);"
      ],
      "application/vnd.bokehjs_exec.v0+json": ""
     },
     "metadata": {
      "application/vnd.bokehjs_exec.v0+json": {
       "id": "0e7ba5d7-f32d-4386-892c-500634de5a12"
      }
     },
     "output_type": "display_data"
    }
   ],
   "source": [
    "from bokeh.models import ColumnDataSource\n",
    "\n",
    "x = list(range(-20, 21))\n",
    "y0, y1 = [abs(xx) for xx in x], [xx**2 for xx in x]\n",
    "\n",
    "# create a column data source for the plots to share\n",
    "source = ColumnDataSource(data=dict(x=x, y0=y0, y1=y1))\n",
    "\n",
    "TOOLS = \"box_select,lasso_select,help\"\n",
    "\n",
    "# create a new plot and add a renderer\n",
    "left = figure(tools=TOOLS, width=300, height=300)\n",
    "left.circle('x', 'y0', source=source)\n",
    "\n",
    "# create another new plot and add a renderer\n",
    "right = figure(tools=TOOLS, width=300, height=300)\n",
    "right.circle('x', 'y1', source=source)\n",
    "\n",
    "p = gridplot([[left, right]])\n",
    "\n",
    "show(p)"
   ]
  },
  {
   "cell_type": "code",
   "execution_count": null,
   "metadata": {},
   "outputs": [],
   "source": [
    "# EXERCISE: create two plots in a gridplot, and link their data sources\n",
    "\n"
   ]
  },
  {
   "cell_type": "markdown",
   "metadata": {},
   "source": [
    "# Hover Tools\n",
    "\n",
    "Bokeh has a Hover Tool that allows additional information to be displayed in a popup whenever the user hovers over a specific glyph. Basic hover tool configuration amounts to providing a list of ``(name, format)`` tuples. The full details can be found in the User's Guide [here](http://bokeh.pydata.org/en/latest/docs/user_guide/tools.html#hovertool).\n",
    "\n",
    "The example below shows some basic usage of the Hover tool with a circle glyph, using hover information defined in utils.py:"
   ]
  },
  {
   "cell_type": "code",
   "execution_count": 4,
   "metadata": {},
   "outputs": [
    {
     "data": {
      "text/html": [
       "\n",
       "<div class=\"bk-root\">\n",
       "    <div class=\"bk-plotdiv\" id=\"73fb00de-0f7d-49a6-b12a-ee603ba1be5c\"></div>\n",
       "</div>"
      ]
     },
     "metadata": {},
     "output_type": "display_data"
    },
    {
     "data": {
      "application/javascript": [
       "(function(root) {\n",
       "  function embed_document(root) {\n",
       "    \n",
       "  var docs_json = {\"a03c8e0e-9f98-468d-b9a3-6f4b8065dbef\":{\"roots\":{\"references\":[{\"attributes\":{\"data_source\":{\"id\":\"26a4cb73-783b-4005-b2b3-1c1159530ad0\",\"type\":\"ColumnDataSource\"},\"glyph\":{\"id\":\"03a50814-beb9-40dd-9f0e-ee51c8fac002\",\"type\":\"Circle\"},\"hover_glyph\":null,\"muted_glyph\":null,\"nonselection_glyph\":{\"id\":\"0581a67a-731e-472e-ab56-d422353ff1b0\",\"type\":\"Circle\"},\"selection_glyph\":null,\"view\":{\"id\":\"5fa093c7-8be2-45bc-b6ef-c76c88f59b2e\",\"type\":\"CDSView\"}},\"id\":\"bd2546cf-01f4-45d7-b8b2-96e920948b8d\",\"type\":\"GlyphRenderer\"},{\"attributes\":{\"callback\":null,\"column_names\":[\"x\",\"y\",\"desc\"],\"data\":{\"desc\":[\"A\",\"b\",\"C\",\"d\",\"E\"],\"x\":[1,2,3,4,5],\"y\":[2,5,8,2,7]}},\"id\":\"26a4cb73-783b-4005-b2b3-1c1159530ad0\",\"type\":\"ColumnDataSource\"},{\"attributes\":{\"callback\":null},\"id\":\"52c21fbc-0cbd-4d03-9768-984ba0ce1088\",\"type\":\"DataRange1d\"},{\"attributes\":{\"formatter\":{\"id\":\"102f5a13-e00e-4f47-a03c-5e014f157605\",\"type\":\"BasicTickFormatter\"},\"plot\":{\"id\":\"13e30ee5-86b1-4dd8-a74a-9dc2fbbdffed\",\"subtype\":\"Figure\",\"type\":\"Plot\"},\"ticker\":{\"id\":\"412ff09d-4d93-4c50-a78f-ae14529a972e\",\"type\":\"BasicTicker\"}},\"id\":\"641088ec-3e23-45b8-b705-52fe008b06aa\",\"type\":\"LinearAxis\"},{\"attributes\":{},\"id\":\"05b7a495-ff72-463b-9f91-1ccf9ddacd7e\",\"type\":\"LinearScale\"},{\"attributes\":{\"below\":[{\"id\":\"40d8f963-d0d7-4ac2-97cd-9be41188367a\",\"type\":\"LinearAxis\"}],\"left\":[{\"id\":\"641088ec-3e23-45b8-b705-52fe008b06aa\",\"type\":\"LinearAxis\"}],\"plot_height\":300,\"plot_width\":300,\"renderers\":[{\"id\":\"40d8f963-d0d7-4ac2-97cd-9be41188367a\",\"type\":\"LinearAxis\"},{\"id\":\"8705cc60-4e54-49db-8c72-6d9349f035b8\",\"type\":\"Grid\"},{\"id\":\"641088ec-3e23-45b8-b705-52fe008b06aa\",\"type\":\"LinearAxis\"},{\"id\":\"e771f45a-8c37-4a12-acb3-8ced36114a12\",\"type\":\"Grid\"},{\"id\":\"bd2546cf-01f4-45d7-b8b2-96e920948b8d\",\"type\":\"GlyphRenderer\"}],\"title\":{\"id\":\"7ba01090-16e0-4842-934a-a9c3ea82597a\",\"type\":\"Title\"},\"toolbar\":{\"id\":\"a3ece7fc-6e76-4635-b6a5-558ae2508905\",\"type\":\"Toolbar\"},\"x_range\":{\"id\":\"91e9fa7b-ec56-403b-b342-409b5c9dc275\",\"type\":\"DataRange1d\"},\"x_scale\":{\"id\":\"955a24b4-f078-4747-960e-e55e8c50e4d3\",\"type\":\"LinearScale\"},\"y_range\":{\"id\":\"52c21fbc-0cbd-4d03-9768-984ba0ce1088\",\"type\":\"DataRange1d\"},\"y_scale\":{\"id\":\"05b7a495-ff72-463b-9f91-1ccf9ddacd7e\",\"type\":\"LinearScale\"}},\"id\":\"13e30ee5-86b1-4dd8-a74a-9dc2fbbdffed\",\"subtype\":\"Figure\",\"type\":\"Plot\"},{\"attributes\":{\"fill_color\":{\"value\":\"#1f77b4\"},\"line_color\":{\"value\":\"#1f77b4\"},\"size\":{\"units\":\"screen\",\"value\":20},\"x\":{\"field\":\"x\"},\"y\":{\"field\":\"y\"}},\"id\":\"03a50814-beb9-40dd-9f0e-ee51c8fac002\",\"type\":\"Circle\"},{\"attributes\":{\"plot\":{\"id\":\"13e30ee5-86b1-4dd8-a74a-9dc2fbbdffed\",\"subtype\":\"Figure\",\"type\":\"Plot\"},\"ticker\":{\"id\":\"a49e1870-e388-418b-a1c5-319e4520f5a9\",\"type\":\"BasicTicker\"}},\"id\":\"8705cc60-4e54-49db-8c72-6d9349f035b8\",\"type\":\"Grid\"},{\"attributes\":{\"source\":{\"id\":\"26a4cb73-783b-4005-b2b3-1c1159530ad0\",\"type\":\"ColumnDataSource\"}},\"id\":\"5fa093c7-8be2-45bc-b6ef-c76c88f59b2e\",\"type\":\"CDSView\"},{\"attributes\":{\"plot\":null,\"text\":\"Mouse over the dots\"},\"id\":\"7ba01090-16e0-4842-934a-a9c3ea82597a\",\"type\":\"Title\"},{\"attributes\":{\"dimension\":1,\"plot\":{\"id\":\"13e30ee5-86b1-4dd8-a74a-9dc2fbbdffed\",\"subtype\":\"Figure\",\"type\":\"Plot\"},\"ticker\":{\"id\":\"412ff09d-4d93-4c50-a78f-ae14529a972e\",\"type\":\"BasicTicker\"}},\"id\":\"e771f45a-8c37-4a12-acb3-8ced36114a12\",\"type\":\"Grid\"},{\"attributes\":{\"active_drag\":\"auto\",\"active_inspect\":\"auto\",\"active_scroll\":\"auto\",\"active_tap\":\"auto\",\"tools\":[{\"id\":\"43c88ac5-385e-4da6-885e-86aed1cfa3ab\",\"type\":\"HoverTool\"}]},\"id\":\"a3ece7fc-6e76-4635-b6a5-558ae2508905\",\"type\":\"Toolbar\"},{\"attributes\":{},\"id\":\"e35cd13c-022c-4665-afc5-b1ece35ee0dc\",\"type\":\"BasicTickFormatter\"},{\"attributes\":{\"fill_alpha\":{\"value\":0.1},\"fill_color\":{\"value\":\"#1f77b4\"},\"line_alpha\":{\"value\":0.1},\"line_color\":{\"value\":\"#1f77b4\"},\"size\":{\"units\":\"screen\",\"value\":20},\"x\":{\"field\":\"x\"},\"y\":{\"field\":\"y\"}},\"id\":\"0581a67a-731e-472e-ab56-d422353ff1b0\",\"type\":\"Circle\"},{\"attributes\":{\"callback\":null},\"id\":\"91e9fa7b-ec56-403b-b342-409b5c9dc275\",\"type\":\"DataRange1d\"},{\"attributes\":{},\"id\":\"955a24b4-f078-4747-960e-e55e8c50e4d3\",\"type\":\"LinearScale\"},{\"attributes\":{\"callback\":null,\"tooltips\":[[\"index\",\"$index\"],[\"(x,y)\",\"($x, $y)\"],[\"desc\",\"@desc\"]]},\"id\":\"43c88ac5-385e-4da6-885e-86aed1cfa3ab\",\"type\":\"HoverTool\"},{\"attributes\":{},\"id\":\"102f5a13-e00e-4f47-a03c-5e014f157605\",\"type\":\"BasicTickFormatter\"},{\"attributes\":{},\"id\":\"412ff09d-4d93-4c50-a78f-ae14529a972e\",\"type\":\"BasicTicker\"},{\"attributes\":{},\"id\":\"a49e1870-e388-418b-a1c5-319e4520f5a9\",\"type\":\"BasicTicker\"},{\"attributes\":{\"formatter\":{\"id\":\"e35cd13c-022c-4665-afc5-b1ece35ee0dc\",\"type\":\"BasicTickFormatter\"},\"plot\":{\"id\":\"13e30ee5-86b1-4dd8-a74a-9dc2fbbdffed\",\"subtype\":\"Figure\",\"type\":\"Plot\"},\"ticker\":{\"id\":\"a49e1870-e388-418b-a1c5-319e4520f5a9\",\"type\":\"BasicTicker\"}},\"id\":\"40d8f963-d0d7-4ac2-97cd-9be41188367a\",\"type\":\"LinearAxis\"}],\"root_ids\":[\"13e30ee5-86b1-4dd8-a74a-9dc2fbbdffed\"]},\"title\":\"Bokeh Application\",\"version\":\"0.12.13\"}};\n",
       "  var render_items = [{\"docid\":\"a03c8e0e-9f98-468d-b9a3-6f4b8065dbef\",\"elementid\":\"73fb00de-0f7d-49a6-b12a-ee603ba1be5c\",\"modelid\":\"13e30ee5-86b1-4dd8-a74a-9dc2fbbdffed\"}];\n",
       "  root.Bokeh.embed.embed_items_notebook(docs_json, render_items);\n",
       "\n",
       "  }\n",
       "  if (root.Bokeh !== undefined) {\n",
       "    embed_document(root);\n",
       "  } else {\n",
       "    var attempts = 0;\n",
       "    var timer = setInterval(function(root) {\n",
       "      if (root.Bokeh !== undefined) {\n",
       "        embed_document(root);\n",
       "        clearInterval(timer);\n",
       "      }\n",
       "      attempts++;\n",
       "      if (attempts > 100) {\n",
       "        console.log(\"Bokeh: ERROR: Unable to run BokehJS code because BokehJS library is missing\")\n",
       "        clearInterval(timer);\n",
       "      }\n",
       "    }, 10, root)\n",
       "  }\n",
       "})(window);"
      ],
      "application/vnd.bokehjs_exec.v0+json": ""
     },
     "metadata": {
      "application/vnd.bokehjs_exec.v0+json": {
       "id": "13e30ee5-86b1-4dd8-a74a-9dc2fbbdffed"
      }
     },
     "output_type": "display_data"
    }
   ],
   "source": [
    "from bokeh.models import HoverTool\n",
    "\n",
    "source = ColumnDataSource(\n",
    "        data=dict(\n",
    "            x=[1, 2, 3, 4, 5],\n",
    "            y=[2, 5, 8, 2, 7],\n",
    "            desc=['A', 'b', 'C', 'd', 'E'],\n",
    "        )\n",
    "    )\n",
    "\n",
    "hover = HoverTool(\n",
    "        tooltips=[\n",
    "            (\"index\", \"$index\"),\n",
    "            (\"(x,y)\", \"($x, $y)\"),\n",
    "            (\"desc\", \"@desc\"),\n",
    "        ]\n",
    "    )\n",
    "\n",
    "p = figure(plot_width=300, plot_height=300, tools=[hover], title=\"Mouse over the dots\")\n",
    "\n",
    "p.circle('x', 'y', size=20, source=source)\n",
    "\n",
    "show(p)"
   ]
  },
  {
   "cell_type": "markdown",
   "metadata": {},
   "source": [
    "# Widgets"
   ]
  },
  {
   "cell_type": "markdown",
   "metadata": {},
   "source": [
    "Bokeh supports direct integration with a small basic widget set. Thse can be used in conjunction with a Bokeh Server, or with ``CustomJS`` models to add more interactive capability to your documents. You can see a complete list, with example code in the [Adding Widgets](http://bokeh.pydata.org/en/latest/docs/user_guide/interaction.html#adding-widgets) section of the User's Guide. \n",
    "\n",
    "To use the widgets, include them in a layout like you would a plot object:"
   ]
  },
  {
   "cell_type": "code",
   "execution_count": 5,
   "metadata": {},
   "outputs": [
    {
     "data": {
      "text/html": [
       "\n",
       "<div class=\"bk-root\">\n",
       "    <div class=\"bk-plotdiv\" id=\"e37d3ad6-e4a2-47f8-bb91-adf2cc81defe\"></div>\n",
       "</div>"
      ]
     },
     "metadata": {},
     "output_type": "display_data"
    },
    {
     "data": {
      "application/javascript": [
       "(function(root) {\n",
       "  function embed_document(root) {\n",
       "    \n",
       "  var docs_json = {\"463ec6af-a0a6-4684-b5da-cd8148756273\":{\"roots\":{\"references\":[{\"attributes\":{\"children\":[{\"id\":\"71bf9fe2-b7a4-414b-abfb-9ef48ae6be71\",\"type\":\"Slider\"}]},\"id\":\"485d3e9c-22ea-4202-8bb8-7a15e3be39b0\",\"type\":\"WidgetBox\"},{\"attributes\":{\"callback\":null,\"end\":10,\"start\":0,\"step\":0.1,\"title\":\"foo\",\"value\":1},\"id\":\"71bf9fe2-b7a4-414b-abfb-9ef48ae6be71\",\"type\":\"Slider\"}],\"root_ids\":[\"485d3e9c-22ea-4202-8bb8-7a15e3be39b0\"]},\"title\":\"Bokeh Application\",\"version\":\"0.12.13\"}};\n",
       "  var render_items = [{\"docid\":\"463ec6af-a0a6-4684-b5da-cd8148756273\",\"elementid\":\"e37d3ad6-e4a2-47f8-bb91-adf2cc81defe\",\"modelid\":\"485d3e9c-22ea-4202-8bb8-7a15e3be39b0\"}];\n",
       "  root.Bokeh.embed.embed_items_notebook(docs_json, render_items);\n",
       "\n",
       "  }\n",
       "  if (root.Bokeh !== undefined) {\n",
       "    embed_document(root);\n",
       "  } else {\n",
       "    var attempts = 0;\n",
       "    var timer = setInterval(function(root) {\n",
       "      if (root.Bokeh !== undefined) {\n",
       "        embed_document(root);\n",
       "        clearInterval(timer);\n",
       "      }\n",
       "      attempts++;\n",
       "      if (attempts > 100) {\n",
       "        console.log(\"Bokeh: ERROR: Unable to run BokehJS code because BokehJS library is missing\")\n",
       "        clearInterval(timer);\n",
       "      }\n",
       "    }, 10, root)\n",
       "  }\n",
       "})(window);"
      ],
      "application/vnd.bokehjs_exec.v0+json": ""
     },
     "metadata": {
      "application/vnd.bokehjs_exec.v0+json": {
       "id": "485d3e9c-22ea-4202-8bb8-7a15e3be39b0"
      }
     },
     "output_type": "display_data"
    }
   ],
   "source": [
    "from bokeh.layouts import widgetbox\n",
    "from bokeh.models.widgets import Slider\n",
    "\n",
    "\n",
    "slider = Slider(start=0, end=10, value=1, step=.1, title=\"foo\")\n",
    "\n",
    "show(widgetbox(slider))"
   ]
  },
  {
   "cell_type": "code",
   "execution_count": 6,
   "metadata": {},
   "outputs": [],
   "source": [
    "# EXERCISE: create and show a Select widget \n"
   ]
  },
  {
   "cell_type": "markdown",
   "metadata": {},
   "source": [
    "# CustomJS Callbacks"
   ]
  },
  {
   "cell_type": "code",
   "execution_count": 7,
   "metadata": {},
   "outputs": [
    {
     "data": {
      "text/html": [
       "\n",
       "<div class=\"bk-root\">\n",
       "    <div class=\"bk-plotdiv\" id=\"004b34bf-3fb4-4a5f-ae4a-ea43a322d77c\"></div>\n",
       "</div>"
      ]
     },
     "metadata": {},
     "output_type": "display_data"
    },
    {
     "data": {
      "application/javascript": [
       "(function(root) {\n",
       "  function embed_document(root) {\n",
       "    \n",
       "  var docs_json = {\"bf9f1126-0562-491e-972f-869e7d2d2049\":{\"roots\":{\"references\":[{\"attributes\":{\"callback\":null},\"id\":\"18fed282-e747-4a67-9fbe-db95cf2649b4\",\"type\":\"DataRange1d\"},{\"attributes\":{\"callback\":null,\"column_names\":[\"x\",\"y\"],\"data\":{\"x\":[1,2,3,4,5],\"y\":[2,5,8,2,7]}},\"id\":\"cc020295-009c-4baf-9341-44d6d76a1061\",\"type\":\"ColumnDataSource\"},{\"attributes\":{\"dimension\":1,\"plot\":{\"id\":\"8df586fe-7f86-43de-b516-b9a5db0d22a2\",\"subtype\":\"Figure\",\"type\":\"Plot\"},\"ticker\":{\"id\":\"aea3ad29-4b01-4e09-9229-523bea56ed47\",\"type\":\"BasicTicker\"}},\"id\":\"4066b2db-7aab-49c3-bea2-700e32aa9a36\",\"type\":\"Grid\"},{\"attributes\":{},\"id\":\"aea3ad29-4b01-4e09-9229-523bea56ed47\",\"type\":\"BasicTicker\"},{\"attributes\":{},\"id\":\"395c9b1c-47fa-432a-b249-5b0fcb6c8c6d\",\"type\":\"BasicTickFormatter\"},{\"attributes\":{},\"id\":\"7dd5c852-b1b1-48f1-8d75-7a09b8e4a9ad\",\"type\":\"LinearScale\"},{\"attributes\":{\"fill_color\":{\"value\":\"#1f77b4\"},\"line_color\":{\"value\":\"#1f77b4\"},\"size\":{\"units\":\"screen\",\"value\":20},\"x\":{\"field\":\"x\"},\"y\":{\"field\":\"y\"}},\"id\":\"4fea7fa2-51a2-43f2-a770-0ae51102ce98\",\"type\":\"Circle\"},{\"attributes\":{\"callback\":{\"id\":\"2a139bb8-29c8-4096-9a99-da25927d287f\",\"type\":\"CustomJS\"}},\"id\":\"08b2bcce-797f-4aad-9423-e139e0b2a665\",\"type\":\"TapTool\"},{\"attributes\":{},\"id\":\"418d9659-8d40-4f12-9a81-908343a755e1\",\"type\":\"BasicTickFormatter\"},{\"attributes\":{\"callback\":null},\"id\":\"a3497498-9369-46d6-9284-b914597fa70b\",\"type\":\"DataRange1d\"},{\"attributes\":{\"data_source\":{\"id\":\"cc020295-009c-4baf-9341-44d6d76a1061\",\"type\":\"ColumnDataSource\"},\"glyph\":{\"id\":\"4fea7fa2-51a2-43f2-a770-0ae51102ce98\",\"type\":\"Circle\"},\"hover_glyph\":null,\"muted_glyph\":null,\"nonselection_glyph\":{\"id\":\"992cc7ee-3925-4d7c-9a2f-c8443af0538d\",\"type\":\"Circle\"},\"selection_glyph\":null,\"view\":{\"id\":\"117473c3-ca72-48c8-a728-e3d6cc0fb55d\",\"type\":\"CDSView\"}},\"id\":\"59204ae2-3219-4ea9-90ad-eff753c1deb3\",\"type\":\"GlyphRenderer\"},{\"attributes\":{\"active_drag\":\"auto\",\"active_inspect\":\"auto\",\"active_scroll\":\"auto\",\"active_tap\":\"auto\",\"tools\":[{\"id\":\"08b2bcce-797f-4aad-9423-e139e0b2a665\",\"type\":\"TapTool\"}]},\"id\":\"13727b25-883c-489e-be31-e0fb44ff1c87\",\"type\":\"Toolbar\"},{\"attributes\":{\"source\":{\"id\":\"cc020295-009c-4baf-9341-44d6d76a1061\",\"type\":\"ColumnDataSource\"}},\"id\":\"117473c3-ca72-48c8-a728-e3d6cc0fb55d\",\"type\":\"CDSView\"},{\"attributes\":{},\"id\":\"10b44670-9891-4c5c-b2e3-757b44c537b5\",\"type\":\"LinearScale\"},{\"attributes\":{\"formatter\":{\"id\":\"418d9659-8d40-4f12-9a81-908343a755e1\",\"type\":\"BasicTickFormatter\"},\"plot\":{\"id\":\"8df586fe-7f86-43de-b516-b9a5db0d22a2\",\"subtype\":\"Figure\",\"type\":\"Plot\"},\"ticker\":{\"id\":\"0e207fe5-17ed-41ed-b954-2645f3f78951\",\"type\":\"BasicTicker\"}},\"id\":\"9ecfd6e9-cf0b-4730-8ef7-52a4d6609cc1\",\"type\":\"LinearAxis\"},{\"attributes\":{\"plot\":{\"id\":\"8df586fe-7f86-43de-b516-b9a5db0d22a2\",\"subtype\":\"Figure\",\"type\":\"Plot\"},\"ticker\":{\"id\":\"0e207fe5-17ed-41ed-b954-2645f3f78951\",\"type\":\"BasicTicker\"}},\"id\":\"9ba8b52c-c0c8-426b-aee4-a3eaab24848f\",\"type\":\"Grid\"},{\"attributes\":{\"fill_alpha\":{\"value\":0.1},\"fill_color\":{\"value\":\"#1f77b4\"},\"line_alpha\":{\"value\":0.1},\"line_color\":{\"value\":\"#1f77b4\"},\"size\":{\"units\":\"screen\",\"value\":20},\"x\":{\"field\":\"x\"},\"y\":{\"field\":\"y\"}},\"id\":\"992cc7ee-3925-4d7c-9a2f-c8443af0538d\",\"type\":\"Circle\"},{\"attributes\":{\"plot\":null,\"text\":\"\"},\"id\":\"afa2acb1-26be-47dc-aed1-5ccf808fadb4\",\"type\":\"Title\"},{\"attributes\":{\"code\":\"alert('hello world')\"},\"id\":\"2a139bb8-29c8-4096-9a99-da25927d287f\",\"type\":\"CustomJS\"},{\"attributes\":{\"formatter\":{\"id\":\"395c9b1c-47fa-432a-b249-5b0fcb6c8c6d\",\"type\":\"BasicTickFormatter\"},\"plot\":{\"id\":\"8df586fe-7f86-43de-b516-b9a5db0d22a2\",\"subtype\":\"Figure\",\"type\":\"Plot\"},\"ticker\":{\"id\":\"aea3ad29-4b01-4e09-9229-523bea56ed47\",\"type\":\"BasicTicker\"}},\"id\":\"6204b6d1-781e-49af-8ae9-075082b10128\",\"type\":\"LinearAxis\"},{\"attributes\":{\"below\":[{\"id\":\"9ecfd6e9-cf0b-4730-8ef7-52a4d6609cc1\",\"type\":\"LinearAxis\"}],\"left\":[{\"id\":\"6204b6d1-781e-49af-8ae9-075082b10128\",\"type\":\"LinearAxis\"}],\"plot_height\":300,\"renderers\":[{\"id\":\"9ecfd6e9-cf0b-4730-8ef7-52a4d6609cc1\",\"type\":\"LinearAxis\"},{\"id\":\"9ba8b52c-c0c8-426b-aee4-a3eaab24848f\",\"type\":\"Grid\"},{\"id\":\"6204b6d1-781e-49af-8ae9-075082b10128\",\"type\":\"LinearAxis\"},{\"id\":\"4066b2db-7aab-49c3-bea2-700e32aa9a36\",\"type\":\"Grid\"},{\"id\":\"59204ae2-3219-4ea9-90ad-eff753c1deb3\",\"type\":\"GlyphRenderer\"}],\"title\":{\"id\":\"afa2acb1-26be-47dc-aed1-5ccf808fadb4\",\"type\":\"Title\"},\"toolbar\":{\"id\":\"13727b25-883c-489e-be31-e0fb44ff1c87\",\"type\":\"Toolbar\"},\"x_range\":{\"id\":\"a3497498-9369-46d6-9284-b914597fa70b\",\"type\":\"DataRange1d\"},\"x_scale\":{\"id\":\"10b44670-9891-4c5c-b2e3-757b44c537b5\",\"type\":\"LinearScale\"},\"y_range\":{\"id\":\"18fed282-e747-4a67-9fbe-db95cf2649b4\",\"type\":\"DataRange1d\"},\"y_scale\":{\"id\":\"7dd5c852-b1b1-48f1-8d75-7a09b8e4a9ad\",\"type\":\"LinearScale\"}},\"id\":\"8df586fe-7f86-43de-b516-b9a5db0d22a2\",\"subtype\":\"Figure\",\"type\":\"Plot\"},{\"attributes\":{},\"id\":\"0e207fe5-17ed-41ed-b954-2645f3f78951\",\"type\":\"BasicTicker\"}],\"root_ids\":[\"8df586fe-7f86-43de-b516-b9a5db0d22a2\"]},\"title\":\"Bokeh Application\",\"version\":\"0.12.13\"}};\n",
       "  var render_items = [{\"docid\":\"bf9f1126-0562-491e-972f-869e7d2d2049\",\"elementid\":\"004b34bf-3fb4-4a5f-ae4a-ea43a322d77c\",\"modelid\":\"8df586fe-7f86-43de-b516-b9a5db0d22a2\"}];\n",
       "  root.Bokeh.embed.embed_items_notebook(docs_json, render_items);\n",
       "\n",
       "  }\n",
       "  if (root.Bokeh !== undefined) {\n",
       "    embed_document(root);\n",
       "  } else {\n",
       "    var attempts = 0;\n",
       "    var timer = setInterval(function(root) {\n",
       "      if (root.Bokeh !== undefined) {\n",
       "        embed_document(root);\n",
       "        clearInterval(timer);\n",
       "      }\n",
       "      attempts++;\n",
       "      if (attempts > 100) {\n",
       "        console.log(\"Bokeh: ERROR: Unable to run BokehJS code because BokehJS library is missing\")\n",
       "        clearInterval(timer);\n",
       "      }\n",
       "    }, 10, root)\n",
       "  }\n",
       "})(window);"
      ],
      "application/vnd.bokehjs_exec.v0+json": ""
     },
     "metadata": {
      "application/vnd.bokehjs_exec.v0+json": {
       "id": "8df586fe-7f86-43de-b516-b9a5db0d22a2"
      }
     },
     "output_type": "display_data"
    }
   ],
   "source": [
    "from bokeh.models import TapTool, CustomJS, ColumnDataSource\n",
    "\n",
    "callback = CustomJS(code=\"alert('hello world')\")\n",
    "tap = TapTool(callback=callback)\n",
    "\n",
    "p = figure(plot_width=600, plot_height=300, tools=[tap])\n",
    "\n",
    "p.circle(x=[1, 2, 3, 4, 5], y=[2, 5, 8, 2, 7], size=20)\n",
    "\n",
    "show(p)"
   ]
  },
  {
   "cell_type": "markdown",
   "metadata": {},
   "source": [
    "## Lots of places to add callbacks\n",
    "\n",
    "* Widgets - Button, Toggle, Dropdown, TextInput, AutocompleteInput, Select, Multiselect, Slider, (DateRangeSlider), DatePicker,\n",
    "* Tools - TapTool, BoxSelectTool, HoverTool,\n",
    "* Selection - ColumnDataSource, AjaxDataSource, BlazeDataSource, ServerDataSource\n",
    "* Ranges - Range1d, DataRange1d, FactorRange\n"
   ]
  },
  {
   "cell_type": "markdown",
   "metadata": {},
   "source": [
    "## Callbacks for widgets\n",
    "\n",
    "Widgets that have values associated can have small JavaScript actions attached to them. These actions (also referred to as \"callbacks\") are executed whenever the widget's value is changed. In order to make it easier to refer to specific Bokeh models (e.g., a data source, or a glyhph) from JavaScript, the ``CustomJS`` obejct also accepts a dictionary of \"args\" that map names to Python Bokeh models. The corresponding JavaScript models are made available automaticaly to the ``CustomJS`` code. \n",
    "\n",
    "And example below shows an action attached to a slider that updates a data source whenever the slider is moved:"
   ]
  },
  {
   "cell_type": "code",
   "execution_count": 3,
   "metadata": {},
   "outputs": [
    {
     "data": {
      "text/html": [
       "\n",
       "<div class=\"bk-root\">\n",
       "    <div class=\"bk-plotdiv\" id=\"5e68fed7-ec2c-40b5-b809-7c706302b3ff\"></div>\n",
       "</div>"
      ]
     },
     "metadata": {},
     "output_type": "display_data"
    },
    {
     "data": {
      "application/javascript": [
       "(function(root) {\n",
       "  function embed_document(root) {\n",
       "    \n",
       "  var docs_json = {\"73d3645c-6eee-4c26-b162-0c204bc62466\":{\"roots\":{\"references\":[{\"attributes\":{\"callback\":null,\"end\":6,\"js_property_callbacks\":{\"change:value\":[{\"id\":\"3ac8f3a0-b3ff-40c8-b6f1-b6402cde11f2\",\"type\":\"CustomJS\"}]},\"start\":0.1,\"step\":0.1,\"title\":\"power\",\"value\":1},\"id\":\"19cb042f-d2c3-47c6-b323-10b2af3aedcf\",\"type\":\"Slider\"},{\"attributes\":{\"callback\":null,\"column_names\":[\"x\",\"y\"],\"data\":{\"x\":[0.0,0.005,0.01,0.015,0.02,0.025,0.03,0.035,0.04,0.045,0.05,0.055,0.06,0.065,0.07,0.075,0.08,0.085,0.09,0.095,0.1,0.105,0.11,0.115,0.12,0.125,0.13,0.135,0.14,0.145,0.15,0.155,0.16,0.165,0.17,0.17500000000000002,0.18,0.185,0.19,0.195,0.2,0.20500000000000002,0.21,0.215,0.22,0.225,0.23,0.23500000000000001,0.24,0.245,0.25,0.255,0.26,0.265,0.27,0.275,0.28,0.28500000000000003,0.29,0.295,0.3,0.305,0.31,0.315,0.32,0.325,0.33,0.335,0.34,0.34500000000000003,0.35000000000000003,0.355,0.36,0.365,0.37,0.375,0.38,0.385,0.39,0.395,0.4,0.405,0.41000000000000003,0.41500000000000004,0.42,0.425,0.43,0.435,0.44,0.445,0.45,0.455,0.46,0.465,0.47000000000000003,0.47500000000000003,0.48,0.485,0.49,0.495,0.5,0.505,0.51,0.515,0.52,0.525,0.53,0.535,0.54,0.545,0.55,0.555,0.56,0.5650000000000001,0.5700000000000001,0.5750000000000001,0.58,0.585,0.59,0.595,0.6,0.605,0.61,0.615,0.62,0.625,0.63,0.635,0.64,0.645,0.65,0.655,0.66,0.665,0.67,0.675,0.68,0.685,0.6900000000000001,0.6950000000000001,0.7000000000000001,0.705,0.71,0.715,0.72,0.725,0.73,0.735,0.74,0.745,0.75,0.755,0.76,0.765,0.77,0.775,0.78,0.785,0.79,0.795,0.8,0.805,0.81,0.8150000000000001,0.8200000000000001,0.8250000000000001,0.8300000000000001,0.835,0.84,0.845,0.85,0.855,0.86,0.865,0.87,0.875,0.88,0.885,0.89,0.895,0.9,0.905,0.91,0.915,0.92,0.925,0.93,0.935,0.9400000000000001,0.9450000000000001,0.9500000000000001,0.9550000000000001,0.96,0.965,0.97,0.975,0.98,0.985,0.99,0.995,1.0],\"y\":[0.0,0.005,0.01,0.015,0.02,0.025,0.03,0.035,0.04,0.045,0.05,0.055,0.06,0.065,0.07,0.075,0.08,0.085,0.09,0.095,0.1,0.105,0.11,0.115,0.12,0.125,0.13,0.135,0.14,0.145,0.15,0.155,0.16,0.165,0.17,0.17500000000000002,0.18,0.185,0.19,0.195,0.2,0.20500000000000002,0.21,0.215,0.22,0.225,0.23,0.23500000000000001,0.24,0.245,0.25,0.255,0.26,0.265,0.27,0.275,0.28,0.28500000000000003,0.29,0.295,0.3,0.305,0.31,0.315,0.32,0.325,0.33,0.335,0.34,0.34500000000000003,0.35000000000000003,0.355,0.36,0.365,0.37,0.375,0.38,0.385,0.39,0.395,0.4,0.405,0.41000000000000003,0.41500000000000004,0.42,0.425,0.43,0.435,0.44,0.445,0.45,0.455,0.46,0.465,0.47000000000000003,0.47500000000000003,0.48,0.485,0.49,0.495,0.5,0.505,0.51,0.515,0.52,0.525,0.53,0.535,0.54,0.545,0.55,0.555,0.56,0.5650000000000001,0.5700000000000001,0.5750000000000001,0.58,0.585,0.59,0.595,0.6,0.605,0.61,0.615,0.62,0.625,0.63,0.635,0.64,0.645,0.65,0.655,0.66,0.665,0.67,0.675,0.68,0.685,0.6900000000000001,0.6950000000000001,0.7000000000000001,0.705,0.71,0.715,0.72,0.725,0.73,0.735,0.74,0.745,0.75,0.755,0.76,0.765,0.77,0.775,0.78,0.785,0.79,0.795,0.8,0.805,0.81,0.8150000000000001,0.8200000000000001,0.8250000000000001,0.8300000000000001,0.835,0.84,0.845,0.85,0.855,0.86,0.865,0.87,0.875,0.88,0.885,0.89,0.895,0.9,0.905,0.91,0.915,0.92,0.925,0.93,0.935,0.9400000000000001,0.9450000000000001,0.9500000000000001,0.9550000000000001,0.96,0.965,0.97,0.975,0.98,0.985,0.99,0.995,1.0]}},\"id\":\"e913b3ff-5862-409a-8344-472d8274b635\",\"type\":\"ColumnDataSource\"},{\"attributes\":{\"data_source\":{\"id\":\"e913b3ff-5862-409a-8344-472d8274b635\",\"type\":\"ColumnDataSource\"},\"glyph\":{\"id\":\"b531ad0b-8e2e-43aa-9455-8c3706461902\",\"type\":\"Line\"},\"hover_glyph\":null,\"muted_glyph\":null,\"nonselection_glyph\":{\"id\":\"6be55a3b-5384-447d-bbb6-5ccd51c20333\",\"type\":\"Line\"},\"selection_glyph\":null,\"view\":{\"id\":\"9463237e-e812-4907-b29e-4f205e5b6da8\",\"type\":\"CDSView\"}},\"id\":\"fd970748-e945-4ed8-b5df-3ef591258b82\",\"type\":\"GlyphRenderer\"},{\"attributes\":{},\"id\":\"1ef3a090-7882-4c9e-abdf-fab0515b1705\",\"type\":\"PanTool\"},{\"attributes\":{\"active_drag\":\"auto\",\"active_inspect\":\"auto\",\"active_scroll\":\"auto\",\"active_tap\":\"auto\",\"tools\":[{\"id\":\"1ef3a090-7882-4c9e-abdf-fab0515b1705\",\"type\":\"PanTool\"},{\"id\":\"4de190e6-b986-4fa1-82b0-a8e6529b7792\",\"type\":\"WheelZoomTool\"},{\"id\":\"18255c5a-9fcc-4bba-bb06-cc9dd3ce5512\",\"type\":\"BoxZoomTool\"},{\"id\":\"76aa6e0b-f38c-4f79-b85b-558f1c374a9b\",\"type\":\"SaveTool\"},{\"id\":\"937b9fbe-8fbf-46a8-8534-014290bb771c\",\"type\":\"ResetTool\"},{\"id\":\"cb85acca-1d34-4424-9c0d-7ab0db388840\",\"type\":\"HelpTool\"}]},\"id\":\"511ba455-beed-4540-8aa8-04b8c63034b7\",\"type\":\"Toolbar\"},{\"attributes\":{},\"id\":\"83e4f033-d45d-4fb4-b842-d1091f81f126\",\"type\":\"BasicTickFormatter\"},{\"attributes\":{\"callback\":null},\"id\":\"580e1f84-3b88-45f5-a888-f746fd935c67\",\"type\":\"DataRange1d\"},{\"attributes\":{},\"id\":\"4de190e6-b986-4fa1-82b0-a8e6529b7792\",\"type\":\"WheelZoomTool\"},{\"attributes\":{\"source\":{\"id\":\"e913b3ff-5862-409a-8344-472d8274b635\",\"type\":\"ColumnDataSource\"}},\"id\":\"9463237e-e812-4907-b29e-4f205e5b6da8\",\"type\":\"CDSView\"},{\"attributes\":{\"overlay\":{\"id\":\"67e0abe8-82e2-4423-b947-9f56b0991311\",\"type\":\"BoxAnnotation\"}},\"id\":\"18255c5a-9fcc-4bba-bb06-cc9dd3ce5512\",\"type\":\"BoxZoomTool\"},{\"attributes\":{},\"id\":\"76aa6e0b-f38c-4f79-b85b-558f1c374a9b\",\"type\":\"SaveTool\"},{\"attributes\":{},\"id\":\"937b9fbe-8fbf-46a8-8534-014290bb771c\",\"type\":\"ResetTool\"},{\"attributes\":{\"callback\":null},\"id\":\"c8b0053c-9cd0-4076-a473-e3252c26b332\",\"type\":\"DataRange1d\"},{\"attributes\":{},\"id\":\"cb85acca-1d34-4424-9c0d-7ab0db388840\",\"type\":\"HelpTool\"},{\"attributes\":{},\"id\":\"66bc6646-f6b5-41bf-8bdd-206cce76d1f3\",\"type\":\"LinearScale\"},{\"attributes\":{},\"id\":\"e502bba1-e32d-48a0-ab57-8b936612d94e\",\"type\":\"LinearScale\"},{\"attributes\":{\"formatter\":{\"id\":\"61220fbf-5b36-4614-ba8b-a79b96825c0f\",\"type\":\"BasicTickFormatter\"},\"plot\":{\"id\":\"debb974f-e993-4d26-8ea5-463fbc76b063\",\"subtype\":\"Figure\",\"type\":\"Plot\"},\"ticker\":{\"id\":\"6b4b830f-edf9-4ea5-8a25-2a507bef6486\",\"type\":\"BasicTicker\"}},\"id\":\"bd4af628-6c90-4e88-a5a0-c5fba77e9e37\",\"type\":\"LinearAxis\"},{\"attributes\":{\"formatter\":{\"id\":\"83e4f033-d45d-4fb4-b842-d1091f81f126\",\"type\":\"BasicTickFormatter\"},\"plot\":{\"id\":\"debb974f-e993-4d26-8ea5-463fbc76b063\",\"subtype\":\"Figure\",\"type\":\"Plot\"},\"ticker\":{\"id\":\"1ba730bc-cde2-4992-af6e-f15059d3ef5e\",\"type\":\"BasicTicker\"}},\"id\":\"74a3c2bf-1f70-4ac9-8537-1d739a2b7844\",\"type\":\"LinearAxis\"},{\"attributes\":{},\"id\":\"1ba730bc-cde2-4992-af6e-f15059d3ef5e\",\"type\":\"BasicTicker\"},{\"attributes\":{},\"id\":\"61220fbf-5b36-4614-ba8b-a79b96825c0f\",\"type\":\"BasicTickFormatter\"},{\"attributes\":{\"children\":[{\"id\":\"d11bfb71-5637-4fc9-8281-00e6bb3715cb\",\"type\":\"WidgetBox\"},{\"id\":\"debb974f-e993-4d26-8ea5-463fbc76b063\",\"subtype\":\"Figure\",\"type\":\"Plot\"}]},\"id\":\"972108fc-2bcc-484c-b838-da681ce2efb1\",\"type\":\"Column\"},{\"attributes\":{\"plot\":null,\"text\":\"\"},\"id\":\"e676aaa5-c176-4dae-8cda-0bf7e102b459\",\"type\":\"Title\"},{\"attributes\":{},\"id\":\"6b4b830f-edf9-4ea5-8a25-2a507bef6486\",\"type\":\"BasicTicker\"},{\"attributes\":{\"line_alpha\":0.6,\"line_color\":\"#1f77b4\",\"line_width\":3,\"x\":{\"field\":\"x\"},\"y\":{\"field\":\"y\"}},\"id\":\"b531ad0b-8e2e-43aa-9455-8c3706461902\",\"type\":\"Line\"},{\"attributes\":{\"dimension\":1,\"plot\":{\"id\":\"debb974f-e993-4d26-8ea5-463fbc76b063\",\"subtype\":\"Figure\",\"type\":\"Plot\"},\"ticker\":{\"id\":\"6b4b830f-edf9-4ea5-8a25-2a507bef6486\",\"type\":\"BasicTicker\"}},\"id\":\"32615b43-5b70-4bfb-ae7d-853505fbb854\",\"type\":\"Grid\"},{\"attributes\":{\"below\":[{\"id\":\"74a3c2bf-1f70-4ac9-8537-1d739a2b7844\",\"type\":\"LinearAxis\"}],\"left\":[{\"id\":\"bd4af628-6c90-4e88-a5a0-c5fba77e9e37\",\"type\":\"LinearAxis\"}],\"plot_height\":400,\"plot_width\":400,\"renderers\":[{\"id\":\"74a3c2bf-1f70-4ac9-8537-1d739a2b7844\",\"type\":\"LinearAxis\"},{\"id\":\"c31579fd-2c03-46ee-8493-6a0063ee7209\",\"type\":\"Grid\"},{\"id\":\"bd4af628-6c90-4e88-a5a0-c5fba77e9e37\",\"type\":\"LinearAxis\"},{\"id\":\"32615b43-5b70-4bfb-ae7d-853505fbb854\",\"type\":\"Grid\"},{\"id\":\"67e0abe8-82e2-4423-b947-9f56b0991311\",\"type\":\"BoxAnnotation\"},{\"id\":\"fd970748-e945-4ed8-b5df-3ef591258b82\",\"type\":\"GlyphRenderer\"}],\"title\":{\"id\":\"e676aaa5-c176-4dae-8cda-0bf7e102b459\",\"type\":\"Title\"},\"toolbar\":{\"id\":\"511ba455-beed-4540-8aa8-04b8c63034b7\",\"type\":\"Toolbar\"},\"x_range\":{\"id\":\"580e1f84-3b88-45f5-a888-f746fd935c67\",\"type\":\"DataRange1d\"},\"x_scale\":{\"id\":\"66bc6646-f6b5-41bf-8bdd-206cce76d1f3\",\"type\":\"LinearScale\"},\"y_range\":{\"id\":\"c8b0053c-9cd0-4076-a473-e3252c26b332\",\"type\":\"DataRange1d\"},\"y_scale\":{\"id\":\"e502bba1-e32d-48a0-ab57-8b936612d94e\",\"type\":\"LinearScale\"}},\"id\":\"debb974f-e993-4d26-8ea5-463fbc76b063\",\"subtype\":\"Figure\",\"type\":\"Plot\"},{\"attributes\":{\"line_alpha\":0.1,\"line_color\":\"#1f77b4\",\"line_width\":3,\"x\":{\"field\":\"x\"},\"y\":{\"field\":\"y\"}},\"id\":\"6be55a3b-5384-447d-bbb6-5ccd51c20333\",\"type\":\"Line\"},{\"attributes\":{\"args\":{\"slider\":{\"id\":\"19cb042f-d2c3-47c6-b323-10b2af3aedcf\",\"type\":\"Slider\"},\"source\":{\"id\":\"e913b3ff-5862-409a-8344-472d8274b635\",\"type\":\"ColumnDataSource\"}},\"code\":\"\\n    var data = source.get('data');\\n    var f = slider.value;\\n    x = data['x']\\n    y = data['y']\\n    for (i = 0; i < x.length; i++) {\\n        y[i] = Math.pow(x[i], f)\\n    }\\n    source.change.emit();\\n\"},\"id\":\"3ac8f3a0-b3ff-40c8-b6f1-b6402cde11f2\",\"type\":\"CustomJS\"},{\"attributes\":{\"bottom_units\":\"screen\",\"fill_alpha\":{\"value\":0.5},\"fill_color\":{\"value\":\"lightgrey\"},\"left_units\":\"screen\",\"level\":\"overlay\",\"line_alpha\":{\"value\":1.0},\"line_color\":{\"value\":\"black\"},\"line_dash\":[4,4],\"line_width\":{\"value\":2},\"plot\":null,\"render_mode\":\"css\",\"right_units\":\"screen\",\"top_units\":\"screen\"},\"id\":\"67e0abe8-82e2-4423-b947-9f56b0991311\",\"type\":\"BoxAnnotation\"},{\"attributes\":{\"plot\":{\"id\":\"debb974f-e993-4d26-8ea5-463fbc76b063\",\"subtype\":\"Figure\",\"type\":\"Plot\"},\"ticker\":{\"id\":\"1ba730bc-cde2-4992-af6e-f15059d3ef5e\",\"type\":\"BasicTicker\"}},\"id\":\"c31579fd-2c03-46ee-8493-6a0063ee7209\",\"type\":\"Grid\"},{\"attributes\":{\"children\":[{\"id\":\"19cb042f-d2c3-47c6-b323-10b2af3aedcf\",\"type\":\"Slider\"}]},\"id\":\"d11bfb71-5637-4fc9-8281-00e6bb3715cb\",\"type\":\"WidgetBox\"}],\"root_ids\":[\"972108fc-2bcc-484c-b838-da681ce2efb1\"]},\"title\":\"Bokeh Application\",\"version\":\"0.12.13\"}};\n",
       "  var render_items = [{\"docid\":\"73d3645c-6eee-4c26-b162-0c204bc62466\",\"elementid\":\"5e68fed7-ec2c-40b5-b809-7c706302b3ff\",\"modelid\":\"972108fc-2bcc-484c-b838-da681ce2efb1\"}];\n",
       "  root.Bokeh.embed.embed_items_notebook(docs_json, render_items);\n",
       "\n",
       "  }\n",
       "  if (root.Bokeh !== undefined) {\n",
       "    embed_document(root);\n",
       "  } else {\n",
       "    var attempts = 0;\n",
       "    var timer = setInterval(function(root) {\n",
       "      if (root.Bokeh !== undefined) {\n",
       "        embed_document(root);\n",
       "        clearInterval(timer);\n",
       "      }\n",
       "      attempts++;\n",
       "      if (attempts > 100) {\n",
       "        console.log(\"Bokeh: ERROR: Unable to run BokehJS code because BokehJS library is missing\")\n",
       "        clearInterval(timer);\n",
       "      }\n",
       "    }, 10, root)\n",
       "  }\n",
       "})(window);"
      ],
      "application/vnd.bokehjs_exec.v0+json": ""
     },
     "metadata": {
      "application/vnd.bokehjs_exec.v0+json": {
       "id": "972108fc-2bcc-484c-b838-da681ce2efb1"
      }
     },
     "output_type": "display_data"
    }
   ],
   "source": [
    "from bokeh.layouts import column\n",
    "from bokeh.models import CustomJS, ColumnDataSource, Slider\n",
    "\n",
    "x = [x*0.005 for x in range(0, 201)]\n",
    "\n",
    "source = ColumnDataSource(data=dict(x=x, y=x))\n",
    "\n",
    "plot = figure(plot_width=400, plot_height=400)\n",
    "plot.line('x', 'y', source=source, line_width=3, line_alpha=0.6)\n",
    "\n",
    "slider = Slider(start=0.1, end=6, value=1, step=.1, title=\"power\")\n",
    "\n",
    "update_curve = CustomJS(args=dict(source=source, slider=slider), code=\"\"\"\n",
    "    var data = source.get('data');\n",
    "    var f = slider.value;\n",
    "    x = data['x']\n",
    "    y = data['y']\n",
    "    for (i = 0; i < x.length; i++) {\n",
    "        y[i] = Math.pow(x[i], f)\n",
    "    }\n",
    "    source.change.emit();\n",
    "\"\"\")\n",
    "slider.js_on_change('value', update_curve)\n",
    "\n",
    "\n",
    "show(column(slider, plot))"
   ]
  },
  {
   "cell_type": "markdown",
   "metadata": {},
   "source": [
    "## Calbacks for selections\n",
    "\n",
    "It's also possible to make JavaScript actions that execute whenever a user selection (e.g., box, point, lasso) changes. This is done by attaching the same kind of CustomJS object to whatever data source the selection is made on.\n",
    "\n",
    "The example below is a bit more sophisticated, and demonstrates updating one glyph's data source in response to another glyph's selection: "
   ]
  },
  {
   "cell_type": "code",
   "execution_count": 9,
   "metadata": {},
   "outputs": [
    {
     "data": {
      "text/html": [
       "\n",
       "<div class=\"bk-root\">\n",
       "    <div class=\"bk-plotdiv\" id=\"02c39294-d474-4b6d-af21-5f46667546a9\"></div>\n",
       "</div>"
      ]
     },
     "metadata": {},
     "output_type": "display_data"
    },
    {
     "data": {
      "application/javascript": [
       "(function(root) {\n",
       "  function embed_document(root) {\n",
       "    \n",
       "  var docs_json = {\"665b7ddc-99f9-4509-8b28-a20af8e49c74\":{\"roots\":{\"references\":[{\"attributes\":{\"below\":[{\"id\":\"2411fff5-726c-417a-88fd-8ae424f7cc78\",\"type\":\"LinearAxis\"}],\"left\":[{\"id\":\"b5f7375d-7d50-411b-b6cb-f0dd5ea235e0\",\"type\":\"LinearAxis\"}],\"plot_height\":400,\"plot_width\":400,\"renderers\":[{\"id\":\"2411fff5-726c-417a-88fd-8ae424f7cc78\",\"type\":\"LinearAxis\"},{\"id\":\"56df1f18-f227-4cd6-8f9b-808437d79587\",\"type\":\"Grid\"},{\"id\":\"b5f7375d-7d50-411b-b6cb-f0dd5ea235e0\",\"type\":\"LinearAxis\"},{\"id\":\"f88cf2c2-ddfb-47ab-9287-3c86ca7082c1\",\"type\":\"Grid\"},{\"id\":\"a5def7c9-b249-4c78-bedb-a67bb5a473ea\",\"type\":\"PolyAnnotation\"},{\"id\":\"af881f68-fe54-40c2-9a9c-824c43cbe045\",\"type\":\"GlyphRenderer\"},{\"id\":\"3747f9eb-5a35-4bd1-b2e2-47d0aa976e0f\",\"type\":\"GlyphRenderer\"}],\"title\":{\"id\":\"e787c9a0-4cfe-453a-abbb-b2b2f079d35e\",\"type\":\"Title\"},\"toolbar\":{\"id\":\"c56b754c-762b-435f-8dc5-f1953d62f027\",\"type\":\"Toolbar\"},\"x_range\":{\"id\":\"f540032d-8212-4a0f-80d2-9f709227067a\",\"type\":\"DataRange1d\"},\"x_scale\":{\"id\":\"b4902a7c-12af-4110-8723-2700a9ab7d5b\",\"type\":\"LinearScale\"},\"y_range\":{\"id\":\"8aa6ce37-b474-48d6-ad68-25836eb902ae\",\"type\":\"DataRange1d\"},\"y_scale\":{\"id\":\"dfebe108-3080-4b75-8048-29da052181df\",\"type\":\"LinearScale\"}},\"id\":\"d0dc79c3-eb0e-44c3-97d4-c60735d03ccd\",\"subtype\":\"Figure\",\"type\":\"Plot\"},{\"attributes\":{\"data_source\":{\"id\":\"53d3e079-d5ec-44fc-b0c8-8c94f36452a6\",\"type\":\"ColumnDataSource\"},\"glyph\":{\"id\":\"cd9ae300-4460-4eec-a2db-269c450eae64\",\"type\":\"Line\"},\"hover_glyph\":null,\"muted_glyph\":null,\"nonselection_glyph\":{\"id\":\"a0d38a87-abf9-43fa-80cf-3bf6b003f240\",\"type\":\"Line\"},\"selection_glyph\":null,\"view\":{\"id\":\"a3a34cf4-2c95-4417-b393-430fccf34513\",\"type\":\"CDSView\"}},\"id\":\"3747f9eb-5a35-4bd1-b2e2-47d0aa976e0f\",\"type\":\"GlyphRenderer\"},{\"attributes\":{\"callback\":null},\"id\":\"8aa6ce37-b474-48d6-ad68-25836eb902ae\",\"type\":\"DataRange1d\"},{\"attributes\":{\"callback\":null,\"column_names\":[\"xm\",\"ym\"],\"data\":{\"xm\":[0,1],\"ym\":[0.5,0.5]}},\"id\":\"53d3e079-d5ec-44fc-b0c8-8c94f36452a6\",\"type\":\"ColumnDataSource\"},{\"attributes\":{\"active_drag\":\"auto\",\"active_inspect\":\"auto\",\"active_scroll\":\"auto\",\"active_tap\":\"auto\",\"tools\":[{\"id\":\"bfd836b7-35c5-4bbd-95a5-0c88e65e6424\",\"type\":\"LassoSelectTool\"}]},\"id\":\"c56b754c-762b-435f-8dc5-f1953d62f027\",\"type\":\"Toolbar\"},{\"attributes\":{},\"id\":\"19178ed0-fc70-46fd-82c6-20d94d3f1e86\",\"type\":\"BasicTickFormatter\"},{\"attributes\":{\"callback\":null,\"overlay\":{\"id\":\"a5def7c9-b249-4c78-bedb-a67bb5a473ea\",\"type\":\"PolyAnnotation\"}},\"id\":\"bfd836b7-35c5-4bbd-95a5-0c88e65e6424\",\"type\":\"LassoSelectTool\"},{\"attributes\":{\"callback\":null},\"id\":\"f540032d-8212-4a0f-80d2-9f709227067a\",\"type\":\"DataRange1d\"},{\"attributes\":{\"fill_alpha\":{\"value\":0.1},\"fill_color\":{\"value\":\"#1f77b4\"},\"line_alpha\":{\"value\":0.1},\"line_color\":{\"value\":\"#1f77b4\"},\"size\":{\"units\":\"screen\",\"value\":8},\"x\":{\"field\":\"x\"},\"y\":{\"field\":\"y\"}},\"id\":\"3f6b9386-2eb8-4386-bf22-104b25cecd4b\",\"type\":\"Circle\"},{\"attributes\":{\"args\":{\"s2\":{\"id\":\"53d3e079-d5ec-44fc-b0c8-8c94f36452a6\",\"type\":\"ColumnDataSource\"}},\"code\":\"\\n    var inds = cb_obj.get('selected')['1d'].indices;\\n    var d = cb_obj.get('data');\\n    var ym = 0\\n    \\n    if (inds.length == 0) { return; }\\n    \\n    for (i = 0; i < d['color'].length; i++) {\\n        d['color'][i] = \\\"navy\\\"\\n    }\\n    for (i = 0; i < inds.length; i++) {\\n        d['color'][inds[i]] = \\\"firebrick\\\"\\n        ym += d['y'][inds[i]]\\n    }\\n    \\n    ym /= inds.length\\n    s2.get('data')['ym'] = [ym, ym]\\n    \\n    cb_obj.trigger('change');\\n    s2.trigger('change');\\n\"},\"id\":\"386efc16-ba0c-4f6b-b0d0-060268008fd6\",\"type\":\"CustomJS\"},{\"attributes\":{\"line_alpha\":0.1,\"line_color\":\"#1f77b4\",\"line_width\":5,\"x\":{\"field\":\"xm\"},\"y\":{\"field\":\"ym\"}},\"id\":\"a0d38a87-abf9-43fa-80cf-3bf6b003f240\",\"type\":\"Line\"},{\"attributes\":{\"line_alpha\":0.6,\"line_color\":\"orange\",\"line_width\":5,\"x\":{\"field\":\"xm\"},\"y\":{\"field\":\"ym\"}},\"id\":\"cd9ae300-4460-4eec-a2db-269c450eae64\",\"type\":\"Line\"},{\"attributes\":{},\"id\":\"b4902a7c-12af-4110-8723-2700a9ab7d5b\",\"type\":\"LinearScale\"},{\"attributes\":{},\"id\":\"dfebe108-3080-4b75-8048-29da052181df\",\"type\":\"LinearScale\"},{\"attributes\":{\"source\":{\"id\":\"53d3e079-d5ec-44fc-b0c8-8c94f36452a6\",\"type\":\"ColumnDataSource\"}},\"id\":\"a3a34cf4-2c95-4417-b393-430fccf34513\",\"type\":\"CDSView\"},{\"attributes\":{\"plot\":{\"id\":\"d0dc79c3-eb0e-44c3-97d4-c60735d03ccd\",\"subtype\":\"Figure\",\"type\":\"Plot\"},\"ticker\":{\"id\":\"9ad1f4ac-2063-457b-b39c-3f818865e4a9\",\"type\":\"BasicTicker\"}},\"id\":\"56df1f18-f227-4cd6-8f9b-808437d79587\",\"type\":\"Grid\"},{\"attributes\":{\"formatter\":{\"id\":\"19178ed0-fc70-46fd-82c6-20d94d3f1e86\",\"type\":\"BasicTickFormatter\"},\"plot\":{\"id\":\"d0dc79c3-eb0e-44c3-97d4-c60735d03ccd\",\"subtype\":\"Figure\",\"type\":\"Plot\"},\"ticker\":{\"id\":\"9ad1f4ac-2063-457b-b39c-3f818865e4a9\",\"type\":\"BasicTicker\"}},\"id\":\"2411fff5-726c-417a-88fd-8ae424f7cc78\",\"type\":\"LinearAxis\"},{\"attributes\":{},\"id\":\"9ad1f4ac-2063-457b-b39c-3f818865e4a9\",\"type\":\"BasicTicker\"},{\"attributes\":{\"plot\":null,\"text\":\"Select Here\"},\"id\":\"e787c9a0-4cfe-453a-abbb-b2b2f079d35e\",\"type\":\"Title\"},{\"attributes\":{\"formatter\":{\"id\":\"95037e1a-e2a9-44f0-ad61-699ec26f3242\",\"type\":\"BasicTickFormatter\"},\"plot\":{\"id\":\"d0dc79c3-eb0e-44c3-97d4-c60735d03ccd\",\"subtype\":\"Figure\",\"type\":\"Plot\"},\"ticker\":{\"id\":\"fb062896-0cd2-4a76-afb1-42f08549f240\",\"type\":\"BasicTicker\"}},\"id\":\"b5f7375d-7d50-411b-b6cb-f0dd5ea235e0\",\"type\":\"LinearAxis\"},{\"attributes\":{\"callback\":{\"id\":\"386efc16-ba0c-4f6b-b0d0-060268008fd6\",\"type\":\"CustomJS\"},\"column_names\":[\"x\",\"y\",\"color\"],\"data\":{\"color\":[\"navy\",\"navy\",\"navy\",\"navy\",\"navy\",\"navy\",\"navy\",\"navy\",\"navy\",\"navy\",\"navy\",\"navy\",\"navy\",\"navy\",\"navy\",\"navy\",\"navy\",\"navy\",\"navy\",\"navy\",\"navy\",\"navy\",\"navy\",\"navy\",\"navy\",\"navy\",\"navy\",\"navy\",\"navy\",\"navy\",\"navy\",\"navy\",\"navy\",\"navy\",\"navy\",\"navy\",\"navy\",\"navy\",\"navy\",\"navy\",\"navy\",\"navy\",\"navy\",\"navy\",\"navy\",\"navy\",\"navy\",\"navy\",\"navy\",\"navy\",\"navy\",\"navy\",\"navy\",\"navy\",\"navy\",\"navy\",\"navy\",\"navy\",\"navy\",\"navy\",\"navy\",\"navy\",\"navy\",\"navy\",\"navy\",\"navy\",\"navy\",\"navy\",\"navy\",\"navy\",\"navy\",\"navy\",\"navy\",\"navy\",\"navy\",\"navy\",\"navy\",\"navy\",\"navy\",\"navy\",\"navy\",\"navy\",\"navy\",\"navy\",\"navy\",\"navy\",\"navy\",\"navy\",\"navy\",\"navy\",\"navy\",\"navy\",\"navy\",\"navy\",\"navy\",\"navy\",\"navy\",\"navy\",\"navy\",\"navy\",\"navy\",\"navy\",\"navy\",\"navy\",\"navy\",\"navy\",\"navy\",\"navy\",\"navy\",\"navy\",\"navy\",\"navy\",\"navy\",\"navy\",\"navy\",\"navy\",\"navy\",\"navy\",\"navy\",\"navy\",\"navy\",\"navy\",\"navy\",\"navy\",\"navy\",\"navy\",\"navy\",\"navy\",\"navy\",\"navy\",\"navy\",\"navy\",\"navy\",\"navy\",\"navy\",\"navy\",\"navy\",\"navy\",\"navy\",\"navy\",\"navy\",\"navy\",\"navy\",\"navy\",\"navy\",\"navy\",\"navy\",\"navy\",\"navy\",\"navy\",\"navy\",\"navy\",\"navy\",\"navy\",\"navy\",\"navy\",\"navy\",\"navy\",\"navy\",\"navy\",\"navy\",\"navy\",\"navy\",\"navy\",\"navy\",\"navy\",\"navy\",\"navy\",\"navy\",\"navy\",\"navy\",\"navy\",\"navy\",\"navy\",\"navy\",\"navy\",\"navy\",\"navy\",\"navy\",\"navy\",\"navy\",\"navy\",\"navy\",\"navy\",\"navy\",\"navy\",\"navy\",\"navy\",\"navy\",\"navy\",\"navy\",\"navy\",\"navy\",\"navy\",\"navy\",\"navy\",\"navy\",\"navy\",\"navy\",\"navy\",\"navy\",\"navy\",\"navy\",\"navy\",\"navy\",\"navy\",\"navy\",\"navy\",\"navy\",\"navy\",\"navy\",\"navy\",\"navy\",\"navy\",\"navy\",\"navy\",\"navy\",\"navy\",\"navy\",\"navy\",\"navy\",\"navy\",\"navy\",\"navy\",\"navy\",\"navy\",\"navy\",\"navy\",\"navy\",\"navy\",\"navy\",\"navy\",\"navy\",\"navy\",\"navy\",\"navy\",\"navy\",\"navy\",\"navy\",\"navy\",\"navy\",\"navy\",\"navy\",\"navy\",\"navy\",\"navy\",\"navy\",\"navy\",\"navy\",\"navy\",\"navy\",\"navy\",\"navy\",\"navy\",\"navy\",\"navy\",\"navy\",\"navy\",\"navy\",\"navy\",\"navy\",\"navy\",\"navy\",\"navy\",\"navy\",\"navy\",\"navy\",\"navy\",\"navy\",\"navy\",\"navy\",\"navy\",\"navy\",\"navy\",\"navy\",\"navy\",\"navy\",\"navy\",\"navy\",\"navy\",\"navy\",\"navy\",\"navy\",\"navy\",\"navy\",\"navy\",\"navy\",\"navy\",\"navy\",\"navy\",\"navy\",\"navy\",\"navy\",\"navy\",\"navy\",\"navy\",\"navy\",\"navy\",\"navy\",\"navy\",\"navy\",\"navy\",\"navy\",\"navy\",\"navy\",\"navy\",\"navy\",\"navy\",\"navy\",\"navy\",\"navy\",\"navy\",\"navy\",\"navy\",\"navy\",\"navy\",\"navy\",\"navy\",\"navy\",\"navy\",\"navy\",\"navy\",\"navy\",\"navy\",\"navy\",\"navy\",\"navy\",\"navy\",\"navy\",\"navy\",\"navy\",\"navy\",\"navy\",\"navy\",\"navy\",\"navy\",\"navy\",\"navy\",\"navy\",\"navy\",\"navy\",\"navy\",\"navy\",\"navy\",\"navy\",\"navy\",\"navy\",\"navy\",\"navy\",\"navy\",\"navy\",\"navy\",\"navy\",\"navy\",\"navy\",\"navy\",\"navy\",\"navy\",\"navy\",\"navy\",\"navy\",\"navy\",\"navy\",\"navy\",\"navy\",\"navy\",\"navy\",\"navy\",\"navy\",\"navy\",\"navy\",\"navy\",\"navy\",\"navy\",\"navy\",\"navy\",\"navy\",\"navy\",\"navy\",\"navy\",\"navy\",\"navy\",\"navy\",\"navy\",\"navy\",\"navy\",\"navy\",\"navy\",\"navy\",\"navy\",\"navy\",\"navy\",\"navy\",\"navy\",\"navy\",\"navy\",\"navy\",\"navy\",\"navy\",\"navy\",\"navy\",\"navy\",\"navy\",\"navy\",\"navy\",\"navy\",\"navy\",\"navy\",\"navy\",\"navy\",\"navy\",\"navy\",\"navy\",\"navy\",\"navy\",\"navy\",\"navy\",\"navy\",\"navy\",\"navy\",\"navy\",\"navy\",\"navy\",\"navy\",\"navy\",\"navy\",\"navy\",\"navy\",\"navy\",\"navy\",\"navy\",\"navy\",\"navy\",\"navy\",\"navy\",\"navy\",\"navy\",\"navy\",\"navy\",\"navy\",\"navy\",\"navy\",\"navy\",\"navy\",\"navy\",\"navy\",\"navy\",\"navy\",\"navy\",\"navy\",\"navy\",\"navy\",\"navy\",\"navy\",\"navy\",\"navy\",\"navy\",\"navy\",\"navy\",\"navy\",\"navy\",\"navy\",\"navy\",\"navy\",\"navy\",\"navy\",\"navy\",\"navy\",\"navy\",\"navy\",\"navy\",\"navy\",\"navy\",\"navy\",\"navy\",\"navy\",\"navy\",\"navy\",\"navy\",\"navy\",\"navy\",\"navy\",\"navy\",\"navy\",\"navy\",\"navy\",\"navy\",\"navy\",\"navy\",\"navy\",\"navy\",\"navy\",\"navy\",\"navy\",\"navy\",\"navy\",\"navy\",\"navy\",\"navy\",\"navy\"],\"x\":[0.23665452075927906,0.09124267467853908,0.6513275995683956,0.2529485199523236,0.37858903833770685,0.1853265045892838,0.13088404391060038,0.9751893641897078,0.8160997730706239,0.6475450515136114,0.23197355077802073,0.3687896981281735,0.5754627945628414,0.0591424886898374,0.015876809484354326,0.693751962826699,0.5668747682602987,0.42233320332769275,0.2709737456941854,0.8810924234908643,0.9112981880654933,0.4300084572711973,0.2680814953177131,0.6855578884221744,0.5425066699907501,0.4045813040256574,0.18505017118197808,0.10472948730490483,0.7153034862420707,0.6249097717451665,0.8274696443331356,0.8795632070064489,0.3393998868067948,0.4585214412790688,0.8196452012196288,0.8507287515415226,0.05005857306505723,0.3313779475042583,0.4896596288811135,0.5377096855679054,0.5682040404278018,0.3379441861869681,0.8843613299650195,0.44018451935937275,0.29376003683612784,0.6301605505918128,0.5901689231961619,0.3419555808080825,0.33643135069402297,0.30005918755746175,0.791772264247303,0.380367512116877,0.5750337884765783,0.5374962747784493,0.5150631994777104,0.6812244832026151,0.32802593024396764,0.723794172624197,0.03247326608251966,0.7646856448898461,0.9684993243331362,0.2706270553085449,0.5323150484671187,0.8484051904204422,0.2870022621666054,0.20886481250614242,0.539746235942305,0.374017728010952,0.681737463280171,0.3673238756874022,0.02190468900214748,0.5163090207277997,0.20359525816970903,0.3476599400072242,0.49687987590721094,0.8932883523706916,0.6054382203703481,0.242425529333826,0.6863047302916262,0.5382703114532799,0.4741153519681732,0.5587398651993256,0.7853272389957334,0.5266006565841087,0.542027217416437,0.4198414324756926,0.23446611418429786,0.17325766048780034,0.32955779123967843,0.15165703241240847,0.8175755871220243,0.008732979897760118,0.1929662865942986,0.9916402174728447,0.09569890681454829,0.5419934144999308,0.045675881542265095,0.04125554562691791,0.6904374453378264,0.18161914717695204,0.5372603630740922,0.3429534743192403,0.38814047838301236,0.6389643571696509,0.7118390829832831,0.8588441491598665,0.8215407345819266,0.6322137167478694,0.4865727335157152,0.5467785770140876,0.6453220620027565,0.3219237526147384,0.45870234761600137,0.2971569899943326,0.44826887470394916,0.5829350245092487,0.13599122547256992,0.45717776560845347,0.5587117470948278,0.5980182601622792,0.7182635065918391,0.20883327479540825,0.9524215369110389,0.4406202134248203,0.7588287070461047,0.07757440638745328,0.8187999550582711,0.022818387181001043,0.7109515708342596,0.3735157920510015,0.4836544946393915,0.02268792646884188,0.7564323595874627,0.04963561652687132,0.9934344989983411,0.6417867325275824,0.09283962118618816,0.9454366692728202,0.8991953655767757,0.042189240936091776,0.11319353073159322,0.03401402878441673,0.23975808775525154,0.1054926061146233,0.5494608113951186,0.030516557822773294,0.17618889099871093,0.6285888184195917,0.3602665657866919,0.8558307486912432,0.7478417018204953,0.6851219218310282,0.5448621672587931,0.861535218423058,0.18963644398702761,0.16743358310801404,0.9225289534977801,0.14848122893288418,0.9061311244247224,0.9376108870681762,0.37130107477930474,0.3538786612505631,0.8975237775542684,0.7607831282073859,0.8114922048996396,0.847743277636427,0.735754391128046,0.14669354449083916,0.36477075030385553,0.46803967018309534,0.581144424254168,0.09817865320081842,0.08492437490041993,0.618797798470501,0.4240472774324524,0.38137088896784566,0.3970024185312274,0.7811989982436897,0.4065706556685984,0.21212266866821905,0.030395850659638013,0.8773338925261319,0.062420979481402794,0.08151050466812215,0.0022346437232281247,0.598022186667018,0.6719076351769098,0.8342620611434676,0.1941737596614055,0.6072564831734265,0.9324822245350551,0.20009654927564058,0.9889923986675196,0.8878282855903796,0.2676520719379215,0.8303748926687395,0.22412219451897597,0.7764858446155901,0.008692358000005562,0.7559477346185706,0.7493261555400549,0.01916768292436255,0.42567299135470904,0.35579852320192573,0.4029154325047377,0.3429315746136553,0.9231066805122365,0.11631695036120626,0.14493796697451888,0.5382014941848666,0.22222613457669183,0.058436219754263496,0.8284413604030637,0.27014271956233127,0.7320280458866902,0.5050637143576562,0.906594714343519,0.8582080345132203,0.9403146159798628,0.9904532877965349,0.13379859742139832,0.9495023947728279,0.5114583057509708,0.4870628037667265,0.7826524070211358,0.8452461154040395,0.310110668759904,0.05104432167723616,0.4674487778504991,0.6541733371334908,0.8418367141596723,0.4070832355329852,0.8717201573039093,0.06587744928148043,0.5021180890244046,0.9159018124233932,0.7520541925925396,0.5458346506409703,0.7946483864634858,0.07310714024048981,0.4973577960571308,0.9545789725871324,0.33637714787853046,0.20868388993103626,0.055156460463254287,0.8449775349490202,0.002048124401968887,0.14427790051874456,0.22007700940120856,0.7598265837112241,0.26322856587764354,0.8065950668749404,0.5349481909201492,0.2936968586362093,0.1424859489872463,0.7043862365273977,0.259292707898757,0.47171810148584525,0.8021454776460278,0.4833243353366322,0.30384667947277766,0.1470330337421759,0.6855447613101724,0.28125203271040045,0.4983688652240241,0.2973937504226667,0.4745027986683027,0.9702130894031008,0.6693068361528415,0.51242302890505,0.49540987489647037,0.8470750521609351,0.8472739361627579,0.49566845675509863,0.6566143383626583,0.3536973897527107,0.04541654874580925,0.865081424959236,0.1535347147935986,0.6845271519337902,0.5465050915755079,0.9882320073697144,0.8874026772801034,0.11753223997897344,0.9303379052546167,0.9076712754886255,0.6888165250741708,0.6495375391608154,0.5064197532396703,0.8308472834030117,0.2206164131335807,0.04931977914695096,0.3738100661955015,0.8780867327983201,0.2635740406977163,0.926013878974581,0.35141191397721194,0.7649294862094783,0.8031832739551173,0.934552216740949,0.46398104018316544,0.3363207920125937,0.8652638435457016,0.84146379282423,0.570048034942477,0.3080503435997114,0.8897284207238103,0.5134493642028358,0.7901139237544071,0.025886206231090503,0.7308477764804974,0.976043001630786,0.6688358758295105,0.20728334068559995,0.5497758537291171,0.6490656154216613,0.9942104089669941,0.28796702439079025,0.6807461137048302,0.4257134199613605,0.4877013873634479,0.18703975356720637,0.6529808178174173,0.3994359245182796,0.7217150766358414,0.9094398105914435,0.8435195795654231,0.9142368644978199,0.9999698232453396,0.3109212511790507,0.686175755954611,0.18082093699993396,0.5753055263350658,0.10586783381492781,0.602546775639022,0.10865906224028732,0.23720321035949965,0.7533174084648852,0.9088362917685475,0.8612417817805301,0.17373823293308033,0.30391576123031006,0.8727631079094665,0.7024978595546818,0.857876747416039,0.7740960932181918,0.07174686350265591,0.39718333192620037,0.7772829538540964,0.21564018928477469,0.0013543335115576705,0.4399328512758379,0.37687016168212895,0.7327350109457369,0.9495766718849235,0.15748517614366175,0.27123127475044595,0.32213493751144595,0.11008400641080929,0.6593894371248825,0.32580831663747,0.1636320467008635,0.09034134467156374,0.6002534049362744,0.8458904567154354,0.7573254990812543,0.533788408830845,0.815535158129437,0.7271905308113791,0.9750839619056046,0.11398154699550178,0.1767858538263556,0.8025966986844759,0.7589483191460451,0.24432427310204652,0.29184344726199873,0.877961191513952,0.5121579220870849,0.32151827344178063,0.7838858259177932,0.22546864127902855,0.2766853016091455,0.6516353822048059,0.07636239835365588,0.08721381266236428,0.3442110585638368,0.8923725853662359,0.9524626568043327,0.4404533661519492,0.39370248255327334,0.40454167601303415,0.9394775663514141,0.19700344244413348,0.7476370907832365,0.7919813700442682,0.4471401519143158,0.7553420709881234,0.9188178041204154,0.9204250363042606,0.24179234132643868,0.5724697808183418,0.5065474233620136,0.8085030916584808,0.3016995942485,0.9366598329741795,0.009514182206968425,0.15343933357444595,0.014776902405865933,0.022569817254247893,0.49826814504802563,0.9691116455007774,0.03602751871639642,0.7910693479033806,0.3494080738292936,0.3257878272627206,0.021276194686488004,0.34936855025636515,0.43827061999667016,0.04157742227936201,0.5700113550986092,0.1550604068265361,0.1674520790718641,0.17409920408243795,0.9159428388314491,0.858482055216549,0.054476172275228385,0.9040559693741697,0.11742713142042982,0.7432650474234691,0.1934633903935553,0.6468409952993129,0.7794086696356671,0.9523256966191304,0.35292846975933745,0.83445347601128,0.9933534120583547,0.5716704030367863,0.9702677972033596,0.13974861937158334,0.4305188520121386,0.6925059562879865,0.6714639747482234,0.6967097918491728,0.3176324018512967,0.9578059577604409,0.055001505299971165,0.5853431435127364,0.6633909353117945,0.08474006739372508,0.6760395457475908,0.6317304551816716,0.46596568976609687,0.982224745545768,0.5628772563262978,0.43470547079169164,0.21962784805628832,0.6043518492232912,0.6121048439856034,0.5388389561942886,0.015079142485781127,0.8168235606787483,0.5237682944410477,0.007462451341368803,0.24485059607345128,0.4023314081047096,0.5088385012435029,0.8531562844711197,0.4968516736938732,0.9202829555411566,0.5537169953781325,0.23486315666981705,0.11137045352859987,0.18766238671135438,0.56379775985507,0.6641028511040343,0.4229334585004286,0.07975969254777338,0.0022848346836641387,0.49984687087462065,0.021702280759015813,0.5431225769126711,0.05195039032073101,0.03141606972710087,0.22648103035711453,0.04681198295936184,0.20472170842658532,0.18604203687639953,0.8470630044963705,0.901399381867501,0.9406108119943887,0.07165893392256228,0.9212141053937736,0.4114559751986667,0.6095554266152831,0.009359098994107473,0.44926709794551667,0.010614850133954024,0.3228409489786791,0.07944907041254623,0.49178557853853044],\"y\":[0.3459749943152327,0.5952932538363294,0.8704364690941121,0.553813367025032,0.8062448868819428,0.2459765854917808,0.48133690456061473,0.22067585975314097,0.5543369501525028,0.090963822519744,0.8772879647254581,0.43119311985284947,0.18886791126971902,0.5050681233312851,0.7776890888810727,0.3726185689536802,0.9157198592190786,0.8610399519483365,0.0654839126875385,0.15629068503239285,0.4921658618759137,0.6876602906832517,0.15549026399770238,0.8388773073984283,0.35144745284953016,0.26605714149612314,0.9805644137649896,0.6244508680423252,0.5364944696560668,0.9061020996574083,0.10769309968668006,0.02353860737514113,0.11937071856246395,0.21684835110733347,0.4522963649722995,0.13507490049268633,0.931062857144755,0.1960834432288593,0.5821104412035242,0.5902154777631561,0.22289102821033424,0.8767830381864745,0.8138960332854394,0.7200088096284295,0.5877454190621143,0.7172732715276319,0.5969039569920169,0.10140635664123943,0.3266922848099624,0.3695838300324643,0.7263457838078072,0.5515750924376144,0.5857208579251165,0.235240267563664,0.78540560020299,0.298508437768897,0.8604706557922926,0.5308813100204536,0.02836832033336023,0.302800089437699,0.5558190335424513,0.1982396687856176,0.04191463875660273,0.9428949634262281,0.541183479412428,0.724691396887701,0.7330317684981557,0.7578986228155834,0.20044322383817426,0.32037210971467,0.5943765684059631,0.23920024832465636,0.5852302481158933,0.4478278094764012,0.6453235535105499,0.8780518285203958,0.2861911895556286,0.8150704391850068,0.21598710930141218,0.7697586030848299,0.6485017642527404,0.10003181205009504,0.5208125726885678,0.7575580322193035,0.05692764503197323,0.0029813639561472316,0.4787207489919958,0.6965121313389742,0.04284785195804075,0.5654258581404387,0.8936248547263327,0.9372700446149016,0.09614217718330464,0.2684803664553418,0.2837152317423449,0.8640362640785828,0.20246354303006497,0.017759224892006098,0.6839621683039158,0.5396903087499024,0.16836289661405002,0.8747432876447898,0.15869015054732705,0.16025994367012686,0.26300455780067866,0.8061388054359282,0.8435497589863653,0.06693336405922401,0.8556416655659047,0.6376289449019344,0.5722706501021905,0.8987312442046598,0.8505941018649499,0.06821999313861293,0.5460634669388147,0.2900855499257057,0.2458199004772007,0.6818009189039275,0.9795266745736863,0.0598900519898683,0.7028592366264391,0.7927602358438459,0.9578546179134667,0.17316254829108113,0.5729181911622051,0.8099468155521939,0.21367441210147853,0.9255137863488471,0.13066654005057088,0.6016463291630695,0.5401966411637596,0.8274770300161444,0.889019923630267,0.7762622295745352,0.757039853302736,0.16936885760712128,0.4340967369353034,0.5370423332219961,0.19379414878957124,0.36486234936402573,0.9965928988293821,0.2348471061012003,0.9159879926016014,0.8014181814170345,0.09549504637879158,0.7295992595015853,0.6898138364760079,0.7767221633201749,0.7094184169403621,0.7203008714045932,0.09891365735558899,0.09859195689372968,0.5517011165627995,0.34029917630970596,0.8685536993808121,0.4195073495465922,0.1908706240558089,0.1560423210471823,0.33764481036897376,0.7541346481532271,0.30704651809621375,0.39117574758766815,0.19268593420821267,0.208911099548046,0.26011880342591553,0.12937798716910653,0.8783326445277347,0.6039121634996553,0.4343821617921766,0.1847059638109837,0.11779552436024576,0.30179426279105215,0.8533180181729382,0.8226683043914156,0.047923439477638885,0.37071024180532397,0.9129392593028816,0.626777885586042,0.14937796536783043,0.45373587968008755,0.047819454332598044,0.31106957293197857,0.5236042245474298,0.1991857612197352,0.412092872343772,0.2716563537755593,0.11089299601373215,0.3153358650366488,0.6689145090141794,0.6919454266885825,0.09160954648979358,0.2890190478311524,0.2784267362803269,0.5784507778087973,0.5089484314872043,0.5105176605880664,0.610091949176443,0.5953322261537249,0.9075973801680498,0.5757130177682751,0.6113241386480622,0.9624910753286605,0.7218809414499119,0.7973971328660174,0.2556927873379017,0.018606879844055735,0.9120887317094629,0.3517864653783672,0.3928059725531803,0.3088959584561859,0.038734589452748325,0.31050325734079276,0.15309693838523897,0.860391894400421,0.7414835639035299,0.6628049495157987,0.3736495839664826,0.10645025751364079,0.1949735995229408,0.4173641990749841,0.47618978360555975,0.02387912348013088,0.7261534350539666,0.058662554423877133,0.7525010158710572,0.38625089641813415,0.23283342884244196,0.8100607377144435,0.5198845354548681,0.5710430449009013,0.6935624157362339,0.541332513744754,0.5221677281150867,0.5343421953695556,0.09855312219893408,0.7249025225329735,0.5955593489596662,0.2520242632369486,0.43277962853904417,0.7957773096503098,0.7746582455876652,0.9403425483156886,0.6738927172659641,0.9999092392716677,0.9855999006876963,0.8038865429818028,0.550171095268593,0.05445447476295251,0.48089667506799927,0.8026417015615236,0.7109907711483895,0.221700478271872,0.9732336565563144,0.3942543787896263,0.09646363334885966,0.8224833324147353,0.22325215855773606,0.33727153827559553,0.7690370527853304,0.993746000150408,0.5358717276010522,0.17739638196781626,0.8554810989600963,0.7612516100323583,0.31170716324510783,0.648735875000534,0.9084318387635217,0.08933476116823547,0.6104353501881873,0.4267332647030013,0.9500029396003133,0.9432931540850313,0.06765213647249957,0.697984587776609,0.4007392999901205,0.2170195576308246,0.025015086829389355,0.4724081581599354,0.9210383693764654,0.29877224154106086,0.37579094441264094,0.315734839340006,0.3083590592637898,0.1404423993836319,0.8204259834246964,0.5917179193858662,0.31826294381207554,0.6006068211871478,0.18074269752327,0.39825337925137316,0.4888590770223882,0.21630104192328026,0.5845551241671713,0.6172156786926283,0.14407034129979857,0.4641917500126954,0.19113545045184832,0.06228478038983298,0.9864300631971826,0.17363228293813449,0.5437142567640246,0.10290208648661059,0.6665981574994773,0.05862887906318337,0.5824357169843882,0.7243952201575726,0.05894281269073898,0.2534415492474378,0.900938537091911,0.48530250252760987,0.2268708549680627,0.6472351211242292,0.8188791068800066,0.44727273418235425,0.4603166265368329,0.3954830329279717,0.042258635735778594,0.9659649665742318,0.06839380721403543,0.6291651815473074,0.661264873353613,0.20638598910018457,0.9648591701830153,0.6496145984419882,0.3364762809485262,0.7887585738387515,0.81124192283186,0.5233642423805807,0.5219077367823817,0.3860144052889556,0.5072371742512606,0.16433155101843344,0.16350996607590518,0.3385123703925962,0.937264077615092,0.3048062150907537,0.9185704895083897,0.5686578760778219,0.19032715753454665,0.39414684904993835,0.04498884900742128,0.9430621102950242,0.5988907209431282,0.9797873737299253,0.7309527847615257,0.2532932236686901,0.05775274538695563,0.37042015123933314,0.27405436898182844,0.9427107026819238,0.8971308283739895,0.4733406455900234,0.31076720543018066,0.022914408823011545,0.19453702512169635,0.7490954256759175,0.39587143836819216,0.4613279907828046,0.5713457222409078,0.7045272598467861,0.21287573610984856,0.18682420552076529,0.8130977982115687,0.02660793588455601,0.20260117452601556,0.8102676115441552,0.0055581508925207634,0.920021450856479,0.5539712285377334,0.6510570193702871,0.2919665788061946,0.9166767271432593,0.30778956364717447,0.3467807814183348,0.5066992767521961,0.38464491066811646,0.683835333275621,0.8633331277316306,0.8727356031141955,0.7711162409929633,0.9773866706412488,0.9197855844348825,0.2784123482092643,0.46021680695049005,0.17576716054631125,0.4287851738213092,0.717974141357286,0.48352891661097863,0.7225052440170084,0.35036993886097445,0.10147609308087935,0.43056973674507126,0.8057307557618173,0.6368137294593952,0.9492423355994486,0.28214368055977646,0.6151100597773689,0.3078994394350494,0.5611255674381991,0.8159611515895829,0.9068189667901648,0.1215232202119394,0.3405727415273089,0.033137094952564006,0.5260578606046442,0.9750614593044931,0.6470237183265753,0.7797531740253113,0.32879013532431267,0.1361628977647057,0.5480991118507018,0.20571668028121326,0.28212915577508213,0.45167881536712684,0.8585231368063221,0.7144160636210873,0.7223330707251607,0.6010915612792368,0.08294533778676627,0.7121130714410983,0.3620024202393216,0.09842757638658373,0.5360601293757741,0.4813396885930995,0.4816562948855122,0.5627390561534549,0.5825994548908633,0.7682882530134233,0.4266304270834963,0.05253019726415287,0.7792127954869963,0.12538429486304226,0.70220648180547,0.9682240573196962,0.20559359430392277,0.7975651550022729,0.6897136533818631,0.19758308988503082,0.5051666484066932,0.28164983497742613,0.5426014530332249,0.057630717091676775,0.40750514410504357,0.2402043390396219,0.1256739186781176,0.061239752223880894,0.31726454311763685,0.5341286105840947,0.5288128293270012,0.14725814065452214,0.053052380427054624,0.5043825470417836,0.36311582167842005,0.685620561579021,0.911113403822394,0.43467424088855267,0.7347825772759634,0.6795686364723531,0.8219079872212061,0.4717480999540544,0.1887824013478384,0.8968070574670742,0.6290957409215768,0.4378732521244276,0.1299611751107287,0.7791108662616296,0.37023635374446107,0.04163062441422494,0.15725279543852655,0.6389538231896841,0.23308291131313397,0.6914108469773997,0.7288899913777827,0.8155923927147736,0.4864951737995067,0.4919271488480276,0.20840651123482257,0.16171713321037484,0.8695725845610186,0.4102353615523462,0.5993869998149158,0.2663466501222378,0.6050896426789376,0.3813254998542418,0.29097126432872444,0.3435599372749907,0.7403477245971002,0.6390831529246558,0.06329139076295431,0.13566790370559612,0.10091666239099628,0.9823753010871908,0.3113272386043415,0.9776399043688231,0.6904483013483016,0.39254688973912377,0.12552228556281653,0.7714869194596186,0.4412350536680715,0.276060952252298]}},\"id\":\"5a9d7d07-ea22-4c8a-9219-2a3f748f995f\",\"type\":\"ColumnDataSource\"},{\"attributes\":{},\"id\":\"fb062896-0cd2-4a76-afb1-42f08549f240\",\"type\":\"BasicTicker\"},{\"attributes\":{\"fill_alpha\":{\"value\":0.4},\"fill_color\":{\"field\":\"color\"},\"line_alpha\":{\"value\":0.4},\"line_color\":{\"field\":\"color\"},\"size\":{\"units\":\"screen\",\"value\":8},\"x\":{\"field\":\"x\"},\"y\":{\"field\":\"y\"}},\"id\":\"b9777836-eb2f-4866-8164-33e3b3493e51\",\"type\":\"Circle\"},{\"attributes\":{\"dimension\":1,\"plot\":{\"id\":\"d0dc79c3-eb0e-44c3-97d4-c60735d03ccd\",\"subtype\":\"Figure\",\"type\":\"Plot\"},\"ticker\":{\"id\":\"fb062896-0cd2-4a76-afb1-42f08549f240\",\"type\":\"BasicTicker\"}},\"id\":\"f88cf2c2-ddfb-47ab-9287-3c86ca7082c1\",\"type\":\"Grid\"},{\"attributes\":{\"fill_alpha\":{\"value\":0.5},\"fill_color\":{\"value\":\"lightgrey\"},\"level\":\"overlay\",\"line_alpha\":{\"value\":1.0},\"line_color\":{\"value\":\"black\"},\"line_dash\":[4,4],\"line_width\":{\"value\":2},\"plot\":null,\"xs_units\":\"screen\",\"ys_units\":\"screen\"},\"id\":\"a5def7c9-b249-4c78-bedb-a67bb5a473ea\",\"type\":\"PolyAnnotation\"},{\"attributes\":{\"data_source\":{\"id\":\"5a9d7d07-ea22-4c8a-9219-2a3f748f995f\",\"type\":\"ColumnDataSource\"},\"glyph\":{\"id\":\"b9777836-eb2f-4866-8164-33e3b3493e51\",\"type\":\"Circle\"},\"hover_glyph\":null,\"muted_glyph\":null,\"nonselection_glyph\":{\"id\":\"3f6b9386-2eb8-4386-bf22-104b25cecd4b\",\"type\":\"Circle\"},\"selection_glyph\":null,\"view\":{\"id\":\"200124c8-b1d6-47c6-86b7-e1115c72e721\",\"type\":\"CDSView\"}},\"id\":\"af881f68-fe54-40c2-9a9c-824c43cbe045\",\"type\":\"GlyphRenderer\"},{\"attributes\":{},\"id\":\"95037e1a-e2a9-44f0-ad61-699ec26f3242\",\"type\":\"BasicTickFormatter\"},{\"attributes\":{\"source\":{\"id\":\"5a9d7d07-ea22-4c8a-9219-2a3f748f995f\",\"type\":\"ColumnDataSource\"}},\"id\":\"200124c8-b1d6-47c6-86b7-e1115c72e721\",\"type\":\"CDSView\"}],\"root_ids\":[\"d0dc79c3-eb0e-44c3-97d4-c60735d03ccd\"]},\"title\":\"Bokeh Application\",\"version\":\"0.12.13\"}};\n",
       "  var render_items = [{\"docid\":\"665b7ddc-99f9-4509-8b28-a20af8e49c74\",\"elementid\":\"02c39294-d474-4b6d-af21-5f46667546a9\",\"modelid\":\"d0dc79c3-eb0e-44c3-97d4-c60735d03ccd\"}];\n",
       "  root.Bokeh.embed.embed_items_notebook(docs_json, render_items);\n",
       "\n",
       "  }\n",
       "  if (root.Bokeh !== undefined) {\n",
       "    embed_document(root);\n",
       "  } else {\n",
       "    var attempts = 0;\n",
       "    var timer = setInterval(function(root) {\n",
       "      if (root.Bokeh !== undefined) {\n",
       "        embed_document(root);\n",
       "        clearInterval(timer);\n",
       "      }\n",
       "      attempts++;\n",
       "      if (attempts > 100) {\n",
       "        console.log(\"Bokeh: ERROR: Unable to run BokehJS code because BokehJS library is missing\")\n",
       "        clearInterval(timer);\n",
       "      }\n",
       "    }, 10, root)\n",
       "  }\n",
       "})(window);"
      ],
      "application/vnd.bokehjs_exec.v0+json": ""
     },
     "metadata": {
      "application/vnd.bokehjs_exec.v0+json": {
       "id": "d0dc79c3-eb0e-44c3-97d4-c60735d03ccd"
      }
     },
     "output_type": "display_data"
    }
   ],
   "source": [
    "from random import random\n",
    "\n",
    "x = [random() for x in range(500)]\n",
    "y = [random() for y in range(500)]\n",
    "color = [\"navy\"] * len(x)\n",
    "\n",
    "s = ColumnDataSource(data=dict(x=x, y=y, color=color))\n",
    "p = figure(plot_width=400, plot_height=400, tools=\"lasso_select\", title=\"Select Here\")\n",
    "p.circle('x', 'y', color='color', size=8, source=s, alpha=0.4)\n",
    "\n",
    "s2 = ColumnDataSource(data=dict(xm=[0,1],ym=[0.5, 0.5]))\n",
    "p.line(x='xm', y='ym', color=\"orange\", line_width=5, alpha=0.6, source=s2)\n",
    "\n",
    "s.callback = CustomJS(args=dict(s2=s2), code=\"\"\"\n",
    "    var inds = cb_obj.get('selected')['1d'].indices;\n",
    "    var d = cb_obj.get('data');\n",
    "    var ym = 0\n",
    "    \n",
    "    if (inds.length == 0) { return; }\n",
    "    \n",
    "    for (i = 0; i < d['color'].length; i++) {\n",
    "        d['color'][i] = \"navy\"\n",
    "    }\n",
    "    for (i = 0; i < inds.length; i++) {\n",
    "        d['color'][inds[i]] = \"firebrick\"\n",
    "        ym += d['y'][inds[i]]\n",
    "    }\n",
    "    \n",
    "    ym /= inds.length\n",
    "    s2.get('data')['ym'] = [ym, ym]\n",
    "    \n",
    "    cb_obj.trigger('change');\n",
    "    s2.trigger('change');\n",
    "\"\"\")\n",
    "\n",
    "show(p)"
   ]
  },
  {
   "cell_type": "markdown",
   "metadata": {
    "collapsed": true
   },
   "source": [
    "# More\n",
    "For more interactions, see the User Guide - http://bokeh.pydata.org/en/latest/docs/user_guide/interaction.html"
   ]
  }
 ],
 "metadata": {
  "anaconda-cloud": {},
  "kernelspec": {
   "display_name": "Python 3",
   "language": "python",
   "name": "python3"
  },
  "language_info": {
   "codemirror_mode": {
    "name": "ipython",
    "version": 3
   },
   "file_extension": ".py",
   "mimetype": "text/x-python",
   "name": "python",
   "nbconvert_exporter": "python",
   "pygments_lexer": "ipython3",
   "version": "3.6.4"
  },
  "widgets": {
   "state": {
    "335ae2c8ff80469e9adac668c2924989": {
     "views": [
      {
       "cell_index": 19
      }
     ]
    }
   },
   "version": "1.2.0"
  }
 },
 "nbformat": 4,
 "nbformat_minor": 1
}
