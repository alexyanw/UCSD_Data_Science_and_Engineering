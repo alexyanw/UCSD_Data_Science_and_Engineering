{
 "cells": [
  {
   "cell_type": "markdown",
   "metadata": {},
   "source": [
    "This section of the tutorial covers the [`bokeh.plotting`](http://bokeh.pydata.org/en/latest/docs/user_guide/plotting.html) \n",
    "interface. This interface is a \"mid-level\" interface, and the main idea can be described by the statement:\n",
    "\n",
    "**Starting from simple default figures (with sensible default tools, grids and axes), add markers and other shapes whose visual attributes are tied to directly data.**\n",
    "\n",
    "We will see that it is possible to customize and change all of the defaults, but having them means that it is possible to get up and running very quickly. "
   ]
  },
  {
   "cell_type": "markdown",
   "metadata": {},
   "source": [
    "# Imports and Setup\n",
    "\n",
    "When using the [`bokeh.plotting`](http://bokeh.pydata.org/en/latest/docs/user_guide/plotting.html) interface, there are a few common imports:\n",
    "* Use the [`figure`](http://bokeh.pydata.org/en/latest/docs/reference/plotting.html#bokeh.plotting.figure) function to  create new plot objects to work with. \n",
    "* Call the functions [`output_file`](http://bokeh.pydata.org/en/latest/docs/reference/resources_embedding.html#bokeh.io.output_file), [`output_notebook`](http://bokeh.pydata.org/en/latest/docs/reference/resources_embedding.html#bokeh.io.output_notebook), and [`output_server`](http://bokeh.pydata.org/en/latest/docs/reference/resources_embedding.html#bokeh.io.output_server) (possibly in combination) to tell Bokeh how to display or save output. \n",
    "* Execute [`show`](http://bokeh.pydata.org/en/latest/docs/reference/resources_embedding.html#bokeh.io.show) and  [`save`](http://bokeh.pydata.org/en/latest/docs/reference/resources_embedding.html#bokeh.io.save) to display or save plots and layouts."
   ]
  },
  {
   "cell_type": "code",
   "execution_count": 1,
   "metadata": {},
   "outputs": [],
   "source": [
    "from bokeh.io import output_notebook, show\n",
    "from bokeh.plotting import figure"
   ]
  },
  {
   "cell_type": "code",
   "execution_count": null,
   "metadata": {},
   "outputs": [],
   "source": []
  },
  {
   "cell_type": "markdown",
   "metadata": {},
   "source": [
    "In this case, we are in the Jupyter notebook, so call `output_notebook()`. We only need to call this once, and all subsequent calls to `show()` will display inline in the notebook."
   ]
  },
  {
   "cell_type": "code",
   "execution_count": 2,
   "metadata": {},
   "outputs": [
    {
     "data": {
      "text/html": [
       "\n",
       "    <div class=\"bk-root\">\n",
       "        <a href=\"https://bokeh.pydata.org\" target=\"_blank\" class=\"bk-logo bk-logo-small bk-logo-notebook\"></a>\n",
       "        <span id=\"5dac6c1b-b7c6-4fb7-b73c-2025b9a7eccb\">Loading BokehJS ...</span>\n",
       "    </div>"
      ]
     },
     "metadata": {},
     "output_type": "display_data"
    },
    {
     "data": {
      "application/javascript": [
       "\n",
       "(function(root) {\n",
       "  function now() {\n",
       "    return new Date();\n",
       "  }\n",
       "\n",
       "  var force = true;\n",
       "\n",
       "  if (typeof (root._bokeh_onload_callbacks) === \"undefined\" || force === true) {\n",
       "    root._bokeh_onload_callbacks = [];\n",
       "    root._bokeh_is_loading = undefined;\n",
       "  }\n",
       "\n",
       "  var JS_MIME_TYPE = 'application/javascript';\n",
       "  var HTML_MIME_TYPE = 'text/html';\n",
       "  var EXEC_MIME_TYPE = 'application/vnd.bokehjs_exec.v0+json';\n",
       "  var CLASS_NAME = 'output_bokeh rendered_html';\n",
       "\n",
       "  /**\n",
       "   * Render data to the DOM node\n",
       "   */\n",
       "  function render(props, node) {\n",
       "    var script = document.createElement(\"script\");\n",
       "    node.appendChild(script);\n",
       "  }\n",
       "\n",
       "  /**\n",
       "   * Handle when an output is cleared or removed\n",
       "   */\n",
       "  function handleClearOutput(event, handle) {\n",
       "    var cell = handle.cell;\n",
       "\n",
       "    var id = cell.output_area._bokeh_element_id;\n",
       "    var server_id = cell.output_area._bokeh_server_id;\n",
       "    // Clean up Bokeh references\n",
       "    if (id !== undefined) {\n",
       "      Bokeh.index[id].model.document.clear();\n",
       "      delete Bokeh.index[id];\n",
       "    }\n",
       "\n",
       "    if (server_id !== undefined) {\n",
       "      // Clean up Bokeh references\n",
       "      var cmd = \"from bokeh.io.state import curstate; print(curstate().uuid_to_server['\" + server_id + \"'].get_sessions()[0].document.roots[0]._id)\";\n",
       "      cell.notebook.kernel.execute(cmd, {\n",
       "        iopub: {\n",
       "          output: function(msg) {\n",
       "            var element_id = msg.content.text.trim();\n",
       "            Bokeh.index[element_id].model.document.clear();\n",
       "            delete Bokeh.index[element_id];\n",
       "          }\n",
       "        }\n",
       "      });\n",
       "      // Destroy server and session\n",
       "      var cmd = \"import bokeh.io.notebook as ion; ion.destroy_server('\" + server_id + \"')\";\n",
       "      cell.notebook.kernel.execute(cmd);\n",
       "    }\n",
       "  }\n",
       "\n",
       "  /**\n",
       "   * Handle when a new output is added\n",
       "   */\n",
       "  function handleAddOutput(event, handle) {\n",
       "    var output_area = handle.output_area;\n",
       "    var output = handle.output;\n",
       "\n",
       "    // limit handleAddOutput to display_data with EXEC_MIME_TYPE content only\n",
       "    if ((output.output_type != \"display_data\") || (!output.data.hasOwnProperty(EXEC_MIME_TYPE))) {\n",
       "      return\n",
       "    }\n",
       "\n",
       "    var toinsert = output_area.element.find(\".\" + CLASS_NAME.split(' ')[0]);\n",
       "\n",
       "    if (output.metadata[EXEC_MIME_TYPE][\"id\"] !== undefined) {\n",
       "      toinsert[0].firstChild.textContent = output.data[JS_MIME_TYPE];\n",
       "      // store reference to embed id on output_area\n",
       "      output_area._bokeh_element_id = output.metadata[EXEC_MIME_TYPE][\"id\"];\n",
       "    }\n",
       "    if (output.metadata[EXEC_MIME_TYPE][\"server_id\"] !== undefined) {\n",
       "      var bk_div = document.createElement(\"div\");\n",
       "      bk_div.innerHTML = output.data[HTML_MIME_TYPE];\n",
       "      var script_attrs = bk_div.children[0].attributes;\n",
       "      for (var i = 0; i < script_attrs.length; i++) {\n",
       "        toinsert[0].firstChild.setAttribute(script_attrs[i].name, script_attrs[i].value);\n",
       "      }\n",
       "      // store reference to server id on output_area\n",
       "      output_area._bokeh_server_id = output.metadata[EXEC_MIME_TYPE][\"server_id\"];\n",
       "    }\n",
       "  }\n",
       "\n",
       "  function register_renderer(events, OutputArea) {\n",
       "\n",
       "    function append_mime(data, metadata, element) {\n",
       "      // create a DOM node to render to\n",
       "      var toinsert = this.create_output_subarea(\n",
       "        metadata,\n",
       "        CLASS_NAME,\n",
       "        EXEC_MIME_TYPE\n",
       "      );\n",
       "      this.keyboard_manager.register_events(toinsert);\n",
       "      // Render to node\n",
       "      var props = {data: data, metadata: metadata[EXEC_MIME_TYPE]};\n",
       "      render(props, toinsert[0]);\n",
       "      element.append(toinsert);\n",
       "      return toinsert\n",
       "    }\n",
       "\n",
       "    /* Handle when an output is cleared or removed */\n",
       "    events.on('clear_output.CodeCell', handleClearOutput);\n",
       "    events.on('delete.Cell', handleClearOutput);\n",
       "\n",
       "    /* Handle when a new output is added */\n",
       "    events.on('output_added.OutputArea', handleAddOutput);\n",
       "\n",
       "    /**\n",
       "     * Register the mime type and append_mime function with output_area\n",
       "     */\n",
       "    OutputArea.prototype.register_mime_type(EXEC_MIME_TYPE, append_mime, {\n",
       "      /* Is output safe? */\n",
       "      safe: true,\n",
       "      /* Index of renderer in `output_area.display_order` */\n",
       "      index: 0\n",
       "    });\n",
       "  }\n",
       "\n",
       "  // register the mime type if in Jupyter Notebook environment and previously unregistered\n",
       "  if (root.Jupyter !== undefined) {\n",
       "    var events = require('base/js/events');\n",
       "    var OutputArea = require('notebook/js/outputarea').OutputArea;\n",
       "\n",
       "    if (OutputArea.prototype.mime_types().indexOf(EXEC_MIME_TYPE) == -1) {\n",
       "      register_renderer(events, OutputArea);\n",
       "    }\n",
       "  }\n",
       "\n",
       "  \n",
       "  if (typeof (root._bokeh_timeout) === \"undefined\" || force === true) {\n",
       "    root._bokeh_timeout = Date.now() + 5000;\n",
       "    root._bokeh_failed_load = false;\n",
       "  }\n",
       "\n",
       "  var NB_LOAD_WARNING = {'data': {'text/html':\n",
       "     \"<div style='background-color: #fdd'>\\n\"+\n",
       "     \"<p>\\n\"+\n",
       "     \"BokehJS does not appear to have successfully loaded. If loading BokehJS from CDN, this \\n\"+\n",
       "     \"may be due to a slow or bad network connection. Possible fixes:\\n\"+\n",
       "     \"</p>\\n\"+\n",
       "     \"<ul>\\n\"+\n",
       "     \"<li>re-rerun `output_notebook()` to attempt to load from CDN again, or</li>\\n\"+\n",
       "     \"<li>use INLINE resources instead, as so:</li>\\n\"+\n",
       "     \"</ul>\\n\"+\n",
       "     \"<code>\\n\"+\n",
       "     \"from bokeh.resources import INLINE\\n\"+\n",
       "     \"output_notebook(resources=INLINE)\\n\"+\n",
       "     \"</code>\\n\"+\n",
       "     \"</div>\"}};\n",
       "\n",
       "  function display_loaded() {\n",
       "    var el = document.getElementById(\"5dac6c1b-b7c6-4fb7-b73c-2025b9a7eccb\");\n",
       "    if (el != null) {\n",
       "      el.textContent = \"BokehJS is loading...\";\n",
       "    }\n",
       "    if (root.Bokeh !== undefined) {\n",
       "      if (el != null) {\n",
       "        el.textContent = \"BokehJS \" + root.Bokeh.version + \" successfully loaded.\";\n",
       "      }\n",
       "    } else if (Date.now() < root._bokeh_timeout) {\n",
       "      setTimeout(display_loaded, 100)\n",
       "    }\n",
       "  }\n",
       "\n",
       "\n",
       "  function run_callbacks() {\n",
       "    try {\n",
       "      root._bokeh_onload_callbacks.forEach(function(callback) { callback() });\n",
       "    }\n",
       "    finally {\n",
       "      delete root._bokeh_onload_callbacks\n",
       "    }\n",
       "    console.info(\"Bokeh: all callbacks have finished\");\n",
       "  }\n",
       "\n",
       "  function load_libs(js_urls, callback) {\n",
       "    root._bokeh_onload_callbacks.push(callback);\n",
       "    if (root._bokeh_is_loading > 0) {\n",
       "      console.log(\"Bokeh: BokehJS is being loaded, scheduling callback at\", now());\n",
       "      return null;\n",
       "    }\n",
       "    if (js_urls == null || js_urls.length === 0) {\n",
       "      run_callbacks();\n",
       "      return null;\n",
       "    }\n",
       "    console.log(\"Bokeh: BokehJS not loaded, scheduling load and callback at\", now());\n",
       "    root._bokeh_is_loading = js_urls.length;\n",
       "    for (var i = 0; i < js_urls.length; i++) {\n",
       "      var url = js_urls[i];\n",
       "      var s = document.createElement('script');\n",
       "      s.src = url;\n",
       "      s.async = false;\n",
       "      s.onreadystatechange = s.onload = function() {\n",
       "        root._bokeh_is_loading--;\n",
       "        if (root._bokeh_is_loading === 0) {\n",
       "          console.log(\"Bokeh: all BokehJS libraries loaded\");\n",
       "          run_callbacks()\n",
       "        }\n",
       "      };\n",
       "      s.onerror = function() {\n",
       "        console.warn(\"failed to load library \" + url);\n",
       "      };\n",
       "      console.log(\"Bokeh: injecting script tag for BokehJS library: \", url);\n",
       "      document.getElementsByTagName(\"head\")[0].appendChild(s);\n",
       "    }\n",
       "  };var element = document.getElementById(\"5dac6c1b-b7c6-4fb7-b73c-2025b9a7eccb\");\n",
       "  if (element == null) {\n",
       "    console.log(\"Bokeh: ERROR: autoload.js configured with elementid '5dac6c1b-b7c6-4fb7-b73c-2025b9a7eccb' but no matching script tag was found. \")\n",
       "    return false;\n",
       "  }\n",
       "\n",
       "  var js_urls = [\"https://cdn.pydata.org/bokeh/release/bokeh-0.12.13.min.js\", \"https://cdn.pydata.org/bokeh/release/bokeh-widgets-0.12.13.min.js\", \"https://cdn.pydata.org/bokeh/release/bokeh-tables-0.12.13.min.js\", \"https://cdn.pydata.org/bokeh/release/bokeh-gl-0.12.13.min.js\"];\n",
       "\n",
       "  var inline_js = [\n",
       "    function(Bokeh) {\n",
       "      Bokeh.set_log_level(\"info\");\n",
       "    },\n",
       "    \n",
       "    function(Bokeh) {\n",
       "      \n",
       "    },\n",
       "    function(Bokeh) {\n",
       "      console.log(\"Bokeh: injecting CSS: https://cdn.pydata.org/bokeh/release/bokeh-0.12.13.min.css\");\n",
       "      Bokeh.embed.inject_css(\"https://cdn.pydata.org/bokeh/release/bokeh-0.12.13.min.css\");\n",
       "      console.log(\"Bokeh: injecting CSS: https://cdn.pydata.org/bokeh/release/bokeh-widgets-0.12.13.min.css\");\n",
       "      Bokeh.embed.inject_css(\"https://cdn.pydata.org/bokeh/release/bokeh-widgets-0.12.13.min.css\");\n",
       "      console.log(\"Bokeh: injecting CSS: https://cdn.pydata.org/bokeh/release/bokeh-tables-0.12.13.min.css\");\n",
       "      Bokeh.embed.inject_css(\"https://cdn.pydata.org/bokeh/release/bokeh-tables-0.12.13.min.css\");\n",
       "    }\n",
       "  ];\n",
       "\n",
       "  function run_inline_js() {\n",
       "    \n",
       "    if ((root.Bokeh !== undefined) || (force === true)) {\n",
       "      for (var i = 0; i < inline_js.length; i++) {\n",
       "        inline_js[i].call(root, root.Bokeh);\n",
       "      }if (force === true) {\n",
       "        display_loaded();\n",
       "      }} else if (Date.now() < root._bokeh_timeout) {\n",
       "      setTimeout(run_inline_js, 100);\n",
       "    } else if (!root._bokeh_failed_load) {\n",
       "      console.log(\"Bokeh: BokehJS failed to load within specified timeout.\");\n",
       "      root._bokeh_failed_load = true;\n",
       "    } else if (force !== true) {\n",
       "      var cell = $(document.getElementById(\"5dac6c1b-b7c6-4fb7-b73c-2025b9a7eccb\")).parents('.cell').data().cell;\n",
       "      cell.output_area.append_execute_result(NB_LOAD_WARNING)\n",
       "    }\n",
       "\n",
       "  }\n",
       "\n",
       "  if (root._bokeh_is_loading === 0) {\n",
       "    console.log(\"Bokeh: BokehJS loaded, going straight to plotting\");\n",
       "    run_inline_js();\n",
       "  } else {\n",
       "    load_libs(js_urls, function() {\n",
       "      console.log(\"Bokeh: BokehJS plotting callback run at\", now());\n",
       "      run_inline_js();\n",
       "    });\n",
       "  }\n",
       "}(window));"
      ],
      "application/vnd.bokehjs_load.v0+json": "\n(function(root) {\n  function now() {\n    return new Date();\n  }\n\n  var force = true;\n\n  if (typeof (root._bokeh_onload_callbacks) === \"undefined\" || force === true) {\n    root._bokeh_onload_callbacks = [];\n    root._bokeh_is_loading = undefined;\n  }\n\n  \n\n  \n  if (typeof (root._bokeh_timeout) === \"undefined\" || force === true) {\n    root._bokeh_timeout = Date.now() + 5000;\n    root._bokeh_failed_load = false;\n  }\n\n  var NB_LOAD_WARNING = {'data': {'text/html':\n     \"<div style='background-color: #fdd'>\\n\"+\n     \"<p>\\n\"+\n     \"BokehJS does not appear to have successfully loaded. If loading BokehJS from CDN, this \\n\"+\n     \"may be due to a slow or bad network connection. Possible fixes:\\n\"+\n     \"</p>\\n\"+\n     \"<ul>\\n\"+\n     \"<li>re-rerun `output_notebook()` to attempt to load from CDN again, or</li>\\n\"+\n     \"<li>use INLINE resources instead, as so:</li>\\n\"+\n     \"</ul>\\n\"+\n     \"<code>\\n\"+\n     \"from bokeh.resources import INLINE\\n\"+\n     \"output_notebook(resources=INLINE)\\n\"+\n     \"</code>\\n\"+\n     \"</div>\"}};\n\n  function display_loaded() {\n    var el = document.getElementById(\"5dac6c1b-b7c6-4fb7-b73c-2025b9a7eccb\");\n    if (el != null) {\n      el.textContent = \"BokehJS is loading...\";\n    }\n    if (root.Bokeh !== undefined) {\n      if (el != null) {\n        el.textContent = \"BokehJS \" + root.Bokeh.version + \" successfully loaded.\";\n      }\n    } else if (Date.now() < root._bokeh_timeout) {\n      setTimeout(display_loaded, 100)\n    }\n  }\n\n\n  function run_callbacks() {\n    try {\n      root._bokeh_onload_callbacks.forEach(function(callback) { callback() });\n    }\n    finally {\n      delete root._bokeh_onload_callbacks\n    }\n    console.info(\"Bokeh: all callbacks have finished\");\n  }\n\n  function load_libs(js_urls, callback) {\n    root._bokeh_onload_callbacks.push(callback);\n    if (root._bokeh_is_loading > 0) {\n      console.log(\"Bokeh: BokehJS is being loaded, scheduling callback at\", now());\n      return null;\n    }\n    if (js_urls == null || js_urls.length === 0) {\n      run_callbacks();\n      return null;\n    }\n    console.log(\"Bokeh: BokehJS not loaded, scheduling load and callback at\", now());\n    root._bokeh_is_loading = js_urls.length;\n    for (var i = 0; i < js_urls.length; i++) {\n      var url = js_urls[i];\n      var s = document.createElement('script');\n      s.src = url;\n      s.async = false;\n      s.onreadystatechange = s.onload = function() {\n        root._bokeh_is_loading--;\n        if (root._bokeh_is_loading === 0) {\n          console.log(\"Bokeh: all BokehJS libraries loaded\");\n          run_callbacks()\n        }\n      };\n      s.onerror = function() {\n        console.warn(\"failed to load library \" + url);\n      };\n      console.log(\"Bokeh: injecting script tag for BokehJS library: \", url);\n      document.getElementsByTagName(\"head\")[0].appendChild(s);\n    }\n  };var element = document.getElementById(\"5dac6c1b-b7c6-4fb7-b73c-2025b9a7eccb\");\n  if (element == null) {\n    console.log(\"Bokeh: ERROR: autoload.js configured with elementid '5dac6c1b-b7c6-4fb7-b73c-2025b9a7eccb' but no matching script tag was found. \")\n    return false;\n  }\n\n  var js_urls = [\"https://cdn.pydata.org/bokeh/release/bokeh-0.12.13.min.js\", \"https://cdn.pydata.org/bokeh/release/bokeh-widgets-0.12.13.min.js\", \"https://cdn.pydata.org/bokeh/release/bokeh-tables-0.12.13.min.js\", \"https://cdn.pydata.org/bokeh/release/bokeh-gl-0.12.13.min.js\"];\n\n  var inline_js = [\n    function(Bokeh) {\n      Bokeh.set_log_level(\"info\");\n    },\n    \n    function(Bokeh) {\n      \n    },\n    function(Bokeh) {\n      console.log(\"Bokeh: injecting CSS: https://cdn.pydata.org/bokeh/release/bokeh-0.12.13.min.css\");\n      Bokeh.embed.inject_css(\"https://cdn.pydata.org/bokeh/release/bokeh-0.12.13.min.css\");\n      console.log(\"Bokeh: injecting CSS: https://cdn.pydata.org/bokeh/release/bokeh-widgets-0.12.13.min.css\");\n      Bokeh.embed.inject_css(\"https://cdn.pydata.org/bokeh/release/bokeh-widgets-0.12.13.min.css\");\n      console.log(\"Bokeh: injecting CSS: https://cdn.pydata.org/bokeh/release/bokeh-tables-0.12.13.min.css\");\n      Bokeh.embed.inject_css(\"https://cdn.pydata.org/bokeh/release/bokeh-tables-0.12.13.min.css\");\n    }\n  ];\n\n  function run_inline_js() {\n    \n    if ((root.Bokeh !== undefined) || (force === true)) {\n      for (var i = 0; i < inline_js.length; i++) {\n        inline_js[i].call(root, root.Bokeh);\n      }if (force === true) {\n        display_loaded();\n      }} else if (Date.now() < root._bokeh_timeout) {\n      setTimeout(run_inline_js, 100);\n    } else if (!root._bokeh_failed_load) {\n      console.log(\"Bokeh: BokehJS failed to load within specified timeout.\");\n      root._bokeh_failed_load = true;\n    } else if (force !== true) {\n      var cell = $(document.getElementById(\"5dac6c1b-b7c6-4fb7-b73c-2025b9a7eccb\")).parents('.cell').data().cell;\n      cell.output_area.append_execute_result(NB_LOAD_WARNING)\n    }\n\n  }\n\n  if (root._bokeh_is_loading === 0) {\n    console.log(\"Bokeh: BokehJS loaded, going straight to plotting\");\n    run_inline_js();\n  } else {\n    load_libs(js_urls, function() {\n      console.log(\"Bokeh: BokehJS plotting callback run at\", now());\n      run_inline_js();\n    });\n  }\n}(window));"
     },
     "metadata": {},
     "output_type": "display_data"
    }
   ],
   "source": [
    "output_notebook()"
   ]
  },
  {
   "cell_type": "markdown",
   "metadata": {},
   "source": [
    "# Some Basic Scatter Plots\n",
    "\n",
    "In this section you will see how to use Bokeh's various marker types to create simple scatter plots. "
   ]
  },
  {
   "cell_type": "code",
   "execution_count": 3,
   "metadata": {},
   "outputs": [
    {
     "data": {
      "text/html": [
       "\n",
       "<div class=\"bk-root\">\n",
       "    <div class=\"bk-plotdiv\" id=\"33c5c85c-316a-4115-b5a3-f5c7cd181fc5\"></div>\n",
       "</div>"
      ]
     },
     "metadata": {},
     "output_type": "display_data"
    },
    {
     "data": {
      "application/javascript": [
       "(function(root) {\n",
       "  function embed_document(root) {\n",
       "    \n",
       "  var docs_json = {\"fed2fcc4-a591-4b74-b980-5ee4611305d6\":{\"roots\":{\"references\":[{\"attributes\":{\"fill_alpha\":{\"value\":0.1},\"fill_color\":{\"value\":\"#1f77b4\"},\"line_alpha\":{\"value\":0.1},\"line_color\":{\"value\":\"#1f77b4\"},\"size\":{\"units\":\"screen\",\"value\":15},\"x\":{\"field\":\"x\"},\"y\":{\"field\":\"y\"}},\"id\":\"2dcd7946-8bd8-4818-b3c2-f48be1f94f16\",\"type\":\"Circle\"},{\"attributes\":{\"fill_alpha\":{\"value\":0.5},\"fill_color\":{\"value\":\"orange\"},\"line_color\":{\"value\":\"navy\"},\"size\":{\"units\":\"screen\",\"value\":15},\"x\":{\"field\":\"x\"},\"y\":{\"field\":\"y\"}},\"id\":\"5fe34d3f-4d7a-46a7-878e-27b45fffbec0\",\"type\":\"Circle\"},{\"attributes\":{\"plot\":{\"id\":\"91863f6d-1d66-4e7b-9aca-bc572ce4d946\",\"subtype\":\"Figure\",\"type\":\"Plot\"},\"ticker\":{\"id\":\"84eec2e7-a892-4c77-8ed1-6a7a3b579c16\",\"type\":\"BasicTicker\"}},\"id\":\"3aeb9ad4-9362-4088-8535-4cda74fd9ee1\",\"type\":\"Grid\"},{\"attributes\":{\"source\":{\"id\":\"1c7992fa-0ee7-4566-97ef-cb60caaf3145\",\"type\":\"ColumnDataSource\"}},\"id\":\"2b7eec62-bb2a-4624-b232-bff53600ee81\",\"type\":\"CDSView\"},{\"attributes\":{},\"id\":\"283e0eb3-65d5-4219-a1e0-10bd839b7bda\",\"type\":\"BasicTickFormatter\"},{\"attributes\":{\"formatter\":{\"id\":\"283e0eb3-65d5-4219-a1e0-10bd839b7bda\",\"type\":\"BasicTickFormatter\"},\"plot\":{\"id\":\"91863f6d-1d66-4e7b-9aca-bc572ce4d946\",\"subtype\":\"Figure\",\"type\":\"Plot\"},\"ticker\":{\"id\":\"bd3f8263-a8a1-41ac-925f-4add5c9da215\",\"type\":\"BasicTicker\"}},\"id\":\"3b1f20ba-0f3b-44b7-bf59-ecc2c0cf0f70\",\"type\":\"LinearAxis\"},{\"attributes\":{},\"id\":\"bd3f8263-a8a1-41ac-925f-4add5c9da215\",\"type\":\"BasicTicker\"},{\"attributes\":{\"data_source\":{\"id\":\"1c7992fa-0ee7-4566-97ef-cb60caaf3145\",\"type\":\"ColumnDataSource\"},\"glyph\":{\"id\":\"5fe34d3f-4d7a-46a7-878e-27b45fffbec0\",\"type\":\"Circle\"},\"hover_glyph\":null,\"muted_glyph\":null,\"nonselection_glyph\":{\"id\":\"2dcd7946-8bd8-4818-b3c2-f48be1f94f16\",\"type\":\"Circle\"},\"selection_glyph\":null,\"view\":{\"id\":\"2b7eec62-bb2a-4624-b232-bff53600ee81\",\"type\":\"CDSView\"}},\"id\":\"3eaf4713-bf99-49b8-a6cb-12e2469c3d6e\",\"type\":\"GlyphRenderer\"},{\"attributes\":{\"below\":[{\"id\":\"c3ba3255-3aae-4164-9475-a57b4c3b7a32\",\"type\":\"LinearAxis\"}],\"left\":[{\"id\":\"3b1f20ba-0f3b-44b7-bf59-ecc2c0cf0f70\",\"type\":\"LinearAxis\"}],\"plot_height\":400,\"plot_width\":400,\"renderers\":[{\"id\":\"c3ba3255-3aae-4164-9475-a57b4c3b7a32\",\"type\":\"LinearAxis\"},{\"id\":\"3aeb9ad4-9362-4088-8535-4cda74fd9ee1\",\"type\":\"Grid\"},{\"id\":\"3b1f20ba-0f3b-44b7-bf59-ecc2c0cf0f70\",\"type\":\"LinearAxis\"},{\"id\":\"45d9faf3-71fb-40e4-ae5d-e72923190b1a\",\"type\":\"Grid\"},{\"id\":\"c2d5652b-8a88-4ec0-914d-1fe16c987ff2\",\"type\":\"BoxAnnotation\"},{\"id\":\"3eaf4713-bf99-49b8-a6cb-12e2469c3d6e\",\"type\":\"GlyphRenderer\"}],\"title\":{\"id\":\"63551b5f-1f5e-4c99-a6a0-bc6e4cac1ba5\",\"type\":\"Title\"},\"toolbar\":{\"id\":\"a2cb6971-b3d1-43ef-865f-daeeb51aaad2\",\"type\":\"Toolbar\"},\"x_range\":{\"id\":\"34c7703b-282c-4df4-a859-970dbc0d5ccb\",\"type\":\"DataRange1d\"},\"x_scale\":{\"id\":\"1b10eb8c-fd98-468b-9752-bdcdf85f0289\",\"type\":\"LinearScale\"},\"y_range\":{\"id\":\"9d463528-68de-458d-9508-e523ee5a10be\",\"type\":\"DataRange1d\"},\"y_scale\":{\"id\":\"545e2e8f-bc97-4442-be25-981ead9201be\",\"type\":\"LinearScale\"}},\"id\":\"91863f6d-1d66-4e7b-9aca-bc572ce4d946\",\"subtype\":\"Figure\",\"type\":\"Plot\"},{\"attributes\":{\"dimension\":1,\"plot\":{\"id\":\"91863f6d-1d66-4e7b-9aca-bc572ce4d946\",\"subtype\":\"Figure\",\"type\":\"Plot\"},\"ticker\":{\"id\":\"bd3f8263-a8a1-41ac-925f-4add5c9da215\",\"type\":\"BasicTicker\"}},\"id\":\"45d9faf3-71fb-40e4-ae5d-e72923190b1a\",\"type\":\"Grid\"},{\"attributes\":{\"callback\":null,\"column_names\":[\"x\",\"y\"],\"data\":{\"x\":[1,2,3,4,5],\"y\":[6,7,2,4,5]}},\"id\":\"1c7992fa-0ee7-4566-97ef-cb60caaf3145\",\"type\":\"ColumnDataSource\"},{\"attributes\":{\"active_drag\":\"auto\",\"active_inspect\":\"auto\",\"active_scroll\":\"auto\",\"active_tap\":\"auto\",\"tools\":[{\"id\":\"0540f034-4c8a-4fd0-924b-a643025f5349\",\"type\":\"PanTool\"},{\"id\":\"41376772-6e92-4eb6-a1ee-38c32340d775\",\"type\":\"WheelZoomTool\"},{\"id\":\"87fa0ef3-dfc1-467b-a4a8-5c91c896ff0e\",\"type\":\"BoxZoomTool\"},{\"id\":\"c12e0259-13ce-4330-aba8-072a9e68aece\",\"type\":\"SaveTool\"},{\"id\":\"e255ab5e-dd67-43e1-a3ff-d81b829266c7\",\"type\":\"ResetTool\"},{\"id\":\"a220e28f-dbaf-4d07-b2f3-8a81065a4b98\",\"type\":\"HelpTool\"}]},\"id\":\"a2cb6971-b3d1-43ef-865f-daeeb51aaad2\",\"type\":\"Toolbar\"},{\"attributes\":{},\"id\":\"0540f034-4c8a-4fd0-924b-a643025f5349\",\"type\":\"PanTool\"},{\"attributes\":{\"callback\":null},\"id\":\"34c7703b-282c-4df4-a859-970dbc0d5ccb\",\"type\":\"DataRange1d\"},{\"attributes\":{\"bottom_units\":\"screen\",\"fill_alpha\":{\"value\":0.5},\"fill_color\":{\"value\":\"lightgrey\"},\"left_units\":\"screen\",\"level\":\"overlay\",\"line_alpha\":{\"value\":1.0},\"line_color\":{\"value\":\"black\"},\"line_dash\":[4,4],\"line_width\":{\"value\":2},\"plot\":null,\"render_mode\":\"css\",\"right_units\":\"screen\",\"top_units\":\"screen\"},\"id\":\"c2d5652b-8a88-4ec0-914d-1fe16c987ff2\",\"type\":\"BoxAnnotation\"},{\"attributes\":{},\"id\":\"41376772-6e92-4eb6-a1ee-38c32340d775\",\"type\":\"WheelZoomTool\"},{\"attributes\":{\"callback\":null},\"id\":\"9d463528-68de-458d-9508-e523ee5a10be\",\"type\":\"DataRange1d\"},{\"attributes\":{\"overlay\":{\"id\":\"c2d5652b-8a88-4ec0-914d-1fe16c987ff2\",\"type\":\"BoxAnnotation\"}},\"id\":\"87fa0ef3-dfc1-467b-a4a8-5c91c896ff0e\",\"type\":\"BoxZoomTool\"},{\"attributes\":{},\"id\":\"1b10eb8c-fd98-468b-9752-bdcdf85f0289\",\"type\":\"LinearScale\"},{\"attributes\":{},\"id\":\"c12e0259-13ce-4330-aba8-072a9e68aece\",\"type\":\"SaveTool\"},{\"attributes\":{},\"id\":\"545e2e8f-bc97-4442-be25-981ead9201be\",\"type\":\"LinearScale\"},{\"attributes\":{},\"id\":\"e255ab5e-dd67-43e1-a3ff-d81b829266c7\",\"type\":\"ResetTool\"},{\"attributes\":{\"plot\":null,\"text\":\"\"},\"id\":\"63551b5f-1f5e-4c99-a6a0-bc6e4cac1ba5\",\"type\":\"Title\"},{\"attributes\":{\"formatter\":{\"id\":\"69407752-6de2-437a-8e37-b8e76328aec2\",\"type\":\"BasicTickFormatter\"},\"plot\":{\"id\":\"91863f6d-1d66-4e7b-9aca-bc572ce4d946\",\"subtype\":\"Figure\",\"type\":\"Plot\"},\"ticker\":{\"id\":\"84eec2e7-a892-4c77-8ed1-6a7a3b579c16\",\"type\":\"BasicTicker\"}},\"id\":\"c3ba3255-3aae-4164-9475-a57b4c3b7a32\",\"type\":\"LinearAxis\"},{\"attributes\":{},\"id\":\"a220e28f-dbaf-4d07-b2f3-8a81065a4b98\",\"type\":\"HelpTool\"},{\"attributes\":{},\"id\":\"84eec2e7-a892-4c77-8ed1-6a7a3b579c16\",\"type\":\"BasicTicker\"},{\"attributes\":{},\"id\":\"69407752-6de2-437a-8e37-b8e76328aec2\",\"type\":\"BasicTickFormatter\"}],\"root_ids\":[\"91863f6d-1d66-4e7b-9aca-bc572ce4d946\"]},\"title\":\"Bokeh Application\",\"version\":\"0.12.13\"}};\n",
       "  var render_items = [{\"docid\":\"fed2fcc4-a591-4b74-b980-5ee4611305d6\",\"elementid\":\"33c5c85c-316a-4115-b5a3-f5c7cd181fc5\",\"modelid\":\"91863f6d-1d66-4e7b-9aca-bc572ce4d946\"}];\n",
       "  root.Bokeh.embed.embed_items_notebook(docs_json, render_items);\n",
       "\n",
       "  }\n",
       "  if (root.Bokeh !== undefined) {\n",
       "    embed_document(root);\n",
       "  } else {\n",
       "    var attempts = 0;\n",
       "    var timer = setInterval(function(root) {\n",
       "      if (root.Bokeh !== undefined) {\n",
       "        embed_document(root);\n",
       "        clearInterval(timer);\n",
       "      }\n",
       "      attempts++;\n",
       "      if (attempts > 100) {\n",
       "        console.log(\"Bokeh: ERROR: Unable to run BokehJS code because BokehJS library is missing\")\n",
       "        clearInterval(timer);\n",
       "      }\n",
       "    }, 10, root)\n",
       "  }\n",
       "})(window);"
      ],
      "application/vnd.bokehjs_exec.v0+json": ""
     },
     "metadata": {
      "application/vnd.bokehjs_exec.v0+json": {
       "id": "91863f6d-1d66-4e7b-9aca-bc572ce4d946"
      }
     },
     "output_type": "display_data"
    }
   ],
   "source": [
    "# create a new plot with default tools, using figure\n",
    "p = figure(plot_width=400, plot_height=400)\n",
    "\n",
    "# add a circle renderer with a size, color, and alpha\n",
    "p.circle([1, 2, 3, 4, 5], [6, 7, 2, 4, 5], size=15, line_color=\"navy\", fill_color=\"orange\", fill_alpha=0.5)\n",
    "\n",
    "show(p) # show the results"
   ]
  },
  {
   "cell_type": "markdown",
   "metadata": {},
   "source": [
    "All Bokeh markers accept `size` (measured in screen space units) as a property. Circles also have `radius` (measured in \"data\" space units). "
   ]
  },
  {
   "cell_type": "code",
   "execution_count": 4,
   "metadata": {},
   "outputs": [],
   "source": [
    "# EXERCISE: Try changing the example above to set a `radius` value instead of `size`\n",
    "\n"
   ]
  },
  {
   "cell_type": "markdown",
   "metadata": {},
   "source": [
    "To scatter square markers instead of circles, you can use the `square` method on figures. "
   ]
  },
  {
   "cell_type": "code",
   "execution_count": 4,
   "metadata": {},
   "outputs": [
    {
     "data": {
      "text/html": [
       "\n",
       "<div class=\"bk-root\">\n",
       "    <div class=\"bk-plotdiv\" id=\"bf2d07a9-1e6d-4f69-91e5-f1e49806d982\"></div>\n",
       "</div>"
      ]
     },
     "metadata": {},
     "output_type": "display_data"
    },
    {
     "data": {
      "application/javascript": [
       "(function(root) {\n",
       "  function embed_document(root) {\n",
       "    \n",
       "  var docs_json = {\"711277b8-d693-49c0-a27a-0efb0486bf4d\":{\"roots\":{\"references\":[{\"attributes\":{},\"id\":\"81286703-0ec7-4126-8452-679f5dee089f\",\"type\":\"BasicTicker\"},{\"attributes\":{\"active_drag\":\"auto\",\"active_inspect\":\"auto\",\"active_scroll\":\"auto\",\"active_tap\":\"auto\",\"tools\":[{\"id\":\"8302bed2-dcc3-4b5c-9fd7-d2b0b1d45573\",\"type\":\"PanTool\"},{\"id\":\"4e5a1b49-7354-4436-9e85-8cae2d82fe6f\",\"type\":\"WheelZoomTool\"},{\"id\":\"9c4ba66d-6b59-4499-8675-897f05240ab8\",\"type\":\"BoxZoomTool\"},{\"id\":\"462dcfd9-32ab-4bae-9e78-3982ab1065e2\",\"type\":\"SaveTool\"},{\"id\":\"0439fbac-4e84-4125-ae70-3b9c684895e3\",\"type\":\"ResetTool\"},{\"id\":\"f5a7c914-d2ac-4281-b04b-0117ccb8c768\",\"type\":\"HelpTool\"}]},\"id\":\"29297031-1194-42e0-8f25-85ef7aefaf4c\",\"type\":\"Toolbar\"},{\"attributes\":{\"source\":{\"id\":\"7dd691bb-b92d-4a56-9fc7-20ee14c0a1db\",\"type\":\"ColumnDataSource\"}},\"id\":\"7539e04c-7a03-4332-8123-e569258097da\",\"type\":\"CDSView\"},{\"attributes\":{},\"id\":\"a41bc5cd-d447-43a4-b01e-bb0f53388aa1\",\"type\":\"LinearScale\"},{\"attributes\":{\"bottom_units\":\"screen\",\"fill_alpha\":{\"value\":0.5},\"fill_color\":{\"value\":\"lightgrey\"},\"left_units\":\"screen\",\"level\":\"overlay\",\"line_alpha\":{\"value\":1.0},\"line_color\":{\"value\":\"black\"},\"line_dash\":[4,4],\"line_width\":{\"value\":2},\"plot\":null,\"render_mode\":\"css\",\"right_units\":\"screen\",\"top_units\":\"screen\"},\"id\":\"c62af89f-c364-478e-8f61-65060f4c4bb0\",\"type\":\"BoxAnnotation\"},{\"attributes\":{\"plot\":{\"id\":\"3d188fce-a589-4681-a6c6-612018f92cc3\",\"subtype\":\"Figure\",\"type\":\"Plot\"},\"ticker\":{\"id\":\"81286703-0ec7-4126-8452-679f5dee089f\",\"type\":\"BasicTicker\"}},\"id\":\"b9b5fdb8-714c-4283-9b62-7503905c1631\",\"type\":\"Grid\"},{\"attributes\":{\"callback\":null},\"id\":\"615dab1c-4fa7-4551-bb83-7d69b3d58ec5\",\"type\":\"DataRange1d\"},{\"attributes\":{\"below\":[{\"id\":\"039a547c-7682-40a3-9ac6-1a726954953e\",\"type\":\"LinearAxis\"}],\"left\":[{\"id\":\"ad2af2d0-53c7-4321-a3e3-094176f61014\",\"type\":\"LinearAxis\"}],\"plot_height\":400,\"plot_width\":400,\"renderers\":[{\"id\":\"039a547c-7682-40a3-9ac6-1a726954953e\",\"type\":\"LinearAxis\"},{\"id\":\"b9b5fdb8-714c-4283-9b62-7503905c1631\",\"type\":\"Grid\"},{\"id\":\"ad2af2d0-53c7-4321-a3e3-094176f61014\",\"type\":\"LinearAxis\"},{\"id\":\"d8358d3d-3062-4edd-9169-145cb6a7825f\",\"type\":\"Grid\"},{\"id\":\"c62af89f-c364-478e-8f61-65060f4c4bb0\",\"type\":\"BoxAnnotation\"},{\"id\":\"52294c1f-fe50-4d78-9554-ea7edc9d8239\",\"type\":\"GlyphRenderer\"}],\"title\":{\"id\":\"1da365e3-d191-4625-9a08-06de70790b20\",\"type\":\"Title\"},\"toolbar\":{\"id\":\"29297031-1194-42e0-8f25-85ef7aefaf4c\",\"type\":\"Toolbar\"},\"x_range\":{\"id\":\"615dab1c-4fa7-4551-bb83-7d69b3d58ec5\",\"type\":\"DataRange1d\"},\"x_scale\":{\"id\":\"82daf9fe-3520-442f-b9e7-19e419309d36\",\"type\":\"LinearScale\"},\"y_range\":{\"id\":\"4bde55b4-a477-4d78-8d9c-a5baca5f1ff6\",\"type\":\"DataRange1d\"},\"y_scale\":{\"id\":\"a41bc5cd-d447-43a4-b01e-bb0f53388aa1\",\"type\":\"LinearScale\"}},\"id\":\"3d188fce-a589-4681-a6c6-612018f92cc3\",\"subtype\":\"Figure\",\"type\":\"Plot\"},{\"attributes\":{\"formatter\":{\"id\":\"6be418dd-8425-473f-97c4-be91eb99f867\",\"type\":\"BasicTickFormatter\"},\"plot\":{\"id\":\"3d188fce-a589-4681-a6c6-612018f92cc3\",\"subtype\":\"Figure\",\"type\":\"Plot\"},\"ticker\":{\"id\":\"81286703-0ec7-4126-8452-679f5dee089f\",\"type\":\"BasicTicker\"}},\"id\":\"039a547c-7682-40a3-9ac6-1a726954953e\",\"type\":\"LinearAxis\"},{\"attributes\":{\"callback\":null,\"column_names\":[\"x\",\"y\",\"size\"],\"data\":{\"size\":[10,15,20,25,30],\"x\":[1,2,3,4,5],\"y\":[6,7,2,4,5]}},\"id\":\"7dd691bb-b92d-4a56-9fc7-20ee14c0a1db\",\"type\":\"ColumnDataSource\"},{\"attributes\":{\"overlay\":{\"id\":\"c62af89f-c364-478e-8f61-65060f4c4bb0\",\"type\":\"BoxAnnotation\"}},\"id\":\"9c4ba66d-6b59-4499-8675-897f05240ab8\",\"type\":\"BoxZoomTool\"},{\"attributes\":{\"callback\":null},\"id\":\"4bde55b4-a477-4d78-8d9c-a5baca5f1ff6\",\"type\":\"DataRange1d\"},{\"attributes\":{},\"id\":\"4e5a1b49-7354-4436-9e85-8cae2d82fe6f\",\"type\":\"WheelZoomTool\"},{\"attributes\":{},\"id\":\"1551cdae-8b33-4ae5-a145-82395ff5f79a\",\"type\":\"BasicTickFormatter\"},{\"attributes\":{},\"id\":\"0439fbac-4e84-4125-ae70-3b9c684895e3\",\"type\":\"ResetTool\"},{\"attributes\":{},\"id\":\"462dcfd9-32ab-4bae-9e78-3982ab1065e2\",\"type\":\"SaveTool\"},{\"attributes\":{},\"id\":\"6be418dd-8425-473f-97c4-be91eb99f867\",\"type\":\"BasicTickFormatter\"},{\"attributes\":{},\"id\":\"82daf9fe-3520-442f-b9e7-19e419309d36\",\"type\":\"LinearScale\"},{\"attributes\":{\"fill_alpha\":{\"value\":0.1},\"fill_color\":{\"value\":\"#1f77b4\"},\"line_alpha\":{\"value\":0.1},\"line_color\":{\"value\":\"#1f77b4\"},\"size\":{\"field\":\"size\",\"units\":\"screen\"},\"x\":{\"field\":\"x\"},\"y\":{\"field\":\"y\"}},\"id\":\"f94d03df-24f5-4e85-ad85-0d9217c5de54\",\"type\":\"Square\"},{\"attributes\":{\"plot\":null,\"text\":\"\"},\"id\":\"1da365e3-d191-4625-9a08-06de70790b20\",\"type\":\"Title\"},{\"attributes\":{\"data_source\":{\"id\":\"7dd691bb-b92d-4a56-9fc7-20ee14c0a1db\",\"type\":\"ColumnDataSource\"},\"glyph\":{\"id\":\"25792c05-d6f2-428a-89d0-8dee20d0fc43\",\"type\":\"Square\"},\"hover_glyph\":null,\"muted_glyph\":null,\"nonselection_glyph\":{\"id\":\"f94d03df-24f5-4e85-ad85-0d9217c5de54\",\"type\":\"Square\"},\"selection_glyph\":null,\"view\":{\"id\":\"7539e04c-7a03-4332-8123-e569258097da\",\"type\":\"CDSView\"}},\"id\":\"52294c1f-fe50-4d78-9554-ea7edc9d8239\",\"type\":\"GlyphRenderer\"},{\"attributes\":{\"formatter\":{\"id\":\"1551cdae-8b33-4ae5-a145-82395ff5f79a\",\"type\":\"BasicTickFormatter\"},\"plot\":{\"id\":\"3d188fce-a589-4681-a6c6-612018f92cc3\",\"subtype\":\"Figure\",\"type\":\"Plot\"},\"ticker\":{\"id\":\"86d94039-b617-4983-8683-76cdba47a2b7\",\"type\":\"BasicTicker\"}},\"id\":\"ad2af2d0-53c7-4321-a3e3-094176f61014\",\"type\":\"LinearAxis\"},{\"attributes\":{},\"id\":\"f5a7c914-d2ac-4281-b04b-0117ccb8c768\",\"type\":\"HelpTool\"},{\"attributes\":{\"fill_alpha\":{\"value\":0.6},\"fill_color\":{\"value\":\"firebrick\"},\"line_alpha\":{\"value\":0.6},\"line_color\":{\"value\":\"firebrick\"},\"size\":{\"field\":\"size\",\"units\":\"screen\"},\"x\":{\"field\":\"x\"},\"y\":{\"field\":\"y\"}},\"id\":\"25792c05-d6f2-428a-89d0-8dee20d0fc43\",\"type\":\"Square\"},{\"attributes\":{\"dimension\":1,\"plot\":{\"id\":\"3d188fce-a589-4681-a6c6-612018f92cc3\",\"subtype\":\"Figure\",\"type\":\"Plot\"},\"ticker\":{\"id\":\"86d94039-b617-4983-8683-76cdba47a2b7\",\"type\":\"BasicTicker\"}},\"id\":\"d8358d3d-3062-4edd-9169-145cb6a7825f\",\"type\":\"Grid\"},{\"attributes\":{},\"id\":\"86d94039-b617-4983-8683-76cdba47a2b7\",\"type\":\"BasicTicker\"},{\"attributes\":{},\"id\":\"8302bed2-dcc3-4b5c-9fd7-d2b0b1d45573\",\"type\":\"PanTool\"}],\"root_ids\":[\"3d188fce-a589-4681-a6c6-612018f92cc3\"]},\"title\":\"Bokeh Application\",\"version\":\"0.12.13\"}};\n",
       "  var render_items = [{\"docid\":\"711277b8-d693-49c0-a27a-0efb0486bf4d\",\"elementid\":\"bf2d07a9-1e6d-4f69-91e5-f1e49806d982\",\"modelid\":\"3d188fce-a589-4681-a6c6-612018f92cc3\"}];\n",
       "  root.Bokeh.embed.embed_items_notebook(docs_json, render_items);\n",
       "\n",
       "  }\n",
       "  if (root.Bokeh !== undefined) {\n",
       "    embed_document(root);\n",
       "  } else {\n",
       "    var attempts = 0;\n",
       "    var timer = setInterval(function(root) {\n",
       "      if (root.Bokeh !== undefined) {\n",
       "        embed_document(root);\n",
       "        clearInterval(timer);\n",
       "      }\n",
       "      attempts++;\n",
       "      if (attempts > 100) {\n",
       "        console.log(\"Bokeh: ERROR: Unable to run BokehJS code because BokehJS library is missing\")\n",
       "        clearInterval(timer);\n",
       "      }\n",
       "    }, 10, root)\n",
       "  }\n",
       "})(window);"
      ],
      "application/vnd.bokehjs_exec.v0+json": ""
     },
     "metadata": {
      "application/vnd.bokehjs_exec.v0+json": {
       "id": "3d188fce-a589-4681-a6c6-612018f92cc3"
      }
     },
     "output_type": "display_data"
    }
   ],
   "source": [
    "# create a new plot using figure\n",
    "p = figure(plot_width=400, plot_height=400)\n",
    "\n",
    "# add a square renderer with a size, color, alpha, and sizes\n",
    "p.square([1, 2, 3, 4, 5], [6, 7, 2, 4, 5], size=[10, 15, 20, 25, 30], color=\"firebrick\", alpha=0.6)\n",
    "\n",
    "show(p) # show the results"
   ]
  },
  {
   "cell_type": "markdown",
   "metadata": {},
   "source": [
    "Note that in the example above, we are also specifying different sizes for each individual marker. ***In general, all of a glyph's properties can be \"vectorized\" in this fashion. ***  Also note that we have passed ``color`` as a shorthand to set both the line and fill colors easily at the same time. This is a convenience specific to ``bokeh.plotting``.\n",
    "\n",
    "</table><p>There are many marker types available in Bokeh, you can see details and\n",
    "example plots for all of them in the reference guide by clicking on entries in the list below:</p>\n",
    "<table class=\"hlist\" style=\"float:left\"><tr><td><ul>\n",
    "<li><a href=\"http://bokeh.pydata.org/en/latest/docs/reference/plotting.html#bokeh.plotting.Figure.asterisk\" title=\"bokeh.plotting.Figure.asterisk\"><code class=\"xref py py-func docutils literal\"><span class=\"pre\">asterisk()</span></code></a></li>\n",
    "<li><a href=\"http://bokeh.pydata.org/en/latest/docs/reference/plotting.html#bokeh.plotting.Figure.circle\" title=\"bokeh.plotting.Figure.circle\"><code class=\"xref py py-func docutils literal\"><span class=\"pre\">circle()</span></code></a></li>\n",
    "<li><a href=\"http://bokeh.pydata.org/en/latest/docs/reference/plotting.html#bokeh.plotting.Figure.circle_cross\" title=\"bokeh.plotting.Figure.circle_cross\"><code class=\"xref py py-func docutils literal\"><span class=\"pre\">circle_cross()</span></code></a></li>\n",
    "<li><a href=\"http://bokeh.pydata.org/en/latest/docs/reference/plotting.html#bokeh.plotting.Figure.circle_x\" title=\"bokeh.plotting.Figure.circle_x\"><code class=\"xref py py-func docutils literal\"><span class=\"pre\">circle_x()</span></code></a></li>\n",
    "<li><a href=\"http://bokeh.pydata.org/en/latest/docs/reference/plotting.html#bokeh.plotting.Figure.cross\" title=\"bokeh.plotting.Figure.cross\"><code class=\"xref py py-func docutils literal\"><span class=\"pre\">cross()</span></code></a></li>\n",
    "</ul>\n",
    "</td><td><ul>\n",
    "<li><a href=\"http://bokeh.pydata.org/en/latest/docs/reference/plotting.html#bokeh.plotting.Figure.diamond\" title=\"bokeh.plotting.Figure.diamond\"><code class=\"xref py py-func docutils literal\"><span class=\"pre\">diamond()</span></code></a></li>\n",
    "<li><a href=\"http://bokeh.pydata.org/en/latest/docs/reference/plotting.html#bokeh.plotting.Figure.diamond_cross\" title=\"bokeh.plotting.Figure.diamond_cross\"><code class=\"xref py py-func docutils literal\"><span class=\"pre\">diamond_cross()</span></code></a></li>\n",
    "<li><a href=\"http://bokeh.pydata.org/en/latest/docs/reference/plotting.html#bokeh.plotting.Figure.inverted_triangle\" title=\"bokeh.plotting.Figure.inverted_triangle\"><code class=\"xref py py-func docutils literal\"><span class=\"pre\">inverted_triangle()</span></code></a></li>\n",
    "<li><a href=\"http://bokeh.pydata.org/en/latest/docs/reference/plotting.html#bokeh.plotting.Figure.square\" title=\"bokeh.plotting.Figure.square\"><code class=\"xref py py-func docutils literal\"><span class=\"pre\">square()</span></code></a></li>\n",
    "</ul>\n",
    "</td><td><ul>\n",
    "<li><a href=\"http://bokeh.pydata.org/en/latest/docs/reference/plotting.html#bokeh.plotting.Figure.square_cross\" title=\"bokeh.plotting.Figure.square_cross\"><code class=\"xref py py-func docutils literal\"><span class=\"pre\">square_cross()</span></code></a></li>\n",
    "<li><a href=\"http://bokeh.pydata.org/en/latest/docs/reference/plotting.html#bokeh.plotting.Figure.square_x\" title=\"bokeh.plotting.Figure.square_x\"><code class=\"xref py py-func docutils literal\"><span class=\"pre\">square_x()</span></code></a></li>\n",
    "<li><a href=\"http://bokeh.pydata.org/en/latest/docs/reference/plotting.html#bokeh.plotting.Figure.triangle\" title=\"bokeh.plotting.Figure.triangle\"><code class=\"xref py py-func docutils literal\"><span class=\"pre\">triangle()</span></code></a></li>\n",
    "<li><a href=\"http://bokeh.pydata.org/en/latest/docs/reference/plotting.html#bokeh.plotting.Figure.x\" title=\"bokeh.plotting.Figure.x\"><code class=\"xref py py-func docutils literal\"><span class=\"pre\">x()</span></code></a></li>\n",
    "</ul>\n",
    "</td></tr></table>"
   ]
  },
  {
   "cell_type": "code",
   "execution_count": 6,
   "metadata": {},
   "outputs": [],
   "source": [
    "# EXERCISE: Plot some different markers in this cell\n",
    "\n"
   ]
  },
  {
   "cell_type": "markdown",
   "metadata": {},
   "source": [
    "# Basic Line Plots"
   ]
  },
  {
   "cell_type": "code",
   "execution_count": 5,
   "metadata": {},
   "outputs": [
    {
     "data": {
      "text/html": [
       "\n",
       "<div class=\"bk-root\">\n",
       "    <div class=\"bk-plotdiv\" id=\"468aaba9-84aa-456e-ad6d-df7de6ec3898\"></div>\n",
       "</div>"
      ]
     },
     "metadata": {},
     "output_type": "display_data"
    },
    {
     "data": {
      "application/javascript": [
       "(function(root) {\n",
       "  function embed_document(root) {\n",
       "    \n",
       "  var docs_json = {\"1c259638-fe87-4532-b0dc-ade66f15e1db\":{\"roots\":{\"references\":[{\"attributes\":{\"bottom_units\":\"screen\",\"fill_alpha\":{\"value\":0.5},\"fill_color\":{\"value\":\"lightgrey\"},\"left_units\":\"screen\",\"level\":\"overlay\",\"line_alpha\":{\"value\":1.0},\"line_color\":{\"value\":\"black\"},\"line_dash\":[4,4],\"line_width\":{\"value\":2},\"plot\":null,\"render_mode\":\"css\",\"right_units\":\"screen\",\"top_units\":\"screen\"},\"id\":\"dd3f09fe-89bd-41da-90dc-fb7338a27b9f\",\"type\":\"BoxAnnotation\"},{\"attributes\":{\"callback\":null},\"id\":\"d85365bf-0b92-48e8-b924-13bc0f1645ce\",\"type\":\"DataRange1d\"},{\"attributes\":{\"plot\":null,\"text\":\"My Line Plot\"},\"id\":\"0cbc9642-31e4-4d2d-8a43-cc1c551d3252\",\"type\":\"Title\"},{\"attributes\":{\"dimension\":1,\"plot\":{\"id\":\"7475e6ff-de26-466d-98cb-b4292465c442\",\"subtype\":\"Figure\",\"type\":\"Plot\"},\"ticker\":{\"id\":\"2d78335e-8ec0-43ce-84e4-7fd2bf102add\",\"type\":\"BasicTicker\"}},\"id\":\"bab6a1de-817d-4a63-a34a-b9b36f219940\",\"type\":\"Grid\"},{\"attributes\":{\"line_color\":\"#1f77b4\",\"line_width\":2,\"x\":{\"field\":\"x\"},\"y\":{\"field\":\"y\"}},\"id\":\"bd690bda-bb2b-42ea-a296-a24000ac2f05\",\"type\":\"Line\"},{\"attributes\":{\"callback\":null,\"column_names\":[\"x\",\"y\"],\"data\":{\"x\":[1,2,3,4,5],\"y\":[6,7,2,4,5]}},\"id\":\"346f7362-ff18-4547-8ee8-0da3909c82a1\",\"type\":\"ColumnDataSource\"},{\"attributes\":{},\"id\":\"6593a02a-7943-4ff5-a346-b535dce0fde8\",\"type\":\"WheelZoomTool\"},{\"attributes\":{\"source\":{\"id\":\"346f7362-ff18-4547-8ee8-0da3909c82a1\",\"type\":\"ColumnDataSource\"}},\"id\":\"6e3ea54f-21de-4502-8368-fb4e25381a2b\",\"type\":\"CDSView\"},{\"attributes\":{\"below\":[{\"id\":\"cc4f28b2-e90b-42b7-b378-9e7774001a89\",\"type\":\"LinearAxis\"}],\"left\":[{\"id\":\"813ef827-5e38-4df6-8128-f898b8a52a53\",\"type\":\"LinearAxis\"}],\"plot_height\":400,\"plot_width\":400,\"renderers\":[{\"id\":\"cc4f28b2-e90b-42b7-b378-9e7774001a89\",\"type\":\"LinearAxis\"},{\"id\":\"c7e3c502-1361-43da-86d9-0ac4c82b1a19\",\"type\":\"Grid\"},{\"id\":\"813ef827-5e38-4df6-8128-f898b8a52a53\",\"type\":\"LinearAxis\"},{\"id\":\"bab6a1de-817d-4a63-a34a-b9b36f219940\",\"type\":\"Grid\"},{\"id\":\"dd3f09fe-89bd-41da-90dc-fb7338a27b9f\",\"type\":\"BoxAnnotation\"},{\"id\":\"3dbeb448-adf4-4fa6-b42c-2eb65dd6a749\",\"type\":\"GlyphRenderer\"}],\"title\":{\"id\":\"0cbc9642-31e4-4d2d-8a43-cc1c551d3252\",\"type\":\"Title\"},\"toolbar\":{\"id\":\"618ed523-b289-4df3-9a47-a5c3eb167273\",\"type\":\"Toolbar\"},\"x_range\":{\"id\":\"d85365bf-0b92-48e8-b924-13bc0f1645ce\",\"type\":\"DataRange1d\"},\"x_scale\":{\"id\":\"da2ed930-fbc1-4595-8234-965436241d7f\",\"type\":\"LinearScale\"},\"y_range\":{\"id\":\"e43545c2-86ab-4b6e-90a4-657ac21e9229\",\"type\":\"DataRange1d\"},\"y_scale\":{\"id\":\"5898f3e2-2a14-44e3-8b9f-6ed7b2b7a652\",\"type\":\"LinearScale\"}},\"id\":\"7475e6ff-de26-466d-98cb-b4292465c442\",\"subtype\":\"Figure\",\"type\":\"Plot\"},{\"attributes\":{},\"id\":\"aa5af519-bd93-41fe-b2ce-34ad7129e4a0\",\"type\":\"HelpTool\"},{\"attributes\":{},\"id\":\"fb70283c-f50f-4bcc-b9e4-d2f87a1572a8\",\"type\":\"BasicTickFormatter\"},{\"attributes\":{},\"id\":\"fffd92e2-6974-4a54-8e70-f35dc6669411\",\"type\":\"BasicTickFormatter\"},{\"attributes\":{\"overlay\":{\"id\":\"dd3f09fe-89bd-41da-90dc-fb7338a27b9f\",\"type\":\"BoxAnnotation\"}},\"id\":\"ba535bbc-c12f-48cc-aa00-480d80a1c802\",\"type\":\"BoxZoomTool\"},{\"attributes\":{},\"id\":\"d8a48d3f-4f09-477d-9505-6cc5d8e2994c\",\"type\":\"ResetTool\"},{\"attributes\":{\"plot\":{\"id\":\"7475e6ff-de26-466d-98cb-b4292465c442\",\"subtype\":\"Figure\",\"type\":\"Plot\"},\"ticker\":{\"id\":\"9d0e3ca1-e0fd-4d4e-91f6-d23998511fea\",\"type\":\"BasicTicker\"}},\"id\":\"c7e3c502-1361-43da-86d9-0ac4c82b1a19\",\"type\":\"Grid\"},{\"attributes\":{},\"id\":\"9ed9601b-f13c-40b5-a1c1-f0a2f911c4e3\",\"type\":\"SaveTool\"},{\"attributes\":{},\"id\":\"5898f3e2-2a14-44e3-8b9f-6ed7b2b7a652\",\"type\":\"LinearScale\"},{\"attributes\":{\"formatter\":{\"id\":\"fb70283c-f50f-4bcc-b9e4-d2f87a1572a8\",\"type\":\"BasicTickFormatter\"},\"plot\":{\"id\":\"7475e6ff-de26-466d-98cb-b4292465c442\",\"subtype\":\"Figure\",\"type\":\"Plot\"},\"ticker\":{\"id\":\"2d78335e-8ec0-43ce-84e4-7fd2bf102add\",\"type\":\"BasicTicker\"}},\"id\":\"813ef827-5e38-4df6-8128-f898b8a52a53\",\"type\":\"LinearAxis\"},{\"attributes\":{},\"id\":\"9d0e3ca1-e0fd-4d4e-91f6-d23998511fea\",\"type\":\"BasicTicker\"},{\"attributes\":{\"formatter\":{\"id\":\"fffd92e2-6974-4a54-8e70-f35dc6669411\",\"type\":\"BasicTickFormatter\"},\"plot\":{\"id\":\"7475e6ff-de26-466d-98cb-b4292465c442\",\"subtype\":\"Figure\",\"type\":\"Plot\"},\"ticker\":{\"id\":\"9d0e3ca1-e0fd-4d4e-91f6-d23998511fea\",\"type\":\"BasicTicker\"}},\"id\":\"cc4f28b2-e90b-42b7-b378-9e7774001a89\",\"type\":\"LinearAxis\"},{\"attributes\":{\"callback\":null},\"id\":\"e43545c2-86ab-4b6e-90a4-657ac21e9229\",\"type\":\"DataRange1d\"},{\"attributes\":{},\"id\":\"2d78335e-8ec0-43ce-84e4-7fd2bf102add\",\"type\":\"BasicTicker\"},{\"attributes\":{},\"id\":\"da2ed930-fbc1-4595-8234-965436241d7f\",\"type\":\"LinearScale\"},{\"attributes\":{\"active_drag\":\"auto\",\"active_inspect\":\"auto\",\"active_scroll\":\"auto\",\"active_tap\":\"auto\",\"tools\":[{\"id\":\"bb6109e5-9c03-45ef-9759-7c0cb0f95008\",\"type\":\"PanTool\"},{\"id\":\"6593a02a-7943-4ff5-a346-b535dce0fde8\",\"type\":\"WheelZoomTool\"},{\"id\":\"ba535bbc-c12f-48cc-aa00-480d80a1c802\",\"type\":\"BoxZoomTool\"},{\"id\":\"9ed9601b-f13c-40b5-a1c1-f0a2f911c4e3\",\"type\":\"SaveTool\"},{\"id\":\"d8a48d3f-4f09-477d-9505-6cc5d8e2994c\",\"type\":\"ResetTool\"},{\"id\":\"aa5af519-bd93-41fe-b2ce-34ad7129e4a0\",\"type\":\"HelpTool\"}]},\"id\":\"618ed523-b289-4df3-9a47-a5c3eb167273\",\"type\":\"Toolbar\"},{\"attributes\":{},\"id\":\"bb6109e5-9c03-45ef-9759-7c0cb0f95008\",\"type\":\"PanTool\"},{\"attributes\":{\"line_alpha\":0.1,\"line_color\":\"#1f77b4\",\"line_width\":2,\"x\":{\"field\":\"x\"},\"y\":{\"field\":\"y\"}},\"id\":\"3d2c7cef-b447-4e6a-b934-c0f451790595\",\"type\":\"Line\"},{\"attributes\":{\"data_source\":{\"id\":\"346f7362-ff18-4547-8ee8-0da3909c82a1\",\"type\":\"ColumnDataSource\"},\"glyph\":{\"id\":\"bd690bda-bb2b-42ea-a296-a24000ac2f05\",\"type\":\"Line\"},\"hover_glyph\":null,\"muted_glyph\":null,\"nonselection_glyph\":{\"id\":\"3d2c7cef-b447-4e6a-b934-c0f451790595\",\"type\":\"Line\"},\"selection_glyph\":null,\"view\":{\"id\":\"6e3ea54f-21de-4502-8368-fb4e25381a2b\",\"type\":\"CDSView\"}},\"id\":\"3dbeb448-adf4-4fa6-b42c-2eb65dd6a749\",\"type\":\"GlyphRenderer\"}],\"root_ids\":[\"7475e6ff-de26-466d-98cb-b4292465c442\"]},\"title\":\"Bokeh Application\",\"version\":\"0.12.13\"}};\n",
       "  var render_items = [{\"docid\":\"1c259638-fe87-4532-b0dc-ade66f15e1db\",\"elementid\":\"468aaba9-84aa-456e-ad6d-df7de6ec3898\",\"modelid\":\"7475e6ff-de26-466d-98cb-b4292465c442\"}];\n",
       "  root.Bokeh.embed.embed_items_notebook(docs_json, render_items);\n",
       "\n",
       "  }\n",
       "  if (root.Bokeh !== undefined) {\n",
       "    embed_document(root);\n",
       "  } else {\n",
       "    var attempts = 0;\n",
       "    var timer = setInterval(function(root) {\n",
       "      if (root.Bokeh !== undefined) {\n",
       "        embed_document(root);\n",
       "        clearInterval(timer);\n",
       "      }\n",
       "      attempts++;\n",
       "      if (attempts > 100) {\n",
       "        console.log(\"Bokeh: ERROR: Unable to run BokehJS code because BokehJS library is missing\")\n",
       "        clearInterval(timer);\n",
       "      }\n",
       "    }, 10, root)\n",
       "  }\n",
       "})(window);"
      ],
      "application/vnd.bokehjs_exec.v0+json": ""
     },
     "metadata": {
      "application/vnd.bokehjs_exec.v0+json": {
       "id": "7475e6ff-de26-466d-98cb-b4292465c442"
      }
     },
     "output_type": "display_data"
    }
   ],
   "source": [
    "# create a new plot (with a title) using figure\n",
    "p = figure(plot_width=400, plot_height=400, title=\"My Line Plot\")\n",
    "\n",
    "# add a line renderer\n",
    "p.line([1, 2, 3, 4, 5], [6, 7, 2, 4, 5], line_width=2)\n",
    "\n",
    "show(p) # show the results"
   ]
  },
  {
   "cell_type": "markdown",
   "metadata": {},
   "source": [
    "# Images"
   ]
  },
  {
   "cell_type": "markdown",
   "metadata": {},
   "source": [
    "The example below shows how to use the `image_rgba` method to display raw RGBA data. \n",
    "\n",
    "**Note**: This example makes use of the NumPy library "
   ]
  },
  {
   "cell_type": "code",
   "execution_count": 8,
   "metadata": {},
   "outputs": [
    {
     "data": {
      "text/html": [
       "\n",
       "<div class=\"bk-root\">\n",
       "    <div class=\"bk-plotdiv\" id=\"0ff28446-c4ed-43fa-846c-2bf9d274f16f\"></div>\n",
       "</div>"
      ]
     },
     "metadata": {},
     "output_type": "display_data"
    },
    {
     "data": {
      "application/javascript": [
       "(function(root) {\n",
       "  function embed_document(root) {\n",
       "    \n",
       "  var docs_json = {\"d05d7d0f-61b3-445e-a1aa-df8cb896d222\":{\"roots\":{\"references\":[{\"attributes\":{\"plot\":null,\"text\":\"\"},\"id\":\"a5f8d5aa-3095-4de7-80f1-dce60c6f447c\",\"type\":\"Title\"},{\"attributes\":{\"formatter\":{\"id\":\"19dc0646-ef6e-44a7-9a39-de6092b41fe1\",\"type\":\"BasicTickFormatter\"},\"plot\":{\"id\":\"bd47d8e8-8066-48ae-9b9f-bdef3b968cb6\",\"subtype\":\"Figure\",\"type\":\"Plot\"},\"ticker\":{\"id\":\"e5629597-7257-4ebe-9652-e7aa7c9324a4\",\"type\":\"BasicTicker\"}},\"id\":\"578393a2-7a9b-4f96-833b-eb32cd1d8f8e\",\"type\":\"LinearAxis\"},{\"attributes\":{},\"id\":\"b72c014b-e50e-42cd-a6ad-d9e506738ad2\",\"type\":\"BasicTickFormatter\"},{\"attributes\":{},\"id\":\"e5629597-7257-4ebe-9652-e7aa7c9324a4\",\"type\":\"BasicTicker\"},{\"attributes\":{\"dimension\":1,\"plot\":{\"id\":\"bd47d8e8-8066-48ae-9b9f-bdef3b968cb6\",\"subtype\":\"Figure\",\"type\":\"Plot\"},\"ticker\":{\"id\":\"e5629597-7257-4ebe-9652-e7aa7c9324a4\",\"type\":\"BasicTicker\"}},\"id\":\"f5964ec2-5ecd-41f6-8ab9-fbfa5d35b9dc\",\"type\":\"Grid\"},{\"attributes\":{\"dh\":{\"field\":\"dh\",\"units\":\"data\"},\"dw\":{\"field\":\"dw\",\"units\":\"data\"},\"image\":{\"field\":\"image\"},\"x\":{\"field\":\"x\"},\"y\":{\"field\":\"y\"}},\"id\":\"dfbad5c9-80be-418f-ae55-c4f35634605a\",\"type\":\"ImageRGBA\"},{\"attributes\":{\"dh\":{\"field\":\"dh\",\"units\":\"data\"},\"dw\":{\"field\":\"dw\",\"units\":\"data\"},\"image\":{\"field\":\"image\"},\"x\":{\"field\":\"x\"},\"y\":{\"field\":\"y\"}},\"id\":\"2efca84f-0652-423e-ab65-8f04e6b8fb1a\",\"type\":\"ImageRGBA\"},{\"attributes\":{\"callback\":null,\"column_names\":[\"image\",\"x\",\"y\",\"dw\",\"dh\"],\"data\":{\"dh\":[10],\"dw\":[10],\"image\":[{\"__ndarray__\":\"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\",\"dtype\":\"uint32\",\"shape\":[20,20]}],\"x\":[0],\"y\":[0]}},\"id\":\"0cd70d8d-84f1-43ad-8b7b-5506d5407d66\",\"type\":\"ColumnDataSource\"},{\"attributes\":{\"data_source\":{\"id\":\"0cd70d8d-84f1-43ad-8b7b-5506d5407d66\",\"type\":\"ColumnDataSource\"},\"glyph\":{\"id\":\"2efca84f-0652-423e-ab65-8f04e6b8fb1a\",\"type\":\"ImageRGBA\"},\"hover_glyph\":null,\"muted_glyph\":null,\"nonselection_glyph\":{\"id\":\"dfbad5c9-80be-418f-ae55-c4f35634605a\",\"type\":\"ImageRGBA\"},\"selection_glyph\":null,\"view\":{\"id\":\"1af20d6b-25b3-403f-bd31-12a38fe07efb\",\"type\":\"CDSView\"}},\"id\":\"385e3cf2-4134-461d-95de-7232a5c98cd0\",\"type\":\"GlyphRenderer\"},{\"attributes\":{\"bottom_units\":\"screen\",\"fill_alpha\":{\"value\":0.5},\"fill_color\":{\"value\":\"lightgrey\"},\"left_units\":\"screen\",\"level\":\"overlay\",\"line_alpha\":{\"value\":1.0},\"line_color\":{\"value\":\"black\"},\"line_dash\":[4,4],\"line_width\":{\"value\":2},\"plot\":null,\"render_mode\":\"css\",\"right_units\":\"screen\",\"top_units\":\"screen\"},\"id\":\"a002ebe8-7cb9-476c-91ce-7858d4efc0a3\",\"type\":\"BoxAnnotation\"},{\"attributes\":{\"below\":[{\"id\":\"c0387b17-73e7-4279-8045-ae3e87f0152d\",\"type\":\"LinearAxis\"}],\"left\":[{\"id\":\"578393a2-7a9b-4f96-833b-eb32cd1d8f8e\",\"type\":\"LinearAxis\"}],\"renderers\":[{\"id\":\"c0387b17-73e7-4279-8045-ae3e87f0152d\",\"type\":\"LinearAxis\"},{\"id\":\"7329a790-9534-4d3d-8c8e-e8e0396b0bfd\",\"type\":\"Grid\"},{\"id\":\"578393a2-7a9b-4f96-833b-eb32cd1d8f8e\",\"type\":\"LinearAxis\"},{\"id\":\"f5964ec2-5ecd-41f6-8ab9-fbfa5d35b9dc\",\"type\":\"Grid\"},{\"id\":\"a002ebe8-7cb9-476c-91ce-7858d4efc0a3\",\"type\":\"BoxAnnotation\"},{\"id\":\"385e3cf2-4134-461d-95de-7232a5c98cd0\",\"type\":\"GlyphRenderer\"}],\"title\":{\"id\":\"a5f8d5aa-3095-4de7-80f1-dce60c6f447c\",\"type\":\"Title\"},\"toolbar\":{\"id\":\"e452f56e-b2b4-47d7-bf4f-5eb05790734a\",\"type\":\"Toolbar\"},\"x_range\":{\"id\":\"4ffe4129-0740-4d95-970d-048dc0b865a3\",\"type\":\"Range1d\"},\"x_scale\":{\"id\":\"1e68135e-c2cb-427c-8f19-983565767dd4\",\"type\":\"LinearScale\"},\"y_range\":{\"id\":\"bdcd940b-7000-4946-b1f4-647ddaa78e87\",\"type\":\"Range1d\"},\"y_scale\":{\"id\":\"603b082a-817d-49b7-be89-99b344a8cb4e\",\"type\":\"LinearScale\"}},\"id\":\"bd47d8e8-8066-48ae-9b9f-bdef3b968cb6\",\"subtype\":\"Figure\",\"type\":\"Plot\"},{\"attributes\":{},\"id\":\"4cd1d7f7-3533-4799-9a57-2c29dab269a8\",\"type\":\"PanTool\"},{\"attributes\":{\"active_drag\":\"auto\",\"active_inspect\":\"auto\",\"active_scroll\":\"auto\",\"active_tap\":\"auto\",\"tools\":[{\"id\":\"4cd1d7f7-3533-4799-9a57-2c29dab269a8\",\"type\":\"PanTool\"},{\"id\":\"3954db37-e045-4a21-9db3-e1e375057ed6\",\"type\":\"WheelZoomTool\"},{\"id\":\"40cce847-cc22-419a-9d09-700368d26b0a\",\"type\":\"BoxZoomTool\"},{\"id\":\"382d3f74-3ec0-43d1-a046-6cfc1f12f76b\",\"type\":\"SaveTool\"},{\"id\":\"94b45124-b0e5-489a-a3e8-05fc7e3ac660\",\"type\":\"ResetTool\"},{\"id\":\"f2f97486-979a-481f-bfd9-8d52f4161882\",\"type\":\"HelpTool\"}]},\"id\":\"e452f56e-b2b4-47d7-bf4f-5eb05790734a\",\"type\":\"Toolbar\"},{\"attributes\":{\"source\":{\"id\":\"0cd70d8d-84f1-43ad-8b7b-5506d5407d66\",\"type\":\"ColumnDataSource\"}},\"id\":\"1af20d6b-25b3-403f-bd31-12a38fe07efb\",\"type\":\"CDSView\"},{\"attributes\":{\"callback\":null,\"end\":10},\"id\":\"4ffe4129-0740-4d95-970d-048dc0b865a3\",\"type\":\"Range1d\"},{\"attributes\":{},\"id\":\"3954db37-e045-4a21-9db3-e1e375057ed6\",\"type\":\"WheelZoomTool\"},{\"attributes\":{},\"id\":\"19dc0646-ef6e-44a7-9a39-de6092b41fe1\",\"type\":\"BasicTickFormatter\"},{\"attributes\":{\"overlay\":{\"id\":\"a002ebe8-7cb9-476c-91ce-7858d4efc0a3\",\"type\":\"BoxAnnotation\"}},\"id\":\"40cce847-cc22-419a-9d09-700368d26b0a\",\"type\":\"BoxZoomTool\"},{\"attributes\":{\"callback\":null,\"end\":10},\"id\":\"bdcd940b-7000-4946-b1f4-647ddaa78e87\",\"type\":\"Range1d\"},{\"attributes\":{},\"id\":\"382d3f74-3ec0-43d1-a046-6cfc1f12f76b\",\"type\":\"SaveTool\"},{\"attributes\":{},\"id\":\"1e68135e-c2cb-427c-8f19-983565767dd4\",\"type\":\"LinearScale\"},{\"attributes\":{},\"id\":\"94b45124-b0e5-489a-a3e8-05fc7e3ac660\",\"type\":\"ResetTool\"},{\"attributes\":{},\"id\":\"603b082a-817d-49b7-be89-99b344a8cb4e\",\"type\":\"LinearScale\"},{\"attributes\":{},\"id\":\"f2f97486-979a-481f-bfd9-8d52f4161882\",\"type\":\"HelpTool\"},{\"attributes\":{\"plot\":{\"id\":\"bd47d8e8-8066-48ae-9b9f-bdef3b968cb6\",\"subtype\":\"Figure\",\"type\":\"Plot\"},\"ticker\":{\"id\":\"02428f6a-9386-4e23-a52c-9154ea95dba2\",\"type\":\"BasicTicker\"}},\"id\":\"7329a790-9534-4d3d-8c8e-e8e0396b0bfd\",\"type\":\"Grid\"},{\"attributes\":{\"formatter\":{\"id\":\"b72c014b-e50e-42cd-a6ad-d9e506738ad2\",\"type\":\"BasicTickFormatter\"},\"plot\":{\"id\":\"bd47d8e8-8066-48ae-9b9f-bdef3b968cb6\",\"subtype\":\"Figure\",\"type\":\"Plot\"},\"ticker\":{\"id\":\"02428f6a-9386-4e23-a52c-9154ea95dba2\",\"type\":\"BasicTicker\"}},\"id\":\"c0387b17-73e7-4279-8045-ae3e87f0152d\",\"type\":\"LinearAxis\"},{\"attributes\":{},\"id\":\"02428f6a-9386-4e23-a52c-9154ea95dba2\",\"type\":\"BasicTicker\"}],\"root_ids\":[\"bd47d8e8-8066-48ae-9b9f-bdef3b968cb6\"]},\"title\":\"Bokeh Application\",\"version\":\"0.12.13\"}};\n",
       "  var render_items = [{\"docid\":\"d05d7d0f-61b3-445e-a1aa-df8cb896d222\",\"elementid\":\"0ff28446-c4ed-43fa-846c-2bf9d274f16f\",\"modelid\":\"bd47d8e8-8066-48ae-9b9f-bdef3b968cb6\"}];\n",
       "  root.Bokeh.embed.embed_items_notebook(docs_json, render_items);\n",
       "\n",
       "  }\n",
       "  if (root.Bokeh !== undefined) {\n",
       "    embed_document(root);\n",
       "  } else {\n",
       "    var attempts = 0;\n",
       "    var timer = setInterval(function(root) {\n",
       "      if (root.Bokeh !== undefined) {\n",
       "        embed_document(root);\n",
       "        clearInterval(timer);\n",
       "      }\n",
       "      attempts++;\n",
       "      if (attempts > 100) {\n",
       "        console.log(\"Bokeh: ERROR: Unable to run BokehJS code because BokehJS library is missing\")\n",
       "        clearInterval(timer);\n",
       "      }\n",
       "    }, 10, root)\n",
       "  }\n",
       "})(window);"
      ],
      "application/vnd.bokehjs_exec.v0+json": ""
     },
     "metadata": {
      "application/vnd.bokehjs_exec.v0+json": {
       "id": "bd47d8e8-8066-48ae-9b9f-bdef3b968cb6"
      }
     },
     "output_type": "display_data"
    }
   ],
   "source": [
    "from __future__ import division\n",
    "import numpy as np\n",
    "\n",
    "# set up some data\n",
    "N = 20\n",
    "img = np.empty((N,N), dtype=np.uint32)\n",
    "view = img.view(dtype=np.uint8).reshape((N, N, 4))\n",
    "for i in range(N):\n",
    "    for j in range(N):\n",
    "        view[i, j, 0] = int(i/N*255) # red\n",
    "        view[i, j, 1] = 158          # green\n",
    "        view[i, j, 2] = int(j/N*255) # blue\n",
    "        view[i, j, 3] = 255          # alpha\n",
    "        \n",
    "# create a new plot (with a fixed range) using figure\n",
    "p = figure(x_range=[0,10], y_range=[0,10])\n",
    "\n",
    "# add an RGBA image renderer\n",
    "p.image_rgba(image=[img], x=[0], y=[0], dw=[10], dh=[10])\n",
    "\n",
    "show(p) # show the results"
   ]
  },
  {
   "cell_type": "markdown",
   "metadata": {},
   "source": [
    "# Other Kinds of Glyphs\n",
    "\n",
    "Bokeh supports many other kinds of glyphs. You can click on the User Guide links below to see how to create plots with these glyphs using the [`bokeh.plotting`](http://bokeh.pydata.org/en/latest/docs/user_guide/plotting.html) interface.\n",
    "\n",
    "* [Rectangles and Ovals](http://bokeh.pydata.org/en/latest/docs/user_guide/plotting.html#rectangles-and-ovals)\n",
    "* [Segments and Rays](http://bokeh.pydata.org/en/latest/docs/user_guide/plotting.html#segments-and-rays)\n",
    "* [Wedges and Arcs](http://bokeh.pydata.org/en/latest/docs/user_guide/plotting.html#wedges-and-arcs)\n",
    "* [Specialized Curves](http://bokeh.pydata.org/en/latest/docs/user_guide/plotting.html#specialized-curves)\n"
   ]
  },
  {
   "cell_type": "code",
   "execution_count": 9,
   "metadata": {},
   "outputs": [],
   "source": [
    "# EXERCISE: Plot some of the other glyph types, following the examples in the User Guide. \n",
    "\n"
   ]
  },
  {
   "cell_type": "markdown",
   "metadata": {},
   "source": [
    "# Plots with Multiple Glyphs \n",
    "\n",
    "It is possible to combine more than one glyph on a single figure. You just need to call multiple glyph methods on one figure object:"
   ]
  },
  {
   "cell_type": "code",
   "execution_count": 10,
   "metadata": {},
   "outputs": [
    {
     "data": {
      "text/html": [
       "\n",
       "<div class=\"bk-root\">\n",
       "    <div class=\"bk-plotdiv\" id=\"f5922cd6-c004-4aae-8405-8d6123d26e50\"></div>\n",
       "</div>"
      ]
     },
     "metadata": {},
     "output_type": "display_data"
    },
    {
     "data": {
      "application/javascript": [
       "(function(root) {\n",
       "  function embed_document(root) {\n",
       "    \n",
       "  var docs_json = {\"15513356-37df-4289-a7b8-4301e6112749\":{\"roots\":{\"references\":[{\"attributes\":{\"bottom_units\":\"screen\",\"fill_alpha\":{\"value\":0.5},\"fill_color\":{\"value\":\"lightgrey\"},\"left_units\":\"screen\",\"level\":\"overlay\",\"line_alpha\":{\"value\":1.0},\"line_color\":{\"value\":\"black\"},\"line_dash\":[4,4],\"line_width\":{\"value\":2},\"plot\":null,\"render_mode\":\"css\",\"right_units\":\"screen\",\"top_units\":\"screen\"},\"id\":\"bc2eb65e-6734-4ad8-8c2c-7e33526c2912\",\"type\":\"BoxAnnotation\"},{\"attributes\":{},\"id\":\"ca233d5f-44a6-4b96-939c-287f2ee3bd98\",\"type\":\"SaveTool\"},{\"attributes\":{},\"id\":\"019f32b8-7cef-4357-9dd1-d040261efed1\",\"type\":\"ResetTool\"},{\"attributes\":{},\"id\":\"25e1a963-3b6f-4203-a746-354b89fc3a03\",\"type\":\"HelpTool\"},{\"attributes\":{},\"id\":\"21bb043b-6e74-41da-9add-4f90156c2f6c\",\"type\":\"BasicTickFormatter\"},{\"attributes\":{\"data_source\":{\"id\":\"d664f98c-4b03-45a7-bec8-535cd310b2c4\",\"type\":\"ColumnDataSource\"},\"glyph\":{\"id\":\"7243a3ef-c8d5-41b3-a811-057b58133659\",\"type\":\"Circle\"},\"hover_glyph\":null,\"muted_glyph\":null,\"nonselection_glyph\":{\"id\":\"3b1db871-d201-46ce-9398-6da24a5cde3b\",\"type\":\"Circle\"},\"selection_glyph\":null,\"view\":{\"id\":\"ce5b5ed9-7d7f-445c-a46f-cb14f3bbd0b0\",\"type\":\"CDSView\"}},\"id\":\"ee2060b9-af15-44eb-99c2-5ee11fe96d2b\",\"type\":\"GlyphRenderer\"},{\"attributes\":{\"source\":{\"id\":\"d664f98c-4b03-45a7-bec8-535cd310b2c4\",\"type\":\"ColumnDataSource\"}},\"id\":\"ce5b5ed9-7d7f-445c-a46f-cb14f3bbd0b0\",\"type\":\"CDSView\"},{\"attributes\":{},\"id\":\"b2fca7d4-3c78-467b-b241-84296f2c8072\",\"type\":\"PanTool\"},{\"attributes\":{},\"id\":\"13d9e9f5-5012-4c28-b4a8-e6d7d8742ee0\",\"type\":\"LinearScale\"},{\"attributes\":{\"data_source\":{\"id\":\"4f391d73-0ad9-4d1e-ac51-6eb1fa7934a4\",\"type\":\"ColumnDataSource\"},\"glyph\":{\"id\":\"c782f674-f4e5-4048-8561-4c35d8cbe605\",\"type\":\"Line\"},\"hover_glyph\":null,\"muted_glyph\":null,\"nonselection_glyph\":{\"id\":\"f706402f-0746-4f63-9e8f-ccfc950cad1f\",\"type\":\"Line\"},\"selection_glyph\":null,\"view\":{\"id\":\"a8f7475b-6e41-40e8-8044-707accded9b1\",\"type\":\"CDSView\"}},\"id\":\"3fd77a7b-187a-41cc-9076-d1ae4b5480ae\",\"type\":\"GlyphRenderer\"},{\"attributes\":{\"fill_alpha\":{\"value\":0.1},\"fill_color\":{\"value\":\"#1f77b4\"},\"line_alpha\":{\"value\":0.1},\"line_color\":{\"value\":\"#1f77b4\"},\"size\":{\"units\":\"screen\",\"value\":8},\"x\":{\"field\":\"x\"},\"y\":{\"field\":\"y\"}},\"id\":\"3b1db871-d201-46ce-9398-6da24a5cde3b\",\"type\":\"Circle\"},{\"attributes\":{\"plot\":{\"id\":\"ff09a235-b920-4594-8fc7-761b6451e7b0\",\"subtype\":\"Figure\",\"type\":\"Plot\"},\"ticker\":{\"id\":\"32ee48d7-9205-4e77-88bc-e88c4cc608fe\",\"type\":\"BasicTicker\"}},\"id\":\"2a5573e3-a8ec-4b51-9db0-cdc313ef7964\",\"type\":\"Grid\"},{\"attributes\":{\"source\":{\"id\":\"4f391d73-0ad9-4d1e-ac51-6eb1fa7934a4\",\"type\":\"ColumnDataSource\"}},\"id\":\"a8f7475b-6e41-40e8-8044-707accded9b1\",\"type\":\"CDSView\"},{\"attributes\":{\"callback\":null},\"id\":\"bc18883f-4684-45fc-86c0-fff2145f8487\",\"type\":\"DataRange1d\"},{\"attributes\":{},\"id\":\"32ee48d7-9205-4e77-88bc-e88c4cc608fe\",\"type\":\"BasicTicker\"},{\"attributes\":{\"callback\":null,\"column_names\":[\"x\",\"y\"],\"data\":{\"x\":[1,2,3,4,5],\"y\":[6,7,8,7,3]}},\"id\":\"4f391d73-0ad9-4d1e-ac51-6eb1fa7934a4\",\"type\":\"ColumnDataSource\"},{\"attributes\":{\"line_alpha\":0.1,\"line_color\":\"#1f77b4\",\"line_width\":2,\"x\":{\"field\":\"x\"},\"y\":{\"field\":\"y\"}},\"id\":\"f706402f-0746-4f63-9e8f-ccfc950cad1f\",\"type\":\"Line\"},{\"attributes\":{\"fill_color\":{\"value\":\"white\"},\"line_color\":{\"value\":\"#1f77b4\"},\"size\":{\"units\":\"screen\",\"value\":8},\"x\":{\"field\":\"x\"},\"y\":{\"field\":\"y\"}},\"id\":\"7243a3ef-c8d5-41b3-a811-057b58133659\",\"type\":\"Circle\"},{\"attributes\":{\"dimension\":1,\"plot\":{\"id\":\"ff09a235-b920-4594-8fc7-761b6451e7b0\",\"subtype\":\"Figure\",\"type\":\"Plot\"},\"ticker\":{\"id\":\"ace30c65-3b95-4c0d-bd64-1d274b2add77\",\"type\":\"BasicTicker\"}},\"id\":\"74564191-57c7-4695-817a-359280893000\",\"type\":\"Grid\"},{\"attributes\":{\"overlay\":{\"id\":\"bc2eb65e-6734-4ad8-8c2c-7e33526c2912\",\"type\":\"BoxAnnotation\"}},\"id\":\"95ab62bc-db7f-4a9e-be43-55de63462708\",\"type\":\"BoxZoomTool\"},{\"attributes\":{\"plot\":null,\"text\":\"\"},\"id\":\"5109fbe2-b111-40e5-8de7-3efae4a667f4\",\"type\":\"Title\"},{\"attributes\":{\"line_color\":\"#1f77b4\",\"line_width\":2,\"x\":{\"field\":\"x\"},\"y\":{\"field\":\"y\"}},\"id\":\"c782f674-f4e5-4048-8561-4c35d8cbe605\",\"type\":\"Line\"},{\"attributes\":{\"below\":[{\"id\":\"cbb3d155-1db7-40ca-b097-11a892718f22\",\"type\":\"LinearAxis\"}],\"left\":[{\"id\":\"ace2df8d-9135-445d-a52e-6dcd71baf568\",\"type\":\"LinearAxis\"}],\"plot_height\":400,\"plot_width\":400,\"renderers\":[{\"id\":\"cbb3d155-1db7-40ca-b097-11a892718f22\",\"type\":\"LinearAxis\"},{\"id\":\"2a5573e3-a8ec-4b51-9db0-cdc313ef7964\",\"type\":\"Grid\"},{\"id\":\"ace2df8d-9135-445d-a52e-6dcd71baf568\",\"type\":\"LinearAxis\"},{\"id\":\"74564191-57c7-4695-817a-359280893000\",\"type\":\"Grid\"},{\"id\":\"bc2eb65e-6734-4ad8-8c2c-7e33526c2912\",\"type\":\"BoxAnnotation\"},{\"id\":\"3fd77a7b-187a-41cc-9076-d1ae4b5480ae\",\"type\":\"GlyphRenderer\"},{\"id\":\"ee2060b9-af15-44eb-99c2-5ee11fe96d2b\",\"type\":\"GlyphRenderer\"}],\"title\":{\"id\":\"5109fbe2-b111-40e5-8de7-3efae4a667f4\",\"type\":\"Title\"},\"toolbar\":{\"id\":\"50976f01-7654-4ebf-824d-ce68809a8b30\",\"type\":\"Toolbar\"},\"x_range\":{\"id\":\"2884d523-0b14-4ab7-a4e4-f09673164e21\",\"type\":\"DataRange1d\"},\"x_scale\":{\"id\":\"8cb3c79c-42d0-46d4-8031-3f618b0cac64\",\"type\":\"LinearScale\"},\"y_range\":{\"id\":\"bc18883f-4684-45fc-86c0-fff2145f8487\",\"type\":\"DataRange1d\"},\"y_scale\":{\"id\":\"13d9e9f5-5012-4c28-b4a8-e6d7d8742ee0\",\"type\":\"LinearScale\"}},\"id\":\"ff09a235-b920-4594-8fc7-761b6451e7b0\",\"subtype\":\"Figure\",\"type\":\"Plot\"},{\"attributes\":{\"callback\":null,\"column_names\":[\"x\",\"y\"],\"data\":{\"x\":[1,2,3,4,5],\"y\":[6,7,8,7,3]}},\"id\":\"d664f98c-4b03-45a7-bec8-535cd310b2c4\",\"type\":\"ColumnDataSource\"},{\"attributes\":{},\"id\":\"8cb3c79c-42d0-46d4-8031-3f618b0cac64\",\"type\":\"LinearScale\"},{\"attributes\":{},\"id\":\"ace30c65-3b95-4c0d-bd64-1d274b2add77\",\"type\":\"BasicTicker\"},{\"attributes\":{\"active_drag\":\"auto\",\"active_inspect\":\"auto\",\"active_scroll\":\"auto\",\"active_tap\":\"auto\",\"tools\":[{\"id\":\"b2fca7d4-3c78-467b-b241-84296f2c8072\",\"type\":\"PanTool\"},{\"id\":\"c9c3c429-db19-4cc6-bf28-bdc3fc847ffe\",\"type\":\"WheelZoomTool\"},{\"id\":\"95ab62bc-db7f-4a9e-be43-55de63462708\",\"type\":\"BoxZoomTool\"},{\"id\":\"ca233d5f-44a6-4b96-939c-287f2ee3bd98\",\"type\":\"SaveTool\"},{\"id\":\"019f32b8-7cef-4357-9dd1-d040261efed1\",\"type\":\"ResetTool\"},{\"id\":\"25e1a963-3b6f-4203-a746-354b89fc3a03\",\"type\":\"HelpTool\"}]},\"id\":\"50976f01-7654-4ebf-824d-ce68809a8b30\",\"type\":\"Toolbar\"},{\"attributes\":{},\"id\":\"c9c3c429-db19-4cc6-bf28-bdc3fc847ffe\",\"type\":\"WheelZoomTool\"},{\"attributes\":{\"formatter\":{\"id\":\"21bb043b-6e74-41da-9add-4f90156c2f6c\",\"type\":\"BasicTickFormatter\"},\"plot\":{\"id\":\"ff09a235-b920-4594-8fc7-761b6451e7b0\",\"subtype\":\"Figure\",\"type\":\"Plot\"},\"ticker\":{\"id\":\"ace30c65-3b95-4c0d-bd64-1d274b2add77\",\"type\":\"BasicTicker\"}},\"id\":\"ace2df8d-9135-445d-a52e-6dcd71baf568\",\"type\":\"LinearAxis\"},{\"attributes\":{\"callback\":null},\"id\":\"2884d523-0b14-4ab7-a4e4-f09673164e21\",\"type\":\"DataRange1d\"},{\"attributes\":{},\"id\":\"cc1cd8e2-10aa-4d03-86c4-962eceebb53c\",\"type\":\"BasicTickFormatter\"},{\"attributes\":{\"formatter\":{\"id\":\"cc1cd8e2-10aa-4d03-86c4-962eceebb53c\",\"type\":\"BasicTickFormatter\"},\"plot\":{\"id\":\"ff09a235-b920-4594-8fc7-761b6451e7b0\",\"subtype\":\"Figure\",\"type\":\"Plot\"},\"ticker\":{\"id\":\"32ee48d7-9205-4e77-88bc-e88c4cc608fe\",\"type\":\"BasicTicker\"}},\"id\":\"cbb3d155-1db7-40ca-b097-11a892718f22\",\"type\":\"LinearAxis\"}],\"root_ids\":[\"ff09a235-b920-4594-8fc7-761b6451e7b0\"]},\"title\":\"Bokeh Application\",\"version\":\"0.12.13\"}};\n",
       "  var render_items = [{\"docid\":\"15513356-37df-4289-a7b8-4301e6112749\",\"elementid\":\"f5922cd6-c004-4aae-8405-8d6123d26e50\",\"modelid\":\"ff09a235-b920-4594-8fc7-761b6451e7b0\"}];\n",
       "  root.Bokeh.embed.embed_items_notebook(docs_json, render_items);\n",
       "\n",
       "  }\n",
       "  if (root.Bokeh !== undefined) {\n",
       "    embed_document(root);\n",
       "  } else {\n",
       "    var attempts = 0;\n",
       "    var timer = setInterval(function(root) {\n",
       "      if (root.Bokeh !== undefined) {\n",
       "        embed_document(root);\n",
       "        clearInterval(timer);\n",
       "      }\n",
       "      attempts++;\n",
       "      if (attempts > 100) {\n",
       "        console.log(\"Bokeh: ERROR: Unable to run BokehJS code because BokehJS library is missing\")\n",
       "        clearInterval(timer);\n",
       "      }\n",
       "    }, 10, root)\n",
       "  }\n",
       "})(window);"
      ],
      "application/vnd.bokehjs_exec.v0+json": ""
     },
     "metadata": {
      "application/vnd.bokehjs_exec.v0+json": {
       "id": "ff09a235-b920-4594-8fc7-761b6451e7b0"
      }
     },
     "output_type": "display_data"
    }
   ],
   "source": [
    "# set up some data\n",
    "x = [1, 2, 3, 4, 5]\n",
    "y = [6, 7, 8, 7, 3]\n",
    "\n",
    "# create a new plot with figure\n",
    "p = figure(plot_width=400, plot_height=400)\n",
    "\n",
    "# add both a line and circles on the same plot\n",
    "p.line(x, y, line_width=2)\n",
    "p.circle(x, y, fill_color=\"white\", size=8)\n",
    "\n",
    "show(p) # show the results"
   ]
  },
  {
   "cell_type": "code",
   "execution_count": 11,
   "metadata": {
    "collapsed": true
   },
   "outputs": [],
   "source": [
    "# EXERCISE: create your own plot combining multiple glyphs together\n",
    "\n"
   ]
  }
 ],
 "metadata": {
  "anaconda-cloud": {},
  "kernelspec": {
   "display_name": "Python 3",
   "language": "python",
   "name": "python3"
  },
  "language_info": {
   "codemirror_mode": {
    "name": "ipython",
    "version": 3
   },
   "file_extension": ".py",
   "mimetype": "text/x-python",
   "name": "python",
   "nbconvert_exporter": "python",
   "pygments_lexer": "ipython3",
   "version": "3.6.4"
  }
 },
 "nbformat": 4,
 "nbformat_minor": 1
}
