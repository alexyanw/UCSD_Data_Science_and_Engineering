{
 "cells": [
  {
   "cell_type": "code",
   "execution_count": 1,
   "metadata": {},
   "outputs": [
    {
     "data": {
      "text/html": [
       "\n",
       "    <div class=\"bk-root\">\n",
       "        <a href=\"https://bokeh.pydata.org\" target=\"_blank\" class=\"bk-logo bk-logo-small bk-logo-notebook\"></a>\n",
       "        <span id=\"903c7730-af30-454d-aca7-fdaee4083b1f\">Loading BokehJS ...</span>\n",
       "    </div>"
      ]
     },
     "metadata": {},
     "output_type": "display_data"
    },
    {
     "data": {
      "application/javascript": [
       "\n",
       "(function(root) {\n",
       "  function now() {\n",
       "    return new Date();\n",
       "  }\n",
       "\n",
       "  var force = true;\n",
       "\n",
       "  if (typeof (root._bokeh_onload_callbacks) === \"undefined\" || force === true) {\n",
       "    root._bokeh_onload_callbacks = [];\n",
       "    root._bokeh_is_loading = undefined;\n",
       "  }\n",
       "\n",
       "  var JS_MIME_TYPE = 'application/javascript';\n",
       "  var HTML_MIME_TYPE = 'text/html';\n",
       "  var EXEC_MIME_TYPE = 'application/vnd.bokehjs_exec.v0+json';\n",
       "  var CLASS_NAME = 'output_bokeh rendered_html';\n",
       "\n",
       "  /**\n",
       "   * Render data to the DOM node\n",
       "   */\n",
       "  function render(props, node) {\n",
       "    var script = document.createElement(\"script\");\n",
       "    node.appendChild(script);\n",
       "  }\n",
       "\n",
       "  /**\n",
       "   * Handle when an output is cleared or removed\n",
       "   */\n",
       "  function handleClearOutput(event, handle) {\n",
       "    var cell = handle.cell;\n",
       "\n",
       "    var id = cell.output_area._bokeh_element_id;\n",
       "    var server_id = cell.output_area._bokeh_server_id;\n",
       "    // Clean up Bokeh references\n",
       "    if (id !== undefined) {\n",
       "      Bokeh.index[id].model.document.clear();\n",
       "      delete Bokeh.index[id];\n",
       "    }\n",
       "\n",
       "    if (server_id !== undefined) {\n",
       "      // Clean up Bokeh references\n",
       "      var cmd = \"from bokeh.io.state import curstate; print(curstate().uuid_to_server['\" + server_id + \"'].get_sessions()[0].document.roots[0]._id)\";\n",
       "      cell.notebook.kernel.execute(cmd, {\n",
       "        iopub: {\n",
       "          output: function(msg) {\n",
       "            var element_id = msg.content.text.trim();\n",
       "            Bokeh.index[element_id].model.document.clear();\n",
       "            delete Bokeh.index[element_id];\n",
       "          }\n",
       "        }\n",
       "      });\n",
       "      // Destroy server and session\n",
       "      var cmd = \"import bokeh.io.notebook as ion; ion.destroy_server('\" + server_id + \"')\";\n",
       "      cell.notebook.kernel.execute(cmd);\n",
       "    }\n",
       "  }\n",
       "\n",
       "  /**\n",
       "   * Handle when a new output is added\n",
       "   */\n",
       "  function handleAddOutput(event, handle) {\n",
       "    var output_area = handle.output_area;\n",
       "    var output = handle.output;\n",
       "\n",
       "    // limit handleAddOutput to display_data with EXEC_MIME_TYPE content only\n",
       "    if ((output.output_type != \"display_data\") || (!output.data.hasOwnProperty(EXEC_MIME_TYPE))) {\n",
       "      return\n",
       "    }\n",
       "\n",
       "    var toinsert = output_area.element.find(\".\" + CLASS_NAME.split(' ')[0]);\n",
       "\n",
       "    if (output.metadata[EXEC_MIME_TYPE][\"id\"] !== undefined) {\n",
       "      toinsert[0].firstChild.textContent = output.data[JS_MIME_TYPE];\n",
       "      // store reference to embed id on output_area\n",
       "      output_area._bokeh_element_id = output.metadata[EXEC_MIME_TYPE][\"id\"];\n",
       "    }\n",
       "    if (output.metadata[EXEC_MIME_TYPE][\"server_id\"] !== undefined) {\n",
       "      var bk_div = document.createElement(\"div\");\n",
       "      bk_div.innerHTML = output.data[HTML_MIME_TYPE];\n",
       "      var script_attrs = bk_div.children[0].attributes;\n",
       "      for (var i = 0; i < script_attrs.length; i++) {\n",
       "        toinsert[0].firstChild.setAttribute(script_attrs[i].name, script_attrs[i].value);\n",
       "      }\n",
       "      // store reference to server id on output_area\n",
       "      output_area._bokeh_server_id = output.metadata[EXEC_MIME_TYPE][\"server_id\"];\n",
       "    }\n",
       "  }\n",
       "\n",
       "  function register_renderer(events, OutputArea) {\n",
       "\n",
       "    function append_mime(data, metadata, element) {\n",
       "      // create a DOM node to render to\n",
       "      var toinsert = this.create_output_subarea(\n",
       "        metadata,\n",
       "        CLASS_NAME,\n",
       "        EXEC_MIME_TYPE\n",
       "      );\n",
       "      this.keyboard_manager.register_events(toinsert);\n",
       "      // Render to node\n",
       "      var props = {data: data, metadata: metadata[EXEC_MIME_TYPE]};\n",
       "      render(props, toinsert[0]);\n",
       "      element.append(toinsert);\n",
       "      return toinsert\n",
       "    }\n",
       "\n",
       "    /* Handle when an output is cleared or removed */\n",
       "    events.on('clear_output.CodeCell', handleClearOutput);\n",
       "    events.on('delete.Cell', handleClearOutput);\n",
       "\n",
       "    /* Handle when a new output is added */\n",
       "    events.on('output_added.OutputArea', handleAddOutput);\n",
       "\n",
       "    /**\n",
       "     * Register the mime type and append_mime function with output_area\n",
       "     */\n",
       "    OutputArea.prototype.register_mime_type(EXEC_MIME_TYPE, append_mime, {\n",
       "      /* Is output safe? */\n",
       "      safe: true,\n",
       "      /* Index of renderer in `output_area.display_order` */\n",
       "      index: 0\n",
       "    });\n",
       "  }\n",
       "\n",
       "  // register the mime type if in Jupyter Notebook environment and previously unregistered\n",
       "  if (root.Jupyter !== undefined) {\n",
       "    var events = require('base/js/events');\n",
       "    var OutputArea = require('notebook/js/outputarea').OutputArea;\n",
       "\n",
       "    if (OutputArea.prototype.mime_types().indexOf(EXEC_MIME_TYPE) == -1) {\n",
       "      register_renderer(events, OutputArea);\n",
       "    }\n",
       "  }\n",
       "\n",
       "  \n",
       "  if (typeof (root._bokeh_timeout) === \"undefined\" || force === true) {\n",
       "    root._bokeh_timeout = Date.now() + 5000;\n",
       "    root._bokeh_failed_load = false;\n",
       "  }\n",
       "\n",
       "  var NB_LOAD_WARNING = {'data': {'text/html':\n",
       "     \"<div style='background-color: #fdd'>\\n\"+\n",
       "     \"<p>\\n\"+\n",
       "     \"BokehJS does not appear to have successfully loaded. If loading BokehJS from CDN, this \\n\"+\n",
       "     \"may be due to a slow or bad network connection. Possible fixes:\\n\"+\n",
       "     \"</p>\\n\"+\n",
       "     \"<ul>\\n\"+\n",
       "     \"<li>re-rerun `output_notebook()` to attempt to load from CDN again, or</li>\\n\"+\n",
       "     \"<li>use INLINE resources instead, as so:</li>\\n\"+\n",
       "     \"</ul>\\n\"+\n",
       "     \"<code>\\n\"+\n",
       "     \"from bokeh.resources import INLINE\\n\"+\n",
       "     \"output_notebook(resources=INLINE)\\n\"+\n",
       "     \"</code>\\n\"+\n",
       "     \"</div>\"}};\n",
       "\n",
       "  function display_loaded() {\n",
       "    var el = document.getElementById(\"903c7730-af30-454d-aca7-fdaee4083b1f\");\n",
       "    if (el != null) {\n",
       "      el.textContent = \"BokehJS is loading...\";\n",
       "    }\n",
       "    if (root.Bokeh !== undefined) {\n",
       "      if (el != null) {\n",
       "        el.textContent = \"BokehJS \" + root.Bokeh.version + \" successfully loaded.\";\n",
       "      }\n",
       "    } else if (Date.now() < root._bokeh_timeout) {\n",
       "      setTimeout(display_loaded, 100)\n",
       "    }\n",
       "  }\n",
       "\n",
       "\n",
       "  function run_callbacks() {\n",
       "    try {\n",
       "      root._bokeh_onload_callbacks.forEach(function(callback) { callback() });\n",
       "    }\n",
       "    finally {\n",
       "      delete root._bokeh_onload_callbacks\n",
       "    }\n",
       "    console.info(\"Bokeh: all callbacks have finished\");\n",
       "  }\n",
       "\n",
       "  function load_libs(js_urls, callback) {\n",
       "    root._bokeh_onload_callbacks.push(callback);\n",
       "    if (root._bokeh_is_loading > 0) {\n",
       "      console.log(\"Bokeh: BokehJS is being loaded, scheduling callback at\", now());\n",
       "      return null;\n",
       "    }\n",
       "    if (js_urls == null || js_urls.length === 0) {\n",
       "      run_callbacks();\n",
       "      return null;\n",
       "    }\n",
       "    console.log(\"Bokeh: BokehJS not loaded, scheduling load and callback at\", now());\n",
       "    root._bokeh_is_loading = js_urls.length;\n",
       "    for (var i = 0; i < js_urls.length; i++) {\n",
       "      var url = js_urls[i];\n",
       "      var s = document.createElement('script');\n",
       "      s.src = url;\n",
       "      s.async = false;\n",
       "      s.onreadystatechange = s.onload = function() {\n",
       "        root._bokeh_is_loading--;\n",
       "        if (root._bokeh_is_loading === 0) {\n",
       "          console.log(\"Bokeh: all BokehJS libraries loaded\");\n",
       "          run_callbacks()\n",
       "        }\n",
       "      };\n",
       "      s.onerror = function() {\n",
       "        console.warn(\"failed to load library \" + url);\n",
       "      };\n",
       "      console.log(\"Bokeh: injecting script tag for BokehJS library: \", url);\n",
       "      document.getElementsByTagName(\"head\")[0].appendChild(s);\n",
       "    }\n",
       "  };var element = document.getElementById(\"903c7730-af30-454d-aca7-fdaee4083b1f\");\n",
       "  if (element == null) {\n",
       "    console.log(\"Bokeh: ERROR: autoload.js configured with elementid '903c7730-af30-454d-aca7-fdaee4083b1f' but no matching script tag was found. \")\n",
       "    return false;\n",
       "  }\n",
       "\n",
       "  var js_urls = [\"https://cdn.pydata.org/bokeh/release/bokeh-0.12.13.min.js\", \"https://cdn.pydata.org/bokeh/release/bokeh-widgets-0.12.13.min.js\", \"https://cdn.pydata.org/bokeh/release/bokeh-tables-0.12.13.min.js\", \"https://cdn.pydata.org/bokeh/release/bokeh-gl-0.12.13.min.js\"];\n",
       "\n",
       "  var inline_js = [\n",
       "    function(Bokeh) {\n",
       "      Bokeh.set_log_level(\"info\");\n",
       "    },\n",
       "    \n",
       "    function(Bokeh) {\n",
       "      \n",
       "    },\n",
       "    function(Bokeh) {\n",
       "      console.log(\"Bokeh: injecting CSS: https://cdn.pydata.org/bokeh/release/bokeh-0.12.13.min.css\");\n",
       "      Bokeh.embed.inject_css(\"https://cdn.pydata.org/bokeh/release/bokeh-0.12.13.min.css\");\n",
       "      console.log(\"Bokeh: injecting CSS: https://cdn.pydata.org/bokeh/release/bokeh-widgets-0.12.13.min.css\");\n",
       "      Bokeh.embed.inject_css(\"https://cdn.pydata.org/bokeh/release/bokeh-widgets-0.12.13.min.css\");\n",
       "      console.log(\"Bokeh: injecting CSS: https://cdn.pydata.org/bokeh/release/bokeh-tables-0.12.13.min.css\");\n",
       "      Bokeh.embed.inject_css(\"https://cdn.pydata.org/bokeh/release/bokeh-tables-0.12.13.min.css\");\n",
       "    }\n",
       "  ];\n",
       "\n",
       "  function run_inline_js() {\n",
       "    \n",
       "    if ((root.Bokeh !== undefined) || (force === true)) {\n",
       "      for (var i = 0; i < inline_js.length; i++) {\n",
       "        inline_js[i].call(root, root.Bokeh);\n",
       "      }if (force === true) {\n",
       "        display_loaded();\n",
       "      }} else if (Date.now() < root._bokeh_timeout) {\n",
       "      setTimeout(run_inline_js, 100);\n",
       "    } else if (!root._bokeh_failed_load) {\n",
       "      console.log(\"Bokeh: BokehJS failed to load within specified timeout.\");\n",
       "      root._bokeh_failed_load = true;\n",
       "    } else if (force !== true) {\n",
       "      var cell = $(document.getElementById(\"903c7730-af30-454d-aca7-fdaee4083b1f\")).parents('.cell').data().cell;\n",
       "      cell.output_area.append_execute_result(NB_LOAD_WARNING)\n",
       "    }\n",
       "\n",
       "  }\n",
       "\n",
       "  if (root._bokeh_is_loading === 0) {\n",
       "    console.log(\"Bokeh: BokehJS loaded, going straight to plotting\");\n",
       "    run_inline_js();\n",
       "  } else {\n",
       "    load_libs(js_urls, function() {\n",
       "      console.log(\"Bokeh: BokehJS plotting callback run at\", now());\n",
       "      run_inline_js();\n",
       "    });\n",
       "  }\n",
       "}(window));"
      ],
      "application/vnd.bokehjs_load.v0+json": "\n(function(root) {\n  function now() {\n    return new Date();\n  }\n\n  var force = true;\n\n  if (typeof (root._bokeh_onload_callbacks) === \"undefined\" || force === true) {\n    root._bokeh_onload_callbacks = [];\n    root._bokeh_is_loading = undefined;\n  }\n\n  \n\n  \n  if (typeof (root._bokeh_timeout) === \"undefined\" || force === true) {\n    root._bokeh_timeout = Date.now() + 5000;\n    root._bokeh_failed_load = false;\n  }\n\n  var NB_LOAD_WARNING = {'data': {'text/html':\n     \"<div style='background-color: #fdd'>\\n\"+\n     \"<p>\\n\"+\n     \"BokehJS does not appear to have successfully loaded. If loading BokehJS from CDN, this \\n\"+\n     \"may be due to a slow or bad network connection. Possible fixes:\\n\"+\n     \"</p>\\n\"+\n     \"<ul>\\n\"+\n     \"<li>re-rerun `output_notebook()` to attempt to load from CDN again, or</li>\\n\"+\n     \"<li>use INLINE resources instead, as so:</li>\\n\"+\n     \"</ul>\\n\"+\n     \"<code>\\n\"+\n     \"from bokeh.resources import INLINE\\n\"+\n     \"output_notebook(resources=INLINE)\\n\"+\n     \"</code>\\n\"+\n     \"</div>\"}};\n\n  function display_loaded() {\n    var el = document.getElementById(\"903c7730-af30-454d-aca7-fdaee4083b1f\");\n    if (el != null) {\n      el.textContent = \"BokehJS is loading...\";\n    }\n    if (root.Bokeh !== undefined) {\n      if (el != null) {\n        el.textContent = \"BokehJS \" + root.Bokeh.version + \" successfully loaded.\";\n      }\n    } else if (Date.now() < root._bokeh_timeout) {\n      setTimeout(display_loaded, 100)\n    }\n  }\n\n\n  function run_callbacks() {\n    try {\n      root._bokeh_onload_callbacks.forEach(function(callback) { callback() });\n    }\n    finally {\n      delete root._bokeh_onload_callbacks\n    }\n    console.info(\"Bokeh: all callbacks have finished\");\n  }\n\n  function load_libs(js_urls, callback) {\n    root._bokeh_onload_callbacks.push(callback);\n    if (root._bokeh_is_loading > 0) {\n      console.log(\"Bokeh: BokehJS is being loaded, scheduling callback at\", now());\n      return null;\n    }\n    if (js_urls == null || js_urls.length === 0) {\n      run_callbacks();\n      return null;\n    }\n    console.log(\"Bokeh: BokehJS not loaded, scheduling load and callback at\", now());\n    root._bokeh_is_loading = js_urls.length;\n    for (var i = 0; i < js_urls.length; i++) {\n      var url = js_urls[i];\n      var s = document.createElement('script');\n      s.src = url;\n      s.async = false;\n      s.onreadystatechange = s.onload = function() {\n        root._bokeh_is_loading--;\n        if (root._bokeh_is_loading === 0) {\n          console.log(\"Bokeh: all BokehJS libraries loaded\");\n          run_callbacks()\n        }\n      };\n      s.onerror = function() {\n        console.warn(\"failed to load library \" + url);\n      };\n      console.log(\"Bokeh: injecting script tag for BokehJS library: \", url);\n      document.getElementsByTagName(\"head\")[0].appendChild(s);\n    }\n  };var element = document.getElementById(\"903c7730-af30-454d-aca7-fdaee4083b1f\");\n  if (element == null) {\n    console.log(\"Bokeh: ERROR: autoload.js configured with elementid '903c7730-af30-454d-aca7-fdaee4083b1f' but no matching script tag was found. \")\n    return false;\n  }\n\n  var js_urls = [\"https://cdn.pydata.org/bokeh/release/bokeh-0.12.13.min.js\", \"https://cdn.pydata.org/bokeh/release/bokeh-widgets-0.12.13.min.js\", \"https://cdn.pydata.org/bokeh/release/bokeh-tables-0.12.13.min.js\", \"https://cdn.pydata.org/bokeh/release/bokeh-gl-0.12.13.min.js\"];\n\n  var inline_js = [\n    function(Bokeh) {\n      Bokeh.set_log_level(\"info\");\n    },\n    \n    function(Bokeh) {\n      \n    },\n    function(Bokeh) {\n      console.log(\"Bokeh: injecting CSS: https://cdn.pydata.org/bokeh/release/bokeh-0.12.13.min.css\");\n      Bokeh.embed.inject_css(\"https://cdn.pydata.org/bokeh/release/bokeh-0.12.13.min.css\");\n      console.log(\"Bokeh: injecting CSS: https://cdn.pydata.org/bokeh/release/bokeh-widgets-0.12.13.min.css\");\n      Bokeh.embed.inject_css(\"https://cdn.pydata.org/bokeh/release/bokeh-widgets-0.12.13.min.css\");\n      console.log(\"Bokeh: injecting CSS: https://cdn.pydata.org/bokeh/release/bokeh-tables-0.12.13.min.css\");\n      Bokeh.embed.inject_css(\"https://cdn.pydata.org/bokeh/release/bokeh-tables-0.12.13.min.css\");\n    }\n  ];\n\n  function run_inline_js() {\n    \n    if ((root.Bokeh !== undefined) || (force === true)) {\n      for (var i = 0; i < inline_js.length; i++) {\n        inline_js[i].call(root, root.Bokeh);\n      }if (force === true) {\n        display_loaded();\n      }} else if (Date.now() < root._bokeh_timeout) {\n      setTimeout(run_inline_js, 100);\n    } else if (!root._bokeh_failed_load) {\n      console.log(\"Bokeh: BokehJS failed to load within specified timeout.\");\n      root._bokeh_failed_load = true;\n    } else if (force !== true) {\n      var cell = $(document.getElementById(\"903c7730-af30-454d-aca7-fdaee4083b1f\")).parents('.cell').data().cell;\n      cell.output_area.append_execute_result(NB_LOAD_WARNING)\n    }\n\n  }\n\n  if (root._bokeh_is_loading === 0) {\n    console.log(\"Bokeh: BokehJS loaded, going straight to plotting\");\n    run_inline_js();\n  } else {\n    load_libs(js_urls, function() {\n      console.log(\"Bokeh: BokehJS plotting callback run at\", now());\n      run_inline_js();\n    });\n  }\n}(window));"
     },
     "metadata": {},
     "output_type": "display_data"
    }
   ],
   "source": [
    "from bokeh.io import output_notebook, show\n",
    "from bokeh.plotting import figure\n",
    "output_notebook()"
   ]
  },
  {
   "cell_type": "markdown",
   "metadata": {
    "collapsed": true
   },
   "source": [
    "# Linked Interactions\n",
    "\n",
    "It is possible to link various interactions between different Bokeh plots. For instance, the ranges of two (or more) plots can be linked, so that when one of the plots is panned (or zoomed, or otherwise has its range changed) the other plots will update in unison. It is also possible to link selections between two plots, so that when items are selected on one plot, the corresponding items on the second plot also become selected. "
   ]
  },
  {
   "cell_type": "markdown",
   "metadata": {},
   "source": [
    "## Linked panning\n",
    "\n",
    "Linked panning (when multiple plots have ranges that stay in sync) is simple to spell with Bokeh. You simply share the appropriate range objects between two (or more) plots. The example below shows how to accomplish this by linking the ranges of three plots in various ways:"
   ]
  },
  {
   "cell_type": "code",
   "execution_count": 2,
   "metadata": {},
   "outputs": [
    {
     "data": {
      "text/html": [
       "\n",
       "<div class=\"bk-root\">\n",
       "    <div class=\"bk-plotdiv\" id=\"fb20aef9-1bdc-4831-9de8-ec737c0a9cfa\"></div>\n",
       "</div>"
      ]
     },
     "metadata": {},
     "output_type": "display_data"
    },
    {
     "data": {
      "application/javascript": [
       "(function(root) {\n",
       "  function embed_document(root) {\n",
       "    \n",
       "  var docs_json = {\"e90f0b96-a538-406d-a5ef-f686bcd4911b\":{\"roots\":{\"references\":[{\"attributes\":{\"fill_color\":{\"value\":\"firebrick\"},\"line_color\":{\"value\":\"firebrick\"},\"size\":{\"units\":\"screen\",\"value\":10},\"x\":{\"field\":\"x\"},\"y\":{\"field\":\"y\"}},\"id\":\"d25c6888-a220-4163-ad8c-2010c08960fc\",\"type\":\"Triangle\"},{\"attributes\":{},\"id\":\"90ff9e88-1303-4c99-b2b5-98063d2360eb\",\"type\":\"LinearScale\"},{\"attributes\":{\"plot\":{\"id\":\"f16366e9-636d-4f4b-959f-a1597a061cb9\",\"subtype\":\"Figure\",\"type\":\"Plot\"},\"ticker\":{\"id\":\"15665253-eb20-4466-a36a-d5786bd143ba\",\"type\":\"BasicTicker\"}},\"id\":\"ee78af0f-f252-49d4-8b7e-026d8c022cff\",\"type\":\"Grid\"},{\"attributes\":{\"formatter\":{\"id\":\"98b70049-5527-483a-a68b-489effeb8dbf\",\"type\":\"BasicTickFormatter\"},\"plot\":{\"id\":\"f16366e9-636d-4f4b-959f-a1597a061cb9\",\"subtype\":\"Figure\",\"type\":\"Plot\"},\"ticker\":{\"id\":\"15665253-eb20-4466-a36a-d5786bd143ba\",\"type\":\"BasicTicker\"}},\"id\":\"aa00b215-50f2-4270-a503-a324db5650c8\",\"type\":\"LinearAxis\"},{\"attributes\":{\"fill_alpha\":{\"value\":0.1},\"fill_color\":{\"value\":\"#1f77b4\"},\"line_alpha\":{\"value\":0.1},\"line_color\":{\"value\":\"#1f77b4\"},\"size\":{\"units\":\"screen\",\"value\":10},\"x\":{\"field\":\"x\"},\"y\":{\"field\":\"y\"}},\"id\":\"77c41a0d-6ab5-4bd1-a1e8-5c64ce5f7de2\",\"type\":\"Circle\"},{\"attributes\":{},\"id\":\"15665253-eb20-4466-a36a-d5786bd143ba\",\"type\":\"BasicTicker\"},{\"attributes\":{\"formatter\":{\"id\":\"13578df1-8ca9-42c6-93a3-30bacb614f46\",\"type\":\"BasicTickFormatter\"},\"plot\":{\"id\":\"f16366e9-636d-4f4b-959f-a1597a061cb9\",\"subtype\":\"Figure\",\"type\":\"Plot\"},\"ticker\":{\"id\":\"cabf9c77-7e56-4468-9fb7-39b699e35943\",\"type\":\"BasicTicker\"}},\"id\":\"c459c34f-c7c3-4bf3-847f-ccadf8e58388\",\"type\":\"LinearAxis\"},{\"attributes\":{},\"id\":\"cabf9c77-7e56-4468-9fb7-39b699e35943\",\"type\":\"BasicTicker\"},{\"attributes\":{\"dimension\":1,\"plot\":{\"id\":\"f16366e9-636d-4f4b-959f-a1597a061cb9\",\"subtype\":\"Figure\",\"type\":\"Plot\"},\"ticker\":{\"id\":\"cabf9c77-7e56-4468-9fb7-39b699e35943\",\"type\":\"BasicTicker\"}},\"id\":\"d30144c9-6730-4971-8892-5cfef6951d27\",\"type\":\"Grid\"},{\"attributes\":{},\"id\":\"13578df1-8ca9-42c6-93a3-30bacb614f46\",\"type\":\"BasicTickFormatter\"},{\"attributes\":{},\"id\":\"ba2578ac-8fae-4001-8362-cf2438d3d44f\",\"type\":\"PanTool\"},{\"attributes\":{},\"id\":\"fd47c8c8-f579-4acf-81e1-0241f8d269a7\",\"type\":\"BasicTickFormatter\"},{\"attributes\":{\"fill_color\":{\"value\":\"navy\"},\"line_color\":{\"value\":\"navy\"},\"size\":{\"units\":\"screen\",\"value\":10},\"x\":{\"field\":\"x\"},\"y\":{\"field\":\"y\"}},\"id\":\"88f893d4-91aa-49f9-9852-3aafb9a6fc24\",\"type\":\"Circle\"},{\"attributes\":{},\"id\":\"6ea4cdad-8020-4b83-a912-dd21e4d3c982\",\"type\":\"WheelZoomTool\"},{\"attributes\":{\"source\":{\"id\":\"a15546a4-6386-4b5b-bfd5-a9512b032fb7\",\"type\":\"ColumnDataSource\"}},\"id\":\"044fa8ca-6160-474d-9a25-7efb52c311a5\",\"type\":\"CDSView\"},{\"attributes\":{\"fill_alpha\":{\"value\":0.1},\"fill_color\":{\"value\":\"#1f77b4\"},\"line_alpha\":{\"value\":0.1},\"line_color\":{\"value\":\"#1f77b4\"},\"size\":{\"units\":\"screen\",\"value\":10},\"x\":{\"field\":\"x\"},\"y\":{\"field\":\"y\"}},\"id\":\"6f0baf1a-b018-4193-8b83-3bb64f728281\",\"type\":\"Triangle\"},{\"attributes\":{\"plot\":null,\"text\":\"\"},\"id\":\"e66c6a60-492f-485e-8979-9d57eaafaebb\",\"type\":\"Title\"},{\"attributes\":{\"data_source\":{\"id\":\"497c981e-0ad9-4381-b109-cbbea4210ba7\",\"type\":\"ColumnDataSource\"},\"glyph\":{\"id\":\"d25c6888-a220-4163-ad8c-2010c08960fc\",\"type\":\"Triangle\"},\"hover_glyph\":null,\"muted_glyph\":null,\"nonselection_glyph\":{\"id\":\"6f0baf1a-b018-4193-8b83-3bb64f728281\",\"type\":\"Triangle\"},\"selection_glyph\":null,\"view\":{\"id\":\"efd89fb8-8ad0-48d6-8bc4-024d8d5b0597\",\"type\":\"CDSView\"}},\"id\":\"2dc563c2-e57f-4ea5-88fe-d7c41a26e224\",\"type\":\"GlyphRenderer\"},{\"attributes\":{\"source\":{\"id\":\"497c981e-0ad9-4381-b109-cbbea4210ba7\",\"type\":\"ColumnDataSource\"}},\"id\":\"efd89fb8-8ad0-48d6-8bc4-024d8d5b0597\",\"type\":\"CDSView\"},{\"attributes\":{},\"id\":\"98b70049-5527-483a-a68b-489effeb8dbf\",\"type\":\"BasicTickFormatter\"},{\"attributes\":{\"plot\":null,\"text\":\"\"},\"id\":\"504e4ab1-9822-45f2-947e-e522cd854660\",\"type\":\"Title\"},{\"attributes\":{\"plot\":{\"id\":\"a5ace3ba-9c57-4f9e-9825-144b1dbc0b29\",\"subtype\":\"Figure\",\"type\":\"Plot\"},\"ticker\":{\"id\":\"ee746a27-f5bc-4702-9d6c-fd7404a5eb62\",\"type\":\"BasicTicker\"}},\"id\":\"e81b5ad9-9933-4db6-a72b-ce681cdf2a28\",\"type\":\"Grid\"},{\"attributes\":{\"callback\":null},\"id\":\"509eac29-d142-4e6d-aabe-42be9bb0c9ff\",\"type\":\"DataRange1d\"},{\"attributes\":{\"data_source\":{\"id\":\"a15546a4-6386-4b5b-bfd5-a9512b032fb7\",\"type\":\"ColumnDataSource\"},\"glyph\":{\"id\":\"88f893d4-91aa-49f9-9852-3aafb9a6fc24\",\"type\":\"Circle\"},\"hover_glyph\":null,\"muted_glyph\":null,\"nonselection_glyph\":{\"id\":\"77c41a0d-6ab5-4bd1-a1e8-5c64ce5f7de2\",\"type\":\"Circle\"},\"selection_glyph\":null,\"view\":{\"id\":\"044fa8ca-6160-474d-9a25-7efb52c311a5\",\"type\":\"CDSView\"}},\"id\":\"07677bdd-d0f7-4c34-a6f5-1660d7437cc1\",\"type\":\"GlyphRenderer\"},{\"attributes\":{\"active_drag\":\"auto\",\"active_inspect\":\"auto\",\"active_scroll\":\"auto\",\"active_tap\":\"auto\",\"tools\":[{\"id\":\"b0426461-d85f-4645-8e00-961cbcd05d70\",\"type\":\"PanTool\"},{\"id\":\"d2bd0470-33b7-4318-8d12-e383146c90b1\",\"type\":\"WheelZoomTool\"}]},\"id\":\"6662842c-7048-4c46-9716-a99a54319a99\",\"type\":\"Toolbar\"},{\"attributes\":{},\"id\":\"91c80899-a3b3-4709-8e54-d1008665d233\",\"type\":\"LinearScale\"},{\"attributes\":{},\"id\":\"29f7499c-b0e4-4e15-b97f-50e73fa90cf8\",\"type\":\"LinearScale\"},{\"attributes\":{\"callback\":null,\"column_names\":[\"x\",\"y\"],\"data\":{\"x\":[0,1,2,3,4,5,6,7,8,9,10],\"y\":[5,4,3,2,1,0,1,2,3,4,5]}},\"id\":\"af2a5ec8-de88-43e3-9109-4a7af1e285ba\",\"type\":\"ColumnDataSource\"},{\"attributes\":{\"fill_color\":{\"value\":\"olive\"},\"line_color\":{\"value\":\"olive\"},\"size\":{\"units\":\"screen\",\"value\":10},\"x\":{\"field\":\"x\"},\"y\":{\"field\":\"y\"}},\"id\":\"30474a04-d174-4c3a-9b21-c005b26ed581\",\"type\":\"Square\"},{\"attributes\":{\"formatter\":{\"id\":\"74810537-63e8-4658-b4aa-3b62ba228ce3\",\"type\":\"BasicTickFormatter\"},\"plot\":{\"id\":\"a5ace3ba-9c57-4f9e-9825-144b1dbc0b29\",\"subtype\":\"Figure\",\"type\":\"Plot\"},\"ticker\":{\"id\":\"ee746a27-f5bc-4702-9d6c-fd7404a5eb62\",\"type\":\"BasicTicker\"}},\"id\":\"d9f2a458-ea75-43bd-bd54-ea4980a3fd59\",\"type\":\"LinearAxis\"},{\"attributes\":{},\"id\":\"ee746a27-f5bc-4702-9d6c-fd7404a5eb62\",\"type\":\"BasicTicker\"},{\"attributes\":{\"formatter\":{\"id\":\"fd47c8c8-f579-4acf-81e1-0241f8d269a7\",\"type\":\"BasicTickFormatter\"},\"plot\":{\"id\":\"a5ace3ba-9c57-4f9e-9825-144b1dbc0b29\",\"subtype\":\"Figure\",\"type\":\"Plot\"},\"ticker\":{\"id\":\"0cd37faf-c50c-44c7-917d-9c9f7c996910\",\"type\":\"BasicTicker\"}},\"id\":\"6e877a94-b146-45e5-b3fd-d89d9fe8bb67\",\"type\":\"LinearAxis\"},{\"attributes\":{},\"id\":\"0cd37faf-c50c-44c7-917d-9c9f7c996910\",\"type\":\"BasicTicker\"},{\"attributes\":{\"dimension\":1,\"plot\":{\"id\":\"a5ace3ba-9c57-4f9e-9825-144b1dbc0b29\",\"subtype\":\"Figure\",\"type\":\"Plot\"},\"ticker\":{\"id\":\"0cd37faf-c50c-44c7-917d-9c9f7c996910\",\"type\":\"BasicTicker\"}},\"id\":\"9f62384c-1e35-483b-ada7-8d71a2bbba76\",\"type\":\"Grid\"},{\"attributes\":{\"children\":[{\"id\":\"5d054b18-2f59-4d3c-9128-1fc97b1d23a2\",\"subtype\":\"Figure\",\"type\":\"Plot\"},{\"id\":\"f16366e9-636d-4f4b-959f-a1597a061cb9\",\"subtype\":\"Figure\",\"type\":\"Plot\"},{\"id\":\"a5ace3ba-9c57-4f9e-9825-144b1dbc0b29\",\"subtype\":\"Figure\",\"type\":\"Plot\"}]},\"id\":\"438d613a-6356-4b0f-9e08-fce33d244b63\",\"type\":\"Row\"},{\"attributes\":{},\"id\":\"b0426461-d85f-4645-8e00-961cbcd05d70\",\"type\":\"PanTool\"},{\"attributes\":{\"children\":[{\"id\":\"438d613a-6356-4b0f-9e08-fce33d244b63\",\"type\":\"Row\"}]},\"id\":\"9614e5c8-4e16-4064-a62d-61c2815ab6d9\",\"type\":\"Column\"},{\"attributes\":{},\"id\":\"d2bd0470-33b7-4318-8d12-e383146c90b1\",\"type\":\"WheelZoomTool\"},{\"attributes\":{\"fill_alpha\":{\"value\":0.1},\"fill_color\":{\"value\":\"#1f77b4\"},\"line_alpha\":{\"value\":0.1},\"line_color\":{\"value\":\"#1f77b4\"},\"size\":{\"units\":\"screen\",\"value\":10},\"x\":{\"field\":\"x\"},\"y\":{\"field\":\"y\"}},\"id\":\"57d38b21-d78d-4254-a423-f047124cbb65\",\"type\":\"Square\"},{\"attributes\":{\"data_source\":{\"id\":\"af2a5ec8-de88-43e3-9109-4a7af1e285ba\",\"type\":\"ColumnDataSource\"},\"glyph\":{\"id\":\"30474a04-d174-4c3a-9b21-c005b26ed581\",\"type\":\"Square\"},\"hover_glyph\":null,\"muted_glyph\":null,\"nonselection_glyph\":{\"id\":\"57d38b21-d78d-4254-a423-f047124cbb65\",\"type\":\"Square\"},\"selection_glyph\":null,\"view\":{\"id\":\"fe74b76b-09fe-4c5c-86be-c978fbbdf855\",\"type\":\"CDSView\"}},\"id\":\"f98a5a6b-ecda-4920-874c-97695272a2bf\",\"type\":\"GlyphRenderer\"},{\"attributes\":{\"source\":{\"id\":\"af2a5ec8-de88-43e3-9109-4a7af1e285ba\",\"type\":\"ColumnDataSource\"}},\"id\":\"fe74b76b-09fe-4c5c-86be-c978fbbdf855\",\"type\":\"CDSView\"},{\"attributes\":{},\"id\":\"74810537-63e8-4658-b4aa-3b62ba228ce3\",\"type\":\"BasicTickFormatter\"},{\"attributes\":{\"plot\":null,\"text\":\"\"},\"id\":\"88d840b4-597c-4359-b082-0111873c4cdb\",\"type\":\"Title\"},{\"attributes\":{\"tools\":[{\"id\":\"39683dab-9f07-427e-8b53-eda57f994d57\",\"type\":\"PanTool\"},{\"id\":\"bb701388-1fe0-436f-a02d-57ee9073b5e7\",\"type\":\"WheelZoomTool\"},{\"id\":\"ba2578ac-8fae-4001-8362-cf2438d3d44f\",\"type\":\"PanTool\"},{\"id\":\"6ea4cdad-8020-4b83-a912-dd21e4d3c982\",\"type\":\"WheelZoomTool\"},{\"id\":\"b0426461-d85f-4645-8e00-961cbcd05d70\",\"type\":\"PanTool\"},{\"id\":\"d2bd0470-33b7-4318-8d12-e383146c90b1\",\"type\":\"WheelZoomTool\"}]},\"id\":\"c4255e51-328b-4f10-acf6-cccbfbfa3659\",\"type\":\"ProxyToolbar\"},{\"attributes\":{\"toolbar\":{\"id\":\"c4255e51-328b-4f10-acf6-cccbfbfa3659\",\"type\":\"ProxyToolbar\"},\"toolbar_location\":\"above\"},\"id\":\"d3a4ee2e-32e6-4589-aeb5-c2c821a086c9\",\"type\":\"ToolbarBox\"},{\"attributes\":{\"callback\":null},\"id\":\"acca79ce-e4c9-4c09-bb4d-c90b28a1a351\",\"type\":\"DataRange1d\"},{\"attributes\":{\"below\":[{\"id\":\"a82a77f8-dea0-4dee-a453-0cff70af0f62\",\"type\":\"LinearAxis\"}],\"left\":[{\"id\":\"f5e51741-f19b-4aeb-8d21-ea8abe7cc70f\",\"type\":\"LinearAxis\"}],\"plot_height\":250,\"plot_width\":250,\"renderers\":[{\"id\":\"a82a77f8-dea0-4dee-a453-0cff70af0f62\",\"type\":\"LinearAxis\"},{\"id\":\"67c869e8-ded1-4f89-b433-f946d6973c02\",\"type\":\"Grid\"},{\"id\":\"f5e51741-f19b-4aeb-8d21-ea8abe7cc70f\",\"type\":\"LinearAxis\"},{\"id\":\"73d586e8-742c-44cb-9b55-9f3ea71dde1b\",\"type\":\"Grid\"},{\"id\":\"07677bdd-d0f7-4c34-a6f5-1660d7437cc1\",\"type\":\"GlyphRenderer\"}],\"title\":{\"id\":\"e66c6a60-492f-485e-8979-9d57eaafaebb\",\"type\":\"Title\"},\"toolbar\":{\"id\":\"d41ae69e-1dc0-47ed-a7f5-c9d28bbb914c\",\"type\":\"Toolbar\"},\"toolbar_location\":null,\"x_range\":{\"id\":\"acca79ce-e4c9-4c09-bb4d-c90b28a1a351\",\"type\":\"DataRange1d\"},\"x_scale\":{\"id\":\"70d655f0-c871-472d-8b49-02210cb3652e\",\"type\":\"LinearScale\"},\"y_range\":{\"id\":\"49869e01-487d-432a-88bf-ce0c8345715d\",\"type\":\"DataRange1d\"},\"y_scale\":{\"id\":\"811614d8-415a-4d73-90da-3bd0fe18db8b\",\"type\":\"LinearScale\"}},\"id\":\"5d054b18-2f59-4d3c-9128-1fc97b1d23a2\",\"subtype\":\"Figure\",\"type\":\"Plot\"},{\"attributes\":{\"active_drag\":\"auto\",\"active_inspect\":\"auto\",\"active_scroll\":\"auto\",\"active_tap\":\"auto\",\"tools\":[{\"id\":\"39683dab-9f07-427e-8b53-eda57f994d57\",\"type\":\"PanTool\"},{\"id\":\"bb701388-1fe0-436f-a02d-57ee9073b5e7\",\"type\":\"WheelZoomTool\"}]},\"id\":\"d41ae69e-1dc0-47ed-a7f5-c9d28bbb914c\",\"type\":\"Toolbar\"},{\"attributes\":{\"children\":[{\"id\":\"d3a4ee2e-32e6-4589-aeb5-c2c821a086c9\",\"type\":\"ToolbarBox\"},{\"id\":\"9614e5c8-4e16-4064-a62d-61c2815ab6d9\",\"type\":\"Column\"}]},\"id\":\"ffff4d14-bfeb-4640-aaf4-b63d39b165eb\",\"type\":\"Column\"},{\"attributes\":{\"callback\":null,\"column_names\":[\"x\",\"y\"],\"data\":{\"x\":[0,1,2,3,4,5,6,7,8,9,10],\"y\":[0,1,2,3,4,5,6,7,8,9,10]}},\"id\":\"a15546a4-6386-4b5b-bfd5-a9512b032fb7\",\"type\":\"ColumnDataSource\"},{\"attributes\":{\"callback\":null},\"id\":\"49869e01-487d-432a-88bf-ce0c8345715d\",\"type\":\"DataRange1d\"},{\"attributes\":{},\"id\":\"70d655f0-c871-472d-8b49-02210cb3652e\",\"type\":\"LinearScale\"},{\"attributes\":{},\"id\":\"811614d8-415a-4d73-90da-3bd0fe18db8b\",\"type\":\"LinearScale\"},{\"attributes\":{},\"id\":\"ccdfe120-b149-4536-a86a-046d6dccf64a\",\"type\":\"BasicTickFormatter\"},{\"attributes\":{\"formatter\":{\"id\":\"ccdfe120-b149-4536-a86a-046d6dccf64a\",\"type\":\"BasicTickFormatter\"},\"plot\":{\"id\":\"5d054b18-2f59-4d3c-9128-1fc97b1d23a2\",\"subtype\":\"Figure\",\"type\":\"Plot\"},\"ticker\":{\"id\":\"1558ffdc-9d8a-4f51-9d20-31dfdf30f889\",\"type\":\"BasicTicker\"}},\"id\":\"a82a77f8-dea0-4dee-a453-0cff70af0f62\",\"type\":\"LinearAxis\"},{\"attributes\":{},\"id\":\"1558ffdc-9d8a-4f51-9d20-31dfdf30f889\",\"type\":\"BasicTicker\"},{\"attributes\":{\"plot\":{\"id\":\"5d054b18-2f59-4d3c-9128-1fc97b1d23a2\",\"subtype\":\"Figure\",\"type\":\"Plot\"},\"ticker\":{\"id\":\"1558ffdc-9d8a-4f51-9d20-31dfdf30f889\",\"type\":\"BasicTicker\"}},\"id\":\"67c869e8-ded1-4f89-b433-f946d6973c02\",\"type\":\"Grid\"},{\"attributes\":{\"formatter\":{\"id\":\"0b8275d0-224d-4c04-b56d-0a76792e0803\",\"type\":\"BasicTickFormatter\"},\"plot\":{\"id\":\"5d054b18-2f59-4d3c-9128-1fc97b1d23a2\",\"subtype\":\"Figure\",\"type\":\"Plot\"},\"ticker\":{\"id\":\"731a24e8-6a5f-422f-a092-6f867ddd7c15\",\"type\":\"BasicTicker\"}},\"id\":\"f5e51741-f19b-4aeb-8d21-ea8abe7cc70f\",\"type\":\"LinearAxis\"},{\"attributes\":{},\"id\":\"731a24e8-6a5f-422f-a092-6f867ddd7c15\",\"type\":\"BasicTicker\"},{\"attributes\":{\"dimension\":1,\"plot\":{\"id\":\"5d054b18-2f59-4d3c-9128-1fc97b1d23a2\",\"subtype\":\"Figure\",\"type\":\"Plot\"},\"ticker\":{\"id\":\"731a24e8-6a5f-422f-a092-6f867ddd7c15\",\"type\":\"BasicTicker\"}},\"id\":\"73d586e8-742c-44cb-9b55-9f3ea71dde1b\",\"type\":\"Grid\"},{\"attributes\":{},\"id\":\"bb701388-1fe0-436f-a02d-57ee9073b5e7\",\"type\":\"WheelZoomTool\"},{\"attributes\":{},\"id\":\"39683dab-9f07-427e-8b53-eda57f994d57\",\"type\":\"PanTool\"},{\"attributes\":{\"below\":[{\"id\":\"d9f2a458-ea75-43bd-bd54-ea4980a3fd59\",\"type\":\"LinearAxis\"}],\"left\":[{\"id\":\"6e877a94-b146-45e5-b3fd-d89d9fe8bb67\",\"type\":\"LinearAxis\"}],\"plot_height\":250,\"plot_width\":250,\"renderers\":[{\"id\":\"d9f2a458-ea75-43bd-bd54-ea4980a3fd59\",\"type\":\"LinearAxis\"},{\"id\":\"e81b5ad9-9933-4db6-a72b-ce681cdf2a28\",\"type\":\"Grid\"},{\"id\":\"6e877a94-b146-45e5-b3fd-d89d9fe8bb67\",\"type\":\"LinearAxis\"},{\"id\":\"9f62384c-1e35-483b-ada7-8d71a2bbba76\",\"type\":\"Grid\"},{\"id\":\"f98a5a6b-ecda-4920-874c-97695272a2bf\",\"type\":\"GlyphRenderer\"}],\"title\":{\"id\":\"88d840b4-597c-4359-b082-0111873c4cdb\",\"type\":\"Title\"},\"toolbar\":{\"id\":\"6662842c-7048-4c46-9716-a99a54319a99\",\"type\":\"Toolbar\"},\"toolbar_location\":null,\"x_range\":{\"id\":\"acca79ce-e4c9-4c09-bb4d-c90b28a1a351\",\"type\":\"DataRange1d\"},\"x_scale\":{\"id\":\"91c80899-a3b3-4709-8e54-d1008665d233\",\"type\":\"LinearScale\"},\"y_range\":{\"id\":\"509eac29-d142-4e6d-aabe-42be9bb0c9ff\",\"type\":\"DataRange1d\"},\"y_scale\":{\"id\":\"29f7499c-b0e4-4e15-b97f-50e73fa90cf8\",\"type\":\"LinearScale\"}},\"id\":\"a5ace3ba-9c57-4f9e-9825-144b1dbc0b29\",\"subtype\":\"Figure\",\"type\":\"Plot\"},{\"attributes\":{\"below\":[{\"id\":\"aa00b215-50f2-4270-a503-a324db5650c8\",\"type\":\"LinearAxis\"}],\"left\":[{\"id\":\"c459c34f-c7c3-4bf3-847f-ccadf8e58388\",\"type\":\"LinearAxis\"}],\"plot_height\":250,\"plot_width\":250,\"renderers\":[{\"id\":\"aa00b215-50f2-4270-a503-a324db5650c8\",\"type\":\"LinearAxis\"},{\"id\":\"ee78af0f-f252-49d4-8b7e-026d8c022cff\",\"type\":\"Grid\"},{\"id\":\"c459c34f-c7c3-4bf3-847f-ccadf8e58388\",\"type\":\"LinearAxis\"},{\"id\":\"d30144c9-6730-4971-8892-5cfef6951d27\",\"type\":\"Grid\"},{\"id\":\"2dc563c2-e57f-4ea5-88fe-d7c41a26e224\",\"type\":\"GlyphRenderer\"}],\"title\":{\"id\":\"504e4ab1-9822-45f2-947e-e522cd854660\",\"type\":\"Title\"},\"toolbar\":{\"id\":\"fda88e1a-6d0a-4150-837c-8e74ad94d114\",\"type\":\"Toolbar\"},\"toolbar_location\":null,\"x_range\":{\"id\":\"acca79ce-e4c9-4c09-bb4d-c90b28a1a351\",\"type\":\"DataRange1d\"},\"x_scale\":{\"id\":\"957af6f6-93a4-4bda-8288-ef494ed235a3\",\"type\":\"LinearScale\"},\"y_range\":{\"id\":\"49869e01-487d-432a-88bf-ce0c8345715d\",\"type\":\"DataRange1d\"},\"y_scale\":{\"id\":\"90ff9e88-1303-4c99-b2b5-98063d2360eb\",\"type\":\"LinearScale\"}},\"id\":\"f16366e9-636d-4f4b-959f-a1597a061cb9\",\"subtype\":\"Figure\",\"type\":\"Plot\"},{\"attributes\":{},\"id\":\"0b8275d0-224d-4c04-b56d-0a76792e0803\",\"type\":\"BasicTickFormatter\"},{\"attributes\":{\"active_drag\":\"auto\",\"active_inspect\":\"auto\",\"active_scroll\":\"auto\",\"active_tap\":\"auto\",\"tools\":[{\"id\":\"ba2578ac-8fae-4001-8362-cf2438d3d44f\",\"type\":\"PanTool\"},{\"id\":\"6ea4cdad-8020-4b83-a912-dd21e4d3c982\",\"type\":\"WheelZoomTool\"}]},\"id\":\"fda88e1a-6d0a-4150-837c-8e74ad94d114\",\"type\":\"Toolbar\"},{\"attributes\":{},\"id\":\"957af6f6-93a4-4bda-8288-ef494ed235a3\",\"type\":\"LinearScale\"},{\"attributes\":{\"callback\":null,\"column_names\":[\"x\",\"y\"],\"data\":{\"x\":[0,1,2,3,4,5,6,7,8,9,10],\"y\":[10,9,8,7,6,5,4,3,2,1,0]}},\"id\":\"497c981e-0ad9-4381-b109-cbbea4210ba7\",\"type\":\"ColumnDataSource\"}],\"root_ids\":[\"ffff4d14-bfeb-4640-aaf4-b63d39b165eb\"]},\"title\":\"Bokeh Application\",\"version\":\"0.12.13\"}};\n",
       "  var render_items = [{\"docid\":\"e90f0b96-a538-406d-a5ef-f686bcd4911b\",\"elementid\":\"fb20aef9-1bdc-4831-9de8-ec737c0a9cfa\",\"modelid\":\"ffff4d14-bfeb-4640-aaf4-b63d39b165eb\"}];\n",
       "  root.Bokeh.embed.embed_items_notebook(docs_json, render_items);\n",
       "\n",
       "  }\n",
       "  if (root.Bokeh !== undefined) {\n",
       "    embed_document(root);\n",
       "  } else {\n",
       "    var attempts = 0;\n",
       "    var timer = setInterval(function(root) {\n",
       "      if (root.Bokeh !== undefined) {\n",
       "        embed_document(root);\n",
       "        clearInterval(timer);\n",
       "      }\n",
       "      attempts++;\n",
       "      if (attempts > 100) {\n",
       "        console.log(\"Bokeh: ERROR: Unable to run BokehJS code because BokehJS library is missing\")\n",
       "        clearInterval(timer);\n",
       "      }\n",
       "    }, 10, root)\n",
       "  }\n",
       "})(window);"
      ],
      "application/vnd.bokehjs_exec.v0+json": ""
     },
     "metadata": {
      "application/vnd.bokehjs_exec.v0+json": {
       "id": "ffff4d14-bfeb-4640-aaf4-b63d39b165eb"
      }
     },
     "output_type": "display_data"
    }
   ],
   "source": [
    "from bokeh.layouts import gridplot\n",
    "\n",
    "x = list(range(11))\n",
    "y0, y1, y2 = x, [10-i for i in x], [abs(i-5) for i in x]\n",
    "\n",
    "plot_options = dict(width=250, plot_height=250, tools='pan,wheel_zoom')\n",
    "\n",
    "# create a new plot\n",
    "s1 = figure(**plot_options)\n",
    "s1.circle(x, y0, size=10, color=\"navy\")\n",
    "\n",
    "# create a new plot and share both ranges\n",
    "s2 = figure(x_range=s1.x_range, y_range=s1.y_range, **plot_options)\n",
    "s2.triangle(x, y1, size=10, color=\"firebrick\")\n",
    "\n",
    "# create a new plot and share only one range\n",
    "s3 = figure(x_range=s1.x_range, **plot_options)\n",
    "s3.square(x, y2, size=10, color=\"olive\")\n",
    "\n",
    "p = gridplot([[s1, s2, s3]])\n",
    "\n",
    "# show the results\n",
    "show(p)"
   ]
  },
  {
   "cell_type": "code",
   "execution_count": null,
   "metadata": {},
   "outputs": [],
   "source": [
    "# EXERCISE: create two plots in a gridplot, and link their ranges\n"
   ]
  },
  {
   "cell_type": "markdown",
   "metadata": {},
   "source": [
    "## Linked brushing\n",
    "\n",
    "Linking selections is accomplished in a similar way, by sharing data sources between plots. Note that normally with ``bokeh.plotting`` and ``bokeh.charts`` creating a default data source for simple plots is handled automatically. However to share a data source, we must create them by hand and pass them explicitly. This is illustrated in the example below:"
   ]
  },
  {
   "cell_type": "code",
   "execution_count": 3,
   "metadata": {},
   "outputs": [
    {
     "data": {
      "text/html": [
       "\n",
       "<div class=\"bk-root\">\n",
       "    <div class=\"bk-plotdiv\" id=\"f20addb9-c24d-4abb-87ea-324f5e054c9f\"></div>\n",
       "</div>"
      ]
     },
     "metadata": {},
     "output_type": "display_data"
    },
    {
     "data": {
      "application/javascript": [
       "(function(root) {\n",
       "  function embed_document(root) {\n",
       "    \n",
       "  var docs_json = {\"36d1de98-37b5-4c0b-b3fc-8bea113c9e4f\":{\"roots\":{\"references\":[{\"attributes\":{\"children\":[{\"id\":\"7e9550ff-d18c-406b-b6b8-4af2a0d7ad7d\",\"subtype\":\"Figure\",\"type\":\"Plot\"},{\"id\":\"3aaaba01-7db0-46a6-a547-5138ac5f39ea\",\"subtype\":\"Figure\",\"type\":\"Plot\"}]},\"id\":\"600c39ae-4319-41f7-ae53-a2513d9d5388\",\"type\":\"Row\"},{\"attributes\":{\"plot\":{\"id\":\"3aaaba01-7db0-46a6-a547-5138ac5f39ea\",\"subtype\":\"Figure\",\"type\":\"Plot\"},\"ticker\":{\"id\":\"7f724bc5-2abd-4539-8203-c3e3cbf27080\",\"type\":\"BasicTicker\"}},\"id\":\"d6aa6d94-481e-4fc6-8238-b6f47142410b\",\"type\":\"Grid\"},{\"attributes\":{\"callback\":null,\"overlay\":{\"id\":\"604eb6e3-9a77-4aa5-b62f-e12c2c9c501f\",\"type\":\"BoxAnnotation\"},\"renderers\":[{\"id\":\"98b13a24-e8ee-4e30-9c5d-143ababb0e9f\",\"type\":\"GlyphRenderer\"}]},\"id\":\"85927659-bf95-4132-a388-a5b6300c7f67\",\"type\":\"BoxSelectTool\"},{\"attributes\":{\"formatter\":{\"id\":\"d2fa29d7-c929-43fc-8334-3daf15918edc\",\"type\":\"BasicTickFormatter\"},\"plot\":{\"id\":\"3aaaba01-7db0-46a6-a547-5138ac5f39ea\",\"subtype\":\"Figure\",\"type\":\"Plot\"},\"ticker\":{\"id\":\"7f724bc5-2abd-4539-8203-c3e3cbf27080\",\"type\":\"BasicTicker\"}},\"id\":\"05ea0fea-8012-4a27-9645-fd9352edf47c\",\"type\":\"LinearAxis\"},{\"attributes\":{},\"id\":\"5e758abd-0892-43fc-b06f-5e1ad04bfaec\",\"type\":\"BasicTickFormatter\"},{\"attributes\":{\"fill_alpha\":{\"value\":0.5},\"fill_color\":{\"value\":\"lightgrey\"},\"level\":\"overlay\",\"line_alpha\":{\"value\":1.0},\"line_color\":{\"value\":\"black\"},\"line_dash\":[4,4],\"line_width\":{\"value\":2},\"plot\":null,\"xs_units\":\"screen\",\"ys_units\":\"screen\"},\"id\":\"4c8002e3-8194-4f8c-bd91-54c8e7a6a965\",\"type\":\"PolyAnnotation\"},{\"attributes\":{},\"id\":\"1280935a-116b-4950-8096-4a05df26cca7\",\"type\":\"HelpTool\"},{\"attributes\":{},\"id\":\"4fb89b59-c687-40dc-9030-23a5336d9aa7\",\"type\":\"LinearScale\"},{\"attributes\":{\"source\":{\"id\":\"00588cf6-0640-408d-b8f4-e42156276ecb\",\"type\":\"ColumnDataSource\"}},\"id\":\"bec7fef2-f011-453f-b1ff-002634e08fd3\",\"type\":\"CDSView\"},{\"attributes\":{},\"id\":\"a8f328f7-aaf2-47d4-b997-072ad30cb842\",\"type\":\"BasicTicker\"},{\"attributes\":{\"formatter\":{\"id\":\"5e758abd-0892-43fc-b06f-5e1ad04bfaec\",\"type\":\"BasicTickFormatter\"},\"plot\":{\"id\":\"3aaaba01-7db0-46a6-a547-5138ac5f39ea\",\"subtype\":\"Figure\",\"type\":\"Plot\"},\"ticker\":{\"id\":\"3f716a85-1f8c-40b3-842a-b90a694e8727\",\"type\":\"BasicTicker\"}},\"id\":\"a1ff333e-553d-4100-9d96-f34df707d540\",\"type\":\"LinearAxis\"},{\"attributes\":{\"dimension\":1,\"plot\":{\"id\":\"3aaaba01-7db0-46a6-a547-5138ac5f39ea\",\"subtype\":\"Figure\",\"type\":\"Plot\"},\"ticker\":{\"id\":\"3f716a85-1f8c-40b3-842a-b90a694e8727\",\"type\":\"BasicTicker\"}},\"id\":\"f7ee871b-0060-4761-bfc9-d62038043c3b\",\"type\":\"Grid\"},{\"attributes\":{\"bottom_units\":\"screen\",\"fill_alpha\":{\"value\":0.5},\"fill_color\":{\"value\":\"lightgrey\"},\"left_units\":\"screen\",\"level\":\"overlay\",\"line_alpha\":{\"value\":1.0},\"line_color\":{\"value\":\"black\"},\"line_dash\":[4,4],\"line_width\":{\"value\":2},\"plot\":null,\"render_mode\":\"css\",\"right_units\":\"screen\",\"top_units\":\"screen\"},\"id\":\"604eb6e3-9a77-4aa5-b62f-e12c2c9c501f\",\"type\":\"BoxAnnotation\"},{\"attributes\":{},\"id\":\"ed10f47b-05f7-4d0b-8565-bb9379581466\",\"type\":\"HelpTool\"},{\"attributes\":{\"fill_alpha\":{\"value\":0.5},\"fill_color\":{\"value\":\"lightgrey\"},\"level\":\"overlay\",\"line_alpha\":{\"value\":1.0},\"line_color\":{\"value\":\"black\"},\"line_dash\":[4,4],\"line_width\":{\"value\":2},\"plot\":null,\"xs_units\":\"screen\",\"ys_units\":\"screen\"},\"id\":\"037d17ba-6b4a-4aa1-ab5e-db518e945d12\",\"type\":\"PolyAnnotation\"},{\"attributes\":{\"callback\":null,\"overlay\":{\"id\":\"4c8002e3-8194-4f8c-bd91-54c8e7a6a965\",\"type\":\"PolyAnnotation\"}},\"id\":\"d6daf051-7073-45ee-a784-1ebd3da7916c\",\"type\":\"LassoSelectTool\"},{\"attributes\":{\"fill_alpha\":{\"value\":0.1},\"fill_color\":{\"value\":\"#1f77b4\"},\"line_alpha\":{\"value\":0.1},\"line_color\":{\"value\":\"#1f77b4\"},\"x\":{\"field\":\"x\"},\"y\":{\"field\":\"y1\"}},\"id\":\"663ab18b-53e6-41a6-975f-50fa2ef76e81\",\"type\":\"Circle\"},{\"attributes\":{\"callback\":null,\"overlay\":{\"id\":\"bd73b97c-560a-4357-9365-ab0d4c3195bb\",\"type\":\"BoxAnnotation\"},\"renderers\":[{\"id\":\"204c458e-fecc-407c-9cf8-4cca2fe15525\",\"type\":\"GlyphRenderer\"}]},\"id\":\"a18be6e4-07c3-4818-8458-2d90107e5cf5\",\"type\":\"BoxSelectTool\"},{\"attributes\":{\"data_source\":{\"id\":\"00588cf6-0640-408d-b8f4-e42156276ecb\",\"type\":\"ColumnDataSource\"},\"glyph\":{\"id\":\"2ae1dda0-cb8e-4b5d-8b78-3a8568f05b1c\",\"type\":\"Circle\"},\"hover_glyph\":null,\"muted_glyph\":null,\"nonselection_glyph\":{\"id\":\"663ab18b-53e6-41a6-975f-50fa2ef76e81\",\"type\":\"Circle\"},\"selection_glyph\":null,\"view\":{\"id\":\"bec7fef2-f011-453f-b1ff-002634e08fd3\",\"type\":\"CDSView\"}},\"id\":\"98b13a24-e8ee-4e30-9c5d-143ababb0e9f\",\"type\":\"GlyphRenderer\"},{\"attributes\":{\"fill_color\":{\"value\":\"#1f77b4\"},\"line_color\":{\"value\":\"#1f77b4\"},\"x\":{\"field\":\"x\"},\"y\":{\"field\":\"y1\"}},\"id\":\"2ae1dda0-cb8e-4b5d-8b78-3a8568f05b1c\",\"type\":\"Circle\"},{\"attributes\":{\"formatter\":{\"id\":\"04467509-cfd3-45b3-8d0a-46b2563e35f2\",\"type\":\"BasicTickFormatter\"},\"plot\":{\"id\":\"7e9550ff-d18c-406b-b6b8-4af2a0d7ad7d\",\"subtype\":\"Figure\",\"type\":\"Plot\"},\"ticker\":{\"id\":\"a8f328f7-aaf2-47d4-b997-072ad30cb842\",\"type\":\"BasicTicker\"}},\"id\":\"c434e78f-8e71-44a4-9015-7587dd204c6c\",\"type\":\"LinearAxis\"},{\"attributes\":{},\"id\":\"7f724bc5-2abd-4539-8203-c3e3cbf27080\",\"type\":\"BasicTicker\"},{\"attributes\":{},\"id\":\"d2fa29d7-c929-43fc-8334-3daf15918edc\",\"type\":\"BasicTickFormatter\"},{\"attributes\":{\"callback\":null},\"id\":\"2ec4885b-2783-4c28-af65-161db865f76c\",\"type\":\"DataRange1d\"},{\"attributes\":{\"toolbar\":{\"id\":\"d863e1e1-a48e-498a-b4ba-09d6ebe10a53\",\"type\":\"ProxyToolbar\"},\"toolbar_location\":\"above\"},\"id\":\"3edd1174-09f3-47f0-a648-2da0383b10bd\",\"type\":\"ToolbarBox\"},{\"attributes\":{\"fill_alpha\":{\"value\":0.1},\"fill_color\":{\"value\":\"#1f77b4\"},\"line_alpha\":{\"value\":0.1},\"line_color\":{\"value\":\"#1f77b4\"},\"x\":{\"field\":\"x\"},\"y\":{\"field\":\"y0\"}},\"id\":\"0f2f4cd0-d1f9-4115-894f-341a22987033\",\"type\":\"Circle\"},{\"attributes\":{\"tools\":[{\"id\":\"a18be6e4-07c3-4818-8458-2d90107e5cf5\",\"type\":\"BoxSelectTool\"},{\"id\":\"739a163c-12a2-4c48-ac2f-282e3e85ba0f\",\"type\":\"LassoSelectTool\"},{\"id\":\"1280935a-116b-4950-8096-4a05df26cca7\",\"type\":\"HelpTool\"},{\"id\":\"85927659-bf95-4132-a388-a5b6300c7f67\",\"type\":\"BoxSelectTool\"},{\"id\":\"d6daf051-7073-45ee-a784-1ebd3da7916c\",\"type\":\"LassoSelectTool\"},{\"id\":\"ed10f47b-05f7-4d0b-8565-bb9379581466\",\"type\":\"HelpTool\"}]},\"id\":\"d863e1e1-a48e-498a-b4ba-09d6ebe10a53\",\"type\":\"ProxyToolbar\"},{\"attributes\":{\"fill_color\":{\"value\":\"#1f77b4\"},\"line_color\":{\"value\":\"#1f77b4\"},\"x\":{\"field\":\"x\"},\"y\":{\"field\":\"y0\"}},\"id\":\"2d598868-b013-4a45-90c6-375d71405b56\",\"type\":\"Circle\"},{\"attributes\":{\"children\":[{\"id\":\"3edd1174-09f3-47f0-a648-2da0383b10bd\",\"type\":\"ToolbarBox\"},{\"id\":\"bcc66766-c5f3-4404-9c2d-c910bb505444\",\"type\":\"Column\"}]},\"id\":\"0cac1333-4f3d-4f8d-9871-477934c044f2\",\"type\":\"Column\"},{\"attributes\":{\"plot\":null,\"text\":\"\"},\"id\":\"3cf1a7e9-b028-4ce8-b109-2aca82b54be5\",\"type\":\"Title\"},{\"attributes\":{\"callback\":null,\"overlay\":{\"id\":\"037d17ba-6b4a-4aa1-ab5e-db518e945d12\",\"type\":\"PolyAnnotation\"}},\"id\":\"739a163c-12a2-4c48-ac2f-282e3e85ba0f\",\"type\":\"LassoSelectTool\"},{\"attributes\":{\"callback\":null},\"id\":\"21c6cf78-c659-48c7-b19b-53972efc6483\",\"type\":\"DataRange1d\"},{\"attributes\":{\"children\":[{\"id\":\"600c39ae-4319-41f7-ae53-a2513d9d5388\",\"type\":\"Row\"}]},\"id\":\"bcc66766-c5f3-4404-9c2d-c910bb505444\",\"type\":\"Column\"},{\"attributes\":{\"active_drag\":\"auto\",\"active_inspect\":\"auto\",\"active_scroll\":\"auto\",\"active_tap\":\"auto\",\"tools\":[{\"id\":\"85927659-bf95-4132-a388-a5b6300c7f67\",\"type\":\"BoxSelectTool\"},{\"id\":\"d6daf051-7073-45ee-a784-1ebd3da7916c\",\"type\":\"LassoSelectTool\"},{\"id\":\"ed10f47b-05f7-4d0b-8565-bb9379581466\",\"type\":\"HelpTool\"}]},\"id\":\"d7bbac05-21aa-432f-b457-c3590513a139\",\"type\":\"Toolbar\"},{\"attributes\":{\"below\":[{\"id\":\"bcc6cdce-7bd1-4cf7-9d89-abfde603eb70\",\"type\":\"LinearAxis\"}],\"left\":[{\"id\":\"c434e78f-8e71-44a4-9015-7587dd204c6c\",\"type\":\"LinearAxis\"}],\"plot_height\":300,\"plot_width\":300,\"renderers\":[{\"id\":\"bcc6cdce-7bd1-4cf7-9d89-abfde603eb70\",\"type\":\"LinearAxis\"},{\"id\":\"f993af20-8472-4feb-b55f-07677ee8f86c\",\"type\":\"Grid\"},{\"id\":\"c434e78f-8e71-44a4-9015-7587dd204c6c\",\"type\":\"LinearAxis\"},{\"id\":\"463cd9a9-afc3-49d0-9e12-43c8e8984eca\",\"type\":\"Grid\"},{\"id\":\"bd73b97c-560a-4357-9365-ab0d4c3195bb\",\"type\":\"BoxAnnotation\"},{\"id\":\"037d17ba-6b4a-4aa1-ab5e-db518e945d12\",\"type\":\"PolyAnnotation\"},{\"id\":\"204c458e-fecc-407c-9cf8-4cca2fe15525\",\"type\":\"GlyphRenderer\"}],\"title\":{\"id\":\"224631d1-80ce-4a71-83a8-515ea1c4131f\",\"type\":\"Title\"},\"toolbar\":{\"id\":\"887506f2-20a4-4457-b42b-e6150b159b69\",\"type\":\"Toolbar\"},\"toolbar_location\":null,\"x_range\":{\"id\":\"a58ccc71-587c-46b8-9363-764ae7bc8f6f\",\"type\":\"DataRange1d\"},\"x_scale\":{\"id\":\"58853a5a-91a1-4b3e-9e8a-8bd9a92be14c\",\"type\":\"LinearScale\"},\"y_range\":{\"id\":\"92e8845d-132e-4441-94f3-4b6efef4f695\",\"type\":\"DataRange1d\"},\"y_scale\":{\"id\":\"0ae3a5b8-0771-41e7-ae7a-eda478661a57\",\"type\":\"LinearScale\"}},\"id\":\"7e9550ff-d18c-406b-b6b8-4af2a0d7ad7d\",\"subtype\":\"Figure\",\"type\":\"Plot\"},{\"attributes\":{\"data_source\":{\"id\":\"00588cf6-0640-408d-b8f4-e42156276ecb\",\"type\":\"ColumnDataSource\"},\"glyph\":{\"id\":\"2d598868-b013-4a45-90c6-375d71405b56\",\"type\":\"Circle\"},\"hover_glyph\":null,\"muted_glyph\":null,\"nonselection_glyph\":{\"id\":\"0f2f4cd0-d1f9-4115-894f-341a22987033\",\"type\":\"Circle\"},\"selection_glyph\":null,\"view\":{\"id\":\"3fba1d6d-7a7e-47bc-8252-9a6ba73e041e\",\"type\":\"CDSView\"}},\"id\":\"204c458e-fecc-407c-9cf8-4cca2fe15525\",\"type\":\"GlyphRenderer\"},{\"attributes\":{\"plot\":null,\"text\":\"\"},\"id\":\"224631d1-80ce-4a71-83a8-515ea1c4131f\",\"type\":\"Title\"},{\"attributes\":{\"bottom_units\":\"screen\",\"fill_alpha\":{\"value\":0.5},\"fill_color\":{\"value\":\"lightgrey\"},\"left_units\":\"screen\",\"level\":\"overlay\",\"line_alpha\":{\"value\":1.0},\"line_color\":{\"value\":\"black\"},\"line_dash\":[4,4],\"line_width\":{\"value\":2},\"plot\":null,\"render_mode\":\"css\",\"right_units\":\"screen\",\"top_units\":\"screen\"},\"id\":\"bd73b97c-560a-4357-9365-ab0d4c3195bb\",\"type\":\"BoxAnnotation\"},{\"attributes\":{\"callback\":null,\"column_names\":[\"x\",\"y0\",\"y1\"],\"data\":{\"x\":[-20,-19,-18,-17,-16,-15,-14,-13,-12,-11,-10,-9,-8,-7,-6,-5,-4,-3,-2,-1,0,1,2,3,4,5,6,7,8,9,10,11,12,13,14,15,16,17,18,19,20],\"y0\":[20,19,18,17,16,15,14,13,12,11,10,9,8,7,6,5,4,3,2,1,0,1,2,3,4,5,6,7,8,9,10,11,12,13,14,15,16,17,18,19,20],\"y1\":[400,361,324,289,256,225,196,169,144,121,100,81,64,49,36,25,16,9,4,1,0,1,4,9,16,25,36,49,64,81,100,121,144,169,196,225,256,289,324,361,400]}},\"id\":\"00588cf6-0640-408d-b8f4-e42156276ecb\",\"type\":\"ColumnDataSource\"},{\"attributes\":{\"callback\":null},\"id\":\"a58ccc71-587c-46b8-9363-764ae7bc8f6f\",\"type\":\"DataRange1d\"},{\"attributes\":{},\"id\":\"b3320d57-0d19-4bcc-8856-7e2340ff4fbd\",\"type\":\"BasicTickFormatter\"},{\"attributes\":{\"active_drag\":\"auto\",\"active_inspect\":\"auto\",\"active_scroll\":\"auto\",\"active_tap\":\"auto\",\"tools\":[{\"id\":\"a18be6e4-07c3-4818-8458-2d90107e5cf5\",\"type\":\"BoxSelectTool\"},{\"id\":\"739a163c-12a2-4c48-ac2f-282e3e85ba0f\",\"type\":\"LassoSelectTool\"},{\"id\":\"1280935a-116b-4950-8096-4a05df26cca7\",\"type\":\"HelpTool\"}]},\"id\":\"887506f2-20a4-4457-b42b-e6150b159b69\",\"type\":\"Toolbar\"},{\"attributes\":{},\"id\":\"04467509-cfd3-45b3-8d0a-46b2563e35f2\",\"type\":\"BasicTickFormatter\"},{\"attributes\":{},\"id\":\"5f1eb263-b372-4fdb-ab7e-05c7ee3b2628\",\"type\":\"BasicTicker\"},{\"attributes\":{\"source\":{\"id\":\"00588cf6-0640-408d-b8f4-e42156276ecb\",\"type\":\"ColumnDataSource\"}},\"id\":\"3fba1d6d-7a7e-47bc-8252-9a6ba73e041e\",\"type\":\"CDSView\"},{\"attributes\":{\"below\":[{\"id\":\"05ea0fea-8012-4a27-9645-fd9352edf47c\",\"type\":\"LinearAxis\"}],\"left\":[{\"id\":\"a1ff333e-553d-4100-9d96-f34df707d540\",\"type\":\"LinearAxis\"}],\"plot_height\":300,\"plot_width\":300,\"renderers\":[{\"id\":\"05ea0fea-8012-4a27-9645-fd9352edf47c\",\"type\":\"LinearAxis\"},{\"id\":\"d6aa6d94-481e-4fc6-8238-b6f47142410b\",\"type\":\"Grid\"},{\"id\":\"a1ff333e-553d-4100-9d96-f34df707d540\",\"type\":\"LinearAxis\"},{\"id\":\"f7ee871b-0060-4761-bfc9-d62038043c3b\",\"type\":\"Grid\"},{\"id\":\"604eb6e3-9a77-4aa5-b62f-e12c2c9c501f\",\"type\":\"BoxAnnotation\"},{\"id\":\"4c8002e3-8194-4f8c-bd91-54c8e7a6a965\",\"type\":\"PolyAnnotation\"},{\"id\":\"98b13a24-e8ee-4e30-9c5d-143ababb0e9f\",\"type\":\"GlyphRenderer\"}],\"title\":{\"id\":\"3cf1a7e9-b028-4ce8-b109-2aca82b54be5\",\"type\":\"Title\"},\"toolbar\":{\"id\":\"d7bbac05-21aa-432f-b457-c3590513a139\",\"type\":\"Toolbar\"},\"toolbar_location\":null,\"x_range\":{\"id\":\"2ec4885b-2783-4c28-af65-161db865f76c\",\"type\":\"DataRange1d\"},\"x_scale\":{\"id\":\"cba200e3-879b-4010-8de5-19bab0accb54\",\"type\":\"LinearScale\"},\"y_range\":{\"id\":\"21c6cf78-c659-48c7-b19b-53972efc6483\",\"type\":\"DataRange1d\"},\"y_scale\":{\"id\":\"4fb89b59-c687-40dc-9030-23a5336d9aa7\",\"type\":\"LinearScale\"}},\"id\":\"3aaaba01-7db0-46a6-a547-5138ac5f39ea\",\"subtype\":\"Figure\",\"type\":\"Plot\"},{\"attributes\":{},\"id\":\"cba200e3-879b-4010-8de5-19bab0accb54\",\"type\":\"LinearScale\"},{\"attributes\":{},\"id\":\"58853a5a-91a1-4b3e-9e8a-8bd9a92be14c\",\"type\":\"LinearScale\"},{\"attributes\":{\"callback\":null},\"id\":\"92e8845d-132e-4441-94f3-4b6efef4f695\",\"type\":\"DataRange1d\"},{\"attributes\":{\"formatter\":{\"id\":\"b3320d57-0d19-4bcc-8856-7e2340ff4fbd\",\"type\":\"BasicTickFormatter\"},\"plot\":{\"id\":\"7e9550ff-d18c-406b-b6b8-4af2a0d7ad7d\",\"subtype\":\"Figure\",\"type\":\"Plot\"},\"ticker\":{\"id\":\"5f1eb263-b372-4fdb-ab7e-05c7ee3b2628\",\"type\":\"BasicTicker\"}},\"id\":\"bcc6cdce-7bd1-4cf7-9d89-abfde603eb70\",\"type\":\"LinearAxis\"},{\"attributes\":{\"plot\":{\"id\":\"7e9550ff-d18c-406b-b6b8-4af2a0d7ad7d\",\"subtype\":\"Figure\",\"type\":\"Plot\"},\"ticker\":{\"id\":\"5f1eb263-b372-4fdb-ab7e-05c7ee3b2628\",\"type\":\"BasicTicker\"}},\"id\":\"f993af20-8472-4feb-b55f-07677ee8f86c\",\"type\":\"Grid\"},{\"attributes\":{},\"id\":\"0ae3a5b8-0771-41e7-ae7a-eda478661a57\",\"type\":\"LinearScale\"},{\"attributes\":{\"dimension\":1,\"plot\":{\"id\":\"7e9550ff-d18c-406b-b6b8-4af2a0d7ad7d\",\"subtype\":\"Figure\",\"type\":\"Plot\"},\"ticker\":{\"id\":\"a8f328f7-aaf2-47d4-b997-072ad30cb842\",\"type\":\"BasicTicker\"}},\"id\":\"463cd9a9-afc3-49d0-9e12-43c8e8984eca\",\"type\":\"Grid\"},{\"attributes\":{},\"id\":\"3f716a85-1f8c-40b3-842a-b90a694e8727\",\"type\":\"BasicTicker\"}],\"root_ids\":[\"0cac1333-4f3d-4f8d-9871-477934c044f2\"]},\"title\":\"Bokeh Application\",\"version\":\"0.12.13\"}};\n",
       "  var render_items = [{\"docid\":\"36d1de98-37b5-4c0b-b3fc-8bea113c9e4f\",\"elementid\":\"f20addb9-c24d-4abb-87ea-324f5e054c9f\",\"modelid\":\"0cac1333-4f3d-4f8d-9871-477934c044f2\"}];\n",
       "  root.Bokeh.embed.embed_items_notebook(docs_json, render_items);\n",
       "\n",
       "  }\n",
       "  if (root.Bokeh !== undefined) {\n",
       "    embed_document(root);\n",
       "  } else {\n",
       "    var attempts = 0;\n",
       "    var timer = setInterval(function(root) {\n",
       "      if (root.Bokeh !== undefined) {\n",
       "        embed_document(root);\n",
       "        clearInterval(timer);\n",
       "      }\n",
       "      attempts++;\n",
       "      if (attempts > 100) {\n",
       "        console.log(\"Bokeh: ERROR: Unable to run BokehJS code because BokehJS library is missing\")\n",
       "        clearInterval(timer);\n",
       "      }\n",
       "    }, 10, root)\n",
       "  }\n",
       "})(window);"
      ],
      "application/vnd.bokehjs_exec.v0+json": ""
     },
     "metadata": {
      "application/vnd.bokehjs_exec.v0+json": {
       "id": "0cac1333-4f3d-4f8d-9871-477934c044f2"
      }
     },
     "output_type": "display_data"
    }
   ],
   "source": [
    "from bokeh.models import ColumnDataSource\n",
    "\n",
    "x = list(range(-20, 21))\n",
    "y0, y1 = [abs(xx) for xx in x], [xx**2 for xx in x]\n",
    "\n",
    "# create a column data source for the plots to share\n",
    "source = ColumnDataSource(data=dict(x=x, y0=y0, y1=y1))\n",
    "\n",
    "TOOLS = \"box_select,lasso_select,help\"\n",
    "\n",
    "# create a new plot and add a renderer\n",
    "left = figure(tools=TOOLS, width=300, height=300)\n",
    "left.circle('x', 'y0', source=source)\n",
    "\n",
    "# create another new plot and add a renderer\n",
    "right = figure(tools=TOOLS, width=300, height=300)\n",
    "right.circle('x', 'y1', source=source)\n",
    "\n",
    "p = gridplot([[left, right]])\n",
    "\n",
    "show(p)"
   ]
  },
  {
   "cell_type": "code",
   "execution_count": null,
   "metadata": {},
   "outputs": [],
   "source": [
    "# EXERCISE: create two plots in a gridplot, and link their data sources\n",
    "\n"
   ]
  },
  {
   "cell_type": "markdown",
   "metadata": {},
   "source": [
    "# Hover Tools\n",
    "\n",
    "Bokeh has a Hover Tool that allows additional information to be displayed in a popup whenever the user hovers over a specific glyph. Basic hover tool configuration amounts to providing a list of ``(name, format)`` tuples. The full details can be found in the User's Guide [here](http://bokeh.pydata.org/en/latest/docs/user_guide/tools.html#hovertool).\n",
    "\n",
    "The example below shows some basic usage of the Hover tool with a circle glyph, using hover information defined in utils.py:"
   ]
  },
  {
   "cell_type": "code",
   "execution_count": null,
   "metadata": {},
   "outputs": [],
   "source": [
    "from bokeh.models import HoverTool\n",
    "\n",
    "source = ColumnDataSource(\n",
    "        data=dict(\n",
    "            x=[1, 2, 3, 4, 5],\n",
    "            y=[2, 5, 8, 2, 7],\n",
    "            desc=['A', 'b', 'C', 'd', 'E'],\n",
    "        )\n",
    "    )\n",
    "\n",
    "hover = HoverTool(\n",
    "        tooltips=[\n",
    "            (\"index\", \"$index\"),\n",
    "            (\"(x,y)\", \"($x, $y)\"),\n",
    "            (\"desc\", \"@desc\"),\n",
    "        ]\n",
    "    )\n",
    "\n",
    "p = figure(plot_width=300, plot_height=300, tools=[hover], title=\"Mouse over the dots\")\n",
    "\n",
    "p.circle('x', 'y', size=20, source=source)\n",
    "\n",
    "show(p)"
   ]
  },
  {
   "cell_type": "markdown",
   "metadata": {},
   "source": [
    "# Widgets"
   ]
  },
  {
   "cell_type": "markdown",
   "metadata": {},
   "source": [
    "Bokeh supports direct integration with a small basic widget set. Thse can be used in conjunction with a Bokeh Server, or with ``CustomJS`` models to add more interactive capability to your documents. You can see a complete list, with example code in the [Adding Widgets](http://bokeh.pydata.org/en/latest/docs/user_guide/interaction.html#adding-widgets) section of the User's Guide. \n",
    "\n",
    "To use the widgets, include them in a layout like you would a plot object:"
   ]
  },
  {
   "cell_type": "code",
   "execution_count": null,
   "metadata": {},
   "outputs": [],
   "source": [
    "from bokeh.layouts import widgetbox\n",
    "from bokeh.models.widgets import Slider\n",
    "\n",
    "\n",
    "slider = Slider(start=0, end=10, value=1, step=.1, title=\"foo\")\n",
    "\n",
    "show(widgetbox(slider))"
   ]
  },
  {
   "cell_type": "code",
   "execution_count": null,
   "metadata": {},
   "outputs": [],
   "source": [
    "# EXERCISE: create and show a Select widget \n"
   ]
  },
  {
   "cell_type": "markdown",
   "metadata": {},
   "source": [
    "# CustomJS Callbacks"
   ]
  },
  {
   "cell_type": "code",
   "execution_count": null,
   "metadata": {},
   "outputs": [],
   "source": [
    "from bokeh.models import TapTool, CustomJS, ColumnDataSource\n",
    "\n",
    "callback = CustomJS(code=\"alert('hello world')\")\n",
    "tap = TapTool(callback=callback)\n",
    "\n",
    "p = figure(plot_width=600, plot_height=300, tools=[tap])\n",
    "\n",
    "p.circle(x=[1, 2, 3, 4, 5], y=[2, 5, 8, 2, 7], size=20)\n",
    "\n",
    "show(p)"
   ]
  },
  {
   "cell_type": "markdown",
   "metadata": {},
   "source": [
    "## Lots of places to add callbacks\n",
    "\n",
    "* Widgets - Button, Toggle, Dropdown, TextInput, AutocompleteInput, Select, Multiselect, Slider, (DateRangeSlider), DatePicker,\n",
    "* Tools - TapTool, BoxSelectTool, HoverTool,\n",
    "* Selection - ColumnDataSource, AjaxDataSource, BlazeDataSource, ServerDataSource\n",
    "* Ranges - Range1d, DataRange1d, FactorRange\n"
   ]
  },
  {
   "cell_type": "markdown",
   "metadata": {},
   "source": [
    "## Callbacks for widgets\n",
    "\n",
    "Widgets that have values associated can have small JavaScript actions attached to them. These actions (also referred to as \"callbacks\") are executed whenever the widget's value is changed. In order to make it easier to refer to specific Bokeh models (e.g., a data source, or a glyhph) from JavaScript, the ``CustomJS`` obejct also accepts a dictionary of \"args\" that map names to Python Bokeh models. The corresponding JavaScript models are made available automaticaly to the ``CustomJS`` code. \n",
    "\n",
    "And example below shows an action attached to a slider that updates a data source whenever the slider is moved:"
   ]
  },
  {
   "cell_type": "code",
   "execution_count": null,
   "metadata": {},
   "outputs": [],
   "source": [
    "from bokeh.layouts import column\n",
    "from bokeh.models import CustomJS, ColumnDataSource, Slider\n",
    "\n",
    "x = [x*0.005 for x in range(0, 201)]\n",
    "\n",
    "source = ColumnDataSource(data=dict(x=x, y=x))\n",
    "\n",
    "plot = figure(plot_width=400, plot_height=400)\n",
    "plot.line('x', 'y', source=source, line_width=3, line_alpha=0.6)\n",
    "\n",
    "slider = Slider(start=0.1, end=6, value=1, step=.1, title=\"power\")\n",
    "\n",
    "update_curve = CustomJS(args=dict(source=source, slider=slider), code=\"\"\"\n",
    "    var data = source.get('data');\n",
    "    var f = slider.value;\n",
    "    x = data['x']\n",
    "    y = data['y']\n",
    "    for (i = 0; i < x.length; i++) {\n",
    "        y[i] = Math.pow(x[i], f)\n",
    "    }\n",
    "    source.change.emit();\n",
    "\"\"\")\n",
    "slider.js_on_change('value', update_curve)\n",
    "\n",
    "\n",
    "show(column(slider, plot))"
   ]
  },
  {
   "cell_type": "markdown",
   "metadata": {},
   "source": [
    "## Calbacks for selections\n",
    "\n",
    "It's also possible to make JavaScript actions that execute whenever a user selection (e.g., box, point, lasso) changes. This is done by attaching the same kind of CustomJS object to whatever data source the selection is made on.\n",
    "\n",
    "The example below is a bit more sophisticated, and demonstrates updating one glyph's data source in response to another glyph's selection: "
   ]
  },
  {
   "cell_type": "code",
   "execution_count": null,
   "metadata": {},
   "outputs": [],
   "source": [
    "from random import random\n",
    "\n",
    "x = [random() for x in range(500)]\n",
    "y = [random() for y in range(500)]\n",
    "color = [\"navy\"] * len(x)\n",
    "\n",
    "s = ColumnDataSource(data=dict(x=x, y=y, color=color))\n",
    "p = figure(plot_width=400, plot_height=400, tools=\"lasso_select\", title=\"Select Here\")\n",
    "p.circle('x', 'y', color='color', size=8, source=s, alpha=0.4)\n",
    "\n",
    "s2 = ColumnDataSource(data=dict(xm=[0,1],ym=[0.5, 0.5]))\n",
    "p.line(x='xm', y='ym', color=\"orange\", line_width=5, alpha=0.6, source=s2)\n",
    "\n",
    "s.callback = CustomJS(args=dict(s2=s2), code=\"\"\"\n",
    "    var inds = cb_obj.get('selected')['1d'].indices;\n",
    "    var d = cb_obj.get('data');\n",
    "    var ym = 0\n",
    "    \n",
    "    if (inds.length == 0) { return; }\n",
    "    \n",
    "    for (i = 0; i < d['color'].length; i++) {\n",
    "        d['color'][i] = \"navy\"\n",
    "    }\n",
    "    for (i = 0; i < inds.length; i++) {\n",
    "        d['color'][inds[i]] = \"firebrick\"\n",
    "        ym += d['y'][inds[i]]\n",
    "    }\n",
    "    \n",
    "    ym /= inds.length\n",
    "    s2.get('data')['ym'] = [ym, ym]\n",
    "    \n",
    "    cb_obj.trigger('change');\n",
    "    s2.trigger('change');\n",
    "\"\"\")\n",
    "\n",
    "show(p)"
   ]
  },
  {
   "cell_type": "markdown",
   "metadata": {
    "collapsed": true
   },
   "source": [
    "# More\n",
    "For more interactions, see the User Guide - http://bokeh.pydata.org/en/latest/docs/user_guide/interaction.html"
   ]
  }
 ],
 "metadata": {
  "anaconda-cloud": {},
  "kernelspec": {
   "display_name": "Python 3",
   "language": "python",
   "name": "python3"
  },
  "language_info": {
   "codemirror_mode": {
    "name": "ipython",
    "version": 3
   },
   "file_extension": ".py",
   "mimetype": "text/x-python",
   "name": "python",
   "nbconvert_exporter": "python",
   "pygments_lexer": "ipython3",
   "version": "3.6.4"
  },
  "widgets": {
   "state": {
    "335ae2c8ff80469e9adac668c2924989": {
     "views": [
      {
       "cell_index": 19
      }
     ]
    }
   },
   "version": "1.2.0"
  }
 },
 "nbformat": 4,
 "nbformat_minor": 1
}
