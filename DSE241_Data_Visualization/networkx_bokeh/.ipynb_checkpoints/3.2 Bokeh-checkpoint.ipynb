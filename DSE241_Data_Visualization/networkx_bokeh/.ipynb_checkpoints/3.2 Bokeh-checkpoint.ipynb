{
 "cells": [
  {
   "cell_type": "code",
   "execution_count": 1,
   "metadata": {},
   "outputs": [],
   "source": [
    "from bokeh.io import output_notebook, show\n",
    "from bokeh.plotting import figure"
   ]
  },
  {
   "cell_type": "code",
   "execution_count": 2,
   "metadata": {},
   "outputs": [
    {
     "data": {
      "text/html": [
       "\n",
       "    <div class=\"bk-root\">\n",
       "        <a href=\"https://bokeh.pydata.org\" target=\"_blank\" class=\"bk-logo bk-logo-small bk-logo-notebook\"></a>\n",
       "        <span id=\"e9c4e42e-1818-4f23-a5d1-5d6152be5a4b\">Loading BokehJS ...</span>\n",
       "    </div>"
      ]
     },
     "metadata": {},
     "output_type": "display_data"
    },
    {
     "data": {
      "application/javascript": [
       "\n",
       "(function(root) {\n",
       "  function now() {\n",
       "    return new Date();\n",
       "  }\n",
       "\n",
       "  var force = true;\n",
       "\n",
       "  if (typeof (root._bokeh_onload_callbacks) === \"undefined\" || force === true) {\n",
       "    root._bokeh_onload_callbacks = [];\n",
       "    root._bokeh_is_loading = undefined;\n",
       "  }\n",
       "\n",
       "  var JS_MIME_TYPE = 'application/javascript';\n",
       "  var HTML_MIME_TYPE = 'text/html';\n",
       "  var EXEC_MIME_TYPE = 'application/vnd.bokehjs_exec.v0+json';\n",
       "  var CLASS_NAME = 'output_bokeh rendered_html';\n",
       "\n",
       "  /**\n",
       "   * Render data to the DOM node\n",
       "   */\n",
       "  function render(props, node) {\n",
       "    var script = document.createElement(\"script\");\n",
       "    node.appendChild(script);\n",
       "  }\n",
       "\n",
       "  /**\n",
       "   * Handle when an output is cleared or removed\n",
       "   */\n",
       "  function handleClearOutput(event, handle) {\n",
       "    var cell = handle.cell;\n",
       "\n",
       "    var id = cell.output_area._bokeh_element_id;\n",
       "    var server_id = cell.output_area._bokeh_server_id;\n",
       "    // Clean up Bokeh references\n",
       "    if (id !== undefined) {\n",
       "      Bokeh.index[id].model.document.clear();\n",
       "      delete Bokeh.index[id];\n",
       "    }\n",
       "\n",
       "    if (server_id !== undefined) {\n",
       "      // Clean up Bokeh references\n",
       "      var cmd = \"from bokeh.io.state import curstate; print(curstate().uuid_to_server['\" + server_id + \"'].get_sessions()[0].document.roots[0]._id)\";\n",
       "      cell.notebook.kernel.execute(cmd, {\n",
       "        iopub: {\n",
       "          output: function(msg) {\n",
       "            var element_id = msg.content.text.trim();\n",
       "            Bokeh.index[element_id].model.document.clear();\n",
       "            delete Bokeh.index[element_id];\n",
       "          }\n",
       "        }\n",
       "      });\n",
       "      // Destroy server and session\n",
       "      var cmd = \"import bokeh.io.notebook as ion; ion.destroy_server('\" + server_id + \"')\";\n",
       "      cell.notebook.kernel.execute(cmd);\n",
       "    }\n",
       "  }\n",
       "\n",
       "  /**\n",
       "   * Handle when a new output is added\n",
       "   */\n",
       "  function handleAddOutput(event, handle) {\n",
       "    var output_area = handle.output_area;\n",
       "    var output = handle.output;\n",
       "\n",
       "    // limit handleAddOutput to display_data with EXEC_MIME_TYPE content only\n",
       "    if ((output.output_type != \"display_data\") || (!output.data.hasOwnProperty(EXEC_MIME_TYPE))) {\n",
       "      return\n",
       "    }\n",
       "\n",
       "    var toinsert = output_area.element.find(\".\" + CLASS_NAME.split(' ')[0]);\n",
       "\n",
       "    if (output.metadata[EXEC_MIME_TYPE][\"id\"] !== undefined) {\n",
       "      toinsert[0].firstChild.textContent = output.data[JS_MIME_TYPE];\n",
       "      // store reference to embed id on output_area\n",
       "      output_area._bokeh_element_id = output.metadata[EXEC_MIME_TYPE][\"id\"];\n",
       "    }\n",
       "    if (output.metadata[EXEC_MIME_TYPE][\"server_id\"] !== undefined) {\n",
       "      var bk_div = document.createElement(\"div\");\n",
       "      bk_div.innerHTML = output.data[HTML_MIME_TYPE];\n",
       "      var script_attrs = bk_div.children[0].attributes;\n",
       "      for (var i = 0; i < script_attrs.length; i++) {\n",
       "        toinsert[0].firstChild.setAttribute(script_attrs[i].name, script_attrs[i].value);\n",
       "      }\n",
       "      // store reference to server id on output_area\n",
       "      output_area._bokeh_server_id = output.metadata[EXEC_MIME_TYPE][\"server_id\"];\n",
       "    }\n",
       "  }\n",
       "\n",
       "  function register_renderer(events, OutputArea) {\n",
       "\n",
       "    function append_mime(data, metadata, element) {\n",
       "      // create a DOM node to render to\n",
       "      var toinsert = this.create_output_subarea(\n",
       "        metadata,\n",
       "        CLASS_NAME,\n",
       "        EXEC_MIME_TYPE\n",
       "      );\n",
       "      this.keyboard_manager.register_events(toinsert);\n",
       "      // Render to node\n",
       "      var props = {data: data, metadata: metadata[EXEC_MIME_TYPE]};\n",
       "      render(props, toinsert[0]);\n",
       "      element.append(toinsert);\n",
       "      return toinsert\n",
       "    }\n",
       "\n",
       "    /* Handle when an output is cleared or removed */\n",
       "    events.on('clear_output.CodeCell', handleClearOutput);\n",
       "    events.on('delete.Cell', handleClearOutput);\n",
       "\n",
       "    /* Handle when a new output is added */\n",
       "    events.on('output_added.OutputArea', handleAddOutput);\n",
       "\n",
       "    /**\n",
       "     * Register the mime type and append_mime function with output_area\n",
       "     */\n",
       "    OutputArea.prototype.register_mime_type(EXEC_MIME_TYPE, append_mime, {\n",
       "      /* Is output safe? */\n",
       "      safe: true,\n",
       "      /* Index of renderer in `output_area.display_order` */\n",
       "      index: 0\n",
       "    });\n",
       "  }\n",
       "\n",
       "  // register the mime type if in Jupyter Notebook environment and previously unregistered\n",
       "  if (root.Jupyter !== undefined) {\n",
       "    var events = require('base/js/events');\n",
       "    var OutputArea = require('notebook/js/outputarea').OutputArea;\n",
       "\n",
       "    if (OutputArea.prototype.mime_types().indexOf(EXEC_MIME_TYPE) == -1) {\n",
       "      register_renderer(events, OutputArea);\n",
       "    }\n",
       "  }\n",
       "\n",
       "  \n",
       "  if (typeof (root._bokeh_timeout) === \"undefined\" || force === true) {\n",
       "    root._bokeh_timeout = Date.now() + 5000;\n",
       "    root._bokeh_failed_load = false;\n",
       "  }\n",
       "\n",
       "  var NB_LOAD_WARNING = {'data': {'text/html':\n",
       "     \"<div style='background-color: #fdd'>\\n\"+\n",
       "     \"<p>\\n\"+\n",
       "     \"BokehJS does not appear to have successfully loaded. If loading BokehJS from CDN, this \\n\"+\n",
       "     \"may be due to a slow or bad network connection. Possible fixes:\\n\"+\n",
       "     \"</p>\\n\"+\n",
       "     \"<ul>\\n\"+\n",
       "     \"<li>re-rerun `output_notebook()` to attempt to load from CDN again, or</li>\\n\"+\n",
       "     \"<li>use INLINE resources instead, as so:</li>\\n\"+\n",
       "     \"</ul>\\n\"+\n",
       "     \"<code>\\n\"+\n",
       "     \"from bokeh.resources import INLINE\\n\"+\n",
       "     \"output_notebook(resources=INLINE)\\n\"+\n",
       "     \"</code>\\n\"+\n",
       "     \"</div>\"}};\n",
       "\n",
       "  function display_loaded() {\n",
       "    var el = document.getElementById(\"e9c4e42e-1818-4f23-a5d1-5d6152be5a4b\");\n",
       "    if (el != null) {\n",
       "      el.textContent = \"BokehJS is loading...\";\n",
       "    }\n",
       "    if (root.Bokeh !== undefined) {\n",
       "      if (el != null) {\n",
       "        el.textContent = \"BokehJS \" + root.Bokeh.version + \" successfully loaded.\";\n",
       "      }\n",
       "    } else if (Date.now() < root._bokeh_timeout) {\n",
       "      setTimeout(display_loaded, 100)\n",
       "    }\n",
       "  }\n",
       "\n",
       "\n",
       "  function run_callbacks() {\n",
       "    try {\n",
       "      root._bokeh_onload_callbacks.forEach(function(callback) { callback() });\n",
       "    }\n",
       "    finally {\n",
       "      delete root._bokeh_onload_callbacks\n",
       "    }\n",
       "    console.info(\"Bokeh: all callbacks have finished\");\n",
       "  }\n",
       "\n",
       "  function load_libs(js_urls, callback) {\n",
       "    root._bokeh_onload_callbacks.push(callback);\n",
       "    if (root._bokeh_is_loading > 0) {\n",
       "      console.log(\"Bokeh: BokehJS is being loaded, scheduling callback at\", now());\n",
       "      return null;\n",
       "    }\n",
       "    if (js_urls == null || js_urls.length === 0) {\n",
       "      run_callbacks();\n",
       "      return null;\n",
       "    }\n",
       "    console.log(\"Bokeh: BokehJS not loaded, scheduling load and callback at\", now());\n",
       "    root._bokeh_is_loading = js_urls.length;\n",
       "    for (var i = 0; i < js_urls.length; i++) {\n",
       "      var url = js_urls[i];\n",
       "      var s = document.createElement('script');\n",
       "      s.src = url;\n",
       "      s.async = false;\n",
       "      s.onreadystatechange = s.onload = function() {\n",
       "        root._bokeh_is_loading--;\n",
       "        if (root._bokeh_is_loading === 0) {\n",
       "          console.log(\"Bokeh: all BokehJS libraries loaded\");\n",
       "          run_callbacks()\n",
       "        }\n",
       "      };\n",
       "      s.onerror = function() {\n",
       "        console.warn(\"failed to load library \" + url);\n",
       "      };\n",
       "      console.log(\"Bokeh: injecting script tag for BokehJS library: \", url);\n",
       "      document.getElementsByTagName(\"head\")[0].appendChild(s);\n",
       "    }\n",
       "  };var element = document.getElementById(\"e9c4e42e-1818-4f23-a5d1-5d6152be5a4b\");\n",
       "  if (element == null) {\n",
       "    console.log(\"Bokeh: ERROR: autoload.js configured with elementid 'e9c4e42e-1818-4f23-a5d1-5d6152be5a4b' but no matching script tag was found. \")\n",
       "    return false;\n",
       "  }\n",
       "\n",
       "  var js_urls = [\"https://cdn.pydata.org/bokeh/release/bokeh-0.12.13.min.js\", \"https://cdn.pydata.org/bokeh/release/bokeh-widgets-0.12.13.min.js\", \"https://cdn.pydata.org/bokeh/release/bokeh-tables-0.12.13.min.js\", \"https://cdn.pydata.org/bokeh/release/bokeh-gl-0.12.13.min.js\"];\n",
       "\n",
       "  var inline_js = [\n",
       "    function(Bokeh) {\n",
       "      Bokeh.set_log_level(\"info\");\n",
       "    },\n",
       "    \n",
       "    function(Bokeh) {\n",
       "      \n",
       "    },\n",
       "    function(Bokeh) {\n",
       "      console.log(\"Bokeh: injecting CSS: https://cdn.pydata.org/bokeh/release/bokeh-0.12.13.min.css\");\n",
       "      Bokeh.embed.inject_css(\"https://cdn.pydata.org/bokeh/release/bokeh-0.12.13.min.css\");\n",
       "      console.log(\"Bokeh: injecting CSS: https://cdn.pydata.org/bokeh/release/bokeh-widgets-0.12.13.min.css\");\n",
       "      Bokeh.embed.inject_css(\"https://cdn.pydata.org/bokeh/release/bokeh-widgets-0.12.13.min.css\");\n",
       "      console.log(\"Bokeh: injecting CSS: https://cdn.pydata.org/bokeh/release/bokeh-tables-0.12.13.min.css\");\n",
       "      Bokeh.embed.inject_css(\"https://cdn.pydata.org/bokeh/release/bokeh-tables-0.12.13.min.css\");\n",
       "    }\n",
       "  ];\n",
       "\n",
       "  function run_inline_js() {\n",
       "    \n",
       "    if ((root.Bokeh !== undefined) || (force === true)) {\n",
       "      for (var i = 0; i < inline_js.length; i++) {\n",
       "        inline_js[i].call(root, root.Bokeh);\n",
       "      }if (force === true) {\n",
       "        display_loaded();\n",
       "      }} else if (Date.now() < root._bokeh_timeout) {\n",
       "      setTimeout(run_inline_js, 100);\n",
       "    } else if (!root._bokeh_failed_load) {\n",
       "      console.log(\"Bokeh: BokehJS failed to load within specified timeout.\");\n",
       "      root._bokeh_failed_load = true;\n",
       "    } else if (force !== true) {\n",
       "      var cell = $(document.getElementById(\"e9c4e42e-1818-4f23-a5d1-5d6152be5a4b\")).parents('.cell').data().cell;\n",
       "      cell.output_area.append_execute_result(NB_LOAD_WARNING)\n",
       "    }\n",
       "\n",
       "  }\n",
       "\n",
       "  if (root._bokeh_is_loading === 0) {\n",
       "    console.log(\"Bokeh: BokehJS loaded, going straight to plotting\");\n",
       "    run_inline_js();\n",
       "  } else {\n",
       "    load_libs(js_urls, function() {\n",
       "      console.log(\"Bokeh: BokehJS plotting callback run at\", now());\n",
       "      run_inline_js();\n",
       "    });\n",
       "  }\n",
       "}(window));"
      ],
      "application/vnd.bokehjs_load.v0+json": "\n(function(root) {\n  function now() {\n    return new Date();\n  }\n\n  var force = true;\n\n  if (typeof (root._bokeh_onload_callbacks) === \"undefined\" || force === true) {\n    root._bokeh_onload_callbacks = [];\n    root._bokeh_is_loading = undefined;\n  }\n\n  \n\n  \n  if (typeof (root._bokeh_timeout) === \"undefined\" || force === true) {\n    root._bokeh_timeout = Date.now() + 5000;\n    root._bokeh_failed_load = false;\n  }\n\n  var NB_LOAD_WARNING = {'data': {'text/html':\n     \"<div style='background-color: #fdd'>\\n\"+\n     \"<p>\\n\"+\n     \"BokehJS does not appear to have successfully loaded. If loading BokehJS from CDN, this \\n\"+\n     \"may be due to a slow or bad network connection. Possible fixes:\\n\"+\n     \"</p>\\n\"+\n     \"<ul>\\n\"+\n     \"<li>re-rerun `output_notebook()` to attempt to load from CDN again, or</li>\\n\"+\n     \"<li>use INLINE resources instead, as so:</li>\\n\"+\n     \"</ul>\\n\"+\n     \"<code>\\n\"+\n     \"from bokeh.resources import INLINE\\n\"+\n     \"output_notebook(resources=INLINE)\\n\"+\n     \"</code>\\n\"+\n     \"</div>\"}};\n\n  function display_loaded() {\n    var el = document.getElementById(\"e9c4e42e-1818-4f23-a5d1-5d6152be5a4b\");\n    if (el != null) {\n      el.textContent = \"BokehJS is loading...\";\n    }\n    if (root.Bokeh !== undefined) {\n      if (el != null) {\n        el.textContent = \"BokehJS \" + root.Bokeh.version + \" successfully loaded.\";\n      }\n    } else if (Date.now() < root._bokeh_timeout) {\n      setTimeout(display_loaded, 100)\n    }\n  }\n\n\n  function run_callbacks() {\n    try {\n      root._bokeh_onload_callbacks.forEach(function(callback) { callback() });\n    }\n    finally {\n      delete root._bokeh_onload_callbacks\n    }\n    console.info(\"Bokeh: all callbacks have finished\");\n  }\n\n  function load_libs(js_urls, callback) {\n    root._bokeh_onload_callbacks.push(callback);\n    if (root._bokeh_is_loading > 0) {\n      console.log(\"Bokeh: BokehJS is being loaded, scheduling callback at\", now());\n      return null;\n    }\n    if (js_urls == null || js_urls.length === 0) {\n      run_callbacks();\n      return null;\n    }\n    console.log(\"Bokeh: BokehJS not loaded, scheduling load and callback at\", now());\n    root._bokeh_is_loading = js_urls.length;\n    for (var i = 0; i < js_urls.length; i++) {\n      var url = js_urls[i];\n      var s = document.createElement('script');\n      s.src = url;\n      s.async = false;\n      s.onreadystatechange = s.onload = function() {\n        root._bokeh_is_loading--;\n        if (root._bokeh_is_loading === 0) {\n          console.log(\"Bokeh: all BokehJS libraries loaded\");\n          run_callbacks()\n        }\n      };\n      s.onerror = function() {\n        console.warn(\"failed to load library \" + url);\n      };\n      console.log(\"Bokeh: injecting script tag for BokehJS library: \", url);\n      document.getElementsByTagName(\"head\")[0].appendChild(s);\n    }\n  };var element = document.getElementById(\"e9c4e42e-1818-4f23-a5d1-5d6152be5a4b\");\n  if (element == null) {\n    console.log(\"Bokeh: ERROR: autoload.js configured with elementid 'e9c4e42e-1818-4f23-a5d1-5d6152be5a4b' but no matching script tag was found. \")\n    return false;\n  }\n\n  var js_urls = [\"https://cdn.pydata.org/bokeh/release/bokeh-0.12.13.min.js\", \"https://cdn.pydata.org/bokeh/release/bokeh-widgets-0.12.13.min.js\", \"https://cdn.pydata.org/bokeh/release/bokeh-tables-0.12.13.min.js\", \"https://cdn.pydata.org/bokeh/release/bokeh-gl-0.12.13.min.js\"];\n\n  var inline_js = [\n    function(Bokeh) {\n      Bokeh.set_log_level(\"info\");\n    },\n    \n    function(Bokeh) {\n      \n    },\n    function(Bokeh) {\n      console.log(\"Bokeh: injecting CSS: https://cdn.pydata.org/bokeh/release/bokeh-0.12.13.min.css\");\n      Bokeh.embed.inject_css(\"https://cdn.pydata.org/bokeh/release/bokeh-0.12.13.min.css\");\n      console.log(\"Bokeh: injecting CSS: https://cdn.pydata.org/bokeh/release/bokeh-widgets-0.12.13.min.css\");\n      Bokeh.embed.inject_css(\"https://cdn.pydata.org/bokeh/release/bokeh-widgets-0.12.13.min.css\");\n      console.log(\"Bokeh: injecting CSS: https://cdn.pydata.org/bokeh/release/bokeh-tables-0.12.13.min.css\");\n      Bokeh.embed.inject_css(\"https://cdn.pydata.org/bokeh/release/bokeh-tables-0.12.13.min.css\");\n    }\n  ];\n\n  function run_inline_js() {\n    \n    if ((root.Bokeh !== undefined) || (force === true)) {\n      for (var i = 0; i < inline_js.length; i++) {\n        inline_js[i].call(root, root.Bokeh);\n      }if (force === true) {\n        display_loaded();\n      }} else if (Date.now() < root._bokeh_timeout) {\n      setTimeout(run_inline_js, 100);\n    } else if (!root._bokeh_failed_load) {\n      console.log(\"Bokeh: BokehJS failed to load within specified timeout.\");\n      root._bokeh_failed_load = true;\n    } else if (force !== true) {\n      var cell = $(document.getElementById(\"e9c4e42e-1818-4f23-a5d1-5d6152be5a4b\")).parents('.cell').data().cell;\n      cell.output_area.append_execute_result(NB_LOAD_WARNING)\n    }\n\n  }\n\n  if (root._bokeh_is_loading === 0) {\n    console.log(\"Bokeh: BokehJS loaded, going straight to plotting\");\n    run_inline_js();\n  } else {\n    load_libs(js_urls, function() {\n      console.log(\"Bokeh: BokehJS plotting callback run at\", now());\n      run_inline_js();\n    });\n  }\n}(window));"
     },
     "metadata": {},
     "output_type": "display_data"
    }
   ],
   "source": [
    "output_notebook()"
   ]
  },
  {
   "cell_type": "markdown",
   "metadata": {},
   "source": [
    "# Colors and Properties"
   ]
  },
  {
   "cell_type": "markdown",
   "metadata": {},
   "source": [
    "## Colors\n",
    "\n",
    "There are many places where you may need to specify colors. Bokeh can accept colors in a variety of different ways:\n",
    "\n",
    "* any of the [147 named CSS colors](http://www.w3schools.com/cssref/css_colornames.asp), e.g ``'green'``, ``'indigo'``\n",
    "* an RGB(A) hex value, e.g., ``'#FF0000'``, ``'#44444444'``\n",
    "* a 3-tuple of integers *(r,g,b)* between 0 and 255\n",
    "*  a 4-tuple of *(r,g,b,a)* where *r*, *g*, *b* are integers between 0 and 255 and *a* is a floating point value between 0 and 1\n",
    "\n"
   ]
  },
  {
   "cell_type": "markdown",
   "metadata": {
    "collapsed": true
   },
   "source": [
    "## Properties\n",
    "\n",
    "Regardless of what API (``models``, ``plotting``, or ``charts``) is used to create a Bokeh plot, styling the visual aspects of the plot can always be accomplished by setting attributes on the Bokeh model objects that comprise the resulting plot. Visual properties come in three kinds: line, fill, and text properties. For full information with code and examples see the [Styling Visual Properties](http://bokeh.pydata.org/en/latest/docs/user_guide/styling.html) section of the user guide. \n",
    "\n",
    "----\n",
    "\n",
    "### Line Properties\n",
    "\n",
    "Set the visual appearance of lines. The most common are ``line_color``, ``line_alpha``, ``line_width`` and ``line_dash``.\n",
    "\n",
    "### Fill Properties\n",
    "\n",
    "Set the visual appearance of filled areas: ``fill_color`` and ``fill_alpha``.\n",
    "\n",
    "### Text Properties\n",
    "\n",
    "Set the visual appearance of lines of text. The most common are ``text_font``, ``text_font_size``, ``text_color``, and ``text_alpha``.\n",
    "\n",
    "----\n",
    "\n",
    "Sometimes a prefix is used with property names, e.g. to distinguish between different line properties on the same object, or to give a more meaningful name. For example, to set the line width of the plot outline, you would say ``myplot.outline_line_width = 2``. "
   ]
  },
  {
   "cell_type": "markdown",
   "metadata": {},
   "source": [
    "# Plots\n",
    "\n",
    "Many top-level attributes of plots (outline, border, etc.) can be configured. See the [Plots](http://bokeh.pydata.org/en/latest/docs/user_guide/styling.html#plots) section of the styling guide for full information. \n",
    "\n",
    "Here is an example that tweaks the plot outline:"
   ]
  },
  {
   "cell_type": "code",
   "execution_count": 3,
   "metadata": {
    "scrolled": false
   },
   "outputs": [
    {
     "data": {
      "text/html": [
       "\n",
       "<div class=\"bk-root\">\n",
       "    <div class=\"bk-plotdiv\" id=\"49257dff-599b-4147-80fa-c56aa63a4e18\"></div>\n",
       "</div>"
      ]
     },
     "metadata": {},
     "output_type": "display_data"
    },
    {
     "data": {
      "application/javascript": [
       "(function(root) {\n",
       "  function embed_document(root) {\n",
       "    \n",
       "  var docs_json = {\"a1b5b8c0-0170-45b5-a7c4-065431ee708f\":{\"roots\":{\"references\":[{\"attributes\":{\"bottom_units\":\"screen\",\"fill_alpha\":{\"value\":0.5},\"fill_color\":{\"value\":\"lightgrey\"},\"left_units\":\"screen\",\"level\":\"overlay\",\"line_alpha\":{\"value\":1.0},\"line_color\":{\"value\":\"black\"},\"line_dash\":[4,4],\"line_width\":{\"value\":2},\"plot\":null,\"render_mode\":\"css\",\"right_units\":\"screen\",\"top_units\":\"screen\"},\"id\":\"2370bf02-fcb8-4216-a544-f88fc347f672\",\"type\":\"BoxAnnotation\"},{\"attributes\":{\"callback\":null},\"id\":\"355d985e-f66c-4405-90c6-75ba63440b86\",\"type\":\"DataRange1d\"},{\"attributes\":{\"source\":{\"id\":\"61896973-d63d-4d25-9937-3b38f274cc2c\",\"type\":\"ColumnDataSource\"}},\"id\":\"3e252180-8450-4137-a7fb-a4b287e113cf\",\"type\":\"CDSView\"},{\"attributes\":{},\"id\":\"30a52723-eb9a-4dd0-8fb4-d699a6517516\",\"type\":\"SaveTool\"},{\"attributes\":{},\"id\":\"69e51e8f-e267-49a6-b1c5-0775f9d2d5e7\",\"type\":\"LinearScale\"},{\"attributes\":{},\"id\":\"0ce2c1e7-4f90-464f-bda0-dbe408744894\",\"type\":\"ResetTool\"},{\"attributes\":{},\"id\":\"3e94cbd2-2e52-4757-aa72-0d6560f4fc27\",\"type\":\"LinearScale\"},{\"attributes\":{\"data_source\":{\"id\":\"61896973-d63d-4d25-9937-3b38f274cc2c\",\"type\":\"ColumnDataSource\"},\"glyph\":{\"id\":\"1c9e8b37-0c6d-423f-9ded-e799de10d0a8\",\"type\":\"Circle\"},\"hover_glyph\":null,\"muted_glyph\":null,\"nonselection_glyph\":{\"id\":\"8b7d634f-fc22-4adb-b15a-9490ccc42c83\",\"type\":\"Circle\"},\"selection_glyph\":null,\"view\":{\"id\":\"3e252180-8450-4137-a7fb-a4b287e113cf\",\"type\":\"CDSView\"}},\"id\":\"c8ae575e-782d-4536-a273-11a826a7d199\",\"type\":\"GlyphRenderer\"},{\"attributes\":{},\"id\":\"bb6e73c7-559d-4f4f-b8c1-f013d0f3ca7b\",\"type\":\"HelpTool\"},{\"attributes\":{\"formatter\":{\"id\":\"82654d53-7dcb-4cf1-8147-da5818707403\",\"type\":\"BasicTickFormatter\"},\"plot\":{\"id\":\"0ee65ddb-6308-479e-b7cf-405e0751a888\",\"subtype\":\"Figure\",\"type\":\"Plot\"},\"ticker\":{\"id\":\"c55b3a60-b93c-409c-ae43-e683844b5cbb\",\"type\":\"BasicTicker\"}},\"id\":\"b47e5ceb-9280-4063-9495-e2c9aab9eca3\",\"type\":\"LinearAxis\"},{\"attributes\":{},\"id\":\"c55b3a60-b93c-409c-ae43-e683844b5cbb\",\"type\":\"BasicTicker\"},{\"attributes\":{\"plot\":{\"id\":\"0ee65ddb-6308-479e-b7cf-405e0751a888\",\"subtype\":\"Figure\",\"type\":\"Plot\"},\"ticker\":{\"id\":\"c55b3a60-b93c-409c-ae43-e683844b5cbb\",\"type\":\"BasicTicker\"}},\"id\":\"10bb2ecb-8d72-41d8-9ca4-7957fbe68577\",\"type\":\"Grid\"},{\"attributes\":{\"formatter\":{\"id\":\"3af2938c-f92e-41fa-9c94-5dbbcf621f4f\",\"type\":\"BasicTickFormatter\"},\"plot\":{\"id\":\"0ee65ddb-6308-479e-b7cf-405e0751a888\",\"subtype\":\"Figure\",\"type\":\"Plot\"},\"ticker\":{\"id\":\"fe1672b1-7864-475e-b2c2-84c582b1ff95\",\"type\":\"BasicTicker\"}},\"id\":\"856434f0-5c91-43ba-a390-eb0a04e8f67b\",\"type\":\"LinearAxis\"},{\"attributes\":{},\"id\":\"fe1672b1-7864-475e-b2c2-84c582b1ff95\",\"type\":\"BasicTicker\"},{\"attributes\":{\"dimension\":1,\"plot\":{\"id\":\"0ee65ddb-6308-479e-b7cf-405e0751a888\",\"subtype\":\"Figure\",\"type\":\"Plot\"},\"ticker\":{\"id\":\"fe1672b1-7864-475e-b2c2-84c582b1ff95\",\"type\":\"BasicTicker\"}},\"id\":\"43beec89-be1c-43de-af1c-6e7adb5e1241\",\"type\":\"Grid\"},{\"attributes\":{},\"id\":\"82654d53-7dcb-4cf1-8147-da5818707403\",\"type\":\"BasicTickFormatter\"},{\"attributes\":{\"plot\":null,\"text\":\"\"},\"id\":\"bf42f18b-9f25-4c61-af63-771e3a6be2ca\",\"type\":\"Title\"},{\"attributes\":{\"fill_color\":{\"value\":\"#1f77b4\"},\"line_color\":{\"value\":\"#1f77b4\"},\"size\":{\"units\":\"screen\",\"value\":10},\"x\":{\"field\":\"x\"},\"y\":{\"field\":\"y\"}},\"id\":\"1c9e8b37-0c6d-423f-9ded-e799de10d0a8\",\"type\":\"Circle\"},{\"attributes\":{},\"id\":\"071000b3-25d3-4aaf-9d38-d661a396adb3\",\"type\":\"WheelZoomTool\"},{\"attributes\":{\"below\":[{\"id\":\"b47e5ceb-9280-4063-9495-e2c9aab9eca3\",\"type\":\"LinearAxis\"}],\"left\":[{\"id\":\"856434f0-5c91-43ba-a390-eb0a04e8f67b\",\"type\":\"LinearAxis\"}],\"outline_line_alpha\":{\"value\":0.3},\"outline_line_color\":{\"value\":\"navy\"},\"outline_line_width\":{\"value\":7},\"plot_height\":400,\"plot_width\":400,\"renderers\":[{\"id\":\"b47e5ceb-9280-4063-9495-e2c9aab9eca3\",\"type\":\"LinearAxis\"},{\"id\":\"10bb2ecb-8d72-41d8-9ca4-7957fbe68577\",\"type\":\"Grid\"},{\"id\":\"856434f0-5c91-43ba-a390-eb0a04e8f67b\",\"type\":\"LinearAxis\"},{\"id\":\"43beec89-be1c-43de-af1c-6e7adb5e1241\",\"type\":\"Grid\"},{\"id\":\"2370bf02-fcb8-4216-a544-f88fc347f672\",\"type\":\"BoxAnnotation\"},{\"id\":\"c8ae575e-782d-4536-a273-11a826a7d199\",\"type\":\"GlyphRenderer\"}],\"title\":{\"id\":\"bf42f18b-9f25-4c61-af63-771e3a6be2ca\",\"type\":\"Title\"},\"toolbar\":{\"id\":\"94c7f40e-cb51-4d04-a721-5a5b1b31faa1\",\"type\":\"Toolbar\"},\"x_range\":{\"id\":\"7cfa01ee-c255-4f40-b7b3-509a97bd650d\",\"type\":\"DataRange1d\"},\"x_scale\":{\"id\":\"69e51e8f-e267-49a6-b1c5-0775f9d2d5e7\",\"type\":\"LinearScale\"},\"y_range\":{\"id\":\"355d985e-f66c-4405-90c6-75ba63440b86\",\"type\":\"DataRange1d\"},\"y_scale\":{\"id\":\"3e94cbd2-2e52-4757-aa72-0d6560f4fc27\",\"type\":\"LinearScale\"}},\"id\":\"0ee65ddb-6308-479e-b7cf-405e0751a888\",\"subtype\":\"Figure\",\"type\":\"Plot\"},{\"attributes\":{},\"id\":\"3af2938c-f92e-41fa-9c94-5dbbcf621f4f\",\"type\":\"BasicTickFormatter\"},{\"attributes\":{\"callback\":null,\"column_names\":[\"x\",\"y\"],\"data\":{\"x\":[1,2,3,4,5],\"y\":[2,5,8,2,7]}},\"id\":\"61896973-d63d-4d25-9937-3b38f274cc2c\",\"type\":\"ColumnDataSource\"},{\"attributes\":{},\"id\":\"36cac606-30aa-4555-ba79-f7b66ad24379\",\"type\":\"PanTool\"},{\"attributes\":{\"overlay\":{\"id\":\"2370bf02-fcb8-4216-a544-f88fc347f672\",\"type\":\"BoxAnnotation\"}},\"id\":\"23e64291-9a18-4714-ba58-d440743ac06f\",\"type\":\"BoxZoomTool\"},{\"attributes\":{\"active_drag\":\"auto\",\"active_inspect\":\"auto\",\"active_scroll\":\"auto\",\"active_tap\":\"auto\",\"tools\":[{\"id\":\"36cac606-30aa-4555-ba79-f7b66ad24379\",\"type\":\"PanTool\"},{\"id\":\"071000b3-25d3-4aaf-9d38-d661a396adb3\",\"type\":\"WheelZoomTool\"},{\"id\":\"23e64291-9a18-4714-ba58-d440743ac06f\",\"type\":\"BoxZoomTool\"},{\"id\":\"30a52723-eb9a-4dd0-8fb4-d699a6517516\",\"type\":\"SaveTool\"},{\"id\":\"0ce2c1e7-4f90-464f-bda0-dbe408744894\",\"type\":\"ResetTool\"},{\"id\":\"bb6e73c7-559d-4f4f-b8c1-f013d0f3ca7b\",\"type\":\"HelpTool\"}]},\"id\":\"94c7f40e-cb51-4d04-a721-5a5b1b31faa1\",\"type\":\"Toolbar\"},{\"attributes\":{\"fill_alpha\":{\"value\":0.1},\"fill_color\":{\"value\":\"#1f77b4\"},\"line_alpha\":{\"value\":0.1},\"line_color\":{\"value\":\"#1f77b4\"},\"size\":{\"units\":\"screen\",\"value\":10},\"x\":{\"field\":\"x\"},\"y\":{\"field\":\"y\"}},\"id\":\"8b7d634f-fc22-4adb-b15a-9490ccc42c83\",\"type\":\"Circle\"},{\"attributes\":{\"callback\":null},\"id\":\"7cfa01ee-c255-4f40-b7b3-509a97bd650d\",\"type\":\"DataRange1d\"}],\"root_ids\":[\"0ee65ddb-6308-479e-b7cf-405e0751a888\"]},\"title\":\"Bokeh Application\",\"version\":\"0.12.13\"}};\n",
       "  var render_items = [{\"docid\":\"a1b5b8c0-0170-45b5-a7c4-065431ee708f\",\"elementid\":\"49257dff-599b-4147-80fa-c56aa63a4e18\",\"modelid\":\"0ee65ddb-6308-479e-b7cf-405e0751a888\"}];\n",
       "  root.Bokeh.embed.embed_items_notebook(docs_json, render_items);\n",
       "\n",
       "  }\n",
       "  if (root.Bokeh !== undefined) {\n",
       "    embed_document(root);\n",
       "  } else {\n",
       "    var attempts = 0;\n",
       "    var timer = setInterval(function(root) {\n",
       "      if (root.Bokeh !== undefined) {\n",
       "        embed_document(root);\n",
       "        clearInterval(timer);\n",
       "      }\n",
       "      attempts++;\n",
       "      if (attempts > 100) {\n",
       "        console.log(\"Bokeh: ERROR: Unable to run BokehJS code because BokehJS library is missing\")\n",
       "        clearInterval(timer);\n",
       "      }\n",
       "    }, 10, root)\n",
       "  }\n",
       "})(window);"
      ],
      "application/vnd.bokehjs_exec.v0+json": ""
     },
     "metadata": {
      "application/vnd.bokehjs_exec.v0+json": {
       "id": "0ee65ddb-6308-479e-b7cf-405e0751a888"
      }
     },
     "output_type": "display_data"
    }
   ],
   "source": [
    "# create a new plot with a title\n",
    "p = figure(plot_width=400, plot_height=400)\n",
    "p.outline_line_width = 7\n",
    "p.outline_line_alpha = 0.3\n",
    "p.outline_line_color = \"navy\"\n",
    "\n",
    "p.circle([1,2,3,4,5], [2,5,8,2,7], size=10)\n",
    "\n",
    "show(p)"
   ]
  },
  {
   "cell_type": "code",
   "execution_count": 4,
   "metadata": {},
   "outputs": [],
   "source": [
    "# EXERCISE Create a plot of your own and customize several plot-level properties\n"
   ]
  },
  {
   "cell_type": "markdown",
   "metadata": {},
   "source": [
    "# Glyphs\n",
    "\n",
    "It's also possible to style the visual properties of glyphs. When using `bokeh.plotting` this is often done when calling the glyph methods:\n",
    "```python\n",
    "p.circle(line_color=\"red\", fill_alpha=0.2, ...)\n",
    "```\n",
    "But it is also possible to set these properties directly on glyph objects. Glyph objects are found on `GlyphRenderer` objects, which are returned by the `Plot.add_glyph` and `bokeh.plotting` glyph methods like `circle`, `rect`, etc. Let's look at an example:"
   ]
  },
  {
   "cell_type": "code",
   "execution_count": 5,
   "metadata": {},
   "outputs": [
    {
     "data": {
      "text/html": [
       "\n",
       "<div class=\"bk-root\">\n",
       "    <div class=\"bk-plotdiv\" id=\"a496dd94-1afa-4569-a1e4-a9caeb0e231f\"></div>\n",
       "</div>"
      ]
     },
     "metadata": {},
     "output_type": "display_data"
    },
    {
     "data": {
      "application/javascript": [
       "(function(root) {\n",
       "  function embed_document(root) {\n",
       "    \n",
       "  var docs_json = {\"1bfca73e-6786-4e6a-92ff-af8ba2845e62\":{\"roots\":{\"references\":[{\"attributes\":{},\"id\":\"b28b131e-d986-4f46-88e6-801af6dd35d5\",\"type\":\"HelpTool\"},{\"attributes\":{\"fill_alpha\":{\"value\":0.1},\"fill_color\":{\"value\":\"#1f77b4\"},\"line_alpha\":{\"value\":0.1},\"line_color\":{\"value\":\"#1f77b4\"},\"x\":{\"field\":\"x\"},\"y\":{\"field\":\"y\"}},\"id\":\"92c3692a-53ef-4f64-9157-add6f77aaa54\",\"type\":\"Circle\"},{\"attributes\":{},\"id\":\"a4ed2077-5c31-4477-9252-526e5a8d79b5\",\"type\":\"ResetTool\"},{\"attributes\":{\"callback\":null},\"id\":\"bd3fa198-669f-4166-8f23-8893cc819eaf\",\"type\":\"DataRange1d\"},{\"attributes\":{\"active_drag\":\"auto\",\"active_inspect\":\"auto\",\"active_scroll\":\"auto\",\"active_tap\":\"auto\",\"tools\":[{\"id\":\"be6b7ff5-e35e-4805-b454-87c43d3ed543\",\"type\":\"PanTool\"},{\"id\":\"f802ccb8-c45a-41d3-b16a-0e12907c9082\",\"type\":\"WheelZoomTool\"},{\"id\":\"e035b8ba-d45b-47d8-ba03-5c3b1147dbd5\",\"type\":\"BoxZoomTool\"},{\"id\":\"a33499c5-32bf-494e-8ed3-1f28ed047efe\",\"type\":\"SaveTool\"},{\"id\":\"a4ed2077-5c31-4477-9252-526e5a8d79b5\",\"type\":\"ResetTool\"},{\"id\":\"b28b131e-d986-4f46-88e6-801af6dd35d5\",\"type\":\"HelpTool\"}]},\"id\":\"138898a9-5cce-446e-9307-3ca69dcc3f2a\",\"type\":\"Toolbar\"},{\"attributes\":{},\"id\":\"dadf5394-468f-4a65-a6d9-0e4f76812f8c\",\"type\":\"LinearScale\"},{\"attributes\":{},\"id\":\"b303c574-c5b9-4034-a976-7d9a047d8252\",\"type\":\"LinearScale\"},{\"attributes\":{\"callback\":null},\"id\":\"a9d3bd7c-ace2-4796-9ac0-79c0da9a1f86\",\"type\":\"DataRange1d\"},{\"attributes\":{\"formatter\":{\"id\":\"faa7c09c-89ac-4c0d-bf71-ef9bda446955\",\"type\":\"BasicTickFormatter\"},\"plot\":{\"id\":\"d9d6ec08-c344-4b88-91b6-7b519508687d\",\"subtype\":\"Figure\",\"type\":\"Plot\"},\"ticker\":{\"id\":\"6b4fd771-01f4-4ba8-a9c7-99eef29b679f\",\"type\":\"BasicTicker\"}},\"id\":\"dfe9330c-03ad-497c-aea9-cdb24d8ab990\",\"type\":\"LinearAxis\"},{\"attributes\":{},\"id\":\"738500cb-6eaa-4879-bd55-eced0433461e\",\"type\":\"BasicTicker\"},{\"attributes\":{\"plot\":{\"id\":\"d9d6ec08-c344-4b88-91b6-7b519508687d\",\"subtype\":\"Figure\",\"type\":\"Plot\"},\"ticker\":{\"id\":\"738500cb-6eaa-4879-bd55-eced0433461e\",\"type\":\"BasicTicker\"}},\"id\":\"60fe2752-d6e7-4b5a-ba12-9c8be73b2ea5\",\"type\":\"Grid\"},{\"attributes\":{\"bottom_units\":\"screen\",\"fill_alpha\":{\"value\":0.5},\"fill_color\":{\"value\":\"lightgrey\"},\"left_units\":\"screen\",\"level\":\"overlay\",\"line_alpha\":{\"value\":1.0},\"line_color\":{\"value\":\"black\"},\"line_dash\":[4,4],\"line_width\":{\"value\":2},\"plot\":null,\"render_mode\":\"css\",\"right_units\":\"screen\",\"top_units\":\"screen\"},\"id\":\"164996e4-76af-40b9-baba-b056c0fda508\",\"type\":\"BoxAnnotation\"},{\"attributes\":{\"overlay\":{\"id\":\"164996e4-76af-40b9-baba-b056c0fda508\",\"type\":\"BoxAnnotation\"}},\"id\":\"e035b8ba-d45b-47d8-ba03-5c3b1147dbd5\",\"type\":\"BoxZoomTool\"},{\"attributes\":{},\"id\":\"f802ccb8-c45a-41d3-b16a-0e12907c9082\",\"type\":\"WheelZoomTool\"},{\"attributes\":{},\"id\":\"a33499c5-32bf-494e-8ed3-1f28ed047efe\",\"type\":\"SaveTool\"},{\"attributes\":{},\"id\":\"6b4fd771-01f4-4ba8-a9c7-99eef29b679f\",\"type\":\"BasicTicker\"},{\"attributes\":{},\"id\":\"34dbb9fa-5b5c-4779-9945-8b28b1d7bd25\",\"type\":\"BasicTickFormatter\"},{\"attributes\":{\"below\":[{\"id\":\"43c6e525-5a80-4b30-becf-648301b871df\",\"type\":\"LinearAxis\"}],\"left\":[{\"id\":\"dfe9330c-03ad-497c-aea9-cdb24d8ab990\",\"type\":\"LinearAxis\"}],\"plot_height\":400,\"plot_width\":400,\"renderers\":[{\"id\":\"43c6e525-5a80-4b30-becf-648301b871df\",\"type\":\"LinearAxis\"},{\"id\":\"60fe2752-d6e7-4b5a-ba12-9c8be73b2ea5\",\"type\":\"Grid\"},{\"id\":\"dfe9330c-03ad-497c-aea9-cdb24d8ab990\",\"type\":\"LinearAxis\"},{\"id\":\"96720ae9-1ca7-434b-8ad3-aeed22014e31\",\"type\":\"Grid\"},{\"id\":\"164996e4-76af-40b9-baba-b056c0fda508\",\"type\":\"BoxAnnotation\"},{\"id\":\"1a2b8ebc-b4fd-4be5-8146-788422f8840d\",\"type\":\"GlyphRenderer\"}],\"title\":{\"id\":\"40f9526c-955f-43fd-9ea1-2ba29e4f322d\",\"type\":\"Title\"},\"toolbar\":{\"id\":\"138898a9-5cce-446e-9307-3ca69dcc3f2a\",\"type\":\"Toolbar\"},\"x_range\":{\"id\":\"bd3fa198-669f-4166-8f23-8893cc819eaf\",\"type\":\"DataRange1d\"},\"x_scale\":{\"id\":\"b303c574-c5b9-4034-a976-7d9a047d8252\",\"type\":\"LinearScale\"},\"y_range\":{\"id\":\"a9d3bd7c-ace2-4796-9ac0-79c0da9a1f86\",\"type\":\"DataRange1d\"},\"y_scale\":{\"id\":\"dadf5394-468f-4a65-a6d9-0e4f76812f8c\",\"type\":\"LinearScale\"}},\"id\":\"d9d6ec08-c344-4b88-91b6-7b519508687d\",\"subtype\":\"Figure\",\"type\":\"Plot\"},{\"attributes\":{\"dimension\":1,\"plot\":{\"id\":\"d9d6ec08-c344-4b88-91b6-7b519508687d\",\"subtype\":\"Figure\",\"type\":\"Plot\"},\"ticker\":{\"id\":\"6b4fd771-01f4-4ba8-a9c7-99eef29b679f\",\"type\":\"BasicTicker\"}},\"id\":\"96720ae9-1ca7-434b-8ad3-aeed22014e31\",\"type\":\"Grid\"},{\"attributes\":{\"source\":{\"id\":\"eba9ecf2-2b89-4797-97be-4e3c6c3dfbb3\",\"type\":\"ColumnDataSource\"}},\"id\":\"50f293ff-122f-414e-bff7-541e582ead97\",\"type\":\"CDSView\"},{\"attributes\":{},\"id\":\"be6b7ff5-e35e-4805-b454-87c43d3ed543\",\"type\":\"PanTool\"},{\"attributes\":{\"plot\":null,\"text\":\"\"},\"id\":\"40f9526c-955f-43fd-9ea1-2ba29e4f322d\",\"type\":\"Title\"},{\"attributes\":{},\"id\":\"faa7c09c-89ac-4c0d-bf71-ef9bda446955\",\"type\":\"BasicTickFormatter\"},{\"attributes\":{\"callback\":null,\"column_names\":[\"x\",\"y\"],\"data\":{\"x\":[1,2,3,4,5],\"y\":[2,5,8,2,7]}},\"id\":\"eba9ecf2-2b89-4797-97be-4e3c6c3dfbb3\",\"type\":\"ColumnDataSource\"},{\"attributes\":{\"fill_alpha\":{\"value\":0.2},\"fill_color\":{\"value\":\"#1f77b4\"},\"line_color\":{\"value\":\"firebrick\"},\"line_dash\":[5,1],\"line_width\":{\"value\":2},\"size\":{\"units\":\"screen\",\"value\":50},\"x\":{\"field\":\"x\"},\"y\":{\"field\":\"y\"}},\"id\":\"fa7ca782-128f-4598-be25-46406aaaf7ca\",\"type\":\"Circle\"},{\"attributes\":{\"formatter\":{\"id\":\"34dbb9fa-5b5c-4779-9945-8b28b1d7bd25\",\"type\":\"BasicTickFormatter\"},\"plot\":{\"id\":\"d9d6ec08-c344-4b88-91b6-7b519508687d\",\"subtype\":\"Figure\",\"type\":\"Plot\"},\"ticker\":{\"id\":\"738500cb-6eaa-4879-bd55-eced0433461e\",\"type\":\"BasicTicker\"}},\"id\":\"43c6e525-5a80-4b30-becf-648301b871df\",\"type\":\"LinearAxis\"},{\"attributes\":{\"data_source\":{\"id\":\"eba9ecf2-2b89-4797-97be-4e3c6c3dfbb3\",\"type\":\"ColumnDataSource\"},\"glyph\":{\"id\":\"fa7ca782-128f-4598-be25-46406aaaf7ca\",\"type\":\"Circle\"},\"hover_glyph\":null,\"muted_glyph\":null,\"nonselection_glyph\":{\"id\":\"92c3692a-53ef-4f64-9157-add6f77aaa54\",\"type\":\"Circle\"},\"selection_glyph\":null,\"view\":{\"id\":\"50f293ff-122f-414e-bff7-541e582ead97\",\"type\":\"CDSView\"}},\"id\":\"1a2b8ebc-b4fd-4be5-8146-788422f8840d\",\"type\":\"GlyphRenderer\"}],\"root_ids\":[\"d9d6ec08-c344-4b88-91b6-7b519508687d\"]},\"title\":\"Bokeh Application\",\"version\":\"0.12.13\"}};\n",
       "  var render_items = [{\"docid\":\"1bfca73e-6786-4e6a-92ff-af8ba2845e62\",\"elementid\":\"a496dd94-1afa-4569-a1e4-a9caeb0e231f\",\"modelid\":\"d9d6ec08-c344-4b88-91b6-7b519508687d\"}];\n",
       "  root.Bokeh.embed.embed_items_notebook(docs_json, render_items);\n",
       "\n",
       "  }\n",
       "  if (root.Bokeh !== undefined) {\n",
       "    embed_document(root);\n",
       "  } else {\n",
       "    var attempts = 0;\n",
       "    var timer = setInterval(function(root) {\n",
       "      if (root.Bokeh !== undefined) {\n",
       "        embed_document(root);\n",
       "        clearInterval(timer);\n",
       "      }\n",
       "      attempts++;\n",
       "      if (attempts > 100) {\n",
       "        console.log(\"Bokeh: ERROR: Unable to run BokehJS code because BokehJS library is missing\")\n",
       "        clearInterval(timer);\n",
       "      }\n",
       "    }, 10, root)\n",
       "  }\n",
       "})(window);"
      ],
      "application/vnd.bokehjs_exec.v0+json": ""
     },
     "metadata": {
      "application/vnd.bokehjs_exec.v0+json": {
       "id": "d9d6ec08-c344-4b88-91b6-7b519508687d"
      }
     },
     "output_type": "display_data"
    }
   ],
   "source": [
    "p = figure(plot_width=400, plot_height=400)\n",
    "\n",
    "# keep a reference to the returned GlyphRenderer\n",
    "r = p.circle([1,2,3,4,5], [2,5,8,2,7])\n",
    "\n",
    "r.glyph.size = 50\n",
    "r.glyph.fill_alpha = 0.2\n",
    "r.glyph.line_color = \"firebrick\"\n",
    "r.glyph.line_dash = [5, 1]\n",
    "r.glyph.line_width = 2\n",
    "\n",
    "show(p)"
   ]
  },
  {
   "cell_type": "markdown",
   "metadata": {},
   "source": [
    "### Selection and non-selection visuals\n",
    "\n",
    "You can also control how glyphs look when there are selections involved. The set of \"selected\" points is displayed according to the optional `.selection_glyph` property of a `GlyphRenderer`:\n",
    "```python\n",
    "r.selection_glyph = Circle(fill_alpha=1, fill_color=\"firebrick\", line_color=None) \n",
    "```\n",
    "When there is a non-empty selection, the set of \"unselected: points is displayed according to the optional  `.nonselection_glyph` property of a `GlyphRenderer`:\n",
    "```python\n",
    "r.nonselection_glyph = Circle(fill_alpha=0.2, fill_color=\"grey\", line_color=None) \n",
    "```\n",
    "\n",
    "When using the `bokeh.plotting` interface, it is easier to pass these visual properties to the glyph methods as shown below. The glyph method will create the selection or nonselection glyphs and attach them to the renderer for you. "
   ]
  },
  {
   "cell_type": "code",
   "execution_count": 6,
   "metadata": {},
   "outputs": [
    {
     "data": {
      "text/html": [
       "\n",
       "<div class=\"bk-root\">\n",
       "    <div class=\"bk-plotdiv\" id=\"6644a20d-f154-44f1-b746-9b9f854d63ff\"></div>\n",
       "</div>"
      ]
     },
     "metadata": {},
     "output_type": "display_data"
    },
    {
     "data": {
      "application/javascript": [
       "(function(root) {\n",
       "  function embed_document(root) {\n",
       "    \n",
       "  var docs_json = {\"9607ac42-0c8c-47cf-88c6-ce2fdc1e0bb4\":{\"roots\":{\"references\":[{\"attributes\":{\"callback\":null},\"id\":\"550f8ecc-319a-4da9-9b3e-5d1bc95d260a\",\"type\":\"DataRange1d\"},{\"attributes\":{\"fill_color\":{\"value\":\"firebrick\"},\"line_color\":{\"value\":\"firebrick\"},\"size\":{\"units\":\"screen\",\"value\":50},\"x\":{\"field\":\"x\"},\"y\":{\"field\":\"y\"}},\"id\":\"afbd1bdd-36a1-4409-92fc-35e38b92d669\",\"type\":\"Circle\"},{\"attributes\":{},\"id\":\"38c506f3-4b92-49ac-ab9c-1ab8198b08d3\",\"type\":\"LinearScale\"},{\"attributes\":{\"source\":{\"id\":\"5a2b8114-8fe3-498d-80d1-5663ff7c74d0\",\"type\":\"ColumnDataSource\"}},\"id\":\"5453013d-d6db-4586-b81b-abc364b24d85\",\"type\":\"CDSView\"},{\"attributes\":{\"below\":[{\"id\":\"ce6ea481-c597-462b-bd74-db8f68c37b3e\",\"type\":\"LinearAxis\"}],\"left\":[{\"id\":\"76564f7e-51e4-4a63-bded-e3daa6c44f77\",\"type\":\"LinearAxis\"}],\"plot_height\":400,\"plot_width\":400,\"renderers\":[{\"id\":\"ce6ea481-c597-462b-bd74-db8f68c37b3e\",\"type\":\"LinearAxis\"},{\"id\":\"bd9b4864-28ed-46c1-a264-db7ff76ce013\",\"type\":\"Grid\"},{\"id\":\"76564f7e-51e4-4a63-bded-e3daa6c44f77\",\"type\":\"LinearAxis\"},{\"id\":\"c873e561-5a7c-4581-b5bd-69f4c999fb9e\",\"type\":\"Grid\"},{\"id\":\"e34ae2f8-ce08-4fb7-a748-9c3b7dfd4bde\",\"type\":\"GlyphRenderer\"}],\"title\":{\"id\":\"bd0648e1-3b4e-42af-ae60-cb99042e9883\",\"type\":\"Title\"},\"toolbar\":{\"id\":\"dcfd5b0a-2111-47b1-904c-ce4aba7f8956\",\"type\":\"Toolbar\"},\"x_range\":{\"id\":\"550f8ecc-319a-4da9-9b3e-5d1bc95d260a\",\"type\":\"DataRange1d\"},\"x_scale\":{\"id\":\"f8d375bb-a141-4e11-a4a3-29b86d748ffe\",\"type\":\"LinearScale\"},\"y_range\":{\"id\":\"5f8d8b9c-e5c3-4dcd-bbf0-b271b0d8e2b9\",\"type\":\"DataRange1d\"},\"y_scale\":{\"id\":\"38c506f3-4b92-49ac-ab9c-1ab8198b08d3\",\"type\":\"LinearScale\"}},\"id\":\"99a99fb2-390e-4299-b3fa-34e5a195f02e\",\"subtype\":\"Figure\",\"type\":\"Plot\"},{\"attributes\":{\"data_source\":{\"id\":\"5a2b8114-8fe3-498d-80d1-5663ff7c74d0\",\"type\":\"ColumnDataSource\"},\"glyph\":{\"id\":\"3a75647c-83f7-4230-a04d-99e99db2a93b\",\"type\":\"Circle\"},\"hover_glyph\":null,\"muted_glyph\":null,\"nonselection_glyph\":{\"id\":\"01821930-d5b3-4c52-8c12-213bb5a58b22\",\"type\":\"Circle\"},\"selection_glyph\":{\"id\":\"afbd1bdd-36a1-4409-92fc-35e38b92d669\",\"type\":\"Circle\"},\"view\":{\"id\":\"5453013d-d6db-4586-b81b-abc364b24d85\",\"type\":\"CDSView\"}},\"id\":\"e34ae2f8-ce08-4fb7-a748-9c3b7dfd4bde\",\"type\":\"GlyphRenderer\"},{\"attributes\":{\"callback\":null,\"column_names\":[\"x\",\"y\"],\"data\":{\"x\":[1,2,3,4,5],\"y\":[2,5,8,2,7]}},\"id\":\"5a2b8114-8fe3-498d-80d1-5663ff7c74d0\",\"type\":\"ColumnDataSource\"},{\"attributes\":{\"plot\":null,\"text\":\"Select a circle\"},\"id\":\"bd0648e1-3b4e-42af-ae60-cb99042e9883\",\"type\":\"Title\"},{\"attributes\":{},\"id\":\"bcf7d58e-4f36-4b6e-87ad-5906c489f2bc\",\"type\":\"BasicTicker\"},{\"attributes\":{\"callback\":null},\"id\":\"5f8d8b9c-e5c3-4dcd-bbf0-b271b0d8e2b9\",\"type\":\"DataRange1d\"},{\"attributes\":{},\"id\":\"e09f8847-12a6-4a54-9264-50bbf99550d8\",\"type\":\"BasicTicker\"},{\"attributes\":{},\"id\":\"21d026f0-1885-4082-9437-201658d17bc5\",\"type\":\"BasicTickFormatter\"},{\"attributes\":{},\"id\":\"f8d375bb-a141-4e11-a4a3-29b86d748ffe\",\"type\":\"LinearScale\"},{\"attributes\":{},\"id\":\"33a41469-539d-4d3b-b858-21708120d042\",\"type\":\"BasicTickFormatter\"},{\"attributes\":{\"formatter\":{\"id\":\"33a41469-539d-4d3b-b858-21708120d042\",\"type\":\"BasicTickFormatter\"},\"plot\":{\"id\":\"99a99fb2-390e-4299-b3fa-34e5a195f02e\",\"subtype\":\"Figure\",\"type\":\"Plot\"},\"ticker\":{\"id\":\"e09f8847-12a6-4a54-9264-50bbf99550d8\",\"type\":\"BasicTicker\"}},\"id\":\"76564f7e-51e4-4a63-bded-e3daa6c44f77\",\"type\":\"LinearAxis\"},{\"attributes\":{\"dimension\":1,\"plot\":{\"id\":\"99a99fb2-390e-4299-b3fa-34e5a195f02e\",\"subtype\":\"Figure\",\"type\":\"Plot\"},\"ticker\":{\"id\":\"e09f8847-12a6-4a54-9264-50bbf99550d8\",\"type\":\"BasicTicker\"}},\"id\":\"c873e561-5a7c-4581-b5bd-69f4c999fb9e\",\"type\":\"Grid\"},{\"attributes\":{\"callback\":null},\"id\":\"2ca318ef-ad4a-4a7a-8642-7c25e10c08bf\",\"type\":\"TapTool\"},{\"attributes\":{\"active_drag\":\"auto\",\"active_inspect\":\"auto\",\"active_scroll\":\"auto\",\"active_tap\":\"auto\",\"tools\":[{\"id\":\"2ca318ef-ad4a-4a7a-8642-7c25e10c08bf\",\"type\":\"TapTool\"}]},\"id\":\"dcfd5b0a-2111-47b1-904c-ce4aba7f8956\",\"type\":\"Toolbar\"},{\"attributes\":{\"formatter\":{\"id\":\"21d026f0-1885-4082-9437-201658d17bc5\",\"type\":\"BasicTickFormatter\"},\"plot\":{\"id\":\"99a99fb2-390e-4299-b3fa-34e5a195f02e\",\"subtype\":\"Figure\",\"type\":\"Plot\"},\"ticker\":{\"id\":\"bcf7d58e-4f36-4b6e-87ad-5906c489f2bc\",\"type\":\"BasicTicker\"}},\"id\":\"ce6ea481-c597-462b-bd74-db8f68c37b3e\",\"type\":\"LinearAxis\"},{\"attributes\":{\"fill_alpha\":{\"value\":0.2},\"fill_color\":{\"value\":\"grey\"},\"line_color\":{\"value\":\"firebrick\"},\"size\":{\"units\":\"screen\",\"value\":50},\"x\":{\"field\":\"x\"},\"y\":{\"field\":\"y\"}},\"id\":\"01821930-d5b3-4c52-8c12-213bb5a58b22\",\"type\":\"Circle\"},{\"attributes\":{\"plot\":{\"id\":\"99a99fb2-390e-4299-b3fa-34e5a195f02e\",\"subtype\":\"Figure\",\"type\":\"Plot\"},\"ticker\":{\"id\":\"bcf7d58e-4f36-4b6e-87ad-5906c489f2bc\",\"type\":\"BasicTicker\"}},\"id\":\"bd9b4864-28ed-46c1-a264-db7ff76ce013\",\"type\":\"Grid\"},{\"attributes\":{\"fill_color\":{\"value\":\"#1f77b4\"},\"line_color\":{\"value\":\"#1f77b4\"},\"size\":{\"units\":\"screen\",\"value\":50},\"x\":{\"field\":\"x\"},\"y\":{\"field\":\"y\"}},\"id\":\"3a75647c-83f7-4230-a04d-99e99db2a93b\",\"type\":\"Circle\"}],\"root_ids\":[\"99a99fb2-390e-4299-b3fa-34e5a195f02e\"]},\"title\":\"Bokeh Application\",\"version\":\"0.12.13\"}};\n",
       "  var render_items = [{\"docid\":\"9607ac42-0c8c-47cf-88c6-ce2fdc1e0bb4\",\"elementid\":\"6644a20d-f154-44f1-b746-9b9f854d63ff\",\"modelid\":\"99a99fb2-390e-4299-b3fa-34e5a195f02e\"}];\n",
       "  root.Bokeh.embed.embed_items_notebook(docs_json, render_items);\n",
       "\n",
       "  }\n",
       "  if (root.Bokeh !== undefined) {\n",
       "    embed_document(root);\n",
       "  } else {\n",
       "    var attempts = 0;\n",
       "    var timer = setInterval(function(root) {\n",
       "      if (root.Bokeh !== undefined) {\n",
       "        embed_document(root);\n",
       "        clearInterval(timer);\n",
       "      }\n",
       "      attempts++;\n",
       "      if (attempts > 100) {\n",
       "        console.log(\"Bokeh: ERROR: Unable to run BokehJS code because BokehJS library is missing\")\n",
       "        clearInterval(timer);\n",
       "      }\n",
       "    }, 10, root)\n",
       "  }\n",
       "})(window);"
      ],
      "application/vnd.bokehjs_exec.v0+json": ""
     },
     "metadata": {
      "application/vnd.bokehjs_exec.v0+json": {
       "id": "99a99fb2-390e-4299-b3fa-34e5a195f02e"
      }
     },
     "output_type": "display_data"
    }
   ],
   "source": [
    "p = figure(plot_width=400, plot_height=400, tools=\"tap\", title=\"Select a circle\")\n",
    "renderer = p.circle([1, 2, 3, 4, 5], [2, 5, 8, 2, 7], size=50,\n",
    "\n",
    "                    # set visual properties for selected glyphs\n",
    "                    selection_color=\"firebrick\",\n",
    "\n",
    "                    # set visual properties for non-selected glyphs\n",
    "                    nonselection_fill_alpha=0.2,\n",
    "                    nonselection_fill_color=\"grey\",\n",
    "                    nonselection_line_color=\"firebrick\",\n",
    "                    nonselection_line_alpha=1.0)\n",
    "\n",
    "show(p)"
   ]
  },
  {
   "cell_type": "markdown",
   "metadata": {},
   "source": [
    "It is also possible to specify the visual appearance of glyphs when they are \"inspected\", e.g. by a hover tool. This is accomplished by setting an optional `hover_glyph` on the glyph renderer:\n",
    "```python\n",
    "r.hover_glyph = Circle(fill_alpha=1, fill_color=\"firebrick\", line_color=None) \n",
    "```\n",
    "Or if using `bokeh.plotting` glyph methods, by passing `hover_fill_alpha`, etc. to the glyph method. Lets look at an example that works together with a `HoverTool` configured for \"hline\" hit-testing."
   ]
  },
  {
   "cell_type": "code",
   "execution_count": 7,
   "metadata": {},
   "outputs": [
    {
     "data": {
      "text/html": [
       "\n",
       "<div class=\"bk-root\">\n",
       "    <div class=\"bk-plotdiv\" id=\"1423ac31-cb4f-4587-9183-63dd3b628cb0\"></div>\n",
       "</div>"
      ]
     },
     "metadata": {},
     "output_type": "display_data"
    },
    {
     "data": {
      "application/javascript": [
       "(function(root) {\n",
       "  function embed_document(root) {\n",
       "    \n",
       "  var docs_json = {\"f9008ffe-9221-474a-83aa-6ce182be92b0\":{\"roots\":{\"references\":[{\"attributes\":{\"days\":[1,2,3,4,5,6,7,8,9,10,11,12,13,14,15,16,17,18,19,20,21,22,23,24,25,26,27,28,29,30,31]},\"id\":\"1bde297a-0d0e-4ed8-abd1-5899fd3b6f31\",\"type\":\"DaysTicker\"},{\"attributes\":{\"base\":60,\"mantissas\":[1,2,5,10,15,20,30],\"max_interval\":1800000.0,\"min_interval\":1000.0,\"num_minor_ticks\":0},\"id\":\"fc0f298a-16dd-49b2-907e-d5e5b3aa1b42\",\"type\":\"AdaptiveTicker\"},{\"attributes\":{\"callback\":null,\"mode\":\"hline\",\"renderers\":[{\"id\":\"4c2a1493-183e-4325-9af6-92d63be32031\",\"type\":\"GlyphRenderer\"}],\"tooltips\":null},\"id\":\"5f69428d-150a-414b-8b34-97bdf182316c\",\"type\":\"HoverTool\"},{\"attributes\":{\"days\":[1,8,15,22]},\"id\":\"12555861-171f-4606-9e8c-46adbcdc0ba6\",\"type\":\"DaysTicker\"},{\"attributes\":{\"days\":[1,4,7,10,13,16,19,22,25,28]},\"id\":\"688eea7b-7492-43b1-8356-852a77d0381f\",\"type\":\"DaysTicker\"},{\"attributes\":{\"days\":[1,15]},\"id\":\"c04cbaad-8bee-4285-b9c9-8ebf98566a59\",\"type\":\"DaysTicker\"},{\"attributes\":{\"months\":[0,1,2,3,4,5,6,7,8,9,10,11]},\"id\":\"ad877d60-62a9-4d2b-9974-2933abc02658\",\"type\":\"MonthsTicker\"},{\"attributes\":{\"line_color\":\"gray\",\"line_dash\":[4,4],\"x\":{\"field\":\"x\"},\"y\":{\"field\":\"y\"}},\"id\":\"1b833565-bab8-4f81-9004-d509815a8c23\",\"type\":\"Line\"},{\"attributes\":{\"months\":[0,2,4,6,8,10]},\"id\":\"eabae621-491f-4abc-b9f6-dd1651714f89\",\"type\":\"MonthsTicker\"},{\"attributes\":{\"active_drag\":\"auto\",\"active_inspect\":\"auto\",\"active_scroll\":\"auto\",\"active_tap\":\"auto\",\"tools\":[{\"id\":\"6730b3d5-1059-4510-8493-44280c296197\",\"type\":\"PanTool\"},{\"id\":\"724bfba5-977d-40bd-867c-8d82f2a9fd89\",\"type\":\"WheelZoomTool\"},{\"id\":\"2d0054ff-9404-4760-93ae-0eb145a0c813\",\"type\":\"BoxZoomTool\"},{\"id\":\"a602590d-ff59-4625-a4ad-b459e4d6ecca\",\"type\":\"SaveTool\"},{\"id\":\"bcdfc8d9-d622-4c30-8082-484dd0a6427b\",\"type\":\"ResetTool\"},{\"id\":\"6da99c93-76b6-4166-8608-ad963d8a4b2b\",\"type\":\"HelpTool\"},{\"id\":\"5f69428d-150a-414b-8b34-97bdf182316c\",\"type\":\"HoverTool\"}]},\"id\":\"a0c71050-b12d-4963-a1b1-596ee512df1a\",\"type\":\"Toolbar\"},{\"attributes\":{\"months\":[0,4,8]},\"id\":\"f6ea0afb-8992-4343-ae3c-c05a178bdcbf\",\"type\":\"MonthsTicker\"},{\"attributes\":{\"callback\":null},\"id\":\"5dac8d99-1ea1-4a7c-9c49-310b1dd6bd6b\",\"type\":\"DataRange1d\"},{\"attributes\":{\"months\":[0,6]},\"id\":\"5b5d5327-307b-4284-bcd1-36f163a35e17\",\"type\":\"MonthsTicker\"},{\"attributes\":{\"plot\":null,\"text\":\"Hover over points\"},\"id\":\"79721337-e8bf-4456-8955-cdb224eedd28\",\"type\":\"Title\"},{\"attributes\":{},\"id\":\"33be9362-012d-4f2d-88b1-74df668b8801\",\"type\":\"YearsTicker\"},{\"attributes\":{\"line_alpha\":0.1,\"line_color\":\"#1f77b4\",\"line_dash\":[4,4],\"x\":{\"field\":\"x\"},\"y\":{\"field\":\"y\"}},\"id\":\"b4639105-e85b-444b-995e-83b800cfa45f\",\"type\":\"Line\"},{\"attributes\":{},\"id\":\"898ff2f7-040a-4351-b90b-53b24be1a055\",\"type\":\"LinearScale\"},{\"attributes\":{\"fill_alpha\":{\"value\":0.05},\"fill_color\":{\"value\":\"grey\"},\"line_color\":{\"value\":null},\"size\":{\"units\":\"screen\",\"value\":20},\"x\":{\"field\":\"x\"},\"y\":{\"field\":\"y\"}},\"id\":\"77986a8a-56be-4c33-9b11-84eff6012196\",\"type\":\"Circle\"},{\"attributes\":{\"callback\":null},\"id\":\"184f40e1-2eb7-4975-aa8f-01e96bb562ef\",\"type\":\"DataRange1d\"},{\"attributes\":{\"fill_alpha\":{\"value\":0.3},\"fill_color\":{\"value\":\"firebrick\"},\"line_alpha\":{\"value\":0.3},\"line_color\":{\"value\":\"white\"},\"size\":{\"units\":\"screen\",\"value\":20},\"x\":{\"field\":\"x\"},\"y\":{\"field\":\"y\"}},\"id\":\"14f04934-c83d-499d-ae9c-fcff4555bd63\",\"type\":\"Circle\"},{\"attributes\":{},\"id\":\"e5494396-2534-4b5b-ab58-f0a67fc1ceae\",\"type\":\"LinearScale\"},{\"attributes\":{\"data_source\":{\"id\":\"aa669460-5269-4dc7-ae28-bdf478732a06\",\"type\":\"ColumnDataSource\"},\"glyph\":{\"id\":\"77986a8a-56be-4c33-9b11-84eff6012196\",\"type\":\"Circle\"},\"hover_glyph\":{\"id\":\"14f04934-c83d-499d-ae9c-fcff4555bd63\",\"type\":\"Circle\"},\"muted_glyph\":null,\"nonselection_glyph\":{\"id\":\"d1b818a6-3f3c-42ff-9855-2eef6d1a5917\",\"type\":\"Circle\"},\"selection_glyph\":null,\"view\":{\"id\":\"0a70df2b-1250-4c27-b839-fd4a427c6563\",\"type\":\"CDSView\"}},\"id\":\"4c2a1493-183e-4325-9af6-92d63be32031\",\"type\":\"GlyphRenderer\"},{\"attributes\":{\"callback\":null,\"column_names\":[\"x\",\"y\"],\"data\":{\"x\":{\"__ndarray__\":\"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\",\"dtype\":\"float64\",\"shape\":[288]},\"y\":[143,147,150,152,152,152,154,155,142,140,138,134,131,130,128,127,126,126,126,126,127,129,131,132,134,136,136,136,136,135,134,132,130,130,130,129,128,127,125,124,123,123,122,121,120,118,115,112,111,111,110,110,109,108,107,107,107,108,107,105,105,105,105,104,103,102,99,97,96,94,94,93,93,92,91,92,94,95,96,97,99,102,104,112,112,112,111,110,107,104,105,105,103,99,96,94,95,102,114,128,144,160,173,185,196,205,209,214,219,226,234,241,248,255,260,265,268,270,272,271,271,268,265,261,256,253,250,246,244,241,237,233,229,225,222,204,200,197,193,190,186,182,179,175,171,168,164,158,154,151,148,145,141,133,139,152,173,196,217,233,244,249,250,253,256,260,263,265,265,264,260,254,246,234,217,200,188,181,175,169,164,159,154,147,138,132,129,127,123,117,111,106,104,103,100,94,88,83,78,75,73,71,69,68,67,67,68,70,71,71,70,69,68,67,67,67,66,67,69,71,74,76,78,80,80,80,80,80,80,82,84,87,90,92,87,87,86,86,86,86,87,87,87,85,83,82,83,87,95,107,118,130,141,149,172,179,187,201,214,221,225,230,232,230,223,216,208,199,191,185,181,177,176,177,176,173,171,169,163,154,152,153,154,154,153,151,150,150]}},\"id\":\"8a62affe-be2c-454a-b9b7-38181a56b1c3\",\"type\":\"ColumnDataSource\"},{\"attributes\":{\"source\":{\"id\":\"8a62affe-be2c-454a-b9b7-38181a56b1c3\",\"type\":\"ColumnDataSource\"}},\"id\":\"d8fecaf1-9086-4d45-a0a0-a16b57c14b43\",\"type\":\"CDSView\"},{\"attributes\":{\"num_minor_ticks\":5,\"tickers\":[{\"id\":\"f0291fa5-1df3-4100-8d3d-2d0832dbba77\",\"type\":\"AdaptiveTicker\"},{\"id\":\"fc0f298a-16dd-49b2-907e-d5e5b3aa1b42\",\"type\":\"AdaptiveTicker\"},{\"id\":\"4da52e74-479f-4108-a2a0-cc4c1eb7401d\",\"type\":\"AdaptiveTicker\"},{\"id\":\"1bde297a-0d0e-4ed8-abd1-5899fd3b6f31\",\"type\":\"DaysTicker\"},{\"id\":\"688eea7b-7492-43b1-8356-852a77d0381f\",\"type\":\"DaysTicker\"},{\"id\":\"12555861-171f-4606-9e8c-46adbcdc0ba6\",\"type\":\"DaysTicker\"},{\"id\":\"c04cbaad-8bee-4285-b9c9-8ebf98566a59\",\"type\":\"DaysTicker\"},{\"id\":\"ad877d60-62a9-4d2b-9974-2933abc02658\",\"type\":\"MonthsTicker\"},{\"id\":\"eabae621-491f-4abc-b9f6-dd1651714f89\",\"type\":\"MonthsTicker\"},{\"id\":\"f6ea0afb-8992-4343-ae3c-c05a178bdcbf\",\"type\":\"MonthsTicker\"},{\"id\":\"5b5d5327-307b-4284-bcd1-36f163a35e17\",\"type\":\"MonthsTicker\"},{\"id\":\"33be9362-012d-4f2d-88b1-74df668b8801\",\"type\":\"YearsTicker\"}]},\"id\":\"88f1d0cc-1d46-4a3e-9efb-27e31920ebe2\",\"type\":\"DatetimeTicker\"},{\"attributes\":{\"source\":{\"id\":\"aa669460-5269-4dc7-ae28-bdf478732a06\",\"type\":\"ColumnDataSource\"}},\"id\":\"0a70df2b-1250-4c27-b839-fd4a427c6563\",\"type\":\"CDSView\"},{\"attributes\":{\"formatter\":{\"id\":\"576b67a1-5e46-42ac-9a56-9bb3cf068c1f\",\"type\":\"BasicTickFormatter\"},\"plot\":{\"id\":\"6e5c7744-6145-463a-b932-19ba4c25f438\",\"subtype\":\"Figure\",\"type\":\"Plot\"},\"ticker\":{\"id\":\"293e84c5-e6e1-42a9-93da-2359d9426b77\",\"type\":\"BasicTicker\"}},\"id\":\"0604cb10-c260-49b7-a030-8405720ceb3f\",\"type\":\"LinearAxis\"},{\"attributes\":{\"plot\":{\"id\":\"6e5c7744-6145-463a-b932-19ba4c25f438\",\"subtype\":\"Figure\",\"type\":\"Plot\"},\"ticker\":{\"id\":\"88f1d0cc-1d46-4a3e-9efb-27e31920ebe2\",\"type\":\"DatetimeTicker\"}},\"id\":\"0c5aabd1-d129-4a36-b01c-96bc3e269d0e\",\"type\":\"Grid\"},{\"attributes\":{\"formatter\":{\"id\":\"f193cf26-9b26-46be-bb7f-af84213d3444\",\"type\":\"DatetimeTickFormatter\"},\"plot\":{\"id\":\"6e5c7744-6145-463a-b932-19ba4c25f438\",\"subtype\":\"Figure\",\"type\":\"Plot\"},\"ticker\":{\"id\":\"88f1d0cc-1d46-4a3e-9efb-27e31920ebe2\",\"type\":\"DatetimeTicker\"}},\"id\":\"59bd0e19-f875-40d1-b7fc-faaab09829c0\",\"type\":\"DatetimeAxis\"},{\"attributes\":{},\"id\":\"293e84c5-e6e1-42a9-93da-2359d9426b77\",\"type\":\"BasicTicker\"},{\"attributes\":{\"dimension\":1,\"plot\":{\"id\":\"6e5c7744-6145-463a-b932-19ba4c25f438\",\"subtype\":\"Figure\",\"type\":\"Plot\"},\"ticker\":{\"id\":\"293e84c5-e6e1-42a9-93da-2359d9426b77\",\"type\":\"BasicTicker\"}},\"id\":\"cbfb6222-7c0f-4192-ba13-9243c58bbc7d\",\"type\":\"Grid\"},{\"attributes\":{\"data_source\":{\"id\":\"8a62affe-be2c-454a-b9b7-38181a56b1c3\",\"type\":\"ColumnDataSource\"},\"glyph\":{\"id\":\"1b833565-bab8-4f81-9004-d509815a8c23\",\"type\":\"Line\"},\"hover_glyph\":null,\"muted_glyph\":null,\"nonselection_glyph\":{\"id\":\"b4639105-e85b-444b-995e-83b800cfa45f\",\"type\":\"Line\"},\"selection_glyph\":null,\"view\":{\"id\":\"d8fecaf1-9086-4d45-a0a0-a16b57c14b43\",\"type\":\"CDSView\"}},\"id\":\"8afd3668-1619-4cd9-bb1a-0c76f6cce372\",\"type\":\"GlyphRenderer\"},{\"attributes\":{},\"id\":\"f193cf26-9b26-46be-bb7f-af84213d3444\",\"type\":\"DatetimeTickFormatter\"},{\"attributes\":{\"callback\":null,\"column_names\":[\"x\",\"y\"],\"data\":{\"x\":{\"__ndarray__\":\"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\",\"dtype\":\"float64\",\"shape\":[288]},\"y\":[143,147,150,152,152,152,154,155,142,140,138,134,131,130,128,127,126,126,126,126,127,129,131,132,134,136,136,136,136,135,134,132,130,130,130,129,128,127,125,124,123,123,122,121,120,118,115,112,111,111,110,110,109,108,107,107,107,108,107,105,105,105,105,104,103,102,99,97,96,94,94,93,93,92,91,92,94,95,96,97,99,102,104,112,112,112,111,110,107,104,105,105,103,99,96,94,95,102,114,128,144,160,173,185,196,205,209,214,219,226,234,241,248,255,260,265,268,270,272,271,271,268,265,261,256,253,250,246,244,241,237,233,229,225,222,204,200,197,193,190,186,182,179,175,171,168,164,158,154,151,148,145,141,133,139,152,173,196,217,233,244,249,250,253,256,260,263,265,265,264,260,254,246,234,217,200,188,181,175,169,164,159,154,147,138,132,129,127,123,117,111,106,104,103,100,94,88,83,78,75,73,71,69,68,67,67,68,70,71,71,70,69,68,67,67,67,66,67,69,71,74,76,78,80,80,80,80,80,80,82,84,87,90,92,87,87,86,86,86,86,87,87,87,85,83,82,83,87,95,107,118,130,141,149,172,179,187,201,214,221,225,230,232,230,223,216,208,199,191,185,181,177,176,177,176,173,171,169,163,154,152,153,154,154,153,151,150,150]}},\"id\":\"aa669460-5269-4dc7-ae28-bdf478732a06\",\"type\":\"ColumnDataSource\"},{\"attributes\":{\"bottom_units\":\"screen\",\"fill_alpha\":{\"value\":0.5},\"fill_color\":{\"value\":\"lightgrey\"},\"left_units\":\"screen\",\"level\":\"overlay\",\"line_alpha\":{\"value\":1.0},\"line_color\":{\"value\":\"black\"},\"line_dash\":[4,4],\"line_width\":{\"value\":2},\"plot\":null,\"render_mode\":\"css\",\"right_units\":\"screen\",\"top_units\":\"screen\"},\"id\":\"9260010e-e8a2-4ac4-912b-7b0156109aeb\",\"type\":\"BoxAnnotation\"},{\"attributes\":{},\"id\":\"6730b3d5-1059-4510-8493-44280c296197\",\"type\":\"PanTool\"},{\"attributes\":{\"mantissas\":[1,2,5],\"max_interval\":500.0,\"num_minor_ticks\":0},\"id\":\"f0291fa5-1df3-4100-8d3d-2d0832dbba77\",\"type\":\"AdaptiveTicker\"},{\"attributes\":{},\"id\":\"724bfba5-977d-40bd-867c-8d82f2a9fd89\",\"type\":\"WheelZoomTool\"},{\"attributes\":{\"overlay\":{\"id\":\"9260010e-e8a2-4ac4-912b-7b0156109aeb\",\"type\":\"BoxAnnotation\"}},\"id\":\"2d0054ff-9404-4760-93ae-0eb145a0c813\",\"type\":\"BoxZoomTool\"},{\"attributes\":{},\"id\":\"a602590d-ff59-4625-a4ad-b459e4d6ecca\",\"type\":\"SaveTool\"},{\"attributes\":{},\"id\":\"bcdfc8d9-d622-4c30-8082-484dd0a6427b\",\"type\":\"ResetTool\"},{\"attributes\":{},\"id\":\"6da99c93-76b6-4166-8608-ad963d8a4b2b\",\"type\":\"HelpTool\"},{\"attributes\":{\"fill_alpha\":{\"value\":0.1},\"fill_color\":{\"value\":\"#1f77b4\"},\"line_alpha\":{\"value\":0.1},\"line_color\":{\"value\":\"#1f77b4\"},\"size\":{\"units\":\"screen\",\"value\":20},\"x\":{\"field\":\"x\"},\"y\":{\"field\":\"y\"}},\"id\":\"d1b818a6-3f3c-42ff-9855-2eef6d1a5917\",\"type\":\"Circle\"},{\"attributes\":{},\"id\":\"576b67a1-5e46-42ac-9a56-9bb3cf068c1f\",\"type\":\"BasicTickFormatter\"},{\"attributes\":{\"base\":24,\"mantissas\":[1,2,4,6,8,12],\"max_interval\":43200000.0,\"min_interval\":3600000.0,\"num_minor_ticks\":0},\"id\":\"4da52e74-479f-4108-a2a0-cc4c1eb7401d\",\"type\":\"AdaptiveTicker\"},{\"attributes\":{\"below\":[{\"id\":\"59bd0e19-f875-40d1-b7fc-faaab09829c0\",\"type\":\"DatetimeAxis\"}],\"left\":[{\"id\":\"0604cb10-c260-49b7-a030-8405720ceb3f\",\"type\":\"LinearAxis\"}],\"plot_height\":300,\"renderers\":[{\"id\":\"59bd0e19-f875-40d1-b7fc-faaab09829c0\",\"type\":\"DatetimeAxis\"},{\"id\":\"0c5aabd1-d129-4a36-b01c-96bc3e269d0e\",\"type\":\"Grid\"},{\"id\":\"0604cb10-c260-49b7-a030-8405720ceb3f\",\"type\":\"LinearAxis\"},{\"id\":\"cbfb6222-7c0f-4192-ba13-9243c58bbc7d\",\"type\":\"Grid\"},{\"id\":\"9260010e-e8a2-4ac4-912b-7b0156109aeb\",\"type\":\"BoxAnnotation\"},{\"id\":\"8afd3668-1619-4cd9-bb1a-0c76f6cce372\",\"type\":\"GlyphRenderer\"},{\"id\":\"4c2a1493-183e-4325-9af6-92d63be32031\",\"type\":\"GlyphRenderer\"}],\"title\":{\"id\":\"79721337-e8bf-4456-8955-cdb224eedd28\",\"type\":\"Title\"},\"toolbar\":{\"id\":\"a0c71050-b12d-4963-a1b1-596ee512df1a\",\"type\":\"Toolbar\"},\"x_range\":{\"id\":\"5dac8d99-1ea1-4a7c-9c49-310b1dd6bd6b\",\"type\":\"DataRange1d\"},\"x_scale\":{\"id\":\"898ff2f7-040a-4351-b90b-53b24be1a055\",\"type\":\"LinearScale\"},\"y_range\":{\"id\":\"184f40e1-2eb7-4975-aa8f-01e96bb562ef\",\"type\":\"DataRange1d\"},\"y_scale\":{\"id\":\"e5494396-2534-4b5b-ab58-f0a67fc1ceae\",\"type\":\"LinearScale\"}},\"id\":\"6e5c7744-6145-463a-b932-19ba4c25f438\",\"subtype\":\"Figure\",\"type\":\"Plot\"}],\"root_ids\":[\"6e5c7744-6145-463a-b932-19ba4c25f438\"]},\"title\":\"Bokeh Application\",\"version\":\"0.12.13\"}};\n",
       "  var render_items = [{\"docid\":\"f9008ffe-9221-474a-83aa-6ce182be92b0\",\"elementid\":\"1423ac31-cb4f-4587-9183-63dd3b628cb0\",\"modelid\":\"6e5c7744-6145-463a-b932-19ba4c25f438\"}];\n",
       "  root.Bokeh.embed.embed_items_notebook(docs_json, render_items);\n",
       "\n",
       "  }\n",
       "  if (root.Bokeh !== undefined) {\n",
       "    embed_document(root);\n",
       "  } else {\n",
       "    var attempts = 0;\n",
       "    var timer = setInterval(function(root) {\n",
       "      if (root.Bokeh !== undefined) {\n",
       "        embed_document(root);\n",
       "        clearInterval(timer);\n",
       "      }\n",
       "      attempts++;\n",
       "      if (attempts > 100) {\n",
       "        console.log(\"Bokeh: ERROR: Unable to run BokehJS code because BokehJS library is missing\")\n",
       "        clearInterval(timer);\n",
       "      }\n",
       "    }, 10, root)\n",
       "  }\n",
       "})(window);"
      ],
      "application/vnd.bokehjs_exec.v0+json": ""
     },
     "metadata": {
      "application/vnd.bokehjs_exec.v0+json": {
       "id": "6e5c7744-6145-463a-b932-19ba4c25f438"
      }
     },
     "output_type": "display_data"
    }
   ],
   "source": [
    "import bokeh\n",
    "#bokeh.sampledata.download()\n",
    "from bokeh.models.tools import HoverTool\n",
    "from bokeh.sampledata.glucose import data\n",
    "\n",
    "\n",
    "subset = data.loc['2010-10-06']\n",
    "\n",
    "x, y = subset.index.to_series(), subset['glucose']\n",
    "\n",
    "# Basic plot setup\n",
    "p = figure(width=600, height=300, x_axis_type=\"datetime\", title='Hover over points')\n",
    "\n",
    "p.line(x, y, line_dash=\"4 4\", line_width=1, color='gray')\n",
    "\n",
    "cr = p.circle(x, y, size=20,\n",
    "              fill_color=\"grey\", hover_fill_color=\"firebrick\",\n",
    "              fill_alpha=0.05, hover_alpha=0.3,\n",
    "              line_color=None, hover_line_color=\"white\")\n",
    "\n",
    "p.add_tools(HoverTool(tooltips=None, renderers=[cr], mode='hline'))\n",
    "\n",
    "show(p)"
   ]
  },
  {
   "cell_type": "code",
   "execution_count": 8,
   "metadata": {},
   "outputs": [],
   "source": [
    "# EXERCISE: experiment with standard, selected, hover glyph visual properties\n"
   ]
  },
  {
   "cell_type": "markdown",
   "metadata": {},
   "source": [
    "# Axes\n",
    "\n",
    "[Axes](http://bokeh.pydata.org/en/latest/docs/user_guide/styling.html#axes)\n",
    "\n",
    "To style axes, you first must get ahold of `Axis` objects. The simplest way is to use some convenience methods on `Plot`: [axis](http://bokeh.pydata.org/en/latest/docs/reference/plotting.html#bokeh.plotting.Figure.axis), [xaxis](http://bokeh.pydata.org/en/latest/docs/reference/plotting.html#bokeh.plotting.Figure.xaxis), and [yaxis](http://bokeh.pydata.org/en/latest/docs/reference/plotting.html#bokeh.plotting.Figure.yaxis). These methods return lists of axis objects:\n",
    "\n",
    "```\n",
    ">>> p.xaxis\n",
    "[<bokeh.models.axes.LinearAxis at 0x106fa2390>]\n",
    "```\n",
    "However, you can set properties on all the elements of the list as if it was a single object:\n",
    "```\n",
    "p.xaxis.axis_label = \"Temperature\"\n",
    "p.axis.major_label_text_color = \"orange\"\n",
    "```\n",
    "These are referred to as \"splattable\" lists, and tab completion works on them as well. \n"
   ]
  },
  {
   "cell_type": "code",
   "execution_count": 9,
   "metadata": {},
   "outputs": [],
   "source": [
    "# EXERCISE Try out tab completion. Type p.xaxis.<press tab key> to see a list of attributes that can be set.\n",
    "\n"
   ]
  },
  {
   "cell_type": "markdown",
   "metadata": {},
   "source": [
    "* **axis** \n",
    " - [line properties](http://bokeh.pydata.org/en/latest/docs/user_guide/styling.html#line-properties)\n",
    "* **axis_label** \n",
    " - [text properties](http://bokeh.pydata.org/en/latest/docs/user_guide/styling.html#text-properties)\n",
    " - ``axis_label_standoff``\n",
    "* **major_label** \n",
    " - [text properties](http://bokeh.pydata.org/en/latest/docs/user_guide/styling.html#text-properties)\n",
    " - ``orientation``\n",
    "* **major_tick** \n",
    " - [line_properties](http://bokeh.pydata.org/en/latest/docs/user_guide/styling.html#line-properties)\n",
    " - ``major_tick_in`` \n",
    " - ``major_tick_out``\n",
    "* **minor_tick** \n",
    " - [line properties](http://bokeh.pydata.org/en/latest/docs/user_guide/styling.html#line-properties)\n",
    " - ``minor_tick_in``\n",
    " - ``minor_tick_out``\n",
    "\n",
    "As a simple first example, let's change the orientation of the major tick labels on both axes of a plot:"
   ]
  },
  {
   "cell_type": "code",
   "execution_count": 10,
   "metadata": {},
   "outputs": [
    {
     "data": {
      "text/html": [
       "\n",
       "<div class=\"bk-root\">\n",
       "    <div class=\"bk-plotdiv\" id=\"95dad72a-1010-407e-a30b-f31a419bd006\"></div>\n",
       "</div>"
      ]
     },
     "metadata": {},
     "output_type": "display_data"
    },
    {
     "data": {
      "application/javascript": [
       "(function(root) {\n",
       "  function embed_document(root) {\n",
       "    \n",
       "  var docs_json = {\"56c5ddb3-c3c4-47e4-bbd6-7130834572e3\":{\"roots\":{\"references\":[{\"attributes\":{},\"id\":\"6c2c0149-72d8-4faf-816c-5e6891e740d1\",\"type\":\"HelpTool\"},{\"attributes\":{\"below\":[{\"id\":\"ec3b35a4-8036-4309-808a-76ffc779d893\",\"type\":\"LinearAxis\"}],\"left\":[{\"id\":\"e389cbad-de9a-4add-a30d-a11a92b9e070\",\"type\":\"LinearAxis\"}],\"plot_height\":400,\"plot_width\":400,\"renderers\":[{\"id\":\"ec3b35a4-8036-4309-808a-76ffc779d893\",\"type\":\"LinearAxis\"},{\"id\":\"721d73f9-8dc2-45f4-83ac-80ed5729b3f3\",\"type\":\"Grid\"},{\"id\":\"e389cbad-de9a-4add-a30d-a11a92b9e070\",\"type\":\"LinearAxis\"},{\"id\":\"06af73ca-310c-421b-83f6-e04f428760a7\",\"type\":\"Grid\"},{\"id\":\"49c120c8-5bf2-4fd2-88e3-f96e0bd98d5e\",\"type\":\"BoxAnnotation\"},{\"id\":\"7e305a8f-f876-4cdb-8759-5a089aaae6d3\",\"type\":\"GlyphRenderer\"}],\"title\":{\"id\":\"73e95748-7710-49ae-b0ef-fe3447cf6477\",\"type\":\"Title\"},\"toolbar\":{\"id\":\"2f42fca1-62a7-474d-9d72-62ea5f23744a\",\"type\":\"Toolbar\"},\"x_range\":{\"id\":\"71c64ed5-4ff1-493e-b43b-c2c5e250d1f5\",\"type\":\"DataRange1d\"},\"x_scale\":{\"id\":\"8b28f276-cf8a-4759-94ae-cae6469abc05\",\"type\":\"LinearScale\"},\"y_range\":{\"id\":\"c409d258-1df0-4d41-9ffc-18291ecf9ee1\",\"type\":\"DataRange1d\"},\"y_scale\":{\"id\":\"5251e70a-e48c-486c-bb59-7102fc252415\",\"type\":\"LinearScale\"}},\"id\":\"6bad7b1e-d724-499c-8b67-a4278a6b154b\",\"subtype\":\"Figure\",\"type\":\"Plot\"},{\"attributes\":{\"formatter\":{\"id\":\"cb4a81c7-9738-4081-8dcc-e457755ef3d7\",\"type\":\"BasicTickFormatter\"},\"major_label_orientation\":0.7853981633974483,\"plot\":{\"id\":\"6bad7b1e-d724-499c-8b67-a4278a6b154b\",\"subtype\":\"Figure\",\"type\":\"Plot\"},\"ticker\":{\"id\":\"5bc84d3d-bc85-49ec-8680-96efbefa6d95\",\"type\":\"BasicTicker\"}},\"id\":\"ec3b35a4-8036-4309-808a-76ffc779d893\",\"type\":\"LinearAxis\"},{\"attributes\":{},\"id\":\"6d6ae6b2-2b16-4ee9-8709-3a2d82dbc715\",\"type\":\"SaveTool\"},{\"attributes\":{},\"id\":\"6d3367c2-eef3-4500-80b8-5b652290bed0\",\"type\":\"BasicTicker\"},{\"attributes\":{\"formatter\":{\"id\":\"2a01ee2d-1ece-4960-a1f2-23f2ca8ee2be\",\"type\":\"BasicTickFormatter\"},\"major_label_orientation\":\"vertical\",\"plot\":{\"id\":\"6bad7b1e-d724-499c-8b67-a4278a6b154b\",\"subtype\":\"Figure\",\"type\":\"Plot\"},\"ticker\":{\"id\":\"6d3367c2-eef3-4500-80b8-5b652290bed0\",\"type\":\"BasicTicker\"}},\"id\":\"e389cbad-de9a-4add-a30d-a11a92b9e070\",\"type\":\"LinearAxis\"},{\"attributes\":{\"plot\":{\"id\":\"6bad7b1e-d724-499c-8b67-a4278a6b154b\",\"subtype\":\"Figure\",\"type\":\"Plot\"},\"ticker\":{\"id\":\"5bc84d3d-bc85-49ec-8680-96efbefa6d95\",\"type\":\"BasicTicker\"}},\"id\":\"721d73f9-8dc2-45f4-83ac-80ed5729b3f3\",\"type\":\"Grid\"},{\"attributes\":{},\"id\":\"a92f4349-a046-4c7c-8e37-30403db7bcfb\",\"type\":\"ResetTool\"},{\"attributes\":{\"overlay\":{\"id\":\"49c120c8-5bf2-4fd2-88e3-f96e0bd98d5e\",\"type\":\"BoxAnnotation\"}},\"id\":\"b9665af7-27bb-4bd2-8e9e-b29d9f0149d8\",\"type\":\"BoxZoomTool\"},{\"attributes\":{\"plot\":null,\"text\":\"\"},\"id\":\"73e95748-7710-49ae-b0ef-fe3447cf6477\",\"type\":\"Title\"},{\"attributes\":{\"active_drag\":\"auto\",\"active_inspect\":\"auto\",\"active_scroll\":\"auto\",\"active_tap\":\"auto\",\"tools\":[{\"id\":\"ab38a2ed-4f01-402f-bb09-a5d2235775b1\",\"type\":\"PanTool\"},{\"id\":\"6222e00d-39fa-4887-9345-9b5416afc546\",\"type\":\"WheelZoomTool\"},{\"id\":\"b9665af7-27bb-4bd2-8e9e-b29d9f0149d8\",\"type\":\"BoxZoomTool\"},{\"id\":\"6d6ae6b2-2b16-4ee9-8709-3a2d82dbc715\",\"type\":\"SaveTool\"},{\"id\":\"a92f4349-a046-4c7c-8e37-30403db7bcfb\",\"type\":\"ResetTool\"},{\"id\":\"6c2c0149-72d8-4faf-816c-5e6891e740d1\",\"type\":\"HelpTool\"}]},\"id\":\"2f42fca1-62a7-474d-9d72-62ea5f23744a\",\"type\":\"Toolbar\"},{\"attributes\":{\"fill_alpha\":{\"value\":0.1},\"fill_color\":{\"value\":\"#1f77b4\"},\"line_alpha\":{\"value\":0.1},\"line_color\":{\"value\":\"#1f77b4\"},\"line_width\":{\"value\":2},\"size\":{\"units\":\"screen\",\"value\":10},\"x\":{\"field\":\"x\"},\"y\":{\"field\":\"y\"}},\"id\":\"7164cb85-121f-4358-b754-39b2fe50331e\",\"type\":\"X\"},{\"attributes\":{},\"id\":\"cb4a81c7-9738-4081-8dcc-e457755ef3d7\",\"type\":\"BasicTickFormatter\"},{\"attributes\":{\"callback\":null},\"id\":\"71c64ed5-4ff1-493e-b43b-c2c5e250d1f5\",\"type\":\"DataRange1d\"},{\"attributes\":{\"source\":{\"id\":\"7ff08005-54e4-4787-af31-e93e247162e1\",\"type\":\"ColumnDataSource\"}},\"id\":\"b1106bfc-663b-4b81-84e2-e15cf74c53b0\",\"type\":\"CDSView\"},{\"attributes\":{},\"id\":\"2a01ee2d-1ece-4960-a1f2-23f2ca8ee2be\",\"type\":\"BasicTickFormatter\"},{\"attributes\":{\"fill_color\":{\"value\":\"#1f77b4\"},\"line_color\":{\"value\":\"#1f77b4\"},\"line_width\":{\"value\":2},\"size\":{\"units\":\"screen\",\"value\":10},\"x\":{\"field\":\"x\"},\"y\":{\"field\":\"y\"}},\"id\":\"78f80de6-6fa1-4cdf-ab3d-322c5247b027\",\"type\":\"X\"},{\"attributes\":{},\"id\":\"5bc84d3d-bc85-49ec-8680-96efbefa6d95\",\"type\":\"BasicTicker\"},{\"attributes\":{},\"id\":\"8b28f276-cf8a-4759-94ae-cae6469abc05\",\"type\":\"LinearScale\"},{\"attributes\":{\"callback\":null,\"column_names\":[\"x\",\"y\"],\"data\":{\"x\":[1,2,3,4,5],\"y\":[2,5,8,2,7]}},\"id\":\"7ff08005-54e4-4787-af31-e93e247162e1\",\"type\":\"ColumnDataSource\"},{\"attributes\":{\"data_source\":{\"id\":\"7ff08005-54e4-4787-af31-e93e247162e1\",\"type\":\"ColumnDataSource\"},\"glyph\":{\"id\":\"78f80de6-6fa1-4cdf-ab3d-322c5247b027\",\"type\":\"X\"},\"hover_glyph\":null,\"muted_glyph\":null,\"nonselection_glyph\":{\"id\":\"7164cb85-121f-4358-b754-39b2fe50331e\",\"type\":\"X\"},\"selection_glyph\":null,\"view\":{\"id\":\"b1106bfc-663b-4b81-84e2-e15cf74c53b0\",\"type\":\"CDSView\"}},\"id\":\"7e305a8f-f876-4cdb-8759-5a089aaae6d3\",\"type\":\"GlyphRenderer\"},{\"attributes\":{},\"id\":\"5251e70a-e48c-486c-bb59-7102fc252415\",\"type\":\"LinearScale\"},{\"attributes\":{\"dimension\":1,\"plot\":{\"id\":\"6bad7b1e-d724-499c-8b67-a4278a6b154b\",\"subtype\":\"Figure\",\"type\":\"Plot\"},\"ticker\":{\"id\":\"6d3367c2-eef3-4500-80b8-5b652290bed0\",\"type\":\"BasicTicker\"}},\"id\":\"06af73ca-310c-421b-83f6-e04f428760a7\",\"type\":\"Grid\"},{\"attributes\":{},\"id\":\"6222e00d-39fa-4887-9345-9b5416afc546\",\"type\":\"WheelZoomTool\"},{\"attributes\":{\"callback\":null},\"id\":\"c409d258-1df0-4d41-9ffc-18291ecf9ee1\",\"type\":\"DataRange1d\"},{\"attributes\":{\"bottom_units\":\"screen\",\"fill_alpha\":{\"value\":0.5},\"fill_color\":{\"value\":\"lightgrey\"},\"left_units\":\"screen\",\"level\":\"overlay\",\"line_alpha\":{\"value\":1.0},\"line_color\":{\"value\":\"black\"},\"line_dash\":[4,4],\"line_width\":{\"value\":2},\"plot\":null,\"render_mode\":\"css\",\"right_units\":\"screen\",\"top_units\":\"screen\"},\"id\":\"49c120c8-5bf2-4fd2-88e3-f96e0bd98d5e\",\"type\":\"BoxAnnotation\"},{\"attributes\":{},\"id\":\"ab38a2ed-4f01-402f-bb09-a5d2235775b1\",\"type\":\"PanTool\"}],\"root_ids\":[\"6bad7b1e-d724-499c-8b67-a4278a6b154b\"]},\"title\":\"Bokeh Application\",\"version\":\"0.12.13\"}};\n",
       "  var render_items = [{\"docid\":\"56c5ddb3-c3c4-47e4-bbd6-7130834572e3\",\"elementid\":\"95dad72a-1010-407e-a30b-f31a419bd006\",\"modelid\":\"6bad7b1e-d724-499c-8b67-a4278a6b154b\"}];\n",
       "  root.Bokeh.embed.embed_items_notebook(docs_json, render_items);\n",
       "\n",
       "  }\n",
       "  if (root.Bokeh !== undefined) {\n",
       "    embed_document(root);\n",
       "  } else {\n",
       "    var attempts = 0;\n",
       "    var timer = setInterval(function(root) {\n",
       "      if (root.Bokeh !== undefined) {\n",
       "        embed_document(root);\n",
       "        clearInterval(timer);\n",
       "      }\n",
       "      attempts++;\n",
       "      if (attempts > 100) {\n",
       "        console.log(\"Bokeh: ERROR: Unable to run BokehJS code because BokehJS library is missing\")\n",
       "        clearInterval(timer);\n",
       "      }\n",
       "    }, 10, root)\n",
       "  }\n",
       "})(window);"
      ],
      "application/vnd.bokehjs_exec.v0+json": ""
     },
     "metadata": {
      "application/vnd.bokehjs_exec.v0+json": {
       "id": "6bad7b1e-d724-499c-8b67-a4278a6b154b"
      }
     },
     "output_type": "display_data"
    }
   ],
   "source": [
    "from math import pi\n",
    "\n",
    "p = figure(plot_width=400, plot_height=400)\n",
    "p.x([1,2,3,4,5], [2,5,8,2,7], size=10, line_width=2)\n",
    "\n",
    "p.xaxis.major_label_orientation = pi/4\n",
    "p.yaxis.major_label_orientation = \"vertical\"\n",
    "\n",
    "show(p)"
   ]
  },
  {
   "cell_type": "markdown",
   "metadata": {},
   "source": [
    "The next example shows customizations on several of the different Axis properties at once:"
   ]
  },
  {
   "cell_type": "code",
   "execution_count": 11,
   "metadata": {},
   "outputs": [
    {
     "data": {
      "text/html": [
       "\n",
       "<div class=\"bk-root\">\n",
       "    <div class=\"bk-plotdiv\" id=\"c0cd814b-f131-4ff3-8b2d-02d9fc7bc416\"></div>\n",
       "</div>"
      ]
     },
     "metadata": {},
     "output_type": "display_data"
    },
    {
     "data": {
      "application/javascript": [
       "(function(root) {\n",
       "  function embed_document(root) {\n",
       "    \n",
       "  var docs_json = {\"7dab80ec-b793-4f11-bce0-913eb0cb56b5\":{\"roots\":{\"references\":[{\"attributes\":{},\"id\":\"346e49ed-bfe9-49c6-8996-210ec4844ec1\",\"type\":\"SaveTool\"},{\"attributes\":{\"callback\":null},\"id\":\"3df6b940-484f-4550-81fe-2374afeb3583\",\"type\":\"DataRange1d\"},{\"attributes\":{},\"id\":\"a1622230-579f-46b7-a2c2-6f0b05cbab21\",\"type\":\"LinearScale\"},{\"attributes\":{},\"id\":\"54dcaad0-d06a-48ec-a9ca-fafbcf5a5886\",\"type\":\"ResetTool\"},{\"attributes\":{},\"id\":\"700394ba-83c9-4bd4-b0a5-94b28ccdf2d1\",\"type\":\"HelpTool\"},{\"attributes\":{},\"id\":\"e06359d1-e010-481a-a013-36e99f67d30d\",\"type\":\"BasicTickFormatter\"},{\"attributes\":{},\"id\":\"1abe4470-b45e-4367-af81-05a087bf9708\",\"type\":\"LinearScale\"},{\"attributes\":{},\"id\":\"9f1d7d1d-766e-442f-a70b-bda28fe26990\",\"type\":\"BasicTickFormatter\"},{\"attributes\":{\"plot\":{\"id\":\"02e86b31-744b-45c7-948d-496d85a0417a\",\"subtype\":\"Figure\",\"type\":\"Plot\"},\"ticker\":{\"id\":\"13859dfc-e3f4-4fe1-ae01-f7eef076983d\",\"type\":\"BasicTicker\"}},\"id\":\"bedf1273-2f67-467d-8447-98232f2d80c9\",\"type\":\"Grid\"},{\"attributes\":{\"callback\":null,\"column_names\":[\"x\",\"y\"],\"data\":{\"x\":[1,2,3,4,5],\"y\":[2,5,8,2,7]}},\"id\":\"b6f3bf0a-0c60-410b-8d63-42ad1cef7646\",\"type\":\"ColumnDataSource\"},{\"attributes\":{\"axis_label\":\"Temp\",\"axis_line_color\":{\"value\":\"red\"},\"axis_line_width\":{\"value\":3},\"formatter\":{\"id\":\"9f1d7d1d-766e-442f-a70b-bda28fe26990\",\"type\":\"BasicTickFormatter\"},\"minor_tick_in\":-3,\"minor_tick_out\":6,\"plot\":{\"id\":\"02e86b31-744b-45c7-948d-496d85a0417a\",\"subtype\":\"Figure\",\"type\":\"Plot\"},\"ticker\":{\"id\":\"13859dfc-e3f4-4fe1-ae01-f7eef076983d\",\"type\":\"BasicTicker\"}},\"id\":\"9509d068-94dc-4232-bbf5-f12d97db283c\",\"type\":\"LinearAxis\"},{\"attributes\":{},\"id\":\"13859dfc-e3f4-4fe1-ae01-f7eef076983d\",\"type\":\"BasicTicker\"},{\"attributes\":{\"active_drag\":\"auto\",\"active_inspect\":\"auto\",\"active_scroll\":\"auto\",\"active_tap\":\"auto\",\"tools\":[{\"id\":\"48de2fc1-9dba-4151-ba01-534146a7f745\",\"type\":\"PanTool\"},{\"id\":\"2e831bc9-a5e2-4a70-9c8e-257b842e3da7\",\"type\":\"WheelZoomTool\"},{\"id\":\"252c9cb0-498f-4168-9d8c-f509a2ffcd29\",\"type\":\"BoxZoomTool\"},{\"id\":\"346e49ed-bfe9-49c6-8996-210ec4844ec1\",\"type\":\"SaveTool\"},{\"id\":\"54dcaad0-d06a-48ec-a9ca-fafbcf5a5886\",\"type\":\"ResetTool\"},{\"id\":\"700394ba-83c9-4bd4-b0a5-94b28ccdf2d1\",\"type\":\"HelpTool\"}]},\"id\":\"bf420aa8-9b19-41e7-acc3-141e0c911cff\",\"type\":\"Toolbar\"},{\"attributes\":{\"axis_label\":\"Pressure\",\"formatter\":{\"id\":\"e06359d1-e010-481a-a013-36e99f67d30d\",\"type\":\"BasicTickFormatter\"},\"major_label_orientation\":\"vertical\",\"major_label_text_color\":{\"value\":\"orange\"},\"minor_tick_in\":-3,\"minor_tick_out\":6,\"plot\":{\"id\":\"02e86b31-744b-45c7-948d-496d85a0417a\",\"subtype\":\"Figure\",\"type\":\"Plot\"},\"ticker\":{\"id\":\"74f4ebaf-24c8-44ca-9c3e-0a07dc2ebad9\",\"type\":\"BasicTicker\"}},\"id\":\"aa94eb57-002d-4e2a-b189-c443177c3ea0\",\"type\":\"LinearAxis\"},{\"attributes\":{},\"id\":\"74f4ebaf-24c8-44ca-9c3e-0a07dc2ebad9\",\"type\":\"BasicTicker\"},{\"attributes\":{\"dimension\":1,\"plot\":{\"id\":\"02e86b31-744b-45c7-948d-496d85a0417a\",\"subtype\":\"Figure\",\"type\":\"Plot\"},\"ticker\":{\"id\":\"74f4ebaf-24c8-44ca-9c3e-0a07dc2ebad9\",\"type\":\"BasicTicker\"}},\"id\":\"622b75f1-5cd9-4c65-8643-ac408af03d28\",\"type\":\"Grid\"},{\"attributes\":{\"data_source\":{\"id\":\"b6f3bf0a-0c60-410b-8d63-42ad1cef7646\",\"type\":\"ColumnDataSource\"},\"glyph\":{\"id\":\"7c2e76d9-a331-4c54-87f6-41bf7e5e9519\",\"type\":\"Asterisk\"},\"hover_glyph\":null,\"muted_glyph\":null,\"nonselection_glyph\":{\"id\":\"43088140-3719-4fff-b47a-dfde5bd7ccf6\",\"type\":\"Asterisk\"},\"selection_glyph\":null,\"view\":{\"id\":\"dcb88aa9-8aea-490d-afb7-06afe3693ee6\",\"type\":\"CDSView\"}},\"id\":\"b1a143f4-d6c8-4bd1-aa4f-a4ac9f1d506d\",\"type\":\"GlyphRenderer\"},{\"attributes\":{\"source\":{\"id\":\"b6f3bf0a-0c60-410b-8d63-42ad1cef7646\",\"type\":\"ColumnDataSource\"}},\"id\":\"dcb88aa9-8aea-490d-afb7-06afe3693ee6\",\"type\":\"CDSView\"},{\"attributes\":{\"fill_alpha\":{\"value\":0.1},\"fill_color\":{\"value\":\"#1f77b4\"},\"line_alpha\":{\"value\":0.1},\"line_color\":{\"value\":\"#1f77b4\"},\"size\":{\"units\":\"screen\",\"value\":12},\"x\":{\"field\":\"x\"},\"y\":{\"field\":\"y\"}},\"id\":\"43088140-3719-4fff-b47a-dfde5bd7ccf6\",\"type\":\"Asterisk\"},{\"attributes\":{\"bottom_units\":\"screen\",\"fill_alpha\":{\"value\":0.5},\"fill_color\":{\"value\":\"lightgrey\"},\"left_units\":\"screen\",\"level\":\"overlay\",\"line_alpha\":{\"value\":1.0},\"line_color\":{\"value\":\"black\"},\"line_dash\":[4,4],\"line_width\":{\"value\":2},\"plot\":null,\"render_mode\":\"css\",\"right_units\":\"screen\",\"top_units\":\"screen\"},\"id\":\"256f79a9-a3e3-4592-8374-f4bd43daf62d\",\"type\":\"BoxAnnotation\"},{\"attributes\":{\"below\":[{\"id\":\"9509d068-94dc-4232-bbf5-f12d97db283c\",\"type\":\"LinearAxis\"}],\"left\":[{\"id\":\"aa94eb57-002d-4e2a-b189-c443177c3ea0\",\"type\":\"LinearAxis\"}],\"plot_height\":400,\"plot_width\":400,\"renderers\":[{\"id\":\"9509d068-94dc-4232-bbf5-f12d97db283c\",\"type\":\"LinearAxis\"},{\"id\":\"bedf1273-2f67-467d-8447-98232f2d80c9\",\"type\":\"Grid\"},{\"id\":\"aa94eb57-002d-4e2a-b189-c443177c3ea0\",\"type\":\"LinearAxis\"},{\"id\":\"622b75f1-5cd9-4c65-8643-ac408af03d28\",\"type\":\"Grid\"},{\"id\":\"256f79a9-a3e3-4592-8374-f4bd43daf62d\",\"type\":\"BoxAnnotation\"},{\"id\":\"b1a143f4-d6c8-4bd1-aa4f-a4ac9f1d506d\",\"type\":\"GlyphRenderer\"}],\"title\":{\"id\":\"2edb8832-a1d1-4557-89dd-60d5f68914c0\",\"type\":\"Title\"},\"toolbar\":{\"id\":\"bf420aa8-9b19-41e7-acc3-141e0c911cff\",\"type\":\"Toolbar\"},\"x_range\":{\"id\":\"3df6b940-484f-4550-81fe-2374afeb3583\",\"type\":\"DataRange1d\"},\"x_scale\":{\"id\":\"a1622230-579f-46b7-a2c2-6f0b05cbab21\",\"type\":\"LinearScale\"},\"y_range\":{\"id\":\"19d56c7c-451a-4942-8a67-46c166b8b664\",\"type\":\"DataRange1d\"},\"y_scale\":{\"id\":\"1abe4470-b45e-4367-af81-05a087bf9708\",\"type\":\"LinearScale\"}},\"id\":\"02e86b31-744b-45c7-948d-496d85a0417a\",\"subtype\":\"Figure\",\"type\":\"Plot\"},{\"attributes\":{},\"id\":\"48de2fc1-9dba-4151-ba01-534146a7f745\",\"type\":\"PanTool\"},{\"attributes\":{\"plot\":null,\"text\":\"\"},\"id\":\"2edb8832-a1d1-4557-89dd-60d5f68914c0\",\"type\":\"Title\"},{\"attributes\":{\"fill_color\":{\"value\":\"olive\"},\"line_color\":{\"value\":\"olive\"},\"size\":{\"units\":\"screen\",\"value\":12},\"x\":{\"field\":\"x\"},\"y\":{\"field\":\"y\"}},\"id\":\"7c2e76d9-a331-4c54-87f6-41bf7e5e9519\",\"type\":\"Asterisk\"},{\"attributes\":{},\"id\":\"2e831bc9-a5e2-4a70-9c8e-257b842e3da7\",\"type\":\"WheelZoomTool\"},{\"attributes\":{\"overlay\":{\"id\":\"256f79a9-a3e3-4592-8374-f4bd43daf62d\",\"type\":\"BoxAnnotation\"}},\"id\":\"252c9cb0-498f-4168-9d8c-f509a2ffcd29\",\"type\":\"BoxZoomTool\"},{\"attributes\":{\"callback\":null},\"id\":\"19d56c7c-451a-4942-8a67-46c166b8b664\",\"type\":\"DataRange1d\"}],\"root_ids\":[\"02e86b31-744b-45c7-948d-496d85a0417a\"]},\"title\":\"Bokeh Application\",\"version\":\"0.12.13\"}};\n",
       "  var render_items = [{\"docid\":\"7dab80ec-b793-4f11-bce0-913eb0cb56b5\",\"elementid\":\"c0cd814b-f131-4ff3-8b2d-02d9fc7bc416\",\"modelid\":\"02e86b31-744b-45c7-948d-496d85a0417a\"}];\n",
       "  root.Bokeh.embed.embed_items_notebook(docs_json, render_items);\n",
       "\n",
       "  }\n",
       "  if (root.Bokeh !== undefined) {\n",
       "    embed_document(root);\n",
       "  } else {\n",
       "    var attempts = 0;\n",
       "    var timer = setInterval(function(root) {\n",
       "      if (root.Bokeh !== undefined) {\n",
       "        embed_document(root);\n",
       "        clearInterval(timer);\n",
       "      }\n",
       "      attempts++;\n",
       "      if (attempts > 100) {\n",
       "        console.log(\"Bokeh: ERROR: Unable to run BokehJS code because BokehJS library is missing\")\n",
       "        clearInterval(timer);\n",
       "      }\n",
       "    }, 10, root)\n",
       "  }\n",
       "})(window);"
      ],
      "application/vnd.bokehjs_exec.v0+json": ""
     },
     "metadata": {
      "application/vnd.bokehjs_exec.v0+json": {
       "id": "02e86b31-744b-45c7-948d-496d85a0417a"
      }
     },
     "output_type": "display_data"
    }
   ],
   "source": [
    "p = figure(plot_width=400, plot_height=400)\n",
    "p.asterisk([1,2,3,4,5], [2,5,8,2,7], size=12, color=\"olive\")\n",
    "\n",
    "# change just some things about the x-axes\n",
    "p.xaxis.axis_label = \"Temp\"\n",
    "p.xaxis.axis_line_width = 3\n",
    "p.xaxis.axis_line_color = \"red\"\n",
    "\n",
    "# change just some things about the y-axes\n",
    "p.yaxis.axis_label = \"Pressure\"\n",
    "p.yaxis.major_label_text_color = \"orange\"\n",
    "p.yaxis.major_label_orientation = \"vertical\"\n",
    "\n",
    "# change things on all axes\n",
    "p.axis.minor_tick_in = -3\n",
    "p.axis.minor_tick_out = 6\n",
    "\n",
    "show(p)"
   ]
  },
  {
   "cell_type": "code",
   "execution_count": 12,
   "metadata": {},
   "outputs": [],
   "source": [
    "# EXERCISE Create a plot of your own and customize several axis properties\n"
   ]
  },
  {
   "cell_type": "markdown",
   "metadata": {},
   "source": [
    "There are further customizations possible. See the [User Guide](http://bokeh.pydata.org/en/latest/docs/user_guide.html) for more information on topics such as [tick label formatting](http://bokeh.pydata.org/en/latest/docs/user_guide/styling.html#tick-label-formats) or [limiting axis bounds](http://bokeh.pydata.org/en/latest/docs/user_guide/styling.html#bounds)."
   ]
  },
  {
   "cell_type": "markdown",
   "metadata": {},
   "source": [
    "# Grids\n",
    "\n",
    "[Grids](http://bokeh.pydata.org/en/latest/docs/user_guide/styling.html#grids)\n",
    "\n",
    "* **grid** [line properties](http://bokeh.pydata.org/en/latest/docs/user_guide/styling.html#line-properties)\n",
    "* **band** [fill properties]()"
   ]
  },
  {
   "cell_type": "code",
   "execution_count": 13,
   "metadata": {},
   "outputs": [
    {
     "data": {
      "text/html": [
       "\n",
       "<div class=\"bk-root\">\n",
       "    <div class=\"bk-plotdiv\" id=\"84146f4e-6a18-4c22-a0a9-3c0265cb1a7f\"></div>\n",
       "</div>"
      ]
     },
     "metadata": {},
     "output_type": "display_data"
    },
    {
     "data": {
      "application/javascript": [
       "(function(root) {\n",
       "  function embed_document(root) {\n",
       "    \n",
       "  var docs_json = {\"b7f0c5d5-c8d4-4423-98da-7426a6035476\":{\"roots\":{\"references\":[{\"attributes\":{},\"id\":\"4b36ac1a-ea88-4d18-a616-88b462a0e860\",\"type\":\"ResetTool\"},{\"attributes\":{\"callback\":null},\"id\":\"572c673d-3341-4dfb-8b9a-de11110df3ab\",\"type\":\"DataRange1d\"},{\"attributes\":{},\"id\":\"49060a12-7340-4170-926c-87910c2e5d99\",\"type\":\"SaveTool\"},{\"attributes\":{},\"id\":\"c8c3565e-563c-436f-a3f3-0efa7c8f07c5\",\"type\":\"LinearScale\"},{\"attributes\":{\"fill_alpha\":{\"value\":0.1},\"fill_color\":{\"value\":\"#1f77b4\"},\"line_alpha\":{\"value\":0.1},\"line_color\":{\"value\":\"#1f77b4\"},\"size\":{\"units\":\"screen\",\"value\":10},\"x\":{\"field\":\"x\"},\"y\":{\"field\":\"y\"}},\"id\":\"168c0691-f858-413f-8633-2ae321bf4c40\",\"type\":\"Circle\"},{\"attributes\":{\"overlay\":{\"id\":\"37c6e720-73d3-4e67-9a6a-fe94887fcfd5\",\"type\":\"BoxAnnotation\"}},\"id\":\"a00c92f5-8951-4162-8e01-73b628c7caca\",\"type\":\"BoxZoomTool\"},{\"attributes\":{\"callback\":null},\"id\":\"15917e2c-2d37-4b0d-bcff-602df5502089\",\"type\":\"DataRange1d\"},{\"attributes\":{},\"id\":\"83c89393-f1f0-4610-b5bc-f00528907f5c\",\"type\":\"BasicTickFormatter\"},{\"attributes\":{\"data_source\":{\"id\":\"207a02a3-c2cd-43a5-a177-9d51ea6e50c9\",\"type\":\"ColumnDataSource\"},\"glyph\":{\"id\":\"cb9cc351-4cb6-4bbe-9749-450b0d52bfa6\",\"type\":\"Circle\"},\"hover_glyph\":null,\"muted_glyph\":null,\"nonselection_glyph\":{\"id\":\"168c0691-f858-413f-8633-2ae321bf4c40\",\"type\":\"Circle\"},\"selection_glyph\":null,\"view\":{\"id\":\"c68d7473-7ae9-4e08-9a8d-0742eb229a2a\",\"type\":\"CDSView\"}},\"id\":\"c859734a-3324-4966-b741-8bf787e757d6\",\"type\":\"GlyphRenderer\"},{\"attributes\":{},\"id\":\"e993ada7-db11-4fee-a438-faf30985d2da\",\"type\":\"HelpTool\"},{\"attributes\":{\"dimension\":1,\"grid_line_alpha\":{\"value\":0.5},\"grid_line_dash\":[6,4],\"plot\":{\"id\":\"e379cdea-467a-4ec5-bb9c-0642d54b39c8\",\"subtype\":\"Figure\",\"type\":\"Plot\"},\"ticker\":{\"id\":\"8bbf3c14-5471-4a17-8b7c-9d888a1c535b\",\"type\":\"BasicTicker\"}},\"id\":\"4a07ec5a-e3d0-48eb-a8f5-a268c432ecc4\",\"type\":\"Grid\"},{\"attributes\":{\"active_drag\":\"auto\",\"active_inspect\":\"auto\",\"active_scroll\":\"auto\",\"active_tap\":\"auto\",\"tools\":[{\"id\":\"15f0e6cd-9fba-4f0c-957e-d653b1d383db\",\"type\":\"PanTool\"},{\"id\":\"2dd42f22-2e55-4c85-9c36-9847831ee45d\",\"type\":\"WheelZoomTool\"},{\"id\":\"a00c92f5-8951-4162-8e01-73b628c7caca\",\"type\":\"BoxZoomTool\"},{\"id\":\"49060a12-7340-4170-926c-87910c2e5d99\",\"type\":\"SaveTool\"},{\"id\":\"4b36ac1a-ea88-4d18-a616-88b462a0e860\",\"type\":\"ResetTool\"},{\"id\":\"e993ada7-db11-4fee-a438-faf30985d2da\",\"type\":\"HelpTool\"}]},\"id\":\"03aef6ca-1374-4298-9561-d97efa259638\",\"type\":\"Toolbar\"},{\"attributes\":{},\"id\":\"8bbf3c14-5471-4a17-8b7c-9d888a1c535b\",\"type\":\"BasicTicker\"},{\"attributes\":{\"fill_color\":{\"value\":\"#1f77b4\"},\"line_color\":{\"value\":\"#1f77b4\"},\"size\":{\"units\":\"screen\",\"value\":10},\"x\":{\"field\":\"x\"},\"y\":{\"field\":\"y\"}},\"id\":\"cb9cc351-4cb6-4bbe-9749-450b0d52bfa6\",\"type\":\"Circle\"},{\"attributes\":{\"formatter\":{\"id\":\"12bc85f4-7e25-44b2-b66f-afc3b1ad001f\",\"type\":\"BasicTickFormatter\"},\"plot\":{\"id\":\"e379cdea-467a-4ec5-bb9c-0642d54b39c8\",\"subtype\":\"Figure\",\"type\":\"Plot\"},\"ticker\":{\"id\":\"8bbf3c14-5471-4a17-8b7c-9d888a1c535b\",\"type\":\"BasicTicker\"}},\"id\":\"a53c5c65-dc2a-4cb7-9338-92ff35161875\",\"type\":\"LinearAxis\"},{\"attributes\":{},\"id\":\"2dd42f22-2e55-4c85-9c36-9847831ee45d\",\"type\":\"WheelZoomTool\"},{\"attributes\":{\"below\":[{\"id\":\"50821f50-2348-4c01-9fab-591297553c53\",\"type\":\"LinearAxis\"}],\"left\":[{\"id\":\"a53c5c65-dc2a-4cb7-9338-92ff35161875\",\"type\":\"LinearAxis\"}],\"plot_height\":400,\"plot_width\":400,\"renderers\":[{\"id\":\"50821f50-2348-4c01-9fab-591297553c53\",\"type\":\"LinearAxis\"},{\"id\":\"a877fae7-43da-488c-be9e-07527b43b61d\",\"type\":\"Grid\"},{\"id\":\"a53c5c65-dc2a-4cb7-9338-92ff35161875\",\"type\":\"LinearAxis\"},{\"id\":\"4a07ec5a-e3d0-48eb-a8f5-a268c432ecc4\",\"type\":\"Grid\"},{\"id\":\"37c6e720-73d3-4e67-9a6a-fe94887fcfd5\",\"type\":\"BoxAnnotation\"},{\"id\":\"c859734a-3324-4966-b741-8bf787e757d6\",\"type\":\"GlyphRenderer\"}],\"title\":{\"id\":\"2745efc5-78e5-4971-821c-409755086b42\",\"type\":\"Title\"},\"toolbar\":{\"id\":\"03aef6ca-1374-4298-9561-d97efa259638\",\"type\":\"Toolbar\"},\"x_range\":{\"id\":\"15917e2c-2d37-4b0d-bcff-602df5502089\",\"type\":\"DataRange1d\"},\"x_scale\":{\"id\":\"c8c3565e-563c-436f-a3f3-0efa7c8f07c5\",\"type\":\"LinearScale\"},\"y_range\":{\"id\":\"572c673d-3341-4dfb-8b9a-de11110df3ab\",\"type\":\"DataRange1d\"},\"y_scale\":{\"id\":\"5a18a4fc-25c5-4ba6-a3fb-6ed7e1eea683\",\"type\":\"LinearScale\"}},\"id\":\"e379cdea-467a-4ec5-bb9c-0642d54b39c8\",\"subtype\":\"Figure\",\"type\":\"Plot\"},{\"attributes\":{},\"id\":\"f5a852ba-8b33-4250-adef-f351b3c86f19\",\"type\":\"BasicTicker\"},{\"attributes\":{\"plot\":null,\"text\":\"\"},\"id\":\"2745efc5-78e5-4971-821c-409755086b42\",\"type\":\"Title\"},{\"attributes\":{\"formatter\":{\"id\":\"83c89393-f1f0-4610-b5bc-f00528907f5c\",\"type\":\"BasicTickFormatter\"},\"plot\":{\"id\":\"e379cdea-467a-4ec5-bb9c-0642d54b39c8\",\"subtype\":\"Figure\",\"type\":\"Plot\"},\"ticker\":{\"id\":\"f5a852ba-8b33-4250-adef-f351b3c86f19\",\"type\":\"BasicTicker\"}},\"id\":\"50821f50-2348-4c01-9fab-591297553c53\",\"type\":\"LinearAxis\"},{\"attributes\":{},\"id\":\"12bc85f4-7e25-44b2-b66f-afc3b1ad001f\",\"type\":\"BasicTickFormatter\"},{\"attributes\":{\"grid_line_color\":{\"value\":null},\"plot\":{\"id\":\"e379cdea-467a-4ec5-bb9c-0642d54b39c8\",\"subtype\":\"Figure\",\"type\":\"Plot\"},\"ticker\":{\"id\":\"f5a852ba-8b33-4250-adef-f351b3c86f19\",\"type\":\"BasicTicker\"}},\"id\":\"a877fae7-43da-488c-be9e-07527b43b61d\",\"type\":\"Grid\"},{\"attributes\":{\"callback\":null,\"column_names\":[\"x\",\"y\"],\"data\":{\"x\":[1,2,3,4,5],\"y\":[2,5,8,2,7]}},\"id\":\"207a02a3-c2cd-43a5-a177-9d51ea6e50c9\",\"type\":\"ColumnDataSource\"},{\"attributes\":{\"bottom_units\":\"screen\",\"fill_alpha\":{\"value\":0.5},\"fill_color\":{\"value\":\"lightgrey\"},\"left_units\":\"screen\",\"level\":\"overlay\",\"line_alpha\":{\"value\":1.0},\"line_color\":{\"value\":\"black\"},\"line_dash\":[4,4],\"line_width\":{\"value\":2},\"plot\":null,\"render_mode\":\"css\",\"right_units\":\"screen\",\"top_units\":\"screen\"},\"id\":\"37c6e720-73d3-4e67-9a6a-fe94887fcfd5\",\"type\":\"BoxAnnotation\"},{\"attributes\":{\"source\":{\"id\":\"207a02a3-c2cd-43a5-a177-9d51ea6e50c9\",\"type\":\"ColumnDataSource\"}},\"id\":\"c68d7473-7ae9-4e08-9a8d-0742eb229a2a\",\"type\":\"CDSView\"},{\"attributes\":{},\"id\":\"15f0e6cd-9fba-4f0c-957e-d653b1d383db\",\"type\":\"PanTool\"},{\"attributes\":{},\"id\":\"5a18a4fc-25c5-4ba6-a3fb-6ed7e1eea683\",\"type\":\"LinearScale\"}],\"root_ids\":[\"e379cdea-467a-4ec5-bb9c-0642d54b39c8\"]},\"title\":\"Bokeh Application\",\"version\":\"0.12.13\"}};\n",
       "  var render_items = [{\"docid\":\"b7f0c5d5-c8d4-4423-98da-7426a6035476\",\"elementid\":\"84146f4e-6a18-4c22-a0a9-3c0265cb1a7f\",\"modelid\":\"e379cdea-467a-4ec5-bb9c-0642d54b39c8\"}];\n",
       "  root.Bokeh.embed.embed_items_notebook(docs_json, render_items);\n",
       "\n",
       "  }\n",
       "  if (root.Bokeh !== undefined) {\n",
       "    embed_document(root);\n",
       "  } else {\n",
       "    var attempts = 0;\n",
       "    var timer = setInterval(function(root) {\n",
       "      if (root.Bokeh !== undefined) {\n",
       "        embed_document(root);\n",
       "        clearInterval(timer);\n",
       "      }\n",
       "      attempts++;\n",
       "      if (attempts > 100) {\n",
       "        console.log(\"Bokeh: ERROR: Unable to run BokehJS code because BokehJS library is missing\")\n",
       "        clearInterval(timer);\n",
       "      }\n",
       "    }, 10, root)\n",
       "  }\n",
       "})(window);"
      ],
      "application/vnd.bokehjs_exec.v0+json": ""
     },
     "metadata": {
      "application/vnd.bokehjs_exec.v0+json": {
       "id": "e379cdea-467a-4ec5-bb9c-0642d54b39c8"
      }
     },
     "output_type": "display_data"
    }
   ],
   "source": [
    "p = figure(plot_width=400, plot_height=400)\n",
    "p.circle([1,2,3,4,5], [2,5,8,2,7], size=10)\n",
    "\n",
    "# change just some things about the x-grid\n",
    "p.xgrid.grid_line_color = None\n",
    "\n",
    "# change just some things about the y-grid\n",
    "p.ygrid.grid_line_alpha = 0.5\n",
    "p.ygrid.grid_line_dash = [6, 4]\n",
    "\n",
    "show(p)"
   ]
  },
  {
   "cell_type": "code",
   "execution_count": 14,
   "metadata": {},
   "outputs": [
    {
     "data": {
      "text/html": [
       "\n",
       "<div class=\"bk-root\">\n",
       "    <div class=\"bk-plotdiv\" id=\"aa5bb130-c23a-4983-8845-bc0e608f0898\"></div>\n",
       "</div>"
      ]
     },
     "metadata": {},
     "output_type": "display_data"
    },
    {
     "data": {
      "application/javascript": [
       "(function(root) {\n",
       "  function embed_document(root) {\n",
       "    \n",
       "  var docs_json = {\"63a35ff0-6c28-4350-9abe-8de5386bd619\":{\"roots\":{\"references\":[{\"attributes\":{\"callback\":null},\"id\":\"ffc53f89-13d0-4fbf-bad1-7e63c125bd88\",\"type\":\"DataRange1d\"},{\"attributes\":{},\"id\":\"edac9fee-3ff3-469a-97e6-a55f9fc0d138\",\"type\":\"BasicTickFormatter\"},{\"attributes\":{},\"id\":\"8409c503-a552-4500-94f4-aaf2ee4fb94a\",\"type\":\"WheelZoomTool\"},{\"attributes\":{},\"id\":\"169b212e-6594-4c8e-a4bd-21c616cddf2e\",\"type\":\"ResetTool\"},{\"attributes\":{},\"id\":\"309eb1b6-871a-43f1-8656-cb61b87ec3ba\",\"type\":\"BasicTickFormatter\"},{\"attributes\":{},\"id\":\"41a34a8a-3265-4086-af7d-0972f81cd570\",\"type\":\"HelpTool\"},{\"attributes\":{},\"id\":\"2a9c951e-5dd6-4c4a-a0ab-6f96db307c01\",\"type\":\"LinearScale\"},{\"attributes\":{\"active_drag\":\"auto\",\"active_inspect\":\"auto\",\"active_scroll\":\"auto\",\"active_tap\":\"auto\",\"tools\":[{\"id\":\"b7ecd2dc-0928-4396-ade2-8a1abff37198\",\"type\":\"PanTool\"},{\"id\":\"8409c503-a552-4500-94f4-aaf2ee4fb94a\",\"type\":\"WheelZoomTool\"},{\"id\":\"0d9b6b7d-a1d5-4f60-bf9f-4b91d0c87f25\",\"type\":\"BoxZoomTool\"},{\"id\":\"1f0b2136-f991-4848-8a1a-b4f3ab2e338b\",\"type\":\"SaveTool\"},{\"id\":\"169b212e-6594-4c8e-a4bd-21c616cddf2e\",\"type\":\"ResetTool\"},{\"id\":\"41a34a8a-3265-4086-af7d-0972f81cd570\",\"type\":\"HelpTool\"}]},\"id\":\"d2db0466-ccf8-4c3d-adbb-9993a70ff5cf\",\"type\":\"Toolbar\"},{\"attributes\":{\"overlay\":{\"id\":\"f1e9ac5b-bcaf-46a1-bc12-a352173f8846\",\"type\":\"BoxAnnotation\"}},\"id\":\"0d9b6b7d-a1d5-4f60-bf9f-4b91d0c87f25\",\"type\":\"BoxZoomTool\"},{\"attributes\":{},\"id\":\"2401e697-f2fe-4145-905c-1bd8e3fcdaff\",\"type\":\"BasicTicker\"},{\"attributes\":{\"band_fill_alpha\":{\"value\":0.1},\"band_fill_color\":{\"value\":\"navy\"},\"dimension\":1,\"plot\":{\"id\":\"e4bfdfe9-3b5e-4a9a-a554-5e6bc9a07fdb\",\"subtype\":\"Figure\",\"type\":\"Plot\"},\"ticker\":{\"id\":\"2401e697-f2fe-4145-905c-1bd8e3fcdaff\",\"type\":\"BasicTicker\"}},\"id\":\"cede2009-f6dc-4572-8b36-4c2f578f2dab\",\"type\":\"Grid\"},{\"attributes\":{\"grid_line_color\":{\"value\":null},\"plot\":{\"id\":\"e4bfdfe9-3b5e-4a9a-a554-5e6bc9a07fdb\",\"subtype\":\"Figure\",\"type\":\"Plot\"},\"ticker\":{\"id\":\"b39758a8-5563-4a42-9f81-f9d805fd6ad7\",\"type\":\"BasicTicker\"}},\"id\":\"1385e88c-4b7d-432b-ae12-6cb399396bf5\",\"type\":\"Grid\"},{\"attributes\":{},\"id\":\"a36a5412-8396-4adc-bcdd-4618adf19979\",\"type\":\"LinearScale\"},{\"attributes\":{\"plot\":null,\"text\":\"\"},\"id\":\"36629364-2c80-42db-a1c4-5dd054da9acd\",\"type\":\"Title\"},{\"attributes\":{\"source\":{\"id\":\"6f96fc65-5150-4259-9a6c-3824fdd7fff7\",\"type\":\"ColumnDataSource\"}},\"id\":\"e4fec331-5019-4b53-85e9-9282eea5ffe7\",\"type\":\"CDSView\"},{\"attributes\":{\"fill_alpha\":{\"value\":0.1},\"fill_color\":{\"value\":\"#1f77b4\"},\"line_alpha\":{\"value\":0.1},\"line_color\":{\"value\":\"#1f77b4\"},\"size\":{\"units\":\"screen\",\"value\":10},\"x\":{\"field\":\"x\"},\"y\":{\"field\":\"y\"}},\"id\":\"cf65ffe4-e9e7-4e50-97be-13c924033ba5\",\"type\":\"Circle\"},{\"attributes\":{},\"id\":\"b7ecd2dc-0928-4396-ade2-8a1abff37198\",\"type\":\"PanTool\"},{\"attributes\":{\"callback\":null},\"id\":\"4d62a7ce-cc75-4ca1-ac15-d5f01262c351\",\"type\":\"DataRange1d\"},{\"attributes\":{\"below\":[{\"id\":\"713d960d-4942-40ba-8d14-f6d16d14d16e\",\"type\":\"LinearAxis\"}],\"left\":[{\"id\":\"b2ebd75b-4042-4183-833d-bb74ea2b01cf\",\"type\":\"LinearAxis\"}],\"plot_height\":400,\"plot_width\":400,\"renderers\":[{\"id\":\"713d960d-4942-40ba-8d14-f6d16d14d16e\",\"type\":\"LinearAxis\"},{\"id\":\"1385e88c-4b7d-432b-ae12-6cb399396bf5\",\"type\":\"Grid\"},{\"id\":\"b2ebd75b-4042-4183-833d-bb74ea2b01cf\",\"type\":\"LinearAxis\"},{\"id\":\"cede2009-f6dc-4572-8b36-4c2f578f2dab\",\"type\":\"Grid\"},{\"id\":\"f1e9ac5b-bcaf-46a1-bc12-a352173f8846\",\"type\":\"BoxAnnotation\"},{\"id\":\"d916ef25-672f-46a4-913d-e8125b1e49a4\",\"type\":\"GlyphRenderer\"}],\"title\":{\"id\":\"36629364-2c80-42db-a1c4-5dd054da9acd\",\"type\":\"Title\"},\"toolbar\":{\"id\":\"d2db0466-ccf8-4c3d-adbb-9993a70ff5cf\",\"type\":\"Toolbar\"},\"x_range\":{\"id\":\"ffc53f89-13d0-4fbf-bad1-7e63c125bd88\",\"type\":\"DataRange1d\"},\"x_scale\":{\"id\":\"a36a5412-8396-4adc-bcdd-4618adf19979\",\"type\":\"LinearScale\"},\"y_range\":{\"id\":\"4d62a7ce-cc75-4ca1-ac15-d5f01262c351\",\"type\":\"DataRange1d\"},\"y_scale\":{\"id\":\"2a9c951e-5dd6-4c4a-a0ab-6f96db307c01\",\"type\":\"LinearScale\"}},\"id\":\"e4bfdfe9-3b5e-4a9a-a554-5e6bc9a07fdb\",\"subtype\":\"Figure\",\"type\":\"Plot\"},{\"attributes\":{\"formatter\":{\"id\":\"309eb1b6-871a-43f1-8656-cb61b87ec3ba\",\"type\":\"BasicTickFormatter\"},\"plot\":{\"id\":\"e4bfdfe9-3b5e-4a9a-a554-5e6bc9a07fdb\",\"subtype\":\"Figure\",\"type\":\"Plot\"},\"ticker\":{\"id\":\"2401e697-f2fe-4145-905c-1bd8e3fcdaff\",\"type\":\"BasicTicker\"}},\"id\":\"b2ebd75b-4042-4183-833d-bb74ea2b01cf\",\"type\":\"LinearAxis\"},{\"attributes\":{\"bottom_units\":\"screen\",\"fill_alpha\":{\"value\":0.5},\"fill_color\":{\"value\":\"lightgrey\"},\"left_units\":\"screen\",\"level\":\"overlay\",\"line_alpha\":{\"value\":1.0},\"line_color\":{\"value\":\"black\"},\"line_dash\":[4,4],\"line_width\":{\"value\":2},\"plot\":null,\"render_mode\":\"css\",\"right_units\":\"screen\",\"top_units\":\"screen\"},\"id\":\"f1e9ac5b-bcaf-46a1-bc12-a352173f8846\",\"type\":\"BoxAnnotation\"},{\"attributes\":{\"callback\":null,\"column_names\":[\"x\",\"y\"],\"data\":{\"x\":[1,2,3,4,5],\"y\":[2,5,8,2,7]}},\"id\":\"6f96fc65-5150-4259-9a6c-3824fdd7fff7\",\"type\":\"ColumnDataSource\"},{\"attributes\":{\"data_source\":{\"id\":\"6f96fc65-5150-4259-9a6c-3824fdd7fff7\",\"type\":\"ColumnDataSource\"},\"glyph\":{\"id\":\"f0b3172e-03e7-46ba-820f-222e3a49a2c6\",\"type\":\"Circle\"},\"hover_glyph\":null,\"muted_glyph\":null,\"nonselection_glyph\":{\"id\":\"cf65ffe4-e9e7-4e50-97be-13c924033ba5\",\"type\":\"Circle\"},\"selection_glyph\":null,\"view\":{\"id\":\"e4fec331-5019-4b53-85e9-9282eea5ffe7\",\"type\":\"CDSView\"}},\"id\":\"d916ef25-672f-46a4-913d-e8125b1e49a4\",\"type\":\"GlyphRenderer\"},{\"attributes\":{},\"id\":\"1f0b2136-f991-4848-8a1a-b4f3ab2e338b\",\"type\":\"SaveTool\"},{\"attributes\":{\"fill_color\":{\"value\":\"#1f77b4\"},\"line_color\":{\"value\":\"#1f77b4\"},\"size\":{\"units\":\"screen\",\"value\":10},\"x\":{\"field\":\"x\"},\"y\":{\"field\":\"y\"}},\"id\":\"f0b3172e-03e7-46ba-820f-222e3a49a2c6\",\"type\":\"Circle\"},{\"attributes\":{},\"id\":\"b39758a8-5563-4a42-9f81-f9d805fd6ad7\",\"type\":\"BasicTicker\"},{\"attributes\":{\"formatter\":{\"id\":\"edac9fee-3ff3-469a-97e6-a55f9fc0d138\",\"type\":\"BasicTickFormatter\"},\"plot\":{\"id\":\"e4bfdfe9-3b5e-4a9a-a554-5e6bc9a07fdb\",\"subtype\":\"Figure\",\"type\":\"Plot\"},\"ticker\":{\"id\":\"b39758a8-5563-4a42-9f81-f9d805fd6ad7\",\"type\":\"BasicTicker\"}},\"id\":\"713d960d-4942-40ba-8d14-f6d16d14d16e\",\"type\":\"LinearAxis\"}],\"root_ids\":[\"e4bfdfe9-3b5e-4a9a-a554-5e6bc9a07fdb\"]},\"title\":\"Bokeh Application\",\"version\":\"0.12.13\"}};\n",
       "  var render_items = [{\"docid\":\"63a35ff0-6c28-4350-9abe-8de5386bd619\",\"elementid\":\"aa5bb130-c23a-4983-8845-bc0e608f0898\",\"modelid\":\"e4bfdfe9-3b5e-4a9a-a554-5e6bc9a07fdb\"}];\n",
       "  root.Bokeh.embed.embed_items_notebook(docs_json, render_items);\n",
       "\n",
       "  }\n",
       "  if (root.Bokeh !== undefined) {\n",
       "    embed_document(root);\n",
       "  } else {\n",
       "    var attempts = 0;\n",
       "    var timer = setInterval(function(root) {\n",
       "      if (root.Bokeh !== undefined) {\n",
       "        embed_document(root);\n",
       "        clearInterval(timer);\n",
       "      }\n",
       "      attempts++;\n",
       "      if (attempts > 100) {\n",
       "        console.log(\"Bokeh: ERROR: Unable to run BokehJS code because BokehJS library is missing\")\n",
       "        clearInterval(timer);\n",
       "      }\n",
       "    }, 10, root)\n",
       "  }\n",
       "})(window);"
      ],
      "application/vnd.bokehjs_exec.v0+json": ""
     },
     "metadata": {
      "application/vnd.bokehjs_exec.v0+json": {
       "id": "e4bfdfe9-3b5e-4a9a-a554-5e6bc9a07fdb"
      }
     },
     "output_type": "display_data"
    }
   ],
   "source": [
    "p = figure(plot_width=400, plot_height=400)\n",
    "p.circle([1,2,3,4,5], [2,5,8,2,7], size=10)\n",
    "\n",
    "# change just some things about the x-grid\n",
    "p.xgrid.grid_line_color = None\n",
    "\n",
    "# change just some things about the y-grid\n",
    "p.ygrid.band_fill_alpha = 0.1\n",
    "p.ygrid.band_fill_color = \"navy\"\n",
    "\n",
    "show(p)"
   ]
  },
  {
   "cell_type": "code",
   "execution_count": 15,
   "metadata": {},
   "outputs": [],
   "source": [
    "# EXERCISE Create a plot of your own and customize several grid properties\n"
   ]
  },
  {
   "cell_type": "code",
   "execution_count": null,
   "metadata": {},
   "outputs": [],
   "source": []
  }
 ],
 "metadata": {
  "kernelspec": {
   "display_name": "Python 3",
   "language": "python",
   "name": "python3"
  },
  "language_info": {
   "codemirror_mode": {
    "name": "ipython",
    "version": 3
   },
   "file_extension": ".py",
   "mimetype": "text/x-python",
   "name": "python",
   "nbconvert_exporter": "python",
   "pygments_lexer": "ipython3",
   "version": "3.6.4"
  }
 },
 "nbformat": 4,
 "nbformat_minor": 1
}
