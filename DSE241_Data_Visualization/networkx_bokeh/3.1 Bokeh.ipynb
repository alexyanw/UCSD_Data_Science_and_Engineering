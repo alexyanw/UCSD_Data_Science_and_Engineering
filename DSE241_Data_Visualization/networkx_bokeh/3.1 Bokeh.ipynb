{
 "cells": [
  {
   "cell_type": "markdown",
   "metadata": {},
   "source": [
    "This section of the tutorial covers the [`bokeh.plotting`](http://bokeh.pydata.org/en/latest/docs/user_guide/plotting.html) \n",
    "interface. This interface is a \"mid-level\" interface, and the main idea can be described by the statement:\n",
    "\n",
    "**Starting from simple default figures (with sensible default tools, grids and axes), add markers and other shapes whose visual attributes are tied to directly data.**\n",
    "\n",
    "We will see that it is possible to customize and change all of the defaults, but having them means that it is possible to get up and running very quickly. "
   ]
  },
  {
   "cell_type": "markdown",
   "metadata": {},
   "source": [
    "# Imports and Setup\n",
    "\n",
    "When using the [`bokeh.plotting`](http://bokeh.pydata.org/en/latest/docs/user_guide/plotting.html) interface, there are a few common imports:\n",
    "* Use the [`figure`](http://bokeh.pydata.org/en/latest/docs/reference/plotting.html#bokeh.plotting.figure) function to  create new plot objects to work with. \n",
    "* Call the functions [`output_file`](http://bokeh.pydata.org/en/latest/docs/reference/resources_embedding.html#bokeh.io.output_file), [`output_notebook`](http://bokeh.pydata.org/en/latest/docs/reference/resources_embedding.html#bokeh.io.output_notebook), and [`output_server`](http://bokeh.pydata.org/en/latest/docs/reference/resources_embedding.html#bokeh.io.output_server) (possibly in combination) to tell Bokeh how to display or save output. \n",
    "* Execute [`show`](http://bokeh.pydata.org/en/latest/docs/reference/resources_embedding.html#bokeh.io.show) and  [`save`](http://bokeh.pydata.org/en/latest/docs/reference/resources_embedding.html#bokeh.io.save) to display or save plots and layouts."
   ]
  },
  {
   "cell_type": "code",
   "execution_count": 1,
   "metadata": {},
   "outputs": [],
   "source": [
    "from bokeh.io import output_notebook, show\n",
    "from bokeh.plotting import figure"
   ]
  },
  {
   "cell_type": "code",
   "execution_count": null,
   "metadata": {},
   "outputs": [],
   "source": []
  },
  {
   "cell_type": "markdown",
   "metadata": {},
   "source": [
    "In this case, we are in the Jupyter notebook, so call `output_notebook()`. We only need to call this once, and all subsequent calls to `show()` will display inline in the notebook."
   ]
  },
  {
   "cell_type": "code",
   "execution_count": 2,
   "metadata": {},
   "outputs": [
    {
     "data": {
      "text/html": [
       "\n",
       "    <div class=\"bk-root\">\n",
       "        <a href=\"https://bokeh.pydata.org\" target=\"_blank\" class=\"bk-logo bk-logo-small bk-logo-notebook\"></a>\n",
       "        <span id=\"53b82fd0-1fe5-42bb-83ab-b924c13dab5e\">Loading BokehJS ...</span>\n",
       "    </div>"
      ]
     },
     "metadata": {},
     "output_type": "display_data"
    },
    {
     "data": {
      "application/javascript": [
       "\n",
       "(function(root) {\n",
       "  function now() {\n",
       "    return new Date();\n",
       "  }\n",
       "\n",
       "  var force = true;\n",
       "\n",
       "  if (typeof (root._bokeh_onload_callbacks) === \"undefined\" || force === true) {\n",
       "    root._bokeh_onload_callbacks = [];\n",
       "    root._bokeh_is_loading = undefined;\n",
       "  }\n",
       "\n",
       "  var JS_MIME_TYPE = 'application/javascript';\n",
       "  var HTML_MIME_TYPE = 'text/html';\n",
       "  var EXEC_MIME_TYPE = 'application/vnd.bokehjs_exec.v0+json';\n",
       "  var CLASS_NAME = 'output_bokeh rendered_html';\n",
       "\n",
       "  /**\n",
       "   * Render data to the DOM node\n",
       "   */\n",
       "  function render(props, node) {\n",
       "    var script = document.createElement(\"script\");\n",
       "    node.appendChild(script);\n",
       "  }\n",
       "\n",
       "  /**\n",
       "   * Handle when an output is cleared or removed\n",
       "   */\n",
       "  function handleClearOutput(event, handle) {\n",
       "    var cell = handle.cell;\n",
       "\n",
       "    var id = cell.output_area._bokeh_element_id;\n",
       "    var server_id = cell.output_area._bokeh_server_id;\n",
       "    // Clean up Bokeh references\n",
       "    if (id !== undefined) {\n",
       "      Bokeh.index[id].model.document.clear();\n",
       "      delete Bokeh.index[id];\n",
       "    }\n",
       "\n",
       "    if (server_id !== undefined) {\n",
       "      // Clean up Bokeh references\n",
       "      var cmd = \"from bokeh.io.state import curstate; print(curstate().uuid_to_server['\" + server_id + \"'].get_sessions()[0].document.roots[0]._id)\";\n",
       "      cell.notebook.kernel.execute(cmd, {\n",
       "        iopub: {\n",
       "          output: function(msg) {\n",
       "            var element_id = msg.content.text.trim();\n",
       "            Bokeh.index[element_id].model.document.clear();\n",
       "            delete Bokeh.index[element_id];\n",
       "          }\n",
       "        }\n",
       "      });\n",
       "      // Destroy server and session\n",
       "      var cmd = \"import bokeh.io.notebook as ion; ion.destroy_server('\" + server_id + \"')\";\n",
       "      cell.notebook.kernel.execute(cmd);\n",
       "    }\n",
       "  }\n",
       "\n",
       "  /**\n",
       "   * Handle when a new output is added\n",
       "   */\n",
       "  function handleAddOutput(event, handle) {\n",
       "    var output_area = handle.output_area;\n",
       "    var output = handle.output;\n",
       "\n",
       "    // limit handleAddOutput to display_data with EXEC_MIME_TYPE content only\n",
       "    if ((output.output_type != \"display_data\") || (!output.data.hasOwnProperty(EXEC_MIME_TYPE))) {\n",
       "      return\n",
       "    }\n",
       "\n",
       "    var toinsert = output_area.element.find(\".\" + CLASS_NAME.split(' ')[0]);\n",
       "\n",
       "    if (output.metadata[EXEC_MIME_TYPE][\"id\"] !== undefined) {\n",
       "      toinsert[0].firstChild.textContent = output.data[JS_MIME_TYPE];\n",
       "      // store reference to embed id on output_area\n",
       "      output_area._bokeh_element_id = output.metadata[EXEC_MIME_TYPE][\"id\"];\n",
       "    }\n",
       "    if (output.metadata[EXEC_MIME_TYPE][\"server_id\"] !== undefined) {\n",
       "      var bk_div = document.createElement(\"div\");\n",
       "      bk_div.innerHTML = output.data[HTML_MIME_TYPE];\n",
       "      var script_attrs = bk_div.children[0].attributes;\n",
       "      for (var i = 0; i < script_attrs.length; i++) {\n",
       "        toinsert[0].firstChild.setAttribute(script_attrs[i].name, script_attrs[i].value);\n",
       "      }\n",
       "      // store reference to server id on output_area\n",
       "      output_area._bokeh_server_id = output.metadata[EXEC_MIME_TYPE][\"server_id\"];\n",
       "    }\n",
       "  }\n",
       "\n",
       "  function register_renderer(events, OutputArea) {\n",
       "\n",
       "    function append_mime(data, metadata, element) {\n",
       "      // create a DOM node to render to\n",
       "      var toinsert = this.create_output_subarea(\n",
       "        metadata,\n",
       "        CLASS_NAME,\n",
       "        EXEC_MIME_TYPE\n",
       "      );\n",
       "      this.keyboard_manager.register_events(toinsert);\n",
       "      // Render to node\n",
       "      var props = {data: data, metadata: metadata[EXEC_MIME_TYPE]};\n",
       "      render(props, toinsert[0]);\n",
       "      element.append(toinsert);\n",
       "      return toinsert\n",
       "    }\n",
       "\n",
       "    /* Handle when an output is cleared or removed */\n",
       "    events.on('clear_output.CodeCell', handleClearOutput);\n",
       "    events.on('delete.Cell', handleClearOutput);\n",
       "\n",
       "    /* Handle when a new output is added */\n",
       "    events.on('output_added.OutputArea', handleAddOutput);\n",
       "\n",
       "    /**\n",
       "     * Register the mime type and append_mime function with output_area\n",
       "     */\n",
       "    OutputArea.prototype.register_mime_type(EXEC_MIME_TYPE, append_mime, {\n",
       "      /* Is output safe? */\n",
       "      safe: true,\n",
       "      /* Index of renderer in `output_area.display_order` */\n",
       "      index: 0\n",
       "    });\n",
       "  }\n",
       "\n",
       "  // register the mime type if in Jupyter Notebook environment and previously unregistered\n",
       "  if (root.Jupyter !== undefined) {\n",
       "    var events = require('base/js/events');\n",
       "    var OutputArea = require('notebook/js/outputarea').OutputArea;\n",
       "\n",
       "    if (OutputArea.prototype.mime_types().indexOf(EXEC_MIME_TYPE) == -1) {\n",
       "      register_renderer(events, OutputArea);\n",
       "    }\n",
       "  }\n",
       "\n",
       "  \n",
       "  if (typeof (root._bokeh_timeout) === \"undefined\" || force === true) {\n",
       "    root._bokeh_timeout = Date.now() + 5000;\n",
       "    root._bokeh_failed_load = false;\n",
       "  }\n",
       "\n",
       "  var NB_LOAD_WARNING = {'data': {'text/html':\n",
       "     \"<div style='background-color: #fdd'>\\n\"+\n",
       "     \"<p>\\n\"+\n",
       "     \"BokehJS does not appear to have successfully loaded. If loading BokehJS from CDN, this \\n\"+\n",
       "     \"may be due to a slow or bad network connection. Possible fixes:\\n\"+\n",
       "     \"</p>\\n\"+\n",
       "     \"<ul>\\n\"+\n",
       "     \"<li>re-rerun `output_notebook()` to attempt to load from CDN again, or</li>\\n\"+\n",
       "     \"<li>use INLINE resources instead, as so:</li>\\n\"+\n",
       "     \"</ul>\\n\"+\n",
       "     \"<code>\\n\"+\n",
       "     \"from bokeh.resources import INLINE\\n\"+\n",
       "     \"output_notebook(resources=INLINE)\\n\"+\n",
       "     \"</code>\\n\"+\n",
       "     \"</div>\"}};\n",
       "\n",
       "  function display_loaded() {\n",
       "    var el = document.getElementById(\"53b82fd0-1fe5-42bb-83ab-b924c13dab5e\");\n",
       "    if (el != null) {\n",
       "      el.textContent = \"BokehJS is loading...\";\n",
       "    }\n",
       "    if (root.Bokeh !== undefined) {\n",
       "      if (el != null) {\n",
       "        el.textContent = \"BokehJS \" + root.Bokeh.version + \" successfully loaded.\";\n",
       "      }\n",
       "    } else if (Date.now() < root._bokeh_timeout) {\n",
       "      setTimeout(display_loaded, 100)\n",
       "    }\n",
       "  }\n",
       "\n",
       "\n",
       "  function run_callbacks() {\n",
       "    try {\n",
       "      root._bokeh_onload_callbacks.forEach(function(callback) { callback() });\n",
       "    }\n",
       "    finally {\n",
       "      delete root._bokeh_onload_callbacks\n",
       "    }\n",
       "    console.info(\"Bokeh: all callbacks have finished\");\n",
       "  }\n",
       "\n",
       "  function load_libs(js_urls, callback) {\n",
       "    root._bokeh_onload_callbacks.push(callback);\n",
       "    if (root._bokeh_is_loading > 0) {\n",
       "      console.log(\"Bokeh: BokehJS is being loaded, scheduling callback at\", now());\n",
       "      return null;\n",
       "    }\n",
       "    if (js_urls == null || js_urls.length === 0) {\n",
       "      run_callbacks();\n",
       "      return null;\n",
       "    }\n",
       "    console.log(\"Bokeh: BokehJS not loaded, scheduling load and callback at\", now());\n",
       "    root._bokeh_is_loading = js_urls.length;\n",
       "    for (var i = 0; i < js_urls.length; i++) {\n",
       "      var url = js_urls[i];\n",
       "      var s = document.createElement('script');\n",
       "      s.src = url;\n",
       "      s.async = false;\n",
       "      s.onreadystatechange = s.onload = function() {\n",
       "        root._bokeh_is_loading--;\n",
       "        if (root._bokeh_is_loading === 0) {\n",
       "          console.log(\"Bokeh: all BokehJS libraries loaded\");\n",
       "          run_callbacks()\n",
       "        }\n",
       "      };\n",
       "      s.onerror = function() {\n",
       "        console.warn(\"failed to load library \" + url);\n",
       "      };\n",
       "      console.log(\"Bokeh: injecting script tag for BokehJS library: \", url);\n",
       "      document.getElementsByTagName(\"head\")[0].appendChild(s);\n",
       "    }\n",
       "  };var element = document.getElementById(\"53b82fd0-1fe5-42bb-83ab-b924c13dab5e\");\n",
       "  if (element == null) {\n",
       "    console.log(\"Bokeh: ERROR: autoload.js configured with elementid '53b82fd0-1fe5-42bb-83ab-b924c13dab5e' but no matching script tag was found. \")\n",
       "    return false;\n",
       "  }\n",
       "\n",
       "  var js_urls = [\"https://cdn.pydata.org/bokeh/release/bokeh-0.12.13.min.js\", \"https://cdn.pydata.org/bokeh/release/bokeh-widgets-0.12.13.min.js\", \"https://cdn.pydata.org/bokeh/release/bokeh-tables-0.12.13.min.js\", \"https://cdn.pydata.org/bokeh/release/bokeh-gl-0.12.13.min.js\"];\n",
       "\n",
       "  var inline_js = [\n",
       "    function(Bokeh) {\n",
       "      Bokeh.set_log_level(\"info\");\n",
       "    },\n",
       "    \n",
       "    function(Bokeh) {\n",
       "      \n",
       "    },\n",
       "    function(Bokeh) {\n",
       "      console.log(\"Bokeh: injecting CSS: https://cdn.pydata.org/bokeh/release/bokeh-0.12.13.min.css\");\n",
       "      Bokeh.embed.inject_css(\"https://cdn.pydata.org/bokeh/release/bokeh-0.12.13.min.css\");\n",
       "      console.log(\"Bokeh: injecting CSS: https://cdn.pydata.org/bokeh/release/bokeh-widgets-0.12.13.min.css\");\n",
       "      Bokeh.embed.inject_css(\"https://cdn.pydata.org/bokeh/release/bokeh-widgets-0.12.13.min.css\");\n",
       "      console.log(\"Bokeh: injecting CSS: https://cdn.pydata.org/bokeh/release/bokeh-tables-0.12.13.min.css\");\n",
       "      Bokeh.embed.inject_css(\"https://cdn.pydata.org/bokeh/release/bokeh-tables-0.12.13.min.css\");\n",
       "    }\n",
       "  ];\n",
       "\n",
       "  function run_inline_js() {\n",
       "    \n",
       "    if ((root.Bokeh !== undefined) || (force === true)) {\n",
       "      for (var i = 0; i < inline_js.length; i++) {\n",
       "        inline_js[i].call(root, root.Bokeh);\n",
       "      }if (force === true) {\n",
       "        display_loaded();\n",
       "      }} else if (Date.now() < root._bokeh_timeout) {\n",
       "      setTimeout(run_inline_js, 100);\n",
       "    } else if (!root._bokeh_failed_load) {\n",
       "      console.log(\"Bokeh: BokehJS failed to load within specified timeout.\");\n",
       "      root._bokeh_failed_load = true;\n",
       "    } else if (force !== true) {\n",
       "      var cell = $(document.getElementById(\"53b82fd0-1fe5-42bb-83ab-b924c13dab5e\")).parents('.cell').data().cell;\n",
       "      cell.output_area.append_execute_result(NB_LOAD_WARNING)\n",
       "    }\n",
       "\n",
       "  }\n",
       "\n",
       "  if (root._bokeh_is_loading === 0) {\n",
       "    console.log(\"Bokeh: BokehJS loaded, going straight to plotting\");\n",
       "    run_inline_js();\n",
       "  } else {\n",
       "    load_libs(js_urls, function() {\n",
       "      console.log(\"Bokeh: BokehJS plotting callback run at\", now());\n",
       "      run_inline_js();\n",
       "    });\n",
       "  }\n",
       "}(window));"
      ],
      "application/vnd.bokehjs_load.v0+json": "\n(function(root) {\n  function now() {\n    return new Date();\n  }\n\n  var force = true;\n\n  if (typeof (root._bokeh_onload_callbacks) === \"undefined\" || force === true) {\n    root._bokeh_onload_callbacks = [];\n    root._bokeh_is_loading = undefined;\n  }\n\n  \n\n  \n  if (typeof (root._bokeh_timeout) === \"undefined\" || force === true) {\n    root._bokeh_timeout = Date.now() + 5000;\n    root._bokeh_failed_load = false;\n  }\n\n  var NB_LOAD_WARNING = {'data': {'text/html':\n     \"<div style='background-color: #fdd'>\\n\"+\n     \"<p>\\n\"+\n     \"BokehJS does not appear to have successfully loaded. If loading BokehJS from CDN, this \\n\"+\n     \"may be due to a slow or bad network connection. Possible fixes:\\n\"+\n     \"</p>\\n\"+\n     \"<ul>\\n\"+\n     \"<li>re-rerun `output_notebook()` to attempt to load from CDN again, or</li>\\n\"+\n     \"<li>use INLINE resources instead, as so:</li>\\n\"+\n     \"</ul>\\n\"+\n     \"<code>\\n\"+\n     \"from bokeh.resources import INLINE\\n\"+\n     \"output_notebook(resources=INLINE)\\n\"+\n     \"</code>\\n\"+\n     \"</div>\"}};\n\n  function display_loaded() {\n    var el = document.getElementById(\"53b82fd0-1fe5-42bb-83ab-b924c13dab5e\");\n    if (el != null) {\n      el.textContent = \"BokehJS is loading...\";\n    }\n    if (root.Bokeh !== undefined) {\n      if (el != null) {\n        el.textContent = \"BokehJS \" + root.Bokeh.version + \" successfully loaded.\";\n      }\n    } else if (Date.now() < root._bokeh_timeout) {\n      setTimeout(display_loaded, 100)\n    }\n  }\n\n\n  function run_callbacks() {\n    try {\n      root._bokeh_onload_callbacks.forEach(function(callback) { callback() });\n    }\n    finally {\n      delete root._bokeh_onload_callbacks\n    }\n    console.info(\"Bokeh: all callbacks have finished\");\n  }\n\n  function load_libs(js_urls, callback) {\n    root._bokeh_onload_callbacks.push(callback);\n    if (root._bokeh_is_loading > 0) {\n      console.log(\"Bokeh: BokehJS is being loaded, scheduling callback at\", now());\n      return null;\n    }\n    if (js_urls == null || js_urls.length === 0) {\n      run_callbacks();\n      return null;\n    }\n    console.log(\"Bokeh: BokehJS not loaded, scheduling load and callback at\", now());\n    root._bokeh_is_loading = js_urls.length;\n    for (var i = 0; i < js_urls.length; i++) {\n      var url = js_urls[i];\n      var s = document.createElement('script');\n      s.src = url;\n      s.async = false;\n      s.onreadystatechange = s.onload = function() {\n        root._bokeh_is_loading--;\n        if (root._bokeh_is_loading === 0) {\n          console.log(\"Bokeh: all BokehJS libraries loaded\");\n          run_callbacks()\n        }\n      };\n      s.onerror = function() {\n        console.warn(\"failed to load library \" + url);\n      };\n      console.log(\"Bokeh: injecting script tag for BokehJS library: \", url);\n      document.getElementsByTagName(\"head\")[0].appendChild(s);\n    }\n  };var element = document.getElementById(\"53b82fd0-1fe5-42bb-83ab-b924c13dab5e\");\n  if (element == null) {\n    console.log(\"Bokeh: ERROR: autoload.js configured with elementid '53b82fd0-1fe5-42bb-83ab-b924c13dab5e' but no matching script tag was found. \")\n    return false;\n  }\n\n  var js_urls = [\"https://cdn.pydata.org/bokeh/release/bokeh-0.12.13.min.js\", \"https://cdn.pydata.org/bokeh/release/bokeh-widgets-0.12.13.min.js\", \"https://cdn.pydata.org/bokeh/release/bokeh-tables-0.12.13.min.js\", \"https://cdn.pydata.org/bokeh/release/bokeh-gl-0.12.13.min.js\"];\n\n  var inline_js = [\n    function(Bokeh) {\n      Bokeh.set_log_level(\"info\");\n    },\n    \n    function(Bokeh) {\n      \n    },\n    function(Bokeh) {\n      console.log(\"Bokeh: injecting CSS: https://cdn.pydata.org/bokeh/release/bokeh-0.12.13.min.css\");\n      Bokeh.embed.inject_css(\"https://cdn.pydata.org/bokeh/release/bokeh-0.12.13.min.css\");\n      console.log(\"Bokeh: injecting CSS: https://cdn.pydata.org/bokeh/release/bokeh-widgets-0.12.13.min.css\");\n      Bokeh.embed.inject_css(\"https://cdn.pydata.org/bokeh/release/bokeh-widgets-0.12.13.min.css\");\n      console.log(\"Bokeh: injecting CSS: https://cdn.pydata.org/bokeh/release/bokeh-tables-0.12.13.min.css\");\n      Bokeh.embed.inject_css(\"https://cdn.pydata.org/bokeh/release/bokeh-tables-0.12.13.min.css\");\n    }\n  ];\n\n  function run_inline_js() {\n    \n    if ((root.Bokeh !== undefined) || (force === true)) {\n      for (var i = 0; i < inline_js.length; i++) {\n        inline_js[i].call(root, root.Bokeh);\n      }if (force === true) {\n        display_loaded();\n      }} else if (Date.now() < root._bokeh_timeout) {\n      setTimeout(run_inline_js, 100);\n    } else if (!root._bokeh_failed_load) {\n      console.log(\"Bokeh: BokehJS failed to load within specified timeout.\");\n      root._bokeh_failed_load = true;\n    } else if (force !== true) {\n      var cell = $(document.getElementById(\"53b82fd0-1fe5-42bb-83ab-b924c13dab5e\")).parents('.cell').data().cell;\n      cell.output_area.append_execute_result(NB_LOAD_WARNING)\n    }\n\n  }\n\n  if (root._bokeh_is_loading === 0) {\n    console.log(\"Bokeh: BokehJS loaded, going straight to plotting\");\n    run_inline_js();\n  } else {\n    load_libs(js_urls, function() {\n      console.log(\"Bokeh: BokehJS plotting callback run at\", now());\n      run_inline_js();\n    });\n  }\n}(window));"
     },
     "metadata": {},
     "output_type": "display_data"
    }
   ],
   "source": [
    "output_notebook()"
   ]
  },
  {
   "cell_type": "markdown",
   "metadata": {},
   "source": [
    "# Some Basic Scatter Plots\n",
    "\n",
    "In this section you will see how to use Bokeh's various marker types to create simple scatter plots. "
   ]
  },
  {
   "cell_type": "code",
   "execution_count": 3,
   "metadata": {},
   "outputs": [
    {
     "data": {
      "text/html": [
       "\n",
       "<div class=\"bk-root\">\n",
       "    <div class=\"bk-plotdiv\" id=\"fa1ecf7d-9a56-47db-861e-2da4ed5fef5b\"></div>\n",
       "</div>"
      ]
     },
     "metadata": {},
     "output_type": "display_data"
    },
    {
     "data": {
      "application/javascript": [
       "(function(root) {\n",
       "  function embed_document(root) {\n",
       "    \n",
       "  var docs_json = {\"8504e34d-fbdc-430a-87f4-18a829d17b14\":{\"roots\":{\"references\":[{\"attributes\":{\"formatter\":{\"id\":\"79c38a8d-1fd4-4b74-8c1d-f64e70be696f\",\"type\":\"BasicTickFormatter\"},\"plot\":{\"id\":\"2683559c-bad5-44b9-80ef-402114afbfc6\",\"subtype\":\"Figure\",\"type\":\"Plot\"},\"ticker\":{\"id\":\"c34d9071-ce7e-422c-bd2d-b8695e148ed0\",\"type\":\"BasicTicker\"}},\"id\":\"974038ee-968b-484a-b283-3d8db64fda24\",\"type\":\"LinearAxis\"},{\"attributes\":{},\"id\":\"c34d9071-ce7e-422c-bd2d-b8695e148ed0\",\"type\":\"BasicTicker\"},{\"attributes\":{\"dimension\":1,\"plot\":{\"id\":\"2683559c-bad5-44b9-80ef-402114afbfc6\",\"subtype\":\"Figure\",\"type\":\"Plot\"},\"ticker\":{\"id\":\"c34d9071-ce7e-422c-bd2d-b8695e148ed0\",\"type\":\"BasicTicker\"}},\"id\":\"0da5da17-f35e-484f-a6db-7854b70442a3\",\"type\":\"Grid\"},{\"attributes\":{\"bottom_units\":\"screen\",\"fill_alpha\":{\"value\":0.5},\"fill_color\":{\"value\":\"lightgrey\"},\"left_units\":\"screen\",\"level\":\"overlay\",\"line_alpha\":{\"value\":1.0},\"line_color\":{\"value\":\"black\"},\"line_dash\":[4,4],\"line_width\":{\"value\":2},\"plot\":null,\"render_mode\":\"css\",\"right_units\":\"screen\",\"top_units\":\"screen\"},\"id\":\"4ca9c5da-c1e8-4839-b07c-c73a8035fa3b\",\"type\":\"BoxAnnotation\"},{\"attributes\":{\"data_source\":{\"id\":\"ee3b36b5-ef45-4520-8d8d-3022202a392a\",\"type\":\"ColumnDataSource\"},\"glyph\":{\"id\":\"89e33dd6-c7af-48a5-9c04-410460e62c24\",\"type\":\"Circle\"},\"hover_glyph\":null,\"muted_glyph\":null,\"nonselection_glyph\":{\"id\":\"29c7a651-731f-44a2-b239-83ab48f340bd\",\"type\":\"Circle\"},\"selection_glyph\":null,\"view\":{\"id\":\"664ecda3-506b-47df-bbc6-94cfbea8238e\",\"type\":\"CDSView\"}},\"id\":\"94211021-6904-430b-847d-fdafe1ffc615\",\"type\":\"GlyphRenderer\"},{\"attributes\":{\"fill_alpha\":{\"value\":0.5},\"fill_color\":{\"value\":\"orange\"},\"line_color\":{\"value\":\"navy\"},\"size\":{\"units\":\"screen\",\"value\":15},\"x\":{\"field\":\"x\"},\"y\":{\"field\":\"y\"}},\"id\":\"89e33dd6-c7af-48a5-9c04-410460e62c24\",\"type\":\"Circle\"},{\"attributes\":{\"below\":[{\"id\":\"a5032acf-2b10-4a7c-b715-4cb2e050f823\",\"type\":\"LinearAxis\"}],\"left\":[{\"id\":\"974038ee-968b-484a-b283-3d8db64fda24\",\"type\":\"LinearAxis\"}],\"plot_height\":400,\"plot_width\":400,\"renderers\":[{\"id\":\"a5032acf-2b10-4a7c-b715-4cb2e050f823\",\"type\":\"LinearAxis\"},{\"id\":\"9b270252-e9a8-4647-9b06-8cfe0990476c\",\"type\":\"Grid\"},{\"id\":\"974038ee-968b-484a-b283-3d8db64fda24\",\"type\":\"LinearAxis\"},{\"id\":\"0da5da17-f35e-484f-a6db-7854b70442a3\",\"type\":\"Grid\"},{\"id\":\"4ca9c5da-c1e8-4839-b07c-c73a8035fa3b\",\"type\":\"BoxAnnotation\"},{\"id\":\"94211021-6904-430b-847d-fdafe1ffc615\",\"type\":\"GlyphRenderer\"}],\"title\":{\"id\":\"ccb94aff-9251-4304-a78f-c27b260d7125\",\"type\":\"Title\"},\"toolbar\":{\"id\":\"b9e876e5-8849-40eb-9da0-e5e880c63c42\",\"type\":\"Toolbar\"},\"x_range\":{\"id\":\"2b88cf15-5a13-4303-a69a-716481eced15\",\"type\":\"DataRange1d\"},\"x_scale\":{\"id\":\"c87eccbc-7c39-48db-8d44-cc1d65a925cb\",\"type\":\"LinearScale\"},\"y_range\":{\"id\":\"4c207535-b900-400e-bbd7-9204e57df2ea\",\"type\":\"DataRange1d\"},\"y_scale\":{\"id\":\"719eb4c7-4e85-45dd-abfd-e261f4dda9f8\",\"type\":\"LinearScale\"}},\"id\":\"2683559c-bad5-44b9-80ef-402114afbfc6\",\"subtype\":\"Figure\",\"type\":\"Plot\"},{\"attributes\":{\"callback\":null,\"column_names\":[\"x\",\"y\"],\"data\":{\"x\":[1,2,3,4,5],\"y\":[6,7,2,4,5]}},\"id\":\"ee3b36b5-ef45-4520-8d8d-3022202a392a\",\"type\":\"ColumnDataSource\"},{\"attributes\":{},\"id\":\"b87951c3-b9fa-4393-bce6-7e55730999c6\",\"type\":\"PanTool\"},{\"attributes\":{\"active_drag\":\"auto\",\"active_inspect\":\"auto\",\"active_scroll\":\"auto\",\"active_tap\":\"auto\",\"tools\":[{\"id\":\"b87951c3-b9fa-4393-bce6-7e55730999c6\",\"type\":\"PanTool\"},{\"id\":\"3c45f0e6-d8a0-4b9b-825a-3048f9a40a2f\",\"type\":\"WheelZoomTool\"},{\"id\":\"6ac4be8f-b0ed-4368-8f1a-c216ab624d32\",\"type\":\"BoxZoomTool\"},{\"id\":\"0b52e47c-8117-4051-b0cf-c811c76b7567\",\"type\":\"SaveTool\"},{\"id\":\"26986bc1-6a17-49c1-aa6a-a17968c32cf4\",\"type\":\"ResetTool\"},{\"id\":\"0f77aad2-00d8-4c6b-95da-acbe1708d913\",\"type\":\"HelpTool\"}]},\"id\":\"b9e876e5-8849-40eb-9da0-e5e880c63c42\",\"type\":\"Toolbar\"},{\"attributes\":{},\"id\":\"3c45f0e6-d8a0-4b9b-825a-3048f9a40a2f\",\"type\":\"WheelZoomTool\"},{\"attributes\":{\"callback\":null},\"id\":\"2b88cf15-5a13-4303-a69a-716481eced15\",\"type\":\"DataRange1d\"},{\"attributes\":{\"overlay\":{\"id\":\"4ca9c5da-c1e8-4839-b07c-c73a8035fa3b\",\"type\":\"BoxAnnotation\"}},\"id\":\"6ac4be8f-b0ed-4368-8f1a-c216ab624d32\",\"type\":\"BoxZoomTool\"},{\"attributes\":{\"source\":{\"id\":\"ee3b36b5-ef45-4520-8d8d-3022202a392a\",\"type\":\"ColumnDataSource\"}},\"id\":\"664ecda3-506b-47df-bbc6-94cfbea8238e\",\"type\":\"CDSView\"},{\"attributes\":{},\"id\":\"0b52e47c-8117-4051-b0cf-c811c76b7567\",\"type\":\"SaveTool\"},{\"attributes\":{\"callback\":null},\"id\":\"4c207535-b900-400e-bbd7-9204e57df2ea\",\"type\":\"DataRange1d\"},{\"attributes\":{\"plot\":null,\"text\":\"\"},\"id\":\"ccb94aff-9251-4304-a78f-c27b260d7125\",\"type\":\"Title\"},{\"attributes\":{},\"id\":\"c87eccbc-7c39-48db-8d44-cc1d65a925cb\",\"type\":\"LinearScale\"},{\"attributes\":{\"fill_alpha\":{\"value\":0.1},\"fill_color\":{\"value\":\"#1f77b4\"},\"line_alpha\":{\"value\":0.1},\"line_color\":{\"value\":\"#1f77b4\"},\"size\":{\"units\":\"screen\",\"value\":15},\"x\":{\"field\":\"x\"},\"y\":{\"field\":\"y\"}},\"id\":\"29c7a651-731f-44a2-b239-83ab48f340bd\",\"type\":\"Circle\"},{\"attributes\":{},\"id\":\"26986bc1-6a17-49c1-aa6a-a17968c32cf4\",\"type\":\"ResetTool\"},{\"attributes\":{},\"id\":\"0f77aad2-00d8-4c6b-95da-acbe1708d913\",\"type\":\"HelpTool\"},{\"attributes\":{},\"id\":\"719eb4c7-4e85-45dd-abfd-e261f4dda9f8\",\"type\":\"LinearScale\"},{\"attributes\":{},\"id\":\"79c38a8d-1fd4-4b74-8c1d-f64e70be696f\",\"type\":\"BasicTickFormatter\"},{\"attributes\":{},\"id\":\"04a56a4c-1d74-478a-a49d-639241a645e7\",\"type\":\"BasicTickFormatter\"},{\"attributes\":{\"formatter\":{\"id\":\"04a56a4c-1d74-478a-a49d-639241a645e7\",\"type\":\"BasicTickFormatter\"},\"plot\":{\"id\":\"2683559c-bad5-44b9-80ef-402114afbfc6\",\"subtype\":\"Figure\",\"type\":\"Plot\"},\"ticker\":{\"id\":\"d3d465ff-c17f-416f-8c5f-96251edf81ad\",\"type\":\"BasicTicker\"}},\"id\":\"a5032acf-2b10-4a7c-b715-4cb2e050f823\",\"type\":\"LinearAxis\"},{\"attributes\":{},\"id\":\"d3d465ff-c17f-416f-8c5f-96251edf81ad\",\"type\":\"BasicTicker\"},{\"attributes\":{\"plot\":{\"id\":\"2683559c-bad5-44b9-80ef-402114afbfc6\",\"subtype\":\"Figure\",\"type\":\"Plot\"},\"ticker\":{\"id\":\"d3d465ff-c17f-416f-8c5f-96251edf81ad\",\"type\":\"BasicTicker\"}},\"id\":\"9b270252-e9a8-4647-9b06-8cfe0990476c\",\"type\":\"Grid\"}],\"root_ids\":[\"2683559c-bad5-44b9-80ef-402114afbfc6\"]},\"title\":\"Bokeh Application\",\"version\":\"0.12.13\"}};\n",
       "  var render_items = [{\"docid\":\"8504e34d-fbdc-430a-87f4-18a829d17b14\",\"elementid\":\"fa1ecf7d-9a56-47db-861e-2da4ed5fef5b\",\"modelid\":\"2683559c-bad5-44b9-80ef-402114afbfc6\"}];\n",
       "  root.Bokeh.embed.embed_items_notebook(docs_json, render_items);\n",
       "\n",
       "  }\n",
       "  if (root.Bokeh !== undefined) {\n",
       "    embed_document(root);\n",
       "  } else {\n",
       "    var attempts = 0;\n",
       "    var timer = setInterval(function(root) {\n",
       "      if (root.Bokeh !== undefined) {\n",
       "        embed_document(root);\n",
       "        clearInterval(timer);\n",
       "      }\n",
       "      attempts++;\n",
       "      if (attempts > 100) {\n",
       "        console.log(\"Bokeh: ERROR: Unable to run BokehJS code because BokehJS library is missing\")\n",
       "        clearInterval(timer);\n",
       "      }\n",
       "    }, 10, root)\n",
       "  }\n",
       "})(window);"
      ],
      "application/vnd.bokehjs_exec.v0+json": ""
     },
     "metadata": {
      "application/vnd.bokehjs_exec.v0+json": {
       "id": "2683559c-bad5-44b9-80ef-402114afbfc6"
      }
     },
     "output_type": "display_data"
    }
   ],
   "source": [
    "# create a new plot with default tools, using figure\n",
    "p = figure(plot_width=400, plot_height=400)\n",
    "\n",
    "# add a circle renderer with a size, color, and alpha\n",
    "p.circle([1, 2, 3, 4, 5], [6, 7, 2, 4, 5], size=15, line_color=\"navy\", fill_color=\"orange\", fill_alpha=0.5)\n",
    "\n",
    "show(p) # show the results"
   ]
  },
  {
   "cell_type": "markdown",
   "metadata": {},
   "source": [
    "All Bokeh markers accept `size` (measured in screen space units) as a property. Circles also have `radius` (measured in \"data\" space units). "
   ]
  },
  {
   "cell_type": "code",
   "execution_count": 4,
   "metadata": {},
   "outputs": [],
   "source": [
    "# EXERCISE: Try changing the example above to set a `radius` value instead of `size`\n",
    "\n"
   ]
  },
  {
   "cell_type": "markdown",
   "metadata": {},
   "source": [
    "To scatter square markers instead of circles, you can use the `square` method on figures. "
   ]
  },
  {
   "cell_type": "code",
   "execution_count": 5,
   "metadata": {},
   "outputs": [
    {
     "data": {
      "text/html": [
       "\n",
       "<div class=\"bk-root\">\n",
       "    <div class=\"bk-plotdiv\" id=\"6c68acec-d869-48c7-89c6-1de1bc1df2c0\"></div>\n",
       "</div>"
      ]
     },
     "metadata": {},
     "output_type": "display_data"
    },
    {
     "data": {
      "application/javascript": [
       "(function(root) {\n",
       "  function embed_document(root) {\n",
       "    \n",
       "  var docs_json = {\"4705e23b-d7e1-4a0f-ab6f-d2d307d7ae88\":{\"roots\":{\"references\":[{\"attributes\":{\"fill_alpha\":{\"value\":0.6},\"fill_color\":{\"value\":\"firebrick\"},\"line_alpha\":{\"value\":0.6},\"line_color\":{\"value\":\"firebrick\"},\"size\":{\"field\":\"size\",\"units\":\"screen\"},\"x\":{\"field\":\"x\"},\"y\":{\"field\":\"y\"}},\"id\":\"9e4f2fac-ea4a-49b8-8372-583bf3288f8e\",\"type\":\"Square\"},{\"attributes\":{\"overlay\":{\"id\":\"301156fa-c479-4b09-b69a-d071a4329665\",\"type\":\"BoxAnnotation\"}},\"id\":\"6633de47-328e-4acd-88d8-adb0e55f683d\",\"type\":\"BoxZoomTool\"},{\"attributes\":{\"dimension\":1,\"plot\":{\"id\":\"59f60bb9-c1b5-4df4-b4ba-eac868022801\",\"subtype\":\"Figure\",\"type\":\"Plot\"},\"ticker\":{\"id\":\"58a9c3dd-839f-4ae3-8a35-e8faf0523481\",\"type\":\"BasicTicker\"}},\"id\":\"372f167d-46ae-480e-b975-aefb80bfe133\",\"type\":\"Grid\"},{\"attributes\":{\"fill_alpha\":{\"value\":0.1},\"fill_color\":{\"value\":\"#1f77b4\"},\"line_alpha\":{\"value\":0.1},\"line_color\":{\"value\":\"#1f77b4\"},\"size\":{\"field\":\"size\",\"units\":\"screen\"},\"x\":{\"field\":\"x\"},\"y\":{\"field\":\"y\"}},\"id\":\"3318fa0a-5c8f-486b-8d5f-143b07a7010b\",\"type\":\"Square\"},{\"attributes\":{\"data_source\":{\"id\":\"98a89e23-d5da-4e14-9a64-2adc70ecadd2\",\"type\":\"ColumnDataSource\"},\"glyph\":{\"id\":\"9e4f2fac-ea4a-49b8-8372-583bf3288f8e\",\"type\":\"Square\"},\"hover_glyph\":null,\"muted_glyph\":null,\"nonselection_glyph\":{\"id\":\"3318fa0a-5c8f-486b-8d5f-143b07a7010b\",\"type\":\"Square\"},\"selection_glyph\":null,\"view\":{\"id\":\"967c95ef-85ee-41c9-bbad-2d89b32b5fcf\",\"type\":\"CDSView\"}},\"id\":\"a4aa0879-dd83-4a57-9b51-61c11f1b39fb\",\"type\":\"GlyphRenderer\"},{\"attributes\":{},\"id\":\"58a9c3dd-839f-4ae3-8a35-e8faf0523481\",\"type\":\"BasicTicker\"},{\"attributes\":{\"formatter\":{\"id\":\"fe0bc94e-66ad-444f-857e-ed7bb45db7ed\",\"type\":\"BasicTickFormatter\"},\"plot\":{\"id\":\"59f60bb9-c1b5-4df4-b4ba-eac868022801\",\"subtype\":\"Figure\",\"type\":\"Plot\"},\"ticker\":{\"id\":\"58a9c3dd-839f-4ae3-8a35-e8faf0523481\",\"type\":\"BasicTicker\"}},\"id\":\"85cc6182-095c-4530-8d9a-8e35889fd365\",\"type\":\"LinearAxis\"},{\"attributes\":{},\"id\":\"28866919-9a1f-4d64-b3ab-2bb529dec045\",\"type\":\"BasicTickFormatter\"},{\"attributes\":{\"callback\":null,\"column_names\":[\"x\",\"y\",\"size\"],\"data\":{\"size\":[10,15,20,25,30],\"x\":[1,2,3,4,5],\"y\":[6,7,2,4,5]}},\"id\":\"98a89e23-d5da-4e14-9a64-2adc70ecadd2\",\"type\":\"ColumnDataSource\"},{\"attributes\":{},\"id\":\"df46f39a-f1de-4494-b197-40defd9a77e2\",\"type\":\"HelpTool\"},{\"attributes\":{},\"id\":\"c592c85f-a263-4c20-9942-d08da6c747b1\",\"type\":\"ResetTool\"},{\"attributes\":{},\"id\":\"20dc32ae-6845-49fc-b63c-65e22ff55606\",\"type\":\"LinearScale\"},{\"attributes\":{},\"id\":\"3884b502-2f24-4934-bc44-b9dae6ff313e\",\"type\":\"WheelZoomTool\"},{\"attributes\":{},\"id\":\"e70dede3-8c04-42b9-83c7-99257043ec05\",\"type\":\"LinearScale\"},{\"attributes\":{\"callback\":null},\"id\":\"b4ab6213-f123-48d2-9371-e161a3a32d7d\",\"type\":\"DataRange1d\"},{\"attributes\":{\"source\":{\"id\":\"98a89e23-d5da-4e14-9a64-2adc70ecadd2\",\"type\":\"ColumnDataSource\"}},\"id\":\"967c95ef-85ee-41c9-bbad-2d89b32b5fcf\",\"type\":\"CDSView\"},{\"attributes\":{},\"id\":\"fe0bc94e-66ad-444f-857e-ed7bb45db7ed\",\"type\":\"BasicTickFormatter\"},{\"attributes\":{\"callback\":null},\"id\":\"57cade3e-dbf2-4234-89da-3e1e4873a761\",\"type\":\"DataRange1d\"},{\"attributes\":{},\"id\":\"c306d392-8b46-4c72-8bcd-15739a48122c\",\"type\":\"BasicTicker\"},{\"attributes\":{\"below\":[{\"id\":\"b80f819d-a81c-4ec7-bb6b-35fe29ab433d\",\"type\":\"LinearAxis\"}],\"left\":[{\"id\":\"85cc6182-095c-4530-8d9a-8e35889fd365\",\"type\":\"LinearAxis\"}],\"plot_height\":400,\"plot_width\":400,\"renderers\":[{\"id\":\"b80f819d-a81c-4ec7-bb6b-35fe29ab433d\",\"type\":\"LinearAxis\"},{\"id\":\"bf93c937-3f33-43cb-9b98-4eaf88cfb7c1\",\"type\":\"Grid\"},{\"id\":\"85cc6182-095c-4530-8d9a-8e35889fd365\",\"type\":\"LinearAxis\"},{\"id\":\"372f167d-46ae-480e-b975-aefb80bfe133\",\"type\":\"Grid\"},{\"id\":\"301156fa-c479-4b09-b69a-d071a4329665\",\"type\":\"BoxAnnotation\"},{\"id\":\"a4aa0879-dd83-4a57-9b51-61c11f1b39fb\",\"type\":\"GlyphRenderer\"}],\"title\":{\"id\":\"510acc83-429c-4fb7-a729-0fdd735dbfe0\",\"type\":\"Title\"},\"toolbar\":{\"id\":\"01bc7cd8-7963-4815-83da-e71fb2df26c9\",\"type\":\"Toolbar\"},\"x_range\":{\"id\":\"57cade3e-dbf2-4234-89da-3e1e4873a761\",\"type\":\"DataRange1d\"},\"x_scale\":{\"id\":\"20dc32ae-6845-49fc-b63c-65e22ff55606\",\"type\":\"LinearScale\"},\"y_range\":{\"id\":\"b4ab6213-f123-48d2-9371-e161a3a32d7d\",\"type\":\"DataRange1d\"},\"y_scale\":{\"id\":\"e70dede3-8c04-42b9-83c7-99257043ec05\",\"type\":\"LinearScale\"}},\"id\":\"59f60bb9-c1b5-4df4-b4ba-eac868022801\",\"subtype\":\"Figure\",\"type\":\"Plot\"},{\"attributes\":{\"formatter\":{\"id\":\"28866919-9a1f-4d64-b3ab-2bb529dec045\",\"type\":\"BasicTickFormatter\"},\"plot\":{\"id\":\"59f60bb9-c1b5-4df4-b4ba-eac868022801\",\"subtype\":\"Figure\",\"type\":\"Plot\"},\"ticker\":{\"id\":\"c306d392-8b46-4c72-8bcd-15739a48122c\",\"type\":\"BasicTicker\"}},\"id\":\"b80f819d-a81c-4ec7-bb6b-35fe29ab433d\",\"type\":\"LinearAxis\"},{\"attributes\":{\"plot\":{\"id\":\"59f60bb9-c1b5-4df4-b4ba-eac868022801\",\"subtype\":\"Figure\",\"type\":\"Plot\"},\"ticker\":{\"id\":\"c306d392-8b46-4c72-8bcd-15739a48122c\",\"type\":\"BasicTicker\"}},\"id\":\"bf93c937-3f33-43cb-9b98-4eaf88cfb7c1\",\"type\":\"Grid\"},{\"attributes\":{\"active_drag\":\"auto\",\"active_inspect\":\"auto\",\"active_scroll\":\"auto\",\"active_tap\":\"auto\",\"tools\":[{\"id\":\"13131d85-140d-4e9c-9e52-8334b048578b\",\"type\":\"PanTool\"},{\"id\":\"3884b502-2f24-4934-bc44-b9dae6ff313e\",\"type\":\"WheelZoomTool\"},{\"id\":\"6633de47-328e-4acd-88d8-adb0e55f683d\",\"type\":\"BoxZoomTool\"},{\"id\":\"132ff344-4f45-476d-9b17-13a060c6c8d5\",\"type\":\"SaveTool\"},{\"id\":\"c592c85f-a263-4c20-9942-d08da6c747b1\",\"type\":\"ResetTool\"},{\"id\":\"df46f39a-f1de-4494-b197-40defd9a77e2\",\"type\":\"HelpTool\"}]},\"id\":\"01bc7cd8-7963-4815-83da-e71fb2df26c9\",\"type\":\"Toolbar\"},{\"attributes\":{},\"id\":\"13131d85-140d-4e9c-9e52-8334b048578b\",\"type\":\"PanTool\"},{\"attributes\":{\"plot\":null,\"text\":\"\"},\"id\":\"510acc83-429c-4fb7-a729-0fdd735dbfe0\",\"type\":\"Title\"},{\"attributes\":{\"bottom_units\":\"screen\",\"fill_alpha\":{\"value\":0.5},\"fill_color\":{\"value\":\"lightgrey\"},\"left_units\":\"screen\",\"level\":\"overlay\",\"line_alpha\":{\"value\":1.0},\"line_color\":{\"value\":\"black\"},\"line_dash\":[4,4],\"line_width\":{\"value\":2},\"plot\":null,\"render_mode\":\"css\",\"right_units\":\"screen\",\"top_units\":\"screen\"},\"id\":\"301156fa-c479-4b09-b69a-d071a4329665\",\"type\":\"BoxAnnotation\"},{\"attributes\":{},\"id\":\"132ff344-4f45-476d-9b17-13a060c6c8d5\",\"type\":\"SaveTool\"}],\"root_ids\":[\"59f60bb9-c1b5-4df4-b4ba-eac868022801\"]},\"title\":\"Bokeh Application\",\"version\":\"0.12.13\"}};\n",
       "  var render_items = [{\"docid\":\"4705e23b-d7e1-4a0f-ab6f-d2d307d7ae88\",\"elementid\":\"6c68acec-d869-48c7-89c6-1de1bc1df2c0\",\"modelid\":\"59f60bb9-c1b5-4df4-b4ba-eac868022801\"}];\n",
       "  root.Bokeh.embed.embed_items_notebook(docs_json, render_items);\n",
       "\n",
       "  }\n",
       "  if (root.Bokeh !== undefined) {\n",
       "    embed_document(root);\n",
       "  } else {\n",
       "    var attempts = 0;\n",
       "    var timer = setInterval(function(root) {\n",
       "      if (root.Bokeh !== undefined) {\n",
       "        embed_document(root);\n",
       "        clearInterval(timer);\n",
       "      }\n",
       "      attempts++;\n",
       "      if (attempts > 100) {\n",
       "        console.log(\"Bokeh: ERROR: Unable to run BokehJS code because BokehJS library is missing\")\n",
       "        clearInterval(timer);\n",
       "      }\n",
       "    }, 10, root)\n",
       "  }\n",
       "})(window);"
      ],
      "application/vnd.bokehjs_exec.v0+json": ""
     },
     "metadata": {
      "application/vnd.bokehjs_exec.v0+json": {
       "id": "59f60bb9-c1b5-4df4-b4ba-eac868022801"
      }
     },
     "output_type": "display_data"
    }
   ],
   "source": [
    "# create a new plot using figure\n",
    "p = figure(plot_width=400, plot_height=400)\n",
    "\n",
    "# add a square renderer with a size, color, alpha, and sizes\n",
    "p.square([1, 2, 3, 4, 5], [6, 7, 2, 4, 5], size=[10, 15, 20, 25, 30], color=\"firebrick\", alpha=0.6)\n",
    "\n",
    "show(p) # show the results"
   ]
  },
  {
   "cell_type": "markdown",
   "metadata": {},
   "source": [
    "Note that in the example above, we are also specifying different sizes for each individual marker. ***In general, all of a glyph's properties can be \"vectorized\" in this fashion. ***  Also note that we have passed ``color`` as a shorthand to set both the line and fill colors easily at the same time. This is a convenience specific to ``bokeh.plotting``.\n",
    "\n",
    "</table><p>There are many marker types available in Bokeh, you can see details and\n",
    "example plots for all of them in the reference guide by clicking on entries in the list below:</p>\n",
    "<table class=\"hlist\" style=\"float:left\"><tr><td><ul>\n",
    "<li><a href=\"http://bokeh.pydata.org/en/latest/docs/reference/plotting.html#bokeh.plotting.Figure.asterisk\" title=\"bokeh.plotting.Figure.asterisk\"><code class=\"xref py py-func docutils literal\"><span class=\"pre\">asterisk()</span></code></a></li>\n",
    "<li><a href=\"http://bokeh.pydata.org/en/latest/docs/reference/plotting.html#bokeh.plotting.Figure.circle\" title=\"bokeh.plotting.Figure.circle\"><code class=\"xref py py-func docutils literal\"><span class=\"pre\">circle()</span></code></a></li>\n",
    "<li><a href=\"http://bokeh.pydata.org/en/latest/docs/reference/plotting.html#bokeh.plotting.Figure.circle_cross\" title=\"bokeh.plotting.Figure.circle_cross\"><code class=\"xref py py-func docutils literal\"><span class=\"pre\">circle_cross()</span></code></a></li>\n",
    "<li><a href=\"http://bokeh.pydata.org/en/latest/docs/reference/plotting.html#bokeh.plotting.Figure.circle_x\" title=\"bokeh.plotting.Figure.circle_x\"><code class=\"xref py py-func docutils literal\"><span class=\"pre\">circle_x()</span></code></a></li>\n",
    "<li><a href=\"http://bokeh.pydata.org/en/latest/docs/reference/plotting.html#bokeh.plotting.Figure.cross\" title=\"bokeh.plotting.Figure.cross\"><code class=\"xref py py-func docutils literal\"><span class=\"pre\">cross()</span></code></a></li>\n",
    "</ul>\n",
    "</td><td><ul>\n",
    "<li><a href=\"http://bokeh.pydata.org/en/latest/docs/reference/plotting.html#bokeh.plotting.Figure.diamond\" title=\"bokeh.plotting.Figure.diamond\"><code class=\"xref py py-func docutils literal\"><span class=\"pre\">diamond()</span></code></a></li>\n",
    "<li><a href=\"http://bokeh.pydata.org/en/latest/docs/reference/plotting.html#bokeh.plotting.Figure.diamond_cross\" title=\"bokeh.plotting.Figure.diamond_cross\"><code class=\"xref py py-func docutils literal\"><span class=\"pre\">diamond_cross()</span></code></a></li>\n",
    "<li><a href=\"http://bokeh.pydata.org/en/latest/docs/reference/plotting.html#bokeh.plotting.Figure.inverted_triangle\" title=\"bokeh.plotting.Figure.inverted_triangle\"><code class=\"xref py py-func docutils literal\"><span class=\"pre\">inverted_triangle()</span></code></a></li>\n",
    "<li><a href=\"http://bokeh.pydata.org/en/latest/docs/reference/plotting.html#bokeh.plotting.Figure.square\" title=\"bokeh.plotting.Figure.square\"><code class=\"xref py py-func docutils literal\"><span class=\"pre\">square()</span></code></a></li>\n",
    "</ul>\n",
    "</td><td><ul>\n",
    "<li><a href=\"http://bokeh.pydata.org/en/latest/docs/reference/plotting.html#bokeh.plotting.Figure.square_cross\" title=\"bokeh.plotting.Figure.square_cross\"><code class=\"xref py py-func docutils literal\"><span class=\"pre\">square_cross()</span></code></a></li>\n",
    "<li><a href=\"http://bokeh.pydata.org/en/latest/docs/reference/plotting.html#bokeh.plotting.Figure.square_x\" title=\"bokeh.plotting.Figure.square_x\"><code class=\"xref py py-func docutils literal\"><span class=\"pre\">square_x()</span></code></a></li>\n",
    "<li><a href=\"http://bokeh.pydata.org/en/latest/docs/reference/plotting.html#bokeh.plotting.Figure.triangle\" title=\"bokeh.plotting.Figure.triangle\"><code class=\"xref py py-func docutils literal\"><span class=\"pre\">triangle()</span></code></a></li>\n",
    "<li><a href=\"http://bokeh.pydata.org/en/latest/docs/reference/plotting.html#bokeh.plotting.Figure.x\" title=\"bokeh.plotting.Figure.x\"><code class=\"xref py py-func docutils literal\"><span class=\"pre\">x()</span></code></a></li>\n",
    "</ul>\n",
    "</td></tr></table>"
   ]
  },
  {
   "cell_type": "code",
   "execution_count": 6,
   "metadata": {},
   "outputs": [],
   "source": [
    "# EXERCISE: Plot some different markers in this cell\n",
    "\n"
   ]
  },
  {
   "cell_type": "markdown",
   "metadata": {},
   "source": [
    "# Basic Line Plots"
   ]
  },
  {
   "cell_type": "code",
   "execution_count": 7,
   "metadata": {},
   "outputs": [
    {
     "data": {
      "text/html": [
       "\n",
       "<div class=\"bk-root\">\n",
       "    <div class=\"bk-plotdiv\" id=\"110726f1-5cee-4b71-b1af-4e9fcf9fb71a\"></div>\n",
       "</div>"
      ]
     },
     "metadata": {},
     "output_type": "display_data"
    },
    {
     "data": {
      "application/javascript": [
       "(function(root) {\n",
       "  function embed_document(root) {\n",
       "    \n",
       "  var docs_json = {\"9b931caf-7e6c-420b-a32b-98f7ad697d16\":{\"roots\":{\"references\":[{\"attributes\":{},\"id\":\"ab01acec-8622-4949-bde2-3abd414632e4\",\"type\":\"BasicTicker\"},{\"attributes\":{\"formatter\":{\"id\":\"abd56817-a105-4e36-8886-8b397b59cc08\",\"type\":\"BasicTickFormatter\"},\"plot\":{\"id\":\"1eed0da2-7d30-41ec-9bc4-457819a972fb\",\"subtype\":\"Figure\",\"type\":\"Plot\"},\"ticker\":{\"id\":\"ab01acec-8622-4949-bde2-3abd414632e4\",\"type\":\"BasicTicker\"}},\"id\":\"a791cdb5-b1fb-4945-a85f-0a9f30521fca\",\"type\":\"LinearAxis\"},{\"attributes\":{\"callback\":null},\"id\":\"f81c8643-27c5-4dff-9b58-fd32d72894db\",\"type\":\"DataRange1d\"},{\"attributes\":{},\"id\":\"ae8611ca-5116-4b71-85b9-4f73e7795786\",\"type\":\"PanTool\"},{\"attributes\":{},\"id\":\"84c874e8-cf6c-4108-83d4-6926f4442128\",\"type\":\"LinearScale\"},{\"attributes\":{\"bottom_units\":\"screen\",\"fill_alpha\":{\"value\":0.5},\"fill_color\":{\"value\":\"lightgrey\"},\"left_units\":\"screen\",\"level\":\"overlay\",\"line_alpha\":{\"value\":1.0},\"line_color\":{\"value\":\"black\"},\"line_dash\":[4,4],\"line_width\":{\"value\":2},\"plot\":null,\"render_mode\":\"css\",\"right_units\":\"screen\",\"top_units\":\"screen\"},\"id\":\"04c94176-0756-41dd-af12-adbc34dd0002\",\"type\":\"BoxAnnotation\"},{\"attributes\":{\"active_drag\":\"auto\",\"active_inspect\":\"auto\",\"active_scroll\":\"auto\",\"active_tap\":\"auto\",\"tools\":[{\"id\":\"ae8611ca-5116-4b71-85b9-4f73e7795786\",\"type\":\"PanTool\"},{\"id\":\"20808e43-c729-478b-a615-43fe57c22295\",\"type\":\"WheelZoomTool\"},{\"id\":\"eeaa820b-1931-40d9-9339-4033a1e26704\",\"type\":\"BoxZoomTool\"},{\"id\":\"453a3a88-3fdd-4fa3-bb5e-c430ccadbde6\",\"type\":\"SaveTool\"},{\"id\":\"5e4d8bf8-62b5-4265-b510-6d9db4527fd0\",\"type\":\"ResetTool\"},{\"id\":\"b5bde80f-cdc3-45f1-a964-7d697b5d5c59\",\"type\":\"HelpTool\"}]},\"id\":\"8ef166a0-5389-4c85-a0b2-65ab0dc53b9b\",\"type\":\"Toolbar\"},{\"attributes\":{\"line_color\":\"#1f77b4\",\"line_width\":2,\"x\":{\"field\":\"x\"},\"y\":{\"field\":\"y\"}},\"id\":\"27006f8e-d05b-4814-8d27-39cff425c0f8\",\"type\":\"Line\"},{\"attributes\":{\"data_source\":{\"id\":\"d573dd89-6643-4d87-91f6-5cf18e6664b3\",\"type\":\"ColumnDataSource\"},\"glyph\":{\"id\":\"27006f8e-d05b-4814-8d27-39cff425c0f8\",\"type\":\"Line\"},\"hover_glyph\":null,\"muted_glyph\":null,\"nonselection_glyph\":{\"id\":\"39614e6e-955e-4c69-a580-b9108e2faf21\",\"type\":\"Line\"},\"selection_glyph\":null,\"view\":{\"id\":\"20f8bb79-237e-49b6-a420-3c9a49dd19b3\",\"type\":\"CDSView\"}},\"id\":\"327ade20-ae20-4bec-9c59-c38613a972df\",\"type\":\"GlyphRenderer\"},{\"attributes\":{\"line_alpha\":0.1,\"line_color\":\"#1f77b4\",\"line_width\":2,\"x\":{\"field\":\"x\"},\"y\":{\"field\":\"y\"}},\"id\":\"39614e6e-955e-4c69-a580-b9108e2faf21\",\"type\":\"Line\"},{\"attributes\":{\"source\":{\"id\":\"d573dd89-6643-4d87-91f6-5cf18e6664b3\",\"type\":\"ColumnDataSource\"}},\"id\":\"20f8bb79-237e-49b6-a420-3c9a49dd19b3\",\"type\":\"CDSView\"},{\"attributes\":{\"dimension\":1,\"plot\":{\"id\":\"1eed0da2-7d30-41ec-9bc4-457819a972fb\",\"subtype\":\"Figure\",\"type\":\"Plot\"},\"ticker\":{\"id\":\"edfff271-c246-46c5-a2c7-d6a430610098\",\"type\":\"BasicTicker\"}},\"id\":\"84408ac5-b6e0-4e48-b93f-a16b05a68c84\",\"type\":\"Grid\"},{\"attributes\":{\"plot\":null,\"text\":\"My Line Plot\"},\"id\":\"48f76565-b79a-48b6-8649-36be806dc6a1\",\"type\":\"Title\"},{\"attributes\":{},\"id\":\"edfff271-c246-46c5-a2c7-d6a430610098\",\"type\":\"BasicTicker\"},{\"attributes\":{},\"id\":\"abd56817-a105-4e36-8886-8b397b59cc08\",\"type\":\"BasicTickFormatter\"},{\"attributes\":{\"callback\":null,\"column_names\":[\"x\",\"y\"],\"data\":{\"x\":[1,2,3,4,5],\"y\":[6,7,2,4,5]}},\"id\":\"d573dd89-6643-4d87-91f6-5cf18e6664b3\",\"type\":\"ColumnDataSource\"},{\"attributes\":{\"overlay\":{\"id\":\"04c94176-0756-41dd-af12-adbc34dd0002\",\"type\":\"BoxAnnotation\"}},\"id\":\"eeaa820b-1931-40d9-9339-4033a1e26704\",\"type\":\"BoxZoomTool\"},{\"attributes\":{},\"id\":\"90bc4793-74ff-46aa-bea8-af1893fb5770\",\"type\":\"BasicTickFormatter\"},{\"attributes\":{},\"id\":\"20808e43-c729-478b-a615-43fe57c22295\",\"type\":\"WheelZoomTool\"},{\"attributes\":{\"below\":[{\"id\":\"a791cdb5-b1fb-4945-a85f-0a9f30521fca\",\"type\":\"LinearAxis\"}],\"left\":[{\"id\":\"733e2e26-6e66-425b-83d6-7f6f211ccf62\",\"type\":\"LinearAxis\"}],\"plot_height\":400,\"plot_width\":400,\"renderers\":[{\"id\":\"a791cdb5-b1fb-4945-a85f-0a9f30521fca\",\"type\":\"LinearAxis\"},{\"id\":\"b63a2854-7336-4c74-8aeb-1eda14ed7e4a\",\"type\":\"Grid\"},{\"id\":\"733e2e26-6e66-425b-83d6-7f6f211ccf62\",\"type\":\"LinearAxis\"},{\"id\":\"84408ac5-b6e0-4e48-b93f-a16b05a68c84\",\"type\":\"Grid\"},{\"id\":\"04c94176-0756-41dd-af12-adbc34dd0002\",\"type\":\"BoxAnnotation\"},{\"id\":\"327ade20-ae20-4bec-9c59-c38613a972df\",\"type\":\"GlyphRenderer\"}],\"title\":{\"id\":\"48f76565-b79a-48b6-8649-36be806dc6a1\",\"type\":\"Title\"},\"toolbar\":{\"id\":\"8ef166a0-5389-4c85-a0b2-65ab0dc53b9b\",\"type\":\"Toolbar\"},\"x_range\":{\"id\":\"0df102fa-a1f4-4fb6-a8ee-b35cc98dc010\",\"type\":\"DataRange1d\"},\"x_scale\":{\"id\":\"84c874e8-cf6c-4108-83d4-6926f4442128\",\"type\":\"LinearScale\"},\"y_range\":{\"id\":\"f81c8643-27c5-4dff-9b58-fd32d72894db\",\"type\":\"DataRange1d\"},\"y_scale\":{\"id\":\"7a82d8ca-d334-40a3-9425-3b0f25c39b5a\",\"type\":\"LinearScale\"}},\"id\":\"1eed0da2-7d30-41ec-9bc4-457819a972fb\",\"subtype\":\"Figure\",\"type\":\"Plot\"},{\"attributes\":{\"callback\":null},\"id\":\"0df102fa-a1f4-4fb6-a8ee-b35cc98dc010\",\"type\":\"DataRange1d\"},{\"attributes\":{},\"id\":\"b5bde80f-cdc3-45f1-a964-7d697b5d5c59\",\"type\":\"HelpTool\"},{\"attributes\":{\"plot\":{\"id\":\"1eed0da2-7d30-41ec-9bc4-457819a972fb\",\"subtype\":\"Figure\",\"type\":\"Plot\"},\"ticker\":{\"id\":\"ab01acec-8622-4949-bde2-3abd414632e4\",\"type\":\"BasicTicker\"}},\"id\":\"b63a2854-7336-4c74-8aeb-1eda14ed7e4a\",\"type\":\"Grid\"},{\"attributes\":{},\"id\":\"5e4d8bf8-62b5-4265-b510-6d9db4527fd0\",\"type\":\"ResetTool\"},{\"attributes\":{},\"id\":\"7a82d8ca-d334-40a3-9425-3b0f25c39b5a\",\"type\":\"LinearScale\"},{\"attributes\":{},\"id\":\"453a3a88-3fdd-4fa3-bb5e-c430ccadbde6\",\"type\":\"SaveTool\"},{\"attributes\":{\"formatter\":{\"id\":\"90bc4793-74ff-46aa-bea8-af1893fb5770\",\"type\":\"BasicTickFormatter\"},\"plot\":{\"id\":\"1eed0da2-7d30-41ec-9bc4-457819a972fb\",\"subtype\":\"Figure\",\"type\":\"Plot\"},\"ticker\":{\"id\":\"edfff271-c246-46c5-a2c7-d6a430610098\",\"type\":\"BasicTicker\"}},\"id\":\"733e2e26-6e66-425b-83d6-7f6f211ccf62\",\"type\":\"LinearAxis\"}],\"root_ids\":[\"1eed0da2-7d30-41ec-9bc4-457819a972fb\"]},\"title\":\"Bokeh Application\",\"version\":\"0.12.13\"}};\n",
       "  var render_items = [{\"docid\":\"9b931caf-7e6c-420b-a32b-98f7ad697d16\",\"elementid\":\"110726f1-5cee-4b71-b1af-4e9fcf9fb71a\",\"modelid\":\"1eed0da2-7d30-41ec-9bc4-457819a972fb\"}];\n",
       "  root.Bokeh.embed.embed_items_notebook(docs_json, render_items);\n",
       "\n",
       "  }\n",
       "  if (root.Bokeh !== undefined) {\n",
       "    embed_document(root);\n",
       "  } else {\n",
       "    var attempts = 0;\n",
       "    var timer = setInterval(function(root) {\n",
       "      if (root.Bokeh !== undefined) {\n",
       "        embed_document(root);\n",
       "        clearInterval(timer);\n",
       "      }\n",
       "      attempts++;\n",
       "      if (attempts > 100) {\n",
       "        console.log(\"Bokeh: ERROR: Unable to run BokehJS code because BokehJS library is missing\")\n",
       "        clearInterval(timer);\n",
       "      }\n",
       "    }, 10, root)\n",
       "  }\n",
       "})(window);"
      ],
      "application/vnd.bokehjs_exec.v0+json": ""
     },
     "metadata": {
      "application/vnd.bokehjs_exec.v0+json": {
       "id": "1eed0da2-7d30-41ec-9bc4-457819a972fb"
      }
     },
     "output_type": "display_data"
    }
   ],
   "source": [
    "# create a new plot (with a title) using figure\n",
    "p = figure(plot_width=400, plot_height=400, title=\"My Line Plot\")\n",
    "\n",
    "# add a line renderer\n",
    "p.line([1, 2, 3, 4, 5], [6, 7, 2, 4, 5], line_width=2)\n",
    "\n",
    "show(p) # show the results"
   ]
  },
  {
   "cell_type": "markdown",
   "metadata": {},
   "source": [
    "# Images"
   ]
  },
  {
   "cell_type": "markdown",
   "metadata": {},
   "source": [
    "The example below shows how to use the `image_rgba` method to display raw RGBA data. \n",
    "\n",
    "**Note**: This example makes use of the NumPy library "
   ]
  },
  {
   "cell_type": "code",
   "execution_count": 8,
   "metadata": {},
   "outputs": [
    {
     "data": {
      "text/html": [
       "\n",
       "<div class=\"bk-root\">\n",
       "    <div class=\"bk-plotdiv\" id=\"aefb877a-5a1c-4177-bca5-ce8ff6b62131\"></div>\n",
       "</div>"
      ]
     },
     "metadata": {},
     "output_type": "display_data"
    },
    {
     "data": {
      "application/javascript": [
       "(function(root) {\n",
       "  function embed_document(root) {\n",
       "    \n",
       "  var docs_json = {\"ec00b5db-c15b-44a6-a104-691aaa965769\":{\"roots\":{\"references\":[{\"attributes\":{\"formatter\":{\"id\":\"8321d647-92e9-4da9-90b8-784aea57c319\",\"type\":\"BasicTickFormatter\"},\"plot\":{\"id\":\"e105c11a-a9f0-4579-938d-e9850ffb4089\",\"subtype\":\"Figure\",\"type\":\"Plot\"},\"ticker\":{\"id\":\"36425114-4789-4075-910d-b5b644a638a4\",\"type\":\"BasicTicker\"}},\"id\":\"c0360d4f-4797-412a-8b01-9afe6cbcd756\",\"type\":\"LinearAxis\"},{\"attributes\":{},\"id\":\"36425114-4789-4075-910d-b5b644a638a4\",\"type\":\"BasicTicker\"},{\"attributes\":{\"dimension\":1,\"plot\":{\"id\":\"e105c11a-a9f0-4579-938d-e9850ffb4089\",\"subtype\":\"Figure\",\"type\":\"Plot\"},\"ticker\":{\"id\":\"36425114-4789-4075-910d-b5b644a638a4\",\"type\":\"BasicTicker\"}},\"id\":\"8c9400db-886d-471c-b748-b3cc6072cb12\",\"type\":\"Grid\"},{\"attributes\":{\"dh\":{\"field\":\"dh\",\"units\":\"data\"},\"dw\":{\"field\":\"dw\",\"units\":\"data\"},\"image\":{\"field\":\"image\"},\"x\":{\"field\":\"x\"},\"y\":{\"field\":\"y\"}},\"id\":\"8a7507d5-e85e-4713-a53b-0326b0b37fe1\",\"type\":\"ImageRGBA\"},{\"attributes\":{\"dh\":{\"field\":\"dh\",\"units\":\"data\"},\"dw\":{\"field\":\"dw\",\"units\":\"data\"},\"image\":{\"field\":\"image\"},\"x\":{\"field\":\"x\"},\"y\":{\"field\":\"y\"}},\"id\":\"00de1af5-1038-479a-872b-4046625734d6\",\"type\":\"ImageRGBA\"},{\"attributes\":{\"callback\":null,\"column_names\":[\"image\",\"x\",\"y\",\"dw\",\"dh\"],\"data\":{\"dh\":[10],\"dw\":[10],\"image\":[{\"__ndarray__\":\"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\",\"dtype\":\"uint32\",\"shape\":[20,20]}],\"x\":[0],\"y\":[0]}},\"id\":\"314dee50-cfe9-40d8-9a23-8a4b5bba8d61\",\"type\":\"ColumnDataSource\"},{\"attributes\":{\"data_source\":{\"id\":\"314dee50-cfe9-40d8-9a23-8a4b5bba8d61\",\"type\":\"ColumnDataSource\"},\"glyph\":{\"id\":\"00de1af5-1038-479a-872b-4046625734d6\",\"type\":\"ImageRGBA\"},\"hover_glyph\":null,\"muted_glyph\":null,\"nonselection_glyph\":{\"id\":\"8a7507d5-e85e-4713-a53b-0326b0b37fe1\",\"type\":\"ImageRGBA\"},\"selection_glyph\":null,\"view\":{\"id\":\"42ce0af0-c389-415f-9f56-11f5240451c0\",\"type\":\"CDSView\"}},\"id\":\"7bad2c9e-2eb3-456f-9fea-445af61155e3\",\"type\":\"GlyphRenderer\"},{\"attributes\":{\"bottom_units\":\"screen\",\"fill_alpha\":{\"value\":0.5},\"fill_color\":{\"value\":\"lightgrey\"},\"left_units\":\"screen\",\"level\":\"overlay\",\"line_alpha\":{\"value\":1.0},\"line_color\":{\"value\":\"black\"},\"line_dash\":[4,4],\"line_width\":{\"value\":2},\"plot\":null,\"render_mode\":\"css\",\"right_units\":\"screen\",\"top_units\":\"screen\"},\"id\":\"f10b344c-d07b-4427-af6f-f099f0d7a514\",\"type\":\"BoxAnnotation\"},{\"attributes\":{\"below\":[{\"id\":\"aba1f369-fb17-4d49-bb6a-d7ababf56608\",\"type\":\"LinearAxis\"}],\"left\":[{\"id\":\"c0360d4f-4797-412a-8b01-9afe6cbcd756\",\"type\":\"LinearAxis\"}],\"renderers\":[{\"id\":\"aba1f369-fb17-4d49-bb6a-d7ababf56608\",\"type\":\"LinearAxis\"},{\"id\":\"4965a7bb-0606-4e63-830d-ac976bf55893\",\"type\":\"Grid\"},{\"id\":\"c0360d4f-4797-412a-8b01-9afe6cbcd756\",\"type\":\"LinearAxis\"},{\"id\":\"8c9400db-886d-471c-b748-b3cc6072cb12\",\"type\":\"Grid\"},{\"id\":\"f10b344c-d07b-4427-af6f-f099f0d7a514\",\"type\":\"BoxAnnotation\"},{\"id\":\"7bad2c9e-2eb3-456f-9fea-445af61155e3\",\"type\":\"GlyphRenderer\"}],\"title\":{\"id\":\"44a6772c-1d14-4df2-9551-8c560f697d33\",\"type\":\"Title\"},\"toolbar\":{\"id\":\"2f2066e7-3cca-4a11-a80a-3eca42656913\",\"type\":\"Toolbar\"},\"x_range\":{\"id\":\"f709f684-5ac8-47e1-969c-1436636ccaf1\",\"type\":\"Range1d\"},\"x_scale\":{\"id\":\"b27092b8-fa17-4942-ad57-e075e208cbb6\",\"type\":\"LinearScale\"},\"y_range\":{\"id\":\"606e7166-8c81-4ed1-98ba-631790925996\",\"type\":\"Range1d\"},\"y_scale\":{\"id\":\"0b5e375d-8b4c-4616-b5df-4ce3d04058fc\",\"type\":\"LinearScale\"}},\"id\":\"e105c11a-a9f0-4579-938d-e9850ffb4089\",\"subtype\":\"Figure\",\"type\":\"Plot\"},{\"attributes\":{},\"id\":\"94d8f2c7-0a33-4ab6-8fdb-aa5a0b24b093\",\"type\":\"PanTool\"},{\"attributes\":{\"active_drag\":\"auto\",\"active_inspect\":\"auto\",\"active_scroll\":\"auto\",\"active_tap\":\"auto\",\"tools\":[{\"id\":\"94d8f2c7-0a33-4ab6-8fdb-aa5a0b24b093\",\"type\":\"PanTool\"},{\"id\":\"288de47e-251e-4055-8683-f26d6c47dd3f\",\"type\":\"WheelZoomTool\"},{\"id\":\"12f7ed98-08b6-47f7-81b5-90b98f2ec1bc\",\"type\":\"BoxZoomTool\"},{\"id\":\"989f86e1-a45c-4422-8e3e-d152be093054\",\"type\":\"SaveTool\"},{\"id\":\"035220a2-8181-4d48-8db3-168f36985a24\",\"type\":\"ResetTool\"},{\"id\":\"3c843987-c6a9-4358-89ef-f3991bbbb53d\",\"type\":\"HelpTool\"}]},\"id\":\"2f2066e7-3cca-4a11-a80a-3eca42656913\",\"type\":\"Toolbar\"},{\"attributes\":{\"source\":{\"id\":\"314dee50-cfe9-40d8-9a23-8a4b5bba8d61\",\"type\":\"ColumnDataSource\"}},\"id\":\"42ce0af0-c389-415f-9f56-11f5240451c0\",\"type\":\"CDSView\"},{\"attributes\":{\"callback\":null,\"end\":10},\"id\":\"f709f684-5ac8-47e1-969c-1436636ccaf1\",\"type\":\"Range1d\"},{\"attributes\":{},\"id\":\"288de47e-251e-4055-8683-f26d6c47dd3f\",\"type\":\"WheelZoomTool\"},{\"attributes\":{\"overlay\":{\"id\":\"f10b344c-d07b-4427-af6f-f099f0d7a514\",\"type\":\"BoxAnnotation\"}},\"id\":\"12f7ed98-08b6-47f7-81b5-90b98f2ec1bc\",\"type\":\"BoxZoomTool\"},{\"attributes\":{\"callback\":null,\"end\":10},\"id\":\"606e7166-8c81-4ed1-98ba-631790925996\",\"type\":\"Range1d\"},{\"attributes\":{},\"id\":\"989f86e1-a45c-4422-8e3e-d152be093054\",\"type\":\"SaveTool\"},{\"attributes\":{},\"id\":\"b27092b8-fa17-4942-ad57-e075e208cbb6\",\"type\":\"LinearScale\"},{\"attributes\":{},\"id\":\"035220a2-8181-4d48-8db3-168f36985a24\",\"type\":\"ResetTool\"},{\"attributes\":{},\"id\":\"0b5e375d-8b4c-4616-b5df-4ce3d04058fc\",\"type\":\"LinearScale\"},{\"attributes\":{},\"id\":\"3c843987-c6a9-4358-89ef-f3991bbbb53d\",\"type\":\"HelpTool\"},{\"attributes\":{\"plot\":{\"id\":\"e105c11a-a9f0-4579-938d-e9850ffb4089\",\"subtype\":\"Figure\",\"type\":\"Plot\"},\"ticker\":{\"id\":\"341f17dd-d71f-4d70-acf3-bbf96f279fec\",\"type\":\"BasicTicker\"}},\"id\":\"4965a7bb-0606-4e63-830d-ac976bf55893\",\"type\":\"Grid\"},{\"attributes\":{},\"id\":\"8321d647-92e9-4da9-90b8-784aea57c319\",\"type\":\"BasicTickFormatter\"},{\"attributes\":{\"formatter\":{\"id\":\"0c1cd00c-5e13-4227-a3af-f73d5b3d11c2\",\"type\":\"BasicTickFormatter\"},\"plot\":{\"id\":\"e105c11a-a9f0-4579-938d-e9850ffb4089\",\"subtype\":\"Figure\",\"type\":\"Plot\"},\"ticker\":{\"id\":\"341f17dd-d71f-4d70-acf3-bbf96f279fec\",\"type\":\"BasicTicker\"}},\"id\":\"aba1f369-fb17-4d49-bb6a-d7ababf56608\",\"type\":\"LinearAxis\"},{\"attributes\":{},\"id\":\"0c1cd00c-5e13-4227-a3af-f73d5b3d11c2\",\"type\":\"BasicTickFormatter\"},{\"attributes\":{},\"id\":\"341f17dd-d71f-4d70-acf3-bbf96f279fec\",\"type\":\"BasicTicker\"},{\"attributes\":{\"plot\":null,\"text\":\"\"},\"id\":\"44a6772c-1d14-4df2-9551-8c560f697d33\",\"type\":\"Title\"}],\"root_ids\":[\"e105c11a-a9f0-4579-938d-e9850ffb4089\"]},\"title\":\"Bokeh Application\",\"version\":\"0.12.13\"}};\n",
       "  var render_items = [{\"docid\":\"ec00b5db-c15b-44a6-a104-691aaa965769\",\"elementid\":\"aefb877a-5a1c-4177-bca5-ce8ff6b62131\",\"modelid\":\"e105c11a-a9f0-4579-938d-e9850ffb4089\"}];\n",
       "  root.Bokeh.embed.embed_items_notebook(docs_json, render_items);\n",
       "\n",
       "  }\n",
       "  if (root.Bokeh !== undefined) {\n",
       "    embed_document(root);\n",
       "  } else {\n",
       "    var attempts = 0;\n",
       "    var timer = setInterval(function(root) {\n",
       "      if (root.Bokeh !== undefined) {\n",
       "        embed_document(root);\n",
       "        clearInterval(timer);\n",
       "      }\n",
       "      attempts++;\n",
       "      if (attempts > 100) {\n",
       "        console.log(\"Bokeh: ERROR: Unable to run BokehJS code because BokehJS library is missing\")\n",
       "        clearInterval(timer);\n",
       "      }\n",
       "    }, 10, root)\n",
       "  }\n",
       "})(window);"
      ],
      "application/vnd.bokehjs_exec.v0+json": ""
     },
     "metadata": {
      "application/vnd.bokehjs_exec.v0+json": {
       "id": "e105c11a-a9f0-4579-938d-e9850ffb4089"
      }
     },
     "output_type": "display_data"
    }
   ],
   "source": [
    "from __future__ import division\n",
    "import numpy as np\n",
    "\n",
    "# set up some data\n",
    "N = 20\n",
    "img = np.empty((N,N), dtype=np.uint32)\n",
    "view = img.view(dtype=np.uint8).reshape((N, N, 4))\n",
    "for i in range(N):\n",
    "    for j in range(N):\n",
    "        view[i, j, 0] = int(i/N*255) # red\n",
    "        view[i, j, 1] = 158          # green\n",
    "        view[i, j, 2] = int(j/N*255) # blue\n",
    "        view[i, j, 3] = 255          # alpha\n",
    "        \n",
    "# create a new plot (with a fixed range) using figure\n",
    "p = figure(x_range=[0,10], y_range=[0,10])\n",
    "\n",
    "# add an RGBA image renderer\n",
    "p.image_rgba(image=[img], x=[0], y=[0], dw=[10], dh=[10])\n",
    "\n",
    "show(p) # show the results"
   ]
  },
  {
   "cell_type": "markdown",
   "metadata": {},
   "source": [
    "# Other Kinds of Glyphs\n",
    "\n",
    "Bokeh supports many other kinds of glyphs. You can click on the User Guide links below to see how to create plots with these glyphs using the [`bokeh.plotting`](http://bokeh.pydata.org/en/latest/docs/user_guide/plotting.html) interface.\n",
    "\n",
    "* [Rectangles and Ovals](http://bokeh.pydata.org/en/latest/docs/user_guide/plotting.html#rectangles-and-ovals)\n",
    "* [Segments and Rays](http://bokeh.pydata.org/en/latest/docs/user_guide/plotting.html#segments-and-rays)\n",
    "* [Wedges and Arcs](http://bokeh.pydata.org/en/latest/docs/user_guide/plotting.html#wedges-and-arcs)\n",
    "* [Specialized Curves](http://bokeh.pydata.org/en/latest/docs/user_guide/plotting.html#specialized-curves)\n"
   ]
  },
  {
   "cell_type": "code",
   "execution_count": 9,
   "metadata": {},
   "outputs": [],
   "source": [
    "# EXERCISE: Plot some of the other glyph types, following the examples in the User Guide. \n",
    "\n"
   ]
  },
  {
   "cell_type": "markdown",
   "metadata": {},
   "source": [
    "# Plots with Multiple Glyphs \n",
    "\n",
    "It is possible to combine more than one glyph on a single figure. You just need to call multiple glyph methods on one figure object:"
   ]
  },
  {
   "cell_type": "code",
   "execution_count": 9,
   "metadata": {},
   "outputs": [
    {
     "data": {
      "text/html": [
       "\n",
       "<div class=\"bk-root\">\n",
       "    <div class=\"bk-plotdiv\" id=\"8495307b-3e85-425c-9c5d-daec64ea54f7\"></div>\n",
       "</div>"
      ]
     },
     "metadata": {},
     "output_type": "display_data"
    },
    {
     "data": {
      "application/javascript": [
       "(function(root) {\n",
       "  function embed_document(root) {\n",
       "    \n",
       "  var docs_json = {\"9daabf7f-717a-4ef5-969d-c35b1ef7338c\":{\"roots\":{\"references\":[{\"attributes\":{},\"id\":\"fed959cf-8588-4c2f-9a21-162f906316c1\",\"type\":\"BasicTickFormatter\"},{\"attributes\":{\"fill_alpha\":{\"value\":0.1},\"fill_color\":{\"value\":\"#1f77b4\"},\"line_alpha\":{\"value\":0.1},\"line_color\":{\"value\":\"#1f77b4\"},\"size\":{\"units\":\"screen\",\"value\":8},\"x\":{\"field\":\"x\"},\"y\":{\"field\":\"y\"}},\"id\":\"775b3386-2061-4892-bfba-76f8932e32c3\",\"type\":\"Circle\"},{\"attributes\":{\"dimension\":1,\"plot\":{\"id\":\"ed4b5f9a-fe04-470e-a3fa-c1035c4dc613\",\"subtype\":\"Figure\",\"type\":\"Plot\"},\"ticker\":{\"id\":\"1596ce0b-63e5-4893-baac-8dfcc6bf2d11\",\"type\":\"BasicTicker\"}},\"id\":\"e1274023-c615-428f-8c0e-92d5d11da453\",\"type\":\"Grid\"},{\"attributes\":{\"source\":{\"id\":\"afc41840-f962-47fb-9a2a-36bf6d0ca340\",\"type\":\"ColumnDataSource\"}},\"id\":\"de93d26d-ffee-4360-a77e-7b7f0d8f3a25\",\"type\":\"CDSView\"},{\"attributes\":{},\"id\":\"7abc27e0-2270-4948-8f73-0f1dfa8a782f\",\"type\":\"WheelZoomTool\"},{\"attributes\":{\"active_drag\":\"auto\",\"active_inspect\":\"auto\",\"active_scroll\":\"auto\",\"active_tap\":\"auto\",\"tools\":[{\"id\":\"c9e06071-12e1-421d-979d-f6de136c552f\",\"type\":\"PanTool\"},{\"id\":\"7abc27e0-2270-4948-8f73-0f1dfa8a782f\",\"type\":\"WheelZoomTool\"},{\"id\":\"85c088bf-c40c-4781-b832-c9df116cc0d1\",\"type\":\"BoxZoomTool\"},{\"id\":\"6986a9f1-f53a-45e1-ade7-d4268212ff7f\",\"type\":\"SaveTool\"},{\"id\":\"4d4ba7c6-0e5b-4e0a-a359-e61a658b1c74\",\"type\":\"ResetTool\"},{\"id\":\"a7539eaa-4517-4788-9561-b6e6d0e25257\",\"type\":\"HelpTool\"}]},\"id\":\"cc1b4c19-1720-46c9-8357-6c99a3930125\",\"type\":\"Toolbar\"},{\"attributes\":{},\"id\":\"1596ce0b-63e5-4893-baac-8dfcc6bf2d11\",\"type\":\"BasicTicker\"},{\"attributes\":{\"callback\":null,\"column_names\":[\"x\",\"y\"],\"data\":{\"x\":[1,2,3,4,5],\"y\":[6,7,8,7,3]}},\"id\":\"18d936a1-dd50-4f8d-9c54-2b02c6fc04eb\",\"type\":\"ColumnDataSource\"},{\"attributes\":{\"bottom_units\":\"screen\",\"fill_alpha\":{\"value\":0.5},\"fill_color\":{\"value\":\"lightgrey\"},\"left_units\":\"screen\",\"level\":\"overlay\",\"line_alpha\":{\"value\":1.0},\"line_color\":{\"value\":\"black\"},\"line_dash\":[4,4],\"line_width\":{\"value\":2},\"plot\":null,\"render_mode\":\"css\",\"right_units\":\"screen\",\"top_units\":\"screen\"},\"id\":\"d585820c-0ba9-41f7-b751-d20ecfd4e6e1\",\"type\":\"BoxAnnotation\"},{\"attributes\":{\"formatter\":{\"id\":\"fed959cf-8588-4c2f-9a21-162f906316c1\",\"type\":\"BasicTickFormatter\"},\"plot\":{\"id\":\"ed4b5f9a-fe04-470e-a3fa-c1035c4dc613\",\"subtype\":\"Figure\",\"type\":\"Plot\"},\"ticker\":{\"id\":\"87e708eb-9308-4d98-8366-45fc4045f84a\",\"type\":\"BasicTicker\"}},\"id\":\"0f4b3a72-1dc9-4bc6-8d5d-e09364bcc3f6\",\"type\":\"LinearAxis\"},{\"attributes\":{},\"id\":\"a7539eaa-4517-4788-9561-b6e6d0e25257\",\"type\":\"HelpTool\"},{\"attributes\":{},\"id\":\"87e708eb-9308-4d98-8366-45fc4045f84a\",\"type\":\"BasicTicker\"},{\"attributes\":{\"callback\":null},\"id\":\"ba72162f-32f8-4092-b5be-e7d71fa58c52\",\"type\":\"DataRange1d\"},{\"attributes\":{\"line_alpha\":0.1,\"line_color\":\"#1f77b4\",\"line_width\":2,\"x\":{\"field\":\"x\"},\"y\":{\"field\":\"y\"}},\"id\":\"3c8651a7-79bd-4a25-97aa-950dadb2736e\",\"type\":\"Line\"},{\"attributes\":{\"callback\":null,\"column_names\":[\"x\",\"y\"],\"data\":{\"x\":[1,2,3,4,5],\"y\":[6,7,8,7,3]}},\"id\":\"afc41840-f962-47fb-9a2a-36bf6d0ca340\",\"type\":\"ColumnDataSource\"},{\"attributes\":{\"data_source\":{\"id\":\"afc41840-f962-47fb-9a2a-36bf6d0ca340\",\"type\":\"ColumnDataSource\"},\"glyph\":{\"id\":\"2e14ad1b-a98e-48ac-bf81-af742879958d\",\"type\":\"Line\"},\"hover_glyph\":null,\"muted_glyph\":null,\"nonselection_glyph\":{\"id\":\"3c8651a7-79bd-4a25-97aa-950dadb2736e\",\"type\":\"Line\"},\"selection_glyph\":null,\"view\":{\"id\":\"de93d26d-ffee-4360-a77e-7b7f0d8f3a25\",\"type\":\"CDSView\"}},\"id\":\"7b60ca63-f014-43e9-ad29-00ee44f1c507\",\"type\":\"GlyphRenderer\"},{\"attributes\":{\"below\":[{\"id\":\"0f4b3a72-1dc9-4bc6-8d5d-e09364bcc3f6\",\"type\":\"LinearAxis\"}],\"left\":[{\"id\":\"2b4a50e9-77e9-4e3d-aeaa-74eb7edbebb5\",\"type\":\"LinearAxis\"}],\"plot_height\":400,\"plot_width\":400,\"renderers\":[{\"id\":\"0f4b3a72-1dc9-4bc6-8d5d-e09364bcc3f6\",\"type\":\"LinearAxis\"},{\"id\":\"60973a04-6b18-46c1-92d4-79d1e3e30e6d\",\"type\":\"Grid\"},{\"id\":\"2b4a50e9-77e9-4e3d-aeaa-74eb7edbebb5\",\"type\":\"LinearAxis\"},{\"id\":\"e1274023-c615-428f-8c0e-92d5d11da453\",\"type\":\"Grid\"},{\"id\":\"d585820c-0ba9-41f7-b751-d20ecfd4e6e1\",\"type\":\"BoxAnnotation\"},{\"id\":\"7b60ca63-f014-43e9-ad29-00ee44f1c507\",\"type\":\"GlyphRenderer\"},{\"id\":\"c93cfafa-4725-4235-b048-74e9f366ad9b\",\"type\":\"GlyphRenderer\"}],\"title\":{\"id\":\"de15139c-ad66-4a88-a06b-db5fe6a7f3c4\",\"type\":\"Title\"},\"toolbar\":{\"id\":\"cc1b4c19-1720-46c9-8357-6c99a3930125\",\"type\":\"Toolbar\"},\"x_range\":{\"id\":\"275b9183-689d-43d3-b99c-031d6f789f5a\",\"type\":\"DataRange1d\"},\"x_scale\":{\"id\":\"65cc9bdf-af35-4500-836b-5a104350ded8\",\"type\":\"LinearScale\"},\"y_range\":{\"id\":\"ba72162f-32f8-4092-b5be-e7d71fa58c52\",\"type\":\"DataRange1d\"},\"y_scale\":{\"id\":\"8cc3a8da-a3a4-47aa-a400-7803a2b44216\",\"type\":\"LinearScale\"}},\"id\":\"ed4b5f9a-fe04-470e-a3fa-c1035c4dc613\",\"subtype\":\"Figure\",\"type\":\"Plot\"},{\"attributes\":{},\"id\":\"6986a9f1-f53a-45e1-ade7-d4268212ff7f\",\"type\":\"SaveTool\"},{\"attributes\":{\"plot\":{\"id\":\"ed4b5f9a-fe04-470e-a3fa-c1035c4dc613\",\"subtype\":\"Figure\",\"type\":\"Plot\"},\"ticker\":{\"id\":\"87e708eb-9308-4d98-8366-45fc4045f84a\",\"type\":\"BasicTicker\"}},\"id\":\"60973a04-6b18-46c1-92d4-79d1e3e30e6d\",\"type\":\"Grid\"},{\"attributes\":{},\"id\":\"65cc9bdf-af35-4500-836b-5a104350ded8\",\"type\":\"LinearScale\"},{\"attributes\":{},\"id\":\"8cc3a8da-a3a4-47aa-a400-7803a2b44216\",\"type\":\"LinearScale\"},{\"attributes\":{\"fill_color\":{\"value\":\"white\"},\"line_color\":{\"value\":\"#1f77b4\"},\"size\":{\"units\":\"screen\",\"value\":8},\"x\":{\"field\":\"x\"},\"y\":{\"field\":\"y\"}},\"id\":\"05ec42eb-1efe-4476-849f-4fdf86345144\",\"type\":\"Circle\"},{\"attributes\":{\"overlay\":{\"id\":\"d585820c-0ba9-41f7-b751-d20ecfd4e6e1\",\"type\":\"BoxAnnotation\"}},\"id\":\"85c088bf-c40c-4781-b832-c9df116cc0d1\",\"type\":\"BoxZoomTool\"},{\"attributes\":{\"formatter\":{\"id\":\"879febd6-13f1-4c36-8480-bbdaa7b16315\",\"type\":\"BasicTickFormatter\"},\"plot\":{\"id\":\"ed4b5f9a-fe04-470e-a3fa-c1035c4dc613\",\"subtype\":\"Figure\",\"type\":\"Plot\"},\"ticker\":{\"id\":\"1596ce0b-63e5-4893-baac-8dfcc6bf2d11\",\"type\":\"BasicTicker\"}},\"id\":\"2b4a50e9-77e9-4e3d-aeaa-74eb7edbebb5\",\"type\":\"LinearAxis\"},{\"attributes\":{\"data_source\":{\"id\":\"18d936a1-dd50-4f8d-9c54-2b02c6fc04eb\",\"type\":\"ColumnDataSource\"},\"glyph\":{\"id\":\"05ec42eb-1efe-4476-849f-4fdf86345144\",\"type\":\"Circle\"},\"hover_glyph\":null,\"muted_glyph\":null,\"nonselection_glyph\":{\"id\":\"775b3386-2061-4892-bfba-76f8932e32c3\",\"type\":\"Circle\"},\"selection_glyph\":null,\"view\":{\"id\":\"81ce1e91-7fd7-44c5-89e7-0688697c6c73\",\"type\":\"CDSView\"}},\"id\":\"c93cfafa-4725-4235-b048-74e9f366ad9b\",\"type\":\"GlyphRenderer\"},{\"attributes\":{\"source\":{\"id\":\"18d936a1-dd50-4f8d-9c54-2b02c6fc04eb\",\"type\":\"ColumnDataSource\"}},\"id\":\"81ce1e91-7fd7-44c5-89e7-0688697c6c73\",\"type\":\"CDSView\"},{\"attributes\":{},\"id\":\"879febd6-13f1-4c36-8480-bbdaa7b16315\",\"type\":\"BasicTickFormatter\"},{\"attributes\":{\"callback\":null},\"id\":\"275b9183-689d-43d3-b99c-031d6f789f5a\",\"type\":\"DataRange1d\"},{\"attributes\":{\"plot\":null,\"text\":\"\"},\"id\":\"de15139c-ad66-4a88-a06b-db5fe6a7f3c4\",\"type\":\"Title\"},{\"attributes\":{},\"id\":\"4d4ba7c6-0e5b-4e0a-a359-e61a658b1c74\",\"type\":\"ResetTool\"},{\"attributes\":{},\"id\":\"c9e06071-12e1-421d-979d-f6de136c552f\",\"type\":\"PanTool\"},{\"attributes\":{\"line_color\":\"#1f77b4\",\"line_width\":2,\"x\":{\"field\":\"x\"},\"y\":{\"field\":\"y\"}},\"id\":\"2e14ad1b-a98e-48ac-bf81-af742879958d\",\"type\":\"Line\"}],\"root_ids\":[\"ed4b5f9a-fe04-470e-a3fa-c1035c4dc613\"]},\"title\":\"Bokeh Application\",\"version\":\"0.12.13\"}};\n",
       "  var render_items = [{\"docid\":\"9daabf7f-717a-4ef5-969d-c35b1ef7338c\",\"elementid\":\"8495307b-3e85-425c-9c5d-daec64ea54f7\",\"modelid\":\"ed4b5f9a-fe04-470e-a3fa-c1035c4dc613\"}];\n",
       "  root.Bokeh.embed.embed_items_notebook(docs_json, render_items);\n",
       "\n",
       "  }\n",
       "  if (root.Bokeh !== undefined) {\n",
       "    embed_document(root);\n",
       "  } else {\n",
       "    var attempts = 0;\n",
       "    var timer = setInterval(function(root) {\n",
       "      if (root.Bokeh !== undefined) {\n",
       "        embed_document(root);\n",
       "        clearInterval(timer);\n",
       "      }\n",
       "      attempts++;\n",
       "      if (attempts > 100) {\n",
       "        console.log(\"Bokeh: ERROR: Unable to run BokehJS code because BokehJS library is missing\")\n",
       "        clearInterval(timer);\n",
       "      }\n",
       "    }, 10, root)\n",
       "  }\n",
       "})(window);"
      ],
      "application/vnd.bokehjs_exec.v0+json": ""
     },
     "metadata": {
      "application/vnd.bokehjs_exec.v0+json": {
       "id": "ed4b5f9a-fe04-470e-a3fa-c1035c4dc613"
      }
     },
     "output_type": "display_data"
    }
   ],
   "source": [
    "# set up some data\n",
    "x = [1, 2, 3, 4, 5]\n",
    "y = [6, 7, 8, 7, 3]\n",
    "\n",
    "# create a new plot with figure\n",
    "p = figure(plot_width=400, plot_height=400)\n",
    "\n",
    "# add both a line and circles on the same plot\n",
    "p.line(x, y, line_width=2)\n",
    "p.circle(x, y, fill_color=\"white\", size=8)\n",
    "\n",
    "show(p) # show the results"
   ]
  },
  {
   "cell_type": "code",
   "execution_count": 11,
   "metadata": {
    "collapsed": true
   },
   "outputs": [],
   "source": [
    "# EXERCISE: create your own plot combining multiple glyphs together\n",
    "\n"
   ]
  }
 ],
 "metadata": {
  "anaconda-cloud": {},
  "kernelspec": {
   "display_name": "Python 3",
   "language": "python",
   "name": "python3"
  },
  "language_info": {
   "codemirror_mode": {
    "name": "ipython",
    "version": 3
   },
   "file_extension": ".py",
   "mimetype": "text/x-python",
   "name": "python",
   "nbconvert_exporter": "python",
   "pygments_lexer": "ipython3",
   "version": "3.6.4"
  }
 },
 "nbformat": 4,
 "nbformat_minor": 1
}
