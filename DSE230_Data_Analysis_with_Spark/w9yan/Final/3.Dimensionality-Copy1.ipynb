{
 "cells": [
  {
   "cell_type": "markdown",
   "metadata": {
    "run_control": {
     "frozen": false,
     "read_only": false
    }
   },
   "source": [
    "## Analysis of stock prices using PCA / Notebook 3\n",
    "\n",
    "In this notebook we will study the dimensionality of stock price sequences, and show that they lie between the 1D of smooth functions and 2D of rapidly varying functions.\n",
    "\n",
    "The mathematicians Manuel Mandelbrot and Richard Hudson wrote a book titled [The Misbehavior of Markets: A Fractal View of Financial Turbulence](https://www.amazon.com/gp/product/0465043577?ie=UTF8&tag=trivisonno-20&linkCode=as2&camp=1789&creative=9325&creativeASIN=0465043577).  In this book they demonstrate that financial sequences have a fractal dimension that is higher than one. In other words, the changes in stock prices are more similar to random walk, than to a smooth differentiable curve.\n",
    "\n",
    "In this notebook we will estimate the fractal dimension of sequences corresponding to the log of the price of a stock. We will do the same for some other, non-random sequences.\n",
    "\n",
    "We will use the [Box Counting](https://en.wikipedia.org/wiki/Box_counting) method to estimate the dimension."
   ]
  },
  {
   "cell_type": "markdown",
   "metadata": {
    "run_control": {
     "frozen": false,
     "read_only": false
    }
   },
   "source": [
    "### Box Counting\n",
    "For the sake of simplicity, lets start with a simple smooth curve corresoinding to $sin(x)$.\n",
    "Intuitively speaking, the dimension of this curve should be 1. Lets see how we measure that using box-counting.\n",
    "\n",
    "The idea is simple: we split the 2D plane into smaller and smaller rectangles and count the number of rectangles that touch the curve.  The gridlines in the figure below partition the figure into $16 \\times 16 = 256$ rectangles. The yellow shading corresponds the partition of the figure into $8 \\times 8$ rectangles. The green corresponds to the partition into $16\\times 16$ (which is the same as the grid), The blue and the red correspond to partitions into $32\\times32$ and $64 \\times 64$ respectively. You can see that as theboxes get smaller their number increases. \n",
    "\n",
    "![Sinusoid](figs/Sinusoid.BoxCount.png)\n",
    "\n",
    "The dimension is defined by the relation between the size of the cubes and the number of rectangle that touch the curve. More precisly, we say that the size of a rectangle in a $n \\times n$ partition is $\\epsilon=1/n$. We denote by $N(\\epsilon)$ the number of rectangles of size $\\epsilon$ that touch the curve. Then if $d$ is the dimension, the relationship between $N(\\epsilon)$ and $\\epsilon$ is \n",
    "$$\n",
    "N(\\epsilon) = \\frac{C}{\\epsilon^d}\n",
    "$$\n",
    "For some constant $C$\n",
    "\n",
    "Taking $\\log$s of both side we get \n",
    "$$\n",
    "(1)\\;\\;\\;\\;\\;\\;\\;\\;\\;\\;\\;\\;\\log N(\\epsilon) = \\log C + d \\log \\frac{1}{\\epsilon}\n",
    "$$\n",
    "\n",
    "We can use this equation to estimate $d$ as follows: let $\\epsilon_2 \\gg \\epsilon_1$ be two sizes that are far apart (say $\\epsilon_1=1/4$ and $\\epsilon_2=1/1024$), and let $N(\\epsilon_1),N(\\epsilon_2)$ be the corresponding box counts. Then by taking the difference between Equation (1) for the two sizes we get the estimate\n",
    "$$\n",
    "    d \\approx \\frac{\\log N(\\epsilon_1) - \\log N(\\epsilon_2)}{\\log \\epsilon_2- \\log \\epsilon_1}\n",
    "$$\n",
    "\n",
    "Note that this is an estimate, it depends on the particular values of $\\epsilon_1$ and $\\epsilon_2$. We can refer to it as the \"dimension\" if we get the same number for any choice of the two sizes (as well as other details sich as the extent of the function."
   ]
  },
  {
   "cell_type": "markdown",
   "metadata": {
    "run_control": {
     "frozen": false,
     "read_only": false
    }
   },
   "source": [
    "Here are similar figures for the seque \n",
    "![AMZN](figs/AMZN.BoxCount.png)\n",
    "\n",
    "![IBM](figs/IBM.BoxCount.png)\t\t"
   ]
  },
  {
   "cell_type": "code",
   "execution_count": 1,
   "metadata": {
    "run_control": {
     "frozen": false,
     "read_only": false
    }
   },
   "outputs": [
    {
     "name": "stdout",
     "output_type": "stream",
     "text": [
      "Populating the interactive namespace from numpy and matplotlib\n"
     ]
    }
   ],
   "source": [
    "import findspark\n",
    "findspark.init()\n",
    "from pyspark import SparkContext\n",
    "\n",
    "#sc.stop()\n",
    "sc = SparkContext(master=\"local[3]\")\n",
    "\n",
    "from pyspark.sql import *\n",
    "sqlContext = SQLContext(sc)\n",
    "\n",
    "%pylab inline\n",
    "\n",
    "import numpy as np\n"
   ]
  },
  {
   "cell_type": "code",
   "execution_count": 2,
   "metadata": {
    "run_control": {
     "frozen": false,
     "read_only": false
    }
   },
   "outputs": [
    {
     "data": {
      "text/plain": [
       "13422"
      ]
     },
     "execution_count": 2,
     "metadata": {},
     "output_type": "execute_result"
    }
   ],
   "source": [
    "df=sqlContext.read.csv('SP500.csv',header='true',inferSchema='true')\n",
    "df.count()"
   ]
  },
  {
   "cell_type": "code",
   "execution_count": 3,
   "metadata": {
    "run_control": {
     "frozen": false,
     "read_only": false
    }
   },
   "outputs": [
    {
     "data": {
      "text/plain": [
       "(['AGN', 'EOG', 'WLP', 'CPB', 'YUM', 'JWN', 'TAP', 'BWA', 'WM', 'SPG'], 476)"
      ]
     },
     "execution_count": 3,
     "metadata": {},
     "output_type": "execute_result"
    }
   ],
   "source": [
    "columns=df.columns\n",
    "col=[c for c in columns if '_P' in c]\n",
    "tickers=[a[:-2] for a in col]\n",
    "tickers[:10],len(tickers)"
   ]
  },
  {
   "cell_type": "code",
   "execution_count": 4,
   "metadata": {
    "collapsed": true,
    "run_control": {
     "frozen": false,
     "read_only": false
    }
   },
   "outputs": [],
   "source": [
    "def get_seq(ticker):\n",
    "    key=ticker+\"_P\"\n",
    "    L=df.select(key).collect()\n",
    "    L=[x[key] for x in L if not x[key] is None]\n",
    "    return L"
   ]
  },
  {
   "cell_type": "markdown",
   "metadata": {
    "run_control": {
     "frozen": false,
     "read_only": false
    }
   },
   "source": [
    "#### You can generate graphs like the ones below for your analysis of dimensionality on the stocks (recommended but not graded)\n",
    "![Graph for Analysing Stocks](figs/plots.png)"
   ]
  },
  {
   "cell_type": "code",
   "execution_count": 5,
   "metadata": {
    "collapsed": true,
    "run_control": {
     "frozen": false,
     "read_only": false
    }
   },
   "outputs": [],
   "source": [
    "pickleFile=\"Tester/Dimensionality.pkl\""
   ]
  },
  {
   "cell_type": "markdown",
   "metadata": {
    "run_control": {
     "frozen": false,
     "read_only": false
    }
   },
   "source": [
    "##  Exercise 1 -- Finding Dimension\n",
    "\n",
    "\n",
    "In this exercise, you will do the following:\n",
    "    * You will find the dimension for a particular ticker using its sequence of data\n",
    "\n",
    "######  <span style=\"color:blue\">Sample Input:</span>\n",
    "```python\n",
    "  \n",
    "dimension = Box_count([sequence of AAPL], 'AAPL')\n",
    "\n",
    "```\n",
    "######  <span style=\"color:magenta\">Sample Output:</span>\n",
    "dimension = 1.28"
   ]
  },
  {
   "cell_type": "code",
   "execution_count": 14,
   "metadata": {
    "run_control": {
     "frozen": false,
     "read_only": false
    }
   },
   "outputs": [
    {
     "data": {
      "image/png": "[encoded data removed]",
      "text/plain": [
       "<matplotlib.figure.Figure at 0x90609b0>"
      ]
     },
     "metadata": {},
     "output_type": "display_data"
    },
    {
     "data": {
      "text/plain": [
       "1.2416533660199585"
      ]
     },
     "execution_count": 14,
     "metadata": {},
     "output_type": "execute_result"
    }
   ],
   "source": [
    "# Method to find out the dimensionality of the sequence of a ticker\n",
    "def box_count_sequence(LL,ticker):\n",
    "    ## Your Implementation goes here\n",
    "    #from scipy.stats import linregress\n",
    "\n",
    "    dimension = 0.0\n",
    "    len_x = len(LL)\n",
    "    min_y,max_y = min(LL),max(LL)\n",
    "    len_y = max_y - min_y\n",
    "    box_counts = []\n",
    "    max_n = int(math.log(len_x,2)) - 1\n",
    "    epsilons = []\n",
    "    \n",
    "    for j in range(max_n):\n",
    "        n = pow(2,j)\n",
    "        epsilons.append(n)\n",
    "        box_count = 0\n",
    "        segment_x, segment_y = 1.0*len_x/n, 1.0*len_y/n\n",
    "        for i in range(n):\n",
    "            seg_start = int(i * segment_x)\n",
    "            seg_end = int((i+1) * segment_x) \n",
    "            y = LL[seg_start:seg_end]\n",
    "            min_y1, max_y1 = min(y), max(y)\n",
    "            box_start = floor((min_y1 - min_y) / segment_y)\n",
    "            box_end = ceil((max_y1 - min_y) / segment_y)\n",
    "            box_count += (box_end - box_start)\n",
    "            #print i,box_start,box_end,box_count\n",
    "        box_counts.append(box_count)\n",
    "\n",
    "    return (epsilons,box_counts)\n",
    "    \n",
    "def Box_count(LL,ticker):\n",
    "    ## Your Implementation goes here\n",
    "    #from scipy.stats import linregress\n",
    "    epsilons,box_counts = box_count_sequence(LL, ticker)\n",
    "\n",
    "    #dimension = linregress(np.log(epsilons),np.log(box_counts)).slope\n",
    "    dimension = (np.log(box_counts[-1]) - np.log(box_counts[1])) / (np.log(epsilons[-1]) - np.log(epsilons[1]))\n",
    "    return dimension\n",
    "\n",
    "prices = get_seq('IBM')\n",
    "epsilons,box_counts = box_count_sequence(prices, 'IBM')\n",
    "\n",
    "plt.figure(figsize=(14,5))\n",
    "plt.subplot(1,2,1)\n",
    "plt.title('price history of IBM')\n",
    "plt.grid()\n",
    "plt.plot(np.log(prices))\n",
    "plt.subplot(1,2,2)\n",
    "plt.title('Box count for IBM')\n",
    "plt.plot(np.log(epsilons),np.log(box_counts))\n",
    "plt.grid()\n",
    "plt.show()\n",
    "\n",
    "aapl = get_seq('AAPL')\n",
    "Box_count(aapl, 'AAPL')\n"
   ]
  },
  {
   "cell_type": "markdown",
   "metadata": {
    "run_control": {
     "frozen": false,
     "read_only": false
    }
   },
   "source": [
    "### Test Cases for Finding Dimension"
   ]
  },
  {
   "cell_type": "code",
   "execution_count": 15,
   "metadata": {
    "deletable": false,
    "editable": false,
    "nbgrader": {
     "checksum": "d99972dfbe4d72df28713f39fadca88b",
     "grade": true,
     "grade_id": "t1",
     "locked": true,
     "points": 1,
     "schema_version": 1,
     "solution": false
    },
    "run_control": {
     "frozen": false,
     "read_only": false
    }
   },
   "outputs": [
    {
     "name": "stdout",
     "output_type": "stream",
     "text": [
      "Input: sequence 1\n",
      "Correct Output: 0.988354081412\n",
      "Great Job!\n",
      "\n"
     ]
    }
   ],
   "source": [
    "import Tester.Dimensionality as Dimensionality\n",
    "Dimensionality.exercise_1(pickleFile, Box_count)"
   ]
  },
  {
   "cell_type": "code",
   "execution_count": 16,
   "metadata": {
    "deletable": false,
    "editable": false,
    "nbgrader": {
     "checksum": "16b144508c6b3857967ba9e60aab9d4d",
     "grade": true,
     "grade_id": "t2",
     "locked": true,
     "points": 1,
     "schema_version": 1,
     "solution": false
    },
    "run_control": {
     "frozen": false,
     "read_only": false
    }
   },
   "outputs": [
    {
     "name": "stdout",
     "output_type": "stream",
     "text": [
      "Input: sequence 2\n",
      "Correct Output: 1.98760591825\n",
      "Great Job!\n",
      "\n"
     ]
    }
   ],
   "source": [
    "import Tester.Dimensionality as Dimensionality\n",
    "Dimensionality.exercise_2(pickleFile, Box_count)"
   ]
  },
  {
   "cell_type": "code",
   "execution_count": 17,
   "metadata": {
    "deletable": false,
    "editable": false,
    "nbgrader": {
     "checksum": "4247d786a6ca92da93bc8152f1ef02e5",
     "grade": true,
     "grade_id": "t3",
     "locked": true,
     "points": 1,
     "schema_version": 1,
     "solution": false
    },
    "run_control": {
     "frozen": false,
     "read_only": false
    }
   },
   "outputs": [
    {
     "name": "stdout",
     "output_type": "stream",
     "text": [
      "Input: sequence 3\n",
      "Correct Output: 1.34156643681\n",
      "Great Job!\n",
      "\n"
     ]
    }
   ],
   "source": [
    "import Tester.Dimensionality as Dimensionality\n",
    "Dimensionality.exercise_3(pickleFile, Box_count)"
   ]
  },
  {
   "cell_type": "code",
   "execution_count": null,
   "metadata": {
    "collapsed": true,
    "run_control": {
     "frozen": false,
     "read_only": false
    }
   },
   "outputs": [],
   "source": []
  }
 ],
 "metadata": {
  "anaconda-cloud": {},
  "kernelspec": {
   "display_name": "Python [Root]",
   "language": "python",
   "name": "Python [Root]"
  },
  "language_info": {
   "codemirror_mode": {
    "name": "ipython",
    "version": 2
   },
   "file_extension": ".py",
   "mimetype": "text/x-python",
   "name": "python",
   "nbconvert_exporter": "python",
   "pygments_lexer": "ipython2",
   "version": "2.7.13"
  },
  "toc": {
   "colors": {
    "hover_highlight": "#DAA520",
    "running_highlight": "#FF0000",
    "selected_highlight": "#FFD700"
   },
   "moveMenuLeft": true,
   "nav_menu": {
    "height": "12px",
    "width": "252px"
   },
   "navigate_menu": true,
   "number_sections": true,
   "sideBar": true,
   "threshold": 4,
   "toc_cell": false,
   "toc_section_display": "block",
   "toc_window_display": true,
   "widenNotebook": false
  }
 },
 "nbformat": 4,
 "nbformat_minor": 2
}
